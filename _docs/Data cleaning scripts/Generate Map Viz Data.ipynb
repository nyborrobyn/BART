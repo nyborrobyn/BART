{
 "metadata": {
  "name": ""
 },
 "nbformat": 3,
 "nbformat_minor": 0,
 "worksheets": [
  {
   "cells": [
    {
     "cell_type": "markdown",
     "metadata": {},
     "source": [
      "#Hand manuplation of data\n",
      "- File names upadated to <month> <year>.xlsx\n",
      "- West Dublin(WD) column and row removed"
     ]
    },
    {
     "cell_type": "markdown",
     "metadata": {},
     "source": [
      "# Read XLS files"
     ]
    },
    {
     "cell_type": "code",
     "collapsed": false,
     "input": [
      "from openpyxl import load_workbook\n",
      "import csv\n",
      "import json\n",
      "import os"
     ],
     "language": "python",
     "metadata": {},
     "outputs": [],
     "prompt_number": 70
    },
    {
     "cell_type": "code",
     "collapsed": false,
     "input": [
      "months = [\"January\",\"February\",\"March\",\"April\",\"May\",\"June\",\"July\",\"August\",\"September\",\"October\",\"November\",\"December\"]\n",
      "years = ['2013','2012','2011','2010','2009','2008','2007','2006']\n",
      "\n",
      "station_graph = {\"WP\": [\"NC\"],\n",
      "  \"NC\": [\"WP\",\"CN\"],\n",
      "  \"CN\": [\"NC\",\"PH\"],\n",
      "  \"PH\":[\"CN\",\"WC\"],\n",
      "  \"WC\":[\"LF\",\"PH\"],\n",
      "  \"LF\":[\"WC\",\"OR\"],\n",
      "  \"OR\":[\"LF\",\"RR\"],\n",
      "  \"RR\":[\"OR\",\"MA\"],\n",
      "  \"MA\":[\"RR\",\"AS\",\"19\"],\n",
      "  \"AS\":[\"MA\",\"BK\"],\n",
      "  \"BK\":[\"NB\",\"AS\"],\n",
      "  \"NB\":[\"BK\",\"EP\"],\n",
      "  \"EP\":[\"NB\",\"EN\"],\n",
      "  \"EN\":[\"EP\",\"RM\"],\n",
      "  \"RM\":[\"EN\"],\n",
      "  \"19\":[\"MA\",\"12\"],\n",
      "  \"12\":[\"19\",\"OW\",\"LM\"],\n",
      "  \"OW\":[\"12\",\"LM\",\"EM\"],\n",
      "  \"EM\":[\"OW\",\"MT\"],\n",
      "  \"MT\":[\"EM\",\"PL\"],\n",
      "  \"PL\":[\"MT\",\"CC\"],\n",
      "  \"CC\":[\"PL\",\"16\"],\n",
      "  \"16\":[\"CC\",\"24\"],\n",
      "  \"24\":[\"16\",\"GP\"],\n",
      "  \"GP\":[\"BP\",\"24\"],\n",
      "  \"BP\":[\"GP\",\"DC\"],\n",
      "  \"DC\":[\"BP\",\"CM\"],\n",
      "  \"CM\":[\"DC\",\"SS\"],\n",
      "  \"SS\":[\"CM\",\"SB\"],\n",
      "  \"SB\":[\"MB\",\"SS\",\"SO\"],\n",
      "  \"MB\":[\"SB\"],\n",
      "  \"SO\":[\"SB\"],\n",
      "  \"LM\":[\"12\",\"OW\",\"FV\"],\n",
      "  \"FV\":[\"LM\",\"CL\"],\n",
      "  \"CL\":[\"FV\",\"SL\"],\n",
      "  \"SL\":[\"CL\",\"BF\"],\n",
      "  \"BF\":[\"SL\",\"HY\",\"CV\"],\n",
      "  \"CV\":[\"BF\",\"ED\"],\n",
      "  \"ED\":[\"CV\"],\n",
      "  \"HY\":[\"BF\",\"SH\"],\n",
      "  \"SH\":[\"HY\",\"UC\"],\n",
      "  \"UC\":[\"SH\",\"FM\"],\n",
      "  \"FM\":[\"UC\"]\n",
      "}\n",
      "\n",
      "edge_ids = ['12_19', '12_LM', '12_OW', '16_24', '16_CC', '19_MA', '24_GP', 'AS_BK', 'AS_MA', 'BF_CV', 'BF_HY', 'BF_SL', 'BK_NB', 'BP_DC', 'BP_GP', 'CC_PL', 'CL_FV', 'CL_SL', 'CM_DC', 'CM_SS', 'CN_NC', 'CN_PH', 'CV_ED', 'EM_MT', 'EM_OW', 'EN_EP', 'EN_RM', 'EP_NB', 'FM_UC', 'FV_LM', 'HY_SH', 'LF_OR', 'LF_WC', 'LM_OW', 'MA_RR', 'MB_SB', 'MB_SO', 'MT_PL', 'NC_WP', 'OR_RR', 'PH_WC', 'SB_SO', 'SB_SS', 'SH_UC']\n",
      "\n",
      "edges_mapping = dict()\n",
      "# structure: {<source_station>: {<edge_name>: <station_name>}}\n",
      "station_column_in_excel_file = {'RM':'B','EN':'C','EP':'D','NB':'E','BK':'F','AS':'G','MA':'H','19':'I','12':'J','LM':'K','FV':'L','CL':'M','SL':'N','BF':'O','HY':'P','SH':'Q','UC':'R','FM':'S','CN':'T','PH':'U','WC':'V','LF':'W','OR':'X','RR':'Y','OW':'Z','EM':'AA','MT':'AB','PL':'AC','CC':'AD','16':'AE','24':'AF','GP':'AG','BP':'AH','DC':'AI','CM':'AJ','CV':'AK','ED':'AL','NC':'AM','WP':'AN','SS':'AO','SB':'AP','SO':'AQ','MB':'AR'}\n",
      "station_list = station_column_in_excel_file.keys()"
     ],
     "language": "python",
     "metadata": {},
     "outputs": [],
     "prompt_number": 47
    },
    {
     "cell_type": "code",
     "collapsed": false,
     "input": [
      "len(station_list)"
     ],
     "language": "python",
     "metadata": {},
     "outputs": [
      {
       "metadata": {},
       "output_type": "pyout",
       "prompt_number": 48,
       "text": [
        "43"
       ]
      }
     ],
     "prompt_number": 48
    },
    {
     "cell_type": "code",
     "collapsed": false,
     "input": [
      "\"\"\" Generate edge mapping \"\"\"\n",
      "station_legs_mapping_file = 'station-leg-mapping.csv'\n",
      "temp_station_index = list()\n",
      "\n",
      "with open(station_legs_mapping_file, \"rb\") as csv_file:\n",
      "    data_reader = csv.reader(csv_file)\n",
      "    i = 0\n",
      "    for row in data_reader:\n",
      "        if i == 0:\n",
      "            temp_station_index = row[1:]\n",
      "        else:\n",
      "            source_st_id = row[0]\n",
      "            keys = row[1:]\n",
      "            edges_mapping[source_st_id] = dict(zip(keys, temp_station_index))\n",
      "        i += 1\n"
     ],
     "language": "python",
     "metadata": {},
     "outputs": [],
     "prompt_number": 49
    },
    {
     "cell_type": "code",
     "collapsed": false,
     "input": [
      "edges_mapping"
     ],
     "language": "python",
     "metadata": {},
     "outputs": [
      {
       "metadata": {},
       "output_type": "pyout",
       "prompt_number": 50,
       "text": [
        "{'12': {'0': '12',\n",
        "  '12_19': '19',\n",
        "  '12_LM': 'LM',\n",
        "  '12_OW': 'OW',\n",
        "  '16_24': '24',\n",
        "  '16_CC': '16',\n",
        "  '19_MA': 'MA',\n",
        "  '24_GP': 'GP',\n",
        "  'AS_BK': 'BK',\n",
        "  'AS_MA': 'AS',\n",
        "  'BF_CV': 'CV',\n",
        "  'BF_HY': 'HY',\n",
        "  'BF_SL': 'BF',\n",
        "  'BK_NB': 'NB',\n",
        "  'BP_DC': 'DC',\n",
        "  'BP_GP': 'BP',\n",
        "  'CC_PL': 'CC',\n",
        "  'CL_FV': 'CL',\n",
        "  'CL_SL': 'SL',\n",
        "  'CM_DC': 'CM',\n",
        "  'CM_SS': 'SS',\n",
        "  'CN_NC': 'NC',\n",
        "  'CN_PH': 'CN',\n",
        "  'CV_ED': 'ED',\n",
        "  'EM_MT': 'MT',\n",
        "  'EM_OW': 'EM',\n",
        "  'EN_EP': 'EN',\n",
        "  'EN_RM': 'RM',\n",
        "  'EP_NB': 'EP',\n",
        "  'FM_UC': 'FM',\n",
        "  'FV_LM': 'FV',\n",
        "  'HY_SH': 'SH',\n",
        "  'LF_OR': 'LF',\n",
        "  'LF_WC': 'WC',\n",
        "  'MA_RR': 'RR',\n",
        "  'MB_SB': 'MB',\n",
        "  'MT_PL': 'PL',\n",
        "  'NC_WP': 'WP',\n",
        "  'OR_RR': 'OR',\n",
        "  'PH_WC': 'PH',\n",
        "  'SB_SO': 'SO',\n",
        "  'SB_SS': 'SB',\n",
        "  'SH_UC': 'UC'},\n",
        " '16': {'0': '16',\n",
        "  '12_19': '19',\n",
        "  '12_OW': '12',\n",
        "  '16_24': '24',\n",
        "  '16_CC': 'CC',\n",
        "  '19_MA': 'MA',\n",
        "  '24_GP': 'GP',\n",
        "  'AS_BK': 'BK',\n",
        "  'AS_MA': 'AS',\n",
        "  'BF_CV': 'CV',\n",
        "  'BF_HY': 'HY',\n",
        "  'BF_SL': 'BF',\n",
        "  'BK_NB': 'NB',\n",
        "  'BP_DC': 'DC',\n",
        "  'BP_GP': 'BP',\n",
        "  'CC_PL': 'PL',\n",
        "  'CL_FV': 'CL',\n",
        "  'CL_SL': 'SL',\n",
        "  'CM_DC': 'CM',\n",
        "  'CM_SS': 'SS',\n",
        "  'CN_NC': 'NC',\n",
        "  'CN_PH': 'CN',\n",
        "  'CV_ED': 'ED',\n",
        "  'EM_MT': 'EM',\n",
        "  'EM_OW': 'OW',\n",
        "  'EN_EP': 'EN',\n",
        "  'EN_RM': 'RM',\n",
        "  'EP_NB': 'EP',\n",
        "  'FM_UC': 'FM',\n",
        "  'FV_LM': 'FV',\n",
        "  'HY_SH': 'SH',\n",
        "  'LF_OR': 'LF',\n",
        "  'LF_WC': 'WC',\n",
        "  'LM_OW': 'LM',\n",
        "  'MA_RR': 'RR',\n",
        "  'MB_SB': 'MB',\n",
        "  'MT_PL': 'MT',\n",
        "  'NC_WP': 'WP',\n",
        "  'OR_RR': 'OR',\n",
        "  'PH_WC': 'PH',\n",
        "  'SB_SO': 'SO',\n",
        "  'SB_SS': 'SB',\n",
        "  'SH_UC': 'UC'},\n",
        " '19': {'0': '19',\n",
        "  '12_19': '12',\n",
        "  '12_LM': 'LM',\n",
        "  '12_OW': 'OW',\n",
        "  '16_24': '24',\n",
        "  '16_CC': '16',\n",
        "  '19_MA': 'MA',\n",
        "  '24_GP': 'GP',\n",
        "  'AS_BK': 'BK',\n",
        "  'AS_MA': 'AS',\n",
        "  'BF_CV': 'CV',\n",
        "  'BF_HY': 'HY',\n",
        "  'BF_SL': 'BF',\n",
        "  'BK_NB': 'NB',\n",
        "  'BP_DC': 'DC',\n",
        "  'BP_GP': 'BP',\n",
        "  'CC_PL': 'CC',\n",
        "  'CL_FV': 'CL',\n",
        "  'CL_SL': 'SL',\n",
        "  'CM_DC': 'CM',\n",
        "  'CM_SS': 'SS',\n",
        "  'CN_NC': 'NC',\n",
        "  'CN_PH': 'CN',\n",
        "  'CV_ED': 'ED',\n",
        "  'EM_MT': 'MT',\n",
        "  'EM_OW': 'EM',\n",
        "  'EN_EP': 'EN',\n",
        "  'EN_RM': 'RM',\n",
        "  'EP_NB': 'EP',\n",
        "  'FM_UC': 'FM',\n",
        "  'FV_LM': 'FV',\n",
        "  'HY_SH': 'SH',\n",
        "  'LF_OR': 'LF',\n",
        "  'LF_WC': 'WC',\n",
        "  'MA_RR': 'RR',\n",
        "  'MB_SB': 'MB',\n",
        "  'MT_PL': 'PL',\n",
        "  'NC_WP': 'WP',\n",
        "  'OR_RR': 'OR',\n",
        "  'PH_WC': 'PH',\n",
        "  'SB_SO': 'SO',\n",
        "  'SB_SS': 'SB',\n",
        "  'SH_UC': 'UC'},\n",
        " '24': {'0': '24',\n",
        "  '12_19': '19',\n",
        "  '12_OW': '12',\n",
        "  '16_24': '16',\n",
        "  '16_CC': 'CC',\n",
        "  '19_MA': 'MA',\n",
        "  '24_GP': 'GP',\n",
        "  'AS_BK': 'BK',\n",
        "  'AS_MA': 'AS',\n",
        "  'BF_CV': 'CV',\n",
        "  'BF_HY': 'HY',\n",
        "  'BF_SL': 'BF',\n",
        "  'BK_NB': 'NB',\n",
        "  'BP_DC': 'DC',\n",
        "  'BP_GP': 'BP',\n",
        "  'CC_PL': 'PL',\n",
        "  'CL_FV': 'CL',\n",
        "  'CL_SL': 'SL',\n",
        "  'CM_DC': 'CM',\n",
        "  'CM_SS': 'SS',\n",
        "  'CN_NC': 'NC',\n",
        "  'CN_PH': 'CN',\n",
        "  'CV_ED': 'ED',\n",
        "  'EM_MT': 'EM',\n",
        "  'EM_OW': 'OW',\n",
        "  'EN_EP': 'EN',\n",
        "  'EN_RM': 'RM',\n",
        "  'EP_NB': 'EP',\n",
        "  'FM_UC': 'FM',\n",
        "  'FV_LM': 'FV',\n",
        "  'HY_SH': 'SH',\n",
        "  'LF_OR': 'LF',\n",
        "  'LF_WC': 'WC',\n",
        "  'LM_OW': 'LM',\n",
        "  'MA_RR': 'RR',\n",
        "  'MB_SB': 'MB',\n",
        "  'MT_PL': 'MT',\n",
        "  'NC_WP': 'WP',\n",
        "  'OR_RR': 'OR',\n",
        "  'PH_WC': 'PH',\n",
        "  'SB_SO': 'SO',\n",
        "  'SB_SS': 'SB',\n",
        "  'SH_UC': 'UC'},\n",
        " 'AS': {'0': 'AS',\n",
        "  '12_19': '12',\n",
        "  '12_LM': 'LM',\n",
        "  '12_OW': 'OW',\n",
        "  '16_24': '24',\n",
        "  '16_CC': '16',\n",
        "  '19_MA': '19',\n",
        "  '24_GP': 'GP',\n",
        "  'AS_BK': 'BK',\n",
        "  'AS_MA': 'MA',\n",
        "  'BF_CV': 'CV',\n",
        "  'BF_HY': 'HY',\n",
        "  'BF_SL': 'BF',\n",
        "  'BK_NB': 'NB',\n",
        "  'BP_DC': 'DC',\n",
        "  'BP_GP': 'BP',\n",
        "  'CC_PL': 'CC',\n",
        "  'CL_FV': 'CL',\n",
        "  'CL_SL': 'SL',\n",
        "  'CM_DC': 'CM',\n",
        "  'CM_SS': 'SS',\n",
        "  'CN_NC': 'NC',\n",
        "  'CN_PH': 'CN',\n",
        "  'CV_ED': 'ED',\n",
        "  'EM_MT': 'MT',\n",
        "  'EM_OW': 'EM',\n",
        "  'EN_EP': 'EN',\n",
        "  'EN_RM': 'RM',\n",
        "  'EP_NB': 'EP',\n",
        "  'FM_UC': 'FM',\n",
        "  'FV_LM': 'FV',\n",
        "  'HY_SH': 'SH',\n",
        "  'LF_OR': 'LF',\n",
        "  'LF_WC': 'WC',\n",
        "  'MA_RR': 'RR',\n",
        "  'MB_SB': 'MB',\n",
        "  'MT_PL': 'PL',\n",
        "  'NC_WP': 'WP',\n",
        "  'OR_RR': 'OR',\n",
        "  'PH_WC': 'PH',\n",
        "  'SB_SO': 'SO',\n",
        "  'SB_SS': 'SB',\n",
        "  'SH_UC': 'UC'},\n",
        " 'BF': {'0': 'BF',\n",
        "  '12_19': '19',\n",
        "  '12_LM': '12',\n",
        "  '16_24': '24',\n",
        "  '16_CC': '16',\n",
        "  '19_MA': 'MA',\n",
        "  '24_GP': 'GP',\n",
        "  'AS_BK': 'BK',\n",
        "  'AS_MA': 'AS',\n",
        "  'BF_CV': 'CV',\n",
        "  'BF_HY': 'HY',\n",
        "  'BF_SL': 'SL',\n",
        "  'BK_NB': 'NB',\n",
        "  'BP_DC': 'DC',\n",
        "  'BP_GP': 'BP',\n",
        "  'CC_PL': 'CC',\n",
        "  'CL_FV': 'FV',\n",
        "  'CL_SL': 'CL',\n",
        "  'CM_DC': 'CM',\n",
        "  'CM_SS': 'SS',\n",
        "  'CN_NC': 'NC',\n",
        "  'CN_PH': 'CN',\n",
        "  'CV_ED': 'ED',\n",
        "  'EM_MT': 'MT',\n",
        "  'EM_OW': 'EM',\n",
        "  'EN_EP': 'EN',\n",
        "  'EN_RM': 'RM',\n",
        "  'EP_NB': 'EP',\n",
        "  'FM_UC': 'FM',\n",
        "  'FV_LM': 'LM',\n",
        "  'HY_SH': 'SH',\n",
        "  'LF_OR': 'LF',\n",
        "  'LF_WC': 'WC',\n",
        "  'LM_OW': 'OW',\n",
        "  'MA_RR': 'RR',\n",
        "  'MB_SB': 'MB',\n",
        "  'MT_PL': 'PL',\n",
        "  'NC_WP': 'WP',\n",
        "  'OR_RR': 'OR',\n",
        "  'PH_WC': 'PH',\n",
        "  'SB_SO': 'SO',\n",
        "  'SB_SS': 'SB',\n",
        "  'SH_UC': 'UC'},\n",
        " 'BK': {'0': 'BK',\n",
        "  '12_19': '12',\n",
        "  '12_LM': 'LM',\n",
        "  '12_OW': 'OW',\n",
        "  '16_24': '24',\n",
        "  '16_CC': '16',\n",
        "  '19_MA': '19',\n",
        "  '24_GP': 'GP',\n",
        "  'AS_BK': 'AS',\n",
        "  'AS_MA': 'MA',\n",
        "  'BF_CV': 'CV',\n",
        "  'BF_HY': 'HY',\n",
        "  'BF_SL': 'BF',\n",
        "  'BK_NB': 'NB',\n",
        "  'BP_DC': 'DC',\n",
        "  'BP_GP': 'BP',\n",
        "  'CC_PL': 'CC',\n",
        "  'CL_FV': 'CL',\n",
        "  'CL_SL': 'SL',\n",
        "  'CM_DC': 'CM',\n",
        "  'CM_SS': 'SS',\n",
        "  'CN_NC': 'NC',\n",
        "  'CN_PH': 'CN',\n",
        "  'CV_ED': 'ED',\n",
        "  'EM_MT': 'MT',\n",
        "  'EM_OW': 'EM',\n",
        "  'EN_EP': 'EN',\n",
        "  'EN_RM': 'RM',\n",
        "  'EP_NB': 'EP',\n",
        "  'FM_UC': 'FM',\n",
        "  'FV_LM': 'FV',\n",
        "  'HY_SH': 'SH',\n",
        "  'LF_OR': 'LF',\n",
        "  'LF_WC': 'WC',\n",
        "  'MA_RR': 'RR',\n",
        "  'MB_SB': 'MB',\n",
        "  'MT_PL': 'PL',\n",
        "  'NC_WP': 'WP',\n",
        "  'OR_RR': 'OR',\n",
        "  'PH_WC': 'PH',\n",
        "  'SB_SO': 'SO',\n",
        "  'SB_SS': 'SB',\n",
        "  'SH_UC': 'UC'},\n",
        " 'BP': {'0': 'BP',\n",
        "  '12_19': '19',\n",
        "  '12_OW': '12',\n",
        "  '16_24': '16',\n",
        "  '16_CC': 'CC',\n",
        "  '19_MA': 'MA',\n",
        "  '24_GP': '24',\n",
        "  'AS_BK': 'BK',\n",
        "  'AS_MA': 'AS',\n",
        "  'BF_CV': 'CV',\n",
        "  'BF_HY': 'HY',\n",
        "  'BF_SL': 'BF',\n",
        "  'BK_NB': 'NB',\n",
        "  'BP_DC': 'DC',\n",
        "  'BP_GP': 'GP',\n",
        "  'CC_PL': 'PL',\n",
        "  'CL_FV': 'CL',\n",
        "  'CL_SL': 'SL',\n",
        "  'CM_DC': 'CM',\n",
        "  'CM_SS': 'SS',\n",
        "  'CN_NC': 'NC',\n",
        "  'CN_PH': 'CN',\n",
        "  'CV_ED': 'ED',\n",
        "  'EM_MT': 'EM',\n",
        "  'EM_OW': 'OW',\n",
        "  'EN_EP': 'EN',\n",
        "  'EN_RM': 'RM',\n",
        "  'EP_NB': 'EP',\n",
        "  'FM_UC': 'FM',\n",
        "  'FV_LM': 'FV',\n",
        "  'HY_SH': 'SH',\n",
        "  'LF_OR': 'LF',\n",
        "  'LF_WC': 'WC',\n",
        "  'LM_OW': 'LM',\n",
        "  'MA_RR': 'RR',\n",
        "  'MB_SB': 'MB',\n",
        "  'MT_PL': 'MT',\n",
        "  'NC_WP': 'WP',\n",
        "  'OR_RR': 'OR',\n",
        "  'PH_WC': 'PH',\n",
        "  'SB_SO': 'SO',\n",
        "  'SB_SS': 'SB',\n",
        "  'SH_UC': 'UC'},\n",
        " 'CC': {'0': 'CC',\n",
        "  '12_19': '19',\n",
        "  '12_OW': '12',\n",
        "  '16_24': '24',\n",
        "  '16_CC': '16',\n",
        "  '19_MA': 'MA',\n",
        "  '24_GP': 'GP',\n",
        "  'AS_BK': 'BK',\n",
        "  'AS_MA': 'AS',\n",
        "  'BF_CV': 'CV',\n",
        "  'BF_HY': 'HY',\n",
        "  'BF_SL': 'BF',\n",
        "  'BK_NB': 'NB',\n",
        "  'BP_DC': 'DC',\n",
        "  'BP_GP': 'BP',\n",
        "  'CC_PL': 'PL',\n",
        "  'CL_FV': 'CL',\n",
        "  'CL_SL': 'SL',\n",
        "  'CM_DC': 'CM',\n",
        "  'CM_SS': 'SS',\n",
        "  'CN_NC': 'NC',\n",
        "  'CN_PH': 'CN',\n",
        "  'CV_ED': 'ED',\n",
        "  'EM_MT': 'EM',\n",
        "  'EM_OW': 'OW',\n",
        "  'EN_EP': 'EN',\n",
        "  'EN_RM': 'RM',\n",
        "  'EP_NB': 'EP',\n",
        "  'FM_UC': 'FM',\n",
        "  'FV_LM': 'FV',\n",
        "  'HY_SH': 'SH',\n",
        "  'LF_OR': 'LF',\n",
        "  'LF_WC': 'WC',\n",
        "  'LM_OW': 'LM',\n",
        "  'MA_RR': 'RR',\n",
        "  'MB_SB': 'MB',\n",
        "  'MT_PL': 'MT',\n",
        "  'NC_WP': 'WP',\n",
        "  'OR_RR': 'OR',\n",
        "  'PH_WC': 'PH',\n",
        "  'SB_SO': 'SO',\n",
        "  'SB_SS': 'SB',\n",
        "  'SH_UC': 'UC'},\n",
        " 'CL': {'0': 'CL',\n",
        "  '12_19': '19',\n",
        "  '12_LM': '12',\n",
        "  '16_24': '24',\n",
        "  '16_CC': '16',\n",
        "  '19_MA': 'MA',\n",
        "  '24_GP': 'GP',\n",
        "  'AS_BK': 'BK',\n",
        "  'AS_MA': 'AS',\n",
        "  'BF_CV': 'CV',\n",
        "  'BF_HY': 'HY',\n",
        "  'BF_SL': 'BF',\n",
        "  'BK_NB': 'NB',\n",
        "  'BP_DC': 'DC',\n",
        "  'BP_GP': 'BP',\n",
        "  'CC_PL': 'CC',\n",
        "  'CL_FV': 'FV',\n",
        "  'CL_SL': 'SL',\n",
        "  'CM_DC': 'CM',\n",
        "  'CM_SS': 'SS',\n",
        "  'CN_NC': 'NC',\n",
        "  'CN_PH': 'CN',\n",
        "  'CV_ED': 'ED',\n",
        "  'EM_MT': 'MT',\n",
        "  'EM_OW': 'EM',\n",
        "  'EN_EP': 'EN',\n",
        "  'EN_RM': 'RM',\n",
        "  'EP_NB': 'EP',\n",
        "  'FM_UC': 'FM',\n",
        "  'FV_LM': 'LM',\n",
        "  'HY_SH': 'SH',\n",
        "  'LF_OR': 'LF',\n",
        "  'LF_WC': 'WC',\n",
        "  'LM_OW': 'OW',\n",
        "  'MA_RR': 'RR',\n",
        "  'MB_SB': 'MB',\n",
        "  'MT_PL': 'PL',\n",
        "  'NC_WP': 'WP',\n",
        "  'OR_RR': 'OR',\n",
        "  'PH_WC': 'PH',\n",
        "  'SB_SO': 'SO',\n",
        "  'SB_SS': 'SB',\n",
        "  'SH_UC': 'UC'},\n",
        " 'CM': {'0': 'CM',\n",
        "  '12_19': '19',\n",
        "  '12_OW': '12',\n",
        "  '16_24': '16',\n",
        "  '16_CC': 'CC',\n",
        "  '19_MA': 'MA',\n",
        "  '24_GP': '24',\n",
        "  'AS_BK': 'BK',\n",
        "  'AS_MA': 'AS',\n",
        "  'BF_CV': 'CV',\n",
        "  'BF_HY': 'HY',\n",
        "  'BF_SL': 'BF',\n",
        "  'BK_NB': 'NB',\n",
        "  'BP_DC': 'BP',\n",
        "  'BP_GP': 'GP',\n",
        "  'CC_PL': 'PL',\n",
        "  'CL_FV': 'CL',\n",
        "  'CL_SL': 'SL',\n",
        "  'CM_DC': 'DC',\n",
        "  'CM_SS': 'SS',\n",
        "  'CN_NC': 'NC',\n",
        "  'CN_PH': 'CN',\n",
        "  'CV_ED': 'ED',\n",
        "  'EM_MT': 'EM',\n",
        "  'EM_OW': 'OW',\n",
        "  'EN_EP': 'EN',\n",
        "  'EN_RM': 'RM',\n",
        "  'EP_NB': 'EP',\n",
        "  'FM_UC': 'FM',\n",
        "  'FV_LM': 'FV',\n",
        "  'HY_SH': 'SH',\n",
        "  'LF_OR': 'LF',\n",
        "  'LF_WC': 'WC',\n",
        "  'LM_OW': 'LM',\n",
        "  'MA_RR': 'RR',\n",
        "  'MB_SB': 'MB',\n",
        "  'MT_PL': 'MT',\n",
        "  'NC_WP': 'WP',\n",
        "  'OR_RR': 'OR',\n",
        "  'PH_WC': 'PH',\n",
        "  'SB_SO': 'SO',\n",
        "  'SB_SS': 'SB',\n",
        "  'SH_UC': 'UC'},\n",
        " 'CN': {'0': 'CN',\n",
        "  '12_19': '12',\n",
        "  '12_LM': 'LM',\n",
        "  '12_OW': 'OW',\n",
        "  '16_24': '24',\n",
        "  '16_CC': '16',\n",
        "  '19_MA': '19',\n",
        "  '24_GP': 'GP',\n",
        "  'AS_BK': 'BK',\n",
        "  'AS_MA': 'AS',\n",
        "  'BF_CV': 'CV',\n",
        "  'BF_HY': 'HY',\n",
        "  'BF_SL': 'BF',\n",
        "  'BK_NB': 'NB',\n",
        "  'BP_DC': 'DC',\n",
        "  'BP_GP': 'BP',\n",
        "  'CC_PL': 'CC',\n",
        "  'CL_FV': 'CL',\n",
        "  'CL_SL': 'SL',\n",
        "  'CM_DC': 'CM',\n",
        "  'CM_SS': 'SS',\n",
        "  'CN_NC': 'NC',\n",
        "  'CN_PH': 'PH',\n",
        "  'CV_ED': 'ED',\n",
        "  'EM_MT': 'MT',\n",
        "  'EM_OW': 'EM',\n",
        "  'EN_EP': 'EN',\n",
        "  'EN_RM': 'RM',\n",
        "  'EP_NB': 'EP',\n",
        "  'FM_UC': 'FM',\n",
        "  'FV_LM': 'FV',\n",
        "  'HY_SH': 'SH',\n",
        "  'LF_OR': 'OR',\n",
        "  'LF_WC': 'LF',\n",
        "  'MA_RR': 'MA',\n",
        "  'MB_SB': 'MB',\n",
        "  'MT_PL': 'PL',\n",
        "  'NC_WP': 'WP',\n",
        "  'OR_RR': 'RR',\n",
        "  'PH_WC': 'WC',\n",
        "  'SB_SO': 'SO',\n",
        "  'SB_SS': 'SB',\n",
        "  'SH_UC': 'UC'},\n",
        " 'CV': {'0': 'CV',\n",
        "  '12_19': '19',\n",
        "  '12_LM': '12',\n",
        "  '16_24': '24',\n",
        "  '16_CC': '16',\n",
        "  '19_MA': 'MA',\n",
        "  '24_GP': 'GP',\n",
        "  'AS_BK': 'BK',\n",
        "  'AS_MA': 'AS',\n",
        "  'BF_CV': 'BF',\n",
        "  'BF_HY': 'HY',\n",
        "  'BF_SL': 'SL',\n",
        "  'BK_NB': 'NB',\n",
        "  'BP_DC': 'DC',\n",
        "  'BP_GP': 'BP',\n",
        "  'CC_PL': 'CC',\n",
        "  'CL_FV': 'FV',\n",
        "  'CL_SL': 'CL',\n",
        "  'CM_DC': 'CM',\n",
        "  'CM_SS': 'SS',\n",
        "  'CN_NC': 'NC',\n",
        "  'CN_PH': 'CN',\n",
        "  'CV_ED': 'ED',\n",
        "  'EM_MT': 'MT',\n",
        "  'EM_OW': 'EM',\n",
        "  'EN_EP': 'EN',\n",
        "  'EN_RM': 'RM',\n",
        "  'EP_NB': 'EP',\n",
        "  'FM_UC': 'FM',\n",
        "  'FV_LM': 'LM',\n",
        "  'HY_SH': 'SH',\n",
        "  'LF_OR': 'LF',\n",
        "  'LF_WC': 'WC',\n",
        "  'LM_OW': 'OW',\n",
        "  'MA_RR': 'RR',\n",
        "  'MB_SB': 'MB',\n",
        "  'MT_PL': 'PL',\n",
        "  'NC_WP': 'WP',\n",
        "  'OR_RR': 'OR',\n",
        "  'PH_WC': 'PH',\n",
        "  'SB_SO': 'SO',\n",
        "  'SB_SS': 'SB',\n",
        "  'SH_UC': 'UC'},\n",
        " 'DC': {'0': 'DC',\n",
        "  '12_19': '19',\n",
        "  '12_OW': '12',\n",
        "  '16_24': '16',\n",
        "  '16_CC': 'CC',\n",
        "  '19_MA': 'MA',\n",
        "  '24_GP': '24',\n",
        "  'AS_BK': 'BK',\n",
        "  'AS_MA': 'AS',\n",
        "  'BF_CV': 'CV',\n",
        "  'BF_HY': 'HY',\n",
        "  'BF_SL': 'BF',\n",
        "  'BK_NB': 'NB',\n",
        "  'BP_DC': 'BP',\n",
        "  'BP_GP': 'GP',\n",
        "  'CC_PL': 'PL',\n",
        "  'CL_FV': 'CL',\n",
        "  'CL_SL': 'SL',\n",
        "  'CM_DC': 'CM',\n",
        "  'CM_SS': 'SS',\n",
        "  'CN_NC': 'NC',\n",
        "  'CN_PH': 'CN',\n",
        "  'CV_ED': 'ED',\n",
        "  'EM_MT': 'EM',\n",
        "  'EM_OW': 'OW',\n",
        "  'EN_EP': 'EN',\n",
        "  'EN_RM': 'RM',\n",
        "  'EP_NB': 'EP',\n",
        "  'FM_UC': 'FM',\n",
        "  'FV_LM': 'FV',\n",
        "  'HY_SH': 'SH',\n",
        "  'LF_OR': 'LF',\n",
        "  'LF_WC': 'WC',\n",
        "  'LM_OW': 'LM',\n",
        "  'MA_RR': 'RR',\n",
        "  'MB_SB': 'MB',\n",
        "  'MT_PL': 'MT',\n",
        "  'NC_WP': 'WP',\n",
        "  'OR_RR': 'OR',\n",
        "  'PH_WC': 'PH',\n",
        "  'SB_SO': 'SO',\n",
        "  'SB_SS': 'SB',\n",
        "  'SH_UC': 'UC'},\n",
        " 'ED': {'0': 'ED',\n",
        "  '12_19': '19',\n",
        "  '12_LM': '12',\n",
        "  '16_24': '24',\n",
        "  '16_CC': '16',\n",
        "  '19_MA': 'MA',\n",
        "  '24_GP': 'GP',\n",
        "  'AS_BK': 'BK',\n",
        "  'AS_MA': 'AS',\n",
        "  'BF_CV': 'BF',\n",
        "  'BF_HY': 'HY',\n",
        "  'BF_SL': 'SL',\n",
        "  'BK_NB': 'NB',\n",
        "  'BP_DC': 'DC',\n",
        "  'BP_GP': 'BP',\n",
        "  'CC_PL': 'CC',\n",
        "  'CL_FV': 'FV',\n",
        "  'CL_SL': 'CL',\n",
        "  'CM_DC': 'CM',\n",
        "  'CM_SS': 'SS',\n",
        "  'CN_NC': 'NC',\n",
        "  'CN_PH': 'CN',\n",
        "  'CV_ED': 'CV',\n",
        "  'EM_MT': 'MT',\n",
        "  'EM_OW': 'EM',\n",
        "  'EN_EP': 'EN',\n",
        "  'EN_RM': 'RM',\n",
        "  'EP_NB': 'EP',\n",
        "  'FM_UC': 'FM',\n",
        "  'FV_LM': 'LM',\n",
        "  'HY_SH': 'SH',\n",
        "  'LF_OR': 'LF',\n",
        "  'LF_WC': 'WC',\n",
        "  'LM_OW': 'OW',\n",
        "  'MA_RR': 'RR',\n",
        "  'MB_SB': 'MB',\n",
        "  'MT_PL': 'PL',\n",
        "  'NC_WP': 'WP',\n",
        "  'OR_RR': 'OR',\n",
        "  'PH_WC': 'PH',\n",
        "  'SB_SO': 'SO',\n",
        "  'SB_SS': 'SB',\n",
        "  'SH_UC': 'UC'},\n",
        " 'EM': {'0': 'EM',\n",
        "  '12_19': '19',\n",
        "  '12_OW': '12',\n",
        "  '16_24': '24',\n",
        "  '16_CC': '16',\n",
        "  '19_MA': 'MA',\n",
        "  '24_GP': 'GP',\n",
        "  'AS_BK': 'BK',\n",
        "  'AS_MA': 'AS',\n",
        "  'BF_CV': 'CV',\n",
        "  'BF_HY': 'HY',\n",
        "  'BF_SL': 'BF',\n",
        "  'BK_NB': 'NB',\n",
        "  'BP_DC': 'DC',\n",
        "  'BP_GP': 'BP',\n",
        "  'CC_PL': 'CC',\n",
        "  'CL_FV': 'CL',\n",
        "  'CL_SL': 'SL',\n",
        "  'CM_DC': 'CM',\n",
        "  'CM_SS': 'SS',\n",
        "  'CN_NC': 'NC',\n",
        "  'CN_PH': 'CN',\n",
        "  'CV_ED': 'ED',\n",
        "  'EM_MT': 'MT',\n",
        "  'EM_OW': 'OW',\n",
        "  'EN_EP': 'EN',\n",
        "  'EN_RM': 'RM',\n",
        "  'EP_NB': 'EP',\n",
        "  'FM_UC': 'FM',\n",
        "  'FV_LM': 'FV',\n",
        "  'HY_SH': 'SH',\n",
        "  'LF_OR': 'LF',\n",
        "  'LF_WC': 'WC',\n",
        "  'LM_OW': 'LM',\n",
        "  'MA_RR': 'RR',\n",
        "  'MB_SB': 'MB',\n",
        "  'MT_PL': 'PL',\n",
        "  'NC_WP': 'WP',\n",
        "  'OR_RR': 'OR',\n",
        "  'PH_WC': 'PH',\n",
        "  'SB_SO': 'SO',\n",
        "  'SB_SS': 'SB',\n",
        "  'SH_UC': 'UC'},\n",
        " 'EN': {'0': 'EN',\n",
        "  '12_19': '12',\n",
        "  '12_LM': 'LM',\n",
        "  '12_OW': 'OW',\n",
        "  '16_24': '24',\n",
        "  '16_CC': '16',\n",
        "  '19_MA': '19',\n",
        "  '24_GP': 'GP',\n",
        "  'AS_BK': 'AS',\n",
        "  'AS_MA': 'MA',\n",
        "  'BF_CV': 'CV',\n",
        "  'BF_HY': 'HY',\n",
        "  'BF_SL': 'BF',\n",
        "  'BK_NB': 'BK',\n",
        "  'BP_DC': 'DC',\n",
        "  'BP_GP': 'BP',\n",
        "  'CC_PL': 'CC',\n",
        "  'CL_FV': 'CL',\n",
        "  'CL_SL': 'SL',\n",
        "  'CM_DC': 'CM',\n",
        "  'CM_SS': 'SS',\n",
        "  'CN_NC': 'NC',\n",
        "  'CN_PH': 'CN',\n",
        "  'CV_ED': 'ED',\n",
        "  'EM_MT': 'MT',\n",
        "  'EM_OW': 'EM',\n",
        "  'EN_EP': 'EP',\n",
        "  'EN_RM': 'RM',\n",
        "  'EP_NB': 'NB',\n",
        "  'FM_UC': 'FM',\n",
        "  'FV_LM': 'FV',\n",
        "  'HY_SH': 'SH',\n",
        "  'LF_OR': 'LF',\n",
        "  'LF_WC': 'WC',\n",
        "  'MA_RR': 'RR',\n",
        "  'MB_SB': 'MB',\n",
        "  'MT_PL': 'PL',\n",
        "  'NC_WP': 'WP',\n",
        "  'OR_RR': 'OR',\n",
        "  'PH_WC': 'PH',\n",
        "  'SB_SO': 'SO',\n",
        "  'SB_SS': 'SB',\n",
        "  'SH_UC': 'UC'},\n",
        " 'EP': {'0': 'EP',\n",
        "  '12_19': '12',\n",
        "  '12_LM': 'LM',\n",
        "  '12_OW': 'OW',\n",
        "  '16_24': '24',\n",
        "  '16_CC': '16',\n",
        "  '19_MA': '19',\n",
        "  '24_GP': 'GP',\n",
        "  'AS_BK': 'AS',\n",
        "  'AS_MA': 'MA',\n",
        "  'BF_CV': 'CV',\n",
        "  'BF_HY': 'HY',\n",
        "  'BF_SL': 'BF',\n",
        "  'BK_NB': 'BK',\n",
        "  'BP_DC': 'DC',\n",
        "  'BP_GP': 'BP',\n",
        "  'CC_PL': 'CC',\n",
        "  'CL_FV': 'CL',\n",
        "  'CL_SL': 'SL',\n",
        "  'CM_DC': 'CM',\n",
        "  'CM_SS': 'SS',\n",
        "  'CN_NC': 'NC',\n",
        "  'CN_PH': 'CN',\n",
        "  'CV_ED': 'ED',\n",
        "  'EM_MT': 'MT',\n",
        "  'EM_OW': 'EM',\n",
        "  'EN_EP': 'EN',\n",
        "  'EN_RM': 'RM',\n",
        "  'EP_NB': 'NB',\n",
        "  'FM_UC': 'FM',\n",
        "  'FV_LM': 'FV',\n",
        "  'HY_SH': 'SH',\n",
        "  'LF_OR': 'LF',\n",
        "  'LF_WC': 'WC',\n",
        "  'MA_RR': 'RR',\n",
        "  'MB_SB': 'MB',\n",
        "  'MT_PL': 'PL',\n",
        "  'NC_WP': 'WP',\n",
        "  'OR_RR': 'OR',\n",
        "  'PH_WC': 'PH',\n",
        "  'SB_SO': 'SO',\n",
        "  'SB_SS': 'SB',\n",
        "  'SH_UC': 'UC'},\n",
        " 'FM': {'0': 'FM',\n",
        "  '12_19': '19',\n",
        "  '12_LM': '12',\n",
        "  '16_24': '24',\n",
        "  '16_CC': '16',\n",
        "  '19_MA': 'MA',\n",
        "  '24_GP': 'GP',\n",
        "  'AS_BK': 'BK',\n",
        "  'AS_MA': 'AS',\n",
        "  'BF_CV': 'CV',\n",
        "  'BF_HY': 'BF',\n",
        "  'BF_SL': 'SL',\n",
        "  'BK_NB': 'NB',\n",
        "  'BP_DC': 'DC',\n",
        "  'BP_GP': 'BP',\n",
        "  'CC_PL': 'CC',\n",
        "  'CL_FV': 'FV',\n",
        "  'CL_SL': 'CL',\n",
        "  'CM_DC': 'CM',\n",
        "  'CM_SS': 'SS',\n",
        "  'CN_NC': 'NC',\n",
        "  'CN_PH': 'CN',\n",
        "  'CV_ED': 'ED',\n",
        "  'EM_MT': 'MT',\n",
        "  'EM_OW': 'EM',\n",
        "  'EN_EP': 'EN',\n",
        "  'EN_RM': 'RM',\n",
        "  'EP_NB': 'EP',\n",
        "  'FM_UC': 'UC',\n",
        "  'FV_LM': 'LM',\n",
        "  'HY_SH': 'HY',\n",
        "  'LF_OR': 'LF',\n",
        "  'LF_WC': 'WC',\n",
        "  'LM_OW': 'OW',\n",
        "  'MA_RR': 'RR',\n",
        "  'MB_SB': 'MB',\n",
        "  'MT_PL': 'PL',\n",
        "  'NC_WP': 'WP',\n",
        "  'OR_RR': 'OR',\n",
        "  'PH_WC': 'PH',\n",
        "  'SB_SO': 'SO',\n",
        "  'SB_SS': 'SB',\n",
        "  'SH_UC': 'SH'},\n",
        " 'FV': {'0': 'FV',\n",
        "  '12_19': '19',\n",
        "  '12_LM': '12',\n",
        "  '16_24': '24',\n",
        "  '16_CC': '16',\n",
        "  '19_MA': 'MA',\n",
        "  '24_GP': 'GP',\n",
        "  'AS_BK': 'BK',\n",
        "  'AS_MA': 'AS',\n",
        "  'BF_CV': 'CV',\n",
        "  'BF_HY': 'HY',\n",
        "  'BF_SL': 'BF',\n",
        "  'BK_NB': 'NB',\n",
        "  'BP_DC': 'DC',\n",
        "  'BP_GP': 'BP',\n",
        "  'CC_PL': 'CC',\n",
        "  'CL_FV': 'CL',\n",
        "  'CL_SL': 'SL',\n",
        "  'CM_DC': 'CM',\n",
        "  'CM_SS': 'SS',\n",
        "  'CN_NC': 'NC',\n",
        "  'CN_PH': 'CN',\n",
        "  'CV_ED': 'ED',\n",
        "  'EM_MT': 'MT',\n",
        "  'EM_OW': 'EM',\n",
        "  'EN_EP': 'EN',\n",
        "  'EN_RM': 'RM',\n",
        "  'EP_NB': 'EP',\n",
        "  'FM_UC': 'FM',\n",
        "  'FV_LM': 'LM',\n",
        "  'HY_SH': 'SH',\n",
        "  'LF_OR': 'LF',\n",
        "  'LF_WC': 'WC',\n",
        "  'LM_OW': 'OW',\n",
        "  'MA_RR': 'RR',\n",
        "  'MB_SB': 'MB',\n",
        "  'MT_PL': 'PL',\n",
        "  'NC_WP': 'WP',\n",
        "  'OR_RR': 'OR',\n",
        "  'PH_WC': 'PH',\n",
        "  'SB_SO': 'SO',\n",
        "  'SB_SS': 'SB',\n",
        "  'SH_UC': 'UC'},\n",
        " 'GP': {'0': 'GP',\n",
        "  '12_19': '19',\n",
        "  '12_OW': '12',\n",
        "  '16_24': '16',\n",
        "  '16_CC': 'CC',\n",
        "  '19_MA': 'MA',\n",
        "  '24_GP': '24',\n",
        "  'AS_BK': 'BK',\n",
        "  'AS_MA': 'AS',\n",
        "  'BF_CV': 'CV',\n",
        "  'BF_HY': 'HY',\n",
        "  'BF_SL': 'BF',\n",
        "  'BK_NB': 'NB',\n",
        "  'BP_DC': 'DC',\n",
        "  'BP_GP': 'BP',\n",
        "  'CC_PL': 'PL',\n",
        "  'CL_FV': 'CL',\n",
        "  'CL_SL': 'SL',\n",
        "  'CM_DC': 'CM',\n",
        "  'CM_SS': 'SS',\n",
        "  'CN_NC': 'NC',\n",
        "  'CN_PH': 'CN',\n",
        "  'CV_ED': 'ED',\n",
        "  'EM_MT': 'EM',\n",
        "  'EM_OW': 'OW',\n",
        "  'EN_EP': 'EN',\n",
        "  'EN_RM': 'RM',\n",
        "  'EP_NB': 'EP',\n",
        "  'FM_UC': 'FM',\n",
        "  'FV_LM': 'FV',\n",
        "  'HY_SH': 'SH',\n",
        "  'LF_OR': 'LF',\n",
        "  'LF_WC': 'WC',\n",
        "  'LM_OW': 'LM',\n",
        "  'MA_RR': 'RR',\n",
        "  'MB_SB': 'MB',\n",
        "  'MT_PL': 'MT',\n",
        "  'NC_WP': 'WP',\n",
        "  'OR_RR': 'OR',\n",
        "  'PH_WC': 'PH',\n",
        "  'SB_SO': 'SO',\n",
        "  'SB_SS': 'SB',\n",
        "  'SH_UC': 'UC'},\n",
        " 'HY': {'0': 'HY',\n",
        "  '12_19': '19',\n",
        "  '12_LM': '12',\n",
        "  '16_24': '24',\n",
        "  '16_CC': '16',\n",
        "  '19_MA': 'MA',\n",
        "  '24_GP': 'GP',\n",
        "  'AS_BK': 'BK',\n",
        "  'AS_MA': 'AS',\n",
        "  'BF_CV': 'CV',\n",
        "  'BF_HY': 'BF',\n",
        "  'BF_SL': 'SL',\n",
        "  'BK_NB': 'NB',\n",
        "  'BP_DC': 'DC',\n",
        "  'BP_GP': 'BP',\n",
        "  'CC_PL': 'CC',\n",
        "  'CL_FV': 'FV',\n",
        "  'CL_SL': 'CL',\n",
        "  'CM_DC': 'CM',\n",
        "  'CM_SS': 'SS',\n",
        "  'CN_NC': 'NC',\n",
        "  'CN_PH': 'CN',\n",
        "  'CV_ED': 'ED',\n",
        "  'EM_MT': 'MT',\n",
        "  'EM_OW': 'EM',\n",
        "  'EN_EP': 'EN',\n",
        "  'EN_RM': 'RM',\n",
        "  'EP_NB': 'EP',\n",
        "  'FM_UC': 'FM',\n",
        "  'FV_LM': 'LM',\n",
        "  'HY_SH': 'SH',\n",
        "  'LF_OR': 'LF',\n",
        "  'LF_WC': 'WC',\n",
        "  'LM_OW': 'OW',\n",
        "  'MA_RR': 'RR',\n",
        "  'MB_SB': 'MB',\n",
        "  'MT_PL': 'PL',\n",
        "  'NC_WP': 'WP',\n",
        "  'OR_RR': 'OR',\n",
        "  'PH_WC': 'PH',\n",
        "  'SB_SO': 'SO',\n",
        "  'SB_SS': 'SB',\n",
        "  'SH_UC': 'UC'},\n",
        " 'LF': {'0': 'LF',\n",
        "  '12_19': '12',\n",
        "  '12_LM': 'LM',\n",
        "  '12_OW': 'OW',\n",
        "  '16_24': '24',\n",
        "  '16_CC': '16',\n",
        "  '19_MA': '19',\n",
        "  '24_GP': 'GP',\n",
        "  'AS_BK': 'BK',\n",
        "  'AS_MA': 'AS',\n",
        "  'BF_CV': 'CV',\n",
        "  'BF_HY': 'HY',\n",
        "  'BF_SL': 'BF',\n",
        "  'BK_NB': 'NB',\n",
        "  'BP_DC': 'DC',\n",
        "  'BP_GP': 'BP',\n",
        "  'CC_PL': 'CC',\n",
        "  'CL_FV': 'CL',\n",
        "  'CL_SL': 'SL',\n",
        "  'CM_DC': 'CM',\n",
        "  'CM_SS': 'SS',\n",
        "  'CN_NC': 'NC',\n",
        "  'CN_PH': 'CN',\n",
        "  'CV_ED': 'ED',\n",
        "  'EM_MT': 'MT',\n",
        "  'EM_OW': 'EM',\n",
        "  'EN_EP': 'EN',\n",
        "  'EN_RM': 'RM',\n",
        "  'EP_NB': 'EP',\n",
        "  'FM_UC': 'FM',\n",
        "  'FV_LM': 'FV',\n",
        "  'HY_SH': 'SH',\n",
        "  'LF_OR': 'OR',\n",
        "  'LF_WC': 'WC',\n",
        "  'MA_RR': 'MA',\n",
        "  'MB_SB': 'MB',\n",
        "  'MT_PL': 'PL',\n",
        "  'NC_WP': 'WP',\n",
        "  'OR_RR': 'RR',\n",
        "  'PH_WC': 'PH',\n",
        "  'SB_SO': 'SO',\n",
        "  'SB_SS': 'SB',\n",
        "  'SH_UC': 'UC'},\n",
        " 'LM': {'0': 'LM',\n",
        "  '12_19': '19',\n",
        "  '12_LM': '12',\n",
        "  '16_24': '24',\n",
        "  '16_CC': '16',\n",
        "  '19_MA': 'MA',\n",
        "  '24_GP': 'GP',\n",
        "  'AS_BK': 'BK',\n",
        "  'AS_MA': 'AS',\n",
        "  'BF_CV': 'CV',\n",
        "  'BF_HY': 'HY',\n",
        "  'BF_SL': 'BF',\n",
        "  'BK_NB': 'NB',\n",
        "  'BP_DC': 'DC',\n",
        "  'BP_GP': 'BP',\n",
        "  'CC_PL': 'CC',\n",
        "  'CL_FV': 'CL',\n",
        "  'CL_SL': 'SL',\n",
        "  'CM_DC': 'CM',\n",
        "  'CM_SS': 'SS',\n",
        "  'CN_NC': 'NC',\n",
        "  'CN_PH': 'CN',\n",
        "  'CV_ED': 'ED',\n",
        "  'EM_MT': 'MT',\n",
        "  'EM_OW': 'EM',\n",
        "  'EN_EP': 'EN',\n",
        "  'EN_RM': 'RM',\n",
        "  'EP_NB': 'EP',\n",
        "  'FM_UC': 'FM',\n",
        "  'FV_LM': 'FV',\n",
        "  'HY_SH': 'SH',\n",
        "  'LF_OR': 'LF',\n",
        "  'LF_WC': 'WC',\n",
        "  'LM_OW': 'OW',\n",
        "  'MA_RR': 'RR',\n",
        "  'MB_SB': 'MB',\n",
        "  'MT_PL': 'PL',\n",
        "  'NC_WP': 'WP',\n",
        "  'OR_RR': 'OR',\n",
        "  'PH_WC': 'PH',\n",
        "  'SB_SO': 'SO',\n",
        "  'SB_SS': 'SB',\n",
        "  'SH_UC': 'UC'},\n",
        " 'MA': {'0': 'MA',\n",
        "  '12_19': '12',\n",
        "  '12_LM': 'LM',\n",
        "  '12_OW': 'OW',\n",
        "  '16_24': '24',\n",
        "  '16_CC': '16',\n",
        "  '19_MA': '19',\n",
        "  '24_GP': 'GP',\n",
        "  'AS_BK': 'BK',\n",
        "  'AS_MA': 'AS',\n",
        "  'BF_CV': 'CV',\n",
        "  'BF_HY': 'HY',\n",
        "  'BF_SL': 'BF',\n",
        "  'BK_NB': 'NB',\n",
        "  'BP_DC': 'DC',\n",
        "  'BP_GP': 'BP',\n",
        "  'CC_PL': 'CC',\n",
        "  'CL_FV': 'CL',\n",
        "  'CL_SL': 'SL',\n",
        "  'CM_DC': 'CM',\n",
        "  'CM_SS': 'SS',\n",
        "  'CN_NC': 'NC',\n",
        "  'CN_PH': 'CN',\n",
        "  'CV_ED': 'ED',\n",
        "  'EM_MT': 'MT',\n",
        "  'EM_OW': 'EM',\n",
        "  'EN_EP': 'EN',\n",
        "  'EN_RM': 'RM',\n",
        "  'EP_NB': 'EP',\n",
        "  'FM_UC': 'FM',\n",
        "  'FV_LM': 'FV',\n",
        "  'HY_SH': 'SH',\n",
        "  'LF_OR': 'LF',\n",
        "  'LF_WC': 'WC',\n",
        "  'MA_RR': 'RR',\n",
        "  'MB_SB': 'MB',\n",
        "  'MT_PL': 'PL',\n",
        "  'NC_WP': 'WP',\n",
        "  'OR_RR': 'OR',\n",
        "  'PH_WC': 'PH',\n",
        "  'SB_SO': 'SO',\n",
        "  'SB_SS': 'SB',\n",
        "  'SH_UC': 'UC'},\n",
        " 'MB': {'0': 'MB',\n",
        "  '12_19': '19',\n",
        "  '12_OW': '12',\n",
        "  '16_24': '16',\n",
        "  '16_CC': 'CC',\n",
        "  '19_MA': 'MA',\n",
        "  '24_GP': '24',\n",
        "  'AS_BK': 'BK',\n",
        "  'AS_MA': 'AS',\n",
        "  'BF_CV': 'CV',\n",
        "  'BF_HY': 'HY',\n",
        "  'BF_SL': 'BF',\n",
        "  'BK_NB': 'NB',\n",
        "  'BP_DC': 'BP',\n",
        "  'BP_GP': 'GP',\n",
        "  'CC_PL': 'PL',\n",
        "  'CL_FV': 'CL',\n",
        "  'CL_SL': 'SL',\n",
        "  'CM_DC': 'DC',\n",
        "  'CM_SS': 'CM',\n",
        "  'CN_NC': 'NC',\n",
        "  'CN_PH': 'CN',\n",
        "  'CV_ED': 'ED',\n",
        "  'EM_MT': 'EM',\n",
        "  'EM_OW': 'OW',\n",
        "  'EN_EP': 'EN',\n",
        "  'EN_RM': 'RM',\n",
        "  'EP_NB': 'EP',\n",
        "  'FM_UC': 'FM',\n",
        "  'FV_LM': 'FV',\n",
        "  'HY_SH': 'SH',\n",
        "  'LF_OR': 'LF',\n",
        "  'LF_WC': 'WC',\n",
        "  'LM_OW': 'LM',\n",
        "  'MA_RR': 'RR',\n",
        "  'MB_SB': 'SB',\n",
        "  'MB_SO': 'SO',\n",
        "  'MT_PL': 'MT',\n",
        "  'NC_WP': 'WP',\n",
        "  'OR_RR': 'OR',\n",
        "  'PH_WC': 'PH',\n",
        "  'SB_SS': 'SS',\n",
        "  'SH_UC': 'UC'},\n",
        " 'MT': {'0': 'MT',\n",
        "  '12_19': '19',\n",
        "  '12_OW': '12',\n",
        "  '16_24': '24',\n",
        "  '16_CC': '16',\n",
        "  '19_MA': 'MA',\n",
        "  '24_GP': 'GP',\n",
        "  'AS_BK': 'BK',\n",
        "  'AS_MA': 'AS',\n",
        "  'BF_CV': 'CV',\n",
        "  'BF_HY': 'HY',\n",
        "  'BF_SL': 'BF',\n",
        "  'BK_NB': 'NB',\n",
        "  'BP_DC': 'DC',\n",
        "  'BP_GP': 'BP',\n",
        "  'CC_PL': 'CC',\n",
        "  'CL_FV': 'CL',\n",
        "  'CL_SL': 'SL',\n",
        "  'CM_DC': 'CM',\n",
        "  'CM_SS': 'SS',\n",
        "  'CN_NC': 'NC',\n",
        "  'CN_PH': 'CN',\n",
        "  'CV_ED': 'ED',\n",
        "  'EM_MT': 'EM',\n",
        "  'EM_OW': 'OW',\n",
        "  'EN_EP': 'EN',\n",
        "  'EN_RM': 'RM',\n",
        "  'EP_NB': 'EP',\n",
        "  'FM_UC': 'FM',\n",
        "  'FV_LM': 'FV',\n",
        "  'HY_SH': 'SH',\n",
        "  'LF_OR': 'LF',\n",
        "  'LF_WC': 'WC',\n",
        "  'LM_OW': 'LM',\n",
        "  'MA_RR': 'RR',\n",
        "  'MB_SB': 'MB',\n",
        "  'MT_PL': 'PL',\n",
        "  'NC_WP': 'WP',\n",
        "  'OR_RR': 'OR',\n",
        "  'PH_WC': 'PH',\n",
        "  'SB_SO': 'SO',\n",
        "  'SB_SS': 'SB',\n",
        "  'SH_UC': 'UC'},\n",
        " 'NB': {'0': 'NB',\n",
        "  '12_19': '12',\n",
        "  '12_LM': 'LM',\n",
        "  '12_OW': 'OW',\n",
        "  '16_24': '24',\n",
        "  '16_CC': '16',\n",
        "  '19_MA': '19',\n",
        "  '24_GP': 'GP',\n",
        "  'AS_BK': 'AS',\n",
        "  'AS_MA': 'MA',\n",
        "  'BF_CV': 'CV',\n",
        "  'BF_HY': 'HY',\n",
        "  'BF_SL': 'BF',\n",
        "  'BK_NB': 'BK',\n",
        "  'BP_DC': 'DC',\n",
        "  'BP_GP': 'BP',\n",
        "  'CC_PL': 'CC',\n",
        "  'CL_FV': 'CL',\n",
        "  'CL_SL': 'SL',\n",
        "  'CM_DC': 'CM',\n",
        "  'CM_SS': 'SS',\n",
        "  'CN_NC': 'NC',\n",
        "  'CN_PH': 'CN',\n",
        "  'CV_ED': 'ED',\n",
        "  'EM_MT': 'MT',\n",
        "  'EM_OW': 'EM',\n",
        "  'EN_EP': 'EN',\n",
        "  'EN_RM': 'RM',\n",
        "  'EP_NB': 'EP',\n",
        "  'FM_UC': 'FM',\n",
        "  'FV_LM': 'FV',\n",
        "  'HY_SH': 'SH',\n",
        "  'LF_OR': 'LF',\n",
        "  'LF_WC': 'WC',\n",
        "  'MA_RR': 'RR',\n",
        "  'MB_SB': 'MB',\n",
        "  'MT_PL': 'PL',\n",
        "  'NC_WP': 'WP',\n",
        "  'OR_RR': 'OR',\n",
        "  'PH_WC': 'PH',\n",
        "  'SB_SO': 'SO',\n",
        "  'SB_SS': 'SB',\n",
        "  'SH_UC': 'UC'},\n",
        " 'NC': {'0': 'NC',\n",
        "  '12_19': '12',\n",
        "  '12_LM': 'LM',\n",
        "  '12_OW': 'OW',\n",
        "  '16_24': '24',\n",
        "  '16_CC': '16',\n",
        "  '19_MA': '19',\n",
        "  '24_GP': 'GP',\n",
        "  'AS_BK': 'BK',\n",
        "  'AS_MA': 'AS',\n",
        "  'BF_CV': 'CV',\n",
        "  'BF_HY': 'HY',\n",
        "  'BF_SL': 'BF',\n",
        "  'BK_NB': 'NB',\n",
        "  'BP_DC': 'DC',\n",
        "  'BP_GP': 'BP',\n",
        "  'CC_PL': 'CC',\n",
        "  'CL_FV': 'CL',\n",
        "  'CL_SL': 'SL',\n",
        "  'CM_DC': 'CM',\n",
        "  'CM_SS': 'SS',\n",
        "  'CN_NC': 'CN',\n",
        "  'CN_PH': 'PH',\n",
        "  'CV_ED': 'ED',\n",
        "  'EM_MT': 'MT',\n",
        "  'EM_OW': 'EM',\n",
        "  'EN_EP': 'EN',\n",
        "  'EN_RM': 'RM',\n",
        "  'EP_NB': 'EP',\n",
        "  'FM_UC': 'FM',\n",
        "  'FV_LM': 'FV',\n",
        "  'HY_SH': 'SH',\n",
        "  'LF_OR': 'OR',\n",
        "  'LF_WC': 'LF',\n",
        "  'MA_RR': 'MA',\n",
        "  'MB_SB': 'MB',\n",
        "  'MT_PL': 'PL',\n",
        "  'NC_WP': 'WP',\n",
        "  'OR_RR': 'RR',\n",
        "  'PH_WC': 'WC',\n",
        "  'SB_SO': 'SO',\n",
        "  'SB_SS': 'SB',\n",
        "  'SH_UC': 'UC'},\n",
        " 'OR': {'0': 'OR',\n",
        "  '12_19': '12',\n",
        "  '12_LM': 'LM',\n",
        "  '12_OW': 'OW',\n",
        "  '16_24': '24',\n",
        "  '16_CC': '16',\n",
        "  '19_MA': '19',\n",
        "  '24_GP': 'GP',\n",
        "  'AS_BK': 'BK',\n",
        "  'AS_MA': 'AS',\n",
        "  'BF_CV': 'CV',\n",
        "  'BF_HY': 'HY',\n",
        "  'BF_SL': 'BF',\n",
        "  'BK_NB': 'NB',\n",
        "  'BP_DC': 'DC',\n",
        "  'BP_GP': 'BP',\n",
        "  'CC_PL': 'CC',\n",
        "  'CL_FV': 'CL',\n",
        "  'CL_SL': 'SL',\n",
        "  'CM_DC': 'CM',\n",
        "  'CM_SS': 'SS',\n",
        "  'CN_NC': 'NC',\n",
        "  'CN_PH': 'CN',\n",
        "  'CV_ED': 'ED',\n",
        "  'EM_MT': 'MT',\n",
        "  'EM_OW': 'EM',\n",
        "  'EN_EP': 'EN',\n",
        "  'EN_RM': 'RM',\n",
        "  'EP_NB': 'EP',\n",
        "  'FM_UC': 'FM',\n",
        "  'FV_LM': 'FV',\n",
        "  'HY_SH': 'SH',\n",
        "  'LF_OR': 'LF',\n",
        "  'LF_WC': 'WC',\n",
        "  'MA_RR': 'MA',\n",
        "  'MB_SB': 'MB',\n",
        "  'MT_PL': 'PL',\n",
        "  'NC_WP': 'WP',\n",
        "  'OR_RR': 'RR',\n",
        "  'PH_WC': 'PH',\n",
        "  'SB_SO': 'SO',\n",
        "  'SB_SS': 'SB',\n",
        "  'SH_UC': 'UC'},\n",
        " 'OW': {'0': 'OW',\n",
        "  '12_19': '19',\n",
        "  '12_OW': '12',\n",
        "  '16_24': '24',\n",
        "  '16_CC': '16',\n",
        "  '19_MA': 'MA',\n",
        "  '24_GP': 'GP',\n",
        "  'AS_BK': 'BK',\n",
        "  'AS_MA': 'AS',\n",
        "  'BF_CV': 'CV',\n",
        "  'BF_HY': 'HY',\n",
        "  'BF_SL': 'BF',\n",
        "  'BK_NB': 'NB',\n",
        "  'BP_DC': 'DC',\n",
        "  'BP_GP': 'BP',\n",
        "  'CC_PL': 'CC',\n",
        "  'CL_FV': 'CL',\n",
        "  'CL_SL': 'SL',\n",
        "  'CM_DC': 'CM',\n",
        "  'CM_SS': 'SS',\n",
        "  'CN_NC': 'NC',\n",
        "  'CN_PH': 'CN',\n",
        "  'CV_ED': 'ED',\n",
        "  'EM_MT': 'MT',\n",
        "  'EM_OW': 'EM',\n",
        "  'EN_EP': 'EN',\n",
        "  'EN_RM': 'RM',\n",
        "  'EP_NB': 'EP',\n",
        "  'FM_UC': 'FM',\n",
        "  'FV_LM': 'FV',\n",
        "  'HY_SH': 'SH',\n",
        "  'LF_OR': 'LF',\n",
        "  'LF_WC': 'WC',\n",
        "  'LM_OW': 'LM',\n",
        "  'MA_RR': 'RR',\n",
        "  'MB_SB': 'MB',\n",
        "  'MT_PL': 'PL',\n",
        "  'NC_WP': 'WP',\n",
        "  'OR_RR': 'OR',\n",
        "  'PH_WC': 'PH',\n",
        "  'SB_SO': 'SO',\n",
        "  'SB_SS': 'SB',\n",
        "  'SH_UC': 'UC'},\n",
        " 'PH': {'0': 'PH',\n",
        "  '12_19': '12',\n",
        "  '12_LM': 'LM',\n",
        "  '12_OW': 'OW',\n",
        "  '16_24': '24',\n",
        "  '16_CC': '16',\n",
        "  '19_MA': '19',\n",
        "  '24_GP': 'GP',\n",
        "  'AS_BK': 'BK',\n",
        "  'AS_MA': 'AS',\n",
        "  'BF_CV': 'CV',\n",
        "  'BF_HY': 'HY',\n",
        "  'BF_SL': 'BF',\n",
        "  'BK_NB': 'NB',\n",
        "  'BP_DC': 'DC',\n",
        "  'BP_GP': 'BP',\n",
        "  'CC_PL': 'CC',\n",
        "  'CL_FV': 'CL',\n",
        "  'CL_SL': 'SL',\n",
        "  'CM_DC': 'CM',\n",
        "  'CM_SS': 'SS',\n",
        "  'CN_NC': 'NC',\n",
        "  'CN_PH': 'CN',\n",
        "  'CV_ED': 'ED',\n",
        "  'EM_MT': 'MT',\n",
        "  'EM_OW': 'EM',\n",
        "  'EN_EP': 'EN',\n",
        "  'EN_RM': 'RM',\n",
        "  'EP_NB': 'EP',\n",
        "  'FM_UC': 'FM',\n",
        "  'FV_LM': 'FV',\n",
        "  'HY_SH': 'SH',\n",
        "  'LF_OR': 'OR',\n",
        "  'LF_WC': 'LF',\n",
        "  'MA_RR': 'MA',\n",
        "  'MB_SB': 'MB',\n",
        "  'MT_PL': 'PL',\n",
        "  'NC_WP': 'WP',\n",
        "  'OR_RR': 'RR',\n",
        "  'PH_WC': 'WC',\n",
        "  'SB_SO': 'SO',\n",
        "  'SB_SS': 'SB',\n",
        "  'SH_UC': 'UC'},\n",
        " 'PL': {'0': 'PL',\n",
        "  '12_19': '19',\n",
        "  '12_OW': '12',\n",
        "  '16_24': '24',\n",
        "  '16_CC': '16',\n",
        "  '19_MA': 'MA',\n",
        "  '24_GP': 'GP',\n",
        "  'AS_BK': 'BK',\n",
        "  'AS_MA': 'AS',\n",
        "  'BF_CV': 'CV',\n",
        "  'BF_HY': 'HY',\n",
        "  'BF_SL': 'BF',\n",
        "  'BK_NB': 'NB',\n",
        "  'BP_DC': 'DC',\n",
        "  'BP_GP': 'BP',\n",
        "  'CC_PL': 'CC',\n",
        "  'CL_FV': 'CL',\n",
        "  'CL_SL': 'SL',\n",
        "  'CM_DC': 'CM',\n",
        "  'CM_SS': 'SS',\n",
        "  'CN_NC': 'NC',\n",
        "  'CN_PH': 'CN',\n",
        "  'CV_ED': 'ED',\n",
        "  'EM_MT': 'EM',\n",
        "  'EM_OW': 'OW',\n",
        "  'EN_EP': 'EN',\n",
        "  'EN_RM': 'RM',\n",
        "  'EP_NB': 'EP',\n",
        "  'FM_UC': 'FM',\n",
        "  'FV_LM': 'FV',\n",
        "  'HY_SH': 'SH',\n",
        "  'LF_OR': 'LF',\n",
        "  'LF_WC': 'WC',\n",
        "  'LM_OW': 'LM',\n",
        "  'MA_RR': 'RR',\n",
        "  'MB_SB': 'MB',\n",
        "  'MT_PL': 'MT',\n",
        "  'NC_WP': 'WP',\n",
        "  'OR_RR': 'OR',\n",
        "  'PH_WC': 'PH',\n",
        "  'SB_SO': 'SO',\n",
        "  'SB_SS': 'SB',\n",
        "  'SH_UC': 'UC'},\n",
        " 'RM': {'0': 'RM',\n",
        "  '12_19': '12',\n",
        "  '12_LM': 'LM',\n",
        "  '12_OW': 'OW',\n",
        "  '16_24': '24',\n",
        "  '16_CC': '16',\n",
        "  '19_MA': '19',\n",
        "  '24_GP': 'GP',\n",
        "  'AS_BK': 'AS',\n",
        "  'AS_MA': 'MA',\n",
        "  'BF_CV': 'CV',\n",
        "  'BF_HY': 'HY',\n",
        "  'BF_SL': 'BF',\n",
        "  'BK_NB': 'BK',\n",
        "  'BP_DC': 'DC',\n",
        "  'BP_GP': 'BP',\n",
        "  'CC_PL': 'CC',\n",
        "  'CL_FV': 'CL',\n",
        "  'CL_SL': 'SL',\n",
        "  'CM_DC': 'CM',\n",
        "  'CM_SS': 'SS',\n",
        "  'CN_NC': 'NC',\n",
        "  'CN_PH': 'CN',\n",
        "  'CV_ED': 'ED',\n",
        "  'EM_MT': 'MT',\n",
        "  'EM_OW': 'EM',\n",
        "  'EN_EP': 'EP',\n",
        "  'EN_RM': 'EN',\n",
        "  'EP_NB': 'NB',\n",
        "  'FM_UC': 'FM',\n",
        "  'FV_LM': 'FV',\n",
        "  'HY_SH': 'SH',\n",
        "  'LF_OR': 'LF',\n",
        "  'LF_WC': 'WC',\n",
        "  'MA_RR': 'RR',\n",
        "  'MB_SB': 'MB',\n",
        "  'MT_PL': 'PL',\n",
        "  'NC_WP': 'WP',\n",
        "  'OR_RR': 'OR',\n",
        "  'PH_WC': 'PH',\n",
        "  'SB_SO': 'SO',\n",
        "  'SB_SS': 'SB',\n",
        "  'SH_UC': 'UC'},\n",
        " 'RR': {'0': 'RR',\n",
        "  '12_19': '12',\n",
        "  '12_LM': 'LM',\n",
        "  '12_OW': 'OW',\n",
        "  '16_24': '24',\n",
        "  '16_CC': '16',\n",
        "  '19_MA': '19',\n",
        "  '24_GP': 'GP',\n",
        "  'AS_BK': 'BK',\n",
        "  'AS_MA': 'AS',\n",
        "  'BF_CV': 'CV',\n",
        "  'BF_HY': 'HY',\n",
        "  'BF_SL': 'BF',\n",
        "  'BK_NB': 'NB',\n",
        "  'BP_DC': 'DC',\n",
        "  'BP_GP': 'BP',\n",
        "  'CC_PL': 'CC',\n",
        "  'CL_FV': 'CL',\n",
        "  'CL_SL': 'SL',\n",
        "  'CM_DC': 'CM',\n",
        "  'CM_SS': 'SS',\n",
        "  'CN_NC': 'NC',\n",
        "  'CN_PH': 'CN',\n",
        "  'CV_ED': 'ED',\n",
        "  'EM_MT': 'MT',\n",
        "  'EM_OW': 'EM',\n",
        "  'EN_EP': 'EN',\n",
        "  'EN_RM': 'RM',\n",
        "  'EP_NB': 'EP',\n",
        "  'FM_UC': 'FM',\n",
        "  'FV_LM': 'FV',\n",
        "  'HY_SH': 'SH',\n",
        "  'LF_OR': 'LF',\n",
        "  'LF_WC': 'WC',\n",
        "  'MA_RR': 'MA',\n",
        "  'MB_SB': 'MB',\n",
        "  'MT_PL': 'PL',\n",
        "  'NC_WP': 'WP',\n",
        "  'OR_RR': 'OR',\n",
        "  'PH_WC': 'PH',\n",
        "  'SB_SO': 'SO',\n",
        "  'SB_SS': 'SB',\n",
        "  'SH_UC': 'UC'},\n",
        " 'SB': {'0': 'SB',\n",
        "  '12_19': '19',\n",
        "  '12_OW': '12',\n",
        "  '16_24': '16',\n",
        "  '16_CC': 'CC',\n",
        "  '19_MA': 'MA',\n",
        "  '24_GP': '24',\n",
        "  'AS_BK': 'BK',\n",
        "  'AS_MA': 'AS',\n",
        "  'BF_CV': 'CV',\n",
        "  'BF_HY': 'HY',\n",
        "  'BF_SL': 'BF',\n",
        "  'BK_NB': 'NB',\n",
        "  'BP_DC': 'BP',\n",
        "  'BP_GP': 'GP',\n",
        "  'CC_PL': 'PL',\n",
        "  'CL_FV': 'CL',\n",
        "  'CL_SL': 'SL',\n",
        "  'CM_DC': 'DC',\n",
        "  'CM_SS': 'CM',\n",
        "  'CN_NC': 'NC',\n",
        "  'CN_PH': 'CN',\n",
        "  'CV_ED': 'ED',\n",
        "  'EM_MT': 'EM',\n",
        "  'EM_OW': 'OW',\n",
        "  'EN_EP': 'EN',\n",
        "  'EN_RM': 'RM',\n",
        "  'EP_NB': 'EP',\n",
        "  'FM_UC': 'FM',\n",
        "  'FV_LM': 'FV',\n",
        "  'HY_SH': 'SH',\n",
        "  'LF_OR': 'LF',\n",
        "  'LF_WC': 'WC',\n",
        "  'LM_OW': 'LM',\n",
        "  'MA_RR': 'RR',\n",
        "  'MB_SB': 'MB',\n",
        "  'MT_PL': 'MT',\n",
        "  'NC_WP': 'WP',\n",
        "  'OR_RR': 'OR',\n",
        "  'PH_WC': 'PH',\n",
        "  'SB_SO': 'SO',\n",
        "  'SB_SS': 'SS',\n",
        "  'SH_UC': 'UC'},\n",
        " 'SH': {'0': 'SH',\n",
        "  '12_19': '19',\n",
        "  '12_LM': '12',\n",
        "  '16_24': '24',\n",
        "  '16_CC': '16',\n",
        "  '19_MA': 'MA',\n",
        "  '24_GP': 'GP',\n",
        "  'AS_BK': 'BK',\n",
        "  'AS_MA': 'AS',\n",
        "  'BF_CV': 'CV',\n",
        "  'BF_HY': 'BF',\n",
        "  'BF_SL': 'SL',\n",
        "  'BK_NB': 'NB',\n",
        "  'BP_DC': 'DC',\n",
        "  'BP_GP': 'BP',\n",
        "  'CC_PL': 'CC',\n",
        "  'CL_FV': 'FV',\n",
        "  'CL_SL': 'CL',\n",
        "  'CM_DC': 'CM',\n",
        "  'CM_SS': 'SS',\n",
        "  'CN_NC': 'NC',\n",
        "  'CN_PH': 'CN',\n",
        "  'CV_ED': 'ED',\n",
        "  'EM_MT': 'MT',\n",
        "  'EM_OW': 'EM',\n",
        "  'EN_EP': 'EN',\n",
        "  'EN_RM': 'RM',\n",
        "  'EP_NB': 'EP',\n",
        "  'FM_UC': 'FM',\n",
        "  'FV_LM': 'LM',\n",
        "  'HY_SH': 'HY',\n",
        "  'LF_OR': 'LF',\n",
        "  'LF_WC': 'WC',\n",
        "  'LM_OW': 'OW',\n",
        "  'MA_RR': 'RR',\n",
        "  'MB_SB': 'MB',\n",
        "  'MT_PL': 'PL',\n",
        "  'NC_WP': 'WP',\n",
        "  'OR_RR': 'OR',\n",
        "  'PH_WC': 'PH',\n",
        "  'SB_SO': 'SO',\n",
        "  'SB_SS': 'SB',\n",
        "  'SH_UC': 'UC'},\n",
        " 'SL': {'0': 'SL',\n",
        "  '12_19': '19',\n",
        "  '12_LM': '12',\n",
        "  '16_24': '24',\n",
        "  '16_CC': '16',\n",
        "  '19_MA': 'MA',\n",
        "  '24_GP': 'GP',\n",
        "  'AS_BK': 'BK',\n",
        "  'AS_MA': 'AS',\n",
        "  'BF_CV': 'CV',\n",
        "  'BF_HY': 'HY',\n",
        "  'BF_SL': 'BF',\n",
        "  'BK_NB': 'NB',\n",
        "  'BP_DC': 'DC',\n",
        "  'BP_GP': 'BP',\n",
        "  'CC_PL': 'CC',\n",
        "  'CL_FV': 'FV',\n",
        "  'CL_SL': 'CL',\n",
        "  'CM_DC': 'CM',\n",
        "  'CM_SS': 'SS',\n",
        "  'CN_NC': 'NC',\n",
        "  'CN_PH': 'CN',\n",
        "  'CV_ED': 'ED',\n",
        "  'EM_MT': 'MT',\n",
        "  'EM_OW': 'EM',\n",
        "  'EN_EP': 'EN',\n",
        "  'EN_RM': 'RM',\n",
        "  'EP_NB': 'EP',\n",
        "  'FM_UC': 'FM',\n",
        "  'FV_LM': 'LM',\n",
        "  'HY_SH': 'SH',\n",
        "  'LF_OR': 'LF',\n",
        "  'LF_WC': 'WC',\n",
        "  'LM_OW': 'OW',\n",
        "  'MA_RR': 'RR',\n",
        "  'MB_SB': 'MB',\n",
        "  'MT_PL': 'PL',\n",
        "  'NC_WP': 'WP',\n",
        "  'OR_RR': 'OR',\n",
        "  'PH_WC': 'PH',\n",
        "  'SB_SO': 'SO',\n",
        "  'SB_SS': 'SB',\n",
        "  'SH_UC': 'UC'},\n",
        " 'SO': {'0': 'SO',\n",
        "  '12_19': '19',\n",
        "  '12_OW': '12',\n",
        "  '16_24': '16',\n",
        "  '16_CC': 'CC',\n",
        "  '19_MA': 'MA',\n",
        "  '24_GP': '24',\n",
        "  'AS_BK': 'BK',\n",
        "  'AS_MA': 'AS',\n",
        "  'BF_CV': 'CV',\n",
        "  'BF_HY': 'HY',\n",
        "  'BF_SL': 'BF',\n",
        "  'BK_NB': 'NB',\n",
        "  'BP_DC': 'BP',\n",
        "  'BP_GP': 'GP',\n",
        "  'CC_PL': 'PL',\n",
        "  'CL_FV': 'CL',\n",
        "  'CL_SL': 'SL',\n",
        "  'CM_DC': 'DC',\n",
        "  'CM_SS': 'CM',\n",
        "  'CN_NC': 'NC',\n",
        "  'CN_PH': 'CN',\n",
        "  'CV_ED': 'ED',\n",
        "  'EM_MT': 'EM',\n",
        "  'EM_OW': 'OW',\n",
        "  'EN_EP': 'EN',\n",
        "  'EN_RM': 'RM',\n",
        "  'EP_NB': 'EP',\n",
        "  'FM_UC': 'FM',\n",
        "  'FV_LM': 'FV',\n",
        "  'HY_SH': 'SH',\n",
        "  'LF_OR': 'LF',\n",
        "  'LF_WC': 'WC',\n",
        "  'LM_OW': 'LM',\n",
        "  'MA_RR': 'RR',\n",
        "  'MB_SB': 'MB',\n",
        "  'MT_PL': 'MT',\n",
        "  'NC_WP': 'WP',\n",
        "  'OR_RR': 'OR',\n",
        "  'PH_WC': 'PH',\n",
        "  'SB_SO': 'SB',\n",
        "  'SB_SS': 'SS',\n",
        "  'SH_UC': 'UC'},\n",
        " 'SS': {'0': 'SS',\n",
        "  '12_19': '19',\n",
        "  '12_OW': '12',\n",
        "  '16_24': '16',\n",
        "  '16_CC': 'CC',\n",
        "  '19_MA': 'MA',\n",
        "  '24_GP': '24',\n",
        "  'AS_BK': 'BK',\n",
        "  'AS_MA': 'AS',\n",
        "  'BF_CV': 'CV',\n",
        "  'BF_HY': 'HY',\n",
        "  'BF_SL': 'BF',\n",
        "  'BK_NB': 'NB',\n",
        "  'BP_DC': 'BP',\n",
        "  'BP_GP': 'GP',\n",
        "  'CC_PL': 'PL',\n",
        "  'CL_FV': 'CL',\n",
        "  'CL_SL': 'SL',\n",
        "  'CM_DC': 'DC',\n",
        "  'CM_SS': 'CM',\n",
        "  'CN_NC': 'NC',\n",
        "  'CN_PH': 'CN',\n",
        "  'CV_ED': 'ED',\n",
        "  'EM_MT': 'EM',\n",
        "  'EM_OW': 'OW',\n",
        "  'EN_EP': 'EN',\n",
        "  'EN_RM': 'RM',\n",
        "  'EP_NB': 'EP',\n",
        "  'FM_UC': 'FM',\n",
        "  'FV_LM': 'FV',\n",
        "  'HY_SH': 'SH',\n",
        "  'LF_OR': 'LF',\n",
        "  'LF_WC': 'WC',\n",
        "  'LM_OW': 'LM',\n",
        "  'MA_RR': 'RR',\n",
        "  'MB_SB': 'MB',\n",
        "  'MT_PL': 'MT',\n",
        "  'NC_WP': 'WP',\n",
        "  'OR_RR': 'OR',\n",
        "  'PH_WC': 'PH',\n",
        "  'SB_SO': 'SO',\n",
        "  'SB_SS': 'SB',\n",
        "  'SH_UC': 'UC'},\n",
        " 'UC': {'0': 'UC',\n",
        "  '12_19': '19',\n",
        "  '12_LM': '12',\n",
        "  '16_24': '24',\n",
        "  '16_CC': '16',\n",
        "  '19_MA': 'MA',\n",
        "  '24_GP': 'GP',\n",
        "  'AS_BK': 'BK',\n",
        "  'AS_MA': 'AS',\n",
        "  'BF_CV': 'CV',\n",
        "  'BF_HY': 'BF',\n",
        "  'BF_SL': 'SL',\n",
        "  'BK_NB': 'NB',\n",
        "  'BP_DC': 'DC',\n",
        "  'BP_GP': 'BP',\n",
        "  'CC_PL': 'CC',\n",
        "  'CL_FV': 'FV',\n",
        "  'CL_SL': 'CL',\n",
        "  'CM_DC': 'CM',\n",
        "  'CM_SS': 'SS',\n",
        "  'CN_NC': 'NC',\n",
        "  'CN_PH': 'CN',\n",
        "  'CV_ED': 'ED',\n",
        "  'EM_MT': 'MT',\n",
        "  'EM_OW': 'EM',\n",
        "  'EN_EP': 'EN',\n",
        "  'EN_RM': 'RM',\n",
        "  'EP_NB': 'EP',\n",
        "  'FM_UC': 'FM',\n",
        "  'FV_LM': 'LM',\n",
        "  'HY_SH': 'HY',\n",
        "  'LF_OR': 'LF',\n",
        "  'LF_WC': 'WC',\n",
        "  'LM_OW': 'OW',\n",
        "  'MA_RR': 'RR',\n",
        "  'MB_SB': 'MB',\n",
        "  'MT_PL': 'PL',\n",
        "  'NC_WP': 'WP',\n",
        "  'OR_RR': 'OR',\n",
        "  'PH_WC': 'PH',\n",
        "  'SB_SO': 'SO',\n",
        "  'SB_SS': 'SB',\n",
        "  'SH_UC': 'SH'},\n",
        " 'WC': {'0': 'WC',\n",
        "  '12_19': '12',\n",
        "  '12_LM': 'LM',\n",
        "  '12_OW': 'OW',\n",
        "  '16_24': '24',\n",
        "  '16_CC': '16',\n",
        "  '19_MA': '19',\n",
        "  '24_GP': 'GP',\n",
        "  'AS_BK': 'BK',\n",
        "  'AS_MA': 'AS',\n",
        "  'BF_CV': 'CV',\n",
        "  'BF_HY': 'HY',\n",
        "  'BF_SL': 'BF',\n",
        "  'BK_NB': 'NB',\n",
        "  'BP_DC': 'DC',\n",
        "  'BP_GP': 'BP',\n",
        "  'CC_PL': 'CC',\n",
        "  'CL_FV': 'CL',\n",
        "  'CL_SL': 'SL',\n",
        "  'CM_DC': 'CM',\n",
        "  'CM_SS': 'SS',\n",
        "  'CN_NC': 'NC',\n",
        "  'CN_PH': 'CN',\n",
        "  'CV_ED': 'ED',\n",
        "  'EM_MT': 'MT',\n",
        "  'EM_OW': 'EM',\n",
        "  'EN_EP': 'EN',\n",
        "  'EN_RM': 'RM',\n",
        "  'EP_NB': 'EP',\n",
        "  'FM_UC': 'FM',\n",
        "  'FV_LM': 'FV',\n",
        "  'HY_SH': 'SH',\n",
        "  'LF_OR': 'OR',\n",
        "  'LF_WC': 'LF',\n",
        "  'MA_RR': 'MA',\n",
        "  'MB_SB': 'MB',\n",
        "  'MT_PL': 'PL',\n",
        "  'NC_WP': 'WP',\n",
        "  'OR_RR': 'RR',\n",
        "  'PH_WC': 'PH',\n",
        "  'SB_SO': 'SO',\n",
        "  'SB_SS': 'SB',\n",
        "  'SH_UC': 'UC'},\n",
        " 'WP': {'0': 'WP',\n",
        "  '12_19': '12',\n",
        "  '12_LM': 'LM',\n",
        "  '12_OW': 'OW',\n",
        "  '16_24': '24',\n",
        "  '16_CC': '16',\n",
        "  '19_MA': '19',\n",
        "  '24_GP': 'GP',\n",
        "  'AS_BK': 'BK',\n",
        "  'AS_MA': 'AS',\n",
        "  'BF_CV': 'CV',\n",
        "  'BF_HY': 'HY',\n",
        "  'BF_SL': 'BF',\n",
        "  'BK_NB': 'NB',\n",
        "  'BP_DC': 'DC',\n",
        "  'BP_GP': 'BP',\n",
        "  'CC_PL': 'CC',\n",
        "  'CL_FV': 'CL',\n",
        "  'CL_SL': 'SL',\n",
        "  'CM_DC': 'CM',\n",
        "  'CM_SS': 'SS',\n",
        "  'CN_NC': 'CN',\n",
        "  'CN_PH': 'PH',\n",
        "  'CV_ED': 'ED',\n",
        "  'EM_MT': 'MT',\n",
        "  'EM_OW': 'EM',\n",
        "  'EN_EP': 'EN',\n",
        "  'EN_RM': 'RM',\n",
        "  'EP_NB': 'EP',\n",
        "  'FM_UC': 'FM',\n",
        "  'FV_LM': 'FV',\n",
        "  'HY_SH': 'SH',\n",
        "  'LF_OR': 'OR',\n",
        "  'LF_WC': 'LF',\n",
        "  'MA_RR': 'MA',\n",
        "  'MB_SB': 'MB',\n",
        "  'MT_PL': 'PL',\n",
        "  'NC_WP': 'NC',\n",
        "  'OR_RR': 'RR',\n",
        "  'PH_WC': 'WC',\n",
        "  'SB_SO': 'SO',\n",
        "  'SB_SS': 'SB',\n",
        "  'SH_UC': 'UC'}}"
       ]
      }
     ],
     "prompt_number": 50
    },
    {
     "cell_type": "code",
     "collapsed": false,
     "input": [
      "\"\"\" returns a tree for a given source node \"\"\"\n",
      "def dfs(source_st):\n",
      "    visited = dict()\n",
      "    all_children = dict()\n",
      "    def explore(v):\n",
      "        visited[v] = True\n",
      "        all_children[v] = list()\n",
      "        for u in station_graph[v]:\n",
      "            if visited.get(u, False) is False:\n",
      "                all_children[v].append(u)\n",
      "                children_of_u = explore(u)\n",
      "                all_children[v].extend(children_of_u)\n",
      "        return all_children[v]\n",
      "    explore(source_st)\n",
      "    return all_children"
     ],
     "language": "python",
     "metadata": {},
     "outputs": [],
     "prompt_number": 51
    },
    {
     "cell_type": "code",
     "collapsed": false,
     "input": [
      "# source_st = 'RM'\n",
      "week_day = True\n",
      "time_period = 0\n",
      "# RM data: B3:B45\n",
      "# Destination stations: A3:A45\n",
      "# for row in ws.range('A1:C2'):\n",
      "# ...        for cell in row:\n",
      "# ...            print cell\n",
      "\n",
      "# structure for every station:\n",
      "# {<month year>:{ed_id:<edge id>, weight:<int> }}\n",
      "\n",
      "#i = 0\n",
      "\n",
      "\n",
      "\n",
      "# header = ['Source']\n",
      "# header.extend(edge_ids)\n",
      "\n",
      "# print header\n",
      "# print header\n",
      "station_index = list()\n",
      "all_data = dict()\n",
      "for source_st in station_list:\n",
      "    source_dict = dict()\n",
      "    child_nodes = dfs(source_st)\n",
      "    for year in years:\n",
      "        for month in months:\n",
      "            # print i\n",
      "            month_year = month+'_'+year\n",
      "            extension = '.xlsx'\n",
      "            file_name = 'ridership/'+month+' '+year+extension\n",
      "            print source_st+':'+file_name\n",
      "            work_book = load_workbook(filename = file_name)\n",
      "            sheet_name = 'Weekday OD'\n",
      "            cursed_months = [\"July\",\"August\",\"September\",\"October\",\"November\",\"December\"]\n",
      "            if int(year) < 2009:\n",
      "                sheet_name = 'Wkdy Adj OD'\n",
      "                if int(year) == 2008 and month in cursed_months:\n",
      "                    sheet_name = 'Weekday OD'\n",
      "            work_sheet = work_book[sheet_name]\n",
      "            station_index = [str(row[0].value) for row in work_sheet['A3':'A45']]\n",
      "            # TODO: remove hardcoding for source station\n",
      "            start_column_id = station_column_in_excel_file[source_st]+'3'\n",
      "            end_column_id = station_column_in_excel_file[source_st]+'45'\n",
      "            ridership_data = [row[0].value for row in work_sheet[start_column_id:end_column_id]]\n",
      "            aggregated_dist = dict()\n",
      "            # for every station find the aggregate and store it as a new row in a new csv\n",
      "            for st in station_index:\n",
      "                children_list = [st]\n",
      "                children_list.extend(child_nodes[st])\n",
      "                agg_dist = 0.00\n",
      "                for child in children_list:\n",
      "                    child_index = station_index.index(child)\n",
      "                    agg_dist += float(ridership_data[child_index])\n",
      "                aggregated_dist[st] = int(agg_dist)\n",
      "            # aggregated_distance_row = [source_st]\n",
      "            edge_list = list()\n",
      "            for edge in edge_ids:\n",
      "                station_name = edges_mapping[source_st].get(edge,'not-present')\n",
      "                edge_list.append({'ed_id':edge, 'weight':aggregated_dist.get(station_name,0)})\n",
      "                # edge_dict[edge] = aggregated_dist.get(station_name,0)\n",
      "                # aggregated_distance_row.append(aggregated_dist.get(station_name,0))\n",
      "            source_dict[month_year] = edge_list\n",
      "            #print aggregated_distance_row\n",
      "            #i += 1\n",
      "    all_data[source_st] = source_dict\n"
     ],
     "language": "python",
     "metadata": {},
     "outputs": [
      {
       "output_type": "stream",
       "stream": "stdout",
       "text": [
        "ridership/January 2013.xlsx\n",
        "ridership/February 2013.xlsx"
       ]
      },
      {
       "output_type": "stream",
       "stream": "stdout",
       "text": [
        "\n",
        "ridership/March 2013.xlsx"
       ]
      },
      {
       "output_type": "stream",
       "stream": "stdout",
       "text": [
        "\n",
        "ridership/April 2013.xlsx"
       ]
      },
      {
       "output_type": "stream",
       "stream": "stdout",
       "text": [
        "\n",
        "ridership/May 2013.xlsx"
       ]
      },
      {
       "output_type": "stream",
       "stream": "stdout",
       "text": [
        "\n",
        "ridership/June 2013.xlsx"
       ]
      },
      {
       "output_type": "stream",
       "stream": "stdout",
       "text": [
        "\n",
        "ridership/July 2013.xlsx"
       ]
      },
      {
       "output_type": "stream",
       "stream": "stdout",
       "text": [
        "\n",
        "ridership/August 2013.xlsx"
       ]
      },
      {
       "output_type": "stream",
       "stream": "stdout",
       "text": [
        "\n",
        "ridership/September 2013.xlsx"
       ]
      },
      {
       "output_type": "stream",
       "stream": "stdout",
       "text": [
        "\n",
        "ridership/October 2013.xlsx"
       ]
      },
      {
       "output_type": "stream",
       "stream": "stdout",
       "text": [
        "\n",
        "ridership/November 2013.xlsx"
       ]
      },
      {
       "output_type": "stream",
       "stream": "stdout",
       "text": [
        "\n",
        "ridership/December 2013.xlsx"
       ]
      },
      {
       "output_type": "stream",
       "stream": "stdout",
       "text": [
        "\n",
        "ridership/January 2013.xlsx"
       ]
      },
      {
       "output_type": "stream",
       "stream": "stdout",
       "text": [
        "\n",
        "ridership/February 2013.xlsx"
       ]
      },
      {
       "output_type": "stream",
       "stream": "stdout",
       "text": [
        "\n",
        "ridership/March 2013.xlsx"
       ]
      },
      {
       "output_type": "stream",
       "stream": "stdout",
       "text": [
        "\n",
        "ridership/April 2013.xlsx"
       ]
      },
      {
       "output_type": "stream",
       "stream": "stdout",
       "text": [
        "\n",
        "ridership/May 2013.xlsx"
       ]
      },
      {
       "output_type": "stream",
       "stream": "stdout",
       "text": [
        "\n",
        "ridership/June 2013.xlsx"
       ]
      },
      {
       "output_type": "stream",
       "stream": "stdout",
       "text": [
        "\n",
        "ridership/July 2013.xlsx"
       ]
      },
      {
       "output_type": "stream",
       "stream": "stdout",
       "text": [
        "\n",
        "ridership/August 2013.xlsx"
       ]
      },
      {
       "output_type": "stream",
       "stream": "stdout",
       "text": [
        "\n",
        "ridership/September 2013.xlsx"
       ]
      },
      {
       "output_type": "stream",
       "stream": "stdout",
       "text": [
        "\n",
        "ridership/October 2013.xlsx"
       ]
      },
      {
       "output_type": "stream",
       "stream": "stdout",
       "text": [
        "\n",
        "ridership/November 2013.xlsx"
       ]
      },
      {
       "output_type": "stream",
       "stream": "stdout",
       "text": [
        "\n",
        "ridership/December 2013.xlsx"
       ]
      },
      {
       "output_type": "stream",
       "stream": "stdout",
       "text": [
        "\n",
        "ridership/January 2013.xlsx"
       ]
      },
      {
       "output_type": "stream",
       "stream": "stdout",
       "text": [
        "\n",
        "ridership/February 2013.xlsx"
       ]
      },
      {
       "output_type": "stream",
       "stream": "stdout",
       "text": [
        "\n",
        "ridership/March 2013.xlsx"
       ]
      },
      {
       "output_type": "stream",
       "stream": "stdout",
       "text": [
        "\n",
        "ridership/April 2013.xlsx"
       ]
      },
      {
       "output_type": "stream",
       "stream": "stdout",
       "text": [
        "\n",
        "ridership/May 2013.xlsx"
       ]
      },
      {
       "output_type": "stream",
       "stream": "stdout",
       "text": [
        "\n",
        "ridership/June 2013.xlsx"
       ]
      },
      {
       "output_type": "stream",
       "stream": "stdout",
       "text": [
        "\n",
        "ridership/July 2013.xlsx"
       ]
      },
      {
       "output_type": "stream",
       "stream": "stdout",
       "text": [
        "\n",
        "ridership/August 2013.xlsx"
       ]
      },
      {
       "output_type": "stream",
       "stream": "stdout",
       "text": [
        "\n",
        "ridership/September 2013.xlsx"
       ]
      },
      {
       "output_type": "stream",
       "stream": "stdout",
       "text": [
        "\n",
        "ridership/October 2013.xlsx"
       ]
      },
      {
       "output_type": "stream",
       "stream": "stdout",
       "text": [
        "\n",
        "ridership/November 2013.xlsx"
       ]
      },
      {
       "output_type": "stream",
       "stream": "stdout",
       "text": [
        "\n",
        "ridership/December 2013.xlsx"
       ]
      },
      {
       "output_type": "stream",
       "stream": "stdout",
       "text": [
        "\n",
        "ridership/January 2013.xlsx"
       ]
      },
      {
       "output_type": "stream",
       "stream": "stdout",
       "text": [
        "\n",
        "ridership/February 2013.xlsx"
       ]
      },
      {
       "output_type": "stream",
       "stream": "stdout",
       "text": [
        "\n",
        "ridership/March 2013.xlsx"
       ]
      },
      {
       "output_type": "stream",
       "stream": "stdout",
       "text": [
        "\n",
        "ridership/April 2013.xlsx"
       ]
      },
      {
       "output_type": "stream",
       "stream": "stdout",
       "text": [
        "\n",
        "ridership/May 2013.xlsx"
       ]
      },
      {
       "output_type": "stream",
       "stream": "stdout",
       "text": [
        "\n",
        "ridership/June 2013.xlsx"
       ]
      },
      {
       "output_type": "stream",
       "stream": "stdout",
       "text": [
        "\n",
        "ridership/July 2013.xlsx"
       ]
      },
      {
       "output_type": "stream",
       "stream": "stdout",
       "text": [
        "\n",
        "ridership/August 2013.xlsx"
       ]
      },
      {
       "output_type": "stream",
       "stream": "stdout",
       "text": [
        "\n",
        "ridership/September 2013.xlsx"
       ]
      },
      {
       "output_type": "stream",
       "stream": "stdout",
       "text": [
        "\n",
        "ridership/October 2013.xlsx"
       ]
      },
      {
       "output_type": "stream",
       "stream": "stdout",
       "text": [
        "\n",
        "ridership/November 2013.xlsx"
       ]
      },
      {
       "output_type": "stream",
       "stream": "stdout",
       "text": [
        "\n",
        "ridership/December 2013.xlsx"
       ]
      },
      {
       "output_type": "stream",
       "stream": "stdout",
       "text": [
        "\n",
        "ridership/January 2013.xlsx"
       ]
      },
      {
       "output_type": "stream",
       "stream": "stdout",
       "text": [
        "\n",
        "ridership/February 2013.xlsx"
       ]
      },
      {
       "output_type": "stream",
       "stream": "stdout",
       "text": [
        "\n",
        "ridership/March 2013.xlsx"
       ]
      },
      {
       "output_type": "stream",
       "stream": "stdout",
       "text": [
        "\n",
        "ridership/April 2013.xlsx"
       ]
      },
      {
       "output_type": "stream",
       "stream": "stdout",
       "text": [
        "\n",
        "ridership/May 2013.xlsx"
       ]
      },
      {
       "output_type": "stream",
       "stream": "stdout",
       "text": [
        "\n",
        "ridership/June 2013.xlsx"
       ]
      },
      {
       "output_type": "stream",
       "stream": "stdout",
       "text": [
        "\n",
        "ridership/July 2013.xlsx"
       ]
      },
      {
       "output_type": "stream",
       "stream": "stdout",
       "text": [
        "\n",
        "ridership/August 2013.xlsx"
       ]
      },
      {
       "output_type": "stream",
       "stream": "stdout",
       "text": [
        "\n",
        "ridership/September 2013.xlsx"
       ]
      },
      {
       "output_type": "stream",
       "stream": "stdout",
       "text": [
        "\n",
        "ridership/October 2013.xlsx"
       ]
      },
      {
       "output_type": "stream",
       "stream": "stdout",
       "text": [
        "\n",
        "ridership/November 2013.xlsx"
       ]
      },
      {
       "output_type": "stream",
       "stream": "stdout",
       "text": [
        "\n",
        "ridership/December 2013.xlsx"
       ]
      },
      {
       "output_type": "stream",
       "stream": "stdout",
       "text": [
        "\n",
        "ridership/January 2013.xlsx"
       ]
      },
      {
       "output_type": "stream",
       "stream": "stdout",
       "text": [
        "\n",
        "ridership/February 2013.xlsx"
       ]
      },
      {
       "output_type": "stream",
       "stream": "stdout",
       "text": [
        "\n",
        "ridership/March 2013.xlsx"
       ]
      },
      {
       "output_type": "stream",
       "stream": "stdout",
       "text": [
        "\n",
        "ridership/April 2013.xlsx"
       ]
      },
      {
       "output_type": "stream",
       "stream": "stdout",
       "text": [
        "\n",
        "ridership/May 2013.xlsx"
       ]
      },
      {
       "output_type": "stream",
       "stream": "stdout",
       "text": [
        "\n",
        "ridership/June 2013.xlsx"
       ]
      },
      {
       "output_type": "stream",
       "stream": "stdout",
       "text": [
        "\n",
        "ridership/July 2013.xlsx"
       ]
      },
      {
       "output_type": "stream",
       "stream": "stdout",
       "text": [
        "\n",
        "ridership/August 2013.xlsx"
       ]
      },
      {
       "output_type": "stream",
       "stream": "stdout",
       "text": [
        "\n",
        "ridership/September 2013.xlsx"
       ]
      },
      {
       "output_type": "stream",
       "stream": "stdout",
       "text": [
        "\n",
        "ridership/October 2013.xlsx"
       ]
      },
      {
       "output_type": "stream",
       "stream": "stdout",
       "text": [
        "\n",
        "ridership/November 2013.xlsx"
       ]
      },
      {
       "output_type": "stream",
       "stream": "stdout",
       "text": [
        "\n",
        "ridership/December 2013.xlsx"
       ]
      },
      {
       "output_type": "stream",
       "stream": "stdout",
       "text": [
        "\n",
        "ridership/January 2013.xlsx"
       ]
      },
      {
       "output_type": "stream",
       "stream": "stdout",
       "text": [
        "\n",
        "ridership/February 2013.xlsx"
       ]
      },
      {
       "output_type": "stream",
       "stream": "stdout",
       "text": [
        "\n",
        "ridership/March 2013.xlsx"
       ]
      },
      {
       "output_type": "stream",
       "stream": "stdout",
       "text": [
        "\n",
        "ridership/April 2013.xlsx"
       ]
      },
      {
       "output_type": "stream",
       "stream": "stdout",
       "text": [
        "\n",
        "ridership/May 2013.xlsx"
       ]
      },
      {
       "output_type": "stream",
       "stream": "stdout",
       "text": [
        "\n",
        "ridership/June 2013.xlsx"
       ]
      },
      {
       "output_type": "stream",
       "stream": "stdout",
       "text": [
        "\n",
        "ridership/July 2013.xlsx"
       ]
      },
      {
       "output_type": "stream",
       "stream": "stdout",
       "text": [
        "\n",
        "ridership/August 2013.xlsx"
       ]
      },
      {
       "output_type": "stream",
       "stream": "stdout",
       "text": [
        "\n",
        "ridership/September 2013.xlsx"
       ]
      },
      {
       "output_type": "stream",
       "stream": "stdout",
       "text": [
        "\n",
        "ridership/October 2013.xlsx"
       ]
      },
      {
       "output_type": "stream",
       "stream": "stdout",
       "text": [
        "\n",
        "ridership/November 2013.xlsx"
       ]
      },
      {
       "output_type": "stream",
       "stream": "stdout",
       "text": [
        "\n",
        "ridership/December 2013.xlsx"
       ]
      },
      {
       "output_type": "stream",
       "stream": "stdout",
       "text": [
        "\n",
        "ridership/January 2013.xlsx"
       ]
      },
      {
       "output_type": "stream",
       "stream": "stdout",
       "text": [
        "\n",
        "ridership/February 2013.xlsx"
       ]
      },
      {
       "output_type": "stream",
       "stream": "stdout",
       "text": [
        "\n",
        "ridership/March 2013.xlsx"
       ]
      },
      {
       "output_type": "stream",
       "stream": "stdout",
       "text": [
        "\n",
        "ridership/April 2013.xlsx"
       ]
      },
      {
       "output_type": "stream",
       "stream": "stdout",
       "text": [
        "\n",
        "ridership/May 2013.xlsx"
       ]
      },
      {
       "output_type": "stream",
       "stream": "stdout",
       "text": [
        "\n",
        "ridership/June 2013.xlsx"
       ]
      },
      {
       "output_type": "stream",
       "stream": "stdout",
       "text": [
        "\n",
        "ridership/July 2013.xlsx"
       ]
      },
      {
       "output_type": "stream",
       "stream": "stdout",
       "text": [
        "\n",
        "ridership/August 2013.xlsx"
       ]
      },
      {
       "output_type": "stream",
       "stream": "stdout",
       "text": [
        "\n",
        "ridership/September 2013.xlsx"
       ]
      },
      {
       "output_type": "stream",
       "stream": "stdout",
       "text": [
        "\n",
        "ridership/October 2013.xlsx"
       ]
      },
      {
       "output_type": "stream",
       "stream": "stdout",
       "text": [
        "\n",
        "ridership/November 2013.xlsx"
       ]
      },
      {
       "output_type": "stream",
       "stream": "stdout",
       "text": [
        "\n",
        "ridership/December 2013.xlsx"
       ]
      },
      {
       "output_type": "stream",
       "stream": "stdout",
       "text": [
        "\n",
        "ridership/January 2013.xlsx"
       ]
      },
      {
       "output_type": "stream",
       "stream": "stdout",
       "text": [
        "\n",
        "ridership/February 2013.xlsx"
       ]
      },
      {
       "output_type": "stream",
       "stream": "stdout",
       "text": [
        "\n",
        "ridership/March 2013.xlsx"
       ]
      },
      {
       "output_type": "stream",
       "stream": "stdout",
       "text": [
        "\n",
        "ridership/April 2013.xlsx"
       ]
      },
      {
       "output_type": "stream",
       "stream": "stdout",
       "text": [
        "\n",
        "ridership/May 2013.xlsx"
       ]
      },
      {
       "output_type": "stream",
       "stream": "stdout",
       "text": [
        "\n",
        "ridership/June 2013.xlsx"
       ]
      },
      {
       "output_type": "stream",
       "stream": "stdout",
       "text": [
        "\n",
        "ridership/July 2013.xlsx"
       ]
      },
      {
       "output_type": "stream",
       "stream": "stdout",
       "text": [
        "\n",
        "ridership/August 2013.xlsx"
       ]
      },
      {
       "output_type": "stream",
       "stream": "stdout",
       "text": [
        "\n",
        "ridership/September 2013.xlsx"
       ]
      },
      {
       "output_type": "stream",
       "stream": "stdout",
       "text": [
        "\n",
        "ridership/October 2013.xlsx"
       ]
      },
      {
       "output_type": "stream",
       "stream": "stdout",
       "text": [
        "\n",
        "ridership/November 2013.xlsx"
       ]
      },
      {
       "output_type": "stream",
       "stream": "stdout",
       "text": [
        "\n",
        "ridership/December 2013.xlsx"
       ]
      },
      {
       "output_type": "stream",
       "stream": "stdout",
       "text": [
        "\n",
        "ridership/January 2013.xlsx"
       ]
      },
      {
       "output_type": "stream",
       "stream": "stdout",
       "text": [
        "\n",
        "ridership/February 2013.xlsx"
       ]
      },
      {
       "output_type": "stream",
       "stream": "stdout",
       "text": [
        "\n",
        "ridership/March 2013.xlsx"
       ]
      },
      {
       "output_type": "stream",
       "stream": "stdout",
       "text": [
        "\n",
        "ridership/April 2013.xlsx"
       ]
      },
      {
       "output_type": "stream",
       "stream": "stdout",
       "text": [
        "\n",
        "ridership/May 2013.xlsx"
       ]
      },
      {
       "output_type": "stream",
       "stream": "stdout",
       "text": [
        "\n",
        "ridership/June 2013.xlsx"
       ]
      },
      {
       "output_type": "stream",
       "stream": "stdout",
       "text": [
        "\n",
        "ridership/July 2013.xlsx"
       ]
      },
      {
       "output_type": "stream",
       "stream": "stdout",
       "text": [
        "\n",
        "ridership/August 2013.xlsx"
       ]
      },
      {
       "output_type": "stream",
       "stream": "stdout",
       "text": [
        "\n",
        "ridership/September 2013.xlsx"
       ]
      },
      {
       "output_type": "stream",
       "stream": "stdout",
       "text": [
        "\n",
        "ridership/October 2013.xlsx"
       ]
      },
      {
       "output_type": "stream",
       "stream": "stdout",
       "text": [
        "\n",
        "ridership/November 2013.xlsx"
       ]
      },
      {
       "output_type": "stream",
       "stream": "stdout",
       "text": [
        "\n",
        "ridership/December 2013.xlsx"
       ]
      },
      {
       "output_type": "stream",
       "stream": "stdout",
       "text": [
        "\n",
        "ridership/January 2013.xlsx"
       ]
      },
      {
       "output_type": "stream",
       "stream": "stdout",
       "text": [
        "\n",
        "ridership/February 2013.xlsx"
       ]
      },
      {
       "output_type": "stream",
       "stream": "stdout",
       "text": [
        "\n",
        "ridership/March 2013.xlsx"
       ]
      },
      {
       "output_type": "stream",
       "stream": "stdout",
       "text": [
        "\n",
        "ridership/April 2013.xlsx"
       ]
      },
      {
       "output_type": "stream",
       "stream": "stdout",
       "text": [
        "\n",
        "ridership/May 2013.xlsx"
       ]
      },
      {
       "output_type": "stream",
       "stream": "stdout",
       "text": [
        "\n",
        "ridership/June 2013.xlsx"
       ]
      },
      {
       "output_type": "stream",
       "stream": "stdout",
       "text": [
        "\n",
        "ridership/July 2013.xlsx"
       ]
      },
      {
       "output_type": "stream",
       "stream": "stdout",
       "text": [
        "\n",
        "ridership/August 2013.xlsx"
       ]
      },
      {
       "output_type": "stream",
       "stream": "stdout",
       "text": [
        "\n",
        "ridership/September 2013.xlsx"
       ]
      },
      {
       "output_type": "stream",
       "stream": "stdout",
       "text": [
        "\n",
        "ridership/October 2013.xlsx"
       ]
      },
      {
       "output_type": "stream",
       "stream": "stdout",
       "text": [
        "\n",
        "ridership/November 2013.xlsx"
       ]
      },
      {
       "output_type": "stream",
       "stream": "stdout",
       "text": [
        "\n",
        "ridership/December 2013.xlsx"
       ]
      },
      {
       "output_type": "stream",
       "stream": "stdout",
       "text": [
        "\n",
        "ridership/January 2013.xlsx"
       ]
      },
      {
       "output_type": "stream",
       "stream": "stdout",
       "text": [
        "\n",
        "ridership/February 2013.xlsx"
       ]
      },
      {
       "output_type": "stream",
       "stream": "stdout",
       "text": [
        "\n",
        "ridership/March 2013.xlsx"
       ]
      },
      {
       "output_type": "stream",
       "stream": "stdout",
       "text": [
        "\n",
        "ridership/April 2013.xlsx"
       ]
      },
      {
       "output_type": "stream",
       "stream": "stdout",
       "text": [
        "\n",
        "ridership/May 2013.xlsx"
       ]
      },
      {
       "output_type": "stream",
       "stream": "stdout",
       "text": [
        "\n",
        "ridership/June 2013.xlsx"
       ]
      },
      {
       "output_type": "stream",
       "stream": "stdout",
       "text": [
        "\n",
        "ridership/July 2013.xlsx"
       ]
      },
      {
       "output_type": "stream",
       "stream": "stdout",
       "text": [
        "\n",
        "ridership/August 2013.xlsx"
       ]
      },
      {
       "output_type": "stream",
       "stream": "stdout",
       "text": [
        "\n",
        "ridership/September 2013.xlsx"
       ]
      },
      {
       "output_type": "stream",
       "stream": "stdout",
       "text": [
        "\n",
        "ridership/October 2013.xlsx"
       ]
      },
      {
       "output_type": "stream",
       "stream": "stdout",
       "text": [
        "\n",
        "ridership/November 2013.xlsx"
       ]
      },
      {
       "output_type": "stream",
       "stream": "stdout",
       "text": [
        "\n",
        "ridership/December 2013.xlsx"
       ]
      },
      {
       "output_type": "stream",
       "stream": "stdout",
       "text": [
        "\n",
        "ridership/January 2013.xlsx"
       ]
      },
      {
       "output_type": "stream",
       "stream": "stdout",
       "text": [
        "\n",
        "ridership/February 2013.xlsx"
       ]
      },
      {
       "output_type": "stream",
       "stream": "stdout",
       "text": [
        "\n",
        "ridership/March 2013.xlsx"
       ]
      },
      {
       "output_type": "stream",
       "stream": "stdout",
       "text": [
        "\n",
        "ridership/April 2013.xlsx"
       ]
      },
      {
       "output_type": "stream",
       "stream": "stdout",
       "text": [
        "\n",
        "ridership/May 2013.xlsx"
       ]
      },
      {
       "output_type": "stream",
       "stream": "stdout",
       "text": [
        "\n",
        "ridership/June 2013.xlsx"
       ]
      },
      {
       "output_type": "stream",
       "stream": "stdout",
       "text": [
        "\n",
        "ridership/July 2013.xlsx"
       ]
      },
      {
       "output_type": "stream",
       "stream": "stdout",
       "text": [
        "\n",
        "ridership/August 2013.xlsx"
       ]
      },
      {
       "output_type": "stream",
       "stream": "stdout",
       "text": [
        "\n",
        "ridership/September 2013.xlsx"
       ]
      },
      {
       "output_type": "stream",
       "stream": "stdout",
       "text": [
        "\n",
        "ridership/October 2013.xlsx"
       ]
      },
      {
       "output_type": "stream",
       "stream": "stdout",
       "text": [
        "\n",
        "ridership/November 2013.xlsx"
       ]
      },
      {
       "output_type": "stream",
       "stream": "stdout",
       "text": [
        "\n",
        "ridership/December 2013.xlsx"
       ]
      },
      {
       "output_type": "stream",
       "stream": "stdout",
       "text": [
        "\n",
        "ridership/January 2013.xlsx"
       ]
      },
      {
       "output_type": "stream",
       "stream": "stdout",
       "text": [
        "\n",
        "ridership/February 2013.xlsx"
       ]
      },
      {
       "output_type": "stream",
       "stream": "stdout",
       "text": [
        "\n",
        "ridership/March 2013.xlsx"
       ]
      },
      {
       "output_type": "stream",
       "stream": "stdout",
       "text": [
        "\n",
        "ridership/April 2013.xlsx"
       ]
      },
      {
       "output_type": "stream",
       "stream": "stdout",
       "text": [
        "\n",
        "ridership/May 2013.xlsx"
       ]
      },
      {
       "output_type": "stream",
       "stream": "stdout",
       "text": [
        "\n",
        "ridership/June 2013.xlsx"
       ]
      },
      {
       "output_type": "stream",
       "stream": "stdout",
       "text": [
        "\n",
        "ridership/July 2013.xlsx"
       ]
      },
      {
       "output_type": "stream",
       "stream": "stdout",
       "text": [
        "\n",
        "ridership/August 2013.xlsx"
       ]
      },
      {
       "output_type": "stream",
       "stream": "stdout",
       "text": [
        "\n",
        "ridership/September 2013.xlsx"
       ]
      },
      {
       "output_type": "stream",
       "stream": "stdout",
       "text": [
        "\n",
        "ridership/October 2013.xlsx"
       ]
      },
      {
       "output_type": "stream",
       "stream": "stdout",
       "text": [
        "\n",
        "ridership/November 2013.xlsx"
       ]
      },
      {
       "output_type": "stream",
       "stream": "stdout",
       "text": [
        "\n",
        "ridership/December 2013.xlsx"
       ]
      },
      {
       "output_type": "stream",
       "stream": "stdout",
       "text": [
        "\n",
        "ridership/January 2013.xlsx"
       ]
      },
      {
       "output_type": "stream",
       "stream": "stdout",
       "text": [
        "\n",
        "ridership/February 2013.xlsx"
       ]
      },
      {
       "output_type": "stream",
       "stream": "stdout",
       "text": [
        "\n",
        "ridership/March 2013.xlsx"
       ]
      },
      {
       "output_type": "stream",
       "stream": "stdout",
       "text": [
        "\n",
        "ridership/April 2013.xlsx"
       ]
      },
      {
       "output_type": "stream",
       "stream": "stdout",
       "text": [
        "\n",
        "ridership/May 2013.xlsx"
       ]
      },
      {
       "output_type": "stream",
       "stream": "stdout",
       "text": [
        "\n",
        "ridership/June 2013.xlsx"
       ]
      },
      {
       "output_type": "stream",
       "stream": "stdout",
       "text": [
        "\n",
        "ridership/July 2013.xlsx"
       ]
      },
      {
       "output_type": "stream",
       "stream": "stdout",
       "text": [
        "\n",
        "ridership/August 2013.xlsx"
       ]
      },
      {
       "output_type": "stream",
       "stream": "stdout",
       "text": [
        "\n",
        "ridership/September 2013.xlsx"
       ]
      },
      {
       "output_type": "stream",
       "stream": "stdout",
       "text": [
        "\n",
        "ridership/October 2013.xlsx"
       ]
      },
      {
       "output_type": "stream",
       "stream": "stdout",
       "text": [
        "\n",
        "ridership/November 2013.xlsx"
       ]
      },
      {
       "output_type": "stream",
       "stream": "stdout",
       "text": [
        "\n",
        "ridership/December 2013.xlsx"
       ]
      },
      {
       "output_type": "stream",
       "stream": "stdout",
       "text": [
        "\n",
        "ridership/January 2013.xlsx"
       ]
      },
      {
       "output_type": "stream",
       "stream": "stdout",
       "text": [
        "\n",
        "ridership/February 2013.xlsx"
       ]
      },
      {
       "output_type": "stream",
       "stream": "stdout",
       "text": [
        "\n",
        "ridership/March 2013.xlsx"
       ]
      },
      {
       "output_type": "stream",
       "stream": "stdout",
       "text": [
        "\n",
        "ridership/April 2013.xlsx"
       ]
      },
      {
       "output_type": "stream",
       "stream": "stdout",
       "text": [
        "\n",
        "ridership/May 2013.xlsx"
       ]
      },
      {
       "output_type": "stream",
       "stream": "stdout",
       "text": [
        "\n",
        "ridership/June 2013.xlsx"
       ]
      },
      {
       "output_type": "stream",
       "stream": "stdout",
       "text": [
        "\n",
        "ridership/July 2013.xlsx"
       ]
      },
      {
       "output_type": "stream",
       "stream": "stdout",
       "text": [
        "\n",
        "ridership/August 2013.xlsx"
       ]
      },
      {
       "output_type": "stream",
       "stream": "stdout",
       "text": [
        "\n",
        "ridership/September 2013.xlsx"
       ]
      },
      {
       "output_type": "stream",
       "stream": "stdout",
       "text": [
        "\n",
        "ridership/October 2013.xlsx"
       ]
      },
      {
       "output_type": "stream",
       "stream": "stdout",
       "text": [
        "\n",
        "ridership/November 2013.xlsx"
       ]
      },
      {
       "output_type": "stream",
       "stream": "stdout",
       "text": [
        "\n",
        "ridership/December 2013.xlsx"
       ]
      },
      {
       "output_type": "stream",
       "stream": "stdout",
       "text": [
        "\n",
        "ridership/January 2013.xlsx"
       ]
      },
      {
       "output_type": "stream",
       "stream": "stdout",
       "text": [
        "\n",
        "ridership/February 2013.xlsx"
       ]
      },
      {
       "output_type": "stream",
       "stream": "stdout",
       "text": [
        "\n",
        "ridership/March 2013.xlsx"
       ]
      },
      {
       "output_type": "stream",
       "stream": "stdout",
       "text": [
        "\n",
        "ridership/April 2013.xlsx"
       ]
      },
      {
       "output_type": "stream",
       "stream": "stdout",
       "text": [
        "\n",
        "ridership/May 2013.xlsx"
       ]
      },
      {
       "output_type": "stream",
       "stream": "stdout",
       "text": [
        "\n",
        "ridership/June 2013.xlsx"
       ]
      },
      {
       "output_type": "stream",
       "stream": "stdout",
       "text": [
        "\n",
        "ridership/July 2013.xlsx"
       ]
      },
      {
       "output_type": "stream",
       "stream": "stdout",
       "text": [
        "\n",
        "ridership/August 2013.xlsx"
       ]
      },
      {
       "output_type": "stream",
       "stream": "stdout",
       "text": [
        "\n",
        "ridership/September 2013.xlsx"
       ]
      },
      {
       "output_type": "stream",
       "stream": "stdout",
       "text": [
        "\n",
        "ridership/October 2013.xlsx"
       ]
      },
      {
       "output_type": "stream",
       "stream": "stdout",
       "text": [
        "\n",
        "ridership/November 2013.xlsx"
       ]
      },
      {
       "output_type": "stream",
       "stream": "stdout",
       "text": [
        "\n",
        "ridership/December 2013.xlsx"
       ]
      },
      {
       "output_type": "stream",
       "stream": "stdout",
       "text": [
        "\n",
        "ridership/January 2013.xlsx"
       ]
      },
      {
       "output_type": "stream",
       "stream": "stdout",
       "text": [
        "\n",
        "ridership/February 2013.xlsx"
       ]
      },
      {
       "output_type": "stream",
       "stream": "stdout",
       "text": [
        "\n",
        "ridership/March 2013.xlsx"
       ]
      },
      {
       "output_type": "stream",
       "stream": "stdout",
       "text": [
        "\n",
        "ridership/April 2013.xlsx"
       ]
      },
      {
       "output_type": "stream",
       "stream": "stdout",
       "text": [
        "\n",
        "ridership/May 2013.xlsx"
       ]
      },
      {
       "output_type": "stream",
       "stream": "stdout",
       "text": [
        "\n",
        "ridership/June 2013.xlsx"
       ]
      },
      {
       "output_type": "stream",
       "stream": "stdout",
       "text": [
        "\n",
        "ridership/July 2013.xlsx"
       ]
      },
      {
       "output_type": "stream",
       "stream": "stdout",
       "text": [
        "\n",
        "ridership/August 2013.xlsx"
       ]
      },
      {
       "output_type": "stream",
       "stream": "stdout",
       "text": [
        "\n",
        "ridership/September 2013.xlsx"
       ]
      },
      {
       "output_type": "stream",
       "stream": "stdout",
       "text": [
        "\n",
        "ridership/October 2013.xlsx"
       ]
      },
      {
       "output_type": "stream",
       "stream": "stdout",
       "text": [
        "\n",
        "ridership/November 2013.xlsx"
       ]
      },
      {
       "output_type": "stream",
       "stream": "stdout",
       "text": [
        "\n",
        "ridership/December 2013.xlsx"
       ]
      },
      {
       "output_type": "stream",
       "stream": "stdout",
       "text": [
        "\n",
        "ridership/January 2013.xlsx"
       ]
      },
      {
       "output_type": "stream",
       "stream": "stdout",
       "text": [
        "\n",
        "ridership/February 2013.xlsx"
       ]
      },
      {
       "output_type": "stream",
       "stream": "stdout",
       "text": [
        "\n",
        "ridership/March 2013.xlsx"
       ]
      },
      {
       "output_type": "stream",
       "stream": "stdout",
       "text": [
        "\n",
        "ridership/April 2013.xlsx"
       ]
      },
      {
       "output_type": "stream",
       "stream": "stdout",
       "text": [
        "\n",
        "ridership/May 2013.xlsx"
       ]
      },
      {
       "output_type": "stream",
       "stream": "stdout",
       "text": [
        "\n",
        "ridership/June 2013.xlsx"
       ]
      },
      {
       "output_type": "stream",
       "stream": "stdout",
       "text": [
        "\n",
        "ridership/July 2013.xlsx"
       ]
      },
      {
       "output_type": "stream",
       "stream": "stdout",
       "text": [
        "\n",
        "ridership/August 2013.xlsx"
       ]
      },
      {
       "output_type": "stream",
       "stream": "stdout",
       "text": [
        "\n",
        "ridership/September 2013.xlsx"
       ]
      },
      {
       "output_type": "stream",
       "stream": "stdout",
       "text": [
        "\n",
        "ridership/October 2013.xlsx"
       ]
      },
      {
       "output_type": "stream",
       "stream": "stdout",
       "text": [
        "\n",
        "ridership/November 2013.xlsx"
       ]
      },
      {
       "output_type": "stream",
       "stream": "stdout",
       "text": [
        "\n",
        "ridership/December 2013.xlsx"
       ]
      },
      {
       "output_type": "stream",
       "stream": "stdout",
       "text": [
        "\n",
        "ridership/January 2013.xlsx"
       ]
      },
      {
       "output_type": "stream",
       "stream": "stdout",
       "text": [
        "\n",
        "ridership/February 2013.xlsx"
       ]
      },
      {
       "output_type": "stream",
       "stream": "stdout",
       "text": [
        "\n",
        "ridership/March 2013.xlsx"
       ]
      },
      {
       "output_type": "stream",
       "stream": "stdout",
       "text": [
        "\n",
        "ridership/April 2013.xlsx"
       ]
      },
      {
       "output_type": "stream",
       "stream": "stdout",
       "text": [
        "\n",
        "ridership/May 2013.xlsx"
       ]
      },
      {
       "output_type": "stream",
       "stream": "stdout",
       "text": [
        "\n",
        "ridership/June 2013.xlsx"
       ]
      },
      {
       "output_type": "stream",
       "stream": "stdout",
       "text": [
        "\n",
        "ridership/July 2013.xlsx"
       ]
      },
      {
       "output_type": "stream",
       "stream": "stdout",
       "text": [
        "\n",
        "ridership/August 2013.xlsx"
       ]
      },
      {
       "output_type": "stream",
       "stream": "stdout",
       "text": [
        "\n",
        "ridership/September 2013.xlsx"
       ]
      },
      {
       "output_type": "stream",
       "stream": "stdout",
       "text": [
        "\n",
        "ridership/October 2013.xlsx"
       ]
      },
      {
       "output_type": "stream",
       "stream": "stdout",
       "text": [
        "\n",
        "ridership/November 2013.xlsx"
       ]
      },
      {
       "output_type": "stream",
       "stream": "stdout",
       "text": [
        "\n",
        "ridership/December 2013.xlsx"
       ]
      },
      {
       "output_type": "stream",
       "stream": "stdout",
       "text": [
        "\n",
        "ridership/January 2013.xlsx"
       ]
      },
      {
       "output_type": "stream",
       "stream": "stdout",
       "text": [
        "\n",
        "ridership/February 2013.xlsx"
       ]
      },
      {
       "output_type": "stream",
       "stream": "stdout",
       "text": [
        "\n",
        "ridership/March 2013.xlsx"
       ]
      },
      {
       "output_type": "stream",
       "stream": "stdout",
       "text": [
        "\n",
        "ridership/April 2013.xlsx"
       ]
      },
      {
       "output_type": "stream",
       "stream": "stdout",
       "text": [
        "\n",
        "ridership/May 2013.xlsx"
       ]
      },
      {
       "output_type": "stream",
       "stream": "stdout",
       "text": [
        "\n",
        "ridership/June 2013.xlsx"
       ]
      },
      {
       "output_type": "stream",
       "stream": "stdout",
       "text": [
        "\n",
        "ridership/July 2013.xlsx"
       ]
      },
      {
       "output_type": "stream",
       "stream": "stdout",
       "text": [
        "\n",
        "ridership/August 2013.xlsx"
       ]
      },
      {
       "output_type": "stream",
       "stream": "stdout",
       "text": [
        "\n",
        "ridership/September 2013.xlsx"
       ]
      },
      {
       "output_type": "stream",
       "stream": "stdout",
       "text": [
        "\n",
        "ridership/October 2013.xlsx"
       ]
      },
      {
       "output_type": "stream",
       "stream": "stdout",
       "text": [
        "\n",
        "ridership/November 2013.xlsx"
       ]
      },
      {
       "output_type": "stream",
       "stream": "stdout",
       "text": [
        "\n",
        "ridership/December 2013.xlsx"
       ]
      },
      {
       "output_type": "stream",
       "stream": "stdout",
       "text": [
        "\n",
        "ridership/January 2013.xlsx"
       ]
      },
      {
       "output_type": "stream",
       "stream": "stdout",
       "text": [
        "\n",
        "ridership/February 2013.xlsx"
       ]
      },
      {
       "output_type": "stream",
       "stream": "stdout",
       "text": [
        "\n",
        "ridership/March 2013.xlsx"
       ]
      },
      {
       "output_type": "stream",
       "stream": "stdout",
       "text": [
        "\n",
        "ridership/April 2013.xlsx"
       ]
      },
      {
       "output_type": "stream",
       "stream": "stdout",
       "text": [
        "\n",
        "ridership/May 2013.xlsx"
       ]
      },
      {
       "output_type": "stream",
       "stream": "stdout",
       "text": [
        "\n",
        "ridership/June 2013.xlsx"
       ]
      },
      {
       "output_type": "stream",
       "stream": "stdout",
       "text": [
        "\n",
        "ridership/July 2013.xlsx"
       ]
      },
      {
       "output_type": "stream",
       "stream": "stdout",
       "text": [
        "\n",
        "ridership/August 2013.xlsx"
       ]
      },
      {
       "output_type": "stream",
       "stream": "stdout",
       "text": [
        "\n",
        "ridership/September 2013.xlsx"
       ]
      },
      {
       "output_type": "stream",
       "stream": "stdout",
       "text": [
        "\n",
        "ridership/October 2013.xlsx"
       ]
      },
      {
       "output_type": "stream",
       "stream": "stdout",
       "text": [
        "\n",
        "ridership/November 2013.xlsx"
       ]
      },
      {
       "output_type": "stream",
       "stream": "stdout",
       "text": [
        "\n",
        "ridership/December 2013.xlsx"
       ]
      },
      {
       "output_type": "stream",
       "stream": "stdout",
       "text": [
        "\n",
        "ridership/January 2013.xlsx"
       ]
      },
      {
       "output_type": "stream",
       "stream": "stdout",
       "text": [
        "\n",
        "ridership/February 2013.xlsx"
       ]
      },
      {
       "output_type": "stream",
       "stream": "stdout",
       "text": [
        "\n",
        "ridership/March 2013.xlsx"
       ]
      },
      {
       "output_type": "stream",
       "stream": "stdout",
       "text": [
        "\n",
        "ridership/April 2013.xlsx"
       ]
      },
      {
       "output_type": "stream",
       "stream": "stdout",
       "text": [
        "\n",
        "ridership/May 2013.xlsx"
       ]
      },
      {
       "output_type": "stream",
       "stream": "stdout",
       "text": [
        "\n",
        "ridership/June 2013.xlsx"
       ]
      },
      {
       "output_type": "stream",
       "stream": "stdout",
       "text": [
        "\n",
        "ridership/July 2013.xlsx"
       ]
      },
      {
       "output_type": "stream",
       "stream": "stdout",
       "text": [
        "\n",
        "ridership/August 2013.xlsx"
       ]
      },
      {
       "output_type": "stream",
       "stream": "stdout",
       "text": [
        "\n",
        "ridership/September 2013.xlsx"
       ]
      },
      {
       "output_type": "stream",
       "stream": "stdout",
       "text": [
        "\n",
        "ridership/October 2013.xlsx"
       ]
      },
      {
       "output_type": "stream",
       "stream": "stdout",
       "text": [
        "\n",
        "ridership/November 2013.xlsx"
       ]
      },
      {
       "output_type": "stream",
       "stream": "stdout",
       "text": [
        "\n",
        "ridership/December 2013.xlsx"
       ]
      },
      {
       "output_type": "stream",
       "stream": "stdout",
       "text": [
        "\n",
        "ridership/January 2013.xlsx"
       ]
      },
      {
       "output_type": "stream",
       "stream": "stdout",
       "text": [
        "\n",
        "ridership/February 2013.xlsx"
       ]
      },
      {
       "output_type": "stream",
       "stream": "stdout",
       "text": [
        "\n",
        "ridership/March 2013.xlsx"
       ]
      },
      {
       "output_type": "stream",
       "stream": "stdout",
       "text": [
        "\n",
        "ridership/April 2013.xlsx"
       ]
      },
      {
       "output_type": "stream",
       "stream": "stdout",
       "text": [
        "\n",
        "ridership/May 2013.xlsx"
       ]
      },
      {
       "output_type": "stream",
       "stream": "stdout",
       "text": [
        "\n",
        "ridership/June 2013.xlsx"
       ]
      },
      {
       "output_type": "stream",
       "stream": "stdout",
       "text": [
        "\n",
        "ridership/July 2013.xlsx"
       ]
      },
      {
       "output_type": "stream",
       "stream": "stdout",
       "text": [
        "\n",
        "ridership/August 2013.xlsx"
       ]
      },
      {
       "output_type": "stream",
       "stream": "stdout",
       "text": [
        "\n",
        "ridership/September 2013.xlsx"
       ]
      },
      {
       "output_type": "stream",
       "stream": "stdout",
       "text": [
        "\n",
        "ridership/October 2013.xlsx"
       ]
      },
      {
       "output_type": "stream",
       "stream": "stdout",
       "text": [
        "\n",
        "ridership/November 2013.xlsx"
       ]
      },
      {
       "output_type": "stream",
       "stream": "stdout",
       "text": [
        "\n",
        "ridership/December 2013.xlsx"
       ]
      },
      {
       "output_type": "stream",
       "stream": "stdout",
       "text": [
        "\n",
        "ridership/January 2013.xlsx"
       ]
      },
      {
       "output_type": "stream",
       "stream": "stdout",
       "text": [
        "\n",
        "ridership/February 2013.xlsx"
       ]
      },
      {
       "output_type": "stream",
       "stream": "stdout",
       "text": [
        "\n",
        "ridership/March 2013.xlsx"
       ]
      },
      {
       "output_type": "stream",
       "stream": "stdout",
       "text": [
        "\n",
        "ridership/April 2013.xlsx"
       ]
      },
      {
       "output_type": "stream",
       "stream": "stdout",
       "text": [
        "\n",
        "ridership/May 2013.xlsx"
       ]
      },
      {
       "output_type": "stream",
       "stream": "stdout",
       "text": [
        "\n",
        "ridership/June 2013.xlsx"
       ]
      },
      {
       "output_type": "stream",
       "stream": "stdout",
       "text": [
        "\n",
        "ridership/July 2013.xlsx"
       ]
      },
      {
       "output_type": "stream",
       "stream": "stdout",
       "text": [
        "\n",
        "ridership/August 2013.xlsx"
       ]
      },
      {
       "output_type": "stream",
       "stream": "stdout",
       "text": [
        "\n",
        "ridership/September 2013.xlsx"
       ]
      },
      {
       "output_type": "stream",
       "stream": "stdout",
       "text": [
        "\n",
        "ridership/October 2013.xlsx"
       ]
      },
      {
       "output_type": "stream",
       "stream": "stdout",
       "text": [
        "\n",
        "ridership/November 2013.xlsx"
       ]
      },
      {
       "output_type": "stream",
       "stream": "stdout",
       "text": [
        "\n",
        "ridership/December 2013.xlsx"
       ]
      },
      {
       "output_type": "stream",
       "stream": "stdout",
       "text": [
        "\n",
        "ridership/January 2013.xlsx"
       ]
      },
      {
       "output_type": "stream",
       "stream": "stdout",
       "text": [
        "\n",
        "ridership/February 2013.xlsx"
       ]
      },
      {
       "output_type": "stream",
       "stream": "stdout",
       "text": [
        "\n",
        "ridership/March 2013.xlsx"
       ]
      },
      {
       "output_type": "stream",
       "stream": "stdout",
       "text": [
        "\n",
        "ridership/April 2013.xlsx"
       ]
      },
      {
       "output_type": "stream",
       "stream": "stdout",
       "text": [
        "\n",
        "ridership/May 2013.xlsx"
       ]
      },
      {
       "output_type": "stream",
       "stream": "stdout",
       "text": [
        "\n",
        "ridership/June 2013.xlsx"
       ]
      },
      {
       "output_type": "stream",
       "stream": "stdout",
       "text": [
        "\n",
        "ridership/July 2013.xlsx"
       ]
      },
      {
       "output_type": "stream",
       "stream": "stdout",
       "text": [
        "\n",
        "ridership/August 2013.xlsx"
       ]
      },
      {
       "output_type": "stream",
       "stream": "stdout",
       "text": [
        "\n",
        "ridership/September 2013.xlsx"
       ]
      },
      {
       "output_type": "stream",
       "stream": "stdout",
       "text": [
        "\n",
        "ridership/October 2013.xlsx"
       ]
      },
      {
       "output_type": "stream",
       "stream": "stdout",
       "text": [
        "\n",
        "ridership/November 2013.xlsx"
       ]
      },
      {
       "output_type": "stream",
       "stream": "stdout",
       "text": [
        "\n",
        "ridership/December 2013.xlsx"
       ]
      },
      {
       "output_type": "stream",
       "stream": "stdout",
       "text": [
        "\n",
        "ridership/January 2013.xlsx"
       ]
      },
      {
       "output_type": "stream",
       "stream": "stdout",
       "text": [
        "\n",
        "ridership/February 2013.xlsx"
       ]
      },
      {
       "output_type": "stream",
       "stream": "stdout",
       "text": [
        "\n",
        "ridership/March 2013.xlsx"
       ]
      },
      {
       "output_type": "stream",
       "stream": "stdout",
       "text": [
        "\n",
        "ridership/April 2013.xlsx"
       ]
      },
      {
       "output_type": "stream",
       "stream": "stdout",
       "text": [
        "\n",
        "ridership/May 2013.xlsx"
       ]
      },
      {
       "output_type": "stream",
       "stream": "stdout",
       "text": [
        "\n",
        "ridership/June 2013.xlsx"
       ]
      },
      {
       "output_type": "stream",
       "stream": "stdout",
       "text": [
        "\n",
        "ridership/July 2013.xlsx"
       ]
      },
      {
       "output_type": "stream",
       "stream": "stdout",
       "text": [
        "\n",
        "ridership/August 2013.xlsx"
       ]
      },
      {
       "output_type": "stream",
       "stream": "stdout",
       "text": [
        "\n",
        "ridership/September 2013.xlsx"
       ]
      },
      {
       "output_type": "stream",
       "stream": "stdout",
       "text": [
        "\n",
        "ridership/October 2013.xlsx"
       ]
      },
      {
       "output_type": "stream",
       "stream": "stdout",
       "text": [
        "\n",
        "ridership/November 2013.xlsx"
       ]
      },
      {
       "output_type": "stream",
       "stream": "stdout",
       "text": [
        "\n",
        "ridership/December 2013.xlsx"
       ]
      },
      {
       "output_type": "stream",
       "stream": "stdout",
       "text": [
        "\n",
        "ridership/January 2013.xlsx"
       ]
      },
      {
       "output_type": "stream",
       "stream": "stdout",
       "text": [
        "\n",
        "ridership/February 2013.xlsx"
       ]
      },
      {
       "output_type": "stream",
       "stream": "stdout",
       "text": [
        "\n",
        "ridership/March 2013.xlsx"
       ]
      },
      {
       "output_type": "stream",
       "stream": "stdout",
       "text": [
        "\n",
        "ridership/April 2013.xlsx"
       ]
      },
      {
       "output_type": "stream",
       "stream": "stdout",
       "text": [
        "\n",
        "ridership/May 2013.xlsx"
       ]
      },
      {
       "output_type": "stream",
       "stream": "stdout",
       "text": [
        "\n",
        "ridership/June 2013.xlsx"
       ]
      },
      {
       "output_type": "stream",
       "stream": "stdout",
       "text": [
        "\n",
        "ridership/July 2013.xlsx"
       ]
      },
      {
       "output_type": "stream",
       "stream": "stdout",
       "text": [
        "\n",
        "ridership/August 2013.xlsx"
       ]
      },
      {
       "output_type": "stream",
       "stream": "stdout",
       "text": [
        "\n",
        "ridership/September 2013.xlsx"
       ]
      },
      {
       "output_type": "stream",
       "stream": "stdout",
       "text": [
        "\n",
        "ridership/October 2013.xlsx"
       ]
      },
      {
       "output_type": "stream",
       "stream": "stdout",
       "text": [
        "\n",
        "ridership/November 2013.xlsx"
       ]
      },
      {
       "output_type": "stream",
       "stream": "stdout",
       "text": [
        "\n",
        "ridership/December 2013.xlsx"
       ]
      },
      {
       "output_type": "stream",
       "stream": "stdout",
       "text": [
        "\n",
        "ridership/January 2013.xlsx"
       ]
      },
      {
       "output_type": "stream",
       "stream": "stdout",
       "text": [
        "\n",
        "ridership/February 2013.xlsx"
       ]
      },
      {
       "output_type": "stream",
       "stream": "stdout",
       "text": [
        "\n",
        "ridership/March 2013.xlsx"
       ]
      },
      {
       "output_type": "stream",
       "stream": "stdout",
       "text": [
        "\n",
        "ridership/April 2013.xlsx"
       ]
      },
      {
       "output_type": "stream",
       "stream": "stdout",
       "text": [
        "\n",
        "ridership/May 2013.xlsx"
       ]
      },
      {
       "output_type": "stream",
       "stream": "stdout",
       "text": [
        "\n",
        "ridership/June 2013.xlsx"
       ]
      },
      {
       "output_type": "stream",
       "stream": "stdout",
       "text": [
        "\n",
        "ridership/July 2013.xlsx"
       ]
      },
      {
       "output_type": "stream",
       "stream": "stdout",
       "text": [
        "\n",
        "ridership/August 2013.xlsx"
       ]
      },
      {
       "output_type": "stream",
       "stream": "stdout",
       "text": [
        "\n",
        "ridership/September 2013.xlsx"
       ]
      },
      {
       "output_type": "stream",
       "stream": "stdout",
       "text": [
        "\n",
        "ridership/October 2013.xlsx"
       ]
      },
      {
       "output_type": "stream",
       "stream": "stdout",
       "text": [
        "\n",
        "ridership/November 2013.xlsx"
       ]
      },
      {
       "output_type": "stream",
       "stream": "stdout",
       "text": [
        "\n",
        "ridership/December 2013.xlsx"
       ]
      },
      {
       "output_type": "stream",
       "stream": "stdout",
       "text": [
        "\n",
        "ridership/January 2013.xlsx"
       ]
      },
      {
       "output_type": "stream",
       "stream": "stdout",
       "text": [
        "\n",
        "ridership/February 2013.xlsx"
       ]
      },
      {
       "output_type": "stream",
       "stream": "stdout",
       "text": [
        "\n",
        "ridership/March 2013.xlsx"
       ]
      },
      {
       "output_type": "stream",
       "stream": "stdout",
       "text": [
        "\n",
        "ridership/April 2013.xlsx"
       ]
      },
      {
       "output_type": "stream",
       "stream": "stdout",
       "text": [
        "\n",
        "ridership/May 2013.xlsx"
       ]
      },
      {
       "output_type": "stream",
       "stream": "stdout",
       "text": [
        "\n",
        "ridership/June 2013.xlsx"
       ]
      },
      {
       "output_type": "stream",
       "stream": "stdout",
       "text": [
        "\n",
        "ridership/July 2013.xlsx"
       ]
      },
      {
       "output_type": "stream",
       "stream": "stdout",
       "text": [
        "\n",
        "ridership/August 2013.xlsx"
       ]
      },
      {
       "output_type": "stream",
       "stream": "stdout",
       "text": [
        "\n",
        "ridership/September 2013.xlsx"
       ]
      },
      {
       "output_type": "stream",
       "stream": "stdout",
       "text": [
        "\n",
        "ridership/October 2013.xlsx"
       ]
      },
      {
       "output_type": "stream",
       "stream": "stdout",
       "text": [
        "\n",
        "ridership/November 2013.xlsx"
       ]
      },
      {
       "output_type": "stream",
       "stream": "stdout",
       "text": [
        "\n",
        "ridership/December 2013.xlsx"
       ]
      },
      {
       "output_type": "stream",
       "stream": "stdout",
       "text": [
        "\n",
        "ridership/January 2013.xlsx"
       ]
      },
      {
       "output_type": "stream",
       "stream": "stdout",
       "text": [
        "\n",
        "ridership/February 2013.xlsx"
       ]
      },
      {
       "output_type": "stream",
       "stream": "stdout",
       "text": [
        "\n",
        "ridership/March 2013.xlsx"
       ]
      },
      {
       "output_type": "stream",
       "stream": "stdout",
       "text": [
        "\n",
        "ridership/April 2013.xlsx"
       ]
      },
      {
       "output_type": "stream",
       "stream": "stdout",
       "text": [
        "\n",
        "ridership/May 2013.xlsx"
       ]
      },
      {
       "output_type": "stream",
       "stream": "stdout",
       "text": [
        "\n",
        "ridership/June 2013.xlsx"
       ]
      },
      {
       "output_type": "stream",
       "stream": "stdout",
       "text": [
        "\n",
        "ridership/July 2013.xlsx"
       ]
      },
      {
       "output_type": "stream",
       "stream": "stdout",
       "text": [
        "\n",
        "ridership/August 2013.xlsx"
       ]
      },
      {
       "output_type": "stream",
       "stream": "stdout",
       "text": [
        "\n",
        "ridership/September 2013.xlsx"
       ]
      },
      {
       "output_type": "stream",
       "stream": "stdout",
       "text": [
        "\n",
        "ridership/October 2013.xlsx"
       ]
      },
      {
       "output_type": "stream",
       "stream": "stdout",
       "text": [
        "\n",
        "ridership/November 2013.xlsx"
       ]
      },
      {
       "output_type": "stream",
       "stream": "stdout",
       "text": [
        "\n",
        "ridership/December 2013.xlsx"
       ]
      },
      {
       "output_type": "stream",
       "stream": "stdout",
       "text": [
        "\n",
        "ridership/January 2013.xlsx"
       ]
      },
      {
       "output_type": "stream",
       "stream": "stdout",
       "text": [
        "\n",
        "ridership/February 2013.xlsx"
       ]
      },
      {
       "output_type": "stream",
       "stream": "stdout",
       "text": [
        "\n",
        "ridership/March 2013.xlsx"
       ]
      },
      {
       "output_type": "stream",
       "stream": "stdout",
       "text": [
        "\n",
        "ridership/April 2013.xlsx"
       ]
      },
      {
       "output_type": "stream",
       "stream": "stdout",
       "text": [
        "\n",
        "ridership/May 2013.xlsx"
       ]
      },
      {
       "output_type": "stream",
       "stream": "stdout",
       "text": [
        "\n",
        "ridership/June 2013.xlsx"
       ]
      },
      {
       "output_type": "stream",
       "stream": "stdout",
       "text": [
        "\n",
        "ridership/July 2013.xlsx"
       ]
      },
      {
       "output_type": "stream",
       "stream": "stdout",
       "text": [
        "\n",
        "ridership/August 2013.xlsx"
       ]
      },
      {
       "output_type": "stream",
       "stream": "stdout",
       "text": [
        "\n",
        "ridership/September 2013.xlsx"
       ]
      },
      {
       "output_type": "stream",
       "stream": "stdout",
       "text": [
        "\n",
        "ridership/October 2013.xlsx"
       ]
      },
      {
       "output_type": "stream",
       "stream": "stdout",
       "text": [
        "\n",
        "ridership/November 2013.xlsx"
       ]
      },
      {
       "output_type": "stream",
       "stream": "stdout",
       "text": [
        "\n",
        "ridership/December 2013.xlsx"
       ]
      },
      {
       "output_type": "stream",
       "stream": "stdout",
       "text": [
        "\n",
        "ridership/January 2013.xlsx"
       ]
      },
      {
       "output_type": "stream",
       "stream": "stdout",
       "text": [
        "\n",
        "ridership/February 2013.xlsx"
       ]
      },
      {
       "output_type": "stream",
       "stream": "stdout",
       "text": [
        "\n",
        "ridership/March 2013.xlsx"
       ]
      },
      {
       "output_type": "stream",
       "stream": "stdout",
       "text": [
        "\n",
        "ridership/April 2013.xlsx"
       ]
      },
      {
       "output_type": "stream",
       "stream": "stdout",
       "text": [
        "\n",
        "ridership/May 2013.xlsx"
       ]
      },
      {
       "output_type": "stream",
       "stream": "stdout",
       "text": [
        "\n",
        "ridership/June 2013.xlsx"
       ]
      },
      {
       "output_type": "stream",
       "stream": "stdout",
       "text": [
        "\n",
        "ridership/July 2013.xlsx"
       ]
      },
      {
       "output_type": "stream",
       "stream": "stdout",
       "text": [
        "\n",
        "ridership/August 2013.xlsx"
       ]
      },
      {
       "output_type": "stream",
       "stream": "stdout",
       "text": [
        "\n",
        "ridership/September 2013.xlsx"
       ]
      },
      {
       "output_type": "stream",
       "stream": "stdout",
       "text": [
        "\n",
        "ridership/October 2013.xlsx"
       ]
      },
      {
       "output_type": "stream",
       "stream": "stdout",
       "text": [
        "\n",
        "ridership/November 2013.xlsx"
       ]
      },
      {
       "output_type": "stream",
       "stream": "stdout",
       "text": [
        "\n",
        "ridership/December 2013.xlsx"
       ]
      },
      {
       "output_type": "stream",
       "stream": "stdout",
       "text": [
        "\n",
        "ridership/January 2013.xlsx"
       ]
      },
      {
       "output_type": "stream",
       "stream": "stdout",
       "text": [
        "\n",
        "ridership/February 2013.xlsx"
       ]
      },
      {
       "output_type": "stream",
       "stream": "stdout",
       "text": [
        "\n",
        "ridership/March 2013.xlsx"
       ]
      },
      {
       "output_type": "stream",
       "stream": "stdout",
       "text": [
        "\n",
        "ridership/April 2013.xlsx"
       ]
      },
      {
       "output_type": "stream",
       "stream": "stdout",
       "text": [
        "\n",
        "ridership/May 2013.xlsx"
       ]
      },
      {
       "output_type": "stream",
       "stream": "stdout",
       "text": [
        "\n",
        "ridership/June 2013.xlsx"
       ]
      },
      {
       "output_type": "stream",
       "stream": "stdout",
       "text": [
        "\n",
        "ridership/July 2013.xlsx"
       ]
      },
      {
       "output_type": "stream",
       "stream": "stdout",
       "text": [
        "\n",
        "ridership/August 2013.xlsx"
       ]
      },
      {
       "output_type": "stream",
       "stream": "stdout",
       "text": [
        "\n",
        "ridership/September 2013.xlsx"
       ]
      },
      {
       "output_type": "stream",
       "stream": "stdout",
       "text": [
        "\n",
        "ridership/October 2013.xlsx"
       ]
      },
      {
       "output_type": "stream",
       "stream": "stdout",
       "text": [
        "\n",
        "ridership/November 2013.xlsx"
       ]
      },
      {
       "output_type": "stream",
       "stream": "stdout",
       "text": [
        "\n",
        "ridership/December 2013.xlsx"
       ]
      },
      {
       "output_type": "stream",
       "stream": "stdout",
       "text": [
        "\n",
        "ridership/January 2013.xlsx"
       ]
      },
      {
       "output_type": "stream",
       "stream": "stdout",
       "text": [
        "\n",
        "ridership/February 2013.xlsx"
       ]
      },
      {
       "output_type": "stream",
       "stream": "stdout",
       "text": [
        "\n",
        "ridership/March 2013.xlsx"
       ]
      },
      {
       "output_type": "stream",
       "stream": "stdout",
       "text": [
        "\n",
        "ridership/April 2013.xlsx"
       ]
      },
      {
       "output_type": "stream",
       "stream": "stdout",
       "text": [
        "\n",
        "ridership/May 2013.xlsx"
       ]
      },
      {
       "output_type": "stream",
       "stream": "stdout",
       "text": [
        "\n",
        "ridership/June 2013.xlsx"
       ]
      },
      {
       "output_type": "stream",
       "stream": "stdout",
       "text": [
        "\n",
        "ridership/July 2013.xlsx"
       ]
      },
      {
       "output_type": "stream",
       "stream": "stdout",
       "text": [
        "\n",
        "ridership/August 2013.xlsx"
       ]
      },
      {
       "output_type": "stream",
       "stream": "stdout",
       "text": [
        "\n",
        "ridership/September 2013.xlsx"
       ]
      },
      {
       "output_type": "stream",
       "stream": "stdout",
       "text": [
        "\n",
        "ridership/October 2013.xlsx"
       ]
      },
      {
       "output_type": "stream",
       "stream": "stdout",
       "text": [
        "\n",
        "ridership/November 2013.xlsx"
       ]
      },
      {
       "output_type": "stream",
       "stream": "stdout",
       "text": [
        "\n",
        "ridership/December 2013.xlsx"
       ]
      },
      {
       "output_type": "stream",
       "stream": "stdout",
       "text": [
        "\n",
        "ridership/January 2013.xlsx"
       ]
      },
      {
       "output_type": "stream",
       "stream": "stdout",
       "text": [
        "\n",
        "ridership/February 2013.xlsx"
       ]
      },
      {
       "output_type": "stream",
       "stream": "stdout",
       "text": [
        "\n",
        "ridership/March 2013.xlsx"
       ]
      },
      {
       "output_type": "stream",
       "stream": "stdout",
       "text": [
        "\n",
        "ridership/April 2013.xlsx"
       ]
      },
      {
       "output_type": "stream",
       "stream": "stdout",
       "text": [
        "\n",
        "ridership/May 2013.xlsx"
       ]
      },
      {
       "output_type": "stream",
       "stream": "stdout",
       "text": [
        "\n",
        "ridership/June 2013.xlsx"
       ]
      },
      {
       "output_type": "stream",
       "stream": "stdout",
       "text": [
        "\n",
        "ridership/July 2013.xlsx"
       ]
      },
      {
       "output_type": "stream",
       "stream": "stdout",
       "text": [
        "\n",
        "ridership/August 2013.xlsx"
       ]
      },
      {
       "output_type": "stream",
       "stream": "stdout",
       "text": [
        "\n",
        "ridership/September 2013.xlsx"
       ]
      },
      {
       "output_type": "stream",
       "stream": "stdout",
       "text": [
        "\n",
        "ridership/October 2013.xlsx"
       ]
      },
      {
       "output_type": "stream",
       "stream": "stdout",
       "text": [
        "\n",
        "ridership/November 2013.xlsx"
       ]
      },
      {
       "output_type": "stream",
       "stream": "stdout",
       "text": [
        "\n",
        "ridership/December 2013.xlsx"
       ]
      },
      {
       "output_type": "stream",
       "stream": "stdout",
       "text": [
        "\n",
        "ridership/January 2013.xlsx"
       ]
      },
      {
       "output_type": "stream",
       "stream": "stdout",
       "text": [
        "\n",
        "ridership/February 2013.xlsx"
       ]
      },
      {
       "output_type": "stream",
       "stream": "stdout",
       "text": [
        "\n",
        "ridership/March 2013.xlsx"
       ]
      },
      {
       "output_type": "stream",
       "stream": "stdout",
       "text": [
        "\n",
        "ridership/April 2013.xlsx"
       ]
      },
      {
       "output_type": "stream",
       "stream": "stdout",
       "text": [
        "\n",
        "ridership/May 2013.xlsx"
       ]
      },
      {
       "output_type": "stream",
       "stream": "stdout",
       "text": [
        "\n",
        "ridership/June 2013.xlsx"
       ]
      },
      {
       "output_type": "stream",
       "stream": "stdout",
       "text": [
        "\n",
        "ridership/July 2013.xlsx"
       ]
      },
      {
       "output_type": "stream",
       "stream": "stdout",
       "text": [
        "\n",
        "ridership/August 2013.xlsx"
       ]
      },
      {
       "output_type": "stream",
       "stream": "stdout",
       "text": [
        "\n",
        "ridership/September 2013.xlsx"
       ]
      },
      {
       "output_type": "stream",
       "stream": "stdout",
       "text": [
        "\n",
        "ridership/October 2013.xlsx"
       ]
      },
      {
       "output_type": "stream",
       "stream": "stdout",
       "text": [
        "\n",
        "ridership/November 2013.xlsx"
       ]
      },
      {
       "output_type": "stream",
       "stream": "stdout",
       "text": [
        "\n",
        "ridership/December 2013.xlsx"
       ]
      },
      {
       "output_type": "stream",
       "stream": "stdout",
       "text": [
        "\n",
        "ridership/January 2013.xlsx"
       ]
      },
      {
       "output_type": "stream",
       "stream": "stdout",
       "text": [
        "\n",
        "ridership/February 2013.xlsx"
       ]
      },
      {
       "output_type": "stream",
       "stream": "stdout",
       "text": [
        "\n",
        "ridership/March 2013.xlsx"
       ]
      },
      {
       "output_type": "stream",
       "stream": "stdout",
       "text": [
        "\n",
        "ridership/April 2013.xlsx"
       ]
      },
      {
       "output_type": "stream",
       "stream": "stdout",
       "text": [
        "\n",
        "ridership/May 2013.xlsx"
       ]
      },
      {
       "output_type": "stream",
       "stream": "stdout",
       "text": [
        "\n",
        "ridership/June 2013.xlsx"
       ]
      },
      {
       "output_type": "stream",
       "stream": "stdout",
       "text": [
        "\n",
        "ridership/July 2013.xlsx"
       ]
      },
      {
       "output_type": "stream",
       "stream": "stdout",
       "text": [
        "\n",
        "ridership/August 2013.xlsx"
       ]
      },
      {
       "output_type": "stream",
       "stream": "stdout",
       "text": [
        "\n",
        "ridership/September 2013.xlsx"
       ]
      },
      {
       "output_type": "stream",
       "stream": "stdout",
       "text": [
        "\n",
        "ridership/October 2013.xlsx"
       ]
      },
      {
       "output_type": "stream",
       "stream": "stdout",
       "text": [
        "\n",
        "ridership/November 2013.xlsx"
       ]
      },
      {
       "output_type": "stream",
       "stream": "stdout",
       "text": [
        "\n",
        "ridership/December 2013.xlsx"
       ]
      },
      {
       "output_type": "stream",
       "stream": "stdout",
       "text": [
        "\n",
        "ridership/January 2013.xlsx"
       ]
      },
      {
       "output_type": "stream",
       "stream": "stdout",
       "text": [
        "\n",
        "ridership/February 2013.xlsx"
       ]
      },
      {
       "output_type": "stream",
       "stream": "stdout",
       "text": [
        "\n",
        "ridership/March 2013.xlsx"
       ]
      },
      {
       "output_type": "stream",
       "stream": "stdout",
       "text": [
        "\n",
        "ridership/April 2013.xlsx"
       ]
      },
      {
       "output_type": "stream",
       "stream": "stdout",
       "text": [
        "\n",
        "ridership/May 2013.xlsx"
       ]
      },
      {
       "output_type": "stream",
       "stream": "stdout",
       "text": [
        "\n",
        "ridership/June 2013.xlsx"
       ]
      },
      {
       "output_type": "stream",
       "stream": "stdout",
       "text": [
        "\n",
        "ridership/July 2013.xlsx"
       ]
      },
      {
       "output_type": "stream",
       "stream": "stdout",
       "text": [
        "\n",
        "ridership/August 2013.xlsx"
       ]
      },
      {
       "output_type": "stream",
       "stream": "stdout",
       "text": [
        "\n",
        "ridership/September 2013.xlsx"
       ]
      },
      {
       "output_type": "stream",
       "stream": "stdout",
       "text": [
        "\n",
        "ridership/October 2013.xlsx"
       ]
      },
      {
       "output_type": "stream",
       "stream": "stdout",
       "text": [
        "\n",
        "ridership/November 2013.xlsx"
       ]
      },
      {
       "output_type": "stream",
       "stream": "stdout",
       "text": [
        "\n",
        "ridership/December 2013.xlsx"
       ]
      },
      {
       "output_type": "stream",
       "stream": "stdout",
       "text": [
        "\n",
        "ridership/January 2013.xlsx"
       ]
      },
      {
       "output_type": "stream",
       "stream": "stdout",
       "text": [
        "\n",
        "ridership/February 2013.xlsx"
       ]
      },
      {
       "output_type": "stream",
       "stream": "stdout",
       "text": [
        "\n",
        "ridership/March 2013.xlsx"
       ]
      },
      {
       "output_type": "stream",
       "stream": "stdout",
       "text": [
        "\n",
        "ridership/April 2013.xlsx"
       ]
      },
      {
       "output_type": "stream",
       "stream": "stdout",
       "text": [
        "\n",
        "ridership/May 2013.xlsx"
       ]
      },
      {
       "output_type": "stream",
       "stream": "stdout",
       "text": [
        "\n",
        "ridership/June 2013.xlsx"
       ]
      },
      {
       "output_type": "stream",
       "stream": "stdout",
       "text": [
        "\n",
        "ridership/July 2013.xlsx"
       ]
      },
      {
       "output_type": "stream",
       "stream": "stdout",
       "text": [
        "\n",
        "ridership/August 2013.xlsx"
       ]
      },
      {
       "output_type": "stream",
       "stream": "stdout",
       "text": [
        "\n",
        "ridership/September 2013.xlsx"
       ]
      },
      {
       "output_type": "stream",
       "stream": "stdout",
       "text": [
        "\n",
        "ridership/October 2013.xlsx"
       ]
      },
      {
       "output_type": "stream",
       "stream": "stdout",
       "text": [
        "\n",
        "ridership/November 2013.xlsx"
       ]
      },
      {
       "output_type": "stream",
       "stream": "stdout",
       "text": [
        "\n",
        "ridership/December 2013.xlsx"
       ]
      },
      {
       "output_type": "stream",
       "stream": "stdout",
       "text": [
        "\n",
        "ridership/January 2013.xlsx"
       ]
      },
      {
       "output_type": "stream",
       "stream": "stdout",
       "text": [
        "\n",
        "ridership/February 2013.xlsx"
       ]
      },
      {
       "output_type": "stream",
       "stream": "stdout",
       "text": [
        "\n",
        "ridership/March 2013.xlsx"
       ]
      },
      {
       "output_type": "stream",
       "stream": "stdout",
       "text": [
        "\n",
        "ridership/April 2013.xlsx"
       ]
      },
      {
       "output_type": "stream",
       "stream": "stdout",
       "text": [
        "\n",
        "ridership/May 2013.xlsx"
       ]
      },
      {
       "output_type": "stream",
       "stream": "stdout",
       "text": [
        "\n",
        "ridership/June 2013.xlsx"
       ]
      },
      {
       "output_type": "stream",
       "stream": "stdout",
       "text": [
        "\n",
        "ridership/July 2013.xlsx"
       ]
      },
      {
       "output_type": "stream",
       "stream": "stdout",
       "text": [
        "\n",
        "ridership/August 2013.xlsx"
       ]
      },
      {
       "output_type": "stream",
       "stream": "stdout",
       "text": [
        "\n",
        "ridership/September 2013.xlsx"
       ]
      },
      {
       "output_type": "stream",
       "stream": "stdout",
       "text": [
        "\n",
        "ridership/October 2013.xlsx"
       ]
      },
      {
       "output_type": "stream",
       "stream": "stdout",
       "text": [
        "\n",
        "ridership/November 2013.xlsx"
       ]
      },
      {
       "output_type": "stream",
       "stream": "stdout",
       "text": [
        "\n",
        "ridership/December 2013.xlsx"
       ]
      },
      {
       "output_type": "stream",
       "stream": "stdout",
       "text": [
        "\n",
        "ridership/January 2013.xlsx"
       ]
      },
      {
       "output_type": "stream",
       "stream": "stdout",
       "text": [
        "\n",
        "ridership/February 2013.xlsx"
       ]
      },
      {
       "output_type": "stream",
       "stream": "stdout",
       "text": [
        "\n",
        "ridership/March 2013.xlsx"
       ]
      },
      {
       "output_type": "stream",
       "stream": "stdout",
       "text": [
        "\n",
        "ridership/April 2013.xlsx"
       ]
      },
      {
       "output_type": "stream",
       "stream": "stdout",
       "text": [
        "\n",
        "ridership/May 2013.xlsx"
       ]
      },
      {
       "output_type": "stream",
       "stream": "stdout",
       "text": [
        "\n",
        "ridership/June 2013.xlsx"
       ]
      },
      {
       "output_type": "stream",
       "stream": "stdout",
       "text": [
        "\n",
        "ridership/July 2013.xlsx"
       ]
      },
      {
       "output_type": "stream",
       "stream": "stdout",
       "text": [
        "\n",
        "ridership/August 2013.xlsx"
       ]
      },
      {
       "output_type": "stream",
       "stream": "stdout",
       "text": [
        "\n",
        "ridership/September 2013.xlsx"
       ]
      },
      {
       "output_type": "stream",
       "stream": "stdout",
       "text": [
        "\n",
        "ridership/October 2013.xlsx"
       ]
      },
      {
       "output_type": "stream",
       "stream": "stdout",
       "text": [
        "\n",
        "ridership/November 2013.xlsx"
       ]
      },
      {
       "output_type": "stream",
       "stream": "stdout",
       "text": [
        "\n",
        "ridership/December 2013.xlsx"
       ]
      },
      {
       "output_type": "stream",
       "stream": "stdout",
       "text": [
        "\n",
        "ridership/January 2013.xlsx"
       ]
      },
      {
       "output_type": "stream",
       "stream": "stdout",
       "text": [
        "\n",
        "ridership/February 2013.xlsx"
       ]
      },
      {
       "output_type": "stream",
       "stream": "stdout",
       "text": [
        "\n",
        "ridership/March 2013.xlsx"
       ]
      },
      {
       "output_type": "stream",
       "stream": "stdout",
       "text": [
        "\n",
        "ridership/April 2013.xlsx"
       ]
      },
      {
       "output_type": "stream",
       "stream": "stdout",
       "text": [
        "\n",
        "ridership/May 2013.xlsx"
       ]
      },
      {
       "output_type": "stream",
       "stream": "stdout",
       "text": [
        "\n",
        "ridership/June 2013.xlsx"
       ]
      },
      {
       "output_type": "stream",
       "stream": "stdout",
       "text": [
        "\n",
        "ridership/July 2013.xlsx"
       ]
      },
      {
       "output_type": "stream",
       "stream": "stdout",
       "text": [
        "\n",
        "ridership/August 2013.xlsx"
       ]
      },
      {
       "output_type": "stream",
       "stream": "stdout",
       "text": [
        "\n",
        "ridership/September 2013.xlsx"
       ]
      },
      {
       "output_type": "stream",
       "stream": "stdout",
       "text": [
        "\n",
        "ridership/October 2013.xlsx"
       ]
      },
      {
       "output_type": "stream",
       "stream": "stdout",
       "text": [
        "\n",
        "ridership/November 2013.xlsx"
       ]
      },
      {
       "output_type": "stream",
       "stream": "stdout",
       "text": [
        "\n",
        "ridership/December 2013.xlsx"
       ]
      },
      {
       "output_type": "stream",
       "stream": "stdout",
       "text": [
        "\n"
       ]
      }
     ],
     "prompt_number": 59
    },
    {
     "cell_type": "code",
     "collapsed": false,
     "input": [
      "station_index = list()\n",
      "all_data = dict()\n",
      "for source_st in station_list:\n",
      "    source_dict = dict()\n",
      "    child_nodes = dfs(source_st)\n",
      "    for year in years:\n",
      "        for month in months:\n",
      "            # print i\n",
      "            month_year = month+'_'+year\n",
      "            file_name = 'ridership/'+month+' '+year+'.xlsx'\n",
      "            print source_st+':'+file_name\n",
      "            work_book = load_workbook(filename = file_name)\n",
      "            work_sheet = work_book['Weekday OD']\n",
      "            station_index = [str(row[0].value) for row in work_sheet['A3':'A45']]\n",
      "            # TODO: remove hardcoding for source station\n",
      "            start_column_id = station_column_in_excel_file[source_st]+'3'\n",
      "            end_column_id = station_column_in_excel_file[source_st]+'45'\n",
      "            ridership_data = [row[0].value for row in work_sheet[start_column_id:end_column_id]]\n",
      "            aggregated_dist = dict()\n",
      "            # for every station find the aggregate and store it as a new row in a new csv\n",
      "            for st in station_index:\n",
      "                children_list = [st]\n",
      "                children_list.extend(child_nodes[st])\n",
      "                agg_dist = 0.00\n",
      "                for child in children_list:\n",
      "                    child_index = station_index.index(child)\n",
      "                    agg_dist += float(ridership_data[child_index])\n",
      "                aggregated_dist[st] = int(agg_dist)\n",
      "            # aggregated_distance_row = [source_st]\n",
      "            edge_list = list()\n",
      "            for edge in edge_ids:\n",
      "                station_name = edges_mapping[source_st].get(edge,'not-present')\n",
      "                edge_list.append({'ed_id':edge, 'weight':aggregated_dist.get(station_name,0)})\n",
      "                # edge_dict[edge] = aggregated_dist.get(station_name,0)\n",
      "                # aggregated_distance_row.append(aggregated_dist.get(station_name,0))\n",
      "            source_dict[month_year] = edge_list\n",
      "            #print aggregated_distance_row\n",
      "            #i += 1\n",
      "    all_data[source_st] = source_dict\n"
     ],
     "language": "python",
     "metadata": {},
     "outputs": []
    },
    {
     "cell_type": "code",
     "collapsed": false,
     "input": [
      "# todo: write to file\n",
      "json.dumps(all_data)"
     ],
     "language": "python",
     "metadata": {},
     "outputs": []
    },
    {
     "cell_type": "code",
     "collapsed": false,
     "input": [
      "all_data['RM'].keys()"
     ],
     "language": "python",
     "metadata": {},
     "outputs": [
      {
       "metadata": {},
       "output_type": "pyout",
       "prompt_number": 85,
       "text": [
        "['May_2013',\n",
        " 'June_2013',\n",
        " 'January_2013',\n",
        " 'July_2013',\n",
        " 'August_2013',\n",
        " 'November_2013',\n",
        " 'April_2013',\n",
        " 'February_2013',\n",
        " 'September_2013',\n",
        " 'October_2013',\n",
        " 'December_2013',\n",
        " 'March_2013']"
       ]
      }
     ],
     "prompt_number": 85
    },
    {
     "cell_type": "code",
     "collapsed": false,
     "input": [
      "# all_data['RM']\n",
      "\n",
      "for station in station_list:\n",
      "    file_name = 'formatted_edge/'+station+'.json'\n",
      "    with open(file_name, 'w') as outfile:\n",
      "        json.dump(all_data[station], outfile)\n"
     ],
     "language": "python",
     "metadata": {},
     "outputs": [
      {
       "ename": "KeyError",
       "evalue": "'EP'",
       "output_type": "pyerr",
       "traceback": [
        "\u001b[0;31m---------------------------------------------------------------------------\u001b[0m\n\u001b[0;31mKeyError\u001b[0m                                  Traceback (most recent call last)",
        "\u001b[0;32m<ipython-input-55-bd45b7457da4>\u001b[0m in \u001b[0;36m<module>\u001b[0;34m()\u001b[0m\n\u001b[1;32m      4\u001b[0m     \u001b[0mfile_name\u001b[0m \u001b[0;34m=\u001b[0m \u001b[0;34m'formatted_edge/'\u001b[0m\u001b[0;34m+\u001b[0m\u001b[0mstation\u001b[0m\u001b[0;34m+\u001b[0m\u001b[0;34m'.json'\u001b[0m\u001b[0;34m\u001b[0m\u001b[0m\n\u001b[1;32m      5\u001b[0m     \u001b[0;32mwith\u001b[0m \u001b[0mopen\u001b[0m\u001b[0;34m(\u001b[0m\u001b[0mfile_name\u001b[0m\u001b[0;34m,\u001b[0m \u001b[0;34m'w'\u001b[0m\u001b[0;34m)\u001b[0m \u001b[0;32mas\u001b[0m \u001b[0moutfile\u001b[0m\u001b[0;34m:\u001b[0m\u001b[0;34m\u001b[0m\u001b[0m\n\u001b[0;32m----> 6\u001b[0;31m         \u001b[0mjson\u001b[0m\u001b[0;34m.\u001b[0m\u001b[0mdump\u001b[0m\u001b[0;34m(\u001b[0m\u001b[0mall_data\u001b[0m\u001b[0;34m[\u001b[0m\u001b[0mstation\u001b[0m\u001b[0;34m]\u001b[0m\u001b[0;34m,\u001b[0m \u001b[0moutfile\u001b[0m\u001b[0;34m)\u001b[0m\u001b[0;34m\u001b[0m\u001b[0m\n\u001b[0m",
        "\u001b[0;31mKeyError\u001b[0m: 'EP'"
       ]
      }
     ],
     "prompt_number": 55
    },
    {
     "cell_type": "code",
     "collapsed": false,
     "input": [
      "station_column_in_excel_file['EP'] + '3'\n",
      "# all_data['EP']"
     ],
     "language": "python",
     "metadata": {},
     "outputs": [
      {
       "metadata": {},
       "output_type": "pyout",
       "prompt_number": 58,
       "text": [
        "'D3'"
       ]
      }
     ],
     "prompt_number": 58
    },
    {
     "cell_type": "code",
     "collapsed": false,
     "input": [
      "# Once a source has been selected we can process the aggregated weight for each station!\n",
      "\n",
      "station_index = list()\n",
      "\n",
      "input_file = 'ridership_aug_2013.csv'\n",
      "output_file = 'aggregated_ridership_aug_2013.csv'\n",
      "\n",
      "with open(input_file, \"rb\") as csv_file:\n",
      "    data_reader = csv.reader(csv_file)\n",
      "    i = 0\n",
      "    \n",
      "    # output file\n",
      "    with open(output_file, 'wb') as csv_output_file:\n",
      "        aggregate_writer = csv.writer(csv_output_file)\n",
      "        for row in data_reader:\n",
      "            if i == 0:\n",
      "                # 1 store index for all stations in a array\n",
      "                station_index = row[1:]\n",
      "                header = ['Source']\n",
      "                header.extend(edge_ids)\n",
      "                aggregate_writer.writerow(header)\n",
      "            else:\n",
      "                # read source station and generate all_children dict\n",
      "                source_st = row[0]\n",
      "                child_nodes = dfs(source_st)\n",
      "                \n",
      "                aggregated_dist = dict()\n",
      "                # for every station find the aggregate and store it as a new row in a new csv\n",
      "                for st in station_index:\n",
      "                    children_list = [st]\n",
      "                    children_list.extend(child_nodes[st])\n",
      "                    agg_dist = 0.00\n",
      "                    for child in children_list:\n",
      "                        child_index = station_index.index(child)\n",
      "                        agg_dist += float(row[child_index + 1])\n",
      "                    aggregated_dist[st] = int(agg_dist)\n",
      "                aggregated_distance_row = [source_st]\n",
      "                for edge in edge_ids:\n",
      "                    station_name = edges_mapping[source_st].get(edge,'not-present')\n",
      "                    aggregated_distance_row.append(aggregated_dist.get(station_name,0))\n",
      "                \n",
      "                aggregate_writer.writerow(aggregated_distance_row)\n",
      "            i += 1\n",
      "\n",
      "# create and use the edge names instead"
     ],
     "language": "python",
     "metadata": {},
     "outputs": []
    },
    {
     "cell_type": "code",
     "collapsed": false,
     "input": [],
     "language": "python",
     "metadata": {},
     "outputs": []
    },
    {
     "cell_type": "code",
     "collapsed": false,
     "input": [
      "        \n",
      "# file_name = r'ridership/April 2013.xlsx'\n",
      "# work_book = load_workbook(filename = file_name)\n",
      "\n",
      "# work_sheet = work_book['Weekday OD']\n",
      "\n",
      "# print work_sheet['A1'].value # D18\n",
      "# print work_sheet['D2'].value # D18\n"
     ],
     "language": "python",
     "metadata": {},
     "outputs": [
      {
       "output_type": "stream",
       "stream": "stdout",
       "text": [
        "0\n",
        "Exit stations"
       ]
      },
      {
       "output_type": "stream",
       "stream": "stdout",
       "text": [
        "\n",
        "1\n",
        "Exit stations"
       ]
      },
      {
       "output_type": "stream",
       "stream": "stdout",
       "text": [
        "\n",
        "2\n",
        "Exit stations"
       ]
      },
      {
       "output_type": "stream",
       "stream": "stdout",
       "text": [
        "\n",
        "3\n",
        "Exit stations"
       ]
      },
      {
       "output_type": "stream",
       "stream": "stdout",
       "text": [
        "\n",
        "4\n",
        "Exit stations"
       ]
      },
      {
       "output_type": "stream",
       "stream": "stdout",
       "text": [
        "\n",
        "5\n",
        "Exit stations"
       ]
      },
      {
       "output_type": "stream",
       "stream": "stdout",
       "text": [
        "\n",
        "6\n",
        "Exit stations"
       ]
      },
      {
       "output_type": "stream",
       "stream": "stdout",
       "text": [
        "\n",
        "7\n",
        "Exit stations"
       ]
      },
      {
       "output_type": "stream",
       "stream": "stdout",
       "text": [
        "\n",
        "8\n",
        "Exit stations"
       ]
      },
      {
       "output_type": "stream",
       "stream": "stdout",
       "text": [
        "\n",
        "9\n",
        "Exit stations"
       ]
      },
      {
       "output_type": "stream",
       "stream": "stdout",
       "text": [
        "\n",
        "10\n",
        "Exit stations"
       ]
      },
      {
       "output_type": "stream",
       "stream": "stdout",
       "text": [
        "\n",
        "11\n",
        "Exit stations"
       ]
      },
      {
       "output_type": "stream",
       "stream": "stdout",
       "text": [
        "\n"
       ]
      }
     ],
     "prompt_number": 12
    },
    {
     "cell_type": "code",
     "collapsed": false,
     "input": [
      "cell = work_sheet.cell(row = 4, column = 2)\n",
      "cell.value"
     ],
     "language": "python",
     "metadata": {},
     "outputs": [
      {
       "metadata": {},
       "output_type": "pyout",
       "prompt_number": 7,
       "text": [
        "101.4090909090909"
       ]
      }
     ],
     "prompt_number": 7
    },
    {
     "cell_type": "code",
     "collapsed": false,
     "input": [
      "# accessing many cells\n",
      "for row in ws.range('A1:C2'):\n",
      "...        for cell in row:\n",
      "...            print cell\n",
      "ws.rows\n",
      "ws.columns\n"
     ],
     "language": "python",
     "metadata": {},
     "outputs": []
    },
    {
     "cell_type": "markdown",
     "metadata": {},
     "source": [
      "#Rename files"
     ]
    },
    {
     "cell_type": "code",
     "collapsed": false,
     "input": [
      "year = '2013'\n",
      "for filename in os.listdir(\"ridership/\"+year):\n",
      "    for month in months:\n",
      "        if month in filename:\n",
      "            new_name = 'ridership/'+year+'/'+month+' '+year+'.xls'\n",
      "            old_file = 'ridership/'+year+'/'+filename\n",
      "            os.rename(old_file, new_name)\n"
     ],
     "language": "python",
     "metadata": {},
     "outputs": [],
     "prompt_number": 81
    },
    {
     "cell_type": "code",
     "collapsed": false,
     "input": [
      "months"
     ],
     "language": "python",
     "metadata": {},
     "outputs": [
      {
       "metadata": {},
       "output_type": "pyout",
       "prompt_number": 64,
       "text": [
        "['January',\n",
        " 'February',\n",
        " 'March',\n",
        " 'April',\n",
        " 'May',\n",
        " 'June',\n",
        " 'July',\n",
        " 'August',\n",
        " 'September',\n",
        " 'October',\n",
        " 'November',\n",
        " 'December']"
       ]
      }
     ],
     "prompt_number": 64
    },
    {
     "cell_type": "code",
     "collapsed": false,
     "input": [],
     "language": "python",
     "metadata": {},
     "outputs": []
    }
   ],
   "metadata": {}
  }
 ]
}