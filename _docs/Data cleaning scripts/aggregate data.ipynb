{
 "metadata": {
  "name": ""
 },
 "nbformat": 3,
 "nbformat_minor": 0,
 "worksheets": [
  {
   "cells": [
    {
     "cell_type": "code",
     "collapsed": false,
     "input": [
      "import csv"
     ],
     "language": "python",
     "metadata": {},
     "outputs": [],
     "prompt_number": 49
    },
    {
     "cell_type": "code",
     "collapsed": false,
     "input": [
      "station_graph = {\"WP\": [\"NC\"],\n",
      "  \"NC\": [\"WP\",\"CN\"],\n",
      "  \"CN\": [\"NC\",\"PH\"],\n",
      "  \"PH\":[\"CN\",\"WC\"],\n",
      "  \"WC\":[\"LF\",\"PH\"],\n",
      "  \"LF\":[\"WC\",\"OR\"],\n",
      "  \"OR\":[\"LF\",\"RR\"],\n",
      "  \"RR\":[\"OR\",\"MA\"],\n",
      "  \"MA\":[\"RR\",\"AS\",\"19\"],\n",
      "  \"AS\":[\"MA\",\"BK\"],\n",
      "  \"BK\":[\"NB\",\"AS\"],\n",
      "  \"NB\":[\"BK\",\"EP\"],\n",
      "  \"EP\":[\"NB\",\"EN\"],\n",
      "  \"EN\":[\"EP\",\"RM\"],\n",
      "  \"RM\":[\"EN\"],\n",
      "  \"19\":[\"MA\",\"12\"],\n",
      "  \"12\":[\"19\",\"OW\",\"LM\"],\n",
      "  \"OW\":[\"12\",\"LM\",\"EM\"],\n",
      "  \"EM\":[\"OW\",\"MT\"],\n",
      "  \"MT\":[\"EM\",\"PL\"],\n",
      "  \"PL\":[\"MT\",\"CC\"],\n",
      "  \"CC\":[\"PL\",\"16\"],\n",
      "  \"16\":[\"CC\",\"24\"],\n",
      "  \"24\":[\"16\",\"GP\"],\n",
      "  \"GP\":[\"BP\",\"24\"],\n",
      "  \"BP\":[\"GP\",\"DC\"],\n",
      "  \"DC\":[\"BP\",\"CM\"],\n",
      "  \"CM\":[\"DC\",\"SS\"],\n",
      "  \"SS\":[\"CM\",\"SB\"],\n",
      "  \"SB\":[\"MB\",\"SS\",\"SO\"],\n",
      "  \"MB\":[\"SB\"],\n",
      "  \"SO\":[\"SB\"],\n",
      "  \"LM\":[\"12\",\"OW\",\"FV\"],\n",
      "  \"FV\":[\"LM\",\"CL\"],\n",
      "  \"CL\":[\"FV\",\"SL\"],\n",
      "  \"SL\":[\"CL\",\"BF\"],\n",
      "  \"BF\":[\"SL\",\"HY\",\"CV\"],\n",
      "  \"CV\":[\"BF\",\"ED\"],\n",
      "  \"ED\":[\"CV\"],\n",
      "  \"HY\":[\"BF\",\"SH\"],\n",
      "  \"SH\":[\"HY\",\"UC\"],\n",
      "  \"UC\":[\"SH\",\"FM\"],\n",
      "  \"FM\":[\"UC\"]\n",
      "}\n",
      "\n",
      "edge_ids = ['12_19', '12_LM', '12_OW', '16_24', '16_CC', '19_MA', '24_GP', 'AS_BK', 'AS_MA', 'BF_CV', 'BF_HY', 'BF_SL', 'BK_NB', 'BP_DC', 'BP_GP', 'CC_PL', 'CL_FV', 'CL_SL', 'CM_DC', 'CM_SS', 'CN_NC', 'CN_PH', 'CV_ED', 'EM_MT', 'EM_OW', 'EN_EP', 'EN_RM', 'EP_NB', 'FM_UC', 'FV_LM', 'HY_SH', 'LF_OR', 'LF_WC', 'LM_OW', 'MA_RR', 'MB_SB', 'MB_SO', 'MT_PL', 'NC_WP', 'OR_RR', 'PH_WC', 'SB_SO', 'SB_SS', 'SH_UC']\n",
      "\n",
      "\n",
      "#  = ['EN_RM','EN_EP','EP_NB','BK_NB','AS_BK','AS_MA','19_MA','12_19','12_LM','FV_LM','CL_FV','CL_SL','BF_SL','BF_HY','HY_SH','SH_UC','FM_UC','CN_PH','PH_WC','LF_WC','LF_OR','OR_RR','MA_RR','12_OW','EM_OW','EM_MT','MT_PL','CC_PL','16_CC','16_24','24_GP','BP_GP','BP_DC','CM_DC','BF_CV','CV_ED','CN_NC','NC_WP','CM_SS','SB_SS','SB_SO','MB_SB']"
     ],
     "language": "python",
     "metadata": {},
     "outputs": [],
     "prompt_number": 50
    },
    {
     "cell_type": "code",
     "collapsed": false,
     "input": [
      "station_legs_mapping_file = 'station-leg-mapping.csv'\n",
      "\n",
      "edges_mapping = dict()\n",
      "\n",
      "temp_station_index = list()\n",
      "\n",
      "with open(station_legs_mapping_file, \"rb\") as csv_file:\n",
      "    data_reader = csv.reader(csv_file)\n",
      "    i = 0\n",
      "    for row in data_reader:\n",
      "        if i == 0:\n",
      "            temp_station_index = row[1:]\n",
      "        else:\n",
      "            source_st_id = row[0]\n",
      "            keys = row[1:]\n",
      "            edges_mapping[source_st_id] = dict(zip(keys, temp_station_index))\n",
      "        i += 1\n"
     ],
     "language": "python",
     "metadata": {},
     "outputs": [],
     "prompt_number": 51
    },
    {
     "cell_type": "code",
     "collapsed": false,
     "input": [
      "edges_mapping['RM']['12_19']\n",
      "# edge_ids[0]\n",
      "# station_graph['RM']"
     ],
     "language": "python",
     "metadata": {},
     "outputs": [
      {
       "metadata": {},
       "output_type": "pyout",
       "prompt_number": 52,
       "text": [
        "'12'"
       ]
      }
     ],
     "prompt_number": 52
    },
    {
     "cell_type": "code",
     "collapsed": false,
     "input": [
      "len(station_graph)"
     ],
     "language": "python",
     "metadata": {},
     "outputs": [
      {
       "metadata": {},
       "output_type": "pyout",
       "prompt_number": 53,
       "text": [
        "43"
       ]
      }
     ],
     "prompt_number": 53
    },
    {
     "cell_type": "code",
     "collapsed": false,
     "input": [
      "def dfs(source_st):\n",
      "    visited = dict()\n",
      "    all_children = dict()\n",
      "    def explore(v):\n",
      "        visited[v] = True\n",
      "        all_children[v] = list()\n",
      "        for u in station_graph[v]:\n",
      "            if visited.get(u, False) is False:\n",
      "                all_children[v].append(u)\n",
      "                children_of_u = explore(u)\n",
      "                all_children[v].extend(children_of_u)\n",
      "        return all_children[v]\n",
      "    explore(source_st)\n",
      "    return all_children"
     ],
     "language": "python",
     "metadata": {},
     "outputs": [],
     "prompt_number": 54
    },
    {
     "cell_type": "code",
     "collapsed": false,
     "input": [
      "st = dfs('RM')"
     ],
     "language": "python",
     "metadata": {},
     "outputs": [],
     "prompt_number": 55
    },
    {
     "cell_type": "code",
     "collapsed": false,
     "input": [
      "len(st['RM'])"
     ],
     "language": "python",
     "metadata": {},
     "outputs": [
      {
       "metadata": {},
       "output_type": "pyout",
       "prompt_number": 56,
       "text": [
        "42"
       ]
      }
     ],
     "prompt_number": 56
    },
    {
     "cell_type": "code",
     "collapsed": false,
     "input": [
      "# Once a source has been selected we can process the aggregated weight for each station!\n",
      "\n",
      "station_index = list()\n",
      "\n",
      "input_file = 'ridership_aug_2013.csv'\n",
      "output_file = 'aggregated_ridership_aug_2013.csv'\n",
      "\n",
      "with open(input_file, \"rb\") as csv_file:\n",
      "    data_reader = csv.reader(csv_file)\n",
      "    i = 0\n",
      "    \n",
      "    # output file\n",
      "    with open(output_file, 'wb') as csv_output_file:\n",
      "        aggregate_writer = csv.writer(csv_output_file)\n",
      "        for row in data_reader:\n",
      "            if i == 0:\n",
      "                # 1 store index for all stations in a array\n",
      "                station_index = row[1:]\n",
      "                header = ['Source']\n",
      "                header.extend(edge_ids)\n",
      "                aggregate_writer.writerow(header)\n",
      "            else:\n",
      "                # read source station and generate all_children dict\n",
      "                source_st = row[0]\n",
      "                child_nodes = dfs(source_st)\n",
      "                \n",
      "                aggregated_dist = dict()\n",
      "                # for every station find the aggregate and store it as a new row in a new csv\n",
      "                for st in station_index:\n",
      "                    children_list = [st]\n",
      "                    children_list.extend(child_nodes[st])\n",
      "                    agg_dist = 0.00\n",
      "                    for child in children_list:\n",
      "                        child_index = station_index.index(child)\n",
      "                        agg_dist += float(row[child_index + 1])\n",
      "                    aggregated_dist[st] = int(agg_dist)\n",
      "                aggregated_distance_row = [source_st]\n",
      "                for edge in edge_ids:\n",
      "                    station_name = edges_mapping[source_st].get(edge,'not-present')\n",
      "                    aggregated_distance_row.append(aggregated_dist.get(station_name,0))\n",
      "                aggregate_writer.writerow(aggregated_distance_row)\n",
      "            i += 1\n",
      "\n",
      "# create and use the edge names instead"
     ],
     "language": "python",
     "metadata": {},
     "outputs": [],
     "prompt_number": 57
    },
    {
     "cell_type": "code",
     "collapsed": false,
     "input": [
      "len(edges_mapping['LM'])\n",
      "\n",
      "# round(14.34,0)\n",
      "# int(14.653452345)"
     ],
     "language": "python",
     "metadata": {},
     "outputs": [
      {
       "metadata": {},
       "output_type": "pyout",
       "prompt_number": 58,
       "text": [
        "43"
       ]
      }
     ],
     "prompt_number": 58
    },
    {
     "cell_type": "markdown",
     "metadata": {},
     "source": [
      "# edge coordinates from station coordinates"
     ]
    },
    {
     "cell_type": "code",
     "collapsed": false,
     "input": [
      "st_coord_fl = \"station_coordinates.csv\"\n",
      "\n",
      "station_coordiantes = dict()\n",
      "with open(st_coord_fl, \"rb\") as csv_file:\n",
      "    data_reader = csv.reader(csv_file)\n",
      "    i = 0\n",
      "    for row in data_reader:\n",
      "        if i !=0:\n",
      "            station_coordiantes[row[0]] = [int(row[1]),int(row[2])]\n",
      "        i += 1"
     ],
     "language": "python",
     "metadata": {},
     "outputs": [],
     "prompt_number": 85
    },
    {
     "cell_type": "code",
     "collapsed": false,
     "input": [
      "edge_coord = dict()\n",
      "for edge in edge_ids:\n",
      "    st1 = edge[0:2]\n",
      "    st2 = edge[3:5]\n",
      "    coord = list()\n",
      "    coord.extend(station_coordiantes[st1])\n",
      "    coord.extend(station_coordiantes[st2])\n",
      "    edge_coord[edge] = coord"
     ],
     "language": "python",
     "metadata": {},
     "outputs": [],
     "prompt_number": 86
    },
    {
     "cell_type": "code",
     "collapsed": false,
     "input": [
      "k = 'ap_bp'\n",
      "k[0:2]"
     ],
     "language": "python",
     "metadata": {},
     "outputs": [
      {
       "metadata": {},
       "output_type": "pyout",
       "prompt_number": 64,
       "text": [
        "'ap'"
       ]
      }
     ],
     "prompt_number": 64
    },
    {
     "cell_type": "code",
     "collapsed": false,
     "input": [
      "k[3:5]"
     ],
     "language": "python",
     "metadata": {},
     "outputs": [
      {
       "metadata": {},
       "output_type": "pyout",
       "prompt_number": 67,
       "text": [
        "'bp'"
       ]
      }
     ],
     "prompt_number": 67
    },
    {
     "cell_type": "code",
     "collapsed": false,
     "input": [
      "edge_coord"
     ],
     "language": "python",
     "metadata": {},
     "outputs": [
      {
       "metadata": {},
       "output_type": "pyout",
       "prompt_number": 87,
       "text": [
        "{'12_19': [16, 13, 16, 12],\n",
        " '12_LM': [16, 13, 16, 14],\n",
        " '12_OW': [16, 13, 15, 13],\n",
        " '16_24': [5, 17, 4, 18],\n",
        " '16_CC': [5, 17, 6, 16],\n",
        " '19_MA': [16, 12, 16, 11],\n",
        " '24_GP': [4, 18, 3, 19],\n",
        " 'AS_BK': [15, 10, 14, 9],\n",
        " 'AS_MA': [15, 10, 16, 11],\n",
        " 'BF_CV': [20, 18, 21, 18],\n",
        " 'BF_HY': [20, 18, 21, 19],\n",
        " 'BF_SL': [20, 18, 19, 17],\n",
        " 'BK_NB': [14, 9, 13, 8],\n",
        " 'BP_DC': [2, 20, 1, 21],\n",
        " 'BP_GP': [2, 20, 3, 19],\n",
        " 'CC_PL': [6, 16, 7, 15],\n",
        " 'CL_FV': [18, 16, 17, 15],\n",
        " 'CL_SL': [18, 16, 19, 17],\n",
        " 'CM_DC': [2, 22, 1, 21],\n",
        " 'CM_SS': [2, 22, 3, 23],\n",
        " 'CN_NC': [22, 5, 23, 4],\n",
        " 'CN_PH': [22, 5, 21, 6],\n",
        " 'CV_ED': [21, 18, 22, 18],\n",
        " 'EM_MT': [9, 13, 8, 14],\n",
        " 'EM_OW': [9, 13, 15, 13],\n",
        " 'EN_EP': [11, 6, 12, 7],\n",
        " 'EN_RM': [11, 6, 10, 5],\n",
        " 'EP_NB': [12, 7, 13, 8],\n",
        " 'FM_UC': [24, 22, 23, 21],\n",
        " 'FV_LM': [17, 15, 16, 14],\n",
        " 'HY_SH': [21, 19, 22, 20],\n",
        " 'LF_OR': [19, 8, 18, 9],\n",
        " 'LF_WC': [19, 8, 20, 7],\n",
        " 'LM_OW': [16, 14, 15, 13],\n",
        " 'MA_RR': [16, 11, 17, 10],\n",
        " 'MB_SB': [5, 25, 4, 24],\n",
        " 'MB_SO': [5, 25, 5, 24],\n",
        " 'MT_PL': [8, 14, 7, 15],\n",
        " 'NC_WP': [23, 4, 24, 3],\n",
        " 'OR_RR': [18, 9, 17, 10],\n",
        " 'PH_WC': [21, 6, 20, 7],\n",
        " 'SB_SO': [4, 24, 5, 24],\n",
        " 'SB_SS': [4, 24, 3, 23],\n",
        " 'SH_UC': [22, 20, 23, 21]}"
       ]
      }
     ],
     "prompt_number": 87
    },
    {
     "cell_type": "markdown",
     "metadata": {},
     "source": [
      "# Export station aggregate data"
     ]
    },
    {
     "cell_type": "code",
     "collapsed": false,
     "input": [
      "edge_index = list()\n",
      "\n",
      "input_file = 'aggregated_ridership_aug_2013.csv'\n",
      "\n",
      "with open(input_file, \"rb\") as csv_file:\n",
      "    data_reader = csv.reader(csv_file)\n",
      "    i = 0\n",
      "    for row in data_reader:\n",
      "        if i==0:\n",
      "            edge_index = row[1:]\n",
      "        else:\n",
      "            print row[0]\n",
      "            json = list()\n",
      "            for index,edge in enumerate(edge_index):\n",
      "                ed_dict = {\"ed_id\":edge, \"weight\":int(row[index+1])}\n",
      "                json.append(ed_dict)\n",
      "            print json\n",
      "        i+=1\n"
     ],
     "language": "python",
     "metadata": {},
     "outputs": [
      {
       "output_type": "stream",
       "stream": "stdout",
       "text": [
        "RM\n",
        "[{'ed_id': '12_19', 'weight': 2619}, {'ed_id': '12_LM', 'weight': 493}, {'ed_id': '12_OW', 'weight': 2414}, {'ed_id': '16_24', 'weight': 431}, {'ed_id': '16_CC', 'weight': 559}, {'ed_id': '19_MA', 'weight': 2775}, {'ed_id': '24_GP', 'weight': 301}, {'ed_id': 'AS_BK', 'weight': 3228}, {'ed_id': 'AS_MA', 'weight': 3117}, {'ed_id': 'BF_CV', 'weight': 30}, {'ed_id': 'BF_HY', 'weight': 116}, {'ed_id': 'BF_SL', 'weight': 184}, {'ed_id': 'BK_NB', 'weight': 3647}, {'ed_id': 'BP_DC', 'weight': 193}, {'ed_id': 'BP_GP', 'weight': 259}, {'ed_id': 'CC_PL', 'weight': 824}, {'ed_id': 'CL_FV', 'weight': 336}, {'ed_id': 'CL_SL', 'weight': 231}, {'ed_id': 'CM_DC', 'weight': 133}, {'ed_id': 'CM_SS', 'weight': 118}, {'ed_id': 'CN_NC', 'weight': 52}, {'ed_id': 'CN_PH', 'weight': 84}, {'ed_id': 'CV_ED', 'weight': 22}, {'ed_id': 'EM_MT', 'weight': 1530}, {'ed_id': 'EM_OW', 'weight': 1895}, {'ed_id': 'EN_EP', 'weight': 3839}, {'ed_id': 'EN_RM', 'weight': 3976}, {'ed_id': 'EP_NB', 'weight': 3739}, {'ed_id': 'FM_UC', 'weight': 34}, {'ed_id': 'FV_LM', 'weight': 444}, {'ed_id': 'HY_SH', 'weight': 77}, {'ed_id': 'LF_OR', 'weight': 145}, {'ed_id': 'LF_WC', 'weight': 128}, {'ed_id': 'LM_OW', 'weight': 0}, {'ed_id': 'MA_RR', 'weight': 177}, {'ed_id': 'MB_SB', 'weight': 40}, {'ed_id': 'MB_SO', 'weight': 0}, {'ed_id': 'MT_PL', 'weight': 1186}, {'ed_id': 'NC_WP', 'weight': 46}, {'ed_id': 'OR_RR', 'weight': 157}, {'ed_id': 'PH_WC', 'weight': 100}, {'ed_id': 'SB_SO', 'weight': 39}, {'ed_id': 'SB_SS', 'weight': 106}, {'ed_id': 'SH_UC', 'weight': 51}]\n",
        "EN\n",
        "[{'ed_id': '12_19', 'weight': 5851}, {'ed_id': '12_LM', 'weight': 923}, {'ed_id': '12_OW', 'weight': 5248}, {'ed_id': '16_24', 'weight': 747}, {'ed_id': '16_CC', 'weight': 922}, {'ed_id': '19_MA', 'weight': 6331}, {'ed_id': '24_GP', 'weight': 566}, {'ed_id': 'AS_BK', 'weight': 6996}, {'ed_id': 'AS_MA', 'weight': 6858}, {'ed_id': 'BF_CV', 'weight': 46}, {'ed_id': 'BF_HY', 'weight': 244}, {'ed_id': 'BF_SL', 'weight': 352}, {'ed_id': 'BK_NB', 'weight': 7946}, {'ed_id': 'BP_DC', 'weight': 399}, {'ed_id': 'BP_GP', 'weight': 507}, {'ed_id': 'CC_PL', 'weight': 1524}, {'ed_id': 'CL_FV', 'weight': 642}, {'ed_id': 'CL_SL', 'weight': 423}, {'ed_id': 'CM_DC', 'weight': 273}, {'ed_id': 'CM_SS', 'weight': 238}, {'ed_id': 'CN_NC', 'weight': 57}, {'ed_id': 'CN_PH', 'weight': 100}, {'ed_id': 'CV_ED', 'weight': 36}, {'ed_id': 'EM_MT', 'weight': 3252}, {'ed_id': 'EM_OW', 'weight': 4279}, {'ed_id': 'EN_EP', 'weight': 8134}, {'ed_id': 'EN_RM', 'weight': 123}, {'ed_id': 'EP_NB', 'weight': 8040}, {'ed_id': 'FM_UC', 'weight': 94}, {'ed_id': 'FV_LM', 'weight': 798}, {'ed_id': 'HY_SH', 'weight': 168}, {'ed_id': 'LF_OR', 'weight': 179}, {'ed_id': 'LF_WC', 'weight': 165}, {'ed_id': 'LM_OW', 'weight': 0}, {'ed_id': 'MA_RR', 'weight': 226}, {'ed_id': 'MB_SB', 'weight': 57}, {'ed_id': 'MB_SO', 'weight': 0}, {'ed_id': 'MT_PL', 'weight': 2274}, {'ed_id': 'NC_WP', 'weight': 50}, {'ed_id': 'OR_RR', 'weight': 195}, {'ed_id': 'PH_WC', 'weight': 119}, {'ed_id': 'SB_SO', 'weight': 98}, {'ed_id': 'SB_SS', 'weight': 208}, {'ed_id': 'SH_UC', 'weight': 133}]\n",
        "EP\n",
        "[{'ed_id': '12_19', 'weight': 3027}, {'ed_id': '12_LM', 'weight': 404}, {'ed_id': '12_OW', 'weight': 2750}, {'ed_id': '16_24', 'weight': 293}, {'ed_id': '16_CC', 'weight': 391}, {'ed_id': '19_MA', 'weight': 3259}, {'ed_id': '24_GP', 'weight': 234}, {'ed_id': 'AS_BK', 'weight': 3614}, {'ed_id': 'AS_MA', 'weight': 3534}, {'ed_id': 'BF_CV', 'weight': 29}, {'ed_id': 'BF_HY', 'weight': 98}, {'ed_id': 'BF_SL', 'weight': 145}, {'ed_id': 'BK_NB', 'weight': 4310}, {'ed_id': 'BP_DC', 'weight': 168}, {'ed_id': 'BP_GP', 'weight': 207}, {'ed_id': 'CC_PL', 'weight': 718}, {'ed_id': 'CL_FV', 'weight': 264}, {'ed_id': 'CL_SL', 'weight': 173}, {'ed_id': 'CM_DC', 'weight': 123}, {'ed_id': 'CM_SS', 'weight': 117}, {'ed_id': 'CN_NC', 'weight': 18}, {'ed_id': 'CN_PH', 'weight': 42}, {'ed_id': 'CV_ED', 'weight': 23}, {'ed_id': 'EM_MT', 'weight': 1670}, {'ed_id': 'EM_OW', 'weight': 2329}, {'ed_id': 'EN_EP', 'weight': 207}, {'ed_id': 'EN_RM', 'weight': 98}, {'ed_id': 'EP_NB', 'weight': 4375}, {'ed_id': 'FM_UC', 'weight': 49}, {'ed_id': 'FV_LM', 'weight': 332}, {'ed_id': 'HY_SH', 'weight': 74}, {'ed_id': 'LF_OR', 'weight': 103}, {'ed_id': 'LF_WC', 'weight': 89}, {'ed_id': 'LM_OW', 'weight': 0}, {'ed_id': 'MA_RR', 'weight': 149}, {'ed_id': 'MB_SB', 'weight': 26}, {'ed_id': 'MB_SO', 'weight': 0}, {'ed_id': 'MT_PL', 'weight': 1062}, {'ed_id': 'NC_WP', 'weight': 15}, {'ed_id': 'OR_RR', 'weight': 111}, {'ed_id': 'PH_WC', 'weight': 57}, {'ed_id': 'SB_SO', 'weight': 72}, {'ed_id': 'SB_SS', 'weight': 109}, {'ed_id': 'SH_UC', 'weight': 64}]\n",
        "NB\n",
        "[{'ed_id': '12_19', 'weight': 3522}, {'ed_id': '12_LM', 'weight': 416}, {'ed_id': '12_OW', 'weight': 3267}, {'ed_id': '16_24', 'weight': 390}, {'ed_id': '16_CC', 'weight': 544}, {'ed_id': '19_MA', 'weight': 3729}, {'ed_id': '24_GP', 'weight': 286}, {'ed_id': 'AS_BK', 'weight': 4016}, {'ed_id': 'AS_MA', 'weight': 3956}, {'ed_id': 'BF_CV', 'weight': 27}, {'ed_id': 'BF_HY', 'weight': 95}, {'ed_id': 'BF_SL', 'weight': 149}, {'ed_id': 'BK_NB', 'weight': 4217}, {'ed_id': 'BP_DC', 'weight': 203}, {'ed_id': 'BP_GP', 'weight': 243}, {'ed_id': 'CC_PL', 'weight': 908}, {'ed_id': 'CL_FV', 'weight': 269}, {'ed_id': 'CL_SL', 'weight': 175}, {'ed_id': 'CM_DC', 'weight': 170}, {'ed_id': 'CM_SS', 'weight': 162}, {'ed_id': 'CN_NC', 'weight': 17}, {'ed_id': 'CN_PH', 'weight': 36}, {'ed_id': 'CV_ED', 'weight': 18}, {'ed_id': 'EM_MT', 'weight': 1986}, {'ed_id': 'EM_OW', 'weight': 2835}, {'ed_id': 'EN_EP', 'weight': 195}, {'ed_id': 'EN_RM', 'weight': 96}, {'ed_id': 'EP_NB', 'weight': 254}, {'ed_id': 'FM_UC', 'weight': 34}, {'ed_id': 'FV_LM', 'weight': 351}, {'ed_id': 'HY_SH', 'weight': 66}, {'ed_id': 'LF_OR', 'weight': 98}, {'ed_id': 'LF_WC', 'weight': 85}, {'ed_id': 'LM_OW', 'weight': 0}, {'ed_id': 'MA_RR', 'weight': 131}, {'ed_id': 'MB_SB', 'weight': 35}, {'ed_id': 'MB_SO', 'weight': 0}, {'ed_id': 'MT_PL', 'weight': 1330}, {'ed_id': 'NC_WP', 'weight': 11}, {'ed_id': 'OR_RR', 'weight': 108}, {'ed_id': 'PH_WC', 'weight': 53}, {'ed_id': 'SB_SO', 'weight': 107}, {'ed_id': 'SB_SS', 'weight': 154}, {'ed_id': 'SH_UC', 'weight': 53}]\n",
        "BK\n",
        "[{'ed_id': '12_19', 'weight': 8601}, {'ed_id': '12_LM', 'weight': 2095}, {'ed_id': '12_OW', 'weight': 8083}, {'ed_id': '16_24', 'weight': 1241}, {'ed_id': '16_CC', 'weight': 1621}, {'ed_id': '19_MA', 'weight': 9096}, {'ed_id': '24_GP', 'weight': 934}, {'ed_id': 'AS_BK', 'weight': 10681}, {'ed_id': 'AS_MA', 'weight': 10358}, {'ed_id': 'BF_CV', 'weight': 217}, {'ed_id': 'BF_HY', 'weight': 726}, {'ed_id': 'BF_SL', 'weight': 1087}, {'ed_id': 'BK_NB', 'weight': 2185}, {'ed_id': 'BP_DC', 'weight': 679}, {'ed_id': 'BP_GP', 'weight': 794}, {'ed_id': 'CC_PL', 'weight': 2283}, {'ed_id': 'CL_FV', 'weight': 1547}, {'ed_id': 'CL_SL', 'weight': 1263}, {'ed_id': 'CM_DC', 'weight': 543}, {'ed_id': 'CM_SS', 'weight': 506}, {'ed_id': 'CN_NC', 'weight': 157}, {'ed_id': 'CN_PH', 'weight': 295}, {'ed_id': 'CV_ED', 'weight': 156}, {'ed_id': 'EM_MT', 'weight': 4421}, {'ed_id': 'EM_OW', 'weight': 5887}, {'ed_id': 'EN_EP', 'weight': 1319}, {'ed_id': 'EN_RM', 'weight': 401}, {'ed_id': 'EP_NB', 'weight': 2000}, {'ed_id': 'FM_UC', 'weight': 345}, {'ed_id': 'FV_LM', 'weight': 1852}, {'ed_id': 'HY_SH', 'weight': 590}, {'ed_id': 'LF_OR', 'weight': 698}, {'ed_id': 'LF_WC', 'weight': 607}, {'ed_id': 'LM_OW', 'weight': 0}, {'ed_id': 'MA_RR', 'weight': 836}, {'ed_id': 'MB_SB', 'weight': 185}, {'ed_id': 'MB_SO', 'weight': 0}, {'ed_id': 'MT_PL', 'weight': 3396}, {'ed_id': 'NC_WP', 'weight': 104}, {'ed_id': 'OR_RR', 'weight': 764}, {'ed_id': 'PH_WC', 'weight': 453}, {'ed_id': 'SB_SO', 'weight': 247}, {'ed_id': 'SB_SS', 'weight': 476}, {'ed_id': 'SH_UC', 'weight': 496}]\n",
        "AS\n",
        "[{'ed_id': '12_19', 'weight': 4065}, {'ed_id': '12_LM', 'weight': 639}, {'ed_id': '12_OW', 'weight': 3818}, {'ed_id': '16_24', 'weight': 434}, {'ed_id': '16_CC', 'weight': 668}, {'ed_id': '19_MA', 'weight': 4303}, {'ed_id': '24_GP', 'weight': 293}, {'ed_id': 'AS_BK', 'weight': 783}, {'ed_id': 'AS_MA', 'weight': 4590}, {'ed_id': 'BF_CV', 'weight': 38}, {'ed_id': 'BF_HY', 'weight': 189}, {'ed_id': 'BF_SL', 'weight': 270}, {'ed_id': 'BK_NB', 'weight': 409}, {'ed_id': 'BP_DC', 'weight': 191}, {'ed_id': 'BP_GP', 'weight': 246}, {'ed_id': 'CC_PL', 'weight': 1104}, {'ed_id': 'CL_FV', 'weight': 437}, {'ed_id': 'CL_SL', 'weight': 312}, {'ed_id': 'CM_DC', 'weight': 141}, {'ed_id': 'CM_SS', 'weight': 131}, {'ed_id': 'CN_NC', 'weight': 39}, {'ed_id': 'CN_PH', 'weight': 73}, {'ed_id': 'CV_ED', 'weight': 26}, {'ed_id': 'EM_MT', 'weight': 2284}, {'ed_id': 'EM_OW', 'weight': 3140}, {'ed_id': 'EN_EP', 'weight': 267}, {'ed_id': 'EN_RM', 'weight': 109}, {'ed_id': 'EP_NB', 'weight': 350}, {'ed_id': 'FM_UC', 'weight': 77}, {'ed_id': 'FV_LM', 'weight': 557}, {'ed_id': 'HY_SH', 'weight': 145}, {'ed_id': 'LF_OR', 'weight': 148}, {'ed_id': 'LF_WC', 'weight': 136}, {'ed_id': 'LM_OW', 'weight': 0}, {'ed_id': 'MA_RR', 'weight': 177}, {'ed_id': 'MB_SB', 'weight': 32}, {'ed_id': 'MB_SO', 'weight': 0}, {'ed_id': 'MT_PL', 'weight': 1542}, {'ed_id': 'NC_WP', 'weight': 30}, {'ed_id': 'OR_RR', 'weight': 160}, {'ed_id': 'PH_WC', 'weight': 96}, {'ed_id': 'SB_SO', 'weight': 75}, {'ed_id': 'SB_SS', 'weight': 123}, {'ed_id': 'SH_UC', 'weight': 118}]\n",
        "MA\n",
        "[{'ed_id': '12_19', 'weight': 6777}, {'ed_id': '12_LM', 'weight': 1296}, {'ed_id': '12_OW', 'weight': 6547}, {'ed_id': '16_24', 'weight': 850}, {'ed_id': '16_CC', 'weight': 1231}, {'ed_id': '19_MA', 'weight': 6947}, {'ed_id': '24_GP', 'weight': 588}, {'ed_id': 'AS_BK', 'weight': 1157}, {'ed_id': 'AS_MA', 'weight': 1259}, {'ed_id': 'BF_CV', 'weight': 90}, {'ed_id': 'BF_HY', 'weight': 421}, {'ed_id': 'BF_SL', 'weight': 645}, {'ed_id': 'BK_NB', 'weight': 685}, {'ed_id': 'BP_DC', 'weight': 395}, {'ed_id': 'BP_GP', 'weight': 496}, {'ed_id': 'CC_PL', 'weight': 1992}, {'ed_id': 'CL_FV', 'weight': 1012}, {'ed_id': 'CL_SL', 'weight': 772}, {'ed_id': 'CM_DC', 'weight': 305}, {'ed_id': 'CM_SS', 'weight': 276}, {'ed_id': 'CN_NC', 'weight': 266}, {'ed_id': 'CN_PH', 'weight': 405}, {'ed_id': 'CV_ED', 'weight': 59}, {'ed_id': 'EM_MT', 'weight': 3953}, {'ed_id': 'EM_OW', 'weight': 5188}, {'ed_id': 'EN_EP', 'weight': 454}, {'ed_id': 'EN_RM', 'weight': 164}, {'ed_id': 'EP_NB', 'weight': 589}, {'ed_id': 'FM_UC', 'weight': 150}, {'ed_id': 'FV_LM', 'weight': 1209}, {'ed_id': 'HY_SH', 'weight': 298}, {'ed_id': 'LF_OR', 'weight': 734}, {'ed_id': 'LF_WC', 'weight': 680}, {'ed_id': 'LM_OW', 'weight': 0}, {'ed_id': 'MA_RR', 'weight': 854}, {'ed_id': 'MB_SB', 'weight': 72}, {'ed_id': 'MB_SO', 'weight': 0}, {'ed_id': 'MT_PL', 'weight': 2796}, {'ed_id': 'NC_WP', 'weight': 222}, {'ed_id': 'OR_RR', 'weight': 783}, {'ed_id': 'PH_WC', 'weight': 532}, {'ed_id': 'SB_SO', 'weight': 141}, {'ed_id': 'SB_SS', 'weight': 250}, {'ed_id': 'SH_UC', 'weight': 236}]\n",
        "19\n",
        "[{'ed_id': '12_19', 'weight': 7566}, {'ed_id': '12_LM', 'weight': 2073}, {'ed_id': '12_OW', 'weight': 7518}, {'ed_id': '16_24', 'weight': 1075}, {'ed_id': '16_CC', 'weight': 1450}, {'ed_id': '19_MA', 'weight': 3696}, {'ed_id': '24_GP', 'weight': 782}, {'ed_id': 'AS_BK', 'weight': 1580}, {'ed_id': 'AS_MA', 'weight': 1816}, {'ed_id': 'BF_CV', 'weight': 252}, {'ed_id': 'BF_HY', 'weight': 894}, {'ed_id': 'BF_SL', 'weight': 1368}, {'ed_id': 'BK_NB', 'weight': 1046}, {'ed_id': 'BP_DC', 'weight': 518}, {'ed_id': 'BP_GP', 'weight': 635}, {'ed_id': 'CC_PL', 'weight': 2139}, {'ed_id': 'CL_FV', 'weight': 1843}, {'ed_id': 'CL_SL', 'weight': 1591}, {'ed_id': 'CM_DC', 'weight': 372}, {'ed_id': 'CM_SS', 'weight': 307}, {'ed_id': 'CN_NC', 'weight': 409}, {'ed_id': 'CN_PH', 'weight': 685}, {'ed_id': 'CV_ED', 'weight': 177}, {'ed_id': 'EM_MT', 'weight': 4024}, {'ed_id': 'EM_OW', 'weight': 5369}, {'ed_id': 'EN_EP', 'weight': 608}, {'ed_id': 'EN_RM', 'weight': 146}, {'ed_id': 'EP_NB', 'weight': 842}, {'ed_id': 'FM_UC', 'weight': 356}, {'ed_id': 'FV_LM', 'weight': 2025}, {'ed_id': 'HY_SH', 'weight': 690}, {'ed_id': 'LF_OR', 'weight': 1419}, {'ed_id': 'LF_WC', 'weight': 1271}, {'ed_id': 'LM_OW', 'weight': 0}, {'ed_id': 'MA_RR', 'weight': 1694}, {'ed_id': 'MB_SB', 'weight': 102}, {'ed_id': 'MB_SO', 'weight': 0}, {'ed_id': 'MT_PL', 'weight': 2921}, {'ed_id': 'NC_WP', 'weight': 244}, {'ed_id': 'OR_RR', 'weight': 1517}, {'ed_id': 'PH_WC', 'weight': 997}, {'ed_id': 'SB_SO', 'weight': 95}, {'ed_id': 'SB_SS', 'weight': 246}, {'ed_id': 'SH_UC', 'weight': 549}]\n",
        "12\n",
        "[{'ed_id': '12_19', 'weight': 4275}, {'ed_id': '12_LM', 'weight': 2775}, {'ed_id': '12_OW', 'weight': 8621}, {'ed_id': '16_24', 'weight': 1288}, {'ed_id': '16_CC', 'weight': 1594}, {'ed_id': '19_MA', 'weight': 4222}, {'ed_id': '24_GP', 'weight': 1005}, {'ed_id': 'AS_BK', 'weight': 1911}, {'ed_id': 'AS_MA', 'weight': 2163}, {'ed_id': 'BF_CV', 'weight': 339}, {'ed_id': 'BF_HY', 'weight': 1072}, {'ed_id': 'BF_SL', 'weight': 1748}, {'ed_id': 'BK_NB', 'weight': 1333}, {'ed_id': 'BP_DC', 'weight': 679}, {'ed_id': 'BP_GP', 'weight': 843}, {'ed_id': 'CC_PL', 'weight': 2283}, {'ed_id': 'CL_FV', 'weight': 2469}, {'ed_id': 'CL_SL', 'weight': 2083}, {'ed_id': 'CM_DC', 'weight': 510}, {'ed_id': 'CM_SS', 'weight': 409}, {'ed_id': 'CN_NC', 'weight': 447}, {'ed_id': 'CN_PH', 'weight': 744}, {'ed_id': 'CV_ED', 'weight': 231}, {'ed_id': 'EM_MT', 'weight': 4267}, {'ed_id': 'EM_OW', 'weight': 5729}, {'ed_id': 'EN_EP', 'weight': 807}, {'ed_id': 'EN_RM', 'weight': 190}, {'ed_id': 'EP_NB', 'weight': 1088}, {'ed_id': 'FM_UC', 'weight': 360}, {'ed_id': 'FV_LM', 'weight': 2722}, {'ed_id': 'HY_SH', 'weight': 766}, {'ed_id': 'LF_OR', 'weight': 1486}, {'ed_id': 'LF_WC', 'weight': 1327}, {'ed_id': 'LM_OW', 'weight': 0}, {'ed_id': 'MA_RR', 'weight': 1815}, {'ed_id': 'MB_SB', 'weight': 127}, {'ed_id': 'MB_SO', 'weight': 0}, {'ed_id': 'MT_PL', 'weight': 3162}, {'ed_id': 'NC_WP', 'weight': 301}, {'ed_id': 'OR_RR', 'weight': 1598}, {'ed_id': 'PH_WC', 'weight': 1049}, {'ed_id': 'SB_SO', 'weight': 129}, {'ed_id': 'SB_SS', 'weight': 334}, {'ed_id': 'SH_UC', 'weight': 587}]\n",
        "LM\n",
        "[{'ed_id': '12_19', 'weight': 1019}, {'ed_id': '12_LM', 'weight': 4524}, {'ed_id': '12_OW', 'weight': 0}, {'ed_id': '16_24', 'weight': 471}, {'ed_id': '16_CC', 'weight': 674}, {'ed_id': '19_MA', 'weight': 968}, {'ed_id': '24_GP', 'weight': 345}, {'ed_id': 'AS_BK', 'weight': 582}, {'ed_id': 'AS_MA', 'weight': 659}, {'ed_id': 'BF_CV', 'weight': 283}, {'ed_id': 'BF_HY', 'weight': 563}, {'ed_id': 'BF_SL', 'weight': 1092}, {'ed_id': 'BK_NB', 'weight': 319}, {'ed_id': 'BP_DC', 'weight': 194}, {'ed_id': 'BP_GP', 'weight': 287}, {'ed_id': 'CC_PL', 'weight': 1116}, {'ed_id': 'CL_FV', 'weight': 1623}, {'ed_id': 'CL_SL', 'weight': 1348}, {'ed_id': 'CM_DC', 'weight': 98}, {'ed_id': 'CM_SS', 'weight': 88}, {'ed_id': 'CN_NC', 'weight': 57}, {'ed_id': 'CN_PH', 'weight': 92}, {'ed_id': 'CV_ED', 'weight': 175}, {'ed_id': 'EM_MT', 'weight': 2493}, {'ed_id': 'EM_OW', 'weight': 3410}, {'ed_id': 'EN_EP', 'weight': 180}, {'ed_id': 'EN_RM', 'weight': 50}, {'ed_id': 'EP_NB', 'weight': 252}, {'ed_id': 'FM_UC', 'weight': 182}, {'ed_id': 'FV_LM', 'weight': 1792}, {'ed_id': 'HY_SH', 'weight': 401}, {'ed_id': 'LF_OR', 'weight': 170}, {'ed_id': 'LF_WC', 'weight': 157}, {'ed_id': 'LM_OW', 'weight': 3454}, {'ed_id': 'MA_RR', 'weight': 216}, {'ed_id': 'MB_SB', 'weight': 20}, {'ed_id': 'MB_SO', 'weight': 0}, {'ed_id': 'MT_PL', 'weight': 1691}, {'ed_id': 'NC_WP', 'weight': 44}, {'ed_id': 'OR_RR', 'weight': 180}, {'ed_id': 'PH_WC', 'weight': 120}, {'ed_id': 'SB_SO', 'weight': 39}, {'ed_id': 'SB_SS', 'weight': 75}, {'ed_id': 'SH_UC', 'weight': 299}]\n",
        "FV\n",
        "[{'ed_id': '12_19', 'weight': 1489}, {'ed_id': '12_LM', 'weight': 6112}, {'ed_id': '12_OW', 'weight': 0}, {'ed_id': '16_24', 'weight': 648}, {'ed_id': '16_CC', 'weight': 900}, {'ed_id': '19_MA', 'weight': 1322}, {'ed_id': '24_GP', 'weight': 431}, {'ed_id': 'AS_BK', 'weight': 701}, {'ed_id': 'AS_MA', 'weight': 814}, {'ed_id': 'BF_CV', 'weight': 196}, {'ed_id': 'BF_HY', 'weight': 608}, {'ed_id': 'BF_SL', 'weight': 1091}, {'ed_id': 'BK_NB', 'weight': 399}, {'ed_id': 'BP_DC', 'weight': 265}, {'ed_id': 'BP_GP', 'weight': 371}, {'ed_id': 'CC_PL', 'weight': 1589}, {'ed_id': 'CL_FV', 'weight': 1683}, {'ed_id': 'CL_SL', 'weight': 1344}, {'ed_id': 'CM_DC', 'weight': 150}, {'ed_id': 'CM_SS', 'weight': 136}, {'ed_id': 'CN_NC', 'weight': 77}, {'ed_id': 'CN_PH', 'weight': 133}, {'ed_id': 'CV_ED', 'weight': 128}, {'ed_id': 'EM_MT', 'weight': 3261}, {'ed_id': 'EM_OW', 'weight': 4277}, {'ed_id': 'EN_EP', 'weight': 258}, {'ed_id': 'EN_RM', 'weight': 100}, {'ed_id': 'EP_NB', 'weight': 323}, {'ed_id': 'FM_UC', 'weight': 162}, {'ed_id': 'FV_LM', 'weight': 6281}, {'ed_id': 'HY_SH', 'weight': 356}, {'ed_id': 'LF_OR', 'weight': 235}, {'ed_id': 'LF_WC', 'weight': 213}, {'ed_id': 'LM_OW', 'weight': 4402}, {'ed_id': 'MA_RR', 'weight': 319}, {'ed_id': 'MB_SB', 'weight': 30}, {'ed_id': 'MB_SO', 'weight': 0}, {'ed_id': 'MT_PL', 'weight': 2344}, {'ed_id': 'NC_WP', 'weight': 64}, {'ed_id': 'OR_RR', 'weight': 263}, {'ed_id': 'PH_WC', 'weight': 167}, {'ed_id': 'SB_SO', 'weight': 61}, {'ed_id': 'SB_SS', 'weight': 126}, {'ed_id': 'SH_UC', 'weight': 253}]\n",
        "CL\n",
        "[{'ed_id': '12_19', 'weight': 2045}, {'ed_id': '12_LM', 'weight': 5479}, {'ed_id': '12_OW', 'weight': 0}, {'ed_id': '16_24', 'weight': 548}, {'ed_id': '16_CC', 'weight': 686}, {'ed_id': '19_MA', 'weight': 1831}, {'ed_id': '24_GP', 'weight': 413}, {'ed_id': 'AS_BK', 'weight': 787}, {'ed_id': 'AS_MA', 'weight': 908}, {'ed_id': 'BF_CV', 'weight': 524}, {'ed_id': 'BF_HY', 'weight': 844}, {'ed_id': 'BF_SL', 'weight': 1669}, {'ed_id': 'BK_NB', 'weight': 496}, {'ed_id': 'BP_DC', 'weight': 270}, {'ed_id': 'BP_GP', 'weight': 348}, {'ed_id': 'CC_PL', 'weight': 1111}, {'ed_id': 'CL_FV', 'weight': 6111}, {'ed_id': 'CL_SL', 'weight': 1902}, {'ed_id': 'CM_DC', 'weight': 168}, {'ed_id': 'CM_SS', 'weight': 151}, {'ed_id': 'CN_NC', 'weight': 192}, {'ed_id': 'CN_PH', 'weight': 301}, {'ed_id': 'CV_ED', 'weight': 408}, {'ed_id': 'EM_MT', 'weight': 2232}, {'ed_id': 'EM_OW', 'weight': 2947}, {'ed_id': 'EN_EP', 'weight': 311}, {'ed_id': 'EN_RM', 'weight': 99}, {'ed_id': 'EP_NB', 'weight': 403}, {'ed_id': 'FM_UC', 'weight': 314}, {'ed_id': 'FV_LM', 'weight': 5766}, {'ed_id': 'HY_SH', 'weight': 597}, {'ed_id': 'LF_OR', 'weight': 575}, {'ed_id': 'LF_WC', 'weight': 514}, {'ed_id': 'LM_OW', 'weight': 3066}, {'ed_id': 'MA_RR', 'weight': 694}, {'ed_id': 'MB_SB', 'weight': 33}, {'ed_id': 'MB_SO', 'weight': 0}, {'ed_id': 'MT_PL', 'weight': 1699}, {'ed_id': 'NC_WP', 'weight': 141}, {'ed_id': 'OR_RR', 'weight': 613}, {'ed_id': 'PH_WC', 'weight': 398}, {'ed_id': 'SB_SO', 'weight': 62}, {'ed_id': 'SB_SS', 'weight': 128}, {'ed_id': 'SH_UC', 'weight': 472}]\n",
        "SL\n",
        "[{'ed_id': '12_19', 'weight': 891}, {'ed_id': '12_LM', 'weight': 4029}, {'ed_id': '12_OW', 'weight': 0}, {'ed_id': '16_24', 'weight': 325}, {'ed_id': '16_CC', 'weight': 420}, {'ed_id': '19_MA', 'weight': 681}, {'ed_id': '24_GP', 'weight': 247}, {'ed_id': 'AS_BK', 'weight': 341}, {'ed_id': 'AS_MA', 'weight': 383}, {'ed_id': 'BF_CV', 'weight': 146}, {'ed_id': 'BF_HY', 'weight': 476}, {'ed_id': 'BF_SL', 'weight': 744}, {'ed_id': 'BK_NB', 'weight': 161}, {'ed_id': 'BP_DC', 'weight': 155}, {'ed_id': 'BP_GP', 'weight': 216}, {'ed_id': 'CC_PL', 'weight': 797}, {'ed_id': 'CL_FV', 'weight': 4533}, {'ed_id': 'CL_SL', 'weight': 4762}, {'ed_id': 'CM_DC', 'weight': 94}, {'ed_id': 'CM_SS', 'weight': 82}, {'ed_id': 'CN_NC', 'weight': 52}, {'ed_id': 'CN_PH', 'weight': 95}, {'ed_id': 'CV_ED', 'weight': 97}, {'ed_id': 'EM_MT', 'weight': 1912}, {'ed_id': 'EM_OW', 'weight': 2782}, {'ed_id': 'EN_EP', 'weight': 111}, {'ed_id': 'EN_RM', 'weight': 48}, {'ed_id': 'EP_NB', 'weight': 135}, {'ed_id': 'FM_UC', 'weight': 130}, {'ed_id': 'FV_LM', 'weight': 4288}, {'ed_id': 'HY_SH', 'weight': 298}, {'ed_id': 'LF_OR', 'weight': 153}, {'ed_id': 'LF_WC', 'weight': 141}, {'ed_id': 'LM_OW', 'weight': 2823}, {'ed_id': 'MA_RR', 'weight': 182}, {'ed_id': 'MB_SB', 'weight': 19}, {'ed_id': 'MB_SO', 'weight': 0}, {'ed_id': 'MT_PL', 'weight': 1242}, {'ed_id': 'NC_WP', 'weight': 41}, {'ed_id': 'OR_RR', 'weight': 160}, {'ed_id': 'PH_WC', 'weight': 115}, {'ed_id': 'SB_SO', 'weight': 40}, {'ed_id': 'SB_SS', 'weight': 73}, {'ed_id': 'SH_UC', 'weight': 216}]\n",
        "BF\n",
        "[{'ed_id': '12_19', 'weight': 810}, {'ed_id': '12_LM', 'weight': 3687}, {'ed_id': '12_OW', 'weight': 0}, {'ed_id': '16_24', 'weight': 271}, {'ed_id': '16_CC', 'weight': 360}, {'ed_id': '19_MA', 'weight': 596}, {'ed_id': '24_GP', 'weight': 202}, {'ed_id': 'AS_BK', 'weight': 293}, {'ed_id': 'AS_MA', 'weight': 334}, {'ed_id': 'BF_CV', 'weight': 288}, {'ed_id': 'BF_HY', 'weight': 721}, {'ed_id': 'BF_SL', 'weight': 4655}, {'ed_id': 'BK_NB', 'weight': 145}, {'ed_id': 'BP_DC', 'weight': 135}, {'ed_id': 'BP_GP', 'weight': 180}, {'ed_id': 'CC_PL', 'weight': 695}, {'ed_id': 'CL_FV', 'weight': 4224}, {'ed_id': 'CL_SL', 'weight': 4519}, {'ed_id': 'CM_DC', 'weight': 72}, {'ed_id': 'CM_SS', 'weight': 61}, {'ed_id': 'CN_NC', 'weight': 36}, {'ed_id': 'CN_PH', 'weight': 65}, {'ed_id': 'CV_ED', 'weight': 209}, {'ed_id': 'EM_MT', 'weight': 1735}, {'ed_id': 'EM_OW', 'weight': 2485}, {'ed_id': 'EN_EP', 'weight': 103}, {'ed_id': 'EN_RM', 'weight': 41}, {'ed_id': 'EP_NB', 'weight': 123}, {'ed_id': 'FM_UC', 'weight': 254}, {'ed_id': 'FV_LM', 'weight': 3935}, {'ed_id': 'HY_SH', 'weight': 516}, {'ed_id': 'LF_OR', 'weight': 106}, {'ed_id': 'LF_WC', 'weight': 101}, {'ed_id': 'LM_OW', 'weight': 2541}, {'ed_id': 'MA_RR', 'weight': 131}, {'ed_id': 'MB_SB', 'weight': 11}, {'ed_id': 'MB_SO', 'weight': 0}, {'ed_id': 'MT_PL', 'weight': 1130}, {'ed_id': 'NC_WP', 'weight': 28}, {'ed_id': 'OR_RR', 'weight': 111}, {'ed_id': 'PH_WC', 'weight': 78}, {'ed_id': 'SB_SO', 'weight': 23}, {'ed_id': 'SB_SS', 'weight': 53}, {'ed_id': 'SH_UC', 'weight': 401}]\n",
        "HY\n",
        "[{'ed_id': '12_19', 'weight': 830}, {'ed_id': '12_LM', 'weight': 3051}, {'ed_id': '12_OW', 'weight': 0}, {'ed_id': '16_24', 'weight': 219}, {'ed_id': '16_CC', 'weight': 299}, {'ed_id': '19_MA', 'weight': 635}, {'ed_id': '24_GP', 'weight': 168}, {'ed_id': 'AS_BK', 'weight': 313}, {'ed_id': 'AS_MA', 'weight': 355}, {'ed_id': 'BF_CV', 'weight': 108}, {'ed_id': 'BF_HY', 'weight': 4193}, {'ed_id': 'BF_SL', 'weight': 3900}, {'ed_id': 'BK_NB', 'weight': 166}, {'ed_id': 'BP_DC', 'weight': 103}, {'ed_id': 'BP_GP', 'weight': 141}, {'ed_id': 'CC_PL', 'weight': 549}, {'ed_id': 'CL_FV', 'weight': 3473}, {'ed_id': 'CL_SL', 'weight': 3725}, {'ed_id': 'CM_DC', 'weight': 58}, {'ed_id': 'CM_SS', 'weight': 51}, {'ed_id': 'CN_NC', 'weight': 50}, {'ed_id': 'CN_PH', 'weight': 87}, {'ed_id': 'CV_ED', 'weight': 76}, {'ed_id': 'EM_MT', 'weight': 1310}, {'ed_id': 'EM_OW', 'weight': 1870}, {'ed_id': 'EN_EP', 'weight': 112}, {'ed_id': 'EN_RM', 'weight': 37}, {'ed_id': 'EP_NB', 'weight': 135}, {'ed_id': 'FM_UC', 'weight': 337}, {'ed_id': 'FV_LM', 'weight': 3220}, {'ed_id': 'HY_SH', 'weight': 624}, {'ed_id': 'LF_OR', 'weight': 138}, {'ed_id': 'LF_WC', 'weight': 127}, {'ed_id': 'LM_OW', 'weight': 1903}, {'ed_id': 'MA_RR', 'weight': 158}, {'ed_id': 'MB_SB', 'weight': 7}, {'ed_id': 'MB_SO', 'weight': 0}, {'ed_id': 'MT_PL', 'weight': 838}, {'ed_id': 'NC_WP', 'weight': 42}, {'ed_id': 'OR_RR', 'weight': 144}, {'ed_id': 'PH_WC', 'weight': 108}, {'ed_id': 'SB_SO', 'weight': 23}, {'ed_id': 'SB_SS', 'weight': 40}, {'ed_id': 'SH_UC', 'weight': 510}]\n",
        "SH\n",
        "[{'ed_id': '12_19', 'weight': 508}, {'ed_id': '12_LM', 'weight': 2188}, {'ed_id': '12_OW', 'weight': 0}, {'ed_id': '16_24', 'weight': 160}, {'ed_id': '16_CC', 'weight': 220}, {'ed_id': '19_MA', 'weight': 363}, {'ed_id': '24_GP', 'weight': 119}, {'ed_id': 'AS_BK', 'weight': 183}, {'ed_id': 'AS_MA', 'weight': 210}, {'ed_id': 'BF_CV', 'weight': 72}, {'ed_id': 'BF_HY', 'weight': 2810}, {'ed_id': 'BF_SL', 'weight': 2620}, {'ed_id': 'BK_NB', 'weight': 85}, {'ed_id': 'BP_DC', 'weight': 81}, {'ed_id': 'BP_GP', 'weight': 107}, {'ed_id': 'CC_PL', 'weight': 415}, {'ed_id': 'CL_FV', 'weight': 2404}, {'ed_id': 'CL_SL', 'weight': 2542}, {'ed_id': 'CM_DC', 'weight': 40}, {'ed_id': 'CM_SS', 'weight': 33}, {'ed_id': 'CN_NC', 'weight': 22}, {'ed_id': 'CN_PH', 'weight': 40}, {'ed_id': 'CV_ED', 'weight': 45}, {'ed_id': 'EM_MT', 'weight': 991}, {'ed_id': 'EM_OW', 'weight': 1474}, {'ed_id': 'EN_EP', 'weight': 61}, {'ed_id': 'EN_RM', 'weight': 26}, {'ed_id': 'EP_NB', 'weight': 72}, {'ed_id': 'FM_UC', 'weight': 201}, {'ed_id': 'FV_LM', 'weight': 2296}, {'ed_id': 'HY_SH', 'weight': 2934}, {'ed_id': 'LF_OR', 'weight': 72}, {'ed_id': 'LF_WC', 'weight': 70}, {'ed_id': 'LM_OW', 'weight': 1492}, {'ed_id': 'MA_RR', 'weight': 85}, {'ed_id': 'MB_SB', 'weight': 4}, {'ed_id': 'MB_SO', 'weight': 0}, {'ed_id': 'MT_PL', 'weight': 631}, {'ed_id': 'NC_WP', 'weight': 17}, {'ed_id': 'OR_RR', 'weight': 74}, {'ed_id': 'PH_WC', 'weight': 54}, {'ed_id': 'SB_SO', 'weight': 14}, {'ed_id': 'SB_SS', 'weight': 25}, {'ed_id': 'SH_UC', 'weight': 278}]\n",
        "UC\n",
        "[{'ed_id': '12_19', 'weight': 641}, {'ed_id': '12_LM', 'weight': 3341}, {'ed_id': '12_OW', 'weight': 0}, {'ed_id': '16_24', 'weight': 168}, {'ed_id': '16_CC', 'weight': 236}, {'ed_id': '19_MA', 'weight': 454}, {'ed_id': '24_GP', 'weight': 141}, {'ed_id': 'AS_BK', 'weight': 236}, {'ed_id': 'AS_MA', 'weight': 272}, {'ed_id': 'BF_CV', 'weight': 82}, {'ed_id': 'BF_HY', 'weight': 4011}, {'ed_id': 'BF_SL', 'weight': 3794}, {'ed_id': 'BK_NB', 'weight': 84}, {'ed_id': 'BP_DC', 'weight': 99}, {'ed_id': 'BP_GP', 'weight': 127}, {'ed_id': 'CC_PL', 'weight': 478}, {'ed_id': 'CL_FV', 'weight': 3551}, {'ed_id': 'CL_SL', 'weight': 3716}, {'ed_id': 'CM_DC', 'weight': 50}, {'ed_id': 'CM_SS', 'weight': 42}, {'ed_id': 'CN_NC', 'weight': 28}, {'ed_id': 'CN_PH', 'weight': 43}, {'ed_id': 'CV_ED', 'weight': 61}, {'ed_id': 'EM_MT', 'weight': 1496}, {'ed_id': 'EM_OW', 'weight': 2451}, {'ed_id': 'EN_EP', 'weight': 54}, {'ed_id': 'EN_RM', 'weight': 15}, {'ed_id': 'EP_NB', 'weight': 67}, {'ed_id': 'FM_UC', 'weight': 191}, {'ed_id': 'FV_LM', 'weight': 3461}, {'ed_id': 'HY_SH', 'weight': 4185}, {'ed_id': 'LF_OR', 'weight': 81}, {'ed_id': 'LF_WC', 'weight': 76}, {'ed_id': 'LM_OW', 'weight': 2467}, {'ed_id': 'MA_RR', 'weight': 96}, {'ed_id': 'MB_SB', 'weight': 4}, {'ed_id': 'MB_SO', 'weight': 0}, {'ed_id': 'MT_PL', 'weight': 799}, {'ed_id': 'NC_WP', 'weight': 21}, {'ed_id': 'OR_RR', 'weight': 85}, {'ed_id': 'PH_WC', 'weight': 59}, {'ed_id': 'SB_SO', 'weight': 22}, {'ed_id': 'SB_SS', 'weight': 34}, {'ed_id': 'SH_UC', 'weight': 4256}]\n",
        "FM\n",
        "[{'ed_id': '12_19', 'weight': 1326}, {'ed_id': '12_LM', 'weight': 6255}, {'ed_id': '12_OW', 'weight': 0}, {'ed_id': '16_24', 'weight': 278}, {'ed_id': '16_CC', 'weight': 381}, {'ed_id': '19_MA', 'weight': 967}, {'ed_id': '24_GP', 'weight': 232}, {'ed_id': 'AS_BK', 'weight': 531}, {'ed_id': 'AS_MA', 'weight': 598}, {'ed_id': 'BF_CV', 'weight': 137}, {'ed_id': 'BF_HY', 'weight': 7428}, {'ed_id': 'BF_SL', 'weight': 7050}, {'ed_id': 'BK_NB', 'weight': 204}, {'ed_id': 'BP_DC', 'weight': 168}, {'ed_id': 'BP_GP', 'weight': 204}, {'ed_id': 'CC_PL', 'weight': 743}, {'ed_id': 'CL_FV', 'weight': 6594}, {'ed_id': 'CL_SL', 'weight': 6923}, {'ed_id': 'CM_DC', 'weight': 88}, {'ed_id': 'CM_SS', 'weight': 80}, {'ed_id': 'CN_NC', 'weight': 49}, {'ed_id': 'CN_PH', 'weight': 86}, {'ed_id': 'CV_ED', 'weight': 102}, {'ed_id': 'EM_MT', 'weight': 2636}, {'ed_id': 'EM_OW', 'weight': 4542}, {'ed_id': 'EN_EP', 'weight': 123}, {'ed_id': 'EN_RM', 'weight': 31}, {'ed_id': 'EP_NB', 'weight': 171}, {'ed_id': 'FM_UC', 'weight': 8131}, {'ed_id': 'FV_LM', 'weight': 6435}, {'ed_id': 'HY_SH', 'weight': 7755}, {'ed_id': 'LF_OR', 'weight': 165}, {'ed_id': 'LF_WC', 'weight': 152}, {'ed_id': 'LM_OW', 'weight': 4564}, {'ed_id': 'MA_RR', 'weight': 213}, {'ed_id': 'MB_SB', 'weight': 7}, {'ed_id': 'MB_SO', 'weight': 0}, {'ed_id': 'MT_PL', 'weight': 1305}, {'ed_id': 'NC_WP', 'weight': 38}, {'ed_id': 'OR_RR', 'weight': 178}, {'ed_id': 'PH_WC', 'weight': 123}, {'ed_id': 'SB_SO', 'weight': 58}, {'ed_id': 'SB_SS', 'weight': 74}, {'ed_id': 'SH_UC', 'weight': 7936}]\n",
        "CN\n",
        "[{'ed_id': '12_19', 'weight': 4054}, {'ed_id': '12_LM', 'weight': 405}, {'ed_id': '12_OW', 'weight': 3762}, {'ed_id': '16_24', 'weight': 472}, {'ed_id': '16_CC', 'weight': 562}, {'ed_id': '19_MA', 'weight': 4328}, {'ed_id': '24_GP', 'weight': 397}, {'ed_id': 'AS_BK', 'weight': 262}, {'ed_id': 'AS_MA', 'weight': 291}, {'ed_id': 'BF_CV', 'weight': 21}, {'ed_id': 'BF_HY', 'weight': 101}, {'ed_id': 'BF_SL', 'weight': 152}, {'ed_id': 'BK_NB', 'weight': 113}, {'ed_id': 'BP_DC', 'weight': 308}, {'ed_id': 'BP_GP', 'weight': 361}, {'ed_id': 'CC_PL', 'weight': 948}, {'ed_id': 'CL_FV', 'weight': 309}, {'ed_id': 'CL_SL', 'weight': 195}, {'ed_id': 'CM_DC', 'weight': 226}, {'ed_id': 'CM_SS', 'weight': 197}, {'ed_id': 'CN_NC', 'weight': 426}, {'ed_id': 'CN_PH', 'weight': 5487}, {'ed_id': 'CV_ED', 'weight': 13}, {'ed_id': 'EM_MT', 'weight': 2288}, {'ed_id': 'EM_OW', 'weight': 3336}, {'ed_id': 'EN_EP', 'weight': 71}, {'ed_id': 'EN_RM', 'weight': 30}, {'ed_id': 'EP_NB', 'weight': 95}, {'ed_id': 'FM_UC', 'weight': 36}, {'ed_id': 'FV_LM', 'weight': 364}, {'ed_id': 'HY_SH', 'weight': 68}, {'ed_id': 'LF_OR', 'weight': 4888}, {'ed_id': 'LF_WC', 'weight': 5018}, {'ed_id': 'LM_OW', 'weight': 0}, {'ed_id': 'MA_RR', 'weight': 4760}, {'ed_id': 'MB_SB', 'weight': 25}, {'ed_id': 'MB_SO', 'weight': 0}, {'ed_id': 'MT_PL', 'weight': 1388}, {'ed_id': 'NC_WP', 'weight': 366}, {'ed_id': 'OR_RR', 'weight': 4845}, {'ed_id': 'PH_WC', 'weight': 5378}, {'ed_id': 'SB_SO', 'weight': 116}, {'ed_id': 'SB_SS', 'weight': 173}, {'ed_id': 'SH_UC', 'weight': 50}]\n",
        "PH\n",
        "[{'ed_id': '12_19', 'weight': 5455}, {'ed_id': '12_LM', 'weight': 305}, {'ed_id': '12_OW', 'weight': 5146}, {'ed_id': '16_24', 'weight': 483}, {'ed_id': '16_CC', 'weight': 579}, {'ed_id': '19_MA', 'weight': 5780}, {'ed_id': '24_GP', 'weight': 423}, {'ed_id': 'AS_BK', 'weight': 229}, {'ed_id': 'AS_MA', 'weight': 252}, {'ed_id': 'BF_CV', 'weight': 12}, {'ed_id': 'BF_HY', 'weight': 86}, {'ed_id': 'BF_SL', 'weight': 111}, {'ed_id': 'BK_NB', 'weight': 70}, {'ed_id': 'BP_DC', 'weight': 333}, {'ed_id': 'BP_GP', 'weight': 377}, {'ed_id': 'CC_PL', 'weight': 990}, {'ed_id': 'CL_FV', 'weight': 237}, {'ed_id': 'CL_SL', 'weight': 133}, {'ed_id': 'CM_DC', 'weight': 256}, {'ed_id': 'CM_SS', 'weight': 239}, {'ed_id': 'CN_NC', 'weight': 180}, {'ed_id': 'CN_PH', 'weight': 295}, {'ed_id': 'CV_ED', 'weight': 8}, {'ed_id': 'EM_MT', 'weight': 2913}, {'ed_id': 'EM_OW', 'weight': 4825}, {'ed_id': 'EN_EP', 'weight': 38}, {'ed_id': 'EN_RM', 'weight': 15}, {'ed_id': 'EP_NB', 'weight': 52}, {'ed_id': 'FM_UC', 'weight': 36}, {'ed_id': 'FV_LM', 'weight': 273}, {'ed_id': 'HY_SH', 'weight': 62}, {'ed_id': 'LF_OR', 'weight': 6299}, {'ed_id': 'LF_WC', 'weight': 6358}, {'ed_id': 'LM_OW', 'weight': 0}, {'ed_id': 'MA_RR', 'weight': 6160}, {'ed_id': 'MB_SB', 'weight': 20}, {'ed_id': 'MB_SO', 'weight': 0}, {'ed_id': 'MT_PL', 'weight': 1492}, {'ed_id': 'NC_WP', 'weight': 137}, {'ed_id': 'OR_RR', 'weight': 6268}, {'ed_id': 'PH_WC', 'weight': 6499}, {'ed_id': 'SB_SO', 'weight': 171}, {'ed_id': 'SB_SS', 'weight': 220}, {'ed_id': 'SH_UC', 'weight': 50}]\n",
        "WC\n",
        "[{'ed_id': '12_19', 'weight': 4820}, {'ed_id': '12_LM', 'weight': 357}, {'ed_id': '12_OW', 'weight': 4556}, {'ed_id': '16_24', 'weight': 507}, {'ed_id': '16_CC', 'weight': 586}, {'ed_id': '19_MA', 'weight': 5085}, {'ed_id': '24_GP', 'weight': 444}, {'ed_id': 'AS_BK', 'weight': 280}, {'ed_id': 'AS_MA', 'weight': 314}, {'ed_id': 'BF_CV', 'weight': 18}, {'ed_id': 'BF_HY', 'weight': 82}, {'ed_id': 'BF_SL', 'weight': 121}, {'ed_id': 'BK_NB', 'weight': 128}, {'ed_id': 'BP_DC', 'weight': 350}, {'ed_id': 'BP_GP', 'weight': 391}, {'ed_id': 'CC_PL', 'weight': 913}, {'ed_id': 'CL_FV', 'weight': 269}, {'ed_id': 'CL_SL', 'weight': 149}, {'ed_id': 'CM_DC', 'weight': 282}, {'ed_id': 'CM_SS', 'weight': 258}, {'ed_id': 'CN_NC', 'weight': 334}, {'ed_id': 'CN_PH', 'weight': 655}, {'ed_id': 'CV_ED', 'weight': 10}, {'ed_id': 'EM_MT', 'weight': 2528}, {'ed_id': 'EM_OW', 'weight': 4180}, {'ed_id': 'EN_EP', 'weight': 66}, {'ed_id': 'EN_RM', 'weight': 22}, {'ed_id': 'EP_NB', 'weight': 97}, {'ed_id': 'FM_UC', 'weight': 30}, {'ed_id': 'FV_LM', 'weight': 321}, {'ed_id': 'HY_SH', 'weight': 60}, {'ed_id': 'LF_OR', 'weight': 5757}, {'ed_id': 'LF_WC', 'weight': 5826}, {'ed_id': 'LM_OW', 'weight': 0}, {'ed_id': 'MA_RR', 'weight': 5542}, {'ed_id': 'MB_SB', 'weight': 32}, {'ed_id': 'MB_SO', 'weight': 0}, {'ed_id': 'MT_PL', 'weight': 1416}, {'ed_id': 'NC_WP', 'weight': 264}, {'ed_id': 'OR_RR', 'weight': 5712}, {'ed_id': 'PH_WC', 'weight': 787}, {'ed_id': 'SB_SO', 'weight': 180}, {'ed_id': 'SB_SS', 'weight': 234}, {'ed_id': 'SH_UC', 'weight': 48}]\n",
        "LF\n",
        "[{'ed_id': '12_19', 'weight': 2882}, {'ed_id': '12_LM', 'weight': 149}, {'ed_id': '12_OW', 'weight': 2723}, {'ed_id': '16_24', 'weight': 217}, {'ed_id': '16_CC', 'weight': 266}, {'ed_id': '19_MA', 'weight': 3030}, {'ed_id': '24_GP', 'weight': 182}, {'ed_id': 'AS_BK', 'weight': 150}, {'ed_id': 'AS_MA', 'weight': 161}, {'ed_id': 'BF_CV', 'weight': 5}, {'ed_id': 'BF_HY', 'weight': 28}, {'ed_id': 'BF_SL', 'weight': 39}, {'ed_id': 'BK_NB', 'weight': 54}, {'ed_id': 'BP_DC', 'weight': 151}, {'ed_id': 'BP_GP', 'weight': 166}, {'ed_id': 'CC_PL', 'weight': 469}, {'ed_id': 'CL_FV', 'weight': 113}, {'ed_id': 'CL_SL', 'weight': 51}, {'ed_id': 'CM_DC', 'weight': 125}, {'ed_id': 'CM_SS', 'weight': 120}, {'ed_id': 'CN_NC', 'weight': 58}, {'ed_id': 'CN_PH', 'weight': 170}, {'ed_id': 'CV_ED', 'weight': 3}, {'ed_id': 'EM_MT', 'weight': 1485}, {'ed_id': 'EM_OW', 'weight': 2569}, {'ed_id': 'EN_EP', 'weight': 28}, {'ed_id': 'EN_RM', 'weight': 15}, {'ed_id': 'EP_NB', 'weight': 40}, {'ed_id': 'FM_UC', 'weight': 12}, {'ed_id': 'FV_LM', 'weight': 135}, {'ed_id': 'HY_SH', 'weight': 18}, {'ed_id': 'LF_OR', 'weight': 3351}, {'ed_id': 'LF_WC', 'weight': 280}, {'ed_id': 'LM_OW', 'weight': 0}, {'ed_id': 'MA_RR', 'weight': 3247}, {'ed_id': 'MB_SB', 'weight': 11}, {'ed_id': 'MB_SO', 'weight': 0}, {'ed_id': 'MT_PL', 'weight': 732}, {'ed_id': 'NC_WP', 'weight': 44}, {'ed_id': 'OR_RR', 'weight': 3331}, {'ed_id': 'PH_WC', 'weight': 215}, {'ed_id': 'SB_SO', 'weight': 94}, {'ed_id': 'SB_SS', 'weight': 115}, {'ed_id': 'SH_UC', 'weight': 17}]\n",
        "OR\n",
        "[{'ed_id': '12_19', 'weight': 2314}, {'ed_id': '12_LM', 'weight': 126}, {'ed_id': '12_OW', 'weight': 2206}, {'ed_id': '16_24', 'weight': 192}, {'ed_id': '16_CC', 'weight': 229}, {'ed_id': '19_MA', 'weight': 2413}, {'ed_id': '24_GP', 'weight': 165}, {'ed_id': 'AS_BK', 'weight': 109}, {'ed_id': 'AS_MA', 'weight': 120}, {'ed_id': 'BF_CV', 'weight': 3}, {'ed_id': 'BF_HY', 'weight': 26}, {'ed_id': 'BF_SL', 'weight': 37}, {'ed_id': 'BK_NB', 'weight': 45}, {'ed_id': 'BP_DC', 'weight': 131}, {'ed_id': 'BP_GP', 'weight': 146}, {'ed_id': 'CC_PL', 'weight': 401}, {'ed_id': 'CL_FV', 'weight': 83}, {'ed_id': 'CL_SL', 'weight': 44}, {'ed_id': 'CM_DC', 'weight': 109}, {'ed_id': 'CM_SS', 'weight': 103}, {'ed_id': 'CN_NC', 'weight': 31}, {'ed_id': 'CN_PH', 'weight': 70}, {'ed_id': 'CV_ED', 'weight': 2}, {'ed_id': 'EM_MT', 'weight': 1225}, {'ed_id': 'EM_OW', 'weight': 2074}, {'ed_id': 'EN_EP', 'weight': 25}, {'ed_id': 'EN_RM', 'weight': 12}, {'ed_id': 'EP_NB', 'weight': 33}, {'ed_id': 'FM_UC', 'weight': 13}, {'ed_id': 'FV_LM', 'weight': 114}, {'ed_id': 'HY_SH', 'weight': 21}, {'ed_id': 'LF_OR', 'weight': 159}, {'ed_id': 'LF_WC', 'weight': 142}, {'ed_id': 'LM_OW', 'weight': 0}, {'ed_id': 'MA_RR', 'weight': 2577}, {'ed_id': 'MB_SB', 'weight': 8}, {'ed_id': 'MB_SO', 'weight': 0}, {'ed_id': 'MT_PL', 'weight': 592}, {'ed_id': 'NC_WP', 'weight': 24}, {'ed_id': 'OR_RR', 'weight': 2643}, {'ed_id': 'PH_WC', 'weight': 97}, {'ed_id': 'SB_SO', 'weight': 82}, {'ed_id': 'SB_SS', 'weight': 97}, {'ed_id': 'SH_UC', 'weight': 17}]\n",
        "RR\n",
        "[{'ed_id': '12_19', 'weight': 4623}, {'ed_id': '12_LM', 'weight': 296}, {'ed_id': '12_OW', 'weight': 4445}, {'ed_id': '16_24', 'weight': 481}, {'ed_id': '16_CC', 'weight': 682}, {'ed_id': '19_MA', 'weight': 4783}, {'ed_id': '24_GP', 'weight': 360}, {'ed_id': 'AS_BK', 'weight': 172}, {'ed_id': 'AS_MA', 'weight': 188}, {'ed_id': 'BF_CV', 'weight': 21}, {'ed_id': 'BF_HY', 'weight': 71}, {'ed_id': 'BF_SL', 'weight': 108}, {'ed_id': 'BK_NB', 'weight': 110}, {'ed_id': 'BP_DC', 'weight': 260}, {'ed_id': 'BP_GP', 'weight': 300}, {'ed_id': 'CC_PL', 'weight': 1176}, {'ed_id': 'CL_FV', 'weight': 208}, {'ed_id': 'CL_SL', 'weight': 131}, {'ed_id': 'CM_DC', 'weight': 215}, {'ed_id': 'CM_SS', 'weight': 208}, {'ed_id': 'CN_NC', 'weight': 85}, {'ed_id': 'CN_PH', 'weight': 174}, {'ed_id': 'CV_ED', 'weight': 14}, {'ed_id': 'EM_MT', 'weight': 2803}, {'ed_id': 'EM_OW', 'weight': 4118}, {'ed_id': 'EN_EP', 'weight': 50}, {'ed_id': 'EN_RM', 'weight': 17}, {'ed_id': 'EP_NB', 'weight': 88}, {'ed_id': 'FM_UC', 'weight': 35}, {'ed_id': 'FV_LM', 'weight': 261}, {'ed_id': 'HY_SH', 'weight': 57}, {'ed_id': 'LF_OR', 'weight': 546}, {'ed_id': 'LF_WC', 'weight': 460}, {'ed_id': 'LM_OW', 'weight': 0}, {'ed_id': 'MA_RR', 'weight': 5042}, {'ed_id': 'MB_SB', 'weight': 23}, {'ed_id': 'MB_SO', 'weight': 0}, {'ed_id': 'MT_PL', 'weight': 1693}, {'ed_id': 'NC_WP', 'weight': 56}, {'ed_id': 'OR_RR', 'weight': 613}, {'ed_id': 'PH_WC', 'weight': 280}, {'ed_id': 'SB_SO', 'weight': 164}, {'ed_id': 'SB_SS', 'weight': 200}, {'ed_id': 'SH_UC', 'weight': 46}]\n",
        "OW\n",
        "[{'ed_id': '12_19', 'weight': 556}, {'ed_id': '12_LM', 'weight': 0}, {'ed_id': '12_OW', 'weight': 1173}, {'ed_id': '16_24', 'weight': 563}, {'ed_id': '16_CC', 'weight': 825}, {'ed_id': '19_MA', 'weight': 480}, {'ed_id': '24_GP', 'weight': 379}, {'ed_id': 'AS_BK', 'weight': 218}, {'ed_id': 'AS_MA', 'weight': 259}, {'ed_id': 'BF_CV', 'weight': 31}, {'ed_id': 'BF_HY', 'weight': 92}, {'ed_id': 'BF_SL', 'weight': 176}, {'ed_id': 'BK_NB', 'weight': 109}, {'ed_id': 'BP_DC', 'weight': 238}, {'ed_id': 'BP_GP', 'weight': 324}, {'ed_id': 'CC_PL', 'weight': 1472}, {'ed_id': 'CL_FV', 'weight': 328}, {'ed_id': 'CL_SL', 'weight': 216}, {'ed_id': 'CM_DC', 'weight': 174}, {'ed_id': 'CM_SS', 'weight': 157}, {'ed_id': 'CN_NC', 'weight': 47}, {'ed_id': 'CN_PH', 'weight': 69}, {'ed_id': 'CV_ED', 'weight': 23}, {'ed_id': 'EM_MT', 'weight': 3598}, {'ed_id': 'EM_OW', 'weight': 5336}, {'ed_id': 'EN_EP', 'weight': 72}, {'ed_id': 'EN_RM', 'weight': 26}, {'ed_id': 'EP_NB', 'weight': 91}, {'ed_id': 'FM_UC', 'weight': 23}, {'ed_id': 'FV_LM', 'weight': 455}, {'ed_id': 'HY_SH', 'weight': 58}, {'ed_id': 'LF_OR', 'weight': 109}, {'ed_id': 'LF_WC', 'weight': 104}, {'ed_id': 'LM_OW', 'weight': 510}, {'ed_id': 'MA_RR', 'weight': 147}, {'ed_id': 'MB_SB', 'weight': 27}, {'ed_id': 'MB_SO', 'weight': 0}, {'ed_id': 'MT_PL', 'weight': 2321}, {'ed_id': 'NC_WP', 'weight': 39}, {'ed_id': 'OR_RR', 'weight': 114}, {'ed_id': 'PH_WC', 'weight': 83}, {'ed_id': 'SB_SO', 'weight': 90}, {'ed_id': 'SB_SS', 'weight': 145}, {'ed_id': 'SH_UC', 'weight': 40}]\n",
        "EM\n",
        "[{'ed_id': '12_19', 'weight': 14681}, {'ed_id': '12_LM', 'weight': 0}, {'ed_id': '12_OW', 'weight': 25166}, {'ed_id': '16_24', 'weight': 8756}, {'ed_id': '16_CC', 'weight': 9864}, {'ed_id': '19_MA', 'weight': 13627}, {'ed_id': '24_GP', 'weight': 7319}, {'ed_id': 'AS_BK', 'weight': 3827}, {'ed_id': 'AS_MA', 'weight': 4514}, {'ed_id': 'BF_CV', 'weight': 2274}, {'ed_id': 'BF_HY', 'weight': 3422}, {'ed_id': 'BF_SL', 'weight': 6323}, {'ed_id': 'BK_NB', 'weight': 2584}, {'ed_id': 'BP_DC', 'weight': 4859}, {'ed_id': 'BP_GP', 'weight': 6201}, {'ed_id': 'CC_PL', 'weight': 10354}, {'ed_id': 'CL_FV', 'weight': 7706}, {'ed_id': 'CL_SL', 'weight': 7022}, {'ed_id': 'CM_DC', 'weight': 3628}, {'ed_id': 'CM_SS', 'weight': 2852}, {'ed_id': 'CN_NC', 'weight': 1172}, {'ed_id': 'CN_PH', 'weight': 2047}, {'ed_id': 'CV_ED', 'weight': 1747}, {'ed_id': 'EM_MT', 'weight': 11241}, {'ed_id': 'EM_OW', 'weight': 26676}, {'ed_id': 'EN_EP', 'weight': 1243}, {'ed_id': 'EN_RM', 'weight': 313}, {'ed_id': 'EP_NB', 'weight': 1813}, {'ed_id': 'FM_UC', 'weight': 1706}, {'ed_id': 'FV_LM', 'weight': 8567}, {'ed_id': 'HY_SH', 'weight': 2957}, {'ed_id': 'LF_OR', 'weight': 5994}, {'ed_id': 'LF_WC', 'weight': 5018}, {'ed_id': 'LM_OW', 'weight': 9355}, {'ed_id': 'MA_RR', 'weight': 8033}, {'ed_id': 'MB_SB', 'weight': 1034}, {'ed_id': 'MB_SO', 'weight': 0}, {'ed_id': 'MT_PL', 'weight': 11113}, {'ed_id': 'NC_WP', 'weight': 671}, {'ed_id': 'OR_RR', 'weight': 6784}, {'ed_id': 'PH_WC', 'weight': 3614}, {'ed_id': 'SB_SO', 'weight': 652}, {'ed_id': 'SB_SS', 'weight': 2247}, {'ed_id': 'SH_UC', 'weight': 2557}]\n",
        "MT\n",
        "[{'ed_id': '12_19', 'weight': 14034}, {'ed_id': '12_LM', 'weight': 0}, {'ed_id': '12_OW', 'weight': 23150}, {'ed_id': '16_24', 'weight': 10134}, {'ed_id': '16_CC', 'weight': 11459}, {'ed_id': '19_MA', 'weight': 12944}, {'ed_id': '24_GP', 'weight': 8352}, {'ed_id': 'AS_BK', 'weight': 3733}, {'ed_id': 'AS_MA', 'weight': 4440}, {'ed_id': 'BF_CV', 'weight': 1772}, {'ed_id': 'BF_HY', 'weight': 2764}, {'ed_id': 'BF_SL', 'weight': 5104}, {'ed_id': 'BK_NB', 'weight': 2679}, {'ed_id': 'BP_DC', 'weight': 5347}, {'ed_id': 'BP_GP', 'weight': 7002}, {'ed_id': 'CC_PL', 'weight': 11899}, {'ed_id': 'CL_FV', 'weight': 6323}, {'ed_id': 'CL_SL', 'weight': 5770}, {'ed_id': 'CM_DC', 'weight': 3919}, {'ed_id': 'CM_SS', 'weight': 3077}, {'ed_id': 'CN_NC', 'weight': 1082}, {'ed_id': 'CN_PH', 'weight': 1966}, {'ed_id': 'CV_ED', 'weight': 1328}, {'ed_id': 'EM_MT', 'weight': 24472}, {'ed_id': 'EM_OW', 'weight': 24349}, {'ed_id': 'EN_EP', 'weight': 1323}, {'ed_id': 'EN_RM', 'weight': 305}, {'ed_id': 'EP_NB', 'weight': 1942}, {'ed_id': 'FM_UC', 'weight': 1315}, {'ed_id': 'FV_LM', 'weight': 7205}, {'ed_id': 'HY_SH', 'weight': 2325}, {'ed_id': 'LF_OR', 'weight': 5427}, {'ed_id': 'LF_WC', 'weight': 4593}, {'ed_id': 'LM_OW', 'weight': 8010}, {'ed_id': 'MA_RR', 'weight': 7374}, {'ed_id': 'MB_SB', 'weight': 1194}, {'ed_id': 'MB_SO', 'weight': 0}, {'ed_id': 'MT_PL', 'weight': 12192}, {'ed_id': 'NC_WP', 'weight': 634}, {'ed_id': 'OR_RR', 'weight': 6118}, {'ed_id': 'PH_WC', 'weight': 3394}, {'ed_id': 'SB_SO', 'weight': 641}, {'ed_id': 'SB_SS', 'weight': 2400}, {'ed_id': 'SH_UC', 'weight': 1990}]\n",
        "PL\n",
        "[{'ed_id': '12_19', 'weight': 9775}, {'ed_id': '12_LM', 'weight': 0}, {'ed_id': '12_OW', 'weight': 16793}, {'ed_id': '16_24', 'weight': 12112}, {'ed_id': '16_CC', 'weight': 13895}, {'ed_id': '19_MA', 'weight': 8936}, {'ed_id': '24_GP', 'weight': 9916}, {'ed_id': 'AS_BK', 'weight': 3576}, {'ed_id': 'AS_MA', 'weight': 4068}, {'ed_id': 'BF_CV', 'weight': 1005}, {'ed_id': 'BF_HY', 'weight': 1652}, {'ed_id': 'BF_SL', 'weight': 3192}, {'ed_id': 'BK_NB', 'weight': 2327}, {'ed_id': 'BP_DC', 'weight': 5528}, {'ed_id': 'BP_GP', 'weight': 8499}, {'ed_id': 'CC_PL', 'weight': 14235}, {'ed_id': 'CL_FV', 'weight': 4382}, {'ed_id': 'CL_SL', 'weight': 3739}, {'ed_id': 'CM_DC', 'weight': 4017}, {'ed_id': 'CM_SS', 'weight': 3237}, {'ed_id': 'CN_NC', 'weight': 841}, {'ed_id': 'CN_PH', 'weight': 1383}, {'ed_id': 'CV_ED', 'weight': 724}, {'ed_id': 'EM_MT', 'weight': 18251}, {'ed_id': 'EM_OW', 'weight': 17705}, {'ed_id': 'EN_EP', 'weight': 1413}, {'ed_id': 'EN_RM', 'weight': 427}, {'ed_id': 'EP_NB', 'weight': 1837}, {'ed_id': 'FM_UC', 'weight': 659}, {'ed_id': 'FV_LM', 'weight': 5301}, {'ed_id': 'HY_SH', 'weight': 1312}, {'ed_id': 'LF_OR', 'weight': 2946}, {'ed_id': 'LF_WC', 'weight': 2620}, {'ed_id': 'LM_OW', 'weight': 5993}, {'ed_id': 'MA_RR', 'weight': 3877}, {'ed_id': 'MB_SB', 'weight': 785}, {'ed_id': 'MB_SO', 'weight': 0}, {'ed_id': 'MT_PL', 'weight': 18434}, {'ed_id': 'NC_WP', 'weight': 573}, {'ed_id': 'OR_RR', 'weight': 3182}, {'ed_id': 'PH_WC', 'weight': 2005}, {'ed_id': 'SB_SO', 'weight': 1465}, {'ed_id': 'SB_SS', 'weight': 2731}, {'ed_id': 'SH_UC', 'weight': 1058}]\n",
        "CC\n",
        "[{'ed_id': '12_19', 'weight': 8009}, {'ed_id': '12_LM', 'weight': 0}, {'ed_id': '12_OW', 'weight': 13405}, {'ed_id': '16_24', 'weight': 6163}, {'ed_id': '16_CC', 'weight': 6961}, {'ed_id': '19_MA', 'weight': 7169}, {'ed_id': '24_GP', 'weight': 5022}, {'ed_id': 'AS_BK', 'weight': 2689}, {'ed_id': 'AS_MA', 'weight': 3167}, {'ed_id': 'BF_CV', 'weight': 762}, {'ed_id': 'BF_HY', 'weight': 1142}, {'ed_id': 'BF_SL', 'weight': 2266}, {'ed_id': 'BK_NB', 'weight': 1856}, {'ed_id': 'BP_DC', 'weight': 2999}, {'ed_id': 'BP_GP', 'weight': 4352}, {'ed_id': 'CC_PL', 'weight': 15436}, {'ed_id': 'CL_FV', 'weight': 3204}, {'ed_id': 'CL_SL', 'weight': 2717}, {'ed_id': 'CM_DC', 'weight': 2284}, {'ed_id': 'CM_SS', 'weight': 1817}, {'ed_id': 'CN_NC', 'weight': 771}, {'ed_id': 'CN_PH', 'weight': 1220}, {'ed_id': 'CV_ED', 'weight': 541}, {'ed_id': 'EM_MT', 'weight': 14598}, {'ed_id': 'EM_OW', 'weight': 14078}, {'ed_id': 'EN_EP', 'weight': 1042}, {'ed_id': 'EN_RM', 'weight': 296}, {'ed_id': 'EP_NB', 'weight': 1412}, {'ed_id': 'FM_UC', 'weight': 399}, {'ed_id': 'FV_LM', 'weight': 3955}, {'ed_id': 'HY_SH', 'weight': 866}, {'ed_id': 'LF_OR', 'weight': 2314}, {'ed_id': 'LF_WC', 'weight': 2080}, {'ed_id': 'LM_OW', 'weight': 4495}, {'ed_id': 'MA_RR', 'weight': 3120}, {'ed_id': 'MB_SB', 'weight': 474}, {'ed_id': 'MB_SO', 'weight': 0}, {'ed_id': 'MT_PL', 'weight': 15058}, {'ed_id': 'NC_WP', 'weight': 535}, {'ed_id': 'OR_RR', 'weight': 2522}, {'ed_id': 'PH_WC', 'weight': 1683}, {'ed_id': 'SB_SO', 'weight': 657}, {'ed_id': 'SB_SS', 'weight': 1465}, {'ed_id': 'SH_UC', 'weight': 653}]\n",
        "16\n",
        "[{'ed_id': '12_19', 'weight': 2858}, {'ed_id': '12_LM', 'weight': 0}, {'ed_id': '12_OW', 'weight': 4531}, {'ed_id': '16_24', 'weight': 2525}, {'ed_id': '16_CC', 'weight': 9519}, {'ed_id': '19_MA', 'weight': 2475}, {'ed_id': '24_GP', 'weight': 2233}, {'ed_id': 'AS_BK', 'weight': 1017}, {'ed_id': 'AS_MA', 'weight': 1259}, {'ed_id': 'BF_CV', 'weight': 174}, {'ed_id': 'BF_HY', 'weight': 320}, {'ed_id': 'BF_SL', 'weight': 593}, {'ed_id': 'BK_NB', 'weight': 614}, {'ed_id': 'BP_DC', 'weight': 1210}, {'ed_id': 'BP_GP', 'weight': 1873}, {'ed_id': 'CC_PL', 'weight': 8784}, {'ed_id': 'CL_FV', 'weight': 847}, {'ed_id': 'CL_SL', 'weight': 703}, {'ed_id': 'CM_DC', 'weight': 922}, {'ed_id': 'CM_SS', 'weight': 772}, {'ed_id': 'CN_NC', 'weight': 202}, {'ed_id': 'CN_PH', 'weight': 300}, {'ed_id': 'CV_ED', 'weight': 127}, {'ed_id': 'EM_MT', 'weight': 5865}, {'ed_id': 'EM_OW', 'weight': 4796}, {'ed_id': 'EN_EP', 'weight': 348}, {'ed_id': 'EN_RM', 'weight': 140}, {'ed_id': 'EP_NB', 'weight': 453}, {'ed_id': 'FM_UC', 'weight': 105}, {'ed_id': 'FV_LM', 'weight': 1130}, {'ed_id': 'HY_SH', 'weight': 240}, {'ed_id': 'LF_OR', 'weight': 552}, {'ed_id': 'LF_WC', 'weight': 499}, {'ed_id': 'LM_OW', 'weight': 1355}, {'ed_id': 'MA_RR', 'weight': 815}, {'ed_id': 'MB_SB', 'weight': 247}, {'ed_id': 'MB_SO', 'weight': 0}, {'ed_id': 'MT_PL', 'weight': 7251}, {'ed_id': 'NC_WP', 'weight': 148}, {'ed_id': 'OR_RR', 'weight': 595}, {'ed_id': 'PH_WC', 'weight': 406}, {'ed_id': 'SB_SO', 'weight': 275}, {'ed_id': 'SB_SS', 'weight': 661}, {'ed_id': 'SH_UC', 'weight': 177}]\n",
        "24\n",
        "[{'ed_id': '12_19', 'weight': 2147}, {'ed_id': '12_LM', 'weight': 0}, {'ed_id': '12_OW', 'weight': 3400}, {'ed_id': '16_24', 'weight': 10719}, {'ed_id': '16_CC', 'weight': 10426}, {'ed_id': '19_MA', 'weight': 1845}, {'ed_id': '24_GP', 'weight': 2257}, {'ed_id': 'AS_BK', 'weight': 860}, {'ed_id': 'AS_MA', 'weight': 998}, {'ed_id': 'BF_CV', 'weight': 106}, {'ed_id': 'BF_HY', 'weight': 175}, {'ed_id': 'BF_SL', 'weight': 357}, {'ed_id': 'BK_NB', 'weight': 519}, {'ed_id': 'BP_DC', 'weight': 1222}, {'ed_id': 'BP_GP', 'weight': 1946}, {'ed_id': 'CC_PL', 'weight': 9333}, {'ed_id': 'CL_FV', 'weight': 583}, {'ed_id': 'CL_SL', 'weight': 443}, {'ed_id': 'CM_DC', 'weight': 921}, {'ed_id': 'CM_SS', 'weight': 754}, {'ed_id': 'CN_NC', 'weight': 159}, {'ed_id': 'CN_PH', 'weight': 247}, {'ed_id': 'CV_ED', 'weight': 77}, {'ed_id': 'EM_MT', 'weight': 5252}, {'ed_id': 'EM_OW', 'weight': 3567}, {'ed_id': 'EN_EP', 'weight': 349}, {'ed_id': 'EN_RM', 'weight': 146}, {'ed_id': 'EP_NB', 'weight': 410}, {'ed_id': 'FM_UC', 'weight': 47}, {'ed_id': 'FV_LM', 'weight': 814}, {'ed_id': 'HY_SH', 'weight': 119}, {'ed_id': 'LF_OR', 'weight': 419}, {'ed_id': 'LF_WC', 'weight': 385}, {'ed_id': 'LM_OW', 'weight': 951}, {'ed_id': 'MA_RR', 'weight': 577}, {'ed_id': 'MB_SB', 'weight': 236}, {'ed_id': 'MB_SO', 'weight': 0}, {'ed_id': 'MT_PL', 'weight': 7408}, {'ed_id': 'NC_WP', 'weight': 122}, {'ed_id': 'OR_RR', 'weight': 444}, {'ed_id': 'PH_WC', 'weight': 312}, {'ed_id': 'SB_SO', 'weight': 257}, {'ed_id': 'SB_SS', 'weight': 653}, {'ed_id': 'SH_UC', 'weight': 76}]\n",
        "GP\n",
        "[{'ed_id': '12_19', 'weight': 1000}, {'ed_id': '12_LM', 'weight': 0}, {'ed_id': '12_OW', 'weight': 1597}, {'ed_id': '16_24', 'weight': 6939}, {'ed_id': '16_CC', 'weight': 6565}, {'ed_id': '19_MA', 'weight': 849}, {'ed_id': '24_GP', 'weight': 7240}, {'ed_id': 'AS_BK', 'weight': 338}, {'ed_id': 'AS_MA', 'weight': 384}, {'ed_id': 'BF_CV', 'weight': 67}, {'ed_id': 'BF_HY', 'weight': 87}, {'ed_id': 'BF_SL', 'weight': 181}, {'ed_id': 'BK_NB', 'weight': 185}, {'ed_id': 'BP_DC', 'weight': 540}, {'ed_id': 'BP_GP', 'weight': 675}, {'ed_id': 'CC_PL', 'weight': 5830}, {'ed_id': 'CL_FV', 'weight': 289}, {'ed_id': 'CL_SL', 'weight': 224}, {'ed_id': 'CM_DC', 'weight': 459}, {'ed_id': 'CM_SS', 'weight': 392}, {'ed_id': 'CN_NC', 'weight': 79}, {'ed_id': 'CN_PH', 'weight': 120}, {'ed_id': 'CV_ED', 'weight': 52}, {'ed_id': 'EM_MT', 'weight': 2897}, {'ed_id': 'EM_OW', 'weight': 1649}, {'ed_id': 'EN_EP', 'weight': 115}, {'ed_id': 'EN_RM', 'weight': 42}, {'ed_id': 'EP_NB', 'weight': 143}, {'ed_id': 'FM_UC', 'weight': 33}, {'ed_id': 'FV_LM', 'weight': 353}, {'ed_id': 'HY_SH', 'weight': 61}, {'ed_id': 'LF_OR', 'weight': 269}, {'ed_id': 'LF_WC', 'weight': 247}, {'ed_id': 'LM_OW', 'weight': 420}, {'ed_id': 'MA_RR', 'weight': 371}, {'ed_id': 'MB_SB', 'weight': 152}, {'ed_id': 'MB_SO', 'weight': 0}, {'ed_id': 'MT_PL', 'weight': 4597}, {'ed_id': 'NC_WP', 'weight': 62}, {'ed_id': 'OR_RR', 'weight': 296}, {'ed_id': 'PH_WC', 'weight': 194}, {'ed_id': 'SB_SO', 'weight': 126}, {'ed_id': 'SB_SS', 'weight': 357}, {'ed_id': 'SH_UC', 'weight': 48}]\n",
        "BP\n",
        "[{'ed_id': '12_19', 'weight': 992}, {'ed_id': '12_LM', 'weight': 0}, {'ed_id': '12_OW', 'weight': 1805}, {'ed_id': '16_24', 'weight': 10601}, {'ed_id': '16_CC', 'weight': 9874}, {'ed_id': '19_MA', 'weight': 864}, {'ed_id': '24_GP', 'weight': 11317}, {'ed_id': 'AS_BK', 'weight': 389}, {'ed_id': 'AS_MA', 'weight': 439}, {'ed_id': 'BF_CV', 'weight': 80}, {'ed_id': 'BF_HY', 'weight': 133}, {'ed_id': 'BF_SL', 'weight': 262}, {'ed_id': 'BK_NB', 'weight': 264}, {'ed_id': 'BP_DC', 'weight': 849}, {'ed_id': 'BP_GP', 'weight': 11456}, {'ed_id': 'CC_PL', 'weight': 8404}, {'ed_id': 'CL_FV', 'weight': 402}, {'ed_id': 'CL_SL', 'weight': 323}, {'ed_id': 'CM_DC', 'weight': 687}, {'ed_id': 'CM_SS', 'weight': 542}, {'ed_id': 'CN_NC', 'weight': 99}, {'ed_id': 'CN_PH', 'weight': 156}, {'ed_id': 'CV_ED', 'weight': 67}, {'ed_id': 'EM_MT', 'weight': 3397}, {'ed_id': 'EM_OW', 'weight': 1879}, {'ed_id': 'EN_EP', 'weight': 188}, {'ed_id': 'EN_RM', 'weight': 71}, {'ed_id': 'EP_NB', 'weight': 227}, {'ed_id': 'FM_UC', 'weight': 38}, {'ed_id': 'FV_LM', 'weight': 519}, {'ed_id': 'HY_SH', 'weight': 89}, {'ed_id': 'LF_OR', 'weight': 261}, {'ed_id': 'LF_WC', 'weight': 245}, {'ed_id': 'LM_OW', 'weight': 624}, {'ed_id': 'MA_RR', 'weight': 320}, {'ed_id': 'MB_SB', 'weight': 168}, {'ed_id': 'MB_SO', 'weight': 0}, {'ed_id': 'MT_PL', 'weight': 5974}, {'ed_id': 'NC_WP', 'weight': 77}, {'ed_id': 'OR_RR', 'weight': 279}, {'ed_id': 'PH_WC', 'weight': 201}, {'ed_id': 'SB_SO', 'weight': 118}, {'ed_id': 'SB_SS', 'weight': 443}, {'ed_id': 'SH_UC', 'weight': 66}]\n",
        "DC\n",
        "[{'ed_id': '12_19', 'weight': 1156}, {'ed_id': '12_LM', 'weight': 0}, {'ed_id': '12_OW', 'weight': 2097}, {'ed_id': '16_24', 'weight': 7323}, {'ed_id': '16_CC', 'weight': 7050}, {'ed_id': '19_MA', 'weight': 1009}, {'ed_id': '24_GP', 'weight': 7603}, {'ed_id': 'AS_BK', 'weight': 414}, {'ed_id': 'AS_MA', 'weight': 463}, {'ed_id': 'BF_CV', 'weight': 133}, {'ed_id': 'BF_HY', 'weight': 211}, {'ed_id': 'BF_SL', 'weight': 409}, {'ed_id': 'BK_NB', 'weight': 267}, {'ed_id': 'BP_DC', 'weight': 7823}, {'ed_id': 'BP_GP', 'weight': 7679}, {'ed_id': 'CC_PL', 'weight': 6345}, {'ed_id': 'CL_FV', 'weight': 568}, {'ed_id': 'CL_SL', 'weight': 471}, {'ed_id': 'CM_DC', 'weight': 728}, {'ed_id': 'CM_SS', 'weight': 679}, {'ed_id': 'CN_NC', 'weight': 124}, {'ed_id': 'CN_PH', 'weight': 210}, {'ed_id': 'CV_ED', 'weight': 110}, {'ed_id': 'EM_MT', 'weight': 3436}, {'ed_id': 'EM_OW', 'weight': 2150}, {'ed_id': 'EN_EP', 'weight': 188}, {'ed_id': 'EN_RM', 'weight': 59}, {'ed_id': 'EP_NB', 'weight': 232}, {'ed_id': 'FM_UC', 'weight': 79}, {'ed_id': 'FV_LM', 'weight': 672}, {'ed_id': 'HY_SH', 'weight': 169}, {'ed_id': 'LF_OR', 'weight': 386}, {'ed_id': 'LF_WC', 'weight': 362}, {'ed_id': 'LM_OW', 'weight': 766}, {'ed_id': 'MA_RR', 'weight': 451}, {'ed_id': 'MB_SB', 'weight': 258}, {'ed_id': 'MB_SO', 'weight': 0}, {'ed_id': 'MT_PL', 'weight': 5044}, {'ed_id': 'NC_WP', 'weight': 84}, {'ed_id': 'OR_RR', 'weight': 407}, {'ed_id': 'PH_WC', 'weight': 291}, {'ed_id': 'SB_SO', 'weight': 200}, {'ed_id': 'SB_SS', 'weight': 610}, {'ed_id': 'SH_UC', 'weight': 128}]\n",
        "CM\n",
        "[{'ed_id': '12_19', 'weight': 336}, {'ed_id': '12_LM', 'weight': 0}, {'ed_id': '12_OW', 'weight': 565}, {'ed_id': '16_24', 'weight': 3667}, {'ed_id': '16_CC', 'weight': 3503}, {'ed_id': '19_MA', 'weight': 272}, {'ed_id': '24_GP', 'weight': 3838}, {'ed_id': 'AS_BK', 'weight': 102}, {'ed_id': 'AS_MA', 'weight': 112}, {'ed_id': 'BF_CV', 'weight': 24}, {'ed_id': 'BF_HY', 'weight': 32}, {'ed_id': 'BF_SL', 'weight': 68}, {'ed_id': 'BK_NB', 'weight': 64}, {'ed_id': 'BP_DC', 'weight': 4044}, {'ed_id': 'BP_GP', 'weight': 3904}, {'ed_id': 'CC_PL', 'weight': 3025}, {'ed_id': 'CL_FV', 'weight': 95}, {'ed_id': 'CL_SL', 'weight': 78}, {'ed_id': 'CM_DC', 'weight': 4099}, {'ed_id': 'CM_SS', 'weight': 314}, {'ed_id': 'CN_NC', 'weight': 36}, {'ed_id': 'CN_PH', 'weight': 65}, {'ed_id': 'CV_ED', 'weight': 22}, {'ed_id': 'EM_MT', 'weight': 1381}, {'ed_id': 'EM_OW', 'weight': 578}, {'ed_id': 'EN_EP', 'weight': 50}, {'ed_id': 'EN_RM', 'weight': 14}, {'ed_id': 'EP_NB', 'weight': 56}, {'ed_id': 'FM_UC', 'weight': 10}, {'ed_id': 'FV_LM', 'weight': 110}, {'ed_id': 'HY_SH', 'weight': 26}, {'ed_id': 'LF_OR', 'weight': 115}, {'ed_id': 'LF_WC', 'weight': 110}, {'ed_id': 'LM_OW', 'weight': 119}, {'ed_id': 'MA_RR', 'weight': 127}, {'ed_id': 'MB_SB', 'weight': 117}, {'ed_id': 'MB_SO', 'weight': 0}, {'ed_id': 'MT_PL', 'weight': 2342}, {'ed_id': 'NC_WP', 'weight': 26}, {'ed_id': 'OR_RR', 'weight': 120}, {'ed_id': 'PH_WC', 'weight': 83}, {'ed_id': 'SB_SO', 'weight': 101}, {'ed_id': 'SB_SS', 'weight': 293}, {'ed_id': 'SH_UC', 'weight': 18}]\n",
        "CV\n",
        "[{'ed_id': '12_19', 'weight': 244}, {'ed_id': '12_LM', 'weight': 2013}, {'ed_id': '12_OW', 'weight': 0}, {'ed_id': '16_24', 'weight': 115}, {'ed_id': '16_CC', 'weight': 159}, {'ed_id': '19_MA', 'weight': 172}, {'ed_id': '24_GP', 'weight': 85}, {'ed_id': 'AS_BK', 'weight': 91}, {'ed_id': 'AS_MA', 'weight': 104}, {'ed_id': 'BF_CV', 'weight': 2545}, {'ed_id': 'BF_HY', 'weight': 110}, {'ed_id': 'BF_SL', 'weight': 2365}, {'ed_id': 'BK_NB', 'weight': 28}, {'ed_id': 'BP_DC', 'weight': 59}, {'ed_id': 'BP_GP', 'weight': 74}, {'ed_id': 'CC_PL', 'weight': 355}, {'ed_id': 'CL_FV', 'weight': 2188}, {'ed_id': 'CL_SL', 'weight': 2312}, {'ed_id': 'CM_DC', 'weight': 36}, {'ed_id': 'CM_SS', 'weight': 33}, {'ed_id': 'CN_NC', 'weight': 5}, {'ed_id': 'CN_PH', 'weight': 13}, {'ed_id': 'CV_ED', 'weight': 125}, {'ed_id': 'EM_MT', 'weight': 1047}, {'ed_id': 'EM_OW', 'weight': 1652}, {'ed_id': 'EN_EP', 'weight': 14}, {'ed_id': 'EN_RM', 'weight': 6}, {'ed_id': 'EP_NB', 'weight': 20}, {'ed_id': 'FM_UC', 'weight': 35}, {'ed_id': 'FV_LM', 'weight': 2122}, {'ed_id': 'HY_SH', 'weight': 81}, {'ed_id': 'LF_OR', 'weight': 28}, {'ed_id': 'LF_WC', 'weight': 27}, {'ed_id': 'LM_OW', 'weight': 1660}, {'ed_id': 'MA_RR', 'weight': 38}, {'ed_id': 'MB_SB', 'weight': 5}, {'ed_id': 'MB_SO', 'weight': 0}, {'ed_id': 'MT_PL', 'weight': 590}, {'ed_id': 'NC_WP', 'weight': 4}, {'ed_id': 'OR_RR', 'weight': 30}, {'ed_id': 'PH_WC', 'weight': 17}, {'ed_id': 'SB_SO', 'weight': 19}, {'ed_id': 'SB_SS', 'weight': 28}, {'ed_id': 'SH_UC', 'weight': 56}]\n",
        "ED\n",
        "[{'ed_id': '12_19', 'weight': 585}, {'ed_id': '12_LM', 'weight': 5993}, {'ed_id': '12_OW', 'weight': 0}, {'ed_id': '16_24', 'weight': 512}, {'ed_id': '16_CC', 'weight': 636}, {'ed_id': '19_MA', 'weight': 409}, {'ed_id': '24_GP', 'weight': 431}, {'ed_id': 'AS_BK', 'weight': 254}, {'ed_id': 'AS_MA', 'weight': 278}, {'ed_id': 'BF_CV', 'weight': 7308}, {'ed_id': 'BF_HY', 'weight': 285}, {'ed_id': 'BF_SL', 'weight': 6821}, {'ed_id': 'BK_NB', 'weight': 93}, {'ed_id': 'BP_DC', 'weight': 319}, {'ed_id': 'BP_GP', 'weight': 381}, {'ed_id': 'CC_PL', 'weight': 1132}, {'ed_id': 'CL_FV', 'weight': 6296}, {'ed_id': 'CL_SL', 'weight': 6727}, {'ed_id': 'CM_DC', 'weight': 210}, {'ed_id': 'CM_SS', 'weight': 188}, {'ed_id': 'CN_NC', 'weight': 16}, {'ed_id': 'CN_PH', 'weight': 28}, {'ed_id': 'CV_ED', 'weight': 7419}, {'ed_id': 'EM_MT', 'weight': 3104}, {'ed_id': 'EM_OW', 'weight': 5143}, {'ed_id': 'EN_EP', 'weight': 54}, {'ed_id': 'EN_RM', 'weight': 19}, {'ed_id': 'EP_NB', 'weight': 75}, {'ed_id': 'FM_UC', 'weight': 104}, {'ed_id': 'FV_LM', 'weight': 6168}, {'ed_id': 'HY_SH', 'weight': 209}, {'ed_id': 'LF_OR', 'weight': 50}, {'ed_id': 'LF_WC', 'weight': 47}, {'ed_id': 'LM_OW', 'weight': 5168}, {'ed_id': 'MA_RR', 'weight': 67}, {'ed_id': 'MB_SB', 'weight': 21}, {'ed_id': 'MB_SO', 'weight': 0}, {'ed_id': 'MT_PL', 'weight': 1780}, {'ed_id': 'NC_WP', 'weight': 13}, {'ed_id': 'OR_RR', 'weight': 53}, {'ed_id': 'PH_WC', 'weight': 38}, {'ed_id': 'SB_SO', 'weight': 124}, {'ed_id': 'SB_SS', 'weight': 164}, {'ed_id': 'SH_UC', 'weight': 169}]\n",
        "NC\n",
        "[{'ed_id': '12_19', 'weight': 2065}, {'ed_id': '12_LM', 'weight': 135}, {'ed_id': '12_OW', 'weight': 1907}, {'ed_id': '16_24', 'weight': 213}, {'ed_id': '16_CC', 'weight': 261}, {'ed_id': '19_MA', 'weight': 2235}, {'ed_id': '24_GP', 'weight': 176}, {'ed_id': 'AS_BK', 'weight': 77}, {'ed_id': 'AS_MA', 'weight': 86}, {'ed_id': 'BF_CV', 'weight': 3}, {'ed_id': 'BF_HY', 'weight': 31}, {'ed_id': 'BF_SL', 'weight': 41}, {'ed_id': 'BK_NB', 'weight': 23}, {'ed_id': 'BP_DC', 'weight': 140}, {'ed_id': 'BP_GP', 'weight': 162}, {'ed_id': 'CC_PL', 'weight': 469}, {'ed_id': 'CL_FV', 'weight': 109}, {'ed_id': 'CL_SL', 'weight': 52}, {'ed_id': 'CM_DC', 'weight': 99}, {'ed_id': 'CM_SS', 'weight': 89}, {'ed_id': 'CN_NC', 'weight': 2586}, {'ed_id': 'CN_PH', 'weight': 2525}, {'ed_id': 'CV_ED', 'weight': 2}, {'ed_id': 'EM_MT', 'weight': 1176}, {'ed_id': 'EM_OW', 'weight': 1764}, {'ed_id': 'EN_EP', 'weight': 13}, {'ed_id': 'EN_RM', 'weight': 5}, {'ed_id': 'EP_NB', 'weight': 18}, {'ed_id': 'FM_UC', 'weight': 11}, {'ed_id': 'FV_LM', 'weight': 122}, {'ed_id': 'HY_SH', 'weight': 22}, {'ed_id': 'LF_OR', 'weight': 2398}, {'ed_id': 'LF_WC', 'weight': 2413}, {'ed_id': 'LM_OW', 'weight': 0}, {'ed_id': 'MA_RR', 'weight': 2367}, {'ed_id': 'MB_SB', 'weight': 11}, {'ed_id': 'MB_SO', 'weight': 0}, {'ed_id': 'MT_PL', 'weight': 703}, {'ed_id': 'NC_WP', 'weight': 70}, {'ed_id': 'OR_RR', 'weight': 2391}, {'ed_id': 'PH_WC', 'weight': 2490}, {'ed_id': 'SB_SO', 'weight': 58}, {'ed_id': 'SB_SS', 'weight': 81}, {'ed_id': 'SH_UC', 'weight': 17}]\n",
        "WP\n",
        "[{'ed_id': '12_19', 'weight': 3963}, {'ed_id': '12_LM', 'weight': 487}, {'ed_id': '12_OW', 'weight': 3661}, {'ed_id': '16_24', 'weight': 546}, {'ed_id': '16_CC', 'weight': 687}, {'ed_id': '19_MA', 'weight': 4203}, {'ed_id': '24_GP', 'weight': 443}, {'ed_id': 'AS_BK', 'weight': 225}, {'ed_id': 'AS_MA', 'weight': 257}, {'ed_id': 'BF_CV', 'weight': 17}, {'ed_id': 'BF_HY', 'weight': 125}, {'ed_id': 'BF_SL', 'weight': 172}, {'ed_id': 'BK_NB', 'weight': 119}, {'ed_id': 'BP_DC', 'weight': 322}, {'ed_id': 'BP_GP', 'weight': 394}, {'ed_id': 'CC_PL', 'weight': 1129}, {'ed_id': 'CL_FV', 'weight': 367}, {'ed_id': 'CL_SL', 'weight': 217}, {'ed_id': 'CM_DC', 'weight': 240}, {'ed_id': 'CM_SS', 'weight': 214}, {'ed_id': 'CN_NC', 'weight': 5544}, {'ed_id': 'CN_PH', 'weight': 5175}, {'ed_id': 'CV_ED', 'weight': 12}, {'ed_id': 'EM_MT', 'weight': 2303}, {'ed_id': 'EM_OW', 'weight': 3136}, {'ed_id': 'EN_EP', 'weight': 90}, {'ed_id': 'EN_RM', 'weight': 44}, {'ed_id': 'EP_NB', 'weight': 105}, {'ed_id': 'FM_UC', 'weight': 40}, {'ed_id': 'FV_LM', 'weight': 434}, {'ed_id': 'HY_SH', 'weight': 78}, {'ed_id': 'LF_OR', 'weight': 4742}, {'ed_id': 'LF_WC', 'weight': 4790}, {'ed_id': 'LM_OW', 'weight': 0}, {'ed_id': 'MA_RR', 'weight': 4667}, {'ed_id': 'MB_SB', 'weight': 31}, {'ed_id': 'MB_SO', 'weight': 0}, {'ed_id': 'MT_PL', 'weight': 1602}, {'ed_id': 'NC_WP', 'weight': 5604}, {'ed_id': 'OR_RR', 'weight': 4721}, {'ed_id': 'PH_WC', 'weight': 5049}, {'ed_id': 'SB_SO', 'weight': 119}, {'ed_id': 'SB_SS', 'weight': 191}, {'ed_id': 'SH_UC', 'weight': 62}]\n",
        "SS\n",
        "[{'ed_id': '12_19', 'weight': 311}, {'ed_id': '12_LM', 'weight': 0}, {'ed_id': '12_OW', 'weight': 512}, {'ed_id': '16_24', 'weight': 2818}, {'ed_id': '16_CC', 'weight': 2700}, {'ed_id': '19_MA', 'weight': 245}, {'ed_id': '24_GP', 'weight': 2918}, {'ed_id': 'AS_BK', 'weight': 92}, {'ed_id': 'AS_MA', 'weight': 99}, {'ed_id': 'BF_CV', 'weight': 27}, {'ed_id': 'BF_HY', 'weight': 31}, {'ed_id': 'BF_SL', 'weight': 67}, {'ed_id': 'BK_NB', 'weight': 60}, {'ed_id': 'BP_DC', 'weight': 3053}, {'ed_id': 'BP_GP', 'weight': 2956}, {'ed_id': 'CC_PL', 'weight': 2350}, {'ed_id': 'CL_FV', 'weight': 100}, {'ed_id': 'CL_SL', 'weight': 77}, {'ed_id': 'CM_DC', 'weight': 3123}, {'ed_id': 'CM_SS', 'weight': 3142}, {'ed_id': 'CN_NC', 'weight': 34}, {'ed_id': 'CN_PH', 'weight': 57}, {'ed_id': 'CV_ED', 'weight': 24}, {'ed_id': 'EM_MT', 'weight': 1158}, {'ed_id': 'EM_OW', 'weight': 526}, {'ed_id': 'EN_EP', 'weight': 44}, {'ed_id': 'EN_RM', 'weight': 11}, {'ed_id': 'EP_NB', 'weight': 53}, {'ed_id': 'FM_UC', 'weight': 6}, {'ed_id': 'FV_LM', 'weight': 112}, {'ed_id': 'HY_SH', 'weight': 21}, {'ed_id': 'LF_OR', 'weight': 107}, {'ed_id': 'LF_WC', 'weight': 101}, {'ed_id': 'LM_OW', 'weight': 124}, {'ed_id': 'MA_RR', 'weight': 118}, {'ed_id': 'MB_SB', 'weight': 62}, {'ed_id': 'MB_SO', 'weight': 0}, {'ed_id': 'MT_PL', 'weight': 1912}, {'ed_id': 'NC_WP', 'weight': 26}, {'ed_id': 'OR_RR', 'weight': 111}, {'ed_id': 'PH_WC', 'weight': 77}, {'ed_id': 'SB_SO', 'weight': 44}, {'ed_id': 'SB_SS', 'weight': 155}, {'ed_id': 'SH_UC', 'weight': 12}]\n",
        "SB\n",
        "[{'ed_id': '12_19', 'weight': 403}, {'ed_id': '12_LM', 'weight': 0}, {'ed_id': '12_OW', 'weight': 656}, {'ed_id': '16_24', 'weight': 2722}, {'ed_id': '16_CC', 'weight': 2582}, {'ed_id': '19_MA', 'weight': 356}, {'ed_id': '24_GP', 'weight': 2868}, {'ed_id': 'AS_BK', 'weight': 139}, {'ed_id': 'AS_MA', 'weight': 153}, {'ed_id': 'BF_CV', 'weight': 24}, {'ed_id': 'BF_HY', 'weight': 32}, {'ed_id': 'BF_SL', 'weight': 73}, {'ed_id': 'BK_NB', 'weight': 96}, {'ed_id': 'BP_DC', 'weight': 3085}, {'ed_id': 'BP_GP', 'weight': 2939}, {'ed_id': 'CC_PL', 'weight': 2274}, {'ed_id': 'CL_FV', 'weight': 116}, {'ed_id': 'CL_SL', 'weight': 86}, {'ed_id': 'CM_DC', 'weight': 3229}, {'ed_id': 'CM_SS', 'weight': 3300}, {'ed_id': 'CN_NC', 'weight': 49}, {'ed_id': 'CN_PH', 'weight': 84}, {'ed_id': 'CV_ED', 'weight': 19}, {'ed_id': 'EM_MT', 'weight': 1253}, {'ed_id': 'EM_OW', 'weight': 680}, {'ed_id': 'EN_EP', 'weight': 75}, {'ed_id': 'EN_RM', 'weight': 27}, {'ed_id': 'EP_NB', 'weight': 85}, {'ed_id': 'FM_UC', 'weight': 8}, {'ed_id': 'FV_LM', 'weight': 151}, {'ed_id': 'HY_SH', 'weight': 21}, {'ed_id': 'LF_OR', 'weight': 143}, {'ed_id': 'LF_WC', 'weight': 134}, {'ed_id': 'LM_OW', 'weight': 167}, {'ed_id': 'MA_RR', 'weight': 163}, {'ed_id': 'MB_SB', 'weight': 70}, {'ed_id': 'MB_SO', 'weight': 0}, {'ed_id': 'MT_PL', 'weight': 1855}, {'ed_id': 'NC_WP', 'weight': 39}, {'ed_id': 'OR_RR', 'weight': 150}, {'ed_id': 'PH_WC', 'weight': 112}, {'ed_id': 'SB_SO', 'weight': 60}, {'ed_id': 'SB_SS', 'weight': 3344}, {'ed_id': 'SH_UC', 'weight': 14}]\n",
        "SO\n",
        "[{'ed_id': '12_19', 'weight': 1809}, {'ed_id': '12_LM', 'weight': 0}, {'ed_id': '12_OW', 'weight': 2460}, {'ed_id': '16_24', 'weight': 6532}, {'ed_id': '16_CC', 'weight': 6257}, {'ed_id': '19_MA', 'weight': 1732}, {'ed_id': '24_GP', 'weight': 6769}, {'ed_id': 'AS_BK', 'weight': 578}, {'ed_id': 'AS_MA', 'weight': 648}, {'ed_id': 'BF_CV', 'weight': 155}, {'ed_id': 'BF_HY', 'weight': 125}, {'ed_id': 'BF_SL', 'weight': 307}, {'ed_id': 'BK_NB', 'weight': 317}, {'ed_id': 'BP_DC', 'weight': 6996}, {'ed_id': 'BP_GP', 'weight': 6889}, {'ed_id': 'CC_PL', 'weight': 5567}, {'ed_id': 'CL_FV', 'weight': 414}, {'ed_id': 'CL_SL', 'weight': 350}, {'ed_id': 'CM_DC', 'weight': 7191}, {'ed_id': 'CM_SS', 'weight': 7285}, {'ed_id': 'CN_NC', 'weight': 169}, {'ed_id': 'CN_PH', 'weight': 287}, {'ed_id': 'CV_ED', 'weight': 134}, {'ed_id': 'EM_MT', 'weight': 3189}, {'ed_id': 'EM_OW', 'weight': 2529}, {'ed_id': 'EN_EP', 'weight': 135}, {'ed_id': 'EN_RM', 'weight': 38}, {'ed_id': 'EP_NB', 'weight': 207}, {'ed_id': 'FM_UC', 'weight': 62}, {'ed_id': 'FV_LM', 'weight': 481}, {'ed_id': 'HY_SH', 'weight': 101}, {'ed_id': 'LF_OR', 'weight': 711}, {'ed_id': 'LF_WC', 'weight': 619}, {'ed_id': 'LM_OW', 'weight': 515}, {'ed_id': 'MA_RR', 'weight': 949}, {'ed_id': 'MB_SB', 'weight': 330}, {'ed_id': 'MB_SO', 'weight': 0}, {'ed_id': 'MT_PL', 'weight': 3805}, {'ed_id': 'NC_WP', 'weight': 117}, {'ed_id': 'OR_RR', 'weight': 791}, {'ed_id': 'PH_WC', 'weight': 438}, {'ed_id': 'SB_SO', 'weight': 7717}, {'ed_id': 'SB_SS', 'weight': 7324}, {'ed_id': 'SH_UC', 'weight': 88}]\n",
        "MB\n",
        "[{'ed_id': '12_19', 'weight': 727}, {'ed_id': '12_LM', 'weight': 0}, {'ed_id': '12_OW', 'weight': 1039}, {'ed_id': '16_24', 'weight': 5010}, {'ed_id': '16_CC', 'weight': 4760}, {'ed_id': '19_MA', 'weight': 624}, {'ed_id': '24_GP', 'weight': 5261}, {'ed_id': 'AS_BK', 'weight': 337}, {'ed_id': 'AS_MA', 'weight': 371}, {'ed_id': 'BF_CV', 'weight': 29}, {'ed_id': 'BF_HY', 'weight': 26}, {'ed_id': 'BF_SL', 'weight': 67}, {'ed_id': 'BK_NB', 'weight': 160}, {'ed_id': 'BP_DC', 'weight': 5564}, {'ed_id': 'BP_GP', 'weight': 5409}, {'ed_id': 'CC_PL', 'weight': 4263}, {'ed_id': 'CL_FV', 'weight': 126}, {'ed_id': 'CL_SL', 'weight': 88}, {'ed_id': 'CM_DC', 'weight': 5812}, {'ed_id': 'CM_SS', 'weight': 5927}, {'ed_id': 'CN_NC', 'weight': 46}, {'ed_id': 'CN_PH', 'weight': 75}, {'ed_id': 'CV_ED', 'weight': 23}, {'ed_id': 'EM_MT', 'weight': 2176}, {'ed_id': 'EM_OW', 'weight': 1066}, {'ed_id': 'EN_EP', 'weight': 98}, {'ed_id': 'EN_RM', 'weight': 35}, {'ed_id': 'EP_NB', 'weight': 124}, {'ed_id': 'FM_UC', 'weight': 8}, {'ed_id': 'FV_LM', 'weight': 154}, {'ed_id': 'HY_SH', 'weight': 18}, {'ed_id': 'LF_OR', 'weight': 146}, {'ed_id': 'LF_WC', 'weight': 133}, {'ed_id': 'LM_OW', 'weight': 174}, {'ed_id': 'MA_RR', 'weight': 181}, {'ed_id': 'MB_SB', 'weight': 6454}, {'ed_id': 'MB_SO', 'weight': 394}, {'ed_id': 'MT_PL', 'weight': 3501}, {'ed_id': 'NC_WP', 'weight': 35}, {'ed_id': 'OR_RR', 'weight': 156}, {'ed_id': 'PH_WC', 'weight': 96}, {'ed_id': 'SB_SO', 'weight': 0}, {'ed_id': 'SB_SS', 'weight': 5987}, {'ed_id': 'SH_UC', 'weight': 12}]\n"
       ]
      }
     ],
     "prompt_number": 84
    },
    {
     "cell_type": "code",
     "collapsed": false,
     "input": [
      "pp = ['a','b','c','s']\n",
      "for i,p in enumerate(pp):\n",
      "    print p"
     ],
     "language": "python",
     "metadata": {},
     "outputs": [
      {
       "output_type": "stream",
       "stream": "stdout",
       "text": [
        "a\n",
        "b\n",
        "c\n",
        "s\n"
       ]
      }
     ],
     "prompt_number": 79
    },
    {
     "cell_type": "code",
     "collapsed": false,
     "input": [],
     "language": "python",
     "metadata": {},
     "outputs": []
    }
   ],
   "metadata": {}
  }
 ]
}