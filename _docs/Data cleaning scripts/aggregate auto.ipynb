{
 "metadata": {
  "name": ""
 },
 "nbformat": 3,
 "nbformat_minor": 0,
 "worksheets": [
  {
   "cells": [
    {
     "cell_type": "markdown",
     "metadata": {},
     "source": [
      "#Hand manuplation of data\n",
      "- File names upadated to <month> <year>.xlsx\n",
      "- West Dublin(WD) column and row removed"
     ]
    },
    {
     "cell_type": "markdown",
     "metadata": {},
     "source": [
      "# Read XLS files"
     ]
    },
    {
     "cell_type": "code",
     "collapsed": false,
     "input": [
      "from openpyxl import load_workbook"
     ],
     "language": "python",
     "metadata": {},
     "outputs": [],
     "prompt_number": 1
    },
    {
     "cell_type": "code",
     "collapsed": false,
     "input": [
      "months = [\"January\",\"February\",\"March\",\"April\",\"May\",\"June\",\"July\",\"August\",\"September\",\"October\",\"November\",\"December\"]\n",
      "years = ['2013']"
     ],
     "language": "python",
     "metadata": {},
     "outputs": [],
     "prompt_number": 8
    },
    {
     "cell_type": "code",
     "collapsed": false,
     "input": [
      "i = 0\n",
      "for year in years:\n",
      "    for month in months:\n",
      "        print i\n",
      "        file_name = 'ridership/'+month+' '+year+'.xlsx'\n",
      "        work_book = load_workbook(filename = file_name)\n",
      "        work_sheet = work_book['Weekday OD']\n",
      "        print work_sheet['A1'].value\n",
      "        i += 1\n",
      "        \n",
      "# file_name = r'ridership/April 2013.xlsx'\n",
      "# work_book = load_workbook(filename = file_name)\n",
      "\n",
      "# work_sheet = work_book['Weekday OD']\n",
      "\n",
      "# print work_sheet['A1'].value # D18\n",
      "# print work_sheet['D2'].value # D18\n"
     ],
     "language": "python",
     "metadata": {},
     "outputs": [
      {
       "output_type": "stream",
       "stream": "stdout",
       "text": [
        "0\n",
        "Exit stations"
       ]
      },
      {
       "output_type": "stream",
       "stream": "stdout",
       "text": [
        "\n",
        "1\n",
        "Exit stations"
       ]
      },
      {
       "output_type": "stream",
       "stream": "stdout",
       "text": [
        "\n",
        "2\n",
        "Exit stations"
       ]
      },
      {
       "output_type": "stream",
       "stream": "stdout",
       "text": [
        "\n",
        "3\n",
        "Exit stations"
       ]
      },
      {
       "output_type": "stream",
       "stream": "stdout",
       "text": [
        "\n",
        "4\n",
        "Exit stations"
       ]
      },
      {
       "output_type": "stream",
       "stream": "stdout",
       "text": [
        "\n",
        "5\n",
        "Exit stations"
       ]
      },
      {
       "output_type": "stream",
       "stream": "stdout",
       "text": [
        "\n",
        "6\n",
        "Exit stations"
       ]
      },
      {
       "output_type": "stream",
       "stream": "stdout",
       "text": [
        "\n",
        "7\n",
        "Exit stations"
       ]
      },
      {
       "output_type": "stream",
       "stream": "stdout",
       "text": [
        "\n",
        "8\n",
        "Exit stations"
       ]
      },
      {
       "output_type": "stream",
       "stream": "stdout",
       "text": [
        "\n",
        "9\n",
        "Exit stations"
       ]
      },
      {
       "output_type": "stream",
       "stream": "stdout",
       "text": [
        "\n",
        "10\n",
        "Exit stations"
       ]
      },
      {
       "output_type": "stream",
       "stream": "stdout",
       "text": [
        "\n",
        "11\n",
        "Exit stations"
       ]
      },
      {
       "output_type": "stream",
       "stream": "stdout",
       "text": [
        "\n"
       ]
      }
     ],
     "prompt_number": 11
    },
    {
     "cell_type": "code",
     "collapsed": false,
     "input": [
      "cell = work_sheet.cell(row = 4, column = 2)\n",
      "cell.value"
     ],
     "language": "python",
     "metadata": {},
     "outputs": [
      {
       "metadata": {},
       "output_type": "pyout",
       "prompt_number": 7,
       "text": [
        "101.4090909090909"
       ]
      }
     ],
     "prompt_number": 7
    },
    {
     "cell_type": "code",
     "collapsed": false,
     "input": [
      "# accessing many cells\n",
      "for row in ws.range('A1:C2'):\n",
      "...        for cell in row:\n",
      "...            print cell\n",
      "ws.rows\n",
      "ws.columns\n"
     ],
     "language": "python",
     "metadata": {},
     "outputs": []
    }
   ],
   "metadata": {}
  }
 ]
}