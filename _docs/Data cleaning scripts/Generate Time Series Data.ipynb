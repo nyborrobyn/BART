{
 "metadata": {
  "name": ""
 },
 "nbformat": 3,
 "nbformat_minor": 0,
 "worksheets": [
  {
   "cells": [
    {
     "cell_type": "code",
     "collapsed": false,
     "input": [
      "from openpyxl import load_workbook\n",
      "import csv\n",
      "import json\n",
      "import os\n",
      "import copy"
     ],
     "language": "python",
     "metadata": {},
     "outputs": [],
     "prompt_number": 7
    },
    {
     "cell_type": "code",
     "collapsed": false,
     "input": [
      "\"\"\" setup \"\"\"\n",
      "months = [\"January\",\"February\",\"March\",\"April\",\"May\",\"June\",\"July\",\"August\",\"September\",\"October\",\"November\",\"December\"]\n",
      "months_numbers = ['01', '02', '03', '04', '05', '06', '07', '08', '09', '10', '11', '12']\n",
      "# years = ['2013']\n",
      "years = ['2006','2007','2008','2009','2010','2011','2012','2013']\n",
      "station_graph = {\"WP\": [\"NC\"],\n",
      "  \"NC\": [\"WP\",\"CN\"],\n",
      "  \"CN\": [\"NC\",\"PH\"],\n",
      "  \"PH\":[\"CN\",\"WC\"],\n",
      "  \"WC\":[\"LF\",\"PH\"],\n",
      "  \"LF\":[\"WC\",\"OR\"],\n",
      "  \"OR\":[\"LF\",\"RR\"],\n",
      "  \"RR\":[\"OR\",\"MA\"],\n",
      "  \"MA\":[\"RR\",\"AS\",\"19\"],\n",
      "  \"AS\":[\"MA\",\"BK\"],\n",
      "  \"BK\":[\"NB\",\"AS\"],\n",
      "  \"NB\":[\"BK\",\"EP\"],\n",
      "  \"EP\":[\"NB\",\"EN\"],\n",
      "  \"EN\":[\"EP\",\"RM\"],\n",
      "  \"RM\":[\"EN\"],\n",
      "  \"19\":[\"MA\",\"12\"],\n",
      "  \"12\":[\"19\",\"OW\",\"LM\"],\n",
      "  \"OW\":[\"12\",\"LM\",\"EM\"],\n",
      "  \"EM\":[\"OW\",\"MT\"],\n",
      "  \"MT\":[\"EM\",\"PL\"],\n",
      "  \"PL\":[\"MT\",\"CC\"],\n",
      "  \"CC\":[\"PL\",\"16\"],\n",
      "  \"16\":[\"CC\",\"24\"],\n",
      "  \"24\":[\"16\",\"GP\"],\n",
      "  \"GP\":[\"BP\",\"24\"],\n",
      "  \"BP\":[\"GP\",\"DC\"],\n",
      "  \"DC\":[\"BP\",\"CM\"],\n",
      "  \"CM\":[\"DC\",\"SS\"],\n",
      "  \"SS\":[\"CM\",\"SB\"],\n",
      "  \"SB\":[\"MB\",\"SS\",\"SO\"],\n",
      "  \"MB\":[\"SB\"],\n",
      "  \"SO\":[\"SB\"],\n",
      "  \"LM\":[\"12\",\"OW\",\"FV\"],\n",
      "  \"FV\":[\"LM\",\"CL\"],\n",
      "  \"CL\":[\"FV\",\"SL\"],\n",
      "  \"SL\":[\"CL\",\"BF\"],\n",
      "  \"BF\":[\"SL\",\"HY\",\"CV\"],\n",
      "  \"CV\":[\"BF\",\"ED\"],\n",
      "  \"ED\":[\"CV\"],\n",
      "  \"HY\":[\"BF\",\"SH\"],\n",
      "  \"SH\":[\"HY\",\"UC\"],\n",
      "  \"UC\":[\"SH\",\"FM\"],\n",
      "  \"FM\":[\"UC\"]\n",
      "}\n",
      "\n",
      "edge_ids = ['12_19', '12_LM', '12_OW', '16_24', '16_CC', '19_MA', '24_GP', 'AS_BK', 'AS_MA', 'BF_CV', 'BF_HY', 'BF_SL', 'BK_NB', 'BP_DC', 'BP_GP', 'CC_PL', 'CL_FV', 'CL_SL', 'CM_DC', 'CM_SS', 'CN_NC', 'CN_PH', 'CV_ED', 'EM_MT', 'EM_OW', 'EN_EP', 'EN_RM', 'EP_NB', 'FM_UC', 'FV_LM', 'HY_SH', 'LF_OR', 'LF_WC', 'LM_OW', 'MA_RR', 'MB_SB', 'MB_SO', 'MT_PL', 'NC_WP', 'OR_RR', 'PH_WC', 'SB_SO', 'SB_SS', 'SH_UC']\n",
      "\n",
      "edges_mapping = dict()\n",
      "# structure: {<source_station>: {<edge_name>: <station_name>}}\n",
      "station_column_in_excel_file = {'RM':'B','EN':'C','EP':'D','NB':'E','BK':'F','AS':'G','MA':'H','19':'I','12':'J','LM':'K','FV':'L','CL':'M','SL':'N','BF':'O','HY':'P','SH':'Q','UC':'R','FM':'S','CN':'T','PH':'U','WC':'V','LF':'W','OR':'X','RR':'Y','OW':'Z','EM':'AA','MT':'AB','PL':'AC','CC':'AD','16':'AE','24':'AF','GP':'AG','BP':'AH','DC':'AI','CM':'AJ','CV':'AK','ED':'AL','NC':'AM','WP':'AN','SS':'AO','SB':'AP','SO':'AQ','MB':'AR'}\n",
      "station_list = station_column_in_excel_file.keys()"
     ],
     "language": "python",
     "metadata": {},
     "outputs": [],
     "prompt_number": 20
    },
    {
     "cell_type": "code",
     "collapsed": false,
     "input": [
      "week_day = True\n",
      "time_period = 0\n",
      "all_data = dict()\n",
      "\n",
      "destination_station_index = list()\n",
      "destination_dict = dict()\n",
      "for st in station_list:\n",
      "    destination_dict[st] = list()\n",
      "for st in station_list:\n",
      "    all_data[st] = copy.deepcopy(destination_dict)\n"
     ],
     "language": "python",
     "metadata": {},
     "outputs": [],
     "prompt_number": 21
    },
    {
     "cell_type": "code",
     "collapsed": false,
     "input": [
      "for year in years:\n",
      "    for month in months:\n",
      "        numerical_month_index = months.index(month)\n",
      "        numerical_month = months_numbers[numerical_month_index]\n",
      "        numerical_month_year = numerical_month+'/'+year\n",
      "        month_year = month+'/'+year\n",
      "        extension = '.xlsx'\n",
      "        file_name = 'ridership/'+month+' '+year+extension\n",
      "        work_book = load_workbook(filename = file_name)\n",
      "        sheet_name = 'Weekday OD'\n",
      "        cursed_months = [\"July\", \"August\", \"September\", \"October\", \"November\", \"December\"]\n",
      "        if int(year) < 2009:\n",
      "            sheet_name = 'Wkdy Adj OD'\n",
      "            if int(year) == 2008 and month in cursed_months:\n",
      "                sheet_name = 'Weekday OD'\n",
      "        work_sheet = work_book[sheet_name]\n",
      "\n",
      "        destination_station_index = [str(row[0].value) for row in work_sheet['A3':'A45']]\n",
      "        for source_st in station_list:\n",
      "            print source_st+\":\"+numerical_month_year\n",
      "            # TODO: remove hardcoding for source station\n",
      "            start_column_id = station_column_in_excel_file[source_st]+'3'\n",
      "            end_column_id = station_column_in_excel_file[source_st]+'45'\n",
      "            ridership_data = [row[0].value for row in work_sheet[start_column_id:end_column_id]]\n",
      "            for j in range(0, 43):\n",
      "                datum_dict = {'time': numerical_month_year, 'ridership': int(ridership_data[j])}\n",
      "                all_data[source_st][destination_station_index[j]].append(datum_dict)\n"
     ],
     "language": "python",
     "metadata": {},
     "outputs": [
      {
       "output_type": "stream",
       "stream": "stdout",
       "text": [
        "BF:01/2006\n",
        "LM:01/2006\n",
        "WC:01/2006"
       ]
      },
      {
       "output_type": "stream",
       "stream": "stdout",
       "text": [
        "\n",
        "FV:01/2006\n",
        "BK:01/2006"
       ]
      },
      {
       "output_type": "stream",
       "stream": "stdout",
       "text": [
        "\n",
        "BP:01/2006\n",
        "WP:01/2006"
       ]
      },
      {
       "output_type": "stream",
       "stream": "stdout",
       "text": [
        "\n",
        "FM:01/2006"
       ]
      },
      {
       "output_type": "stream",
       "stream": "stdout",
       "text": [
        "\n",
        "24:01/2006\n",
        "RR:01/2006"
       ]
      },
      {
       "output_type": "stream",
       "stream": "stdout",
       "text": [
        "\n",
        "NB:01/2006\n",
        "NC:01/2006"
       ]
      },
      {
       "output_type": "stream",
       "stream": "stdout",
       "text": [
        "\n",
        "RM:01/2006\n",
        "CN:01/2006"
       ]
      },
      {
       "output_type": "stream",
       "stream": "stdout",
       "text": [
        "\n",
        "CM:01/2006\n",
        "CL:01/2006"
       ]
      },
      {
       "output_type": "stream",
       "stream": "stdout",
       "text": [
        "\n",
        "CC:01/2006\n",
        "CV:01/2006"
       ]
      },
      {
       "output_type": "stream",
       "stream": "stdout",
       "text": [
        "\n",
        "12:01/2006\n",
        "16:01/2006"
       ]
      },
      {
       "output_type": "stream",
       "stream": "stdout",
       "text": [
        "\n",
        "SS:01/2006\n",
        "19:01/2006"
       ]
      },
      {
       "output_type": "stream",
       "stream": "stdout",
       "text": [
        "\n",
        "SH:01/2006"
       ]
      },
      {
       "output_type": "stream",
       "stream": "stdout",
       "text": [
        "\n",
        "SO:01/2006\n",
        "SL:01/2006"
       ]
      },
      {
       "output_type": "stream",
       "stream": "stdout",
       "text": [
        "\n",
        "OW:01/2006\n",
        "SB:01/2006"
       ]
      },
      {
       "output_type": "stream",
       "stream": "stdout",
       "text": [
        "\n",
        "OR:01/2006\n",
        "HY:01/2006"
       ]
      },
      {
       "output_type": "stream",
       "stream": "stdout",
       "text": [
        "\n",
        "DC:01/2006"
       ]
      },
      {
       "output_type": "stream",
       "stream": "stdout",
       "text": [
        "\n",
        "LF:01/2006\n",
        "GP:01/2006"
       ]
      },
      {
       "output_type": "stream",
       "stream": "stdout",
       "text": [
        "\n",
        "PH:01/2006\n",
        "PL:01/2006"
       ]
      },
      {
       "output_type": "stream",
       "stream": "stdout",
       "text": [
        "\n",
        "EM:01/2006\n",
        "EN:01/2006"
       ]
      },
      {
       "output_type": "stream",
       "stream": "stdout",
       "text": [
        "\n",
        "ED:01/2006\n",
        "AS:01/2006"
       ]
      },
      {
       "output_type": "stream",
       "stream": "stdout",
       "text": [
        "\n",
        "EP:01/2006\n",
        "MA:01/2006"
       ]
      },
      {
       "output_type": "stream",
       "stream": "stdout",
       "text": [
        "\n",
        "MB:01/2006\n",
        "MT:01/2006"
       ]
      },
      {
       "output_type": "stream",
       "stream": "stdout",
       "text": [
        "\n",
        "UC:01/2006\n",
        "BF:02/2006"
       ]
      },
      {
       "output_type": "stream",
       "stream": "stdout",
       "text": [
        "\n",
        "LM:02/2006\n",
        "WC:02/2006"
       ]
      },
      {
       "output_type": "stream",
       "stream": "stdout",
       "text": [
        "\n",
        "FV:02/2006\n",
        "BK:02/2006"
       ]
      },
      {
       "output_type": "stream",
       "stream": "stdout",
       "text": [
        "\n",
        "BP:02/2006\n",
        "WP:02/2006"
       ]
      },
      {
       "output_type": "stream",
       "stream": "stdout",
       "text": [
        "\n",
        "FM:02/2006\n",
        "24:02/2006"
       ]
      },
      {
       "output_type": "stream",
       "stream": "stdout",
       "text": [
        "\n",
        "RR:02/2006\n",
        "NB:02/2006"
       ]
      },
      {
       "output_type": "stream",
       "stream": "stdout",
       "text": [
        "\n",
        "NC:02/2006\n",
        "RM:02/2006"
       ]
      },
      {
       "output_type": "stream",
       "stream": "stdout",
       "text": [
        "\n",
        "CN:02/2006\n",
        "CM:02/2006"
       ]
      },
      {
       "output_type": "stream",
       "stream": "stdout",
       "text": [
        "\n",
        "CL:02/2006\n",
        "CC:02/2006"
       ]
      },
      {
       "output_type": "stream",
       "stream": "stdout",
       "text": [
        "\n",
        "CV:02/2006\n",
        "12:02/2006"
       ]
      },
      {
       "output_type": "stream",
       "stream": "stdout",
       "text": [
        "\n",
        "16:02/2006\n",
        "SS:02/2006"
       ]
      },
      {
       "output_type": "stream",
       "stream": "stdout",
       "text": [
        "\n",
        "19:02/2006\n",
        "SH:02/2006"
       ]
      },
      {
       "output_type": "stream",
       "stream": "stdout",
       "text": [
        "\n",
        "SO:02/2006\n",
        "SL:02/2006"
       ]
      },
      {
       "output_type": "stream",
       "stream": "stdout",
       "text": [
        "\n",
        "OW:02/2006\n",
        "SB:02/2006"
       ]
      },
      {
       "output_type": "stream",
       "stream": "stdout",
       "text": [
        "\n",
        "OR:02/2006"
       ]
      },
      {
       "output_type": "stream",
       "stream": "stdout",
       "text": [
        "\n",
        "HY:02/2006"
       ]
      },
      {
       "output_type": "stream",
       "stream": "stdout",
       "text": [
        "\n",
        "DC:02/2006"
       ]
      },
      {
       "output_type": "stream",
       "stream": "stdout",
       "text": [
        "\n",
        "LF:02/2006"
       ]
      },
      {
       "output_type": "stream",
       "stream": "stdout",
       "text": [
        "\n",
        "GP:02/2006\n",
        "PH:02/2006"
       ]
      },
      {
       "output_type": "stream",
       "stream": "stdout",
       "text": [
        "\n",
        "PL:02/2006\n",
        "EM:02/2006"
       ]
      },
      {
       "output_type": "stream",
       "stream": "stdout",
       "text": [
        "\n",
        "EN:02/2006\n",
        "ED:02/2006"
       ]
      },
      {
       "output_type": "stream",
       "stream": "stdout",
       "text": [
        "\n",
        "AS:02/2006\n",
        "EP:02/2006"
       ]
      },
      {
       "output_type": "stream",
       "stream": "stdout",
       "text": [
        "\n",
        "MA:02/2006\n",
        "MB:02/2006"
       ]
      },
      {
       "output_type": "stream",
       "stream": "stdout",
       "text": [
        "\n",
        "MT:02/2006\n",
        "UC:02/2006"
       ]
      },
      {
       "output_type": "stream",
       "stream": "stdout",
       "text": [
        "\n",
        "BF:03/2006"
       ]
      },
      {
       "output_type": "stream",
       "stream": "stdout",
       "text": [
        "\n",
        "LM:03/2006\n",
        "WC:03/2006"
       ]
      },
      {
       "output_type": "stream",
       "stream": "stdout",
       "text": [
        "\n",
        "FV:03/2006\n",
        "BK:03/2006"
       ]
      },
      {
       "output_type": "stream",
       "stream": "stdout",
       "text": [
        "\n",
        "BP:03/2006\n",
        "WP:03/2006"
       ]
      },
      {
       "output_type": "stream",
       "stream": "stdout",
       "text": [
        "\n",
        "FM:03/2006\n",
        "24:03/2006"
       ]
      },
      {
       "output_type": "stream",
       "stream": "stdout",
       "text": [
        "\n",
        "RR:03/2006\n",
        "NB:03/2006"
       ]
      },
      {
       "output_type": "stream",
       "stream": "stdout",
       "text": [
        "\n",
        "NC:03/2006\n",
        "RM:03/2006"
       ]
      },
      {
       "output_type": "stream",
       "stream": "stdout",
       "text": [
        "\n",
        "CN:03/2006\n",
        "CM:03/2006"
       ]
      },
      {
       "output_type": "stream",
       "stream": "stdout",
       "text": [
        "\n",
        "CL:03/2006"
       ]
      },
      {
       "output_type": "stream",
       "stream": "stdout",
       "text": [
        "\n",
        "CC:03/2006\n",
        "CV:03/2006"
       ]
      },
      {
       "output_type": "stream",
       "stream": "stdout",
       "text": [
        "\n",
        "12:03/2006"
       ]
      },
      {
       "output_type": "stream",
       "stream": "stdout",
       "text": [
        "\n",
        "16:03/2006\n",
        "SS:03/2006"
       ]
      },
      {
       "output_type": "stream",
       "stream": "stdout",
       "text": [
        "\n",
        "19:03/2006\n",
        "SH:03/2006"
       ]
      },
      {
       "output_type": "stream",
       "stream": "stdout",
       "text": [
        "\n",
        "SO:03/2006\n",
        "SL:03/2006"
       ]
      },
      {
       "output_type": "stream",
       "stream": "stdout",
       "text": [
        "\n",
        "OW:03/2006\n",
        "SB:03/2006"
       ]
      },
      {
       "output_type": "stream",
       "stream": "stdout",
       "text": [
        "\n",
        "OR:03/2006"
       ]
      },
      {
       "output_type": "stream",
       "stream": "stdout",
       "text": [
        "\n",
        "HY:03/2006"
       ]
      },
      {
       "output_type": "stream",
       "stream": "stdout",
       "text": [
        "\n",
        "DC:03/2006\n",
        "LF:03/2006"
       ]
      },
      {
       "output_type": "stream",
       "stream": "stdout",
       "text": [
        "\n",
        "GP:03/2006\n",
        "PH:03/2006"
       ]
      },
      {
       "output_type": "stream",
       "stream": "stdout",
       "text": [
        "\n",
        "PL:03/2006"
       ]
      },
      {
       "output_type": "stream",
       "stream": "stdout",
       "text": [
        "\n",
        "EM:03/2006"
       ]
      },
      {
       "output_type": "stream",
       "stream": "stdout",
       "text": [
        "\n",
        "EN:03/2006"
       ]
      },
      {
       "output_type": "stream",
       "stream": "stdout",
       "text": [
        "\n",
        "ED:03/2006"
       ]
      },
      {
       "output_type": "stream",
       "stream": "stdout",
       "text": [
        "\n",
        "AS:03/2006"
       ]
      },
      {
       "output_type": "stream",
       "stream": "stdout",
       "text": [
        "\n",
        "EP:03/2006"
       ]
      },
      {
       "output_type": "stream",
       "stream": "stdout",
       "text": [
        "\n",
        "MA:03/2006\n",
        "MB:03/2006"
       ]
      },
      {
       "output_type": "stream",
       "stream": "stdout",
       "text": [
        "\n",
        "MT:03/2006\n",
        "UC:03/2006"
       ]
      },
      {
       "output_type": "stream",
       "stream": "stdout",
       "text": [
        "\n",
        "BF:04/2006"
       ]
      },
      {
       "output_type": "stream",
       "stream": "stdout",
       "text": [
        "\n",
        "LM:04/2006\n",
        "WC:04/2006"
       ]
      },
      {
       "output_type": "stream",
       "stream": "stdout",
       "text": [
        "\n",
        "FV:04/2006\n",
        "BK:04/2006"
       ]
      },
      {
       "output_type": "stream",
       "stream": "stdout",
       "text": [
        "\n",
        "BP:04/2006\n",
        "WP:04/2006"
       ]
      },
      {
       "output_type": "stream",
       "stream": "stdout",
       "text": [
        "\n",
        "FM:04/2006\n",
        "24:04/2006"
       ]
      },
      {
       "output_type": "stream",
       "stream": "stdout",
       "text": [
        "\n",
        "RR:04/2006\n",
        "NB:04/2006"
       ]
      },
      {
       "output_type": "stream",
       "stream": "stdout",
       "text": [
        "\n",
        "NC:04/2006\n",
        "RM:04/2006"
       ]
      },
      {
       "output_type": "stream",
       "stream": "stdout",
       "text": [
        "\n",
        "CN:04/2006\n",
        "CM:04/2006"
       ]
      },
      {
       "output_type": "stream",
       "stream": "stdout",
       "text": [
        "\n",
        "CL:04/2006\n",
        "CC:04/2006"
       ]
      },
      {
       "output_type": "stream",
       "stream": "stdout",
       "text": [
        "\n",
        "CV:04/2006\n",
        "12:04/2006"
       ]
      },
      {
       "output_type": "stream",
       "stream": "stdout",
       "text": [
        "\n",
        "16:04/2006"
       ]
      },
      {
       "output_type": "stream",
       "stream": "stdout",
       "text": [
        "\n",
        "SS:04/2006"
       ]
      },
      {
       "output_type": "stream",
       "stream": "stdout",
       "text": [
        "\n",
        "19:04/2006\n",
        "SH:04/2006"
       ]
      },
      {
       "output_type": "stream",
       "stream": "stdout",
       "text": [
        "\n",
        "SO:04/2006"
       ]
      },
      {
       "output_type": "stream",
       "stream": "stdout",
       "text": [
        "\n",
        "SL:04/2006\n",
        "OW:04/2006"
       ]
      },
      {
       "output_type": "stream",
       "stream": "stdout",
       "text": [
        "\n",
        "SB:04/2006"
       ]
      },
      {
       "output_type": "stream",
       "stream": "stdout",
       "text": [
        "\n",
        "OR:04/2006\n",
        "HY:04/2006"
       ]
      },
      {
       "output_type": "stream",
       "stream": "stdout",
       "text": [
        "\n",
        "DC:04/2006\n",
        "LF:04/2006"
       ]
      },
      {
       "output_type": "stream",
       "stream": "stdout",
       "text": [
        "\n",
        "GP:04/2006\n",
        "PH:04/2006"
       ]
      },
      {
       "output_type": "stream",
       "stream": "stdout",
       "text": [
        "\n",
        "PL:04/2006\n",
        "EM:04/2006"
       ]
      },
      {
       "output_type": "stream",
       "stream": "stdout",
       "text": [
        "\n",
        "EN:04/2006\n",
        "ED:04/2006"
       ]
      },
      {
       "output_type": "stream",
       "stream": "stdout",
       "text": [
        "\n",
        "AS:04/2006\n",
        "EP:04/2006"
       ]
      },
      {
       "output_type": "stream",
       "stream": "stdout",
       "text": [
        "\n",
        "MA:04/2006\n",
        "MB:04/2006"
       ]
      },
      {
       "output_type": "stream",
       "stream": "stdout",
       "text": [
        "\n",
        "MT:04/2006\n",
        "UC:04/2006"
       ]
      },
      {
       "output_type": "stream",
       "stream": "stdout",
       "text": [
        "\n",
        "BF:05/2006"
       ]
      },
      {
       "output_type": "stream",
       "stream": "stdout",
       "text": [
        "\n",
        "LM:05/2006"
       ]
      },
      {
       "output_type": "stream",
       "stream": "stdout",
       "text": [
        "\n",
        "WC:05/2006\n",
        "FV:05/2006"
       ]
      },
      {
       "output_type": "stream",
       "stream": "stdout",
       "text": [
        "\n",
        "BK:05/2006"
       ]
      },
      {
       "output_type": "stream",
       "stream": "stdout",
       "text": [
        "\n",
        "BP:05/2006\n",
        "WP:05/2006"
       ]
      },
      {
       "output_type": "stream",
       "stream": "stdout",
       "text": [
        "\n",
        "FM:05/2006\n",
        "24:05/2006"
       ]
      },
      {
       "output_type": "stream",
       "stream": "stdout",
       "text": [
        "\n",
        "RR:05/2006"
       ]
      },
      {
       "output_type": "stream",
       "stream": "stdout",
       "text": [
        "\n",
        "NB:05/2006\n",
        "NC:05/2006"
       ]
      },
      {
       "output_type": "stream",
       "stream": "stdout",
       "text": [
        "\n",
        "RM:05/2006"
       ]
      },
      {
       "output_type": "stream",
       "stream": "stdout",
       "text": [
        "\n",
        "CN:05/2006"
       ]
      },
      {
       "output_type": "stream",
       "stream": "stdout",
       "text": [
        "\n",
        "CM:05/2006\n",
        "CL:05/2006"
       ]
      },
      {
       "output_type": "stream",
       "stream": "stdout",
       "text": [
        "\n",
        "CC:05/2006\n",
        "CV:05/2006"
       ]
      },
      {
       "output_type": "stream",
       "stream": "stdout",
       "text": [
        "\n",
        "12:05/2006\n",
        "16:05/2006"
       ]
      },
      {
       "output_type": "stream",
       "stream": "stdout",
       "text": [
        "\n",
        "SS:05/2006\n",
        "19:05/2006"
       ]
      },
      {
       "output_type": "stream",
       "stream": "stdout",
       "text": [
        "\n",
        "SH:05/2006\n",
        "SO:05/2006"
       ]
      },
      {
       "output_type": "stream",
       "stream": "stdout",
       "text": [
        "\n",
        "SL:05/2006\n",
        "OW:05/2006"
       ]
      },
      {
       "output_type": "stream",
       "stream": "stdout",
       "text": [
        "\n",
        "SB:05/2006"
       ]
      },
      {
       "output_type": "stream",
       "stream": "stdout",
       "text": [
        "\n",
        "OR:05/2006"
       ]
      },
      {
       "output_type": "stream",
       "stream": "stdout",
       "text": [
        "\n",
        "HY:05/2006"
       ]
      },
      {
       "output_type": "stream",
       "stream": "stdout",
       "text": [
        "\n",
        "DC:05/2006"
       ]
      },
      {
       "output_type": "stream",
       "stream": "stdout",
       "text": [
        "\n",
        "LF:05/2006\n",
        "GP:05/2006"
       ]
      },
      {
       "output_type": "stream",
       "stream": "stdout",
       "text": [
        "\n",
        "PH:05/2006\n",
        "PL:05/2006"
       ]
      },
      {
       "output_type": "stream",
       "stream": "stdout",
       "text": [
        "\n",
        "EM:05/2006"
       ]
      },
      {
       "output_type": "stream",
       "stream": "stdout",
       "text": [
        "\n",
        "EN:05/2006"
       ]
      },
      {
       "output_type": "stream",
       "stream": "stdout",
       "text": [
        "\n",
        "ED:05/2006"
       ]
      },
      {
       "output_type": "stream",
       "stream": "stdout",
       "text": [
        "\n",
        "AS:05/2006"
       ]
      },
      {
       "output_type": "stream",
       "stream": "stdout",
       "text": [
        "\n",
        "EP:05/2006"
       ]
      },
      {
       "output_type": "stream",
       "stream": "stdout",
       "text": [
        "\n",
        "MA:05/2006\n",
        "MB:05/2006"
       ]
      },
      {
       "output_type": "stream",
       "stream": "stdout",
       "text": [
        "\n",
        "MT:05/2006"
       ]
      },
      {
       "output_type": "stream",
       "stream": "stdout",
       "text": [
        "\n",
        "UC:05/2006\n",
        "BF:06/2006"
       ]
      },
      {
       "output_type": "stream",
       "stream": "stdout",
       "text": [
        "\n",
        "LM:06/2006\n",
        "WC:06/2006"
       ]
      },
      {
       "output_type": "stream",
       "stream": "stdout",
       "text": [
        "\n",
        "FV:06/2006\n",
        "BK:06/2006"
       ]
      },
      {
       "output_type": "stream",
       "stream": "stdout",
       "text": [
        "\n",
        "BP:06/2006\n",
        "WP:06/2006"
       ]
      },
      {
       "output_type": "stream",
       "stream": "stdout",
       "text": [
        "\n",
        "FM:06/2006"
       ]
      },
      {
       "output_type": "stream",
       "stream": "stdout",
       "text": [
        "\n",
        "24:06/2006\n",
        "RR:06/2006"
       ]
      },
      {
       "output_type": "stream",
       "stream": "stdout",
       "text": [
        "\n",
        "NB:06/2006\n",
        "NC:06/2006"
       ]
      },
      {
       "output_type": "stream",
       "stream": "stdout",
       "text": [
        "\n",
        "RM:06/2006"
       ]
      },
      {
       "output_type": "stream",
       "stream": "stdout",
       "text": [
        "\n",
        "CN:06/2006"
       ]
      },
      {
       "output_type": "stream",
       "stream": "stdout",
       "text": [
        "\n",
        "CM:06/2006"
       ]
      },
      {
       "output_type": "stream",
       "stream": "stdout",
       "text": [
        "\n",
        "CL:06/2006"
       ]
      },
      {
       "output_type": "stream",
       "stream": "stdout",
       "text": [
        "\n",
        "CC:06/2006"
       ]
      },
      {
       "output_type": "stream",
       "stream": "stdout",
       "text": [
        "\n",
        "CV:06/2006\n",
        "12:06/2006"
       ]
      },
      {
       "output_type": "stream",
       "stream": "stdout",
       "text": [
        "\n",
        "16:06/2006\n",
        "SS:06/2006"
       ]
      },
      {
       "output_type": "stream",
       "stream": "stdout",
       "text": [
        "\n",
        "19:06/2006\n",
        "SH:06/2006"
       ]
      },
      {
       "output_type": "stream",
       "stream": "stdout",
       "text": [
        "\n",
        "SO:06/2006\n",
        "SL:06/2006"
       ]
      },
      {
       "output_type": "stream",
       "stream": "stdout",
       "text": [
        "\n",
        "OW:06/2006\n",
        "SB:06/2006"
       ]
      },
      {
       "output_type": "stream",
       "stream": "stdout",
       "text": [
        "\n",
        "OR:06/2006"
       ]
      },
      {
       "output_type": "stream",
       "stream": "stdout",
       "text": [
        "\n",
        "HY:06/2006"
       ]
      },
      {
       "output_type": "stream",
       "stream": "stdout",
       "text": [
        "\n",
        "DC:06/2006"
       ]
      },
      {
       "output_type": "stream",
       "stream": "stdout",
       "text": [
        "\n",
        "LF:06/2006\n",
        "GP:06/2006"
       ]
      },
      {
       "output_type": "stream",
       "stream": "stdout",
       "text": [
        "\n",
        "PH:06/2006"
       ]
      },
      {
       "output_type": "stream",
       "stream": "stdout",
       "text": [
        "\n",
        "PL:06/2006"
       ]
      },
      {
       "output_type": "stream",
       "stream": "stdout",
       "text": [
        "\n",
        "EM:06/2006"
       ]
      },
      {
       "output_type": "stream",
       "stream": "stdout",
       "text": [
        "\n",
        "EN:06/2006"
       ]
      },
      {
       "output_type": "stream",
       "stream": "stdout",
       "text": [
        "\n",
        "ED:06/2006"
       ]
      },
      {
       "output_type": "stream",
       "stream": "stdout",
       "text": [
        "\n",
        "AS:06/2006"
       ]
      },
      {
       "output_type": "stream",
       "stream": "stdout",
       "text": [
        "\n",
        "EP:06/2006"
       ]
      },
      {
       "output_type": "stream",
       "stream": "stdout",
       "text": [
        "\n",
        "MA:06/2006"
       ]
      },
      {
       "output_type": "stream",
       "stream": "stdout",
       "text": [
        "\n",
        "MB:06/2006"
       ]
      },
      {
       "output_type": "stream",
       "stream": "stdout",
       "text": [
        "\n",
        "MT:06/2006"
       ]
      },
      {
       "output_type": "stream",
       "stream": "stdout",
       "text": [
        "\n",
        "UC:06/2006"
       ]
      },
      {
       "output_type": "stream",
       "stream": "stdout",
       "text": [
        "\n",
        "BF:07/2006"
       ]
      },
      {
       "output_type": "stream",
       "stream": "stdout",
       "text": [
        "\n",
        "LM:07/2006\n",
        "WC:07/2006"
       ]
      },
      {
       "output_type": "stream",
       "stream": "stdout",
       "text": [
        "\n",
        "FV:07/2006\n",
        "BK:07/2006"
       ]
      },
      {
       "output_type": "stream",
       "stream": "stdout",
       "text": [
        "\n",
        "BP:07/2006"
       ]
      },
      {
       "output_type": "stream",
       "stream": "stdout",
       "text": [
        "\n",
        "WP:07/2006"
       ]
      },
      {
       "output_type": "stream",
       "stream": "stdout",
       "text": [
        "\n",
        "FM:07/2006\n",
        "24:07/2006"
       ]
      },
      {
       "output_type": "stream",
       "stream": "stdout",
       "text": [
        "\n",
        "RR:07/2006\n",
        "NB:07/2006"
       ]
      },
      {
       "output_type": "stream",
       "stream": "stdout",
       "text": [
        "\n",
        "NC:07/2006\n",
        "RM:07/2006"
       ]
      },
      {
       "output_type": "stream",
       "stream": "stdout",
       "text": [
        "\n",
        "CN:07/2006\n",
        "CM:07/2006"
       ]
      },
      {
       "output_type": "stream",
       "stream": "stdout",
       "text": [
        "\n",
        "CL:07/2006\n",
        "CC:07/2006"
       ]
      },
      {
       "output_type": "stream",
       "stream": "stdout",
       "text": [
        "\n",
        "CV:07/2006"
       ]
      },
      {
       "output_type": "stream",
       "stream": "stdout",
       "text": [
        "\n",
        "12:07/2006\n",
        "16:07/2006"
       ]
      },
      {
       "output_type": "stream",
       "stream": "stdout",
       "text": [
        "\n",
        "SS:07/2006\n",
        "19:07/2006"
       ]
      },
      {
       "output_type": "stream",
       "stream": "stdout",
       "text": [
        "\n",
        "SH:07/2006\n",
        "SO:07/2006"
       ]
      },
      {
       "output_type": "stream",
       "stream": "stdout",
       "text": [
        "\n",
        "SL:07/2006"
       ]
      },
      {
       "output_type": "stream",
       "stream": "stdout",
       "text": [
        "\n",
        "OW:07/2006"
       ]
      },
      {
       "output_type": "stream",
       "stream": "stdout",
       "text": [
        "\n",
        "SB:07/2006\n",
        "OR:07/2006"
       ]
      },
      {
       "output_type": "stream",
       "stream": "stdout",
       "text": [
        "\n",
        "HY:07/2006\n",
        "DC:07/2006"
       ]
      },
      {
       "output_type": "stream",
       "stream": "stdout",
       "text": [
        "\n",
        "LF:07/2006\n",
        "GP:07/2006"
       ]
      },
      {
       "output_type": "stream",
       "stream": "stdout",
       "text": [
        "\n",
        "PH:07/2006\n",
        "PL:07/2006"
       ]
      },
      {
       "output_type": "stream",
       "stream": "stdout",
       "text": [
        "\n",
        "EM:07/2006"
       ]
      },
      {
       "output_type": "stream",
       "stream": "stdout",
       "text": [
        "\n",
        "EN:07/2006\n",
        "ED:07/2006"
       ]
      },
      {
       "output_type": "stream",
       "stream": "stdout",
       "text": [
        "\n",
        "AS:07/2006\n",
        "EP:07/2006"
       ]
      },
      {
       "output_type": "stream",
       "stream": "stdout",
       "text": [
        "\n",
        "MA:07/2006\n",
        "MB:07/2006"
       ]
      },
      {
       "output_type": "stream",
       "stream": "stdout",
       "text": [
        "\n",
        "MT:07/2006"
       ]
      },
      {
       "output_type": "stream",
       "stream": "stdout",
       "text": [
        "\n",
        "UC:07/2006\n",
        "BF:08/2006"
       ]
      },
      {
       "output_type": "stream",
       "stream": "stdout",
       "text": [
        "\n",
        "LM:08/2006\n",
        "WC:08/2006"
       ]
      },
      {
       "output_type": "stream",
       "stream": "stdout",
       "text": [
        "\n",
        "FV:08/2006\n",
        "BK:08/2006"
       ]
      },
      {
       "output_type": "stream",
       "stream": "stdout",
       "text": [
        "\n",
        "BP:08/2006\n",
        "WP:08/2006"
       ]
      },
      {
       "output_type": "stream",
       "stream": "stdout",
       "text": [
        "\n",
        "FM:08/2006\n",
        "24:08/2006"
       ]
      },
      {
       "output_type": "stream",
       "stream": "stdout",
       "text": [
        "\n",
        "RR:08/2006\n",
        "NB:08/2006"
       ]
      },
      {
       "output_type": "stream",
       "stream": "stdout",
       "text": [
        "\n",
        "NC:08/2006\n",
        "RM:08/2006"
       ]
      },
      {
       "output_type": "stream",
       "stream": "stdout",
       "text": [
        "\n",
        "CN:08/2006\n",
        "CM:08/2006"
       ]
      },
      {
       "output_type": "stream",
       "stream": "stdout",
       "text": [
        "\n",
        "CL:08/2006\n",
        "CC:08/2006"
       ]
      },
      {
       "output_type": "stream",
       "stream": "stdout",
       "text": [
        "\n",
        "CV:08/2006\n",
        "12:08/2006"
       ]
      },
      {
       "output_type": "stream",
       "stream": "stdout",
       "text": [
        "\n",
        "16:08/2006\n",
        "SS:08/2006"
       ]
      },
      {
       "output_type": "stream",
       "stream": "stdout",
       "text": [
        "\n",
        "19:08/2006\n",
        "SH:08/2006"
       ]
      },
      {
       "output_type": "stream",
       "stream": "stdout",
       "text": [
        "\n",
        "SO:08/2006\n",
        "SL:08/2006"
       ]
      },
      {
       "output_type": "stream",
       "stream": "stdout",
       "text": [
        "\n",
        "OW:08/2006\n",
        "SB:08/2006"
       ]
      },
      {
       "output_type": "stream",
       "stream": "stdout",
       "text": [
        "\n",
        "OR:08/2006\n",
        "HY:08/2006"
       ]
      },
      {
       "output_type": "stream",
       "stream": "stdout",
       "text": [
        "\n",
        "DC:08/2006\n",
        "LF:08/2006"
       ]
      },
      {
       "output_type": "stream",
       "stream": "stdout",
       "text": [
        "\n",
        "GP:08/2006\n",
        "PH:08/2006"
       ]
      },
      {
       "output_type": "stream",
       "stream": "stdout",
       "text": [
        "\n",
        "PL:08/2006\n",
        "EM:08/2006"
       ]
      },
      {
       "output_type": "stream",
       "stream": "stdout",
       "text": [
        "\n",
        "EN:08/2006\n",
        "ED:08/2006"
       ]
      },
      {
       "output_type": "stream",
       "stream": "stdout",
       "text": [
        "\n",
        "AS:08/2006\n",
        "EP:08/2006"
       ]
      },
      {
       "output_type": "stream",
       "stream": "stdout",
       "text": [
        "\n",
        "MA:08/2006\n",
        "MB:08/2006"
       ]
      },
      {
       "output_type": "stream",
       "stream": "stdout",
       "text": [
        "\n",
        "MT:08/2006\n",
        "UC:08/2006"
       ]
      },
      {
       "output_type": "stream",
       "stream": "stdout",
       "text": [
        "\n",
        "BF:09/2006"
       ]
      },
      {
       "output_type": "stream",
       "stream": "stdout",
       "text": [
        "\n",
        "LM:09/2006\n",
        "WC:09/2006"
       ]
      },
      {
       "output_type": "stream",
       "stream": "stdout",
       "text": [
        "\n",
        "FV:09/2006\n",
        "BK:09/2006"
       ]
      },
      {
       "output_type": "stream",
       "stream": "stdout",
       "text": [
        "\n",
        "BP:09/2006\n",
        "WP:09/2006"
       ]
      },
      {
       "output_type": "stream",
       "stream": "stdout",
       "text": [
        "\n",
        "FM:09/2006\n",
        "24:09/2006"
       ]
      },
      {
       "output_type": "stream",
       "stream": "stdout",
       "text": [
        "\n",
        "RR:09/2006\n",
        "NB:09/2006"
       ]
      },
      {
       "output_type": "stream",
       "stream": "stdout",
       "text": [
        "\n",
        "NC:09/2006\n",
        "RM:09/2006"
       ]
      },
      {
       "output_type": "stream",
       "stream": "stdout",
       "text": [
        "\n",
        "CN:09/2006\n",
        "CM:09/2006"
       ]
      },
      {
       "output_type": "stream",
       "stream": "stdout",
       "text": [
        "\n",
        "CL:09/2006\n",
        "CC:09/2006"
       ]
      },
      {
       "output_type": "stream",
       "stream": "stdout",
       "text": [
        "\n",
        "CV:09/2006\n",
        "12:09/2006"
       ]
      },
      {
       "output_type": "stream",
       "stream": "stdout",
       "text": [
        "\n",
        "16:09/2006\n",
        "SS:09/2006"
       ]
      },
      {
       "output_type": "stream",
       "stream": "stdout",
       "text": [
        "\n",
        "19:09/2006\n",
        "SH:09/2006"
       ]
      },
      {
       "output_type": "stream",
       "stream": "stdout",
       "text": [
        "\n",
        "SO:09/2006"
       ]
      },
      {
       "output_type": "stream",
       "stream": "stdout",
       "text": [
        "\n",
        "SL:09/2006"
       ]
      },
      {
       "output_type": "stream",
       "stream": "stdout",
       "text": [
        "\n",
        "OW:09/2006\n",
        "SB:09/2006"
       ]
      },
      {
       "output_type": "stream",
       "stream": "stdout",
       "text": [
        "\n",
        "OR:09/2006\n",
        "HY:09/2006"
       ]
      },
      {
       "output_type": "stream",
       "stream": "stdout",
       "text": [
        "\n",
        "DC:09/2006\n",
        "LF:09/2006"
       ]
      },
      {
       "output_type": "stream",
       "stream": "stdout",
       "text": [
        "\n",
        "GP:09/2006\n",
        "PH:09/2006"
       ]
      },
      {
       "output_type": "stream",
       "stream": "stdout",
       "text": [
        "\n",
        "PL:09/2006\n",
        "EM:09/2006"
       ]
      },
      {
       "output_type": "stream",
       "stream": "stdout",
       "text": [
        "\n",
        "EN:09/2006\n",
        "ED:09/2006"
       ]
      },
      {
       "output_type": "stream",
       "stream": "stdout",
       "text": [
        "\n",
        "AS:09/2006\n",
        "EP:09/2006"
       ]
      },
      {
       "output_type": "stream",
       "stream": "stdout",
       "text": [
        "\n",
        "MA:09/2006\n",
        "MB:09/2006"
       ]
      },
      {
       "output_type": "stream",
       "stream": "stdout",
       "text": [
        "\n",
        "MT:09/2006\n",
        "UC:09/2006"
       ]
      },
      {
       "output_type": "stream",
       "stream": "stdout",
       "text": [
        "\n",
        "BF:10/2006"
       ]
      },
      {
       "output_type": "stream",
       "stream": "stdout",
       "text": [
        "\n",
        "LM:10/2006\n",
        "WC:10/2006"
       ]
      },
      {
       "output_type": "stream",
       "stream": "stdout",
       "text": [
        "\n",
        "FV:10/2006\n",
        "BK:10/2006"
       ]
      },
      {
       "output_type": "stream",
       "stream": "stdout",
       "text": [
        "\n",
        "BP:10/2006\n",
        "WP:10/2006"
       ]
      },
      {
       "output_type": "stream",
       "stream": "stdout",
       "text": [
        "\n",
        "FM:10/2006\n",
        "24:10/2006"
       ]
      },
      {
       "output_type": "stream",
       "stream": "stdout",
       "text": [
        "\n",
        "RR:10/2006\n",
        "NB:10/2006"
       ]
      },
      {
       "output_type": "stream",
       "stream": "stdout",
       "text": [
        "\n",
        "NC:10/2006\n",
        "RM:10/2006"
       ]
      },
      {
       "output_type": "stream",
       "stream": "stdout",
       "text": [
        "\n",
        "CN:10/2006"
       ]
      },
      {
       "output_type": "stream",
       "stream": "stdout",
       "text": [
        "\n",
        "CM:10/2006\n",
        "CL:10/2006"
       ]
      },
      {
       "output_type": "stream",
       "stream": "stdout",
       "text": [
        "\n",
        "CC:10/2006\n",
        "CV:10/2006"
       ]
      },
      {
       "output_type": "stream",
       "stream": "stdout",
       "text": [
        "\n",
        "12:10/2006\n",
        "16:10/2006"
       ]
      },
      {
       "output_type": "stream",
       "stream": "stdout",
       "text": [
        "\n",
        "SS:10/2006\n",
        "19:10/2006"
       ]
      },
      {
       "output_type": "stream",
       "stream": "stdout",
       "text": [
        "\n",
        "SH:10/2006\n",
        "SO:10/2006"
       ]
      },
      {
       "output_type": "stream",
       "stream": "stdout",
       "text": [
        "\n",
        "SL:10/2006\n",
        "OW:10/2006"
       ]
      },
      {
       "output_type": "stream",
       "stream": "stdout",
       "text": [
        "\n",
        "SB:10/2006\n",
        "OR:10/2006"
       ]
      },
      {
       "output_type": "stream",
       "stream": "stdout",
       "text": [
        "\n",
        "HY:10/2006\n",
        "DC:10/2006"
       ]
      },
      {
       "output_type": "stream",
       "stream": "stdout",
       "text": [
        "\n",
        "LF:10/2006\n",
        "GP:10/2006"
       ]
      },
      {
       "output_type": "stream",
       "stream": "stdout",
       "text": [
        "\n",
        "PH:10/2006\n",
        "PL:10/2006"
       ]
      },
      {
       "output_type": "stream",
       "stream": "stdout",
       "text": [
        "\n",
        "EM:10/2006\n",
        "EN:10/2006"
       ]
      },
      {
       "output_type": "stream",
       "stream": "stdout",
       "text": [
        "\n",
        "ED:10/2006\n",
        "AS:10/2006"
       ]
      },
      {
       "output_type": "stream",
       "stream": "stdout",
       "text": [
        "\n",
        "EP:10/2006\n",
        "MA:10/2006"
       ]
      },
      {
       "output_type": "stream",
       "stream": "stdout",
       "text": [
        "\n",
        "MB:10/2006\n",
        "MT:10/2006"
       ]
      },
      {
       "output_type": "stream",
       "stream": "stdout",
       "text": [
        "\n",
        "UC:10/2006\n",
        "BF:11/2006"
       ]
      },
      {
       "output_type": "stream",
       "stream": "stdout",
       "text": [
        "\n",
        "LM:11/2006\n",
        "WC:11/2006"
       ]
      },
      {
       "output_type": "stream",
       "stream": "stdout",
       "text": [
        "\n",
        "FV:11/2006\n",
        "BK:11/2006"
       ]
      },
      {
       "output_type": "stream",
       "stream": "stdout",
       "text": [
        "\n",
        "BP:11/2006\n",
        "WP:11/2006"
       ]
      },
      {
       "output_type": "stream",
       "stream": "stdout",
       "text": [
        "\n",
        "FM:11/2006"
       ]
      },
      {
       "output_type": "stream",
       "stream": "stdout",
       "text": [
        "\n",
        "24:11/2006\n",
        "RR:11/2006"
       ]
      },
      {
       "output_type": "stream",
       "stream": "stdout",
       "text": [
        "\n",
        "NB:11/2006\n",
        "NC:11/2006"
       ]
      },
      {
       "output_type": "stream",
       "stream": "stdout",
       "text": [
        "\n",
        "RM:11/2006\n",
        "CN:11/2006"
       ]
      },
      {
       "output_type": "stream",
       "stream": "stdout",
       "text": [
        "\n",
        "CM:11/2006\n",
        "CL:11/2006"
       ]
      },
      {
       "output_type": "stream",
       "stream": "stdout",
       "text": [
        "\n",
        "CC:11/2006\n",
        "CV:11/2006"
       ]
      },
      {
       "output_type": "stream",
       "stream": "stdout",
       "text": [
        "\n",
        "12:11/2006"
       ]
      },
      {
       "output_type": "stream",
       "stream": "stdout",
       "text": [
        "\n",
        "16:11/2006\n",
        "SS:11/2006"
       ]
      },
      {
       "output_type": "stream",
       "stream": "stdout",
       "text": [
        "\n",
        "19:11/2006\n",
        "SH:11/2006"
       ]
      },
      {
       "output_type": "stream",
       "stream": "stdout",
       "text": [
        "\n",
        "SO:11/2006\n",
        "SL:11/2006"
       ]
      },
      {
       "output_type": "stream",
       "stream": "stdout",
       "text": [
        "\n",
        "OW:11/2006\n",
        "SB:11/2006"
       ]
      },
      {
       "output_type": "stream",
       "stream": "stdout",
       "text": [
        "\n",
        "OR:11/2006\n",
        "HY:11/2006"
       ]
      },
      {
       "output_type": "stream",
       "stream": "stdout",
       "text": [
        "\n",
        "DC:11/2006\n",
        "LF:11/2006"
       ]
      },
      {
       "output_type": "stream",
       "stream": "stdout",
       "text": [
        "\n",
        "GP:11/2006"
       ]
      },
      {
       "output_type": "stream",
       "stream": "stdout",
       "text": [
        "\n",
        "PH:11/2006\n",
        "PL:11/2006"
       ]
      },
      {
       "output_type": "stream",
       "stream": "stdout",
       "text": [
        "\n",
        "EM:11/2006"
       ]
      },
      {
       "output_type": "stream",
       "stream": "stdout",
       "text": [
        "\n",
        "EN:11/2006\n",
        "ED:11/2006"
       ]
      },
      {
       "output_type": "stream",
       "stream": "stdout",
       "text": [
        "\n",
        "AS:11/2006\n",
        "EP:11/2006"
       ]
      },
      {
       "output_type": "stream",
       "stream": "stdout",
       "text": [
        "\n",
        "MA:11/2006\n",
        "MB:11/2006"
       ]
      },
      {
       "output_type": "stream",
       "stream": "stdout",
       "text": [
        "\n",
        "MT:11/2006\n",
        "UC:11/2006"
       ]
      },
      {
       "output_type": "stream",
       "stream": "stdout",
       "text": [
        "\n",
        "BF:12/2006"
       ]
      },
      {
       "output_type": "stream",
       "stream": "stdout",
       "text": [
        "\n",
        "LM:12/2006\n",
        "WC:12/2006"
       ]
      },
      {
       "output_type": "stream",
       "stream": "stdout",
       "text": [
        "\n",
        "FV:12/2006\n",
        "BK:12/2006"
       ]
      },
      {
       "output_type": "stream",
       "stream": "stdout",
       "text": [
        "\n",
        "BP:12/2006"
       ]
      },
      {
       "output_type": "stream",
       "stream": "stdout",
       "text": [
        "\n",
        "WP:12/2006\n",
        "FM:12/2006"
       ]
      },
      {
       "output_type": "stream",
       "stream": "stdout",
       "text": [
        "\n",
        "24:12/2006\n",
        "RR:12/2006"
       ]
      },
      {
       "output_type": "stream",
       "stream": "stdout",
       "text": [
        "\n",
        "NB:12/2006"
       ]
      },
      {
       "output_type": "stream",
       "stream": "stdout",
       "text": [
        "\n",
        "NC:12/2006"
       ]
      },
      {
       "output_type": "stream",
       "stream": "stdout",
       "text": [
        "\n",
        "RM:12/2006\n",
        "CN:12/2006"
       ]
      },
      {
       "output_type": "stream",
       "stream": "stdout",
       "text": [
        "\n",
        "CM:12/2006"
       ]
      },
      {
       "output_type": "stream",
       "stream": "stdout",
       "text": [
        "\n",
        "CL:12/2006"
       ]
      },
      {
       "output_type": "stream",
       "stream": "stdout",
       "text": [
        "\n",
        "CC:12/2006"
       ]
      },
      {
       "output_type": "stream",
       "stream": "stdout",
       "text": [
        "\n",
        "CV:12/2006"
       ]
      },
      {
       "output_type": "stream",
       "stream": "stdout",
       "text": [
        "\n",
        "12:12/2006\n",
        "16:12/2006"
       ]
      },
      {
       "output_type": "stream",
       "stream": "stdout",
       "text": [
        "\n",
        "SS:12/2006"
       ]
      },
      {
       "output_type": "stream",
       "stream": "stdout",
       "text": [
        "\n",
        "19:12/2006\n",
        "SH:12/2006"
       ]
      },
      {
       "output_type": "stream",
       "stream": "stdout",
       "text": [
        "\n",
        "SO:12/2006"
       ]
      },
      {
       "output_type": "stream",
       "stream": "stdout",
       "text": [
        "\n",
        "SL:12/2006"
       ]
      },
      {
       "output_type": "stream",
       "stream": "stdout",
       "text": [
        "\n",
        "OW:12/2006\n",
        "SB:12/2006"
       ]
      },
      {
       "output_type": "stream",
       "stream": "stdout",
       "text": [
        "\n",
        "OR:12/2006\n",
        "HY:12/2006"
       ]
      },
      {
       "output_type": "stream",
       "stream": "stdout",
       "text": [
        "\n",
        "DC:12/2006"
       ]
      },
      {
       "output_type": "stream",
       "stream": "stdout",
       "text": [
        "\n",
        "LF:12/2006\n",
        "GP:12/2006"
       ]
      },
      {
       "output_type": "stream",
       "stream": "stdout",
       "text": [
        "\n",
        "PH:12/2006\n",
        "PL:12/2006"
       ]
      },
      {
       "output_type": "stream",
       "stream": "stdout",
       "text": [
        "\n",
        "EM:12/2006\n",
        "EN:12/2006"
       ]
      },
      {
       "output_type": "stream",
       "stream": "stdout",
       "text": [
        "\n",
        "ED:12/2006"
       ]
      },
      {
       "output_type": "stream",
       "stream": "stdout",
       "text": [
        "\n",
        "AS:12/2006\n",
        "EP:12/2006"
       ]
      },
      {
       "output_type": "stream",
       "stream": "stdout",
       "text": [
        "\n",
        "MA:12/2006"
       ]
      },
      {
       "output_type": "stream",
       "stream": "stdout",
       "text": [
        "\n",
        "MB:12/2006"
       ]
      },
      {
       "output_type": "stream",
       "stream": "stdout",
       "text": [
        "\n",
        "MT:12/2006\n",
        "UC:12/2006"
       ]
      },
      {
       "output_type": "stream",
       "stream": "stdout",
       "text": [
        "\n",
        "BF:01/2007"
       ]
      },
      {
       "output_type": "stream",
       "stream": "stdout",
       "text": [
        "\n",
        "LM:01/2007"
       ]
      },
      {
       "output_type": "stream",
       "stream": "stdout",
       "text": [
        "\n",
        "WC:01/2007\n",
        "FV:01/2007"
       ]
      },
      {
       "output_type": "stream",
       "stream": "stdout",
       "text": [
        "\n",
        "BK:01/2007\n",
        "BP:01/2007"
       ]
      },
      {
       "output_type": "stream",
       "stream": "stdout",
       "text": [
        "\n",
        "WP:01/2007"
       ]
      },
      {
       "output_type": "stream",
       "stream": "stdout",
       "text": [
        "\n",
        "FM:01/2007\n",
        "24:01/2007"
       ]
      },
      {
       "output_type": "stream",
       "stream": "stdout",
       "text": [
        "\n",
        "RR:01/2007\n",
        "NB:01/2007"
       ]
      },
      {
       "output_type": "stream",
       "stream": "stdout",
       "text": [
        "\n",
        "NC:01/2007\n",
        "RM:01/2007"
       ]
      },
      {
       "output_type": "stream",
       "stream": "stdout",
       "text": [
        "\n",
        "CN:01/2007\n",
        "CM:01/2007"
       ]
      },
      {
       "output_type": "stream",
       "stream": "stdout",
       "text": [
        "\n",
        "CL:01/2007"
       ]
      },
      {
       "output_type": "stream",
       "stream": "stdout",
       "text": [
        "\n",
        "CC:01/2007"
       ]
      },
      {
       "output_type": "stream",
       "stream": "stdout",
       "text": [
        "\n",
        "CV:01/2007"
       ]
      },
      {
       "output_type": "stream",
       "stream": "stdout",
       "text": [
        "\n",
        "12:01/2007\n",
        "16:01/2007"
       ]
      },
      {
       "output_type": "stream",
       "stream": "stdout",
       "text": [
        "\n",
        "SS:01/2007"
       ]
      },
      {
       "output_type": "stream",
       "stream": "stdout",
       "text": [
        "\n",
        "19:01/2007"
       ]
      },
      {
       "output_type": "stream",
       "stream": "stdout",
       "text": [
        "\n",
        "SH:01/2007"
       ]
      },
      {
       "output_type": "stream",
       "stream": "stdout",
       "text": [
        "\n",
        "SO:01/2007\n",
        "SL:01/2007"
       ]
      },
      {
       "output_type": "stream",
       "stream": "stdout",
       "text": [
        "\n",
        "OW:01/2007\n",
        "SB:01/2007"
       ]
      },
      {
       "output_type": "stream",
       "stream": "stdout",
       "text": [
        "\n",
        "OR:01/2007\n",
        "HY:01/2007"
       ]
      },
      {
       "output_type": "stream",
       "stream": "stdout",
       "text": [
        "\n",
        "DC:01/2007\n",
        "LF:01/2007"
       ]
      },
      {
       "output_type": "stream",
       "stream": "stdout",
       "text": [
        "\n",
        "GP:01/2007\n",
        "PH:01/2007"
       ]
      },
      {
       "output_type": "stream",
       "stream": "stdout",
       "text": [
        "\n",
        "PL:01/2007\n",
        "EM:01/2007"
       ]
      },
      {
       "output_type": "stream",
       "stream": "stdout",
       "text": [
        "\n",
        "EN:01/2007"
       ]
      },
      {
       "output_type": "stream",
       "stream": "stdout",
       "text": [
        "\n",
        "ED:01/2007\n",
        "AS:01/2007"
       ]
      },
      {
       "output_type": "stream",
       "stream": "stdout",
       "text": [
        "\n",
        "EP:01/2007\n",
        "MA:01/2007"
       ]
      },
      {
       "output_type": "stream",
       "stream": "stdout",
       "text": [
        "\n",
        "MB:01/2007\n",
        "MT:01/2007"
       ]
      },
      {
       "output_type": "stream",
       "stream": "stdout",
       "text": [
        "\n",
        "UC:01/2007\n",
        "BF:02/2007"
       ]
      },
      {
       "output_type": "stream",
       "stream": "stdout",
       "text": [
        "\n",
        "LM:02/2007\n",
        "WC:02/2007"
       ]
      },
      {
       "output_type": "stream",
       "stream": "stdout",
       "text": [
        "\n",
        "FV:02/2007\n",
        "BK:02/2007"
       ]
      },
      {
       "output_type": "stream",
       "stream": "stdout",
       "text": [
        "\n",
        "BP:02/2007\n",
        "WP:02/2007"
       ]
      },
      {
       "output_type": "stream",
       "stream": "stdout",
       "text": [
        "\n",
        "FM:02/2007\n",
        "24:02/2007"
       ]
      },
      {
       "output_type": "stream",
       "stream": "stdout",
       "text": [
        "\n",
        "RR:02/2007\n",
        "NB:02/2007"
       ]
      },
      {
       "output_type": "stream",
       "stream": "stdout",
       "text": [
        "\n",
        "NC:02/2007"
       ]
      },
      {
       "output_type": "stream",
       "stream": "stdout",
       "text": [
        "\n",
        "RM:02/2007\n",
        "CN:02/2007"
       ]
      },
      {
       "output_type": "stream",
       "stream": "stdout",
       "text": [
        "\n",
        "CM:02/2007\n",
        "CL:02/2007"
       ]
      },
      {
       "output_type": "stream",
       "stream": "stdout",
       "text": [
        "\n",
        "CC:02/2007\n",
        "CV:02/2007"
       ]
      },
      {
       "output_type": "stream",
       "stream": "stdout",
       "text": [
        "\n",
        "12:02/2007"
       ]
      },
      {
       "output_type": "stream",
       "stream": "stdout",
       "text": [
        "\n",
        "16:02/2007\n",
        "SS:02/2007"
       ]
      },
      {
       "output_type": "stream",
       "stream": "stdout",
       "text": [
        "\n",
        "19:02/2007\n",
        "SH:02/2007"
       ]
      },
      {
       "output_type": "stream",
       "stream": "stdout",
       "text": [
        "\n",
        "SO:02/2007\n",
        "SL:02/2007"
       ]
      },
      {
       "output_type": "stream",
       "stream": "stdout",
       "text": [
        "\n",
        "OW:02/2007\n",
        "SB:02/2007"
       ]
      },
      {
       "output_type": "stream",
       "stream": "stdout",
       "text": [
        "\n",
        "OR:02/2007\n",
        "HY:02/2007"
       ]
      },
      {
       "output_type": "stream",
       "stream": "stdout",
       "text": [
        "\n",
        "DC:02/2007\n",
        "LF:02/2007"
       ]
      },
      {
       "output_type": "stream",
       "stream": "stdout",
       "text": [
        "\n",
        "GP:02/2007\n",
        "PH:02/2007"
       ]
      },
      {
       "output_type": "stream",
       "stream": "stdout",
       "text": [
        "\n",
        "PL:02/2007\n",
        "EM:02/2007"
       ]
      },
      {
       "output_type": "stream",
       "stream": "stdout",
       "text": [
        "\n",
        "EN:02/2007\n",
        "ED:02/2007"
       ]
      },
      {
       "output_type": "stream",
       "stream": "stdout",
       "text": [
        "\n",
        "AS:02/2007\n",
        "EP:02/2007"
       ]
      },
      {
       "output_type": "stream",
       "stream": "stdout",
       "text": [
        "\n",
        "MA:02/2007\n",
        "MB:02/2007"
       ]
      },
      {
       "output_type": "stream",
       "stream": "stdout",
       "text": [
        "\n",
        "MT:02/2007\n",
        "UC:02/2007"
       ]
      },
      {
       "output_type": "stream",
       "stream": "stdout",
       "text": [
        "\n",
        "BF:03/2007"
       ]
      },
      {
       "output_type": "stream",
       "stream": "stdout",
       "text": [
        "\n",
        "LM:03/2007"
       ]
      },
      {
       "output_type": "stream",
       "stream": "stdout",
       "text": [
        "\n",
        "WC:03/2007\n",
        "FV:03/2007"
       ]
      },
      {
       "output_type": "stream",
       "stream": "stdout",
       "text": [
        "\n",
        "BK:03/2007\n",
        "BP:03/2007"
       ]
      },
      {
       "output_type": "stream",
       "stream": "stdout",
       "text": [
        "\n",
        "WP:03/2007\n",
        "FM:03/2007"
       ]
      },
      {
       "output_type": "stream",
       "stream": "stdout",
       "text": [
        "\n",
        "24:03/2007\n",
        "RR:03/2007"
       ]
      },
      {
       "output_type": "stream",
       "stream": "stdout",
       "text": [
        "\n",
        "NB:03/2007\n",
        "NC:03/2007"
       ]
      },
      {
       "output_type": "stream",
       "stream": "stdout",
       "text": [
        "\n",
        "RM:03/2007\n",
        "CN:03/2007"
       ]
      },
      {
       "output_type": "stream",
       "stream": "stdout",
       "text": [
        "\n",
        "CM:03/2007\n",
        "CL:03/2007"
       ]
      },
      {
       "output_type": "stream",
       "stream": "stdout",
       "text": [
        "\n",
        "CC:03/2007\n",
        "CV:03/2007"
       ]
      },
      {
       "output_type": "stream",
       "stream": "stdout",
       "text": [
        "\n",
        "12:03/2007\n",
        "16:03/2007"
       ]
      },
      {
       "output_type": "stream",
       "stream": "stdout",
       "text": [
        "\n",
        "SS:03/2007\n",
        "19:03/2007"
       ]
      },
      {
       "output_type": "stream",
       "stream": "stdout",
       "text": [
        "\n",
        "SH:03/2007\n",
        "SO:03/2007"
       ]
      },
      {
       "output_type": "stream",
       "stream": "stdout",
       "text": [
        "\n",
        "SL:03/2007\n",
        "OW:03/2007"
       ]
      },
      {
       "output_type": "stream",
       "stream": "stdout",
       "text": [
        "\n",
        "SB:03/2007\n",
        "OR:03/2007"
       ]
      },
      {
       "output_type": "stream",
       "stream": "stdout",
       "text": [
        "\n",
        "HY:03/2007\n",
        "DC:03/2007"
       ]
      },
      {
       "output_type": "stream",
       "stream": "stdout",
       "text": [
        "\n",
        "LF:03/2007\n",
        "GP:03/2007"
       ]
      },
      {
       "output_type": "stream",
       "stream": "stdout",
       "text": [
        "\n",
        "PH:03/2007\n",
        "PL:03/2007"
       ]
      },
      {
       "output_type": "stream",
       "stream": "stdout",
       "text": [
        "\n",
        "EM:03/2007\n",
        "EN:03/2007"
       ]
      },
      {
       "output_type": "stream",
       "stream": "stdout",
       "text": [
        "\n",
        "ED:03/2007"
       ]
      },
      {
       "output_type": "stream",
       "stream": "stdout",
       "text": [
        "\n",
        "AS:03/2007\n",
        "EP:03/2007"
       ]
      },
      {
       "output_type": "stream",
       "stream": "stdout",
       "text": [
        "\n",
        "MA:03/2007"
       ]
      },
      {
       "output_type": "stream",
       "stream": "stdout",
       "text": [
        "\n",
        "MB:03/2007"
       ]
      },
      {
       "output_type": "stream",
       "stream": "stdout",
       "text": [
        "\n",
        "MT:03/2007"
       ]
      },
      {
       "output_type": "stream",
       "stream": "stdout",
       "text": [
        "\n",
        "UC:03/2007"
       ]
      },
      {
       "output_type": "stream",
       "stream": "stdout",
       "text": [
        "\n",
        "BF:04/2007"
       ]
      },
      {
       "output_type": "stream",
       "stream": "stdout",
       "text": [
        "\n",
        "LM:04/2007\n",
        "WC:04/2007"
       ]
      },
      {
       "output_type": "stream",
       "stream": "stdout",
       "text": [
        "\n",
        "FV:04/2007"
       ]
      },
      {
       "output_type": "stream",
       "stream": "stdout",
       "text": [
        "\n",
        "BK:04/2007\n",
        "BP:04/2007"
       ]
      },
      {
       "output_type": "stream",
       "stream": "stdout",
       "text": [
        "\n",
        "WP:04/2007\n",
        "FM:04/2007"
       ]
      },
      {
       "output_type": "stream",
       "stream": "stdout",
       "text": [
        "\n",
        "24:04/2007\n",
        "RR:04/2007"
       ]
      },
      {
       "output_type": "stream",
       "stream": "stdout",
       "text": [
        "\n",
        "NB:04/2007"
       ]
      },
      {
       "output_type": "stream",
       "stream": "stdout",
       "text": [
        "\n",
        "NC:04/2007"
       ]
      },
      {
       "output_type": "stream",
       "stream": "stdout",
       "text": [
        "\n",
        "RM:04/2007\n",
        "CN:04/2007"
       ]
      },
      {
       "output_type": "stream",
       "stream": "stdout",
       "text": [
        "\n",
        "CM:04/2007\n",
        "CL:04/2007"
       ]
      },
      {
       "output_type": "stream",
       "stream": "stdout",
       "text": [
        "\n",
        "CC:04/2007\n",
        "CV:04/2007"
       ]
      },
      {
       "output_type": "stream",
       "stream": "stdout",
       "text": [
        "\n",
        "12:04/2007\n",
        "16:04/2007"
       ]
      },
      {
       "output_type": "stream",
       "stream": "stdout",
       "text": [
        "\n",
        "SS:04/2007\n",
        "19:04/2007"
       ]
      },
      {
       "output_type": "stream",
       "stream": "stdout",
       "text": [
        "\n",
        "SH:04/2007\n",
        "SO:04/2007"
       ]
      },
      {
       "output_type": "stream",
       "stream": "stdout",
       "text": [
        "\n",
        "SL:04/2007\n",
        "OW:04/2007"
       ]
      },
      {
       "output_type": "stream",
       "stream": "stdout",
       "text": [
        "\n",
        "SB:04/2007\n",
        "OR:04/2007"
       ]
      },
      {
       "output_type": "stream",
       "stream": "stdout",
       "text": [
        "\n",
        "HY:04/2007\n",
        "DC:04/2007"
       ]
      },
      {
       "output_type": "stream",
       "stream": "stdout",
       "text": [
        "\n",
        "LF:04/2007\n",
        "GP:04/2007"
       ]
      },
      {
       "output_type": "stream",
       "stream": "stdout",
       "text": [
        "\n",
        "PH:04/2007\n",
        "PL:04/2007"
       ]
      },
      {
       "output_type": "stream",
       "stream": "stdout",
       "text": [
        "\n",
        "EM:04/2007\n",
        "EN:04/2007"
       ]
      },
      {
       "output_type": "stream",
       "stream": "stdout",
       "text": [
        "\n",
        "ED:04/2007"
       ]
      },
      {
       "output_type": "stream",
       "stream": "stdout",
       "text": [
        "\n",
        "AS:04/2007\n",
        "EP:04/2007"
       ]
      },
      {
       "output_type": "stream",
       "stream": "stdout",
       "text": [
        "\n",
        "MA:04/2007\n",
        "MB:04/2007"
       ]
      },
      {
       "output_type": "stream",
       "stream": "stdout",
       "text": [
        "\n",
        "MT:04/2007\n",
        "UC:04/2007"
       ]
      },
      {
       "output_type": "stream",
       "stream": "stdout",
       "text": [
        "\n",
        "BF:05/2007"
       ]
      },
      {
       "output_type": "stream",
       "stream": "stdout",
       "text": [
        "\n",
        "LM:05/2007\n",
        "WC:05/2007"
       ]
      },
      {
       "output_type": "stream",
       "stream": "stdout",
       "text": [
        "\n",
        "FV:05/2007\n",
        "BK:05/2007"
       ]
      },
      {
       "output_type": "stream",
       "stream": "stdout",
       "text": [
        "\n",
        "BP:05/2007\n",
        "WP:05/2007"
       ]
      },
      {
       "output_type": "stream",
       "stream": "stdout",
       "text": [
        "\n",
        "FM:05/2007\n",
        "24:05/2007"
       ]
      },
      {
       "output_type": "stream",
       "stream": "stdout",
       "text": [
        "\n",
        "RR:05/2007\n",
        "NB:05/2007"
       ]
      },
      {
       "output_type": "stream",
       "stream": "stdout",
       "text": [
        "\n",
        "NC:05/2007\n",
        "RM:05/2007"
       ]
      },
      {
       "output_type": "stream",
       "stream": "stdout",
       "text": [
        "\n",
        "CN:05/2007\n",
        "CM:05/2007"
       ]
      },
      {
       "output_type": "stream",
       "stream": "stdout",
       "text": [
        "\n",
        "CL:05/2007\n",
        "CC:05/2007"
       ]
      },
      {
       "output_type": "stream",
       "stream": "stdout",
       "text": [
        "\n",
        "CV:05/2007"
       ]
      },
      {
       "output_type": "stream",
       "stream": "stdout",
       "text": [
        "\n",
        "12:05/2007\n",
        "16:05/2007"
       ]
      },
      {
       "output_type": "stream",
       "stream": "stdout",
       "text": [
        "\n",
        "SS:05/2007"
       ]
      },
      {
       "output_type": "stream",
       "stream": "stdout",
       "text": [
        "\n",
        "19:05/2007\n",
        "SH:05/2007"
       ]
      },
      {
       "output_type": "stream",
       "stream": "stdout",
       "text": [
        "\n",
        "SO:05/2007\n",
        "SL:05/2007"
       ]
      },
      {
       "output_type": "stream",
       "stream": "stdout",
       "text": [
        "\n",
        "OW:05/2007\n",
        "SB:05/2007"
       ]
      },
      {
       "output_type": "stream",
       "stream": "stdout",
       "text": [
        "\n",
        "OR:05/2007\n",
        "HY:05/2007"
       ]
      },
      {
       "output_type": "stream",
       "stream": "stdout",
       "text": [
        "\n",
        "DC:05/2007\n",
        "LF:05/2007"
       ]
      },
      {
       "output_type": "stream",
       "stream": "stdout",
       "text": [
        "\n",
        "GP:05/2007\n",
        "PH:05/2007"
       ]
      },
      {
       "output_type": "stream",
       "stream": "stdout",
       "text": [
        "\n",
        "PL:05/2007\n",
        "EM:05/2007"
       ]
      },
      {
       "output_type": "stream",
       "stream": "stdout",
       "text": [
        "\n",
        "EN:05/2007\n",
        "ED:05/2007"
       ]
      },
      {
       "output_type": "stream",
       "stream": "stdout",
       "text": [
        "\n",
        "AS:05/2007"
       ]
      },
      {
       "output_type": "stream",
       "stream": "stdout",
       "text": [
        "\n",
        "EP:05/2007\n",
        "MA:05/2007"
       ]
      },
      {
       "output_type": "stream",
       "stream": "stdout",
       "text": [
        "\n",
        "MB:05/2007\n",
        "MT:05/2007"
       ]
      },
      {
       "output_type": "stream",
       "stream": "stdout",
       "text": [
        "\n",
        "UC:05/2007\n",
        "BF:06/2007"
       ]
      },
      {
       "output_type": "stream",
       "stream": "stdout",
       "text": [
        "\n",
        "LM:06/2007\n",
        "WC:06/2007"
       ]
      },
      {
       "output_type": "stream",
       "stream": "stdout",
       "text": [
        "\n",
        "FV:06/2007\n",
        "BK:06/2007"
       ]
      },
      {
       "output_type": "stream",
       "stream": "stdout",
       "text": [
        "\n",
        "BP:06/2007\n",
        "WP:06/2007"
       ]
      },
      {
       "output_type": "stream",
       "stream": "stdout",
       "text": [
        "\n",
        "FM:06/2007\n",
        "24:06/2007"
       ]
      },
      {
       "output_type": "stream",
       "stream": "stdout",
       "text": [
        "\n",
        "RR:06/2007\n",
        "NB:06/2007"
       ]
      },
      {
       "output_type": "stream",
       "stream": "stdout",
       "text": [
        "\n",
        "NC:06/2007\n",
        "RM:06/2007"
       ]
      },
      {
       "output_type": "stream",
       "stream": "stdout",
       "text": [
        "\n",
        "CN:06/2007\n",
        "CM:06/2007"
       ]
      },
      {
       "output_type": "stream",
       "stream": "stdout",
       "text": [
        "\n",
        "CL:06/2007"
       ]
      },
      {
       "output_type": "stream",
       "stream": "stdout",
       "text": [
        "\n",
        "CC:06/2007"
       ]
      },
      {
       "output_type": "stream",
       "stream": "stdout",
       "text": [
        "\n",
        "CV:06/2007"
       ]
      },
      {
       "output_type": "stream",
       "stream": "stdout",
       "text": [
        "\n",
        "12:06/2007"
       ]
      },
      {
       "output_type": "stream",
       "stream": "stdout",
       "text": [
        "\n",
        "16:06/2007"
       ]
      },
      {
       "output_type": "stream",
       "stream": "stdout",
       "text": [
        "\n",
        "SS:06/2007"
       ]
      },
      {
       "output_type": "stream",
       "stream": "stdout",
       "text": [
        "\n",
        "19:06/2007\n",
        "SH:06/2007"
       ]
      },
      {
       "output_type": "stream",
       "stream": "stdout",
       "text": [
        "\n",
        "SO:06/2007\n",
        "SL:06/2007"
       ]
      },
      {
       "output_type": "stream",
       "stream": "stdout",
       "text": [
        "\n",
        "OW:06/2007"
       ]
      },
      {
       "output_type": "stream",
       "stream": "stdout",
       "text": [
        "\n",
        "SB:06/2007"
       ]
      },
      {
       "output_type": "stream",
       "stream": "stdout",
       "text": [
        "\n",
        "OR:06/2007\n",
        "HY:06/2007"
       ]
      },
      {
       "output_type": "stream",
       "stream": "stdout",
       "text": [
        "\n",
        "DC:06/2007"
       ]
      },
      {
       "output_type": "stream",
       "stream": "stdout",
       "text": [
        "\n",
        "LF:06/2007\n",
        "GP:06/2007"
       ]
      },
      {
       "output_type": "stream",
       "stream": "stdout",
       "text": [
        "\n",
        "PH:06/2007\n",
        "PL:06/2007"
       ]
      },
      {
       "output_type": "stream",
       "stream": "stdout",
       "text": [
        "\n",
        "EM:06/2007"
       ]
      },
      {
       "output_type": "stream",
       "stream": "stdout",
       "text": [
        "\n",
        "EN:06/2007"
       ]
      },
      {
       "output_type": "stream",
       "stream": "stdout",
       "text": [
        "\n",
        "ED:06/2007"
       ]
      },
      {
       "output_type": "stream",
       "stream": "stdout",
       "text": [
        "\n",
        "AS:06/2007\n",
        "EP:06/2007"
       ]
      },
      {
       "output_type": "stream",
       "stream": "stdout",
       "text": [
        "\n",
        "MA:06/2007\n",
        "MB:06/2007"
       ]
      },
      {
       "output_type": "stream",
       "stream": "stdout",
       "text": [
        "\n",
        "MT:06/2007\n",
        "UC:06/2007"
       ]
      },
      {
       "output_type": "stream",
       "stream": "stdout",
       "text": [
        "\n",
        "BF:07/2007"
       ]
      },
      {
       "output_type": "stream",
       "stream": "stdout",
       "text": [
        "\n",
        "LM:07/2007\n",
        "WC:07/2007"
       ]
      },
      {
       "output_type": "stream",
       "stream": "stdout",
       "text": [
        "\n",
        "FV:07/2007\n",
        "BK:07/2007"
       ]
      },
      {
       "output_type": "stream",
       "stream": "stdout",
       "text": [
        "\n",
        "BP:07/2007\n",
        "WP:07/2007"
       ]
      },
      {
       "output_type": "stream",
       "stream": "stdout",
       "text": [
        "\n",
        "FM:07/2007\n",
        "24:07/2007"
       ]
      },
      {
       "output_type": "stream",
       "stream": "stdout",
       "text": [
        "\n",
        "RR:07/2007"
       ]
      },
      {
       "output_type": "stream",
       "stream": "stdout",
       "text": [
        "\n",
        "NB:07/2007\n",
        "NC:07/2007"
       ]
      },
      {
       "output_type": "stream",
       "stream": "stdout",
       "text": [
        "\n",
        "RM:07/2007\n",
        "CN:07/2007"
       ]
      },
      {
       "output_type": "stream",
       "stream": "stdout",
       "text": [
        "\n",
        "CM:07/2007\n",
        "CL:07/2007"
       ]
      },
      {
       "output_type": "stream",
       "stream": "stdout",
       "text": [
        "\n",
        "CC:07/2007\n",
        "CV:07/2007"
       ]
      },
      {
       "output_type": "stream",
       "stream": "stdout",
       "text": [
        "\n",
        "12:07/2007\n",
        "16:07/2007"
       ]
      },
      {
       "output_type": "stream",
       "stream": "stdout",
       "text": [
        "\n",
        "SS:07/2007\n",
        "19:07/2007"
       ]
      },
      {
       "output_type": "stream",
       "stream": "stdout",
       "text": [
        "\n",
        "SH:07/2007\n",
        "SO:07/2007"
       ]
      },
      {
       "output_type": "stream",
       "stream": "stdout",
       "text": [
        "\n",
        "SL:07/2007\n",
        "OW:07/2007"
       ]
      },
      {
       "output_type": "stream",
       "stream": "stdout",
       "text": [
        "\n",
        "SB:07/2007"
       ]
      },
      {
       "output_type": "stream",
       "stream": "stdout",
       "text": [
        "\n",
        "OR:07/2007\n",
        "HY:07/2007"
       ]
      },
      {
       "output_type": "stream",
       "stream": "stdout",
       "text": [
        "\n",
        "DC:07/2007\n",
        "LF:07/2007"
       ]
      },
      {
       "output_type": "stream",
       "stream": "stdout",
       "text": [
        "\n",
        "GP:07/2007"
       ]
      },
      {
       "output_type": "stream",
       "stream": "stdout",
       "text": [
        "\n",
        "PH:07/2007"
       ]
      },
      {
       "output_type": "stream",
       "stream": "stdout",
       "text": [
        "\n",
        "PL:07/2007\n",
        "EM:07/2007"
       ]
      },
      {
       "output_type": "stream",
       "stream": "stdout",
       "text": [
        "\n",
        "EN:07/2007\n",
        "ED:07/2007"
       ]
      },
      {
       "output_type": "stream",
       "stream": "stdout",
       "text": [
        "\n",
        "AS:07/2007"
       ]
      },
      {
       "output_type": "stream",
       "stream": "stdout",
       "text": [
        "\n",
        "EP:07/2007\n",
        "MA:07/2007"
       ]
      },
      {
       "output_type": "stream",
       "stream": "stdout",
       "text": [
        "\n",
        "MB:07/2007\n",
        "MT:07/2007"
       ]
      },
      {
       "output_type": "stream",
       "stream": "stdout",
       "text": [
        "\n",
        "UC:07/2007\n",
        "BF:08/2007"
       ]
      },
      {
       "output_type": "stream",
       "stream": "stdout",
       "text": [
        "\n",
        "LM:08/2007\n",
        "WC:08/2007"
       ]
      },
      {
       "output_type": "stream",
       "stream": "stdout",
       "text": [
        "\n",
        "FV:08/2007"
       ]
      },
      {
       "output_type": "stream",
       "stream": "stdout",
       "text": [
        "\n",
        "BK:08/2007\n",
        "BP:08/2007"
       ]
      },
      {
       "output_type": "stream",
       "stream": "stdout",
       "text": [
        "\n",
        "WP:08/2007\n",
        "FM:08/2007"
       ]
      },
      {
       "output_type": "stream",
       "stream": "stdout",
       "text": [
        "\n",
        "24:08/2007\n",
        "RR:08/2007"
       ]
      },
      {
       "output_type": "stream",
       "stream": "stdout",
       "text": [
        "\n",
        "NB:08/2007\n",
        "NC:08/2007"
       ]
      },
      {
       "output_type": "stream",
       "stream": "stdout",
       "text": [
        "\n",
        "RM:08/2007\n",
        "CN:08/2007"
       ]
      },
      {
       "output_type": "stream",
       "stream": "stdout",
       "text": [
        "\n",
        "CM:08/2007\n",
        "CL:08/2007"
       ]
      },
      {
       "output_type": "stream",
       "stream": "stdout",
       "text": [
        "\n",
        "CC:08/2007\n",
        "CV:08/2007"
       ]
      },
      {
       "output_type": "stream",
       "stream": "stdout",
       "text": [
        "\n",
        "12:08/2007\n",
        "16:08/2007"
       ]
      },
      {
       "output_type": "stream",
       "stream": "stdout",
       "text": [
        "\n",
        "SS:08/2007"
       ]
      },
      {
       "output_type": "stream",
       "stream": "stdout",
       "text": [
        "\n",
        "19:08/2007\n",
        "SH:08/2007"
       ]
      },
      {
       "output_type": "stream",
       "stream": "stdout",
       "text": [
        "\n",
        "SO:08/2007\n",
        "SL:08/2007"
       ]
      },
      {
       "output_type": "stream",
       "stream": "stdout",
       "text": [
        "\n",
        "OW:08/2007\n",
        "SB:08/2007"
       ]
      },
      {
       "output_type": "stream",
       "stream": "stdout",
       "text": [
        "\n",
        "OR:08/2007\n",
        "HY:08/2007"
       ]
      },
      {
       "output_type": "stream",
       "stream": "stdout",
       "text": [
        "\n",
        "DC:08/2007\n",
        "LF:08/2007"
       ]
      },
      {
       "output_type": "stream",
       "stream": "stdout",
       "text": [
        "\n",
        "GP:08/2007\n",
        "PH:08/2007"
       ]
      },
      {
       "output_type": "stream",
       "stream": "stdout",
       "text": [
        "\n",
        "PL:08/2007\n",
        "EM:08/2007"
       ]
      },
      {
       "output_type": "stream",
       "stream": "stdout",
       "text": [
        "\n",
        "EN:08/2007\n",
        "ED:08/2007"
       ]
      },
      {
       "output_type": "stream",
       "stream": "stdout",
       "text": [
        "\n",
        "AS:08/2007\n",
        "EP:08/2007"
       ]
      },
      {
       "output_type": "stream",
       "stream": "stdout",
       "text": [
        "\n",
        "MA:08/2007\n",
        "MB:08/2007"
       ]
      },
      {
       "output_type": "stream",
       "stream": "stdout",
       "text": [
        "\n",
        "MT:08/2007\n",
        "UC:08/2007"
       ]
      },
      {
       "output_type": "stream",
       "stream": "stdout",
       "text": [
        "\n",
        "BF:09/2007"
       ]
      },
      {
       "output_type": "stream",
       "stream": "stdout",
       "text": [
        "\n",
        "LM:09/2007\n",
        "WC:09/2007"
       ]
      },
      {
       "output_type": "stream",
       "stream": "stdout",
       "text": [
        "\n",
        "FV:09/2007\n",
        "BK:09/2007"
       ]
      },
      {
       "output_type": "stream",
       "stream": "stdout",
       "text": [
        "\n",
        "BP:09/2007\n",
        "WP:09/2007"
       ]
      },
      {
       "output_type": "stream",
       "stream": "stdout",
       "text": [
        "\n",
        "FM:09/2007\n",
        "24:09/2007"
       ]
      },
      {
       "output_type": "stream",
       "stream": "stdout",
       "text": [
        "\n",
        "RR:09/2007\n",
        "NB:09/2007"
       ]
      },
      {
       "output_type": "stream",
       "stream": "stdout",
       "text": [
        "\n",
        "NC:09/2007\n",
        "RM:09/2007"
       ]
      },
      {
       "output_type": "stream",
       "stream": "stdout",
       "text": [
        "\n",
        "CN:09/2007\n",
        "CM:09/2007"
       ]
      },
      {
       "output_type": "stream",
       "stream": "stdout",
       "text": [
        "\n",
        "CL:09/2007\n",
        "CC:09/2007"
       ]
      },
      {
       "output_type": "stream",
       "stream": "stdout",
       "text": [
        "\n",
        "CV:09/2007\n",
        "12:09/2007"
       ]
      },
      {
       "output_type": "stream",
       "stream": "stdout",
       "text": [
        "\n",
        "16:09/2007\n",
        "SS:09/2007"
       ]
      },
      {
       "output_type": "stream",
       "stream": "stdout",
       "text": [
        "\n",
        "19:09/2007\n",
        "SH:09/2007"
       ]
      },
      {
       "output_type": "stream",
       "stream": "stdout",
       "text": [
        "\n",
        "SO:09/2007\n",
        "SL:09/2007"
       ]
      },
      {
       "output_type": "stream",
       "stream": "stdout",
       "text": [
        "\n",
        "OW:09/2007\n",
        "SB:09/2007"
       ]
      },
      {
       "output_type": "stream",
       "stream": "stdout",
       "text": [
        "\n",
        "OR:09/2007\n",
        "HY:09/2007"
       ]
      },
      {
       "output_type": "stream",
       "stream": "stdout",
       "text": [
        "\n",
        "DC:09/2007\n",
        "LF:09/2007"
       ]
      },
      {
       "output_type": "stream",
       "stream": "stdout",
       "text": [
        "\n",
        "GP:09/2007\n",
        "PH:09/2007"
       ]
      },
      {
       "output_type": "stream",
       "stream": "stdout",
       "text": [
        "\n",
        "PL:09/2007\n",
        "EM:09/2007"
       ]
      },
      {
       "output_type": "stream",
       "stream": "stdout",
       "text": [
        "\n",
        "EN:09/2007"
       ]
      },
      {
       "output_type": "stream",
       "stream": "stdout",
       "text": [
        "\n",
        "ED:09/2007\n",
        "AS:09/2007"
       ]
      },
      {
       "output_type": "stream",
       "stream": "stdout",
       "text": [
        "\n",
        "EP:09/2007"
       ]
      },
      {
       "output_type": "stream",
       "stream": "stdout",
       "text": [
        "\n",
        "MA:09/2007\n",
        "MB:09/2007"
       ]
      },
      {
       "output_type": "stream",
       "stream": "stdout",
       "text": [
        "\n",
        "MT:09/2007\n",
        "UC:09/2007"
       ]
      },
      {
       "output_type": "stream",
       "stream": "stdout",
       "text": [
        "\n",
        "BF:10/2007"
       ]
      },
      {
       "output_type": "stream",
       "stream": "stdout",
       "text": [
        "\n",
        "LM:10/2007\n",
        "WC:10/2007"
       ]
      },
      {
       "output_type": "stream",
       "stream": "stdout",
       "text": [
        "\n",
        "FV:10/2007\n",
        "BK:10/2007"
       ]
      },
      {
       "output_type": "stream",
       "stream": "stdout",
       "text": [
        "\n",
        "BP:10/2007\n",
        "WP:10/2007"
       ]
      },
      {
       "output_type": "stream",
       "stream": "stdout",
       "text": [
        "\n",
        "FM:10/2007\n",
        "24:10/2007"
       ]
      },
      {
       "output_type": "stream",
       "stream": "stdout",
       "text": [
        "\n",
        "RR:10/2007\n",
        "NB:10/2007"
       ]
      },
      {
       "output_type": "stream",
       "stream": "stdout",
       "text": [
        "\n",
        "NC:10/2007\n",
        "RM:10/2007"
       ]
      },
      {
       "output_type": "stream",
       "stream": "stdout",
       "text": [
        "\n",
        "CN:10/2007\n",
        "CM:10/2007"
       ]
      },
      {
       "output_type": "stream",
       "stream": "stdout",
       "text": [
        "\n",
        "CL:10/2007\n",
        "CC:10/2007"
       ]
      },
      {
       "output_type": "stream",
       "stream": "stdout",
       "text": [
        "\n",
        "CV:10/2007\n",
        "12:10/2007"
       ]
      },
      {
       "output_type": "stream",
       "stream": "stdout",
       "text": [
        "\n",
        "16:10/2007\n",
        "SS:10/2007"
       ]
      },
      {
       "output_type": "stream",
       "stream": "stdout",
       "text": [
        "\n",
        "19:10/2007\n",
        "SH:10/2007"
       ]
      },
      {
       "output_type": "stream",
       "stream": "stdout",
       "text": [
        "\n",
        "SO:10/2007\n",
        "SL:10/2007"
       ]
      },
      {
       "output_type": "stream",
       "stream": "stdout",
       "text": [
        "\n",
        "OW:10/2007"
       ]
      },
      {
       "output_type": "stream",
       "stream": "stdout",
       "text": [
        "\n",
        "SB:10/2007\n",
        "OR:10/2007"
       ]
      },
      {
       "output_type": "stream",
       "stream": "stdout",
       "text": [
        "\n",
        "HY:10/2007"
       ]
      },
      {
       "output_type": "stream",
       "stream": "stdout",
       "text": [
        "\n",
        "DC:10/2007\n",
        "LF:10/2007"
       ]
      },
      {
       "output_type": "stream",
       "stream": "stdout",
       "text": [
        "\n",
        "GP:10/2007\n",
        "PH:10/2007"
       ]
      },
      {
       "output_type": "stream",
       "stream": "stdout",
       "text": [
        "\n",
        "PL:10/2007"
       ]
      },
      {
       "output_type": "stream",
       "stream": "stdout",
       "text": [
        "\n",
        "EM:10/2007"
       ]
      },
      {
       "output_type": "stream",
       "stream": "stdout",
       "text": [
        "\n",
        "EN:10/2007\n",
        "ED:10/2007"
       ]
      },
      {
       "output_type": "stream",
       "stream": "stdout",
       "text": [
        "\n",
        "AS:10/2007"
       ]
      },
      {
       "output_type": "stream",
       "stream": "stdout",
       "text": [
        "\n",
        "EP:10/2007\n",
        "MA:10/2007"
       ]
      },
      {
       "output_type": "stream",
       "stream": "stdout",
       "text": [
        "\n",
        "MB:10/2007\n",
        "MT:10/2007"
       ]
      },
      {
       "output_type": "stream",
       "stream": "stdout",
       "text": [
        "\n",
        "UC:10/2007\n",
        "BF:11/2007"
       ]
      },
      {
       "output_type": "stream",
       "stream": "stdout",
       "text": [
        "\n",
        "LM:11/2007"
       ]
      },
      {
       "output_type": "stream",
       "stream": "stdout",
       "text": [
        "\n",
        "WC:11/2007"
       ]
      },
      {
       "output_type": "stream",
       "stream": "stdout",
       "text": [
        "\n",
        "FV:11/2007"
       ]
      },
      {
       "output_type": "stream",
       "stream": "stdout",
       "text": [
        "\n",
        "BK:11/2007"
       ]
      },
      {
       "output_type": "stream",
       "stream": "stdout",
       "text": [
        "\n",
        "BP:11/2007"
       ]
      },
      {
       "output_type": "stream",
       "stream": "stdout",
       "text": [
        "\n",
        "WP:11/2007\n",
        "FM:11/2007"
       ]
      },
      {
       "output_type": "stream",
       "stream": "stdout",
       "text": [
        "\n",
        "24:11/2007\n",
        "RR:11/2007"
       ]
      },
      {
       "output_type": "stream",
       "stream": "stdout",
       "text": [
        "\n",
        "NB:11/2007\n",
        "NC:11/2007"
       ]
      },
      {
       "output_type": "stream",
       "stream": "stdout",
       "text": [
        "\n",
        "RM:11/2007\n",
        "CN:11/2007"
       ]
      },
      {
       "output_type": "stream",
       "stream": "stdout",
       "text": [
        "\n",
        "CM:11/2007\n",
        "CL:11/2007"
       ]
      },
      {
       "output_type": "stream",
       "stream": "stdout",
       "text": [
        "\n",
        "CC:11/2007\n",
        "CV:11/2007"
       ]
      },
      {
       "output_type": "stream",
       "stream": "stdout",
       "text": [
        "\n",
        "12:11/2007\n",
        "16:11/2007"
       ]
      },
      {
       "output_type": "stream",
       "stream": "stdout",
       "text": [
        "\n",
        "SS:11/2007\n",
        "19:11/2007"
       ]
      },
      {
       "output_type": "stream",
       "stream": "stdout",
       "text": [
        "\n",
        "SH:11/2007\n",
        "SO:11/2007"
       ]
      },
      {
       "output_type": "stream",
       "stream": "stdout",
       "text": [
        "\n",
        "SL:11/2007"
       ]
      },
      {
       "output_type": "stream",
       "stream": "stdout",
       "text": [
        "\n",
        "OW:11/2007"
       ]
      },
      {
       "output_type": "stream",
       "stream": "stdout",
       "text": [
        "\n",
        "SB:11/2007\n",
        "OR:11/2007"
       ]
      },
      {
       "output_type": "stream",
       "stream": "stdout",
       "text": [
        "\n",
        "HY:11/2007\n",
        "DC:11/2007"
       ]
      },
      {
       "output_type": "stream",
       "stream": "stdout",
       "text": [
        "\n",
        "LF:11/2007\n",
        "GP:11/2007"
       ]
      },
      {
       "output_type": "stream",
       "stream": "stdout",
       "text": [
        "\n",
        "PH:11/2007\n",
        "PL:11/2007"
       ]
      },
      {
       "output_type": "stream",
       "stream": "stdout",
       "text": [
        "\n",
        "EM:11/2007\n",
        "EN:11/2007"
       ]
      },
      {
       "output_type": "stream",
       "stream": "stdout",
       "text": [
        "\n",
        "ED:11/2007\n",
        "AS:11/2007"
       ]
      },
      {
       "output_type": "stream",
       "stream": "stdout",
       "text": [
        "\n",
        "EP:11/2007"
       ]
      },
      {
       "output_type": "stream",
       "stream": "stdout",
       "text": [
        "\n",
        "MA:11/2007\n",
        "MB:11/2007"
       ]
      },
      {
       "output_type": "stream",
       "stream": "stdout",
       "text": [
        "\n",
        "MT:11/2007\n",
        "UC:11/2007"
       ]
      },
      {
       "output_type": "stream",
       "stream": "stdout",
       "text": [
        "\n",
        "BF:12/2007"
       ]
      },
      {
       "output_type": "stream",
       "stream": "stdout",
       "text": [
        "\n",
        "LM:12/2007\n",
        "WC:12/2007"
       ]
      },
      {
       "output_type": "stream",
       "stream": "stdout",
       "text": [
        "\n",
        "FV:12/2007\n",
        "BK:12/2007"
       ]
      },
      {
       "output_type": "stream",
       "stream": "stdout",
       "text": [
        "\n",
        "BP:12/2007\n",
        "WP:12/2007"
       ]
      },
      {
       "output_type": "stream",
       "stream": "stdout",
       "text": [
        "\n",
        "FM:12/2007\n",
        "24:12/2007"
       ]
      },
      {
       "output_type": "stream",
       "stream": "stdout",
       "text": [
        "\n",
        "RR:12/2007\n",
        "NB:12/2007"
       ]
      },
      {
       "output_type": "stream",
       "stream": "stdout",
       "text": [
        "\n",
        "NC:12/2007\n",
        "RM:12/2007"
       ]
      },
      {
       "output_type": "stream",
       "stream": "stdout",
       "text": [
        "\n",
        "CN:12/2007\n",
        "CM:12/2007"
       ]
      },
      {
       "output_type": "stream",
       "stream": "stdout",
       "text": [
        "\n",
        "CL:12/2007\n",
        "CC:12/2007"
       ]
      },
      {
       "output_type": "stream",
       "stream": "stdout",
       "text": [
        "\n",
        "CV:12/2007\n",
        "12:12/2007"
       ]
      },
      {
       "output_type": "stream",
       "stream": "stdout",
       "text": [
        "\n",
        "16:12/2007\n",
        "SS:12/2007"
       ]
      },
      {
       "output_type": "stream",
       "stream": "stdout",
       "text": [
        "\n",
        "19:12/2007"
       ]
      },
      {
       "output_type": "stream",
       "stream": "stdout",
       "text": [
        "\n",
        "SH:12/2007\n",
        "SO:12/2007"
       ]
      },
      {
       "output_type": "stream",
       "stream": "stdout",
       "text": [
        "\n",
        "SL:12/2007\n",
        "OW:12/2007"
       ]
      },
      {
       "output_type": "stream",
       "stream": "stdout",
       "text": [
        "\n",
        "SB:12/2007\n",
        "OR:12/2007"
       ]
      },
      {
       "output_type": "stream",
       "stream": "stdout",
       "text": [
        "\n",
        "HY:12/2007\n",
        "DC:12/2007"
       ]
      },
      {
       "output_type": "stream",
       "stream": "stdout",
       "text": [
        "\n",
        "LF:12/2007"
       ]
      },
      {
       "output_type": "stream",
       "stream": "stdout",
       "text": [
        "\n",
        "GP:12/2007"
       ]
      },
      {
       "output_type": "stream",
       "stream": "stdout",
       "text": [
        "\n",
        "PH:12/2007"
       ]
      },
      {
       "output_type": "stream",
       "stream": "stdout",
       "text": [
        "\n",
        "PL:12/2007\n",
        "EM:12/2007"
       ]
      },
      {
       "output_type": "stream",
       "stream": "stdout",
       "text": [
        "\n",
        "EN:12/2007"
       ]
      },
      {
       "output_type": "stream",
       "stream": "stdout",
       "text": [
        "\n",
        "ED:12/2007\n",
        "AS:12/2007"
       ]
      },
      {
       "output_type": "stream",
       "stream": "stdout",
       "text": [
        "\n",
        "EP:12/2007\n",
        "MA:12/2007"
       ]
      },
      {
       "output_type": "stream",
       "stream": "stdout",
       "text": [
        "\n",
        "MB:12/2007\n",
        "MT:12/2007"
       ]
      },
      {
       "output_type": "stream",
       "stream": "stdout",
       "text": [
        "\n",
        "UC:12/2007\n",
        "BF:01/2008"
       ]
      },
      {
       "output_type": "stream",
       "stream": "stdout",
       "text": [
        "\n",
        "LM:01/2008\n",
        "WC:01/2008"
       ]
      },
      {
       "output_type": "stream",
       "stream": "stdout",
       "text": [
        "\n",
        "FV:01/2008\n",
        "BK:01/2008"
       ]
      },
      {
       "output_type": "stream",
       "stream": "stdout",
       "text": [
        "\n",
        "BP:01/2008\n",
        "WP:01/2008"
       ]
      },
      {
       "output_type": "stream",
       "stream": "stdout",
       "text": [
        "\n",
        "FM:01/2008\n",
        "24:01/2008"
       ]
      },
      {
       "output_type": "stream",
       "stream": "stdout",
       "text": [
        "\n",
        "RR:01/2008\n",
        "NB:01/2008"
       ]
      },
      {
       "output_type": "stream",
       "stream": "stdout",
       "text": [
        "\n",
        "NC:01/2008"
       ]
      },
      {
       "output_type": "stream",
       "stream": "stdout",
       "text": [
        "\n",
        "RM:01/2008\n",
        "CN:01/2008"
       ]
      },
      {
       "output_type": "stream",
       "stream": "stdout",
       "text": [
        "\n",
        "CM:01/2008"
       ]
      },
      {
       "output_type": "stream",
       "stream": "stdout",
       "text": [
        "\n",
        "CL:01/2008"
       ]
      },
      {
       "output_type": "stream",
       "stream": "stdout",
       "text": [
        "\n",
        "CC:01/2008"
       ]
      },
      {
       "output_type": "stream",
       "stream": "stdout",
       "text": [
        "\n",
        "CV:01/2008"
       ]
      },
      {
       "output_type": "stream",
       "stream": "stdout",
       "text": [
        "\n",
        "12:01/2008"
       ]
      },
      {
       "output_type": "stream",
       "stream": "stdout",
       "text": [
        "\n",
        "16:01/2008"
       ]
      },
      {
       "output_type": "stream",
       "stream": "stdout",
       "text": [
        "\n",
        "SS:01/2008"
       ]
      },
      {
       "output_type": "stream",
       "stream": "stdout",
       "text": [
        "\n",
        "19:01/2008"
       ]
      },
      {
       "output_type": "stream",
       "stream": "stdout",
       "text": [
        "\n",
        "SH:01/2008"
       ]
      },
      {
       "output_type": "stream",
       "stream": "stdout",
       "text": [
        "\n",
        "SO:01/2008\n",
        "SL:01/2008"
       ]
      },
      {
       "output_type": "stream",
       "stream": "stdout",
       "text": [
        "\n",
        "OW:01/2008\n",
        "SB:01/2008"
       ]
      },
      {
       "output_type": "stream",
       "stream": "stdout",
       "text": [
        "\n",
        "OR:01/2008\n",
        "HY:01/2008"
       ]
      },
      {
       "output_type": "stream",
       "stream": "stdout",
       "text": [
        "\n",
        "DC:01/2008\n",
        "LF:01/2008"
       ]
      },
      {
       "output_type": "stream",
       "stream": "stdout",
       "text": [
        "\n",
        "GP:01/2008\n",
        "PH:01/2008"
       ]
      },
      {
       "output_type": "stream",
       "stream": "stdout",
       "text": [
        "\n",
        "PL:01/2008"
       ]
      },
      {
       "output_type": "stream",
       "stream": "stdout",
       "text": [
        "\n",
        "EM:01/2008\n",
        "EN:01/2008"
       ]
      },
      {
       "output_type": "stream",
       "stream": "stdout",
       "text": [
        "\n",
        "ED:01/2008\n",
        "AS:01/2008"
       ]
      },
      {
       "output_type": "stream",
       "stream": "stdout",
       "text": [
        "\n",
        "EP:01/2008\n",
        "MA:01/2008"
       ]
      },
      {
       "output_type": "stream",
       "stream": "stdout",
       "text": [
        "\n",
        "MB:01/2008\n",
        "MT:01/2008"
       ]
      },
      {
       "output_type": "stream",
       "stream": "stdout",
       "text": [
        "\n",
        "UC:01/2008\n",
        "BF:02/2008"
       ]
      },
      {
       "output_type": "stream",
       "stream": "stdout",
       "text": [
        "\n",
        "LM:02/2008\n",
        "WC:02/2008"
       ]
      },
      {
       "output_type": "stream",
       "stream": "stdout",
       "text": [
        "\n",
        "FV:02/2008"
       ]
      },
      {
       "output_type": "stream",
       "stream": "stdout",
       "text": [
        "\n",
        "BK:02/2008"
       ]
      },
      {
       "output_type": "stream",
       "stream": "stdout",
       "text": [
        "\n",
        "BP:02/2008"
       ]
      },
      {
       "output_type": "stream",
       "stream": "stdout",
       "text": [
        "\n",
        "WP:02/2008\n",
        "FM:02/2008"
       ]
      },
      {
       "output_type": "stream",
       "stream": "stdout",
       "text": [
        "\n",
        "24:02/2008"
       ]
      },
      {
       "output_type": "stream",
       "stream": "stdout",
       "text": [
        "\n",
        "RR:02/2008"
       ]
      },
      {
       "output_type": "stream",
       "stream": "stdout",
       "text": [
        "\n",
        "NB:02/2008"
       ]
      },
      {
       "output_type": "stream",
       "stream": "stdout",
       "text": [
        "\n",
        "NC:02/2008"
       ]
      },
      {
       "output_type": "stream",
       "stream": "stdout",
       "text": [
        "\n",
        "RM:02/2008"
       ]
      },
      {
       "output_type": "stream",
       "stream": "stdout",
       "text": [
        "\n",
        "CN:02/2008"
       ]
      },
      {
       "output_type": "stream",
       "stream": "stdout",
       "text": [
        "\n",
        "CM:02/2008"
       ]
      },
      {
       "output_type": "stream",
       "stream": "stdout",
       "text": [
        "\n",
        "CL:02/2008"
       ]
      },
      {
       "output_type": "stream",
       "stream": "stdout",
       "text": [
        "\n",
        "CC:02/2008\n",
        "CV:02/2008"
       ]
      },
      {
       "output_type": "stream",
       "stream": "stdout",
       "text": [
        "\n",
        "12:02/2008\n",
        "16:02/2008"
       ]
      },
      {
       "output_type": "stream",
       "stream": "stdout",
       "text": [
        "\n",
        "SS:02/2008\n",
        "19:02/2008"
       ]
      },
      {
       "output_type": "stream",
       "stream": "stdout",
       "text": [
        "\n",
        "SH:02/2008\n",
        "SO:02/2008"
       ]
      },
      {
       "output_type": "stream",
       "stream": "stdout",
       "text": [
        "\n",
        "SL:02/2008"
       ]
      },
      {
       "output_type": "stream",
       "stream": "stdout",
       "text": [
        "\n",
        "OW:02/2008"
       ]
      },
      {
       "output_type": "stream",
       "stream": "stdout",
       "text": [
        "\n",
        "SB:02/2008\n",
        "OR:02/2008"
       ]
      },
      {
       "output_type": "stream",
       "stream": "stdout",
       "text": [
        "\n",
        "HY:02/2008"
       ]
      },
      {
       "output_type": "stream",
       "stream": "stdout",
       "text": [
        "\n",
        "DC:02/2008"
       ]
      },
      {
       "output_type": "stream",
       "stream": "stdout",
       "text": [
        "\n",
        "LF:02/2008"
       ]
      },
      {
       "output_type": "stream",
       "stream": "stdout",
       "text": [
        "\n",
        "GP:02/2008"
       ]
      },
      {
       "output_type": "stream",
       "stream": "stdout",
       "text": [
        "\n",
        "PH:02/2008\n",
        "PL:02/2008"
       ]
      },
      {
       "output_type": "stream",
       "stream": "stdout",
       "text": [
        "\n",
        "EM:02/2008"
       ]
      },
      {
       "output_type": "stream",
       "stream": "stdout",
       "text": [
        "\n",
        "EN:02/2008\n",
        "ED:02/2008"
       ]
      },
      {
       "output_type": "stream",
       "stream": "stdout",
       "text": [
        "\n",
        "AS:02/2008\n",
        "EP:02/2008"
       ]
      },
      {
       "output_type": "stream",
       "stream": "stdout",
       "text": [
        "\n",
        "MA:02/2008\n",
        "MB:02/2008"
       ]
      },
      {
       "output_type": "stream",
       "stream": "stdout",
       "text": [
        "\n",
        "MT:02/2008"
       ]
      },
      {
       "output_type": "stream",
       "stream": "stdout",
       "text": [
        "\n",
        "UC:02/2008"
       ]
      },
      {
       "output_type": "stream",
       "stream": "stdout",
       "text": [
        "\n",
        "BF:03/2008"
       ]
      },
      {
       "output_type": "stream",
       "stream": "stdout",
       "text": [
        "\n",
        "LM:03/2008\n",
        "WC:03/2008"
       ]
      },
      {
       "output_type": "stream",
       "stream": "stdout",
       "text": [
        "\n",
        "FV:03/2008\n",
        "BK:03/2008"
       ]
      },
      {
       "output_type": "stream",
       "stream": "stdout",
       "text": [
        "\n",
        "BP:03/2008\n",
        "WP:03/2008"
       ]
      },
      {
       "output_type": "stream",
       "stream": "stdout",
       "text": [
        "\n",
        "FM:03/2008\n",
        "24:03/2008"
       ]
      },
      {
       "output_type": "stream",
       "stream": "stdout",
       "text": [
        "\n",
        "RR:03/2008\n",
        "NB:03/2008"
       ]
      },
      {
       "output_type": "stream",
       "stream": "stdout",
       "text": [
        "\n",
        "NC:03/2008\n",
        "RM:03/2008"
       ]
      },
      {
       "output_type": "stream",
       "stream": "stdout",
       "text": [
        "\n",
        "CN:03/2008\n",
        "CM:03/2008"
       ]
      },
      {
       "output_type": "stream",
       "stream": "stdout",
       "text": [
        "\n",
        "CL:03/2008\n",
        "CC:03/2008"
       ]
      },
      {
       "output_type": "stream",
       "stream": "stdout",
       "text": [
        "\n",
        "CV:03/2008\n",
        "12:03/2008"
       ]
      },
      {
       "output_type": "stream",
       "stream": "stdout",
       "text": [
        "\n",
        "16:03/2008\n",
        "SS:03/2008"
       ]
      },
      {
       "output_type": "stream",
       "stream": "stdout",
       "text": [
        "\n",
        "19:03/2008\n",
        "SH:03/2008"
       ]
      },
      {
       "output_type": "stream",
       "stream": "stdout",
       "text": [
        "\n",
        "SO:03/2008\n",
        "SL:03/2008"
       ]
      },
      {
       "output_type": "stream",
       "stream": "stdout",
       "text": [
        "\n",
        "OW:03/2008\n",
        "SB:03/2008"
       ]
      },
      {
       "output_type": "stream",
       "stream": "stdout",
       "text": [
        "\n",
        "OR:03/2008\n",
        "HY:03/2008"
       ]
      },
      {
       "output_type": "stream",
       "stream": "stdout",
       "text": [
        "\n",
        "DC:03/2008\n",
        "LF:03/2008"
       ]
      },
      {
       "output_type": "stream",
       "stream": "stdout",
       "text": [
        "\n",
        "GP:03/2008\n",
        "PH:03/2008"
       ]
      },
      {
       "output_type": "stream",
       "stream": "stdout",
       "text": [
        "\n",
        "PL:03/2008\n",
        "EM:03/2008"
       ]
      },
      {
       "output_type": "stream",
       "stream": "stdout",
       "text": [
        "\n",
        "EN:03/2008\n",
        "ED:03/2008"
       ]
      },
      {
       "output_type": "stream",
       "stream": "stdout",
       "text": [
        "\n",
        "AS:03/2008\n",
        "EP:03/2008"
       ]
      },
      {
       "output_type": "stream",
       "stream": "stdout",
       "text": [
        "\n",
        "MA:03/2008"
       ]
      },
      {
       "output_type": "stream",
       "stream": "stdout",
       "text": [
        "\n",
        "MB:03/2008\n",
        "MT:03/2008"
       ]
      },
      {
       "output_type": "stream",
       "stream": "stdout",
       "text": [
        "\n",
        "UC:03/2008"
       ]
      },
      {
       "output_type": "stream",
       "stream": "stdout",
       "text": [
        "\n",
        "BF:04/2008"
       ]
      },
      {
       "output_type": "stream",
       "stream": "stdout",
       "text": [
        "\n",
        "LM:04/2008\n",
        "WC:04/2008"
       ]
      },
      {
       "output_type": "stream",
       "stream": "stdout",
       "text": [
        "\n",
        "FV:04/2008\n",
        "BK:04/2008"
       ]
      },
      {
       "output_type": "stream",
       "stream": "stdout",
       "text": [
        "\n",
        "BP:04/2008\n",
        "WP:04/2008"
       ]
      },
      {
       "output_type": "stream",
       "stream": "stdout",
       "text": [
        "\n",
        "FM:04/2008\n",
        "24:04/2008"
       ]
      },
      {
       "output_type": "stream",
       "stream": "stdout",
       "text": [
        "\n",
        "RR:04/2008\n",
        "NB:04/2008"
       ]
      },
      {
       "output_type": "stream",
       "stream": "stdout",
       "text": [
        "\n",
        "NC:04/2008\n",
        "RM:04/2008"
       ]
      },
      {
       "output_type": "stream",
       "stream": "stdout",
       "text": [
        "\n",
        "CN:04/2008\n",
        "CM:04/2008"
       ]
      },
      {
       "output_type": "stream",
       "stream": "stdout",
       "text": [
        "\n",
        "CL:04/2008\n",
        "CC:04/2008"
       ]
      },
      {
       "output_type": "stream",
       "stream": "stdout",
       "text": [
        "\n",
        "CV:04/2008\n",
        "12:04/2008"
       ]
      },
      {
       "output_type": "stream",
       "stream": "stdout",
       "text": [
        "\n",
        "16:04/2008\n",
        "SS:04/2008"
       ]
      },
      {
       "output_type": "stream",
       "stream": "stdout",
       "text": [
        "\n",
        "19:04/2008"
       ]
      },
      {
       "output_type": "stream",
       "stream": "stdout",
       "text": [
        "\n",
        "SH:04/2008\n",
        "SO:04/2008"
       ]
      },
      {
       "output_type": "stream",
       "stream": "stdout",
       "text": [
        "\n",
        "SL:04/2008\n",
        "OW:04/2008"
       ]
      },
      {
       "output_type": "stream",
       "stream": "stdout",
       "text": [
        "\n",
        "SB:04/2008\n",
        "OR:04/2008"
       ]
      },
      {
       "output_type": "stream",
       "stream": "stdout",
       "text": [
        "\n",
        "HY:04/2008\n",
        "DC:04/2008"
       ]
      },
      {
       "output_type": "stream",
       "stream": "stdout",
       "text": [
        "\n",
        "LF:04/2008\n",
        "GP:04/2008"
       ]
      },
      {
       "output_type": "stream",
       "stream": "stdout",
       "text": [
        "\n",
        "PH:04/2008\n",
        "PL:04/2008"
       ]
      },
      {
       "output_type": "stream",
       "stream": "stdout",
       "text": [
        "\n",
        "EM:04/2008\n",
        "EN:04/2008"
       ]
      },
      {
       "output_type": "stream",
       "stream": "stdout",
       "text": [
        "\n",
        "ED:04/2008\n",
        "AS:04/2008"
       ]
      },
      {
       "output_type": "stream",
       "stream": "stdout",
       "text": [
        "\n",
        "EP:04/2008\n",
        "MA:04/2008"
       ]
      },
      {
       "output_type": "stream",
       "stream": "stdout",
       "text": [
        "\n",
        "MB:04/2008\n",
        "MT:04/2008"
       ]
      },
      {
       "output_type": "stream",
       "stream": "stdout",
       "text": [
        "\n",
        "UC:04/2008\n",
        "BF:05/2008"
       ]
      },
      {
       "output_type": "stream",
       "stream": "stdout",
       "text": [
        "\n",
        "LM:05/2008\n",
        "WC:05/2008"
       ]
      },
      {
       "output_type": "stream",
       "stream": "stdout",
       "text": [
        "\n",
        "FV:05/2008\n",
        "BK:05/2008"
       ]
      },
      {
       "output_type": "stream",
       "stream": "stdout",
       "text": [
        "\n",
        "BP:05/2008\n",
        "WP:05/2008"
       ]
      },
      {
       "output_type": "stream",
       "stream": "stdout",
       "text": [
        "\n",
        "FM:05/2008\n",
        "24:05/2008"
       ]
      },
      {
       "output_type": "stream",
       "stream": "stdout",
       "text": [
        "\n",
        "RR:05/2008\n",
        "NB:05/2008"
       ]
      },
      {
       "output_type": "stream",
       "stream": "stdout",
       "text": [
        "\n",
        "NC:05/2008\n",
        "RM:05/2008"
       ]
      },
      {
       "output_type": "stream",
       "stream": "stdout",
       "text": [
        "\n",
        "CN:05/2008\n",
        "CM:05/2008"
       ]
      },
      {
       "output_type": "stream",
       "stream": "stdout",
       "text": [
        "\n",
        "CL:05/2008\n",
        "CC:05/2008"
       ]
      },
      {
       "output_type": "stream",
       "stream": "stdout",
       "text": [
        "\n",
        "CV:05/2008\n",
        "12:05/2008"
       ]
      },
      {
       "output_type": "stream",
       "stream": "stdout",
       "text": [
        "\n",
        "16:05/2008\n",
        "SS:05/2008"
       ]
      },
      {
       "output_type": "stream",
       "stream": "stdout",
       "text": [
        "\n",
        "19:05/2008\n",
        "SH:05/2008"
       ]
      },
      {
       "output_type": "stream",
       "stream": "stdout",
       "text": [
        "\n",
        "SO:05/2008"
       ]
      },
      {
       "output_type": "stream",
       "stream": "stdout",
       "text": [
        "\n",
        "SL:05/2008\n",
        "OW:05/2008"
       ]
      },
      {
       "output_type": "stream",
       "stream": "stdout",
       "text": [
        "\n",
        "SB:05/2008\n",
        "OR:05/2008"
       ]
      },
      {
       "output_type": "stream",
       "stream": "stdout",
       "text": [
        "\n",
        "HY:05/2008\n",
        "DC:05/2008"
       ]
      },
      {
       "output_type": "stream",
       "stream": "stdout",
       "text": [
        "\n",
        "LF:05/2008\n",
        "GP:05/2008"
       ]
      },
      {
       "output_type": "stream",
       "stream": "stdout",
       "text": [
        "\n",
        "PH:05/2008\n",
        "PL:05/2008"
       ]
      },
      {
       "output_type": "stream",
       "stream": "stdout",
       "text": [
        "\n",
        "EM:05/2008\n",
        "EN:05/2008"
       ]
      },
      {
       "output_type": "stream",
       "stream": "stdout",
       "text": [
        "\n",
        "ED:05/2008\n",
        "AS:05/2008"
       ]
      },
      {
       "output_type": "stream",
       "stream": "stdout",
       "text": [
        "\n",
        "EP:05/2008\n",
        "MA:05/2008"
       ]
      },
      {
       "output_type": "stream",
       "stream": "stdout",
       "text": [
        "\n",
        "MB:05/2008\n",
        "MT:05/2008"
       ]
      },
      {
       "output_type": "stream",
       "stream": "stdout",
       "text": [
        "\n",
        "UC:05/2008\n",
        "BF:06/2008"
       ]
      },
      {
       "output_type": "stream",
       "stream": "stdout",
       "text": [
        "\n",
        "LM:06/2008\n",
        "WC:06/2008"
       ]
      },
      {
       "output_type": "stream",
       "stream": "stdout",
       "text": [
        "\n",
        "FV:06/2008\n",
        "BK:06/2008"
       ]
      },
      {
       "output_type": "stream",
       "stream": "stdout",
       "text": [
        "\n",
        "BP:06/2008\n",
        "WP:06/2008"
       ]
      },
      {
       "output_type": "stream",
       "stream": "stdout",
       "text": [
        "\n",
        "FM:06/2008\n",
        "24:06/2008"
       ]
      },
      {
       "output_type": "stream",
       "stream": "stdout",
       "text": [
        "\n",
        "RR:06/2008"
       ]
      },
      {
       "output_type": "stream",
       "stream": "stdout",
       "text": [
        "\n",
        "NB:06/2008\n",
        "NC:06/2008"
       ]
      },
      {
       "output_type": "stream",
       "stream": "stdout",
       "text": [
        "\n",
        "RM:06/2008\n",
        "CN:06/2008"
       ]
      },
      {
       "output_type": "stream",
       "stream": "stdout",
       "text": [
        "\n",
        "CM:06/2008\n",
        "CL:06/2008"
       ]
      },
      {
       "output_type": "stream",
       "stream": "stdout",
       "text": [
        "\n",
        "CC:06/2008\n",
        "CV:06/2008"
       ]
      },
      {
       "output_type": "stream",
       "stream": "stdout",
       "text": [
        "\n",
        "12:06/2008\n",
        "16:06/2008"
       ]
      },
      {
       "output_type": "stream",
       "stream": "stdout",
       "text": [
        "\n",
        "SS:06/2008\n",
        "19:06/2008"
       ]
      },
      {
       "output_type": "stream",
       "stream": "stdout",
       "text": [
        "\n",
        "SH:06/2008"
       ]
      },
      {
       "output_type": "stream",
       "stream": "stdout",
       "text": [
        "\n",
        "SO:06/2008\n",
        "SL:06/2008"
       ]
      },
      {
       "output_type": "stream",
       "stream": "stdout",
       "text": [
        "\n",
        "OW:06/2008\n",
        "SB:06/2008"
       ]
      },
      {
       "output_type": "stream",
       "stream": "stdout",
       "text": [
        "\n",
        "OR:06/2008\n",
        "HY:06/2008"
       ]
      },
      {
       "output_type": "stream",
       "stream": "stdout",
       "text": [
        "\n",
        "DC:06/2008\n",
        "LF:06/2008"
       ]
      },
      {
       "output_type": "stream",
       "stream": "stdout",
       "text": [
        "\n",
        "GP:06/2008\n",
        "PH:06/2008"
       ]
      },
      {
       "output_type": "stream",
       "stream": "stdout",
       "text": [
        "\n",
        "PL:06/2008\n",
        "EM:06/2008"
       ]
      },
      {
       "output_type": "stream",
       "stream": "stdout",
       "text": [
        "\n",
        "EN:06/2008\n",
        "ED:06/2008"
       ]
      },
      {
       "output_type": "stream",
       "stream": "stdout",
       "text": [
        "\n",
        "AS:06/2008\n",
        "EP:06/2008"
       ]
      },
      {
       "output_type": "stream",
       "stream": "stdout",
       "text": [
        "\n",
        "MA:06/2008\n",
        "MB:06/2008"
       ]
      },
      {
       "output_type": "stream",
       "stream": "stdout",
       "text": [
        "\n",
        "MT:06/2008\n",
        "UC:06/2008"
       ]
      },
      {
       "output_type": "stream",
       "stream": "stdout",
       "text": [
        "\n",
        "BF:07/2008"
       ]
      },
      {
       "output_type": "stream",
       "stream": "stdout",
       "text": [
        "\n",
        "LM:07/2008\n",
        "WC:07/2008"
       ]
      },
      {
       "output_type": "stream",
       "stream": "stdout",
       "text": [
        "\n",
        "FV:07/2008\n",
        "BK:07/2008"
       ]
      },
      {
       "output_type": "stream",
       "stream": "stdout",
       "text": [
        "\n",
        "BP:07/2008\n",
        "WP:07/2008"
       ]
      },
      {
       "output_type": "stream",
       "stream": "stdout",
       "text": [
        "\n",
        "FM:07/2008\n",
        "24:07/2008"
       ]
      },
      {
       "output_type": "stream",
       "stream": "stdout",
       "text": [
        "\n",
        "RR:07/2008\n",
        "NB:07/2008"
       ]
      },
      {
       "output_type": "stream",
       "stream": "stdout",
       "text": [
        "\n",
        "NC:07/2008\n",
        "RM:07/2008"
       ]
      },
      {
       "output_type": "stream",
       "stream": "stdout",
       "text": [
        "\n",
        "CN:07/2008"
       ]
      },
      {
       "output_type": "stream",
       "stream": "stdout",
       "text": [
        "\n",
        "CM:07/2008\n",
        "CL:07/2008"
       ]
      },
      {
       "output_type": "stream",
       "stream": "stdout",
       "text": [
        "\n",
        "CC:07/2008\n",
        "CV:07/2008"
       ]
      },
      {
       "output_type": "stream",
       "stream": "stdout",
       "text": [
        "\n",
        "12:07/2008\n",
        "16:07/2008"
       ]
      },
      {
       "output_type": "stream",
       "stream": "stdout",
       "text": [
        "\n",
        "SS:07/2008\n",
        "19:07/2008"
       ]
      },
      {
       "output_type": "stream",
       "stream": "stdout",
       "text": [
        "\n",
        "SH:07/2008\n",
        "SO:07/2008"
       ]
      },
      {
       "output_type": "stream",
       "stream": "stdout",
       "text": [
        "\n",
        "SL:07/2008\n",
        "OW:07/2008"
       ]
      },
      {
       "output_type": "stream",
       "stream": "stdout",
       "text": [
        "\n",
        "SB:07/2008\n",
        "OR:07/2008"
       ]
      },
      {
       "output_type": "stream",
       "stream": "stdout",
       "text": [
        "\n",
        "HY:07/2008"
       ]
      },
      {
       "output_type": "stream",
       "stream": "stdout",
       "text": [
        "\n",
        "DC:07/2008\n",
        "LF:07/2008"
       ]
      },
      {
       "output_type": "stream",
       "stream": "stdout",
       "text": [
        "\n",
        "GP:07/2008\n",
        "PH:07/2008"
       ]
      },
      {
       "output_type": "stream",
       "stream": "stdout",
       "text": [
        "\n",
        "PL:07/2008\n",
        "EM:07/2008"
       ]
      },
      {
       "output_type": "stream",
       "stream": "stdout",
       "text": [
        "\n",
        "EN:07/2008\n",
        "ED:07/2008"
       ]
      },
      {
       "output_type": "stream",
       "stream": "stdout",
       "text": [
        "\n",
        "AS:07/2008\n",
        "EP:07/2008"
       ]
      },
      {
       "output_type": "stream",
       "stream": "stdout",
       "text": [
        "\n",
        "MA:07/2008"
       ]
      },
      {
       "output_type": "stream",
       "stream": "stdout",
       "text": [
        "\n",
        "MB:07/2008\n",
        "MT:07/2008"
       ]
      },
      {
       "output_type": "stream",
       "stream": "stdout",
       "text": [
        "\n",
        "UC:07/2008"
       ]
      },
      {
       "output_type": "stream",
       "stream": "stdout",
       "text": [
        "\n",
        "BF:08/2008"
       ]
      },
      {
       "output_type": "stream",
       "stream": "stdout",
       "text": [
        "\n",
        "LM:08/2008\n",
        "WC:08/2008"
       ]
      },
      {
       "output_type": "stream",
       "stream": "stdout",
       "text": [
        "\n",
        "FV:08/2008\n",
        "BK:08/2008"
       ]
      },
      {
       "output_type": "stream",
       "stream": "stdout",
       "text": [
        "\n",
        "BP:08/2008\n",
        "WP:08/2008"
       ]
      },
      {
       "output_type": "stream",
       "stream": "stdout",
       "text": [
        "\n",
        "FM:08/2008\n",
        "24:08/2008"
       ]
      },
      {
       "output_type": "stream",
       "stream": "stdout",
       "text": [
        "\n",
        "RR:08/2008\n",
        "NB:08/2008"
       ]
      },
      {
       "output_type": "stream",
       "stream": "stdout",
       "text": [
        "\n",
        "NC:08/2008\n",
        "RM:08/2008"
       ]
      },
      {
       "output_type": "stream",
       "stream": "stdout",
       "text": [
        "\n",
        "CN:08/2008\n",
        "CM:08/2008"
       ]
      },
      {
       "output_type": "stream",
       "stream": "stdout",
       "text": [
        "\n",
        "CL:08/2008\n",
        "CC:08/2008"
       ]
      },
      {
       "output_type": "stream",
       "stream": "stdout",
       "text": [
        "\n",
        "CV:08/2008\n",
        "12:08/2008"
       ]
      },
      {
       "output_type": "stream",
       "stream": "stdout",
       "text": [
        "\n",
        "16:08/2008\n",
        "SS:08/2008"
       ]
      },
      {
       "output_type": "stream",
       "stream": "stdout",
       "text": [
        "\n",
        "19:08/2008"
       ]
      },
      {
       "output_type": "stream",
       "stream": "stdout",
       "text": [
        "\n",
        "SH:08/2008\n",
        "SO:08/2008"
       ]
      },
      {
       "output_type": "stream",
       "stream": "stdout",
       "text": [
        "\n",
        "SL:08/2008"
       ]
      },
      {
       "output_type": "stream",
       "stream": "stdout",
       "text": [
        "\n",
        "OW:08/2008\n",
        "SB:08/2008"
       ]
      },
      {
       "output_type": "stream",
       "stream": "stdout",
       "text": [
        "\n",
        "OR:08/2008\n",
        "HY:08/2008"
       ]
      },
      {
       "output_type": "stream",
       "stream": "stdout",
       "text": [
        "\n",
        "DC:08/2008\n",
        "LF:08/2008"
       ]
      },
      {
       "output_type": "stream",
       "stream": "stdout",
       "text": [
        "\n",
        "GP:08/2008\n",
        "PH:08/2008"
       ]
      },
      {
       "output_type": "stream",
       "stream": "stdout",
       "text": [
        "\n",
        "PL:08/2008\n",
        "EM:08/2008"
       ]
      },
      {
       "output_type": "stream",
       "stream": "stdout",
       "text": [
        "\n",
        "EN:08/2008\n",
        "ED:08/2008"
       ]
      },
      {
       "output_type": "stream",
       "stream": "stdout",
       "text": [
        "\n",
        "AS:08/2008\n",
        "EP:08/2008"
       ]
      },
      {
       "output_type": "stream",
       "stream": "stdout",
       "text": [
        "\n",
        "MA:08/2008\n",
        "MB:08/2008"
       ]
      },
      {
       "output_type": "stream",
       "stream": "stdout",
       "text": [
        "\n",
        "MT:08/2008\n",
        "UC:08/2008"
       ]
      },
      {
       "output_type": "stream",
       "stream": "stdout",
       "text": [
        "\n",
        "BF:09/2008"
       ]
      },
      {
       "output_type": "stream",
       "stream": "stdout",
       "text": [
        "\n",
        "LM:09/2008\n",
        "WC:09/2008"
       ]
      },
      {
       "output_type": "stream",
       "stream": "stdout",
       "text": [
        "\n",
        "FV:09/2008\n",
        "BK:09/2008"
       ]
      },
      {
       "output_type": "stream",
       "stream": "stdout",
       "text": [
        "\n",
        "BP:09/2008\n",
        "WP:09/2008"
       ]
      },
      {
       "output_type": "stream",
       "stream": "stdout",
       "text": [
        "\n",
        "FM:09/2008\n",
        "24:09/2008"
       ]
      },
      {
       "output_type": "stream",
       "stream": "stdout",
       "text": [
        "\n",
        "RR:09/2008\n",
        "NB:09/2008"
       ]
      },
      {
       "output_type": "stream",
       "stream": "stdout",
       "text": [
        "\n",
        "NC:09/2008"
       ]
      },
      {
       "output_type": "stream",
       "stream": "stdout",
       "text": [
        "\n",
        "RM:09/2008\n",
        "CN:09/2008"
       ]
      },
      {
       "output_type": "stream",
       "stream": "stdout",
       "text": [
        "\n",
        "CM:09/2008\n",
        "CL:09/2008"
       ]
      },
      {
       "output_type": "stream",
       "stream": "stdout",
       "text": [
        "\n",
        "CC:09/2008\n",
        "CV:09/2008"
       ]
      },
      {
       "output_type": "stream",
       "stream": "stdout",
       "text": [
        "\n",
        "12:09/2008\n",
        "16:09/2008"
       ]
      },
      {
       "output_type": "stream",
       "stream": "stdout",
       "text": [
        "\n",
        "SS:09/2008\n",
        "19:09/2008"
       ]
      },
      {
       "output_type": "stream",
       "stream": "stdout",
       "text": [
        "\n",
        "SH:09/2008\n",
        "SO:09/2008"
       ]
      },
      {
       "output_type": "stream",
       "stream": "stdout",
       "text": [
        "\n",
        "SL:09/2008\n",
        "OW:09/2008"
       ]
      },
      {
       "output_type": "stream",
       "stream": "stdout",
       "text": [
        "\n",
        "SB:09/2008\n",
        "OR:09/2008"
       ]
      },
      {
       "output_type": "stream",
       "stream": "stdout",
       "text": [
        "\n",
        "HY:09/2008\n",
        "DC:09/2008"
       ]
      },
      {
       "output_type": "stream",
       "stream": "stdout",
       "text": [
        "\n",
        "LF:09/2008\n",
        "GP:09/2008"
       ]
      },
      {
       "output_type": "stream",
       "stream": "stdout",
       "text": [
        "\n",
        "PH:09/2008\n",
        "PL:09/2008"
       ]
      },
      {
       "output_type": "stream",
       "stream": "stdout",
       "text": [
        "\n",
        "EM:09/2008\n",
        "EN:09/2008"
       ]
      },
      {
       "output_type": "stream",
       "stream": "stdout",
       "text": [
        "\n",
        "ED:09/2008\n",
        "AS:09/2008"
       ]
      },
      {
       "output_type": "stream",
       "stream": "stdout",
       "text": [
        "\n",
        "EP:09/2008"
       ]
      },
      {
       "output_type": "stream",
       "stream": "stdout",
       "text": [
        "\n",
        "MA:09/2008"
       ]
      },
      {
       "output_type": "stream",
       "stream": "stdout",
       "text": [
        "\n",
        "MB:09/2008\n",
        "MT:09/2008"
       ]
      },
      {
       "output_type": "stream",
       "stream": "stdout",
       "text": [
        "\n",
        "UC:09/2008\n",
        "BF:10/2008"
       ]
      },
      {
       "output_type": "stream",
       "stream": "stdout",
       "text": [
        "\n",
        "LM:10/2008\n",
        "WC:10/2008"
       ]
      },
      {
       "output_type": "stream",
       "stream": "stdout",
       "text": [
        "\n",
        "FV:10/2008\n",
        "BK:10/2008"
       ]
      },
      {
       "output_type": "stream",
       "stream": "stdout",
       "text": [
        "\n",
        "BP:10/2008\n",
        "WP:10/2008"
       ]
      },
      {
       "output_type": "stream",
       "stream": "stdout",
       "text": [
        "\n",
        "FM:10/2008\n",
        "24:10/2008"
       ]
      },
      {
       "output_type": "stream",
       "stream": "stdout",
       "text": [
        "\n",
        "RR:10/2008\n",
        "NB:10/2008"
       ]
      },
      {
       "output_type": "stream",
       "stream": "stdout",
       "text": [
        "\n",
        "NC:10/2008"
       ]
      },
      {
       "output_type": "stream",
       "stream": "stdout",
       "text": [
        "\n",
        "RM:10/2008\n",
        "CN:10/2008"
       ]
      },
      {
       "output_type": "stream",
       "stream": "stdout",
       "text": [
        "\n",
        "CM:10/2008\n",
        "CL:10/2008"
       ]
      },
      {
       "output_type": "stream",
       "stream": "stdout",
       "text": [
        "\n",
        "CC:10/2008"
       ]
      },
      {
       "output_type": "stream",
       "stream": "stdout",
       "text": [
        "\n",
        "CV:10/2008\n",
        "12:10/2008"
       ]
      },
      {
       "output_type": "stream",
       "stream": "stdout",
       "text": [
        "\n",
        "16:10/2008"
       ]
      },
      {
       "output_type": "stream",
       "stream": "stdout",
       "text": [
        "\n",
        "SS:10/2008"
       ]
      },
      {
       "output_type": "stream",
       "stream": "stdout",
       "text": [
        "\n",
        "19:10/2008"
       ]
      },
      {
       "output_type": "stream",
       "stream": "stdout",
       "text": [
        "\n",
        "SH:10/2008"
       ]
      },
      {
       "output_type": "stream",
       "stream": "stdout",
       "text": [
        "\n",
        "SO:10/2008"
       ]
      },
      {
       "output_type": "stream",
       "stream": "stdout",
       "text": [
        "\n",
        "SL:10/2008"
       ]
      },
      {
       "output_type": "stream",
       "stream": "stdout",
       "text": [
        "\n",
        "OW:10/2008"
       ]
      },
      {
       "output_type": "stream",
       "stream": "stdout",
       "text": [
        "\n",
        "SB:10/2008"
       ]
      },
      {
       "output_type": "stream",
       "stream": "stdout",
       "text": [
        "\n",
        "OR:10/2008\n",
        "HY:10/2008"
       ]
      },
      {
       "output_type": "stream",
       "stream": "stdout",
       "text": [
        "\n",
        "DC:10/2008\n",
        "LF:10/2008"
       ]
      },
      {
       "output_type": "stream",
       "stream": "stdout",
       "text": [
        "\n",
        "GP:10/2008\n",
        "PH:10/2008"
       ]
      },
      {
       "output_type": "stream",
       "stream": "stdout",
       "text": [
        "\n",
        "PL:10/2008\n",
        "EM:10/2008"
       ]
      },
      {
       "output_type": "stream",
       "stream": "stdout",
       "text": [
        "\n",
        "EN:10/2008"
       ]
      },
      {
       "output_type": "stream",
       "stream": "stdout",
       "text": [
        "\n",
        "ED:10/2008"
       ]
      },
      {
       "output_type": "stream",
       "stream": "stdout",
       "text": [
        "\n",
        "AS:10/2008"
       ]
      },
      {
       "output_type": "stream",
       "stream": "stdout",
       "text": [
        "\n",
        "EP:10/2008"
       ]
      },
      {
       "output_type": "stream",
       "stream": "stdout",
       "text": [
        "\n",
        "MA:10/2008"
       ]
      },
      {
       "output_type": "stream",
       "stream": "stdout",
       "text": [
        "\n",
        "MB:10/2008\n",
        "MT:10/2008"
       ]
      },
      {
       "output_type": "stream",
       "stream": "stdout",
       "text": [
        "\n",
        "UC:10/2008"
       ]
      },
      {
       "output_type": "stream",
       "stream": "stdout",
       "text": [
        "\n",
        "BF:11/2008"
       ]
      },
      {
       "output_type": "stream",
       "stream": "stdout",
       "text": [
        "\n",
        "LM:11/2008"
       ]
      },
      {
       "output_type": "stream",
       "stream": "stdout",
       "text": [
        "\n",
        "WC:11/2008"
       ]
      },
      {
       "output_type": "stream",
       "stream": "stdout",
       "text": [
        "\n",
        "FV:11/2008"
       ]
      },
      {
       "output_type": "stream",
       "stream": "stdout",
       "text": [
        "\n",
        "BK:11/2008"
       ]
      },
      {
       "output_type": "stream",
       "stream": "stdout",
       "text": [
        "\n",
        "BP:11/2008\n",
        "WP:11/2008"
       ]
      },
      {
       "output_type": "stream",
       "stream": "stdout",
       "text": [
        "\n",
        "FM:11/2008\n",
        "24:11/2008"
       ]
      },
      {
       "output_type": "stream",
       "stream": "stdout",
       "text": [
        "\n",
        "RR:11/2008"
       ]
      },
      {
       "output_type": "stream",
       "stream": "stdout",
       "text": [
        "\n",
        "NB:11/2008"
       ]
      },
      {
       "output_type": "stream",
       "stream": "stdout",
       "text": [
        "\n",
        "NC:11/2008"
       ]
      },
      {
       "output_type": "stream",
       "stream": "stdout",
       "text": [
        "\n",
        "RM:11/2008"
       ]
      },
      {
       "output_type": "stream",
       "stream": "stdout",
       "text": [
        "\n",
        "CN:11/2008"
       ]
      },
      {
       "output_type": "stream",
       "stream": "stdout",
       "text": [
        "\n",
        "CM:11/2008"
       ]
      },
      {
       "output_type": "stream",
       "stream": "stdout",
       "text": [
        "\n",
        "CL:11/2008"
       ]
      },
      {
       "output_type": "stream",
       "stream": "stdout",
       "text": [
        "\n",
        "CC:11/2008"
       ]
      },
      {
       "output_type": "stream",
       "stream": "stdout",
       "text": [
        "\n",
        "CV:11/2008\n",
        "12:11/2008"
       ]
      },
      {
       "output_type": "stream",
       "stream": "stdout",
       "text": [
        "\n",
        "16:11/2008"
       ]
      },
      {
       "output_type": "stream",
       "stream": "stdout",
       "text": [
        "\n",
        "SS:11/2008\n",
        "19:11/2008"
       ]
      },
      {
       "output_type": "stream",
       "stream": "stdout",
       "text": [
        "\n",
        "SH:11/2008\n",
        "SO:11/2008"
       ]
      },
      {
       "output_type": "stream",
       "stream": "stdout",
       "text": [
        "\n",
        "SL:11/2008"
       ]
      },
      {
       "output_type": "stream",
       "stream": "stdout",
       "text": [
        "\n",
        "OW:11/2008\n",
        "SB:11/2008"
       ]
      },
      {
       "output_type": "stream",
       "stream": "stdout",
       "text": [
        "\n",
        "OR:11/2008\n",
        "HY:11/2008"
       ]
      },
      {
       "output_type": "stream",
       "stream": "stdout",
       "text": [
        "\n",
        "DC:11/2008\n",
        "LF:11/2008"
       ]
      },
      {
       "output_type": "stream",
       "stream": "stdout",
       "text": [
        "\n",
        "GP:11/2008\n",
        "PH:11/2008"
       ]
      },
      {
       "output_type": "stream",
       "stream": "stdout",
       "text": [
        "\n",
        "PL:11/2008\n",
        "EM:11/2008"
       ]
      },
      {
       "output_type": "stream",
       "stream": "stdout",
       "text": [
        "\n",
        "EN:11/2008"
       ]
      },
      {
       "output_type": "stream",
       "stream": "stdout",
       "text": [
        "\n",
        "ED:11/2008\n",
        "AS:11/2008"
       ]
      },
      {
       "output_type": "stream",
       "stream": "stdout",
       "text": [
        "\n",
        "EP:11/2008\n",
        "MA:11/2008"
       ]
      },
      {
       "output_type": "stream",
       "stream": "stdout",
       "text": [
        "\n",
        "MB:11/2008\n",
        "MT:11/2008"
       ]
      },
      {
       "output_type": "stream",
       "stream": "stdout",
       "text": [
        "\n",
        "UC:11/2008"
       ]
      },
      {
       "output_type": "stream",
       "stream": "stdout",
       "text": [
        "\n",
        "BF:12/2008"
       ]
      },
      {
       "output_type": "stream",
       "stream": "stdout",
       "text": [
        "\n",
        "LM:12/2008\n",
        "WC:12/2008"
       ]
      },
      {
       "output_type": "stream",
       "stream": "stdout",
       "text": [
        "\n",
        "FV:12/2008"
       ]
      },
      {
       "output_type": "stream",
       "stream": "stdout",
       "text": [
        "\n",
        "BK:12/2008"
       ]
      },
      {
       "output_type": "stream",
       "stream": "stdout",
       "text": [
        "\n",
        "BP:12/2008"
       ]
      },
      {
       "output_type": "stream",
       "stream": "stdout",
       "text": [
        "\n",
        "WP:12/2008\n",
        "FM:12/2008"
       ]
      },
      {
       "output_type": "stream",
       "stream": "stdout",
       "text": [
        "\n",
        "24:12/2008\n",
        "RR:12/2008"
       ]
      },
      {
       "output_type": "stream",
       "stream": "stdout",
       "text": [
        "\n",
        "NB:12/2008\n",
        "NC:12/2008"
       ]
      },
      {
       "output_type": "stream",
       "stream": "stdout",
       "text": [
        "\n",
        "RM:12/2008"
       ]
      },
      {
       "output_type": "stream",
       "stream": "stdout",
       "text": [
        "\n",
        "CN:12/2008"
       ]
      },
      {
       "output_type": "stream",
       "stream": "stdout",
       "text": [
        "\n",
        "CM:12/2008\n",
        "CL:12/2008"
       ]
      },
      {
       "output_type": "stream",
       "stream": "stdout",
       "text": [
        "\n",
        "CC:12/2008"
       ]
      },
      {
       "output_type": "stream",
       "stream": "stdout",
       "text": [
        "\n",
        "CV:12/2008\n",
        "12:12/2008"
       ]
      },
      {
       "output_type": "stream",
       "stream": "stdout",
       "text": [
        "\n",
        "16:12/2008\n",
        "SS:12/2008"
       ]
      },
      {
       "output_type": "stream",
       "stream": "stdout",
       "text": [
        "\n",
        "19:12/2008\n",
        "SH:12/2008"
       ]
      },
      {
       "output_type": "stream",
       "stream": "stdout",
       "text": [
        "\n",
        "SO:12/2008\n",
        "SL:12/2008"
       ]
      },
      {
       "output_type": "stream",
       "stream": "stdout",
       "text": [
        "\n",
        "OW:12/2008\n",
        "SB:12/2008"
       ]
      },
      {
       "output_type": "stream",
       "stream": "stdout",
       "text": [
        "\n",
        "OR:12/2008\n",
        "HY:12/2008"
       ]
      },
      {
       "output_type": "stream",
       "stream": "stdout",
       "text": [
        "\n",
        "DC:12/2008"
       ]
      },
      {
       "output_type": "stream",
       "stream": "stdout",
       "text": [
        "\n",
        "LF:12/2008\n",
        "GP:12/2008"
       ]
      },
      {
       "output_type": "stream",
       "stream": "stdout",
       "text": [
        "\n",
        "PH:12/2008\n",
        "PL:12/2008"
       ]
      },
      {
       "output_type": "stream",
       "stream": "stdout",
       "text": [
        "\n",
        "EM:12/2008\n",
        "EN:12/2008"
       ]
      },
      {
       "output_type": "stream",
       "stream": "stdout",
       "text": [
        "\n",
        "ED:12/2008\n",
        "AS:12/2008"
       ]
      },
      {
       "output_type": "stream",
       "stream": "stdout",
       "text": [
        "\n",
        "EP:12/2008\n",
        "MA:12/2008"
       ]
      },
      {
       "output_type": "stream",
       "stream": "stdout",
       "text": [
        "\n",
        "MB:12/2008\n",
        "MT:12/2008"
       ]
      },
      {
       "output_type": "stream",
       "stream": "stdout",
       "text": [
        "\n",
        "UC:12/2008\n",
        "BF:01/2009"
       ]
      },
      {
       "output_type": "stream",
       "stream": "stdout",
       "text": [
        "\n",
        "LM:01/2009\n",
        "WC:01/2009"
       ]
      },
      {
       "output_type": "stream",
       "stream": "stdout",
       "text": [
        "\n",
        "FV:01/2009\n",
        "BK:01/2009"
       ]
      },
      {
       "output_type": "stream",
       "stream": "stdout",
       "text": [
        "\n",
        "BP:01/2009\n",
        "WP:01/2009"
       ]
      },
      {
       "output_type": "stream",
       "stream": "stdout",
       "text": [
        "\n",
        "FM:01/2009\n",
        "24:01/2009"
       ]
      },
      {
       "output_type": "stream",
       "stream": "stdout",
       "text": [
        "\n",
        "RR:01/2009\n",
        "NB:01/2009"
       ]
      },
      {
       "output_type": "stream",
       "stream": "stdout",
       "text": [
        "\n",
        "NC:01/2009\n",
        "RM:01/2009"
       ]
      },
      {
       "output_type": "stream",
       "stream": "stdout",
       "text": [
        "\n",
        "CN:01/2009\n",
        "CM:01/2009"
       ]
      },
      {
       "output_type": "stream",
       "stream": "stdout",
       "text": [
        "\n",
        "CL:01/2009\n",
        "CC:01/2009"
       ]
      },
      {
       "output_type": "stream",
       "stream": "stdout",
       "text": [
        "\n",
        "CV:01/2009\n",
        "12:01/2009"
       ]
      },
      {
       "output_type": "stream",
       "stream": "stdout",
       "text": [
        "\n",
        "16:01/2009\n",
        "SS:01/2009"
       ]
      },
      {
       "output_type": "stream",
       "stream": "stdout",
       "text": [
        "\n",
        "19:01/2009\n",
        "SH:01/2009"
       ]
      },
      {
       "output_type": "stream",
       "stream": "stdout",
       "text": [
        "\n",
        "SO:01/2009\n",
        "SL:01/2009"
       ]
      },
      {
       "output_type": "stream",
       "stream": "stdout",
       "text": [
        "\n",
        "OW:01/2009\n",
        "SB:01/2009"
       ]
      },
      {
       "output_type": "stream",
       "stream": "stdout",
       "text": [
        "\n",
        "OR:01/2009\n",
        "HY:01/2009"
       ]
      },
      {
       "output_type": "stream",
       "stream": "stdout",
       "text": [
        "\n",
        "DC:01/2009\n",
        "LF:01/2009"
       ]
      },
      {
       "output_type": "stream",
       "stream": "stdout",
       "text": [
        "\n",
        "GP:01/2009\n",
        "PH:01/2009"
       ]
      },
      {
       "output_type": "stream",
       "stream": "stdout",
       "text": [
        "\n",
        "PL:01/2009\n",
        "EM:01/2009"
       ]
      },
      {
       "output_type": "stream",
       "stream": "stdout",
       "text": [
        "\n",
        "EN:01/2009\n",
        "ED:01/2009"
       ]
      },
      {
       "output_type": "stream",
       "stream": "stdout",
       "text": [
        "\n",
        "AS:01/2009\n",
        "EP:01/2009"
       ]
      },
      {
       "output_type": "stream",
       "stream": "stdout",
       "text": [
        "\n",
        "MA:01/2009"
       ]
      },
      {
       "output_type": "stream",
       "stream": "stdout",
       "text": [
        "\n",
        "MB:01/2009\n",
        "MT:01/2009"
       ]
      },
      {
       "output_type": "stream",
       "stream": "stdout",
       "text": [
        "\n",
        "UC:01/2009\n",
        "BF:02/2009"
       ]
      },
      {
       "output_type": "stream",
       "stream": "stdout",
       "text": [
        "\n",
        "LM:02/2009\n",
        "WC:02/2009"
       ]
      },
      {
       "output_type": "stream",
       "stream": "stdout",
       "text": [
        "\n",
        "FV:02/2009\n",
        "BK:02/2009"
       ]
      },
      {
       "output_type": "stream",
       "stream": "stdout",
       "text": [
        "\n",
        "BP:02/2009\n",
        "WP:02/2009"
       ]
      },
      {
       "output_type": "stream",
       "stream": "stdout",
       "text": [
        "\n",
        "FM:02/2009"
       ]
      },
      {
       "output_type": "stream",
       "stream": "stdout",
       "text": [
        "\n",
        "24:02/2009\n",
        "RR:02/2009"
       ]
      },
      {
       "output_type": "stream",
       "stream": "stdout",
       "text": [
        "\n",
        "NB:02/2009\n",
        "NC:02/2009"
       ]
      },
      {
       "output_type": "stream",
       "stream": "stdout",
       "text": [
        "\n",
        "RM:02/2009\n",
        "CN:02/2009"
       ]
      },
      {
       "output_type": "stream",
       "stream": "stdout",
       "text": [
        "\n",
        "CM:02/2009\n",
        "CL:02/2009"
       ]
      },
      {
       "output_type": "stream",
       "stream": "stdout",
       "text": [
        "\n",
        "CC:02/2009\n",
        "CV:02/2009"
       ]
      },
      {
       "output_type": "stream",
       "stream": "stdout",
       "text": [
        "\n",
        "12:02/2009\n",
        "16:02/2009"
       ]
      },
      {
       "output_type": "stream",
       "stream": "stdout",
       "text": [
        "\n",
        "SS:02/2009\n",
        "19:02/2009"
       ]
      },
      {
       "output_type": "stream",
       "stream": "stdout",
       "text": [
        "\n",
        "SH:02/2009"
       ]
      },
      {
       "output_type": "stream",
       "stream": "stdout",
       "text": [
        "\n",
        "SO:02/2009\n",
        "SL:02/2009"
       ]
      },
      {
       "output_type": "stream",
       "stream": "stdout",
       "text": [
        "\n",
        "OW:02/2009"
       ]
      },
      {
       "output_type": "stream",
       "stream": "stdout",
       "text": [
        "\n",
        "SB:02/2009\n",
        "OR:02/2009"
       ]
      },
      {
       "output_type": "stream",
       "stream": "stdout",
       "text": [
        "\n",
        "HY:02/2009\n",
        "DC:02/2009"
       ]
      },
      {
       "output_type": "stream",
       "stream": "stdout",
       "text": [
        "\n",
        "LF:02/2009\n",
        "GP:02/2009"
       ]
      },
      {
       "output_type": "stream",
       "stream": "stdout",
       "text": [
        "\n",
        "PH:02/2009\n",
        "PL:02/2009"
       ]
      },
      {
       "output_type": "stream",
       "stream": "stdout",
       "text": [
        "\n",
        "EM:02/2009\n",
        "EN:02/2009"
       ]
      },
      {
       "output_type": "stream",
       "stream": "stdout",
       "text": [
        "\n",
        "ED:02/2009\n",
        "AS:02/2009"
       ]
      },
      {
       "output_type": "stream",
       "stream": "stdout",
       "text": [
        "\n",
        "EP:02/2009\n",
        "MA:02/2009"
       ]
      },
      {
       "output_type": "stream",
       "stream": "stdout",
       "text": [
        "\n",
        "MB:02/2009\n",
        "MT:02/2009"
       ]
      },
      {
       "output_type": "stream",
       "stream": "stdout",
       "text": [
        "\n",
        "UC:02/2009\n",
        "BF:03/2009"
       ]
      },
      {
       "output_type": "stream",
       "stream": "stdout",
       "text": [
        "\n",
        "LM:03/2009\n",
        "WC:03/2009"
       ]
      },
      {
       "output_type": "stream",
       "stream": "stdout",
       "text": [
        "\n",
        "FV:03/2009\n",
        "BK:03/2009"
       ]
      },
      {
       "output_type": "stream",
       "stream": "stdout",
       "text": [
        "\n",
        "BP:03/2009\n",
        "WP:03/2009"
       ]
      },
      {
       "output_type": "stream",
       "stream": "stdout",
       "text": [
        "\n",
        "FM:03/2009\n",
        "24:03/2009"
       ]
      },
      {
       "output_type": "stream",
       "stream": "stdout",
       "text": [
        "\n",
        "RR:03/2009\n",
        "NB:03/2009"
       ]
      },
      {
       "output_type": "stream",
       "stream": "stdout",
       "text": [
        "\n",
        "NC:03/2009\n",
        "RM:03/2009"
       ]
      },
      {
       "output_type": "stream",
       "stream": "stdout",
       "text": [
        "\n",
        "CN:03/2009\n",
        "CM:03/2009"
       ]
      },
      {
       "output_type": "stream",
       "stream": "stdout",
       "text": [
        "\n",
        "CL:03/2009\n",
        "CC:03/2009"
       ]
      },
      {
       "output_type": "stream",
       "stream": "stdout",
       "text": [
        "\n",
        "CV:03/2009\n",
        "12:03/2009"
       ]
      },
      {
       "output_type": "stream",
       "stream": "stdout",
       "text": [
        "\n",
        "16:03/2009\n",
        "SS:03/2009"
       ]
      },
      {
       "output_type": "stream",
       "stream": "stdout",
       "text": [
        "\n",
        "19:03/2009\n",
        "SH:03/2009"
       ]
      },
      {
       "output_type": "stream",
       "stream": "stdout",
       "text": [
        "\n",
        "SO:03/2009\n",
        "SL:03/2009"
       ]
      },
      {
       "output_type": "stream",
       "stream": "stdout",
       "text": [
        "\n",
        "OW:03/2009\n",
        "SB:03/2009"
       ]
      },
      {
       "output_type": "stream",
       "stream": "stdout",
       "text": [
        "\n",
        "OR:03/2009\n",
        "HY:03/2009"
       ]
      },
      {
       "output_type": "stream",
       "stream": "stdout",
       "text": [
        "\n",
        "DC:03/2009\n",
        "LF:03/2009"
       ]
      },
      {
       "output_type": "stream",
       "stream": "stdout",
       "text": [
        "\n",
        "GP:03/2009\n",
        "PH:03/2009"
       ]
      },
      {
       "output_type": "stream",
       "stream": "stdout",
       "text": [
        "\n",
        "PL:03/2009\n",
        "EM:03/2009"
       ]
      },
      {
       "output_type": "stream",
       "stream": "stdout",
       "text": [
        "\n",
        "EN:03/2009\n",
        "ED:03/2009"
       ]
      },
      {
       "output_type": "stream",
       "stream": "stdout",
       "text": [
        "\n",
        "AS:03/2009\n",
        "EP:03/2009"
       ]
      },
      {
       "output_type": "stream",
       "stream": "stdout",
       "text": [
        "\n",
        "MA:03/2009\n",
        "MB:03/2009"
       ]
      },
      {
       "output_type": "stream",
       "stream": "stdout",
       "text": [
        "\n",
        "MT:03/2009\n",
        "UC:03/2009"
       ]
      },
      {
       "output_type": "stream",
       "stream": "stdout",
       "text": [
        "\n",
        "BF:04/2009"
       ]
      },
      {
       "output_type": "stream",
       "stream": "stdout",
       "text": [
        "\n",
        "LM:04/2009\n",
        "WC:04/2009"
       ]
      },
      {
       "output_type": "stream",
       "stream": "stdout",
       "text": [
        "\n",
        "FV:04/2009\n",
        "BK:04/2009"
       ]
      },
      {
       "output_type": "stream",
       "stream": "stdout",
       "text": [
        "\n",
        "BP:04/2009\n",
        "WP:04/2009"
       ]
      },
      {
       "output_type": "stream",
       "stream": "stdout",
       "text": [
        "\n",
        "FM:04/2009\n",
        "24:04/2009"
       ]
      },
      {
       "output_type": "stream",
       "stream": "stdout",
       "text": [
        "\n",
        "RR:04/2009\n",
        "NB:04/2009"
       ]
      },
      {
       "output_type": "stream",
       "stream": "stdout",
       "text": [
        "\n",
        "NC:04/2009\n",
        "RM:04/2009"
       ]
      },
      {
       "output_type": "stream",
       "stream": "stdout",
       "text": [
        "\n",
        "CN:04/2009\n",
        "CM:04/2009"
       ]
      },
      {
       "output_type": "stream",
       "stream": "stdout",
       "text": [
        "\n",
        "CL:04/2009\n",
        "CC:04/2009"
       ]
      },
      {
       "output_type": "stream",
       "stream": "stdout",
       "text": [
        "\n",
        "CV:04/2009\n",
        "12:04/2009"
       ]
      },
      {
       "output_type": "stream",
       "stream": "stdout",
       "text": [
        "\n",
        "16:04/2009\n",
        "SS:04/2009"
       ]
      },
      {
       "output_type": "stream",
       "stream": "stdout",
       "text": [
        "\n",
        "19:04/2009\n",
        "SH:04/2009"
       ]
      },
      {
       "output_type": "stream",
       "stream": "stdout",
       "text": [
        "\n",
        "SO:04/2009\n",
        "SL:04/2009"
       ]
      },
      {
       "output_type": "stream",
       "stream": "stdout",
       "text": [
        "\n",
        "OW:04/2009\n",
        "SB:04/2009"
       ]
      },
      {
       "output_type": "stream",
       "stream": "stdout",
       "text": [
        "\n",
        "OR:04/2009\n",
        "HY:04/2009"
       ]
      },
      {
       "output_type": "stream",
       "stream": "stdout",
       "text": [
        "\n",
        "DC:04/2009\n",
        "LF:04/2009"
       ]
      },
      {
       "output_type": "stream",
       "stream": "stdout",
       "text": [
        "\n",
        "GP:04/2009\n",
        "PH:04/2009"
       ]
      },
      {
       "output_type": "stream",
       "stream": "stdout",
       "text": [
        "\n",
        "PL:04/2009\n",
        "EM:04/2009"
       ]
      },
      {
       "output_type": "stream",
       "stream": "stdout",
       "text": [
        "\n",
        "EN:04/2009\n",
        "ED:04/2009"
       ]
      },
      {
       "output_type": "stream",
       "stream": "stdout",
       "text": [
        "\n",
        "AS:04/2009\n",
        "EP:04/2009"
       ]
      },
      {
       "output_type": "stream",
       "stream": "stdout",
       "text": [
        "\n",
        "MA:04/2009\n",
        "MB:04/2009"
       ]
      },
      {
       "output_type": "stream",
       "stream": "stdout",
       "text": [
        "\n",
        "MT:04/2009\n",
        "UC:04/2009"
       ]
      },
      {
       "output_type": "stream",
       "stream": "stdout",
       "text": [
        "\n",
        "BF:05/2009"
       ]
      },
      {
       "output_type": "stream",
       "stream": "stdout",
       "text": [
        "\n",
        "LM:05/2009\n",
        "WC:05/2009"
       ]
      },
      {
       "output_type": "stream",
       "stream": "stdout",
       "text": [
        "\n",
        "FV:05/2009\n",
        "BK:05/2009"
       ]
      },
      {
       "output_type": "stream",
       "stream": "stdout",
       "text": [
        "\n",
        "BP:05/2009"
       ]
      },
      {
       "output_type": "stream",
       "stream": "stdout",
       "text": [
        "\n",
        "WP:05/2009\n",
        "FM:05/2009"
       ]
      },
      {
       "output_type": "stream",
       "stream": "stdout",
       "text": [
        "\n",
        "24:05/2009\n",
        "RR:05/2009"
       ]
      },
      {
       "output_type": "stream",
       "stream": "stdout",
       "text": [
        "\n",
        "NB:05/2009\n",
        "NC:05/2009"
       ]
      },
      {
       "output_type": "stream",
       "stream": "stdout",
       "text": [
        "\n",
        "RM:05/2009\n",
        "CN:05/2009"
       ]
      },
      {
       "output_type": "stream",
       "stream": "stdout",
       "text": [
        "\n",
        "CM:05/2009\n",
        "CL:05/2009"
       ]
      },
      {
       "output_type": "stream",
       "stream": "stdout",
       "text": [
        "\n",
        "CC:05/2009\n",
        "CV:05/2009"
       ]
      },
      {
       "output_type": "stream",
       "stream": "stdout",
       "text": [
        "\n",
        "12:05/2009\n",
        "16:05/2009"
       ]
      },
      {
       "output_type": "stream",
       "stream": "stdout",
       "text": [
        "\n",
        "SS:05/2009\n",
        "19:05/2009"
       ]
      },
      {
       "output_type": "stream",
       "stream": "stdout",
       "text": [
        "\n",
        "SH:05/2009\n",
        "SO:05/2009"
       ]
      },
      {
       "output_type": "stream",
       "stream": "stdout",
       "text": [
        "\n",
        "SL:05/2009\n",
        "OW:05/2009"
       ]
      },
      {
       "output_type": "stream",
       "stream": "stdout",
       "text": [
        "\n",
        "SB:05/2009\n",
        "OR:05/2009"
       ]
      },
      {
       "output_type": "stream",
       "stream": "stdout",
       "text": [
        "\n",
        "HY:05/2009\n",
        "DC:05/2009"
       ]
      },
      {
       "output_type": "stream",
       "stream": "stdout",
       "text": [
        "\n",
        "LF:05/2009\n",
        "GP:05/2009"
       ]
      },
      {
       "output_type": "stream",
       "stream": "stdout",
       "text": [
        "\n",
        "PH:05/2009\n",
        "PL:05/2009"
       ]
      },
      {
       "output_type": "stream",
       "stream": "stdout",
       "text": [
        "\n",
        "EM:05/2009\n",
        "EN:05/2009"
       ]
      },
      {
       "output_type": "stream",
       "stream": "stdout",
       "text": [
        "\n",
        "ED:05/2009\n",
        "AS:05/2009"
       ]
      },
      {
       "output_type": "stream",
       "stream": "stdout",
       "text": [
        "\n",
        "EP:05/2009\n",
        "MA:05/2009"
       ]
      },
      {
       "output_type": "stream",
       "stream": "stdout",
       "text": [
        "\n",
        "MB:05/2009"
       ]
      },
      {
       "output_type": "stream",
       "stream": "stdout",
       "text": [
        "\n",
        "MT:05/2009\n",
        "UC:05/2009"
       ]
      },
      {
       "output_type": "stream",
       "stream": "stdout",
       "text": [
        "\n",
        "BF:06/2009"
       ]
      },
      {
       "output_type": "stream",
       "stream": "stdout",
       "text": [
        "\n",
        "LM:06/2009\n",
        "WC:06/2009"
       ]
      },
      {
       "output_type": "stream",
       "stream": "stdout",
       "text": [
        "\n",
        "FV:06/2009\n",
        "BK:06/2009"
       ]
      },
      {
       "output_type": "stream",
       "stream": "stdout",
       "text": [
        "\n",
        "BP:06/2009\n",
        "WP:06/2009"
       ]
      },
      {
       "output_type": "stream",
       "stream": "stdout",
       "text": [
        "\n",
        "FM:06/2009\n",
        "24:06/2009"
       ]
      },
      {
       "output_type": "stream",
       "stream": "stdout",
       "text": [
        "\n",
        "RR:06/2009\n",
        "NB:06/2009"
       ]
      },
      {
       "output_type": "stream",
       "stream": "stdout",
       "text": [
        "\n",
        "NC:06/2009\n",
        "RM:06/2009"
       ]
      },
      {
       "output_type": "stream",
       "stream": "stdout",
       "text": [
        "\n",
        "CN:06/2009\n",
        "CM:06/2009"
       ]
      },
      {
       "output_type": "stream",
       "stream": "stdout",
       "text": [
        "\n",
        "CL:06/2009\n",
        "CC:06/2009"
       ]
      },
      {
       "output_type": "stream",
       "stream": "stdout",
       "text": [
        "\n",
        "CV:06/2009\n",
        "12:06/2009"
       ]
      },
      {
       "output_type": "stream",
       "stream": "stdout",
       "text": [
        "\n",
        "16:06/2009\n",
        "SS:06/2009"
       ]
      },
      {
       "output_type": "stream",
       "stream": "stdout",
       "text": [
        "\n",
        "19:06/2009\n",
        "SH:06/2009"
       ]
      },
      {
       "output_type": "stream",
       "stream": "stdout",
       "text": [
        "\n",
        "SO:06/2009\n",
        "SL:06/2009"
       ]
      },
      {
       "output_type": "stream",
       "stream": "stdout",
       "text": [
        "\n",
        "OW:06/2009\n",
        "SB:06/2009"
       ]
      },
      {
       "output_type": "stream",
       "stream": "stdout",
       "text": [
        "\n",
        "OR:06/2009\n",
        "HY:06/2009"
       ]
      },
      {
       "output_type": "stream",
       "stream": "stdout",
       "text": [
        "\n",
        "DC:06/2009\n",
        "LF:06/2009"
       ]
      },
      {
       "output_type": "stream",
       "stream": "stdout",
       "text": [
        "\n",
        "GP:06/2009\n",
        "PH:06/2009"
       ]
      },
      {
       "output_type": "stream",
       "stream": "stdout",
       "text": [
        "\n",
        "PL:06/2009\n",
        "EM:06/2009"
       ]
      },
      {
       "output_type": "stream",
       "stream": "stdout",
       "text": [
        "\n",
        "EN:06/2009"
       ]
      },
      {
       "output_type": "stream",
       "stream": "stdout",
       "text": [
        "\n",
        "ED:06/2009\n",
        "AS:06/2009"
       ]
      },
      {
       "output_type": "stream",
       "stream": "stdout",
       "text": [
        "\n",
        "EP:06/2009\n",
        "MA:06/2009"
       ]
      },
      {
       "output_type": "stream",
       "stream": "stdout",
       "text": [
        "\n",
        "MB:06/2009\n",
        "MT:06/2009"
       ]
      },
      {
       "output_type": "stream",
       "stream": "stdout",
       "text": [
        "\n",
        "UC:06/2009\n",
        "BF:07/2009"
       ]
      },
      {
       "output_type": "stream",
       "stream": "stdout",
       "text": [
        "\n",
        "LM:07/2009"
       ]
      },
      {
       "output_type": "stream",
       "stream": "stdout",
       "text": [
        "\n",
        "WC:07/2009"
       ]
      },
      {
       "output_type": "stream",
       "stream": "stdout",
       "text": [
        "\n",
        "FV:07/2009"
       ]
      },
      {
       "output_type": "stream",
       "stream": "stdout",
       "text": [
        "\n",
        "BK:07/2009\n",
        "BP:07/2009"
       ]
      },
      {
       "output_type": "stream",
       "stream": "stdout",
       "text": [
        "\n",
        "WP:07/2009\n",
        "FM:07/2009"
       ]
      },
      {
       "output_type": "stream",
       "stream": "stdout",
       "text": [
        "\n",
        "24:07/2009\n",
        "RR:07/2009"
       ]
      },
      {
       "output_type": "stream",
       "stream": "stdout",
       "text": [
        "\n",
        "NB:07/2009\n",
        "NC:07/2009"
       ]
      },
      {
       "output_type": "stream",
       "stream": "stdout",
       "text": [
        "\n",
        "RM:07/2009\n",
        "CN:07/2009"
       ]
      },
      {
       "output_type": "stream",
       "stream": "stdout",
       "text": [
        "\n",
        "CM:07/2009\n",
        "CL:07/2009"
       ]
      },
      {
       "output_type": "stream",
       "stream": "stdout",
       "text": [
        "\n",
        "CC:07/2009"
       ]
      },
      {
       "output_type": "stream",
       "stream": "stdout",
       "text": [
        "\n",
        "CV:07/2009\n",
        "12:07/2009"
       ]
      },
      {
       "output_type": "stream",
       "stream": "stdout",
       "text": [
        "\n",
        "16:07/2009\n",
        "SS:07/2009"
       ]
      },
      {
       "output_type": "stream",
       "stream": "stdout",
       "text": [
        "\n",
        "19:07/2009\n",
        "SH:07/2009"
       ]
      },
      {
       "output_type": "stream",
       "stream": "stdout",
       "text": [
        "\n",
        "SO:07/2009\n",
        "SL:07/2009"
       ]
      },
      {
       "output_type": "stream",
       "stream": "stdout",
       "text": [
        "\n",
        "OW:07/2009\n",
        "SB:07/2009"
       ]
      },
      {
       "output_type": "stream",
       "stream": "stdout",
       "text": [
        "\n",
        "OR:07/2009\n",
        "HY:07/2009"
       ]
      },
      {
       "output_type": "stream",
       "stream": "stdout",
       "text": [
        "\n",
        "DC:07/2009\n",
        "LF:07/2009"
       ]
      },
      {
       "output_type": "stream",
       "stream": "stdout",
       "text": [
        "\n",
        "GP:07/2009\n",
        "PH:07/2009"
       ]
      },
      {
       "output_type": "stream",
       "stream": "stdout",
       "text": [
        "\n",
        "PL:07/2009\n",
        "EM:07/2009"
       ]
      },
      {
       "output_type": "stream",
       "stream": "stdout",
       "text": [
        "\n",
        "EN:07/2009\n",
        "ED:07/2009"
       ]
      },
      {
       "output_type": "stream",
       "stream": "stdout",
       "text": [
        "\n",
        "AS:07/2009\n",
        "EP:07/2009"
       ]
      },
      {
       "output_type": "stream",
       "stream": "stdout",
       "text": [
        "\n",
        "MA:07/2009\n",
        "MB:07/2009"
       ]
      },
      {
       "output_type": "stream",
       "stream": "stdout",
       "text": [
        "\n",
        "MT:07/2009\n",
        "UC:07/2009"
       ]
      },
      {
       "output_type": "stream",
       "stream": "stdout",
       "text": [
        "\n",
        "BF:08/2009"
       ]
      },
      {
       "output_type": "stream",
       "stream": "stdout",
       "text": [
        "\n",
        "LM:08/2009\n",
        "WC:08/2009"
       ]
      },
      {
       "output_type": "stream",
       "stream": "stdout",
       "text": [
        "\n",
        "FV:08/2009\n",
        "BK:08/2009"
       ]
      },
      {
       "output_type": "stream",
       "stream": "stdout",
       "text": [
        "\n",
        "BP:08/2009\n",
        "WP:08/2009"
       ]
      },
      {
       "output_type": "stream",
       "stream": "stdout",
       "text": [
        "\n",
        "FM:08/2009\n",
        "24:08/2009"
       ]
      },
      {
       "output_type": "stream",
       "stream": "stdout",
       "text": [
        "\n",
        "RR:08/2009\n",
        "NB:08/2009"
       ]
      },
      {
       "output_type": "stream",
       "stream": "stdout",
       "text": [
        "\n",
        "NC:08/2009\n",
        "RM:08/2009"
       ]
      },
      {
       "output_type": "stream",
       "stream": "stdout",
       "text": [
        "\n",
        "CN:08/2009\n",
        "CM:08/2009"
       ]
      },
      {
       "output_type": "stream",
       "stream": "stdout",
       "text": [
        "\n",
        "CL:08/2009\n",
        "CC:08/2009"
       ]
      },
      {
       "output_type": "stream",
       "stream": "stdout",
       "text": [
        "\n",
        "CV:08/2009\n",
        "12:08/2009"
       ]
      },
      {
       "output_type": "stream",
       "stream": "stdout",
       "text": [
        "\n",
        "16:08/2009\n",
        "SS:08/2009"
       ]
      },
      {
       "output_type": "stream",
       "stream": "stdout",
       "text": [
        "\n",
        "19:08/2009\n",
        "SH:08/2009"
       ]
      },
      {
       "output_type": "stream",
       "stream": "stdout",
       "text": [
        "\n",
        "SO:08/2009\n",
        "SL:08/2009"
       ]
      },
      {
       "output_type": "stream",
       "stream": "stdout",
       "text": [
        "\n",
        "OW:08/2009\n",
        "SB:08/2009"
       ]
      },
      {
       "output_type": "stream",
       "stream": "stdout",
       "text": [
        "\n",
        "OR:08/2009\n",
        "HY:08/2009"
       ]
      },
      {
       "output_type": "stream",
       "stream": "stdout",
       "text": [
        "\n",
        "DC:08/2009\n",
        "LF:08/2009"
       ]
      },
      {
       "output_type": "stream",
       "stream": "stdout",
       "text": [
        "\n",
        "GP:08/2009\n",
        "PH:08/2009"
       ]
      },
      {
       "output_type": "stream",
       "stream": "stdout",
       "text": [
        "\n",
        "PL:08/2009\n",
        "EM:08/2009"
       ]
      },
      {
       "output_type": "stream",
       "stream": "stdout",
       "text": [
        "\n",
        "EN:08/2009\n",
        "ED:08/2009"
       ]
      },
      {
       "output_type": "stream",
       "stream": "stdout",
       "text": [
        "\n",
        "AS:08/2009\n",
        "EP:08/2009"
       ]
      },
      {
       "output_type": "stream",
       "stream": "stdout",
       "text": [
        "\n",
        "MA:08/2009\n",
        "MB:08/2009"
       ]
      },
      {
       "output_type": "stream",
       "stream": "stdout",
       "text": [
        "\n",
        "MT:08/2009\n",
        "UC:08/2009"
       ]
      },
      {
       "output_type": "stream",
       "stream": "stdout",
       "text": [
        "\n",
        "BF:09/2009"
       ]
      },
      {
       "output_type": "stream",
       "stream": "stdout",
       "text": [
        "\n",
        "LM:09/2009\n",
        "WC:09/2009"
       ]
      },
      {
       "output_type": "stream",
       "stream": "stdout",
       "text": [
        "\n",
        "FV:09/2009\n",
        "BK:09/2009"
       ]
      },
      {
       "output_type": "stream",
       "stream": "stdout",
       "text": [
        "\n",
        "BP:09/2009"
       ]
      },
      {
       "output_type": "stream",
       "stream": "stdout",
       "text": [
        "\n",
        "WP:09/2009\n",
        "FM:09/2009"
       ]
      },
      {
       "output_type": "stream",
       "stream": "stdout",
       "text": [
        "\n",
        "24:09/2009\n",
        "RR:09/2009"
       ]
      },
      {
       "output_type": "stream",
       "stream": "stdout",
       "text": [
        "\n",
        "NB:09/2009\n",
        "NC:09/2009"
       ]
      },
      {
       "output_type": "stream",
       "stream": "stdout",
       "text": [
        "\n",
        "RM:09/2009\n",
        "CN:09/2009"
       ]
      },
      {
       "output_type": "stream",
       "stream": "stdout",
       "text": [
        "\n",
        "CM:09/2009\n",
        "CL:09/2009"
       ]
      },
      {
       "output_type": "stream",
       "stream": "stdout",
       "text": [
        "\n",
        "CC:09/2009\n",
        "CV:09/2009"
       ]
      },
      {
       "output_type": "stream",
       "stream": "stdout",
       "text": [
        "\n",
        "12:09/2009\n",
        "16:09/2009"
       ]
      },
      {
       "output_type": "stream",
       "stream": "stdout",
       "text": [
        "\n",
        "SS:09/2009\n",
        "19:09/2009"
       ]
      },
      {
       "output_type": "stream",
       "stream": "stdout",
       "text": [
        "\n",
        "SH:09/2009\n",
        "SO:09/2009"
       ]
      },
      {
       "output_type": "stream",
       "stream": "stdout",
       "text": [
        "\n",
        "SL:09/2009\n",
        "OW:09/2009"
       ]
      },
      {
       "output_type": "stream",
       "stream": "stdout",
       "text": [
        "\n",
        "SB:09/2009\n",
        "OR:09/2009"
       ]
      },
      {
       "output_type": "stream",
       "stream": "stdout",
       "text": [
        "\n",
        "HY:09/2009\n",
        "DC:09/2009"
       ]
      },
      {
       "output_type": "stream",
       "stream": "stdout",
       "text": [
        "\n",
        "LF:09/2009\n",
        "GP:09/2009"
       ]
      },
      {
       "output_type": "stream",
       "stream": "stdout",
       "text": [
        "\n",
        "PH:09/2009\n",
        "PL:09/2009"
       ]
      },
      {
       "output_type": "stream",
       "stream": "stdout",
       "text": [
        "\n",
        "EM:09/2009\n",
        "EN:09/2009"
       ]
      },
      {
       "output_type": "stream",
       "stream": "stdout",
       "text": [
        "\n",
        "ED:09/2009\n",
        "AS:09/2009"
       ]
      },
      {
       "output_type": "stream",
       "stream": "stdout",
       "text": [
        "\n",
        "EP:09/2009\n",
        "MA:09/2009"
       ]
      },
      {
       "output_type": "stream",
       "stream": "stdout",
       "text": [
        "\n",
        "MB:09/2009"
       ]
      },
      {
       "output_type": "stream",
       "stream": "stdout",
       "text": [
        "\n",
        "MT:09/2009\n",
        "UC:09/2009"
       ]
      },
      {
       "output_type": "stream",
       "stream": "stdout",
       "text": [
        "\n",
        "BF:10/2009"
       ]
      },
      {
       "output_type": "stream",
       "stream": "stdout",
       "text": [
        "\n",
        "LM:10/2009\n",
        "WC:10/2009"
       ]
      },
      {
       "output_type": "stream",
       "stream": "stdout",
       "text": [
        "\n",
        "FV:10/2009\n",
        "BK:10/2009"
       ]
      },
      {
       "output_type": "stream",
       "stream": "stdout",
       "text": [
        "\n",
        "BP:10/2009\n",
        "WP:10/2009"
       ]
      },
      {
       "output_type": "stream",
       "stream": "stdout",
       "text": [
        "\n",
        "FM:10/2009\n",
        "24:10/2009"
       ]
      },
      {
       "output_type": "stream",
       "stream": "stdout",
       "text": [
        "\n",
        "RR:10/2009\n",
        "NB:10/2009"
       ]
      },
      {
       "output_type": "stream",
       "stream": "stdout",
       "text": [
        "\n",
        "NC:10/2009\n",
        "RM:10/2009"
       ]
      },
      {
       "output_type": "stream",
       "stream": "stdout",
       "text": [
        "\n",
        "CN:10/2009\n",
        "CM:10/2009"
       ]
      },
      {
       "output_type": "stream",
       "stream": "stdout",
       "text": [
        "\n",
        "CL:10/2009\n",
        "CC:10/2009"
       ]
      },
      {
       "output_type": "stream",
       "stream": "stdout",
       "text": [
        "\n",
        "CV:10/2009\n",
        "12:10/2009"
       ]
      },
      {
       "output_type": "stream",
       "stream": "stdout",
       "text": [
        "\n",
        "16:10/2009\n",
        "SS:10/2009"
       ]
      },
      {
       "output_type": "stream",
       "stream": "stdout",
       "text": [
        "\n",
        "19:10/2009\n",
        "SH:10/2009"
       ]
      },
      {
       "output_type": "stream",
       "stream": "stdout",
       "text": [
        "\n",
        "SO:10/2009"
       ]
      },
      {
       "output_type": "stream",
       "stream": "stdout",
       "text": [
        "\n",
        "SL:10/2009\n",
        "OW:10/2009"
       ]
      },
      {
       "output_type": "stream",
       "stream": "stdout",
       "text": [
        "\n",
        "SB:10/2009\n",
        "OR:10/2009"
       ]
      },
      {
       "output_type": "stream",
       "stream": "stdout",
       "text": [
        "\n",
        "HY:10/2009\n",
        "DC:10/2009"
       ]
      },
      {
       "output_type": "stream",
       "stream": "stdout",
       "text": [
        "\n",
        "LF:10/2009\n",
        "GP:10/2009"
       ]
      },
      {
       "output_type": "stream",
       "stream": "stdout",
       "text": [
        "\n",
        "PH:10/2009\n",
        "PL:10/2009"
       ]
      },
      {
       "output_type": "stream",
       "stream": "stdout",
       "text": [
        "\n",
        "EM:10/2009\n",
        "EN:10/2009"
       ]
      },
      {
       "output_type": "stream",
       "stream": "stdout",
       "text": [
        "\n",
        "ED:10/2009\n",
        "AS:10/2009"
       ]
      },
      {
       "output_type": "stream",
       "stream": "stdout",
       "text": [
        "\n",
        "EP:10/2009\n",
        "MA:10/2009"
       ]
      },
      {
       "output_type": "stream",
       "stream": "stdout",
       "text": [
        "\n",
        "MB:10/2009\n",
        "MT:10/2009"
       ]
      },
      {
       "output_type": "stream",
       "stream": "stdout",
       "text": [
        "\n",
        "UC:10/2009\n",
        "BF:11/2009"
       ]
      },
      {
       "output_type": "stream",
       "stream": "stdout",
       "text": [
        "\n",
        "LM:11/2009\n",
        "WC:11/2009"
       ]
      },
      {
       "output_type": "stream",
       "stream": "stdout",
       "text": [
        "\n",
        "FV:11/2009\n",
        "BK:11/2009"
       ]
      },
      {
       "output_type": "stream",
       "stream": "stdout",
       "text": [
        "\n",
        "BP:11/2009"
       ]
      },
      {
       "output_type": "stream",
       "stream": "stdout",
       "text": [
        "\n",
        "WP:11/2009\n",
        "FM:11/2009"
       ]
      },
      {
       "output_type": "stream",
       "stream": "stdout",
       "text": [
        "\n",
        "24:11/2009\n",
        "RR:11/2009"
       ]
      },
      {
       "output_type": "stream",
       "stream": "stdout",
       "text": [
        "\n",
        "NB:11/2009\n",
        "NC:11/2009"
       ]
      },
      {
       "output_type": "stream",
       "stream": "stdout",
       "text": [
        "\n",
        "RM:11/2009\n",
        "CN:11/2009"
       ]
      },
      {
       "output_type": "stream",
       "stream": "stdout",
       "text": [
        "\n",
        "CM:11/2009\n",
        "CL:11/2009"
       ]
      },
      {
       "output_type": "stream",
       "stream": "stdout",
       "text": [
        "\n",
        "CC:11/2009\n",
        "CV:11/2009"
       ]
      },
      {
       "output_type": "stream",
       "stream": "stdout",
       "text": [
        "\n",
        "12:11/2009\n",
        "16:11/2009"
       ]
      },
      {
       "output_type": "stream",
       "stream": "stdout",
       "text": [
        "\n",
        "SS:11/2009"
       ]
      },
      {
       "output_type": "stream",
       "stream": "stdout",
       "text": [
        "\n",
        "19:11/2009"
       ]
      },
      {
       "output_type": "stream",
       "stream": "stdout",
       "text": [
        "\n",
        "SH:11/2009\n",
        "SO:11/2009"
       ]
      },
      {
       "output_type": "stream",
       "stream": "stdout",
       "text": [
        "\n",
        "SL:11/2009"
       ]
      },
      {
       "output_type": "stream",
       "stream": "stdout",
       "text": [
        "\n",
        "OW:11/2009"
       ]
      },
      {
       "output_type": "stream",
       "stream": "stdout",
       "text": [
        "\n",
        "SB:11/2009\n",
        "OR:11/2009"
       ]
      },
      {
       "output_type": "stream",
       "stream": "stdout",
       "text": [
        "\n",
        "HY:11/2009\n",
        "DC:11/2009"
       ]
      },
      {
       "output_type": "stream",
       "stream": "stdout",
       "text": [
        "\n",
        "LF:11/2009\n",
        "GP:11/2009"
       ]
      },
      {
       "output_type": "stream",
       "stream": "stdout",
       "text": [
        "\n",
        "PH:11/2009\n",
        "PL:11/2009"
       ]
      },
      {
       "output_type": "stream",
       "stream": "stdout",
       "text": [
        "\n",
        "EM:11/2009\n",
        "EN:11/2009"
       ]
      },
      {
       "output_type": "stream",
       "stream": "stdout",
       "text": [
        "\n",
        "ED:11/2009\n",
        "AS:11/2009"
       ]
      },
      {
       "output_type": "stream",
       "stream": "stdout",
       "text": [
        "\n",
        "EP:11/2009"
       ]
      },
      {
       "output_type": "stream",
       "stream": "stdout",
       "text": [
        "\n",
        "MA:11/2009\n",
        "MB:11/2009"
       ]
      },
      {
       "output_type": "stream",
       "stream": "stdout",
       "text": [
        "\n",
        "MT:11/2009\n",
        "UC:11/2009"
       ]
      },
      {
       "output_type": "stream",
       "stream": "stdout",
       "text": [
        "\n",
        "BF:12/2009"
       ]
      },
      {
       "output_type": "stream",
       "stream": "stdout",
       "text": [
        "\n",
        "LM:12/2009"
       ]
      },
      {
       "output_type": "stream",
       "stream": "stdout",
       "text": [
        "\n",
        "WC:12/2009\n",
        "FV:12/2009"
       ]
      },
      {
       "output_type": "stream",
       "stream": "stdout",
       "text": [
        "\n",
        "BK:12/2009\n",
        "BP:12/2009"
       ]
      },
      {
       "output_type": "stream",
       "stream": "stdout",
       "text": [
        "\n",
        "WP:12/2009"
       ]
      },
      {
       "output_type": "stream",
       "stream": "stdout",
       "text": [
        "\n",
        "FM:12/2009"
       ]
      },
      {
       "output_type": "stream",
       "stream": "stdout",
       "text": [
        "\n",
        "24:12/2009"
       ]
      },
      {
       "output_type": "stream",
       "stream": "stdout",
       "text": [
        "\n",
        "RR:12/2009"
       ]
      },
      {
       "output_type": "stream",
       "stream": "stdout",
       "text": [
        "\n",
        "NB:12/2009"
       ]
      },
      {
       "output_type": "stream",
       "stream": "stdout",
       "text": [
        "\n",
        "NC:12/2009"
       ]
      },
      {
       "output_type": "stream",
       "stream": "stdout",
       "text": [
        "\n",
        "RM:12/2009\n",
        "CN:12/2009"
       ]
      },
      {
       "output_type": "stream",
       "stream": "stdout",
       "text": [
        "\n",
        "CM:12/2009\n",
        "CL:12/2009"
       ]
      },
      {
       "output_type": "stream",
       "stream": "stdout",
       "text": [
        "\n",
        "CC:12/2009\n",
        "CV:12/2009"
       ]
      },
      {
       "output_type": "stream",
       "stream": "stdout",
       "text": [
        "\n",
        "12:12/2009\n",
        "16:12/2009"
       ]
      },
      {
       "output_type": "stream",
       "stream": "stdout",
       "text": [
        "\n",
        "SS:12/2009"
       ]
      },
      {
       "output_type": "stream",
       "stream": "stdout",
       "text": [
        "\n",
        "19:12/2009\n",
        "SH:12/2009"
       ]
      },
      {
       "output_type": "stream",
       "stream": "stdout",
       "text": [
        "\n",
        "SO:12/2009"
       ]
      },
      {
       "output_type": "stream",
       "stream": "stdout",
       "text": [
        "\n",
        "SL:12/2009\n",
        "OW:12/2009"
       ]
      },
      {
       "output_type": "stream",
       "stream": "stdout",
       "text": [
        "\n",
        "SB:12/2009\n",
        "OR:12/2009"
       ]
      },
      {
       "output_type": "stream",
       "stream": "stdout",
       "text": [
        "\n",
        "HY:12/2009\n",
        "DC:12/2009"
       ]
      },
      {
       "output_type": "stream",
       "stream": "stdout",
       "text": [
        "\n",
        "LF:12/2009\n",
        "GP:12/2009"
       ]
      },
      {
       "output_type": "stream",
       "stream": "stdout",
       "text": [
        "\n",
        "PH:12/2009\n",
        "PL:12/2009"
       ]
      },
      {
       "output_type": "stream",
       "stream": "stdout",
       "text": [
        "\n",
        "EM:12/2009\n",
        "EN:12/2009"
       ]
      },
      {
       "output_type": "stream",
       "stream": "stdout",
       "text": [
        "\n",
        "ED:12/2009\n",
        "AS:12/2009"
       ]
      },
      {
       "output_type": "stream",
       "stream": "stdout",
       "text": [
        "\n",
        "EP:12/2009\n",
        "MA:12/2009"
       ]
      },
      {
       "output_type": "stream",
       "stream": "stdout",
       "text": [
        "\n",
        "MB:12/2009\n",
        "MT:12/2009"
       ]
      },
      {
       "output_type": "stream",
       "stream": "stdout",
       "text": [
        "\n",
        "UC:12/2009\n",
        "BF:01/2010"
       ]
      },
      {
       "output_type": "stream",
       "stream": "stdout",
       "text": [
        "\n",
        "LM:01/2010\n",
        "WC:01/2010"
       ]
      },
      {
       "output_type": "stream",
       "stream": "stdout",
       "text": [
        "\n",
        "FV:01/2010\n",
        "BK:01/2010"
       ]
      },
      {
       "output_type": "stream",
       "stream": "stdout",
       "text": [
        "\n",
        "BP:01/2010"
       ]
      },
      {
       "output_type": "stream",
       "stream": "stdout",
       "text": [
        "\n",
        "WP:01/2010\n",
        "FM:01/2010"
       ]
      },
      {
       "output_type": "stream",
       "stream": "stdout",
       "text": [
        "\n",
        "24:01/2010\n",
        "RR:01/2010"
       ]
      },
      {
       "output_type": "stream",
       "stream": "stdout",
       "text": [
        "\n",
        "NB:01/2010\n",
        "NC:01/2010"
       ]
      },
      {
       "output_type": "stream",
       "stream": "stdout",
       "text": [
        "\n",
        "RM:01/2010\n",
        "CN:01/2010"
       ]
      },
      {
       "output_type": "stream",
       "stream": "stdout",
       "text": [
        "\n",
        "CM:01/2010\n",
        "CL:01/2010"
       ]
      },
      {
       "output_type": "stream",
       "stream": "stdout",
       "text": [
        "\n",
        "CC:01/2010\n",
        "CV:01/2010"
       ]
      },
      {
       "output_type": "stream",
       "stream": "stdout",
       "text": [
        "\n",
        "12:01/2010\n",
        "16:01/2010"
       ]
      },
      {
       "output_type": "stream",
       "stream": "stdout",
       "text": [
        "\n",
        "SS:01/2010\n",
        "19:01/2010"
       ]
      },
      {
       "output_type": "stream",
       "stream": "stdout",
       "text": [
        "\n",
        "SH:01/2010\n",
        "SO:01/2010"
       ]
      },
      {
       "output_type": "stream",
       "stream": "stdout",
       "text": [
        "\n",
        "SL:01/2010\n",
        "OW:01/2010"
       ]
      },
      {
       "output_type": "stream",
       "stream": "stdout",
       "text": [
        "\n",
        "SB:01/2010\n",
        "OR:01/2010"
       ]
      },
      {
       "output_type": "stream",
       "stream": "stdout",
       "text": [
        "\n",
        "HY:01/2010\n",
        "DC:01/2010"
       ]
      },
      {
       "output_type": "stream",
       "stream": "stdout",
       "text": [
        "\n",
        "LF:01/2010\n",
        "GP:01/2010"
       ]
      },
      {
       "output_type": "stream",
       "stream": "stdout",
       "text": [
        "\n",
        "PH:01/2010\n",
        "PL:01/2010"
       ]
      },
      {
       "output_type": "stream",
       "stream": "stdout",
       "text": [
        "\n",
        "EM:01/2010\n",
        "EN:01/2010"
       ]
      },
      {
       "output_type": "stream",
       "stream": "stdout",
       "text": [
        "\n",
        "ED:01/2010\n",
        "AS:01/2010"
       ]
      },
      {
       "output_type": "stream",
       "stream": "stdout",
       "text": [
        "\n",
        "EP:01/2010\n",
        "MA:01/2010"
       ]
      },
      {
       "output_type": "stream",
       "stream": "stdout",
       "text": [
        "\n",
        "MB:01/2010"
       ]
      },
      {
       "output_type": "stream",
       "stream": "stdout",
       "text": [
        "\n",
        "MT:01/2010\n",
        "UC:01/2010"
       ]
      },
      {
       "output_type": "stream",
       "stream": "stdout",
       "text": [
        "\n",
        "BF:02/2010"
       ]
      },
      {
       "output_type": "stream",
       "stream": "stdout",
       "text": [
        "\n",
        "LM:02/2010\n",
        "WC:02/2010"
       ]
      },
      {
       "output_type": "stream",
       "stream": "stdout",
       "text": [
        "\n",
        "FV:02/2010\n",
        "BK:02/2010"
       ]
      },
      {
       "output_type": "stream",
       "stream": "stdout",
       "text": [
        "\n",
        "BP:02/2010\n",
        "WP:02/2010"
       ]
      },
      {
       "output_type": "stream",
       "stream": "stdout",
       "text": [
        "\n",
        "FM:02/2010\n",
        "24:02/2010"
       ]
      },
      {
       "output_type": "stream",
       "stream": "stdout",
       "text": [
        "\n",
        "RR:02/2010\n",
        "NB:02/2010"
       ]
      },
      {
       "output_type": "stream",
       "stream": "stdout",
       "text": [
        "\n",
        "NC:02/2010\n",
        "RM:02/2010"
       ]
      },
      {
       "output_type": "stream",
       "stream": "stdout",
       "text": [
        "\n",
        "CN:02/2010\n",
        "CM:02/2010"
       ]
      },
      {
       "output_type": "stream",
       "stream": "stdout",
       "text": [
        "\n",
        "CL:02/2010\n",
        "CC:02/2010"
       ]
      },
      {
       "output_type": "stream",
       "stream": "stdout",
       "text": [
        "\n",
        "CV:02/2010\n",
        "12:02/2010"
       ]
      },
      {
       "output_type": "stream",
       "stream": "stdout",
       "text": [
        "\n",
        "16:02/2010\n",
        "SS:02/2010"
       ]
      },
      {
       "output_type": "stream",
       "stream": "stdout",
       "text": [
        "\n",
        "19:02/2010\n",
        "SH:02/2010"
       ]
      },
      {
       "output_type": "stream",
       "stream": "stdout",
       "text": [
        "\n",
        "SO:02/2010"
       ]
      },
      {
       "output_type": "stream",
       "stream": "stdout",
       "text": [
        "\n",
        "SL:02/2010\n",
        "OW:02/2010"
       ]
      },
      {
       "output_type": "stream",
       "stream": "stdout",
       "text": [
        "\n",
        "SB:02/2010\n",
        "OR:02/2010"
       ]
      },
      {
       "output_type": "stream",
       "stream": "stdout",
       "text": [
        "\n",
        "HY:02/2010\n",
        "DC:02/2010"
       ]
      },
      {
       "output_type": "stream",
       "stream": "stdout",
       "text": [
        "\n",
        "LF:02/2010\n",
        "GP:02/2010"
       ]
      },
      {
       "output_type": "stream",
       "stream": "stdout",
       "text": [
        "\n",
        "PH:02/2010\n",
        "PL:02/2010"
       ]
      },
      {
       "output_type": "stream",
       "stream": "stdout",
       "text": [
        "\n",
        "EM:02/2010\n",
        "EN:02/2010"
       ]
      },
      {
       "output_type": "stream",
       "stream": "stdout",
       "text": [
        "\n",
        "ED:02/2010\n",
        "AS:02/2010"
       ]
      },
      {
       "output_type": "stream",
       "stream": "stdout",
       "text": [
        "\n",
        "EP:02/2010\n",
        "MA:02/2010"
       ]
      },
      {
       "output_type": "stream",
       "stream": "stdout",
       "text": [
        "\n",
        "MB:02/2010\n",
        "MT:02/2010"
       ]
      },
      {
       "output_type": "stream",
       "stream": "stdout",
       "text": [
        "\n",
        "UC:02/2010\n",
        "BF:03/2010"
       ]
      },
      {
       "output_type": "stream",
       "stream": "stdout",
       "text": [
        "\n",
        "LM:03/2010\n",
        "WC:03/2010"
       ]
      },
      {
       "output_type": "stream",
       "stream": "stdout",
       "text": [
        "\n",
        "FV:03/2010\n",
        "BK:03/2010"
       ]
      },
      {
       "output_type": "stream",
       "stream": "stdout",
       "text": [
        "\n",
        "BP:03/2010"
       ]
      },
      {
       "output_type": "stream",
       "stream": "stdout",
       "text": [
        "\n",
        "WP:03/2010\n",
        "FM:03/2010"
       ]
      },
      {
       "output_type": "stream",
       "stream": "stdout",
       "text": [
        "\n",
        "24:03/2010\n",
        "RR:03/2010"
       ]
      },
      {
       "output_type": "stream",
       "stream": "stdout",
       "text": [
        "\n",
        "NB:03/2010\n",
        "NC:03/2010"
       ]
      },
      {
       "output_type": "stream",
       "stream": "stdout",
       "text": [
        "\n",
        "RM:03/2010\n",
        "CN:03/2010"
       ]
      },
      {
       "output_type": "stream",
       "stream": "stdout",
       "text": [
        "\n",
        "CM:03/2010\n",
        "CL:03/2010"
       ]
      },
      {
       "output_type": "stream",
       "stream": "stdout",
       "text": [
        "\n",
        "CC:03/2010\n",
        "CV:03/2010"
       ]
      },
      {
       "output_type": "stream",
       "stream": "stdout",
       "text": [
        "\n",
        "12:03/2010\n",
        "16:03/2010"
       ]
      },
      {
       "output_type": "stream",
       "stream": "stdout",
       "text": [
        "\n",
        "SS:03/2010\n",
        "19:03/2010"
       ]
      },
      {
       "output_type": "stream",
       "stream": "stdout",
       "text": [
        "\n",
        "SH:03/2010\n",
        "SO:03/2010"
       ]
      },
      {
       "output_type": "stream",
       "stream": "stdout",
       "text": [
        "\n",
        "SL:03/2010\n",
        "OW:03/2010"
       ]
      },
      {
       "output_type": "stream",
       "stream": "stdout",
       "text": [
        "\n",
        "SB:03/2010"
       ]
      },
      {
       "output_type": "stream",
       "stream": "stdout",
       "text": [
        "\n",
        "OR:03/2010"
       ]
      },
      {
       "output_type": "stream",
       "stream": "stdout",
       "text": [
        "\n",
        "HY:03/2010\n",
        "DC:03/2010"
       ]
      },
      {
       "output_type": "stream",
       "stream": "stdout",
       "text": [
        "\n",
        "LF:03/2010\n",
        "GP:03/2010"
       ]
      },
      {
       "output_type": "stream",
       "stream": "stdout",
       "text": [
        "\n",
        "PH:03/2010\n",
        "PL:03/2010"
       ]
      },
      {
       "output_type": "stream",
       "stream": "stdout",
       "text": [
        "\n",
        "EM:03/2010\n",
        "EN:03/2010"
       ]
      },
      {
       "output_type": "stream",
       "stream": "stdout",
       "text": [
        "\n",
        "ED:03/2010\n",
        "AS:03/2010"
       ]
      },
      {
       "output_type": "stream",
       "stream": "stdout",
       "text": [
        "\n",
        "EP:03/2010\n",
        "MA:03/2010"
       ]
      },
      {
       "output_type": "stream",
       "stream": "stdout",
       "text": [
        "\n",
        "MB:03/2010\n",
        "MT:03/2010"
       ]
      },
      {
       "output_type": "stream",
       "stream": "stdout",
       "text": [
        "\n",
        "UC:03/2010\n",
        "BF:04/2010"
       ]
      },
      {
       "output_type": "stream",
       "stream": "stdout",
       "text": [
        "\n",
        "LM:04/2010\n",
        "WC:04/2010"
       ]
      },
      {
       "output_type": "stream",
       "stream": "stdout",
       "text": [
        "\n",
        "FV:04/2010\n",
        "BK:04/2010"
       ]
      },
      {
       "output_type": "stream",
       "stream": "stdout",
       "text": [
        "\n",
        "BP:04/2010\n",
        "WP:04/2010"
       ]
      },
      {
       "output_type": "stream",
       "stream": "stdout",
       "text": [
        "\n",
        "FM:04/2010\n",
        "24:04/2010"
       ]
      },
      {
       "output_type": "stream",
       "stream": "stdout",
       "text": [
        "\n",
        "RR:04/2010\n",
        "NB:04/2010"
       ]
      },
      {
       "output_type": "stream",
       "stream": "stdout",
       "text": [
        "\n",
        "NC:04/2010\n",
        "RM:04/2010"
       ]
      },
      {
       "output_type": "stream",
       "stream": "stdout",
       "text": [
        "\n",
        "CN:04/2010\n",
        "CM:04/2010"
       ]
      },
      {
       "output_type": "stream",
       "stream": "stdout",
       "text": [
        "\n",
        "CL:04/2010\n",
        "CC:04/2010"
       ]
      },
      {
       "output_type": "stream",
       "stream": "stdout",
       "text": [
        "\n",
        "CV:04/2010\n",
        "12:04/2010"
       ]
      },
      {
       "output_type": "stream",
       "stream": "stdout",
       "text": [
        "\n",
        "16:04/2010\n",
        "SS:04/2010"
       ]
      },
      {
       "output_type": "stream",
       "stream": "stdout",
       "text": [
        "\n",
        "19:04/2010\n",
        "SH:04/2010"
       ]
      },
      {
       "output_type": "stream",
       "stream": "stdout",
       "text": [
        "\n",
        "SO:04/2010"
       ]
      },
      {
       "output_type": "stream",
       "stream": "stdout",
       "text": [
        "\n",
        "SL:04/2010\n",
        "OW:04/2010"
       ]
      },
      {
       "output_type": "stream",
       "stream": "stdout",
       "text": [
        "\n",
        "SB:04/2010\n",
        "OR:04/2010"
       ]
      },
      {
       "output_type": "stream",
       "stream": "stdout",
       "text": [
        "\n",
        "HY:04/2010\n",
        "DC:04/2010"
       ]
      },
      {
       "output_type": "stream",
       "stream": "stdout",
       "text": [
        "\n",
        "LF:04/2010\n",
        "GP:04/2010"
       ]
      },
      {
       "output_type": "stream",
       "stream": "stdout",
       "text": [
        "\n",
        "PH:04/2010\n",
        "PL:04/2010"
       ]
      },
      {
       "output_type": "stream",
       "stream": "stdout",
       "text": [
        "\n",
        "EM:04/2010\n",
        "EN:04/2010"
       ]
      },
      {
       "output_type": "stream",
       "stream": "stdout",
       "text": [
        "\n",
        "ED:04/2010\n",
        "AS:04/2010"
       ]
      },
      {
       "output_type": "stream",
       "stream": "stdout",
       "text": [
        "\n",
        "EP:04/2010\n",
        "MA:04/2010"
       ]
      },
      {
       "output_type": "stream",
       "stream": "stdout",
       "text": [
        "\n",
        "MB:04/2010\n",
        "MT:04/2010"
       ]
      },
      {
       "output_type": "stream",
       "stream": "stdout",
       "text": [
        "\n",
        "UC:04/2010\n",
        "BF:05/2010"
       ]
      },
      {
       "output_type": "stream",
       "stream": "stdout",
       "text": [
        "\n",
        "LM:05/2010\n",
        "WC:05/2010"
       ]
      },
      {
       "output_type": "stream",
       "stream": "stdout",
       "text": [
        "\n",
        "FV:05/2010\n",
        "BK:05/2010"
       ]
      },
      {
       "output_type": "stream",
       "stream": "stdout",
       "text": [
        "\n",
        "BP:05/2010"
       ]
      },
      {
       "output_type": "stream",
       "stream": "stdout",
       "text": [
        "\n",
        "WP:05/2010\n",
        "FM:05/2010"
       ]
      },
      {
       "output_type": "stream",
       "stream": "stdout",
       "text": [
        "\n",
        "24:05/2010\n",
        "RR:05/2010"
       ]
      },
      {
       "output_type": "stream",
       "stream": "stdout",
       "text": [
        "\n",
        "NB:05/2010\n",
        "NC:05/2010"
       ]
      },
      {
       "output_type": "stream",
       "stream": "stdout",
       "text": [
        "\n",
        "RM:05/2010\n",
        "CN:05/2010"
       ]
      },
      {
       "output_type": "stream",
       "stream": "stdout",
       "text": [
        "\n",
        "CM:05/2010\n",
        "CL:05/2010"
       ]
      },
      {
       "output_type": "stream",
       "stream": "stdout",
       "text": [
        "\n",
        "CC:05/2010\n",
        "CV:05/2010"
       ]
      },
      {
       "output_type": "stream",
       "stream": "stdout",
       "text": [
        "\n",
        "12:05/2010\n",
        "16:05/2010"
       ]
      },
      {
       "output_type": "stream",
       "stream": "stdout",
       "text": [
        "\n",
        "SS:05/2010\n",
        "19:05/2010"
       ]
      },
      {
       "output_type": "stream",
       "stream": "stdout",
       "text": [
        "\n",
        "SH:05/2010\n",
        "SO:05/2010"
       ]
      },
      {
       "output_type": "stream",
       "stream": "stdout",
       "text": [
        "\n",
        "SL:05/2010\n",
        "OW:05/2010"
       ]
      },
      {
       "output_type": "stream",
       "stream": "stdout",
       "text": [
        "\n",
        "SB:05/2010\n",
        "OR:05/2010"
       ]
      },
      {
       "output_type": "stream",
       "stream": "stdout",
       "text": [
        "\n",
        "HY:05/2010\n",
        "DC:05/2010"
       ]
      },
      {
       "output_type": "stream",
       "stream": "stdout",
       "text": [
        "\n",
        "LF:05/2010\n",
        "GP:05/2010"
       ]
      },
      {
       "output_type": "stream",
       "stream": "stdout",
       "text": [
        "\n",
        "PH:05/2010\n",
        "PL:05/2010"
       ]
      },
      {
       "output_type": "stream",
       "stream": "stdout",
       "text": [
        "\n",
        "EM:05/2010\n",
        "EN:05/2010"
       ]
      },
      {
       "output_type": "stream",
       "stream": "stdout",
       "text": [
        "\n",
        "ED:05/2010\n",
        "AS:05/2010"
       ]
      },
      {
       "output_type": "stream",
       "stream": "stdout",
       "text": [
        "\n",
        "EP:05/2010\n",
        "MA:05/2010"
       ]
      },
      {
       "output_type": "stream",
       "stream": "stdout",
       "text": [
        "\n",
        "MB:05/2010\n",
        "MT:05/2010"
       ]
      },
      {
       "output_type": "stream",
       "stream": "stdout",
       "text": [
        "\n",
        "UC:05/2010\n",
        "BF:06/2010"
       ]
      },
      {
       "output_type": "stream",
       "stream": "stdout",
       "text": [
        "\n",
        "LM:06/2010\n",
        "WC:06/2010"
       ]
      },
      {
       "output_type": "stream",
       "stream": "stdout",
       "text": [
        "\n",
        "FV:06/2010\n",
        "BK:06/2010"
       ]
      },
      {
       "output_type": "stream",
       "stream": "stdout",
       "text": [
        "\n",
        "BP:06/2010\n",
        "WP:06/2010"
       ]
      },
      {
       "output_type": "stream",
       "stream": "stdout",
       "text": [
        "\n",
        "FM:06/2010\n",
        "24:06/2010"
       ]
      },
      {
       "output_type": "stream",
       "stream": "stdout",
       "text": [
        "\n",
        "RR:06/2010\n",
        "NB:06/2010"
       ]
      },
      {
       "output_type": "stream",
       "stream": "stdout",
       "text": [
        "\n",
        "NC:06/2010\n",
        "RM:06/2010"
       ]
      },
      {
       "output_type": "stream",
       "stream": "stdout",
       "text": [
        "\n",
        "CN:06/2010\n",
        "CM:06/2010"
       ]
      },
      {
       "output_type": "stream",
       "stream": "stdout",
       "text": [
        "\n",
        "CL:06/2010\n",
        "CC:06/2010"
       ]
      },
      {
       "output_type": "stream",
       "stream": "stdout",
       "text": [
        "\n",
        "CV:06/2010\n",
        "12:06/2010"
       ]
      },
      {
       "output_type": "stream",
       "stream": "stdout",
       "text": [
        "\n",
        "16:06/2010\n",
        "SS:06/2010"
       ]
      },
      {
       "output_type": "stream",
       "stream": "stdout",
       "text": [
        "\n",
        "19:06/2010\n",
        "SH:06/2010"
       ]
      },
      {
       "output_type": "stream",
       "stream": "stdout",
       "text": [
        "\n",
        "SO:06/2010"
       ]
      },
      {
       "output_type": "stream",
       "stream": "stdout",
       "text": [
        "\n",
        "SL:06/2010\n",
        "OW:06/2010"
       ]
      },
      {
       "output_type": "stream",
       "stream": "stdout",
       "text": [
        "\n",
        "SB:06/2010\n",
        "OR:06/2010"
       ]
      },
      {
       "output_type": "stream",
       "stream": "stdout",
       "text": [
        "\n",
        "HY:06/2010\n",
        "DC:06/2010"
       ]
      },
      {
       "output_type": "stream",
       "stream": "stdout",
       "text": [
        "\n",
        "LF:06/2010\n",
        "GP:06/2010"
       ]
      },
      {
       "output_type": "stream",
       "stream": "stdout",
       "text": [
        "\n",
        "PH:06/2010\n",
        "PL:06/2010"
       ]
      },
      {
       "output_type": "stream",
       "stream": "stdout",
       "text": [
        "\n",
        "EM:06/2010\n",
        "EN:06/2010"
       ]
      },
      {
       "output_type": "stream",
       "stream": "stdout",
       "text": [
        "\n",
        "ED:06/2010\n",
        "AS:06/2010"
       ]
      },
      {
       "output_type": "stream",
       "stream": "stdout",
       "text": [
        "\n",
        "EP:06/2010\n",
        "MA:06/2010"
       ]
      },
      {
       "output_type": "stream",
       "stream": "stdout",
       "text": [
        "\n",
        "MB:06/2010\n",
        "MT:06/2010"
       ]
      },
      {
       "output_type": "stream",
       "stream": "stdout",
       "text": [
        "\n",
        "UC:06/2010\n",
        "BF:07/2010"
       ]
      },
      {
       "output_type": "stream",
       "stream": "stdout",
       "text": [
        "\n",
        "LM:07/2010\n",
        "WC:07/2010"
       ]
      },
      {
       "output_type": "stream",
       "stream": "stdout",
       "text": [
        "\n",
        "FV:07/2010\n",
        "BK:07/2010"
       ]
      },
      {
       "output_type": "stream",
       "stream": "stdout",
       "text": [
        "\n",
        "BP:07/2010\n",
        "WP:07/2010"
       ]
      },
      {
       "output_type": "stream",
       "stream": "stdout",
       "text": [
        "\n",
        "FM:07/2010\n",
        "24:07/2010"
       ]
      },
      {
       "output_type": "stream",
       "stream": "stdout",
       "text": [
        "\n",
        "RR:07/2010\n",
        "NB:07/2010"
       ]
      },
      {
       "output_type": "stream",
       "stream": "stdout",
       "text": [
        "\n",
        "NC:07/2010\n",
        "RM:07/2010"
       ]
      },
      {
       "output_type": "stream",
       "stream": "stdout",
       "text": [
        "\n",
        "CN:07/2010\n",
        "CM:07/2010"
       ]
      },
      {
       "output_type": "stream",
       "stream": "stdout",
       "text": [
        "\n",
        "CL:07/2010\n",
        "CC:07/2010"
       ]
      },
      {
       "output_type": "stream",
       "stream": "stdout",
       "text": [
        "\n",
        "CV:07/2010\n",
        "12:07/2010"
       ]
      },
      {
       "output_type": "stream",
       "stream": "stdout",
       "text": [
        "\n",
        "16:07/2010\n",
        "SS:07/2010"
       ]
      },
      {
       "output_type": "stream",
       "stream": "stdout",
       "text": [
        "\n",
        "19:07/2010\n",
        "SH:07/2010"
       ]
      },
      {
       "output_type": "stream",
       "stream": "stdout",
       "text": [
        "\n",
        "SO:07/2010\n",
        "SL:07/2010"
       ]
      },
      {
       "output_type": "stream",
       "stream": "stdout",
       "text": [
        "\n",
        "OW:07/2010\n",
        "SB:07/2010"
       ]
      },
      {
       "output_type": "stream",
       "stream": "stdout",
       "text": [
        "\n",
        "OR:07/2010\n",
        "HY:07/2010"
       ]
      },
      {
       "output_type": "stream",
       "stream": "stdout",
       "text": [
        "\n",
        "DC:07/2010\n",
        "LF:07/2010"
       ]
      },
      {
       "output_type": "stream",
       "stream": "stdout",
       "text": [
        "\n",
        "GP:07/2010\n",
        "PH:07/2010"
       ]
      },
      {
       "output_type": "stream",
       "stream": "stdout",
       "text": [
        "\n",
        "PL:07/2010\n",
        "EM:07/2010"
       ]
      },
      {
       "output_type": "stream",
       "stream": "stdout",
       "text": [
        "\n",
        "EN:07/2010\n",
        "ED:07/2010"
       ]
      },
      {
       "output_type": "stream",
       "stream": "stdout",
       "text": [
        "\n",
        "AS:07/2010\n",
        "EP:07/2010"
       ]
      },
      {
       "output_type": "stream",
       "stream": "stdout",
       "text": [
        "\n",
        "MA:07/2010\n",
        "MB:07/2010"
       ]
      },
      {
       "output_type": "stream",
       "stream": "stdout",
       "text": [
        "\n",
        "MT:07/2010"
       ]
      },
      {
       "output_type": "stream",
       "stream": "stdout",
       "text": [
        "\n",
        "UC:07/2010\n",
        "BF:08/2010"
       ]
      },
      {
       "output_type": "stream",
       "stream": "stdout",
       "text": [
        "\n",
        "LM:08/2010\n",
        "WC:08/2010"
       ]
      },
      {
       "output_type": "stream",
       "stream": "stdout",
       "text": [
        "\n",
        "FV:08/2010\n",
        "BK:08/2010"
       ]
      },
      {
       "output_type": "stream",
       "stream": "stdout",
       "text": [
        "\n",
        "BP:08/2010\n",
        "WP:08/2010"
       ]
      },
      {
       "output_type": "stream",
       "stream": "stdout",
       "text": [
        "\n",
        "FM:08/2010\n",
        "24:08/2010"
       ]
      },
      {
       "output_type": "stream",
       "stream": "stdout",
       "text": [
        "\n",
        "RR:08/2010\n",
        "NB:08/2010"
       ]
      },
      {
       "output_type": "stream",
       "stream": "stdout",
       "text": [
        "\n",
        "NC:08/2010\n",
        "RM:08/2010"
       ]
      },
      {
       "output_type": "stream",
       "stream": "stdout",
       "text": [
        "\n",
        "CN:08/2010\n",
        "CM:08/2010"
       ]
      },
      {
       "output_type": "stream",
       "stream": "stdout",
       "text": [
        "\n",
        "CL:08/2010\n",
        "CC:08/2010"
       ]
      },
      {
       "output_type": "stream",
       "stream": "stdout",
       "text": [
        "\n",
        "CV:08/2010\n",
        "12:08/2010"
       ]
      },
      {
       "output_type": "stream",
       "stream": "stdout",
       "text": [
        "\n",
        "16:08/2010\n",
        "SS:08/2010"
       ]
      },
      {
       "output_type": "stream",
       "stream": "stdout",
       "text": [
        "\n",
        "19:08/2010\n",
        "SH:08/2010"
       ]
      },
      {
       "output_type": "stream",
       "stream": "stdout",
       "text": [
        "\n",
        "SO:08/2010"
       ]
      },
      {
       "output_type": "stream",
       "stream": "stdout",
       "text": [
        "\n",
        "SL:08/2010\n",
        "OW:08/2010"
       ]
      },
      {
       "output_type": "stream",
       "stream": "stdout",
       "text": [
        "\n",
        "SB:08/2010\n",
        "OR:08/2010"
       ]
      },
      {
       "output_type": "stream",
       "stream": "stdout",
       "text": [
        "\n",
        "HY:08/2010\n",
        "DC:08/2010"
       ]
      },
      {
       "output_type": "stream",
       "stream": "stdout",
       "text": [
        "\n",
        "LF:08/2010\n",
        "GP:08/2010"
       ]
      },
      {
       "output_type": "stream",
       "stream": "stdout",
       "text": [
        "\n",
        "PH:08/2010\n",
        "PL:08/2010"
       ]
      },
      {
       "output_type": "stream",
       "stream": "stdout",
       "text": [
        "\n",
        "EM:08/2010\n",
        "EN:08/2010"
       ]
      },
      {
       "output_type": "stream",
       "stream": "stdout",
       "text": [
        "\n",
        "ED:08/2010\n",
        "AS:08/2010"
       ]
      },
      {
       "output_type": "stream",
       "stream": "stdout",
       "text": [
        "\n",
        "EP:08/2010\n",
        "MA:08/2010"
       ]
      },
      {
       "output_type": "stream",
       "stream": "stdout",
       "text": [
        "\n",
        "MB:08/2010\n",
        "MT:08/2010"
       ]
      },
      {
       "output_type": "stream",
       "stream": "stdout",
       "text": [
        "\n",
        "UC:08/2010\n",
        "BF:09/2010"
       ]
      },
      {
       "output_type": "stream",
       "stream": "stdout",
       "text": [
        "\n",
        "LM:09/2010\n",
        "WC:09/2010"
       ]
      },
      {
       "output_type": "stream",
       "stream": "stdout",
       "text": [
        "\n",
        "FV:09/2010\n",
        "BK:09/2010"
       ]
      },
      {
       "output_type": "stream",
       "stream": "stdout",
       "text": [
        "\n",
        "BP:09/2010\n",
        "WP:09/2010"
       ]
      },
      {
       "output_type": "stream",
       "stream": "stdout",
       "text": [
        "\n",
        "FM:09/2010\n",
        "24:09/2010"
       ]
      },
      {
       "output_type": "stream",
       "stream": "stdout",
       "text": [
        "\n",
        "RR:09/2010\n",
        "NB:09/2010"
       ]
      },
      {
       "output_type": "stream",
       "stream": "stdout",
       "text": [
        "\n",
        "NC:09/2010\n",
        "RM:09/2010"
       ]
      },
      {
       "output_type": "stream",
       "stream": "stdout",
       "text": [
        "\n",
        "CN:09/2010\n",
        "CM:09/2010"
       ]
      },
      {
       "output_type": "stream",
       "stream": "stdout",
       "text": [
        "\n",
        "CL:09/2010\n",
        "CC:09/2010"
       ]
      },
      {
       "output_type": "stream",
       "stream": "stdout",
       "text": [
        "\n",
        "CV:09/2010\n",
        "12:09/2010"
       ]
      },
      {
       "output_type": "stream",
       "stream": "stdout",
       "text": [
        "\n",
        "16:09/2010\n",
        "SS:09/2010"
       ]
      },
      {
       "output_type": "stream",
       "stream": "stdout",
       "text": [
        "\n",
        "19:09/2010\n",
        "SH:09/2010"
       ]
      },
      {
       "output_type": "stream",
       "stream": "stdout",
       "text": [
        "\n",
        "SO:09/2010\n",
        "SL:09/2010"
       ]
      },
      {
       "output_type": "stream",
       "stream": "stdout",
       "text": [
        "\n",
        "OW:09/2010\n",
        "SB:09/2010"
       ]
      },
      {
       "output_type": "stream",
       "stream": "stdout",
       "text": [
        "\n",
        "OR:09/2010\n",
        "HY:09/2010"
       ]
      },
      {
       "output_type": "stream",
       "stream": "stdout",
       "text": [
        "\n",
        "DC:09/2010\n",
        "LF:09/2010"
       ]
      },
      {
       "output_type": "stream",
       "stream": "stdout",
       "text": [
        "\n",
        "GP:09/2010\n",
        "PH:09/2010"
       ]
      },
      {
       "output_type": "stream",
       "stream": "stdout",
       "text": [
        "\n",
        "PL:09/2010\n",
        "EM:09/2010"
       ]
      },
      {
       "output_type": "stream",
       "stream": "stdout",
       "text": [
        "\n",
        "EN:09/2010\n",
        "ED:09/2010"
       ]
      },
      {
       "output_type": "stream",
       "stream": "stdout",
       "text": [
        "\n",
        "AS:09/2010\n",
        "EP:09/2010"
       ]
      },
      {
       "output_type": "stream",
       "stream": "stdout",
       "text": [
        "\n",
        "MA:09/2010\n",
        "MB:09/2010"
       ]
      },
      {
       "output_type": "stream",
       "stream": "stdout",
       "text": [
        "\n",
        "MT:09/2010"
       ]
      },
      {
       "output_type": "stream",
       "stream": "stdout",
       "text": [
        "\n",
        "UC:09/2010\n",
        "BF:10/2010"
       ]
      },
      {
       "output_type": "stream",
       "stream": "stdout",
       "text": [
        "\n",
        "LM:10/2010\n",
        "WC:10/2010"
       ]
      },
      {
       "output_type": "stream",
       "stream": "stdout",
       "text": [
        "\n",
        "FV:10/2010\n",
        "BK:10/2010"
       ]
      },
      {
       "output_type": "stream",
       "stream": "stdout",
       "text": [
        "\n",
        "BP:10/2010\n",
        "WP:10/2010"
       ]
      },
      {
       "output_type": "stream",
       "stream": "stdout",
       "text": [
        "\n",
        "FM:10/2010\n",
        "24:10/2010"
       ]
      },
      {
       "output_type": "stream",
       "stream": "stdout",
       "text": [
        "\n",
        "RR:10/2010\n",
        "NB:10/2010"
       ]
      },
      {
       "output_type": "stream",
       "stream": "stdout",
       "text": [
        "\n",
        "NC:10/2010\n",
        "RM:10/2010"
       ]
      },
      {
       "output_type": "stream",
       "stream": "stdout",
       "text": [
        "\n",
        "CN:10/2010\n",
        "CM:10/2010"
       ]
      },
      {
       "output_type": "stream",
       "stream": "stdout",
       "text": [
        "\n",
        "CL:10/2010\n",
        "CC:10/2010"
       ]
      },
      {
       "output_type": "stream",
       "stream": "stdout",
       "text": [
        "\n",
        "CV:10/2010\n",
        "12:10/2010"
       ]
      },
      {
       "output_type": "stream",
       "stream": "stdout",
       "text": [
        "\n",
        "16:10/2010\n",
        "SS:10/2010"
       ]
      },
      {
       "output_type": "stream",
       "stream": "stdout",
       "text": [
        "\n",
        "19:10/2010\n",
        "SH:10/2010"
       ]
      },
      {
       "output_type": "stream",
       "stream": "stdout",
       "text": [
        "\n",
        "SO:10/2010"
       ]
      },
      {
       "output_type": "stream",
       "stream": "stdout",
       "text": [
        "\n",
        "SL:10/2010\n",
        "OW:10/2010"
       ]
      },
      {
       "output_type": "stream",
       "stream": "stdout",
       "text": [
        "\n",
        "SB:10/2010\n",
        "OR:10/2010"
       ]
      },
      {
       "output_type": "stream",
       "stream": "stdout",
       "text": [
        "\n",
        "HY:10/2010\n",
        "DC:10/2010"
       ]
      },
      {
       "output_type": "stream",
       "stream": "stdout",
       "text": [
        "\n",
        "LF:10/2010\n",
        "GP:10/2010"
       ]
      },
      {
       "output_type": "stream",
       "stream": "stdout",
       "text": [
        "\n",
        "PH:10/2010\n",
        "PL:10/2010"
       ]
      },
      {
       "output_type": "stream",
       "stream": "stdout",
       "text": [
        "\n",
        "EM:10/2010"
       ]
      },
      {
       "output_type": "stream",
       "stream": "stdout",
       "text": [
        "\n",
        "EN:10/2010"
       ]
      },
      {
       "output_type": "stream",
       "stream": "stdout",
       "text": [
        "\n",
        "ED:10/2010"
       ]
      },
      {
       "output_type": "stream",
       "stream": "stdout",
       "text": [
        "\n",
        "AS:10/2010"
       ]
      },
      {
       "output_type": "stream",
       "stream": "stdout",
       "text": [
        "\n",
        "EP:10/2010"
       ]
      },
      {
       "output_type": "stream",
       "stream": "stdout",
       "text": [
        "\n",
        "MA:10/2010"
       ]
      },
      {
       "output_type": "stream",
       "stream": "stdout",
       "text": [
        "\n",
        "MB:10/2010"
       ]
      },
      {
       "output_type": "stream",
       "stream": "stdout",
       "text": [
        "\n",
        "MT:10/2010\n",
        "UC:10/2010"
       ]
      },
      {
       "output_type": "stream",
       "stream": "stdout",
       "text": [
        "\n",
        "BF:11/2010"
       ]
      },
      {
       "output_type": "stream",
       "stream": "stdout",
       "text": [
        "\n",
        "LM:11/2010\n",
        "WC:11/2010"
       ]
      },
      {
       "output_type": "stream",
       "stream": "stdout",
       "text": [
        "\n",
        "FV:11/2010\n",
        "BK:11/2010"
       ]
      },
      {
       "output_type": "stream",
       "stream": "stdout",
       "text": [
        "\n",
        "BP:11/2010\n",
        "WP:11/2010"
       ]
      },
      {
       "output_type": "stream",
       "stream": "stdout",
       "text": [
        "\n",
        "FM:11/2010\n",
        "24:11/2010"
       ]
      },
      {
       "output_type": "stream",
       "stream": "stdout",
       "text": [
        "\n",
        "RR:11/2010\n",
        "NB:11/2010"
       ]
      },
      {
       "output_type": "stream",
       "stream": "stdout",
       "text": [
        "\n",
        "NC:11/2010\n",
        "RM:11/2010"
       ]
      },
      {
       "output_type": "stream",
       "stream": "stdout",
       "text": [
        "\n",
        "CN:11/2010\n",
        "CM:11/2010"
       ]
      },
      {
       "output_type": "stream",
       "stream": "stdout",
       "text": [
        "\n",
        "CL:11/2010\n",
        "CC:11/2010"
       ]
      },
      {
       "output_type": "stream",
       "stream": "stdout",
       "text": [
        "\n",
        "CV:11/2010\n",
        "12:11/2010"
       ]
      },
      {
       "output_type": "stream",
       "stream": "stdout",
       "text": [
        "\n",
        "16:11/2010"
       ]
      },
      {
       "output_type": "stream",
       "stream": "stdout",
       "text": [
        "\n",
        "SS:11/2010"
       ]
      },
      {
       "output_type": "stream",
       "stream": "stdout",
       "text": [
        "\n",
        "19:11/2010"
       ]
      },
      {
       "output_type": "stream",
       "stream": "stdout",
       "text": [
        "\n",
        "SH:11/2010\n",
        "SO:11/2010"
       ]
      },
      {
       "output_type": "stream",
       "stream": "stdout",
       "text": [
        "\n",
        "SL:11/2010\n",
        "OW:11/2010"
       ]
      },
      {
       "output_type": "stream",
       "stream": "stdout",
       "text": [
        "\n",
        "SB:11/2010\n",
        "OR:11/2010"
       ]
      },
      {
       "output_type": "stream",
       "stream": "stdout",
       "text": [
        "\n",
        "HY:11/2010"
       ]
      },
      {
       "output_type": "stream",
       "stream": "stdout",
       "text": [
        "\n",
        "DC:11/2010"
       ]
      },
      {
       "output_type": "stream",
       "stream": "stdout",
       "text": [
        "\n",
        "LF:11/2010"
       ]
      },
      {
       "output_type": "stream",
       "stream": "stdout",
       "text": [
        "\n",
        "GP:11/2010"
       ]
      },
      {
       "output_type": "stream",
       "stream": "stdout",
       "text": [
        "\n",
        "PH:11/2010"
       ]
      },
      {
       "output_type": "stream",
       "stream": "stdout",
       "text": [
        "\n",
        "PL:11/2010\n",
        "EM:11/2010"
       ]
      },
      {
       "output_type": "stream",
       "stream": "stdout",
       "text": [
        "\n",
        "EN:11/2010\n",
        "ED:11/2010"
       ]
      },
      {
       "output_type": "stream",
       "stream": "stdout",
       "text": [
        "\n",
        "AS:11/2010"
       ]
      },
      {
       "output_type": "stream",
       "stream": "stdout",
       "text": [
        "\n",
        "EP:11/2010"
       ]
      },
      {
       "output_type": "stream",
       "stream": "stdout",
       "text": [
        "\n",
        "MA:11/2010"
       ]
      },
      {
       "output_type": "stream",
       "stream": "stdout",
       "text": [
        "\n",
        "MB:11/2010\n",
        "MT:11/2010"
       ]
      },
      {
       "output_type": "stream",
       "stream": "stdout",
       "text": [
        "\n",
        "UC:11/2010"
       ]
      },
      {
       "output_type": "stream",
       "stream": "stdout",
       "text": [
        "\n",
        "BF:12/2010"
       ]
      },
      {
       "output_type": "stream",
       "stream": "stdout",
       "text": [
        "\n",
        "LM:12/2010\n",
        "WC:12/2010"
       ]
      },
      {
       "output_type": "stream",
       "stream": "stdout",
       "text": [
        "\n",
        "FV:12/2010"
       ]
      },
      {
       "output_type": "stream",
       "stream": "stdout",
       "text": [
        "\n",
        "BK:12/2010\n",
        "BP:12/2010"
       ]
      },
      {
       "output_type": "stream",
       "stream": "stdout",
       "text": [
        "\n",
        "WP:12/2010\n",
        "FM:12/2010"
       ]
      },
      {
       "output_type": "stream",
       "stream": "stdout",
       "text": [
        "\n",
        "24:12/2010\n",
        "RR:12/2010"
       ]
      },
      {
       "output_type": "stream",
       "stream": "stdout",
       "text": [
        "\n",
        "NB:12/2010"
       ]
      },
      {
       "output_type": "stream",
       "stream": "stdout",
       "text": [
        "\n",
        "NC:12/2010\n",
        "RM:12/2010"
       ]
      },
      {
       "output_type": "stream",
       "stream": "stdout",
       "text": [
        "\n",
        "CN:12/2010\n",
        "CM:12/2010"
       ]
      },
      {
       "output_type": "stream",
       "stream": "stdout",
       "text": [
        "\n",
        "CL:12/2010"
       ]
      },
      {
       "output_type": "stream",
       "stream": "stdout",
       "text": [
        "\n",
        "CC:12/2010\n",
        "CV:12/2010"
       ]
      },
      {
       "output_type": "stream",
       "stream": "stdout",
       "text": [
        "\n",
        "12:12/2010"
       ]
      },
      {
       "output_type": "stream",
       "stream": "stdout",
       "text": [
        "\n",
        "16:12/2010\n",
        "SS:12/2010"
       ]
      },
      {
       "output_type": "stream",
       "stream": "stdout",
       "text": [
        "\n",
        "19:12/2010"
       ]
      },
      {
       "output_type": "stream",
       "stream": "stdout",
       "text": [
        "\n",
        "SH:12/2010"
       ]
      },
      {
       "output_type": "stream",
       "stream": "stdout",
       "text": [
        "\n",
        "SO:12/2010"
       ]
      },
      {
       "output_type": "stream",
       "stream": "stdout",
       "text": [
        "\n",
        "SL:12/2010"
       ]
      },
      {
       "output_type": "stream",
       "stream": "stdout",
       "text": [
        "\n",
        "OW:12/2010\n",
        "SB:12/2010"
       ]
      },
      {
       "output_type": "stream",
       "stream": "stdout",
       "text": [
        "\n",
        "OR:12/2010\n",
        "HY:12/2010"
       ]
      },
      {
       "output_type": "stream",
       "stream": "stdout",
       "text": [
        "\n",
        "DC:12/2010\n",
        "LF:12/2010"
       ]
      },
      {
       "output_type": "stream",
       "stream": "stdout",
       "text": [
        "\n",
        "GP:12/2010"
       ]
      },
      {
       "output_type": "stream",
       "stream": "stdout",
       "text": [
        "\n",
        "PH:12/2010\n",
        "PL:12/2010"
       ]
      },
      {
       "output_type": "stream",
       "stream": "stdout",
       "text": [
        "\n",
        "EM:12/2010\n",
        "EN:12/2010"
       ]
      },
      {
       "output_type": "stream",
       "stream": "stdout",
       "text": [
        "\n",
        "ED:12/2010\n",
        "AS:12/2010"
       ]
      },
      {
       "output_type": "stream",
       "stream": "stdout",
       "text": [
        "\n",
        "EP:12/2010\n",
        "MA:12/2010"
       ]
      },
      {
       "output_type": "stream",
       "stream": "stdout",
       "text": [
        "\n",
        "MB:12/2010\n",
        "MT:12/2010"
       ]
      },
      {
       "output_type": "stream",
       "stream": "stdout",
       "text": [
        "\n",
        "UC:12/2010\n",
        "BF:01/2011"
       ]
      },
      {
       "output_type": "stream",
       "stream": "stdout",
       "text": [
        "\n",
        "LM:01/2011\n",
        "WC:01/2011"
       ]
      },
      {
       "output_type": "stream",
       "stream": "stdout",
       "text": [
        "\n",
        "FV:01/2011\n",
        "BK:01/2011"
       ]
      },
      {
       "output_type": "stream",
       "stream": "stdout",
       "text": [
        "\n",
        "BP:01/2011"
       ]
      },
      {
       "output_type": "stream",
       "stream": "stdout",
       "text": [
        "\n",
        "WP:01/2011"
       ]
      },
      {
       "output_type": "stream",
       "stream": "stdout",
       "text": [
        "\n",
        "FM:01/2011\n",
        "24:01/2011"
       ]
      },
      {
       "output_type": "stream",
       "stream": "stdout",
       "text": [
        "\n",
        "RR:01/2011\n",
        "NB:01/2011"
       ]
      },
      {
       "output_type": "stream",
       "stream": "stdout",
       "text": [
        "\n",
        "NC:01/2011\n",
        "RM:01/2011"
       ]
      },
      {
       "output_type": "stream",
       "stream": "stdout",
       "text": [
        "\n",
        "CN:01/2011\n",
        "CM:01/2011"
       ]
      },
      {
       "output_type": "stream",
       "stream": "stdout",
       "text": [
        "\n",
        "CL:01/2011"
       ]
      },
      {
       "output_type": "stream",
       "stream": "stdout",
       "text": [
        "\n",
        "CC:01/2011"
       ]
      },
      {
       "output_type": "stream",
       "stream": "stdout",
       "text": [
        "\n",
        "CV:01/2011\n",
        "12:01/2011"
       ]
      },
      {
       "output_type": "stream",
       "stream": "stdout",
       "text": [
        "\n",
        "16:01/2011\n",
        "SS:01/2011"
       ]
      },
      {
       "output_type": "stream",
       "stream": "stdout",
       "text": [
        "\n",
        "19:01/2011\n",
        "SH:01/2011"
       ]
      },
      {
       "output_type": "stream",
       "stream": "stdout",
       "text": [
        "\n",
        "SO:01/2011\n",
        "SL:01/2011"
       ]
      },
      {
       "output_type": "stream",
       "stream": "stdout",
       "text": [
        "\n",
        "OW:01/2011"
       ]
      },
      {
       "output_type": "stream",
       "stream": "stdout",
       "text": [
        "\n",
        "SB:01/2011"
       ]
      },
      {
       "output_type": "stream",
       "stream": "stdout",
       "text": [
        "\n",
        "OR:01/2011\n",
        "HY:01/2011"
       ]
      },
      {
       "output_type": "stream",
       "stream": "stdout",
       "text": [
        "\n",
        "DC:01/2011"
       ]
      },
      {
       "output_type": "stream",
       "stream": "stdout",
       "text": [
        "\n",
        "LF:01/2011"
       ]
      },
      {
       "output_type": "stream",
       "stream": "stdout",
       "text": [
        "\n",
        "GP:01/2011"
       ]
      },
      {
       "output_type": "stream",
       "stream": "stdout",
       "text": [
        "\n",
        "PH:01/2011"
       ]
      },
      {
       "output_type": "stream",
       "stream": "stdout",
       "text": [
        "\n",
        "PL:01/2011"
       ]
      },
      {
       "output_type": "stream",
       "stream": "stdout",
       "text": [
        "\n",
        "EM:01/2011"
       ]
      },
      {
       "output_type": "stream",
       "stream": "stdout",
       "text": [
        "\n",
        "EN:01/2011\n",
        "ED:01/2011"
       ]
      },
      {
       "output_type": "stream",
       "stream": "stdout",
       "text": [
        "\n",
        "AS:01/2011"
       ]
      },
      {
       "output_type": "stream",
       "stream": "stdout",
       "text": [
        "\n",
        "EP:01/2011"
       ]
      },
      {
       "output_type": "stream",
       "stream": "stdout",
       "text": [
        "\n",
        "MA:01/2011"
       ]
      },
      {
       "output_type": "stream",
       "stream": "stdout",
       "text": [
        "\n",
        "MB:01/2011"
       ]
      },
      {
       "output_type": "stream",
       "stream": "stdout",
       "text": [
        "\n",
        "MT:01/2011"
       ]
      },
      {
       "output_type": "stream",
       "stream": "stdout",
       "text": [
        "\n",
        "UC:01/2011"
       ]
      },
      {
       "output_type": "stream",
       "stream": "stdout",
       "text": [
        "\n",
        "BF:02/2011"
       ]
      },
      {
       "output_type": "stream",
       "stream": "stdout",
       "text": [
        "\n",
        "LM:02/2011"
       ]
      },
      {
       "output_type": "stream",
       "stream": "stdout",
       "text": [
        "\n",
        "WC:02/2011"
       ]
      },
      {
       "output_type": "stream",
       "stream": "stdout",
       "text": [
        "\n",
        "FV:02/2011"
       ]
      },
      {
       "output_type": "stream",
       "stream": "stdout",
       "text": [
        "\n",
        "BK:02/2011"
       ]
      },
      {
       "output_type": "stream",
       "stream": "stdout",
       "text": [
        "\n",
        "BP:02/2011"
       ]
      },
      {
       "output_type": "stream",
       "stream": "stdout",
       "text": [
        "\n",
        "WP:02/2011"
       ]
      },
      {
       "output_type": "stream",
       "stream": "stdout",
       "text": [
        "\n",
        "FM:02/2011"
       ]
      },
      {
       "output_type": "stream",
       "stream": "stdout",
       "text": [
        "\n",
        "24:02/2011"
       ]
      },
      {
       "output_type": "stream",
       "stream": "stdout",
       "text": [
        "\n",
        "RR:02/2011\n",
        "NB:02/2011"
       ]
      },
      {
       "output_type": "stream",
       "stream": "stdout",
       "text": [
        "\n",
        "NC:02/2011"
       ]
      },
      {
       "output_type": "stream",
       "stream": "stdout",
       "text": [
        "\n",
        "RM:02/2011"
       ]
      },
      {
       "output_type": "stream",
       "stream": "stdout",
       "text": [
        "\n",
        "CN:02/2011\n",
        "CM:02/2011"
       ]
      },
      {
       "output_type": "stream",
       "stream": "stdout",
       "text": [
        "\n",
        "CL:02/2011\n",
        "CC:02/2011"
       ]
      },
      {
       "output_type": "stream",
       "stream": "stdout",
       "text": [
        "\n",
        "CV:02/2011"
       ]
      },
      {
       "output_type": "stream",
       "stream": "stdout",
       "text": [
        "\n",
        "12:02/2011"
       ]
      },
      {
       "output_type": "stream",
       "stream": "stdout",
       "text": [
        "\n",
        "16:02/2011"
       ]
      },
      {
       "output_type": "stream",
       "stream": "stdout",
       "text": [
        "\n",
        "SS:02/2011"
       ]
      },
      {
       "output_type": "stream",
       "stream": "stdout",
       "text": [
        "\n",
        "19:02/2011\n",
        "SH:02/2011"
       ]
      },
      {
       "output_type": "stream",
       "stream": "stdout",
       "text": [
        "\n",
        "SO:02/2011"
       ]
      },
      {
       "output_type": "stream",
       "stream": "stdout",
       "text": [
        "\n",
        "SL:02/2011"
       ]
      },
      {
       "output_type": "stream",
       "stream": "stdout",
       "text": [
        "\n",
        "OW:02/2011"
       ]
      },
      {
       "output_type": "stream",
       "stream": "stdout",
       "text": [
        "\n",
        "SB:02/2011\n",
        "OR:02/2011"
       ]
      },
      {
       "output_type": "stream",
       "stream": "stdout",
       "text": [
        "\n",
        "HY:02/2011"
       ]
      },
      {
       "output_type": "stream",
       "stream": "stdout",
       "text": [
        "\n",
        "DC:02/2011\n",
        "LF:02/2011"
       ]
      },
      {
       "output_type": "stream",
       "stream": "stdout",
       "text": [
        "\n",
        "GP:02/2011\n",
        "PH:02/2011"
       ]
      },
      {
       "output_type": "stream",
       "stream": "stdout",
       "text": [
        "\n",
        "PL:02/2011"
       ]
      },
      {
       "output_type": "stream",
       "stream": "stdout",
       "text": [
        "\n",
        "EM:02/2011"
       ]
      },
      {
       "output_type": "stream",
       "stream": "stdout",
       "text": [
        "\n",
        "EN:02/2011\n",
        "ED:02/2011"
       ]
      },
      {
       "output_type": "stream",
       "stream": "stdout",
       "text": [
        "\n",
        "AS:02/2011\n",
        "EP:02/2011"
       ]
      },
      {
       "output_type": "stream",
       "stream": "stdout",
       "text": [
        "\n",
        "MA:02/2011\n",
        "MB:02/2011"
       ]
      },
      {
       "output_type": "stream",
       "stream": "stdout",
       "text": [
        "\n",
        "MT:02/2011\n",
        "UC:02/2011"
       ]
      },
      {
       "output_type": "stream",
       "stream": "stdout",
       "text": [
        "\n",
        "BF:03/2011"
       ]
      },
      {
       "output_type": "stream",
       "stream": "stdout",
       "text": [
        "\n",
        "LM:03/2011\n",
        "WC:03/2011"
       ]
      },
      {
       "output_type": "stream",
       "stream": "stdout",
       "text": [
        "\n",
        "FV:03/2011"
       ]
      },
      {
       "output_type": "stream",
       "stream": "stdout",
       "text": [
        "\n",
        "BK:03/2011"
       ]
      },
      {
       "output_type": "stream",
       "stream": "stdout",
       "text": [
        "\n",
        "BP:03/2011\n",
        "WP:03/2011"
       ]
      },
      {
       "output_type": "stream",
       "stream": "stdout",
       "text": [
        "\n",
        "FM:03/2011\n",
        "24:03/2011"
       ]
      },
      {
       "output_type": "stream",
       "stream": "stdout",
       "text": [
        "\n",
        "RR:03/2011"
       ]
      },
      {
       "output_type": "stream",
       "stream": "stdout",
       "text": [
        "\n",
        "NB:03/2011\n",
        "NC:03/2011"
       ]
      },
      {
       "output_type": "stream",
       "stream": "stdout",
       "text": [
        "\n",
        "RM:03/2011\n",
        "CN:03/2011"
       ]
      },
      {
       "output_type": "stream",
       "stream": "stdout",
       "text": [
        "\n",
        "CM:03/2011\n",
        "CL:03/2011"
       ]
      },
      {
       "output_type": "stream",
       "stream": "stdout",
       "text": [
        "\n",
        "CC:03/2011\n",
        "CV:03/2011"
       ]
      },
      {
       "output_type": "stream",
       "stream": "stdout",
       "text": [
        "\n",
        "12:03/2011\n",
        "16:03/2011"
       ]
      },
      {
       "output_type": "stream",
       "stream": "stdout",
       "text": [
        "\n",
        "SS:03/2011\n",
        "19:03/2011"
       ]
      },
      {
       "output_type": "stream",
       "stream": "stdout",
       "text": [
        "\n",
        "SH:03/2011"
       ]
      },
      {
       "output_type": "stream",
       "stream": "stdout",
       "text": [
        "\n",
        "SO:03/2011\n",
        "SL:03/2011"
       ]
      },
      {
       "output_type": "stream",
       "stream": "stdout",
       "text": [
        "\n",
        "OW:03/2011\n",
        "SB:03/2011"
       ]
      },
      {
       "output_type": "stream",
       "stream": "stdout",
       "text": [
        "\n",
        "OR:03/2011\n",
        "HY:03/2011"
       ]
      },
      {
       "output_type": "stream",
       "stream": "stdout",
       "text": [
        "\n",
        "DC:03/2011\n",
        "LF:03/2011"
       ]
      },
      {
       "output_type": "stream",
       "stream": "stdout",
       "text": [
        "\n",
        "GP:03/2011\n",
        "PH:03/2011"
       ]
      },
      {
       "output_type": "stream",
       "stream": "stdout",
       "text": [
        "\n",
        "PL:03/2011\n",
        "EM:03/2011"
       ]
      },
      {
       "output_type": "stream",
       "stream": "stdout",
       "text": [
        "\n",
        "EN:03/2011\n",
        "ED:03/2011"
       ]
      },
      {
       "output_type": "stream",
       "stream": "stdout",
       "text": [
        "\n",
        "AS:03/2011\n",
        "EP:03/2011"
       ]
      },
      {
       "output_type": "stream",
       "stream": "stdout",
       "text": [
        "\n",
        "MA:03/2011"
       ]
      },
      {
       "output_type": "stream",
       "stream": "stdout",
       "text": [
        "\n",
        "MB:03/2011"
       ]
      },
      {
       "output_type": "stream",
       "stream": "stdout",
       "text": [
        "\n",
        "MT:03/2011"
       ]
      },
      {
       "output_type": "stream",
       "stream": "stdout",
       "text": [
        "\n",
        "UC:03/2011\n",
        "BF:04/2011"
       ]
      },
      {
       "output_type": "stream",
       "stream": "stdout",
       "text": [
        "\n",
        "LM:04/2011\n",
        "WC:04/2011"
       ]
      },
      {
       "output_type": "stream",
       "stream": "stdout",
       "text": [
        "\n",
        "FV:04/2011\n",
        "BK:04/2011"
       ]
      },
      {
       "output_type": "stream",
       "stream": "stdout",
       "text": [
        "\n",
        "BP:04/2011\n",
        "WP:04/2011"
       ]
      },
      {
       "output_type": "stream",
       "stream": "stdout",
       "text": [
        "\n",
        "FM:04/2011\n",
        "24:04/2011"
       ]
      },
      {
       "output_type": "stream",
       "stream": "stdout",
       "text": [
        "\n",
        "RR:04/2011\n",
        "NB:04/2011"
       ]
      },
      {
       "output_type": "stream",
       "stream": "stdout",
       "text": [
        "\n",
        "NC:04/2011\n",
        "RM:04/2011"
       ]
      },
      {
       "output_type": "stream",
       "stream": "stdout",
       "text": [
        "\n",
        "CN:04/2011\n",
        "CM:04/2011"
       ]
      },
      {
       "output_type": "stream",
       "stream": "stdout",
       "text": [
        "\n",
        "CL:04/2011\n",
        "CC:04/2011"
       ]
      },
      {
       "output_type": "stream",
       "stream": "stdout",
       "text": [
        "\n",
        "CV:04/2011\n",
        "12:04/2011"
       ]
      },
      {
       "output_type": "stream",
       "stream": "stdout",
       "text": [
        "\n",
        "16:04/2011\n",
        "SS:04/2011"
       ]
      },
      {
       "output_type": "stream",
       "stream": "stdout",
       "text": [
        "\n",
        "19:04/2011"
       ]
      },
      {
       "output_type": "stream",
       "stream": "stdout",
       "text": [
        "\n",
        "SH:04/2011"
       ]
      },
      {
       "output_type": "stream",
       "stream": "stdout",
       "text": [
        "\n",
        "SO:04/2011"
       ]
      },
      {
       "output_type": "stream",
       "stream": "stdout",
       "text": [
        "\n",
        "SL:04/2011\n",
        "OW:04/2011"
       ]
      },
      {
       "output_type": "stream",
       "stream": "stdout",
       "text": [
        "\n",
        "SB:04/2011\n",
        "OR:04/2011"
       ]
      },
      {
       "output_type": "stream",
       "stream": "stdout",
       "text": [
        "\n",
        "HY:04/2011\n",
        "DC:04/2011"
       ]
      },
      {
       "output_type": "stream",
       "stream": "stdout",
       "text": [
        "\n",
        "LF:04/2011\n",
        "GP:04/2011"
       ]
      },
      {
       "output_type": "stream",
       "stream": "stdout",
       "text": [
        "\n",
        "PH:04/2011"
       ]
      },
      {
       "output_type": "stream",
       "stream": "stdout",
       "text": [
        "\n",
        "PL:04/2011\n",
        "EM:04/2011"
       ]
      },
      {
       "output_type": "stream",
       "stream": "stdout",
       "text": [
        "\n",
        "EN:04/2011\n",
        "ED:04/2011"
       ]
      },
      {
       "output_type": "stream",
       "stream": "stdout",
       "text": [
        "\n",
        "AS:04/2011"
       ]
      },
      {
       "output_type": "stream",
       "stream": "stdout",
       "text": [
        "\n",
        "EP:04/2011\n",
        "MA:04/2011"
       ]
      },
      {
       "output_type": "stream",
       "stream": "stdout",
       "text": [
        "\n",
        "MB:04/2011"
       ]
      },
      {
       "output_type": "stream",
       "stream": "stdout",
       "text": [
        "\n",
        "MT:04/2011"
       ]
      },
      {
       "output_type": "stream",
       "stream": "stdout",
       "text": [
        "\n",
        "UC:04/2011"
       ]
      },
      {
       "output_type": "stream",
       "stream": "stdout",
       "text": [
        "\n",
        "BF:05/2011"
       ]
      },
      {
       "output_type": "stream",
       "stream": "stdout",
       "text": [
        "\n",
        "LM:05/2011\n",
        "WC:05/2011"
       ]
      },
      {
       "output_type": "stream",
       "stream": "stdout",
       "text": [
        "\n",
        "FV:05/2011"
       ]
      },
      {
       "output_type": "stream",
       "stream": "stdout",
       "text": [
        "\n",
        "BK:05/2011"
       ]
      },
      {
       "output_type": "stream",
       "stream": "stdout",
       "text": [
        "\n",
        "BP:05/2011"
       ]
      },
      {
       "output_type": "stream",
       "stream": "stdout",
       "text": [
        "\n",
        "WP:05/2011"
       ]
      },
      {
       "output_type": "stream",
       "stream": "stdout",
       "text": [
        "\n",
        "FM:05/2011"
       ]
      },
      {
       "output_type": "stream",
       "stream": "stdout",
       "text": [
        "\n",
        "24:05/2011"
       ]
      },
      {
       "output_type": "stream",
       "stream": "stdout",
       "text": [
        "\n",
        "RR:05/2011"
       ]
      },
      {
       "output_type": "stream",
       "stream": "stdout",
       "text": [
        "\n",
        "NB:05/2011"
       ]
      },
      {
       "output_type": "stream",
       "stream": "stdout",
       "text": [
        "\n",
        "NC:05/2011"
       ]
      },
      {
       "output_type": "stream",
       "stream": "stdout",
       "text": [
        "\n",
        "RM:05/2011"
       ]
      },
      {
       "output_type": "stream",
       "stream": "stdout",
       "text": [
        "\n",
        "CN:05/2011"
       ]
      },
      {
       "output_type": "stream",
       "stream": "stdout",
       "text": [
        "\n",
        "CM:05/2011\n",
        "CL:05/2011"
       ]
      },
      {
       "output_type": "stream",
       "stream": "stdout",
       "text": [
        "\n",
        "CC:05/2011"
       ]
      },
      {
       "output_type": "stream",
       "stream": "stdout",
       "text": [
        "\n",
        "CV:05/2011"
       ]
      },
      {
       "output_type": "stream",
       "stream": "stdout",
       "text": [
        "\n",
        "12:05/2011"
       ]
      },
      {
       "output_type": "stream",
       "stream": "stdout",
       "text": [
        "\n",
        "16:05/2011"
       ]
      },
      {
       "output_type": "stream",
       "stream": "stdout",
       "text": [
        "\n",
        "SS:05/2011"
       ]
      },
      {
       "output_type": "stream",
       "stream": "stdout",
       "text": [
        "\n",
        "19:05/2011"
       ]
      },
      {
       "output_type": "stream",
       "stream": "stdout",
       "text": [
        "\n",
        "SH:05/2011"
       ]
      },
      {
       "output_type": "stream",
       "stream": "stdout",
       "text": [
        "\n",
        "SO:05/2011\n",
        "SL:05/2011"
       ]
      },
      {
       "output_type": "stream",
       "stream": "stdout",
       "text": [
        "\n",
        "OW:05/2011"
       ]
      },
      {
       "output_type": "stream",
       "stream": "stdout",
       "text": [
        "\n",
        "SB:05/2011"
       ]
      },
      {
       "output_type": "stream",
       "stream": "stdout",
       "text": [
        "\n",
        "OR:05/2011"
       ]
      },
      {
       "output_type": "stream",
       "stream": "stdout",
       "text": [
        "\n",
        "HY:05/2011"
       ]
      },
      {
       "output_type": "stream",
       "stream": "stdout",
       "text": [
        "\n",
        "DC:05/2011"
       ]
      },
      {
       "output_type": "stream",
       "stream": "stdout",
       "text": [
        "\n",
        "LF:05/2011"
       ]
      },
      {
       "output_type": "stream",
       "stream": "stdout",
       "text": [
        "\n",
        "GP:05/2011"
       ]
      },
      {
       "output_type": "stream",
       "stream": "stdout",
       "text": [
        "\n",
        "PH:05/2011\n",
        "PL:05/2011"
       ]
      },
      {
       "output_type": "stream",
       "stream": "stdout",
       "text": [
        "\n",
        "EM:05/2011"
       ]
      },
      {
       "output_type": "stream",
       "stream": "stdout",
       "text": [
        "\n",
        "EN:05/2011"
       ]
      },
      {
       "output_type": "stream",
       "stream": "stdout",
       "text": [
        "\n",
        "ED:05/2011"
       ]
      },
      {
       "output_type": "stream",
       "stream": "stdout",
       "text": [
        "\n",
        "AS:05/2011\n",
        "EP:05/2011"
       ]
      },
      {
       "output_type": "stream",
       "stream": "stdout",
       "text": [
        "\n",
        "MA:05/2011\n",
        "MB:05/2011"
       ]
      },
      {
       "output_type": "stream",
       "stream": "stdout",
       "text": [
        "\n",
        "MT:05/2011"
       ]
      },
      {
       "output_type": "stream",
       "stream": "stdout",
       "text": [
        "\n",
        "UC:05/2011\n",
        "BF:06/2011"
       ]
      },
      {
       "output_type": "stream",
       "stream": "stdout",
       "text": [
        "\n",
        "LM:06/2011\n",
        "WC:06/2011"
       ]
      },
      {
       "output_type": "stream",
       "stream": "stdout",
       "text": [
        "\n",
        "FV:06/2011\n",
        "BK:06/2011"
       ]
      },
      {
       "output_type": "stream",
       "stream": "stdout",
       "text": [
        "\n",
        "BP:06/2011\n",
        "WP:06/2011"
       ]
      },
      {
       "output_type": "stream",
       "stream": "stdout",
       "text": [
        "\n",
        "FM:06/2011\n",
        "24:06/2011"
       ]
      },
      {
       "output_type": "stream",
       "stream": "stdout",
       "text": [
        "\n",
        "RR:06/2011\n",
        "NB:06/2011"
       ]
      },
      {
       "output_type": "stream",
       "stream": "stdout",
       "text": [
        "\n",
        "NC:06/2011"
       ]
      },
      {
       "output_type": "stream",
       "stream": "stdout",
       "text": [
        "\n",
        "RM:06/2011\n",
        "CN:06/2011"
       ]
      },
      {
       "output_type": "stream",
       "stream": "stdout",
       "text": [
        "\n",
        "CM:06/2011\n",
        "CL:06/2011"
       ]
      },
      {
       "output_type": "stream",
       "stream": "stdout",
       "text": [
        "\n",
        "CC:06/2011\n",
        "CV:06/2011"
       ]
      },
      {
       "output_type": "stream",
       "stream": "stdout",
       "text": [
        "\n",
        "12:06/2011\n",
        "16:06/2011"
       ]
      },
      {
       "output_type": "stream",
       "stream": "stdout",
       "text": [
        "\n",
        "SS:06/2011\n",
        "19:06/2011"
       ]
      },
      {
       "output_type": "stream",
       "stream": "stdout",
       "text": [
        "\n",
        "SH:06/2011\n",
        "SO:06/2011"
       ]
      },
      {
       "output_type": "stream",
       "stream": "stdout",
       "text": [
        "\n",
        "SL:06/2011\n",
        "OW:06/2011"
       ]
      },
      {
       "output_type": "stream",
       "stream": "stdout",
       "text": [
        "\n",
        "SB:06/2011\n",
        "OR:06/2011"
       ]
      },
      {
       "output_type": "stream",
       "stream": "stdout",
       "text": [
        "\n",
        "HY:06/2011\n",
        "DC:06/2011"
       ]
      },
      {
       "output_type": "stream",
       "stream": "stdout",
       "text": [
        "\n",
        "LF:06/2011"
       ]
      },
      {
       "output_type": "stream",
       "stream": "stdout",
       "text": [
        "\n",
        "GP:06/2011\n",
        "PH:06/2011"
       ]
      },
      {
       "output_type": "stream",
       "stream": "stdout",
       "text": [
        "\n",
        "PL:06/2011\n",
        "EM:06/2011"
       ]
      },
      {
       "output_type": "stream",
       "stream": "stdout",
       "text": [
        "\n",
        "EN:06/2011\n",
        "ED:06/2011"
       ]
      },
      {
       "output_type": "stream",
       "stream": "stdout",
       "text": [
        "\n",
        "AS:06/2011\n",
        "EP:06/2011"
       ]
      },
      {
       "output_type": "stream",
       "stream": "stdout",
       "text": [
        "\n",
        "MA:06/2011\n",
        "MB:06/2011"
       ]
      },
      {
       "output_type": "stream",
       "stream": "stdout",
       "text": [
        "\n",
        "MT:06/2011\n",
        "UC:06/2011"
       ]
      },
      {
       "output_type": "stream",
       "stream": "stdout",
       "text": [
        "\n",
        "BF:07/2011"
       ]
      },
      {
       "output_type": "stream",
       "stream": "stdout",
       "text": [
        "\n",
        "LM:07/2011\n",
        "WC:07/2011"
       ]
      },
      {
       "output_type": "stream",
       "stream": "stdout",
       "text": [
        "\n",
        "FV:07/2011\n",
        "BK:07/2011"
       ]
      },
      {
       "output_type": "stream",
       "stream": "stdout",
       "text": [
        "\n",
        "BP:07/2011"
       ]
      },
      {
       "output_type": "stream",
       "stream": "stdout",
       "text": [
        "\n",
        "WP:07/2011"
       ]
      },
      {
       "output_type": "stream",
       "stream": "stdout",
       "text": [
        "\n",
        "FM:07/2011\n",
        "24:07/2011"
       ]
      },
      {
       "output_type": "stream",
       "stream": "stdout",
       "text": [
        "\n",
        "RR:07/2011\n",
        "NB:07/2011"
       ]
      },
      {
       "output_type": "stream",
       "stream": "stdout",
       "text": [
        "\n",
        "NC:07/2011"
       ]
      },
      {
       "output_type": "stream",
       "stream": "stdout",
       "text": [
        "\n",
        "RM:07/2011"
       ]
      },
      {
       "output_type": "stream",
       "stream": "stdout",
       "text": [
        "\n",
        "CN:07/2011\n",
        "CM:07/2011"
       ]
      },
      {
       "output_type": "stream",
       "stream": "stdout",
       "text": [
        "\n",
        "CL:07/2011\n",
        "CC:07/2011"
       ]
      },
      {
       "output_type": "stream",
       "stream": "stdout",
       "text": [
        "\n",
        "CV:07/2011"
       ]
      },
      {
       "output_type": "stream",
       "stream": "stdout",
       "text": [
        "\n",
        "12:07/2011"
       ]
      },
      {
       "output_type": "stream",
       "stream": "stdout",
       "text": [
        "\n",
        "16:07/2011"
       ]
      },
      {
       "output_type": "stream",
       "stream": "stdout",
       "text": [
        "\n",
        "SS:07/2011"
       ]
      },
      {
       "output_type": "stream",
       "stream": "stdout",
       "text": [
        "\n",
        "19:07/2011"
       ]
      },
      {
       "output_type": "stream",
       "stream": "stdout",
       "text": [
        "\n",
        "SH:07/2011\n",
        "SO:07/2011"
       ]
      },
      {
       "output_type": "stream",
       "stream": "stdout",
       "text": [
        "\n",
        "SL:07/2011"
       ]
      },
      {
       "output_type": "stream",
       "stream": "stdout",
       "text": [
        "\n",
        "OW:07/2011"
       ]
      },
      {
       "output_type": "stream",
       "stream": "stdout",
       "text": [
        "\n",
        "SB:07/2011\n",
        "OR:07/2011"
       ]
      },
      {
       "output_type": "stream",
       "stream": "stdout",
       "text": [
        "\n",
        "HY:07/2011\n",
        "DC:07/2011"
       ]
      },
      {
       "output_type": "stream",
       "stream": "stdout",
       "text": [
        "\n",
        "LF:07/2011\n",
        "GP:07/2011"
       ]
      },
      {
       "output_type": "stream",
       "stream": "stdout",
       "text": [
        "\n",
        "PH:07/2011\n",
        "PL:07/2011"
       ]
      },
      {
       "output_type": "stream",
       "stream": "stdout",
       "text": [
        "\n",
        "EM:07/2011"
       ]
      },
      {
       "output_type": "stream",
       "stream": "stdout",
       "text": [
        "\n",
        "EN:07/2011\n",
        "ED:07/2011"
       ]
      },
      {
       "output_type": "stream",
       "stream": "stdout",
       "text": [
        "\n",
        "AS:07/2011"
       ]
      },
      {
       "output_type": "stream",
       "stream": "stdout",
       "text": [
        "\n",
        "EP:07/2011"
       ]
      },
      {
       "output_type": "stream",
       "stream": "stdout",
       "text": [
        "\n",
        "MA:07/2011"
       ]
      },
      {
       "output_type": "stream",
       "stream": "stdout",
       "text": [
        "\n",
        "MB:07/2011"
       ]
      },
      {
       "output_type": "stream",
       "stream": "stdout",
       "text": [
        "\n",
        "MT:07/2011\n",
        "UC:07/2011"
       ]
      },
      {
       "output_type": "stream",
       "stream": "stdout",
       "text": [
        "\n",
        "BF:08/2011"
       ]
      },
      {
       "output_type": "stream",
       "stream": "stdout",
       "text": [
        "\n",
        "LM:08/2011\n",
        "WC:08/2011"
       ]
      },
      {
       "output_type": "stream",
       "stream": "stdout",
       "text": [
        "\n",
        "FV:08/2011\n",
        "BK:08/2011"
       ]
      },
      {
       "output_type": "stream",
       "stream": "stdout",
       "text": [
        "\n",
        "BP:08/2011\n",
        "WP:08/2011"
       ]
      },
      {
       "output_type": "stream",
       "stream": "stdout",
       "text": [
        "\n",
        "FM:08/2011\n",
        "24:08/2011"
       ]
      },
      {
       "output_type": "stream",
       "stream": "stdout",
       "text": [
        "\n",
        "RR:08/2011\n",
        "NB:08/2011"
       ]
      },
      {
       "output_type": "stream",
       "stream": "stdout",
       "text": [
        "\n",
        "NC:08/2011"
       ]
      },
      {
       "output_type": "stream",
       "stream": "stdout",
       "text": [
        "\n",
        "RM:08/2011"
       ]
      },
      {
       "output_type": "stream",
       "stream": "stdout",
       "text": [
        "\n",
        "CN:08/2011\n",
        "CM:08/2011"
       ]
      },
      {
       "output_type": "stream",
       "stream": "stdout",
       "text": [
        "\n",
        "CL:08/2011\n",
        "CC:08/2011"
       ]
      },
      {
       "output_type": "stream",
       "stream": "stdout",
       "text": [
        "\n",
        "CV:08/2011\n",
        "12:08/2011"
       ]
      },
      {
       "output_type": "stream",
       "stream": "stdout",
       "text": [
        "\n",
        "16:08/2011\n",
        "SS:08/2011"
       ]
      },
      {
       "output_type": "stream",
       "stream": "stdout",
       "text": [
        "\n",
        "19:08/2011\n",
        "SH:08/2011"
       ]
      },
      {
       "output_type": "stream",
       "stream": "stdout",
       "text": [
        "\n",
        "SO:08/2011"
       ]
      },
      {
       "output_type": "stream",
       "stream": "stdout",
       "text": [
        "\n",
        "SL:08/2011"
       ]
      },
      {
       "output_type": "stream",
       "stream": "stdout",
       "text": [
        "\n",
        "OW:08/2011"
       ]
      },
      {
       "output_type": "stream",
       "stream": "stdout",
       "text": [
        "\n",
        "SB:08/2011\n",
        "OR:08/2011"
       ]
      },
      {
       "output_type": "stream",
       "stream": "stdout",
       "text": [
        "\n",
        "HY:08/2011\n",
        "DC:08/2011"
       ]
      },
      {
       "output_type": "stream",
       "stream": "stdout",
       "text": [
        "\n",
        "LF:08/2011"
       ]
      },
      {
       "output_type": "stream",
       "stream": "stdout",
       "text": [
        "\n",
        "GP:08/2011\n",
        "PH:08/2011"
       ]
      },
      {
       "output_type": "stream",
       "stream": "stdout",
       "text": [
        "\n",
        "PL:08/2011"
       ]
      },
      {
       "output_type": "stream",
       "stream": "stdout",
       "text": [
        "\n",
        "EM:08/2011"
       ]
      },
      {
       "output_type": "stream",
       "stream": "stdout",
       "text": [
        "\n",
        "EN:08/2011"
       ]
      },
      {
       "output_type": "stream",
       "stream": "stdout",
       "text": [
        "\n",
        "ED:08/2011"
       ]
      },
      {
       "output_type": "stream",
       "stream": "stdout",
       "text": [
        "\n",
        "AS:08/2011\n",
        "EP:08/2011"
       ]
      },
      {
       "output_type": "stream",
       "stream": "stdout",
       "text": [
        "\n",
        "MA:08/2011"
       ]
      },
      {
       "output_type": "stream",
       "stream": "stdout",
       "text": [
        "\n",
        "MB:08/2011"
       ]
      },
      {
       "output_type": "stream",
       "stream": "stdout",
       "text": [
        "\n",
        "MT:08/2011"
       ]
      },
      {
       "output_type": "stream",
       "stream": "stdout",
       "text": [
        "\n",
        "UC:08/2011"
       ]
      },
      {
       "output_type": "stream",
       "stream": "stdout",
       "text": [
        "\n",
        "BF:09/2011"
       ]
      },
      {
       "output_type": "stream",
       "stream": "stdout",
       "text": [
        "\n",
        "LM:09/2011\n",
        "WC:09/2011"
       ]
      },
      {
       "output_type": "stream",
       "stream": "stdout",
       "text": [
        "\n",
        "FV:09/2011\n",
        "BK:09/2011"
       ]
      },
      {
       "output_type": "stream",
       "stream": "stdout",
       "text": [
        "\n",
        "BP:09/2011"
       ]
      },
      {
       "output_type": "stream",
       "stream": "stdout",
       "text": [
        "\n",
        "WP:09/2011"
       ]
      },
      {
       "output_type": "stream",
       "stream": "stdout",
       "text": [
        "\n",
        "FM:09/2011"
       ]
      },
      {
       "output_type": "stream",
       "stream": "stdout",
       "text": [
        "\n",
        "24:09/2011"
       ]
      },
      {
       "output_type": "stream",
       "stream": "stdout",
       "text": [
        "\n",
        "RR:09/2011"
       ]
      },
      {
       "output_type": "stream",
       "stream": "stdout",
       "text": [
        "\n",
        "NB:09/2011"
       ]
      },
      {
       "output_type": "stream",
       "stream": "stdout",
       "text": [
        "\n",
        "NC:09/2011"
       ]
      },
      {
       "output_type": "stream",
       "stream": "stdout",
       "text": [
        "\n",
        "RM:09/2011"
       ]
      },
      {
       "output_type": "stream",
       "stream": "stdout",
       "text": [
        "\n",
        "CN:09/2011"
       ]
      },
      {
       "output_type": "stream",
       "stream": "stdout",
       "text": [
        "\n",
        "CM:09/2011"
       ]
      },
      {
       "output_type": "stream",
       "stream": "stdout",
       "text": [
        "\n",
        "CL:09/2011"
       ]
      },
      {
       "output_type": "stream",
       "stream": "stdout",
       "text": [
        "\n",
        "CC:09/2011"
       ]
      },
      {
       "output_type": "stream",
       "stream": "stdout",
       "text": [
        "\n",
        "CV:09/2011\n",
        "12:09/2011"
       ]
      },
      {
       "output_type": "stream",
       "stream": "stdout",
       "text": [
        "\n",
        "16:09/2011"
       ]
      },
      {
       "output_type": "stream",
       "stream": "stdout",
       "text": [
        "\n",
        "SS:09/2011\n",
        "19:09/2011"
       ]
      },
      {
       "output_type": "stream",
       "stream": "stdout",
       "text": [
        "\n",
        "SH:09/2011\n",
        "SO:09/2011"
       ]
      },
      {
       "output_type": "stream",
       "stream": "stdout",
       "text": [
        "\n",
        "SL:09/2011\n",
        "OW:09/2011"
       ]
      },
      {
       "output_type": "stream",
       "stream": "stdout",
       "text": [
        "\n",
        "SB:09/2011\n",
        "OR:09/2011"
       ]
      },
      {
       "output_type": "stream",
       "stream": "stdout",
       "text": [
        "\n",
        "HY:09/2011"
       ]
      },
      {
       "output_type": "stream",
       "stream": "stdout",
       "text": [
        "\n",
        "DC:09/2011"
       ]
      },
      {
       "output_type": "stream",
       "stream": "stdout",
       "text": [
        "\n",
        "LF:09/2011"
       ]
      },
      {
       "output_type": "stream",
       "stream": "stdout",
       "text": [
        "\n",
        "GP:09/2011\n",
        "PH:09/2011"
       ]
      },
      {
       "output_type": "stream",
       "stream": "stdout",
       "text": [
        "\n",
        "PL:09/2011\n",
        "EM:09/2011"
       ]
      },
      {
       "output_type": "stream",
       "stream": "stdout",
       "text": [
        "\n",
        "EN:09/2011\n",
        "ED:09/2011"
       ]
      },
      {
       "output_type": "stream",
       "stream": "stdout",
       "text": [
        "\n",
        "AS:09/2011"
       ]
      },
      {
       "output_type": "stream",
       "stream": "stdout",
       "text": [
        "\n",
        "EP:09/2011"
       ]
      },
      {
       "output_type": "stream",
       "stream": "stdout",
       "text": [
        "\n",
        "MA:09/2011"
       ]
      },
      {
       "output_type": "stream",
       "stream": "stdout",
       "text": [
        "\n",
        "MB:09/2011"
       ]
      },
      {
       "output_type": "stream",
       "stream": "stdout",
       "text": [
        "\n",
        "MT:09/2011\n",
        "UC:09/2011"
       ]
      },
      {
       "output_type": "stream",
       "stream": "stdout",
       "text": [
        "\n",
        "BF:10/2011"
       ]
      },
      {
       "output_type": "stream",
       "stream": "stdout",
       "text": [
        "\n",
        "LM:10/2011\n",
        "WC:10/2011"
       ]
      },
      {
       "output_type": "stream",
       "stream": "stdout",
       "text": [
        "\n",
        "FV:10/2011\n",
        "BK:10/2011"
       ]
      },
      {
       "output_type": "stream",
       "stream": "stdout",
       "text": [
        "\n",
        "BP:10/2011\n",
        "WP:10/2011"
       ]
      },
      {
       "output_type": "stream",
       "stream": "stdout",
       "text": [
        "\n",
        "FM:10/2011\n",
        "24:10/2011"
       ]
      },
      {
       "output_type": "stream",
       "stream": "stdout",
       "text": [
        "\n",
        "RR:10/2011"
       ]
      },
      {
       "output_type": "stream",
       "stream": "stdout",
       "text": [
        "\n",
        "NB:10/2011"
       ]
      },
      {
       "output_type": "stream",
       "stream": "stdout",
       "text": [
        "\n",
        "NC:10/2011"
       ]
      },
      {
       "output_type": "stream",
       "stream": "stdout",
       "text": [
        "\n",
        "RM:10/2011\n",
        "CN:10/2011"
       ]
      },
      {
       "output_type": "stream",
       "stream": "stdout",
       "text": [
        "\n",
        "CM:10/2011"
       ]
      },
      {
       "output_type": "stream",
       "stream": "stdout",
       "text": [
        "\n",
        "CL:10/2011"
       ]
      },
      {
       "output_type": "stream",
       "stream": "stdout",
       "text": [
        "\n",
        "CC:10/2011"
       ]
      },
      {
       "output_type": "stream",
       "stream": "stdout",
       "text": [
        "\n",
        "CV:10/2011\n",
        "12:10/2011"
       ]
      },
      {
       "output_type": "stream",
       "stream": "stdout",
       "text": [
        "\n",
        "16:10/2011"
       ]
      },
      {
       "output_type": "stream",
       "stream": "stdout",
       "text": [
        "\n",
        "SS:10/2011"
       ]
      },
      {
       "output_type": "stream",
       "stream": "stdout",
       "text": [
        "\n",
        "19:10/2011"
       ]
      },
      {
       "output_type": "stream",
       "stream": "stdout",
       "text": [
        "\n",
        "SH:10/2011"
       ]
      },
      {
       "output_type": "stream",
       "stream": "stdout",
       "text": [
        "\n",
        "SO:10/2011\n",
        "SL:10/2011"
       ]
      },
      {
       "output_type": "stream",
       "stream": "stdout",
       "text": [
        "\n",
        "OW:10/2011"
       ]
      },
      {
       "output_type": "stream",
       "stream": "stdout",
       "text": [
        "\n",
        "SB:10/2011"
       ]
      },
      {
       "output_type": "stream",
       "stream": "stdout",
       "text": [
        "\n",
        "OR:10/2011"
       ]
      },
      {
       "output_type": "stream",
       "stream": "stdout",
       "text": [
        "\n",
        "HY:10/2011"
       ]
      },
      {
       "output_type": "stream",
       "stream": "stdout",
       "text": [
        "\n",
        "DC:10/2011\n",
        "LF:10/2011"
       ]
      },
      {
       "output_type": "stream",
       "stream": "stdout",
       "text": [
        "\n",
        "GP:10/2011\n",
        "PH:10/2011"
       ]
      },
      {
       "output_type": "stream",
       "stream": "stdout",
       "text": [
        "\n",
        "PL:10/2011"
       ]
      },
      {
       "output_type": "stream",
       "stream": "stdout",
       "text": [
        "\n",
        "EM:10/2011"
       ]
      },
      {
       "output_type": "stream",
       "stream": "stdout",
       "text": [
        "\n",
        "EN:10/2011\n",
        "ED:10/2011"
       ]
      },
      {
       "output_type": "stream",
       "stream": "stdout",
       "text": [
        "\n",
        "AS:10/2011\n",
        "EP:10/2011"
       ]
      },
      {
       "output_type": "stream",
       "stream": "stdout",
       "text": [
        "\n",
        "MA:10/2011"
       ]
      },
      {
       "output_type": "stream",
       "stream": "stdout",
       "text": [
        "\n",
        "MB:10/2011"
       ]
      },
      {
       "output_type": "stream",
       "stream": "stdout",
       "text": [
        "\n",
        "MT:10/2011\n",
        "UC:10/2011"
       ]
      },
      {
       "output_type": "stream",
       "stream": "stdout",
       "text": [
        "\n",
        "BF:11/2011"
       ]
      },
      {
       "output_type": "stream",
       "stream": "stdout",
       "text": [
        "\n",
        "LM:11/2011"
       ]
      },
      {
       "output_type": "stream",
       "stream": "stdout",
       "text": [
        "\n",
        "WC:11/2011"
       ]
      },
      {
       "output_type": "stream",
       "stream": "stdout",
       "text": [
        "\n",
        "FV:11/2011"
       ]
      },
      {
       "output_type": "stream",
       "stream": "stdout",
       "text": [
        "\n",
        "BK:11/2011"
       ]
      },
      {
       "output_type": "stream",
       "stream": "stdout",
       "text": [
        "\n",
        "BP:11/2011"
       ]
      },
      {
       "output_type": "stream",
       "stream": "stdout",
       "text": [
        "\n",
        "WP:11/2011\n",
        "FM:11/2011"
       ]
      },
      {
       "output_type": "stream",
       "stream": "stdout",
       "text": [
        "\n",
        "24:11/2011"
       ]
      },
      {
       "output_type": "stream",
       "stream": "stdout",
       "text": [
        "\n",
        "RR:11/2011"
       ]
      },
      {
       "output_type": "stream",
       "stream": "stdout",
       "text": [
        "\n",
        "NB:11/2011"
       ]
      },
      {
       "output_type": "stream",
       "stream": "stdout",
       "text": [
        "\n",
        "NC:11/2011"
       ]
      },
      {
       "output_type": "stream",
       "stream": "stdout",
       "text": [
        "\n",
        "RM:11/2011"
       ]
      },
      {
       "output_type": "stream",
       "stream": "stdout",
       "text": [
        "\n",
        "CN:11/2011"
       ]
      },
      {
       "output_type": "stream",
       "stream": "stdout",
       "text": [
        "\n",
        "CM:11/2011"
       ]
      },
      {
       "output_type": "stream",
       "stream": "stdout",
       "text": [
        "\n",
        "CL:11/2011\n",
        "CC:11/2011"
       ]
      },
      {
       "output_type": "stream",
       "stream": "stdout",
       "text": [
        "\n",
        "CV:11/2011"
       ]
      },
      {
       "output_type": "stream",
       "stream": "stdout",
       "text": [
        "\n",
        "12:11/2011"
       ]
      },
      {
       "output_type": "stream",
       "stream": "stdout",
       "text": [
        "\n",
        "16:11/2011"
       ]
      },
      {
       "output_type": "stream",
       "stream": "stdout",
       "text": [
        "\n",
        "SS:11/2011"
       ]
      },
      {
       "output_type": "stream",
       "stream": "stdout",
       "text": [
        "\n",
        "19:11/2011"
       ]
      },
      {
       "output_type": "stream",
       "stream": "stdout",
       "text": [
        "\n",
        "SH:11/2011"
       ]
      },
      {
       "output_type": "stream",
       "stream": "stdout",
       "text": [
        "\n",
        "SO:11/2011"
       ]
      },
      {
       "output_type": "stream",
       "stream": "stdout",
       "text": [
        "\n",
        "SL:11/2011\n",
        "OW:11/2011"
       ]
      },
      {
       "output_type": "stream",
       "stream": "stdout",
       "text": [
        "\n",
        "SB:11/2011\n",
        "OR:11/2011"
       ]
      },
      {
       "output_type": "stream",
       "stream": "stdout",
       "text": [
        "\n",
        "HY:11/2011"
       ]
      },
      {
       "output_type": "stream",
       "stream": "stdout",
       "text": [
        "\n",
        "DC:11/2011\n",
        "LF:11/2011"
       ]
      },
      {
       "output_type": "stream",
       "stream": "stdout",
       "text": [
        "\n",
        "GP:11/2011\n",
        "PH:11/2011"
       ]
      },
      {
       "output_type": "stream",
       "stream": "stdout",
       "text": [
        "\n",
        "PL:11/2011"
       ]
      },
      {
       "output_type": "stream",
       "stream": "stdout",
       "text": [
        "\n",
        "EM:11/2011"
       ]
      },
      {
       "output_type": "stream",
       "stream": "stdout",
       "text": [
        "\n",
        "EN:11/2011"
       ]
      },
      {
       "output_type": "stream",
       "stream": "stdout",
       "text": [
        "\n",
        "ED:11/2011"
       ]
      },
      {
       "output_type": "stream",
       "stream": "stdout",
       "text": [
        "\n",
        "AS:11/2011"
       ]
      },
      {
       "output_type": "stream",
       "stream": "stdout",
       "text": [
        "\n",
        "EP:11/2011\n",
        "MA:11/2011"
       ]
      },
      {
       "output_type": "stream",
       "stream": "stdout",
       "text": [
        "\n",
        "MB:11/2011"
       ]
      },
      {
       "output_type": "stream",
       "stream": "stdout",
       "text": [
        "\n",
        "MT:11/2011"
       ]
      },
      {
       "output_type": "stream",
       "stream": "stdout",
       "text": [
        "\n",
        "UC:11/2011"
       ]
      },
      {
       "output_type": "stream",
       "stream": "stdout",
       "text": [
        "\n",
        "BF:12/2011"
       ]
      },
      {
       "output_type": "stream",
       "stream": "stdout",
       "text": [
        "\n",
        "LM:12/2011\n",
        "WC:12/2011"
       ]
      },
      {
       "output_type": "stream",
       "stream": "stdout",
       "text": [
        "\n",
        "FV:12/2011\n",
        "BK:12/2011"
       ]
      },
      {
       "output_type": "stream",
       "stream": "stdout",
       "text": [
        "\n",
        "BP:12/2011\n",
        "WP:12/2011"
       ]
      },
      {
       "output_type": "stream",
       "stream": "stdout",
       "text": [
        "\n",
        "FM:12/2011"
       ]
      },
      {
       "output_type": "stream",
       "stream": "stdout",
       "text": [
        "\n",
        "24:12/2011"
       ]
      },
      {
       "output_type": "stream",
       "stream": "stdout",
       "text": [
        "\n",
        "RR:12/2011\n",
        "NB:12/2011"
       ]
      },
      {
       "output_type": "stream",
       "stream": "stdout",
       "text": [
        "\n",
        "NC:12/2011\n",
        "RM:12/2011"
       ]
      },
      {
       "output_type": "stream",
       "stream": "stdout",
       "text": [
        "\n",
        "CN:12/2011\n",
        "CM:12/2011"
       ]
      },
      {
       "output_type": "stream",
       "stream": "stdout",
       "text": [
        "\n",
        "CL:12/2011\n",
        "CC:12/2011"
       ]
      },
      {
       "output_type": "stream",
       "stream": "stdout",
       "text": [
        "\n",
        "CV:12/2011\n",
        "12:12/2011"
       ]
      },
      {
       "output_type": "stream",
       "stream": "stdout",
       "text": [
        "\n",
        "16:12/2011"
       ]
      },
      {
       "output_type": "stream",
       "stream": "stdout",
       "text": [
        "\n",
        "SS:12/2011\n",
        "19:12/2011"
       ]
      },
      {
       "output_type": "stream",
       "stream": "stdout",
       "text": [
        "\n",
        "SH:12/2011"
       ]
      },
      {
       "output_type": "stream",
       "stream": "stdout",
       "text": [
        "\n",
        "SO:12/2011\n",
        "SL:12/2011"
       ]
      },
      {
       "output_type": "stream",
       "stream": "stdout",
       "text": [
        "\n",
        "OW:12/2011\n",
        "SB:12/2011"
       ]
      },
      {
       "output_type": "stream",
       "stream": "stdout",
       "text": [
        "\n",
        "OR:12/2011\n",
        "HY:12/2011"
       ]
      },
      {
       "output_type": "stream",
       "stream": "stdout",
       "text": [
        "\n",
        "DC:12/2011\n",
        "LF:12/2011"
       ]
      },
      {
       "output_type": "stream",
       "stream": "stdout",
       "text": [
        "\n",
        "GP:12/2011\n",
        "PH:12/2011"
       ]
      },
      {
       "output_type": "stream",
       "stream": "stdout",
       "text": [
        "\n",
        "PL:12/2011"
       ]
      },
      {
       "output_type": "stream",
       "stream": "stdout",
       "text": [
        "\n",
        "EM:12/2011\n",
        "EN:12/2011"
       ]
      },
      {
       "output_type": "stream",
       "stream": "stdout",
       "text": [
        "\n",
        "ED:12/2011\n",
        "AS:12/2011"
       ]
      },
      {
       "output_type": "stream",
       "stream": "stdout",
       "text": [
        "\n",
        "EP:12/2011\n",
        "MA:12/2011"
       ]
      },
      {
       "output_type": "stream",
       "stream": "stdout",
       "text": [
        "\n",
        "MB:12/2011"
       ]
      },
      {
       "output_type": "stream",
       "stream": "stdout",
       "text": [
        "\n",
        "MT:12/2011"
       ]
      },
      {
       "output_type": "stream",
       "stream": "stdout",
       "text": [
        "\n",
        "UC:12/2011\n",
        "BF:01/2012"
       ]
      },
      {
       "output_type": "stream",
       "stream": "stdout",
       "text": [
        "\n",
        "LM:01/2012\n",
        "WC:01/2012"
       ]
      },
      {
       "output_type": "stream",
       "stream": "stdout",
       "text": [
        "\n",
        "FV:01/2012"
       ]
      },
      {
       "output_type": "stream",
       "stream": "stdout",
       "text": [
        "\n",
        "BK:01/2012"
       ]
      },
      {
       "output_type": "stream",
       "stream": "stdout",
       "text": [
        "\n",
        "BP:01/2012"
       ]
      },
      {
       "output_type": "stream",
       "stream": "stdout",
       "text": [
        "\n",
        "WP:01/2012"
       ]
      },
      {
       "output_type": "stream",
       "stream": "stdout",
       "text": [
        "\n",
        "FM:01/2012\n",
        "24:01/2012"
       ]
      },
      {
       "output_type": "stream",
       "stream": "stdout",
       "text": [
        "\n",
        "RR:01/2012"
       ]
      },
      {
       "output_type": "stream",
       "stream": "stdout",
       "text": [
        "\n",
        "NB:01/2012"
       ]
      },
      {
       "output_type": "stream",
       "stream": "stdout",
       "text": [
        "\n",
        "NC:01/2012\n",
        "RM:01/2012"
       ]
      },
      {
       "output_type": "stream",
       "stream": "stdout",
       "text": [
        "\n",
        "CN:01/2012"
       ]
      },
      {
       "output_type": "stream",
       "stream": "stdout",
       "text": [
        "\n",
        "CM:01/2012\n",
        "CL:01/2012"
       ]
      },
      {
       "output_type": "stream",
       "stream": "stdout",
       "text": [
        "\n",
        "CC:01/2012\n",
        "CV:01/2012"
       ]
      },
      {
       "output_type": "stream",
       "stream": "stdout",
       "text": [
        "\n",
        "12:01/2012\n",
        "16:01/2012"
       ]
      },
      {
       "output_type": "stream",
       "stream": "stdout",
       "text": [
        "\n",
        "SS:01/2012\n",
        "19:01/2012"
       ]
      },
      {
       "output_type": "stream",
       "stream": "stdout",
       "text": [
        "\n",
        "SH:01/2012\n",
        "SO:01/2012"
       ]
      },
      {
       "output_type": "stream",
       "stream": "stdout",
       "text": [
        "\n",
        "SL:01/2012\n",
        "OW:01/2012"
       ]
      },
      {
       "output_type": "stream",
       "stream": "stdout",
       "text": [
        "\n",
        "SB:01/2012"
       ]
      },
      {
       "output_type": "stream",
       "stream": "stdout",
       "text": [
        "\n",
        "OR:01/2012"
       ]
      },
      {
       "output_type": "stream",
       "stream": "stdout",
       "text": [
        "\n",
        "HY:01/2012\n",
        "DC:01/2012"
       ]
      },
      {
       "output_type": "stream",
       "stream": "stdout",
       "text": [
        "\n",
        "LF:01/2012\n",
        "GP:01/2012"
       ]
      },
      {
       "output_type": "stream",
       "stream": "stdout",
       "text": [
        "\n",
        "PH:01/2012\n",
        "PL:01/2012"
       ]
      },
      {
       "output_type": "stream",
       "stream": "stdout",
       "text": [
        "\n",
        "EM:01/2012\n",
        "EN:01/2012"
       ]
      },
      {
       "output_type": "stream",
       "stream": "stdout",
       "text": [
        "\n",
        "ED:01/2012"
       ]
      },
      {
       "output_type": "stream",
       "stream": "stdout",
       "text": [
        "\n",
        "AS:01/2012"
       ]
      },
      {
       "output_type": "stream",
       "stream": "stdout",
       "text": [
        "\n",
        "EP:01/2012"
       ]
      },
      {
       "output_type": "stream",
       "stream": "stdout",
       "text": [
        "\n",
        "MA:01/2012"
       ]
      },
      {
       "output_type": "stream",
       "stream": "stdout",
       "text": [
        "\n",
        "MB:01/2012"
       ]
      },
      {
       "output_type": "stream",
       "stream": "stdout",
       "text": [
        "\n",
        "MT:01/2012\n",
        "UC:01/2012"
       ]
      },
      {
       "output_type": "stream",
       "stream": "stdout",
       "text": [
        "\n",
        "BF:02/2012"
       ]
      },
      {
       "output_type": "stream",
       "stream": "stdout",
       "text": [
        "\n",
        "LM:02/2012"
       ]
      },
      {
       "output_type": "stream",
       "stream": "stdout",
       "text": [
        "\n",
        "WC:02/2012\n",
        "FV:02/2012"
       ]
      },
      {
       "output_type": "stream",
       "stream": "stdout",
       "text": [
        "\n",
        "BK:02/2012\n",
        "BP:02/2012"
       ]
      },
      {
       "output_type": "stream",
       "stream": "stdout",
       "text": [
        "\n",
        "WP:02/2012"
       ]
      },
      {
       "output_type": "stream",
       "stream": "stdout",
       "text": [
        "\n",
        "FM:02/2012"
       ]
      },
      {
       "output_type": "stream",
       "stream": "stdout",
       "text": [
        "\n",
        "24:02/2012\n",
        "RR:02/2012"
       ]
      },
      {
       "output_type": "stream",
       "stream": "stdout",
       "text": [
        "\n",
        "NB:02/2012\n",
        "NC:02/2012"
       ]
      },
      {
       "output_type": "stream",
       "stream": "stdout",
       "text": [
        "\n",
        "RM:02/2012"
       ]
      },
      {
       "output_type": "stream",
       "stream": "stdout",
       "text": [
        "\n",
        "CN:02/2012\n",
        "CM:02/2012"
       ]
      },
      {
       "output_type": "stream",
       "stream": "stdout",
       "text": [
        "\n",
        "CL:02/2012"
       ]
      },
      {
       "output_type": "stream",
       "stream": "stdout",
       "text": [
        "\n",
        "CC:02/2012"
       ]
      },
      {
       "output_type": "stream",
       "stream": "stdout",
       "text": [
        "\n",
        "CV:02/2012"
       ]
      },
      {
       "output_type": "stream",
       "stream": "stdout",
       "text": [
        "\n",
        "12:02/2012\n",
        "16:02/2012"
       ]
      },
      {
       "output_type": "stream",
       "stream": "stdout",
       "text": [
        "\n",
        "SS:02/2012\n",
        "19:02/2012"
       ]
      },
      {
       "output_type": "stream",
       "stream": "stdout",
       "text": [
        "\n",
        "SH:02/2012"
       ]
      },
      {
       "output_type": "stream",
       "stream": "stdout",
       "text": [
        "\n",
        "SO:02/2012"
       ]
      },
      {
       "output_type": "stream",
       "stream": "stdout",
       "text": [
        "\n",
        "SL:02/2012"
       ]
      },
      {
       "output_type": "stream",
       "stream": "stdout",
       "text": [
        "\n",
        "OW:02/2012"
       ]
      },
      {
       "output_type": "stream",
       "stream": "stdout",
       "text": [
        "\n",
        "SB:02/2012"
       ]
      },
      {
       "output_type": "stream",
       "stream": "stdout",
       "text": [
        "\n",
        "OR:02/2012"
       ]
      },
      {
       "output_type": "stream",
       "stream": "stdout",
       "text": [
        "\n",
        "HY:02/2012"
       ]
      },
      {
       "output_type": "stream",
       "stream": "stdout",
       "text": [
        "\n",
        "DC:02/2012"
       ]
      },
      {
       "output_type": "stream",
       "stream": "stdout",
       "text": [
        "\n",
        "LF:02/2012"
       ]
      },
      {
       "output_type": "stream",
       "stream": "stdout",
       "text": [
        "\n",
        "GP:02/2012"
       ]
      },
      {
       "output_type": "stream",
       "stream": "stdout",
       "text": [
        "\n",
        "PH:02/2012"
       ]
      },
      {
       "output_type": "stream",
       "stream": "stdout",
       "text": [
        "\n",
        "PL:02/2012"
       ]
      },
      {
       "output_type": "stream",
       "stream": "stdout",
       "text": [
        "\n",
        "EM:02/2012"
       ]
      },
      {
       "output_type": "stream",
       "stream": "stdout",
       "text": [
        "\n",
        "EN:02/2012"
       ]
      },
      {
       "output_type": "stream",
       "stream": "stdout",
       "text": [
        "\n",
        "ED:02/2012"
       ]
      },
      {
       "output_type": "stream",
       "stream": "stdout",
       "text": [
        "\n",
        "AS:02/2012"
       ]
      },
      {
       "output_type": "stream",
       "stream": "stdout",
       "text": [
        "\n",
        "EP:02/2012"
       ]
      },
      {
       "output_type": "stream",
       "stream": "stdout",
       "text": [
        "\n",
        "MA:02/2012"
       ]
      },
      {
       "output_type": "stream",
       "stream": "stdout",
       "text": [
        "\n",
        "MB:02/2012\n",
        "MT:02/2012"
       ]
      },
      {
       "output_type": "stream",
       "stream": "stdout",
       "text": [
        "\n",
        "UC:02/2012"
       ]
      },
      {
       "output_type": "stream",
       "stream": "stdout",
       "text": [
        "\n",
        "BF:03/2012"
       ]
      },
      {
       "output_type": "stream",
       "stream": "stdout",
       "text": [
        "\n",
        "LM:03/2012"
       ]
      },
      {
       "output_type": "stream",
       "stream": "stdout",
       "text": [
        "\n",
        "WC:03/2012"
       ]
      },
      {
       "output_type": "stream",
       "stream": "stdout",
       "text": [
        "\n",
        "FV:03/2012"
       ]
      },
      {
       "output_type": "stream",
       "stream": "stdout",
       "text": [
        "\n",
        "BK:03/2012"
       ]
      },
      {
       "output_type": "stream",
       "stream": "stdout",
       "text": [
        "\n",
        "BP:03/2012\n",
        "WP:03/2012"
       ]
      },
      {
       "output_type": "stream",
       "stream": "stdout",
       "text": [
        "\n",
        "FM:03/2012"
       ]
      },
      {
       "output_type": "stream",
       "stream": "stdout",
       "text": [
        "\n",
        "24:03/2012"
       ]
      },
      {
       "output_type": "stream",
       "stream": "stdout",
       "text": [
        "\n",
        "RR:03/2012"
       ]
      },
      {
       "output_type": "stream",
       "stream": "stdout",
       "text": [
        "\n",
        "NB:03/2012"
       ]
      },
      {
       "output_type": "stream",
       "stream": "stdout",
       "text": [
        "\n",
        "NC:03/2012\n",
        "RM:03/2012"
       ]
      },
      {
       "output_type": "stream",
       "stream": "stdout",
       "text": [
        "\n",
        "CN:03/2012"
       ]
      },
      {
       "output_type": "stream",
       "stream": "stdout",
       "text": [
        "\n",
        "CM:03/2012"
       ]
      },
      {
       "output_type": "stream",
       "stream": "stdout",
       "text": [
        "\n",
        "CL:03/2012"
       ]
      },
      {
       "output_type": "stream",
       "stream": "stdout",
       "text": [
        "\n",
        "CC:03/2012\n",
        "CV:03/2012"
       ]
      },
      {
       "output_type": "stream",
       "stream": "stdout",
       "text": [
        "\n",
        "12:03/2012"
       ]
      },
      {
       "output_type": "stream",
       "stream": "stdout",
       "text": [
        "\n",
        "16:03/2012"
       ]
      },
      {
       "output_type": "stream",
       "stream": "stdout",
       "text": [
        "\n",
        "SS:03/2012"
       ]
      },
      {
       "output_type": "stream",
       "stream": "stdout",
       "text": [
        "\n",
        "19:03/2012"
       ]
      },
      {
       "output_type": "stream",
       "stream": "stdout",
       "text": [
        "\n",
        "SH:03/2012"
       ]
      },
      {
       "output_type": "stream",
       "stream": "stdout",
       "text": [
        "\n",
        "SO:03/2012"
       ]
      },
      {
       "output_type": "stream",
       "stream": "stdout",
       "text": [
        "\n",
        "SL:03/2012"
       ]
      },
      {
       "output_type": "stream",
       "stream": "stdout",
       "text": [
        "\n",
        "OW:03/2012"
       ]
      },
      {
       "output_type": "stream",
       "stream": "stdout",
       "text": [
        "\n",
        "SB:03/2012"
       ]
      },
      {
       "output_type": "stream",
       "stream": "stdout",
       "text": [
        "\n",
        "OR:03/2012"
       ]
      },
      {
       "output_type": "stream",
       "stream": "stdout",
       "text": [
        "\n",
        "HY:03/2012\n",
        "DC:03/2012"
       ]
      },
      {
       "output_type": "stream",
       "stream": "stdout",
       "text": [
        "\n",
        "LF:03/2012\n",
        "GP:03/2012"
       ]
      },
      {
       "output_type": "stream",
       "stream": "stdout",
       "text": [
        "\n",
        "PH:03/2012"
       ]
      },
      {
       "output_type": "stream",
       "stream": "stdout",
       "text": [
        "\n",
        "PL:03/2012"
       ]
      },
      {
       "output_type": "stream",
       "stream": "stdout",
       "text": [
        "\n",
        "EM:03/2012\n",
        "EN:03/2012"
       ]
      },
      {
       "output_type": "stream",
       "stream": "stdout",
       "text": [
        "\n",
        "ED:03/2012"
       ]
      },
      {
       "output_type": "stream",
       "stream": "stdout",
       "text": [
        "\n",
        "AS:03/2012"
       ]
      },
      {
       "output_type": "stream",
       "stream": "stdout",
       "text": [
        "\n",
        "EP:03/2012\n",
        "MA:03/2012"
       ]
      },
      {
       "output_type": "stream",
       "stream": "stdout",
       "text": [
        "\n",
        "MB:03/2012"
       ]
      },
      {
       "output_type": "stream",
       "stream": "stdout",
       "text": [
        "\n",
        "MT:03/2012"
       ]
      },
      {
       "output_type": "stream",
       "stream": "stdout",
       "text": [
        "\n",
        "UC:03/2012"
       ]
      },
      {
       "output_type": "stream",
       "stream": "stdout",
       "text": [
        "\n",
        "BF:04/2012"
       ]
      },
      {
       "output_type": "stream",
       "stream": "stdout",
       "text": [
        "\n",
        "LM:04/2012\n",
        "WC:04/2012"
       ]
      },
      {
       "output_type": "stream",
       "stream": "stdout",
       "text": [
        "\n",
        "FV:04/2012"
       ]
      },
      {
       "output_type": "stream",
       "stream": "stdout",
       "text": [
        "\n",
        "BK:04/2012\n",
        "BP:04/2012"
       ]
      },
      {
       "output_type": "stream",
       "stream": "stdout",
       "text": [
        "\n",
        "WP:04/2012\n",
        "FM:04/2012"
       ]
      },
      {
       "output_type": "stream",
       "stream": "stdout",
       "text": [
        "\n",
        "24:04/2012\n",
        "RR:04/2012"
       ]
      },
      {
       "output_type": "stream",
       "stream": "stdout",
       "text": [
        "\n",
        "NB:04/2012\n",
        "NC:04/2012"
       ]
      },
      {
       "output_type": "stream",
       "stream": "stdout",
       "text": [
        "\n",
        "RM:04/2012\n",
        "CN:04/2012"
       ]
      },
      {
       "output_type": "stream",
       "stream": "stdout",
       "text": [
        "\n",
        "CM:04/2012\n",
        "CL:04/2012"
       ]
      },
      {
       "output_type": "stream",
       "stream": "stdout",
       "text": [
        "\n",
        "CC:04/2012\n",
        "CV:04/2012"
       ]
      },
      {
       "output_type": "stream",
       "stream": "stdout",
       "text": [
        "\n",
        "12:04/2012\n",
        "16:04/2012"
       ]
      },
      {
       "output_type": "stream",
       "stream": "stdout",
       "text": [
        "\n",
        "SS:04/2012"
       ]
      },
      {
       "output_type": "stream",
       "stream": "stdout",
       "text": [
        "\n",
        "19:04/2012"
       ]
      },
      {
       "output_type": "stream",
       "stream": "stdout",
       "text": [
        "\n",
        "SH:04/2012\n",
        "SO:04/2012"
       ]
      },
      {
       "output_type": "stream",
       "stream": "stdout",
       "text": [
        "\n",
        "SL:04/2012\n",
        "OW:04/2012"
       ]
      },
      {
       "output_type": "stream",
       "stream": "stdout",
       "text": [
        "\n",
        "SB:04/2012\n",
        "OR:04/2012"
       ]
      },
      {
       "output_type": "stream",
       "stream": "stdout",
       "text": [
        "\n",
        "HY:04/2012"
       ]
      },
      {
       "output_type": "stream",
       "stream": "stdout",
       "text": [
        "\n",
        "DC:04/2012"
       ]
      },
      {
       "output_type": "stream",
       "stream": "stdout",
       "text": [
        "\n",
        "LF:04/2012"
       ]
      },
      {
       "output_type": "stream",
       "stream": "stdout",
       "text": [
        "\n",
        "GP:04/2012"
       ]
      },
      {
       "output_type": "stream",
       "stream": "stdout",
       "text": [
        "\n",
        "PH:04/2012"
       ]
      },
      {
       "output_type": "stream",
       "stream": "stdout",
       "text": [
        "\n",
        "PL:04/2012"
       ]
      },
      {
       "output_type": "stream",
       "stream": "stdout",
       "text": [
        "\n",
        "EM:04/2012"
       ]
      },
      {
       "output_type": "stream",
       "stream": "stdout",
       "text": [
        "\n",
        "EN:04/2012"
       ]
      },
      {
       "output_type": "stream",
       "stream": "stdout",
       "text": [
        "\n",
        "ED:04/2012"
       ]
      },
      {
       "output_type": "stream",
       "stream": "stdout",
       "text": [
        "\n",
        "AS:04/2012\n",
        "EP:04/2012"
       ]
      },
      {
       "output_type": "stream",
       "stream": "stdout",
       "text": [
        "\n",
        "MA:04/2012"
       ]
      },
      {
       "output_type": "stream",
       "stream": "stdout",
       "text": [
        "\n",
        "MB:04/2012"
       ]
      },
      {
       "output_type": "stream",
       "stream": "stdout",
       "text": [
        "\n",
        "MT:04/2012\n",
        "UC:04/2012"
       ]
      },
      {
       "output_type": "stream",
       "stream": "stdout",
       "text": [
        "\n",
        "BF:05/2012"
       ]
      },
      {
       "output_type": "stream",
       "stream": "stdout",
       "text": [
        "\n",
        "LM:05/2012\n",
        "WC:05/2012"
       ]
      },
      {
       "output_type": "stream",
       "stream": "stdout",
       "text": [
        "\n",
        "FV:05/2012\n",
        "BK:05/2012"
       ]
      },
      {
       "output_type": "stream",
       "stream": "stdout",
       "text": [
        "\n",
        "BP:05/2012\n",
        "WP:05/2012"
       ]
      },
      {
       "output_type": "stream",
       "stream": "stdout",
       "text": [
        "\n",
        "FM:05/2012"
       ]
      },
      {
       "output_type": "stream",
       "stream": "stdout",
       "text": [
        "\n",
        "24:05/2012"
       ]
      },
      {
       "output_type": "stream",
       "stream": "stdout",
       "text": [
        "\n",
        "RR:05/2012\n",
        "NB:05/2012"
       ]
      },
      {
       "output_type": "stream",
       "stream": "stdout",
       "text": [
        "\n",
        "NC:05/2012\n",
        "RM:05/2012"
       ]
      },
      {
       "output_type": "stream",
       "stream": "stdout",
       "text": [
        "\n",
        "CN:05/2012\n",
        "CM:05/2012"
       ]
      },
      {
       "output_type": "stream",
       "stream": "stdout",
       "text": [
        "\n",
        "CL:05/2012"
       ]
      },
      {
       "output_type": "stream",
       "stream": "stdout",
       "text": [
        "\n",
        "CC:05/2012\n",
        "CV:05/2012"
       ]
      },
      {
       "output_type": "stream",
       "stream": "stdout",
       "text": [
        "\n",
        "12:05/2012\n",
        "16:05/2012"
       ]
      },
      {
       "output_type": "stream",
       "stream": "stdout",
       "text": [
        "\n",
        "SS:05/2012\n",
        "19:05/2012"
       ]
      },
      {
       "output_type": "stream",
       "stream": "stdout",
       "text": [
        "\n",
        "SH:05/2012\n",
        "SO:05/2012"
       ]
      },
      {
       "output_type": "stream",
       "stream": "stdout",
       "text": [
        "\n",
        "SL:05/2012\n",
        "OW:05/2012"
       ]
      },
      {
       "output_type": "stream",
       "stream": "stdout",
       "text": [
        "\n",
        "SB:05/2012\n",
        "OR:05/2012"
       ]
      },
      {
       "output_type": "stream",
       "stream": "stdout",
       "text": [
        "\n",
        "HY:05/2012\n",
        "DC:05/2012"
       ]
      },
      {
       "output_type": "stream",
       "stream": "stdout",
       "text": [
        "\n",
        "LF:05/2012\n",
        "GP:05/2012"
       ]
      },
      {
       "output_type": "stream",
       "stream": "stdout",
       "text": [
        "\n",
        "PH:05/2012\n",
        "PL:05/2012"
       ]
      },
      {
       "output_type": "stream",
       "stream": "stdout",
       "text": [
        "\n",
        "EM:05/2012"
       ]
      },
      {
       "output_type": "stream",
       "stream": "stdout",
       "text": [
        "\n",
        "EN:05/2012\n",
        "ED:05/2012"
       ]
      },
      {
       "output_type": "stream",
       "stream": "stdout",
       "text": [
        "\n",
        "AS:05/2012\n",
        "EP:05/2012"
       ]
      },
      {
       "output_type": "stream",
       "stream": "stdout",
       "text": [
        "\n",
        "MA:05/2012"
       ]
      },
      {
       "output_type": "stream",
       "stream": "stdout",
       "text": [
        "\n",
        "MB:05/2012\n",
        "MT:05/2012"
       ]
      },
      {
       "output_type": "stream",
       "stream": "stdout",
       "text": [
        "\n",
        "UC:05/2012\n",
        "BF:06/2012"
       ]
      },
      {
       "output_type": "stream",
       "stream": "stdout",
       "text": [
        "\n",
        "LM:06/2012\n",
        "WC:06/2012"
       ]
      },
      {
       "output_type": "stream",
       "stream": "stdout",
       "text": [
        "\n",
        "FV:06/2012\n",
        "BK:06/2012"
       ]
      },
      {
       "output_type": "stream",
       "stream": "stdout",
       "text": [
        "\n",
        "BP:06/2012\n",
        "WP:06/2012"
       ]
      },
      {
       "output_type": "stream",
       "stream": "stdout",
       "text": [
        "\n",
        "FM:06/2012\n",
        "24:06/2012"
       ]
      },
      {
       "output_type": "stream",
       "stream": "stdout",
       "text": [
        "\n",
        "RR:06/2012\n",
        "NB:06/2012"
       ]
      },
      {
       "output_type": "stream",
       "stream": "stdout",
       "text": [
        "\n",
        "NC:06/2012"
       ]
      },
      {
       "output_type": "stream",
       "stream": "stdout",
       "text": [
        "\n",
        "RM:06/2012"
       ]
      },
      {
       "output_type": "stream",
       "stream": "stdout",
       "text": [
        "\n",
        "CN:06/2012\n",
        "CM:06/2012"
       ]
      },
      {
       "output_type": "stream",
       "stream": "stdout",
       "text": [
        "\n",
        "CL:06/2012\n",
        "CC:06/2012"
       ]
      },
      {
       "output_type": "stream",
       "stream": "stdout",
       "text": [
        "\n",
        "CV:06/2012\n",
        "12:06/2012"
       ]
      },
      {
       "output_type": "stream",
       "stream": "stdout",
       "text": [
        "\n",
        "16:06/2012\n",
        "SS:06/2012"
       ]
      },
      {
       "output_type": "stream",
       "stream": "stdout",
       "text": [
        "\n",
        "19:06/2012"
       ]
      },
      {
       "output_type": "stream",
       "stream": "stdout",
       "text": [
        "\n",
        "SH:06/2012"
       ]
      },
      {
       "output_type": "stream",
       "stream": "stdout",
       "text": [
        "\n",
        "SO:06/2012"
       ]
      },
      {
       "output_type": "stream",
       "stream": "stdout",
       "text": [
        "\n",
        "SL:06/2012"
       ]
      },
      {
       "output_type": "stream",
       "stream": "stdout",
       "text": [
        "\n",
        "OW:06/2012\n",
        "SB:06/2012"
       ]
      },
      {
       "output_type": "stream",
       "stream": "stdout",
       "text": [
        "\n",
        "OR:06/2012\n",
        "HY:06/2012"
       ]
      },
      {
       "output_type": "stream",
       "stream": "stdout",
       "text": [
        "\n",
        "DC:06/2012\n",
        "LF:06/2012"
       ]
      },
      {
       "output_type": "stream",
       "stream": "stdout",
       "text": [
        "\n",
        "GP:06/2012"
       ]
      },
      {
       "output_type": "stream",
       "stream": "stdout",
       "text": [
        "\n",
        "PH:06/2012\n",
        "PL:06/2012"
       ]
      },
      {
       "output_type": "stream",
       "stream": "stdout",
       "text": [
        "\n",
        "EM:06/2012\n",
        "EN:06/2012"
       ]
      },
      {
       "output_type": "stream",
       "stream": "stdout",
       "text": [
        "\n",
        "ED:06/2012\n",
        "AS:06/2012"
       ]
      },
      {
       "output_type": "stream",
       "stream": "stdout",
       "text": [
        "\n",
        "EP:06/2012\n",
        "MA:06/2012"
       ]
      },
      {
       "output_type": "stream",
       "stream": "stdout",
       "text": [
        "\n",
        "MB:06/2012\n",
        "MT:06/2012"
       ]
      },
      {
       "output_type": "stream",
       "stream": "stdout",
       "text": [
        "\n",
        "UC:06/2012\n",
        "BF:07/2012"
       ]
      },
      {
       "output_type": "stream",
       "stream": "stdout",
       "text": [
        "\n",
        "LM:07/2012\n",
        "WC:07/2012"
       ]
      },
      {
       "output_type": "stream",
       "stream": "stdout",
       "text": [
        "\n",
        "FV:07/2012"
       ]
      },
      {
       "output_type": "stream",
       "stream": "stdout",
       "text": [
        "\n",
        "BK:07/2012\n",
        "BP:07/2012"
       ]
      },
      {
       "output_type": "stream",
       "stream": "stdout",
       "text": [
        "\n",
        "WP:07/2012\n",
        "FM:07/2012"
       ]
      },
      {
       "output_type": "stream",
       "stream": "stdout",
       "text": [
        "\n",
        "24:07/2012\n",
        "RR:07/2012"
       ]
      },
      {
       "output_type": "stream",
       "stream": "stdout",
       "text": [
        "\n",
        "NB:07/2012\n",
        "NC:07/2012"
       ]
      },
      {
       "output_type": "stream",
       "stream": "stdout",
       "text": [
        "\n",
        "RM:07/2012\n",
        "CN:07/2012"
       ]
      },
      {
       "output_type": "stream",
       "stream": "stdout",
       "text": [
        "\n",
        "CM:07/2012\n",
        "CL:07/2012"
       ]
      },
      {
       "output_type": "stream",
       "stream": "stdout",
       "text": [
        "\n",
        "CC:07/2012\n",
        "CV:07/2012"
       ]
      },
      {
       "output_type": "stream",
       "stream": "stdout",
       "text": [
        "\n",
        "12:07/2012\n",
        "16:07/2012"
       ]
      },
      {
       "output_type": "stream",
       "stream": "stdout",
       "text": [
        "\n",
        "SS:07/2012\n",
        "19:07/2012"
       ]
      },
      {
       "output_type": "stream",
       "stream": "stdout",
       "text": [
        "\n",
        "SH:07/2012\n",
        "SO:07/2012"
       ]
      },
      {
       "output_type": "stream",
       "stream": "stdout",
       "text": [
        "\n",
        "SL:07/2012"
       ]
      },
      {
       "output_type": "stream",
       "stream": "stdout",
       "text": [
        "\n",
        "OW:07/2012"
       ]
      },
      {
       "output_type": "stream",
       "stream": "stdout",
       "text": [
        "\n",
        "SB:07/2012\n",
        "OR:07/2012"
       ]
      },
      {
       "output_type": "stream",
       "stream": "stdout",
       "text": [
        "\n",
        "HY:07/2012\n",
        "DC:07/2012"
       ]
      },
      {
       "output_type": "stream",
       "stream": "stdout",
       "text": [
        "\n",
        "LF:07/2012\n",
        "GP:07/2012"
       ]
      },
      {
       "output_type": "stream",
       "stream": "stdout",
       "text": [
        "\n",
        "PH:07/2012\n",
        "PL:07/2012"
       ]
      },
      {
       "output_type": "stream",
       "stream": "stdout",
       "text": [
        "\n",
        "EM:07/2012\n",
        "EN:07/2012"
       ]
      },
      {
       "output_type": "stream",
       "stream": "stdout",
       "text": [
        "\n",
        "ED:07/2012"
       ]
      },
      {
       "output_type": "stream",
       "stream": "stdout",
       "text": [
        "\n",
        "AS:07/2012"
       ]
      },
      {
       "output_type": "stream",
       "stream": "stdout",
       "text": [
        "\n",
        "EP:07/2012\n",
        "MA:07/2012"
       ]
      },
      {
       "output_type": "stream",
       "stream": "stdout",
       "text": [
        "\n",
        "MB:07/2012\n",
        "MT:07/2012"
       ]
      },
      {
       "output_type": "stream",
       "stream": "stdout",
       "text": [
        "\n",
        "UC:07/2012\n",
        "BF:08/2012"
       ]
      },
      {
       "output_type": "stream",
       "stream": "stdout",
       "text": [
        "\n",
        "LM:08/2012\n",
        "WC:08/2012"
       ]
      },
      {
       "output_type": "stream",
       "stream": "stdout",
       "text": [
        "\n",
        "FV:08/2012\n",
        "BK:08/2012"
       ]
      },
      {
       "output_type": "stream",
       "stream": "stdout",
       "text": [
        "\n",
        "BP:08/2012\n",
        "WP:08/2012"
       ]
      },
      {
       "output_type": "stream",
       "stream": "stdout",
       "text": [
        "\n",
        "FM:08/2012\n",
        "24:08/2012"
       ]
      },
      {
       "output_type": "stream",
       "stream": "stdout",
       "text": [
        "\n",
        "RR:08/2012\n",
        "NB:08/2012"
       ]
      },
      {
       "output_type": "stream",
       "stream": "stdout",
       "text": [
        "\n",
        "NC:08/2012"
       ]
      },
      {
       "output_type": "stream",
       "stream": "stdout",
       "text": [
        "\n",
        "RM:08/2012"
       ]
      },
      {
       "output_type": "stream",
       "stream": "stdout",
       "text": [
        "\n",
        "CN:08/2012"
       ]
      },
      {
       "output_type": "stream",
       "stream": "stdout",
       "text": [
        "\n",
        "CM:08/2012"
       ]
      },
      {
       "output_type": "stream",
       "stream": "stdout",
       "text": [
        "\n",
        "CL:08/2012\n",
        "CC:08/2012"
       ]
      },
      {
       "output_type": "stream",
       "stream": "stdout",
       "text": [
        "\n",
        "CV:08/2012\n",
        "12:08/2012"
       ]
      },
      {
       "output_type": "stream",
       "stream": "stdout",
       "text": [
        "\n",
        "16:08/2012"
       ]
      },
      {
       "output_type": "stream",
       "stream": "stdout",
       "text": [
        "\n",
        "SS:08/2012"
       ]
      },
      {
       "output_type": "stream",
       "stream": "stdout",
       "text": [
        "\n",
        "19:08/2012"
       ]
      },
      {
       "output_type": "stream",
       "stream": "stdout",
       "text": [
        "\n",
        "SH:08/2012"
       ]
      },
      {
       "output_type": "stream",
       "stream": "stdout",
       "text": [
        "\n",
        "SO:08/2012\n",
        "SL:08/2012"
       ]
      },
      {
       "output_type": "stream",
       "stream": "stdout",
       "text": [
        "\n",
        "OW:08/2012\n",
        "SB:08/2012"
       ]
      },
      {
       "output_type": "stream",
       "stream": "stdout",
       "text": [
        "\n",
        "OR:08/2012\n",
        "HY:08/2012"
       ]
      },
      {
       "output_type": "stream",
       "stream": "stdout",
       "text": [
        "\n",
        "DC:08/2012\n",
        "LF:08/2012"
       ]
      },
      {
       "output_type": "stream",
       "stream": "stdout",
       "text": [
        "\n",
        "GP:08/2012"
       ]
      },
      {
       "output_type": "stream",
       "stream": "stdout",
       "text": [
        "\n",
        "PH:08/2012"
       ]
      },
      {
       "output_type": "stream",
       "stream": "stdout",
       "text": [
        "\n",
        "PL:08/2012"
       ]
      },
      {
       "output_type": "stream",
       "stream": "stdout",
       "text": [
        "\n",
        "EM:08/2012"
       ]
      },
      {
       "output_type": "stream",
       "stream": "stdout",
       "text": [
        "\n",
        "EN:08/2012"
       ]
      },
      {
       "output_type": "stream",
       "stream": "stdout",
       "text": [
        "\n",
        "ED:08/2012"
       ]
      },
      {
       "output_type": "stream",
       "stream": "stdout",
       "text": [
        "\n",
        "AS:08/2012\n",
        "EP:08/2012"
       ]
      },
      {
       "output_type": "stream",
       "stream": "stdout",
       "text": [
        "\n",
        "MA:08/2012\n",
        "MB:08/2012"
       ]
      },
      {
       "output_type": "stream",
       "stream": "stdout",
       "text": [
        "\n",
        "MT:08/2012\n",
        "UC:08/2012"
       ]
      },
      {
       "output_type": "stream",
       "stream": "stdout",
       "text": [
        "\n",
        "BF:09/2012"
       ]
      },
      {
       "output_type": "stream",
       "stream": "stdout",
       "text": [
        "\n",
        "LM:09/2012\n",
        "WC:09/2012"
       ]
      },
      {
       "output_type": "stream",
       "stream": "stdout",
       "text": [
        "\n",
        "FV:09/2012"
       ]
      },
      {
       "output_type": "stream",
       "stream": "stdout",
       "text": [
        "\n",
        "BK:09/2012"
       ]
      },
      {
       "output_type": "stream",
       "stream": "stdout",
       "text": [
        "\n",
        "BP:09/2012\n",
        "WP:09/2012"
       ]
      },
      {
       "output_type": "stream",
       "stream": "stdout",
       "text": [
        "\n",
        "FM:09/2012\n",
        "24:09/2012"
       ]
      },
      {
       "output_type": "stream",
       "stream": "stdout",
       "text": [
        "\n",
        "RR:09/2012"
       ]
      },
      {
       "output_type": "stream",
       "stream": "stdout",
       "text": [
        "\n",
        "NB:09/2012"
       ]
      },
      {
       "output_type": "stream",
       "stream": "stdout",
       "text": [
        "\n",
        "NC:09/2012\n",
        "RM:09/2012"
       ]
      },
      {
       "output_type": "stream",
       "stream": "stdout",
       "text": [
        "\n",
        "CN:09/2012"
       ]
      },
      {
       "output_type": "stream",
       "stream": "stdout",
       "text": [
        "\n",
        "CM:09/2012\n",
        "CL:09/2012"
       ]
      },
      {
       "output_type": "stream",
       "stream": "stdout",
       "text": [
        "\n",
        "CC:09/2012\n",
        "CV:09/2012"
       ]
      },
      {
       "output_type": "stream",
       "stream": "stdout",
       "text": [
        "\n",
        "12:09/2012\n",
        "16:09/2012"
       ]
      },
      {
       "output_type": "stream",
       "stream": "stdout",
       "text": [
        "\n",
        "SS:09/2012\n",
        "19:09/2012"
       ]
      },
      {
       "output_type": "stream",
       "stream": "stdout",
       "text": [
        "\n",
        "SH:09/2012\n",
        "SO:09/2012"
       ]
      },
      {
       "output_type": "stream",
       "stream": "stdout",
       "text": [
        "\n",
        "SL:09/2012\n",
        "OW:09/2012"
       ]
      },
      {
       "output_type": "stream",
       "stream": "stdout",
       "text": [
        "\n",
        "SB:09/2012\n",
        "OR:09/2012"
       ]
      },
      {
       "output_type": "stream",
       "stream": "stdout",
       "text": [
        "\n",
        "HY:09/2012"
       ]
      },
      {
       "output_type": "stream",
       "stream": "stdout",
       "text": [
        "\n",
        "DC:09/2012"
       ]
      },
      {
       "output_type": "stream",
       "stream": "stdout",
       "text": [
        "\n",
        "LF:09/2012\n",
        "GP:09/2012"
       ]
      },
      {
       "output_type": "stream",
       "stream": "stdout",
       "text": [
        "\n",
        "PH:09/2012"
       ]
      },
      {
       "output_type": "stream",
       "stream": "stdout",
       "text": [
        "\n",
        "PL:09/2012"
       ]
      },
      {
       "output_type": "stream",
       "stream": "stdout",
       "text": [
        "\n",
        "EM:09/2012\n",
        "EN:09/2012"
       ]
      },
      {
       "output_type": "stream",
       "stream": "stdout",
       "text": [
        "\n",
        "ED:09/2012"
       ]
      },
      {
       "output_type": "stream",
       "stream": "stdout",
       "text": [
        "\n",
        "AS:09/2012"
       ]
      },
      {
       "output_type": "stream",
       "stream": "stdout",
       "text": [
        "\n",
        "EP:09/2012"
       ]
      },
      {
       "output_type": "stream",
       "stream": "stdout",
       "text": [
        "\n",
        "MA:09/2012\n",
        "MB:09/2012"
       ]
      },
      {
       "output_type": "stream",
       "stream": "stdout",
       "text": [
        "\n",
        "MT:09/2012\n",
        "UC:09/2012"
       ]
      },
      {
       "output_type": "stream",
       "stream": "stdout",
       "text": [
        "\n",
        "BF:10/2012"
       ]
      },
      {
       "output_type": "stream",
       "stream": "stdout",
       "text": [
        "\n",
        "LM:10/2012\n",
        "WC:10/2012"
       ]
      },
      {
       "output_type": "stream",
       "stream": "stdout",
       "text": [
        "\n",
        "FV:10/2012\n",
        "BK:10/2012"
       ]
      },
      {
       "output_type": "stream",
       "stream": "stdout",
       "text": [
        "\n",
        "BP:10/2012\n",
        "WP:10/2012"
       ]
      },
      {
       "output_type": "stream",
       "stream": "stdout",
       "text": [
        "\n",
        "FM:10/2012\n",
        "24:10/2012"
       ]
      },
      {
       "output_type": "stream",
       "stream": "stdout",
       "text": [
        "\n",
        "RR:10/2012\n",
        "NB:10/2012"
       ]
      },
      {
       "output_type": "stream",
       "stream": "stdout",
       "text": [
        "\n",
        "NC:10/2012"
       ]
      },
      {
       "output_type": "stream",
       "stream": "stdout",
       "text": [
        "\n",
        "RM:10/2012"
       ]
      },
      {
       "output_type": "stream",
       "stream": "stdout",
       "text": [
        "\n",
        "CN:10/2012\n",
        "CM:10/2012"
       ]
      },
      {
       "output_type": "stream",
       "stream": "stdout",
       "text": [
        "\n",
        "CL:10/2012"
       ]
      },
      {
       "output_type": "stream",
       "stream": "stdout",
       "text": [
        "\n",
        "CC:10/2012"
       ]
      },
      {
       "output_type": "stream",
       "stream": "stdout",
       "text": [
        "\n",
        "CV:10/2012"
       ]
      },
      {
       "output_type": "stream",
       "stream": "stdout",
       "text": [
        "\n",
        "12:10/2012\n",
        "16:10/2012"
       ]
      },
      {
       "output_type": "stream",
       "stream": "stdout",
       "text": [
        "\n",
        "SS:10/2012\n",
        "19:10/2012"
       ]
      },
      {
       "output_type": "stream",
       "stream": "stdout",
       "text": [
        "\n",
        "SH:10/2012\n",
        "SO:10/2012"
       ]
      },
      {
       "output_type": "stream",
       "stream": "stdout",
       "text": [
        "\n",
        "SL:10/2012\n",
        "OW:10/2012"
       ]
      },
      {
       "output_type": "stream",
       "stream": "stdout",
       "text": [
        "\n",
        "SB:10/2012\n",
        "OR:10/2012"
       ]
      },
      {
       "output_type": "stream",
       "stream": "stdout",
       "text": [
        "\n",
        "HY:10/2012"
       ]
      },
      {
       "output_type": "stream",
       "stream": "stdout",
       "text": [
        "\n",
        "DC:10/2012\n",
        "LF:10/2012"
       ]
      },
      {
       "output_type": "stream",
       "stream": "stdout",
       "text": [
        "\n",
        "GP:10/2012\n",
        "PH:10/2012"
       ]
      },
      {
       "output_type": "stream",
       "stream": "stdout",
       "text": [
        "\n",
        "PL:10/2012\n",
        "EM:10/2012"
       ]
      },
      {
       "output_type": "stream",
       "stream": "stdout",
       "text": [
        "\n",
        "EN:10/2012\n",
        "ED:10/2012"
       ]
      },
      {
       "output_type": "stream",
       "stream": "stdout",
       "text": [
        "\n",
        "AS:10/2012\n",
        "EP:10/2012"
       ]
      },
      {
       "output_type": "stream",
       "stream": "stdout",
       "text": [
        "\n",
        "MA:10/2012"
       ]
      },
      {
       "output_type": "stream",
       "stream": "stdout",
       "text": [
        "\n",
        "MB:10/2012"
       ]
      },
      {
       "output_type": "stream",
       "stream": "stdout",
       "text": [
        "\n",
        "MT:10/2012\n",
        "UC:10/2012"
       ]
      },
      {
       "output_type": "stream",
       "stream": "stdout",
       "text": [
        "\n",
        "BF:11/2012"
       ]
      },
      {
       "output_type": "stream",
       "stream": "stdout",
       "text": [
        "\n",
        "LM:11/2012\n",
        "WC:11/2012"
       ]
      },
      {
       "output_type": "stream",
       "stream": "stdout",
       "text": [
        "\n",
        "FV:11/2012"
       ]
      },
      {
       "output_type": "stream",
       "stream": "stdout",
       "text": [
        "\n",
        "BK:11/2012\n",
        "BP:11/2012"
       ]
      },
      {
       "output_type": "stream",
       "stream": "stdout",
       "text": [
        "\n",
        "WP:11/2012\n",
        "FM:11/2012"
       ]
      },
      {
       "output_type": "stream",
       "stream": "stdout",
       "text": [
        "\n",
        "24:11/2012\n",
        "RR:11/2012"
       ]
      },
      {
       "output_type": "stream",
       "stream": "stdout",
       "text": [
        "\n",
        "NB:11/2012\n",
        "NC:11/2012"
       ]
      },
      {
       "output_type": "stream",
       "stream": "stdout",
       "text": [
        "\n",
        "RM:11/2012"
       ]
      },
      {
       "output_type": "stream",
       "stream": "stdout",
       "text": [
        "\n",
        "CN:11/2012"
       ]
      },
      {
       "output_type": "stream",
       "stream": "stdout",
       "text": [
        "\n",
        "CM:11/2012\n",
        "CL:11/2012"
       ]
      },
      {
       "output_type": "stream",
       "stream": "stdout",
       "text": [
        "\n",
        "CC:11/2012"
       ]
      },
      {
       "output_type": "stream",
       "stream": "stdout",
       "text": [
        "\n",
        "CV:11/2012\n",
        "12:11/2012"
       ]
      },
      {
       "output_type": "stream",
       "stream": "stdout",
       "text": [
        "\n",
        "16:11/2012\n",
        "SS:11/2012"
       ]
      },
      {
       "output_type": "stream",
       "stream": "stdout",
       "text": [
        "\n",
        "19:11/2012\n",
        "SH:11/2012"
       ]
      },
      {
       "output_type": "stream",
       "stream": "stdout",
       "text": [
        "\n",
        "SO:11/2012\n",
        "SL:11/2012"
       ]
      },
      {
       "output_type": "stream",
       "stream": "stdout",
       "text": [
        "\n",
        "OW:11/2012\n",
        "SB:11/2012"
       ]
      },
      {
       "output_type": "stream",
       "stream": "stdout",
       "text": [
        "\n",
        "OR:11/2012"
       ]
      },
      {
       "output_type": "stream",
       "stream": "stdout",
       "text": [
        "\n",
        "HY:11/2012"
       ]
      },
      {
       "output_type": "stream",
       "stream": "stdout",
       "text": [
        "\n",
        "DC:11/2012\n",
        "LF:11/2012"
       ]
      },
      {
       "output_type": "stream",
       "stream": "stdout",
       "text": [
        "\n",
        "GP:11/2012"
       ]
      },
      {
       "output_type": "stream",
       "stream": "stdout",
       "text": [
        "\n",
        "PH:11/2012\n"
       ]
      },
      {
       "output_type": "stream",
       "stream": "stdout",
       "text": [
        "PL:11/2012\n",
        "EM:11/2012"
       ]
      },
      {
       "output_type": "stream",
       "stream": "stdout",
       "text": [
        "\n",
        "EN:11/2012"
       ]
      },
      {
       "output_type": "stream",
       "stream": "stdout",
       "text": [
        "\n",
        "ED:11/2012\n",
        "AS:11/2012"
       ]
      },
      {
       "output_type": "stream",
       "stream": "stdout",
       "text": [
        "\n",
        "EP:11/2012"
       ]
      },
      {
       "output_type": "stream",
       "stream": "stdout",
       "text": [
        "\n",
        "MA:11/2012\n",
        "MB:11/2012"
       ]
      },
      {
       "output_type": "stream",
       "stream": "stdout",
       "text": [
        "\n",
        "MT:11/2012\n",
        "UC:11/2012"
       ]
      },
      {
       "output_type": "stream",
       "stream": "stdout",
       "text": [
        "\n",
        "BF:12/2012"
       ]
      },
      {
       "output_type": "stream",
       "stream": "stdout",
       "text": [
        "\n",
        "LM:12/2012"
       ]
      },
      {
       "output_type": "stream",
       "stream": "stdout",
       "text": [
        "\n",
        "WC:12/2012\n",
        "FV:12/2012"
       ]
      },
      {
       "output_type": "stream",
       "stream": "stdout",
       "text": [
        "\n",
        "BK:12/2012"
       ]
      },
      {
       "output_type": "stream",
       "stream": "stdout",
       "text": [
        "\n",
        "BP:12/2012"
       ]
      },
      {
       "output_type": "stream",
       "stream": "stdout",
       "text": [
        "\n",
        "WP:12/2012\n",
        "FM:12/2012"
       ]
      },
      {
       "output_type": "stream",
       "stream": "stdout",
       "text": [
        "\n",
        "24:12/2012"
       ]
      },
      {
       "output_type": "stream",
       "stream": "stdout",
       "text": [
        "\n",
        "RR:12/2012\n",
        "NB:12/2012"
       ]
      },
      {
       "output_type": "stream",
       "stream": "stdout",
       "text": [
        "\n",
        "NC:12/2012"
       ]
      },
      {
       "output_type": "stream",
       "stream": "stdout",
       "text": [
        "\n",
        "RM:12/2012\n",
        "CN:12/2012"
       ]
      },
      {
       "output_type": "stream",
       "stream": "stdout",
       "text": [
        "\n",
        "CM:12/2012\n",
        "CL:12/2012"
       ]
      },
      {
       "output_type": "stream",
       "stream": "stdout",
       "text": [
        "\n",
        "CC:12/2012"
       ]
      },
      {
       "output_type": "stream",
       "stream": "stdout",
       "text": [
        "\n",
        "CV:12/2012\n",
        "12:12/2012"
       ]
      },
      {
       "output_type": "stream",
       "stream": "stdout",
       "text": [
        "\n",
        "16:12/2012\n",
        "SS:12/2012"
       ]
      },
      {
       "output_type": "stream",
       "stream": "stdout",
       "text": [
        "\n",
        "19:12/2012\n",
        "SH:12/2012"
       ]
      },
      {
       "output_type": "stream",
       "stream": "stdout",
       "text": [
        "\n",
        "SO:12/2012"
       ]
      },
      {
       "output_type": "stream",
       "stream": "stdout",
       "text": [
        "\n",
        "SL:12/2012"
       ]
      },
      {
       "output_type": "stream",
       "stream": "stdout",
       "text": [
        "\n",
        "OW:12/2012"
       ]
      },
      {
       "output_type": "stream",
       "stream": "stdout",
       "text": [
        "\n",
        "SB:12/2012\n",
        "OR:12/2012"
       ]
      },
      {
       "output_type": "stream",
       "stream": "stdout",
       "text": [
        "\n",
        "HY:12/2012"
       ]
      },
      {
       "output_type": "stream",
       "stream": "stdout",
       "text": [
        "\n",
        "DC:12/2012"
       ]
      },
      {
       "output_type": "stream",
       "stream": "stdout",
       "text": [
        "\n",
        "LF:12/2012\n",
        "GP:12/2012"
       ]
      },
      {
       "output_type": "stream",
       "stream": "stdout",
       "text": [
        "\n",
        "PH:12/2012\n",
        "PL:12/2012"
       ]
      },
      {
       "output_type": "stream",
       "stream": "stdout",
       "text": [
        "\n",
        "EM:12/2012"
       ]
      },
      {
       "output_type": "stream",
       "stream": "stdout",
       "text": [
        "\n",
        "EN:12/2012\n",
        "ED:12/2012"
       ]
      },
      {
       "output_type": "stream",
       "stream": "stdout",
       "text": [
        "\n",
        "AS:12/2012"
       ]
      },
      {
       "output_type": "stream",
       "stream": "stdout",
       "text": [
        "\n",
        "EP:12/2012\n",
        "MA:12/2012"
       ]
      },
      {
       "output_type": "stream",
       "stream": "stdout",
       "text": [
        "\n",
        "MB:12/2012\n",
        "MT:12/2012"
       ]
      },
      {
       "output_type": "stream",
       "stream": "stdout",
       "text": [
        "\n",
        "UC:12/2012\n",
        "BF:01/2013"
       ]
      },
      {
       "output_type": "stream",
       "stream": "stdout",
       "text": [
        "\n",
        "LM:01/2013"
       ]
      },
      {
       "output_type": "stream",
       "stream": "stdout",
       "text": [
        "\n",
        "WC:01/2013\n",
        "FV:01/2013"
       ]
      },
      {
       "output_type": "stream",
       "stream": "stdout",
       "text": [
        "\n",
        "BK:01/2013"
       ]
      },
      {
       "output_type": "stream",
       "stream": "stdout",
       "text": [
        "\n",
        "BP:01/2013"
       ]
      },
      {
       "output_type": "stream",
       "stream": "stdout",
       "text": [
        "\n",
        "WP:01/2013"
       ]
      },
      {
       "output_type": "stream",
       "stream": "stdout",
       "text": [
        "\n",
        "FM:01/2013\n",
        "24:01/2013"
       ]
      },
      {
       "output_type": "stream",
       "stream": "stdout",
       "text": [
        "\n",
        "RR:01/2013"
       ]
      },
      {
       "output_type": "stream",
       "stream": "stdout",
       "text": [
        "\n",
        "NB:01/2013"
       ]
      },
      {
       "output_type": "stream",
       "stream": "stdout",
       "text": [
        "\n",
        "NC:01/2013\n",
        "RM:01/2013"
       ]
      },
      {
       "output_type": "stream",
       "stream": "stdout",
       "text": [
        "\n",
        "CN:01/2013\n",
        "CM:01/2013"
       ]
      },
      {
       "output_type": "stream",
       "stream": "stdout",
       "text": [
        "\n",
        "CL:01/2013\n",
        "CC:01/2013"
       ]
      },
      {
       "output_type": "stream",
       "stream": "stdout",
       "text": [
        "\n",
        "CV:01/2013\n",
        "12:01/2013"
       ]
      },
      {
       "output_type": "stream",
       "stream": "stdout",
       "text": [
        "\n",
        "16:01/2013\n",
        "SS:01/2013"
       ]
      },
      {
       "output_type": "stream",
       "stream": "stdout",
       "text": [
        "\n",
        "19:01/2013"
       ]
      },
      {
       "output_type": "stream",
       "stream": "stdout",
       "text": [
        "\n",
        "SH:01/2013"
       ]
      },
      {
       "output_type": "stream",
       "stream": "stdout",
       "text": [
        "\n",
        "SO:01/2013\n",
        "SL:01/2013"
       ]
      },
      {
       "output_type": "stream",
       "stream": "stdout",
       "text": [
        "\n",
        "OW:01/2013"
       ]
      },
      {
       "output_type": "stream",
       "stream": "stdout",
       "text": [
        "\n",
        "SB:01/2013"
       ]
      },
      {
       "output_type": "stream",
       "stream": "stdout",
       "text": [
        "\n",
        "OR:01/2013\n",
        "HY:01/2013"
       ]
      },
      {
       "output_type": "stream",
       "stream": "stdout",
       "text": [
        "\n",
        "DC:01/2013"
       ]
      },
      {
       "output_type": "stream",
       "stream": "stdout",
       "text": [
        "\n",
        "LF:01/2013"
       ]
      },
      {
       "output_type": "stream",
       "stream": "stdout",
       "text": [
        "\n",
        "GP:01/2013\n",
        "PH:01/2013"
       ]
      },
      {
       "output_type": "stream",
       "stream": "stdout",
       "text": [
        "\n",
        "PL:01/2013\n",
        "EM:01/2013"
       ]
      },
      {
       "output_type": "stream",
       "stream": "stdout",
       "text": [
        "\n",
        "EN:01/2013\n",
        "ED:01/2013"
       ]
      },
      {
       "output_type": "stream",
       "stream": "stdout",
       "text": [
        "\n",
        "AS:01/2013"
       ]
      },
      {
       "output_type": "stream",
       "stream": "stdout",
       "text": [
        "\n",
        "EP:01/2013"
       ]
      },
      {
       "output_type": "stream",
       "stream": "stdout",
       "text": [
        "\n",
        "MA:01/2013\n",
        "MB:01/2013"
       ]
      },
      {
       "output_type": "stream",
       "stream": "stdout",
       "text": [
        "\n",
        "MT:01/2013\n",
        "UC:01/2013"
       ]
      },
      {
       "output_type": "stream",
       "stream": "stdout",
       "text": [
        "\n",
        "BF:02/2013"
       ]
      },
      {
       "output_type": "stream",
       "stream": "stdout",
       "text": [
        "\n",
        "LM:02/2013\n",
        "WC:02/2013"
       ]
      },
      {
       "output_type": "stream",
       "stream": "stdout",
       "text": [
        "\n",
        "FV:02/2013"
       ]
      },
      {
       "output_type": "stream",
       "stream": "stdout",
       "text": [
        "\n",
        "BK:02/2013"
       ]
      },
      {
       "output_type": "stream",
       "stream": "stdout",
       "text": [
        "\n",
        "BP:02/2013\n",
        "WP:02/2013"
       ]
      },
      {
       "output_type": "stream",
       "stream": "stdout",
       "text": [
        "\n",
        "FM:02/2013"
       ]
      },
      {
       "output_type": "stream",
       "stream": "stdout",
       "text": [
        "\n",
        "24:02/2013\n",
        "RR:02/2013"
       ]
      },
      {
       "output_type": "stream",
       "stream": "stdout",
       "text": [
        "\n",
        "NB:02/2013\n",
        "NC:02/2013"
       ]
      },
      {
       "output_type": "stream",
       "stream": "stdout",
       "text": [
        "\n",
        "RM:02/2013\n",
        "CN:02/2013"
       ]
      },
      {
       "output_type": "stream",
       "stream": "stdout",
       "text": [
        "\n",
        "CM:02/2013\n",
        "CL:02/2013"
       ]
      },
      {
       "output_type": "stream",
       "stream": "stdout",
       "text": [
        "\n",
        "CC:02/2013\n",
        "CV:02/2013"
       ]
      },
      {
       "output_type": "stream",
       "stream": "stdout",
       "text": [
        "\n",
        "12:02/2013\n",
        "16:02/2013"
       ]
      },
      {
       "output_type": "stream",
       "stream": "stdout",
       "text": [
        "\n",
        "SS:02/2013"
       ]
      },
      {
       "output_type": "stream",
       "stream": "stdout",
       "text": [
        "\n",
        "19:02/2013\n",
        "SH:02/2013"
       ]
      },
      {
       "output_type": "stream",
       "stream": "stdout",
       "text": [
        "\n",
        "SO:02/2013"
       ]
      },
      {
       "output_type": "stream",
       "stream": "stdout",
       "text": [
        "\n",
        "SL:02/2013"
       ]
      },
      {
       "output_type": "stream",
       "stream": "stdout",
       "text": [
        "\n",
        "OW:02/2013\n",
        "SB:02/2013"
       ]
      },
      {
       "output_type": "stream",
       "stream": "stdout",
       "text": [
        "\n",
        "OR:02/2013\n",
        "HY:02/2013"
       ]
      },
      {
       "output_type": "stream",
       "stream": "stdout",
       "text": [
        "\n",
        "DC:02/2013\n",
        "LF:02/2013"
       ]
      },
      {
       "output_type": "stream",
       "stream": "stdout",
       "text": [
        "\n",
        "GP:02/2013\n",
        "PH:02/2013"
       ]
      },
      {
       "output_type": "stream",
       "stream": "stdout",
       "text": [
        "\n",
        "PL:02/2013"
       ]
      },
      {
       "output_type": "stream",
       "stream": "stdout",
       "text": [
        "\n",
        "EM:02/2013\n",
        "EN:02/2013"
       ]
      },
      {
       "output_type": "stream",
       "stream": "stdout",
       "text": [
        "\n",
        "ED:02/2013"
       ]
      },
      {
       "output_type": "stream",
       "stream": "stdout",
       "text": [
        "\n",
        "AS:02/2013"
       ]
      },
      {
       "output_type": "stream",
       "stream": "stdout",
       "text": [
        "\n",
        "EP:02/2013\n",
        "MA:02/2013"
       ]
      },
      {
       "output_type": "stream",
       "stream": "stdout",
       "text": [
        "\n",
        "MB:02/2013\n",
        "MT:02/2013"
       ]
      },
      {
       "output_type": "stream",
       "stream": "stdout",
       "text": [
        "\n",
        "UC:02/2013"
       ]
      },
      {
       "output_type": "stream",
       "stream": "stdout",
       "text": [
        "\n",
        "BF:03/2013"
       ]
      },
      {
       "output_type": "stream",
       "stream": "stdout",
       "text": [
        "\n",
        "LM:03/2013\n",
        "WC:03/2013"
       ]
      },
      {
       "output_type": "stream",
       "stream": "stdout",
       "text": [
        "\n",
        "FV:03/2013\n",
        "BK:03/2013"
       ]
      },
      {
       "output_type": "stream",
       "stream": "stdout",
       "text": [
        "\n",
        "BP:03/2013"
       ]
      },
      {
       "output_type": "stream",
       "stream": "stdout",
       "text": [
        "\n",
        "WP:03/2013"
       ]
      },
      {
       "output_type": "stream",
       "stream": "stdout",
       "text": [
        "\n",
        "FM:03/2013\n",
        "24:03/2013"
       ]
      },
      {
       "output_type": "stream",
       "stream": "stdout",
       "text": [
        "\n",
        "RR:03/2013\n",
        "NB:03/2013"
       ]
      },
      {
       "output_type": "stream",
       "stream": "stdout",
       "text": [
        "\n",
        "NC:03/2013\n",
        "RM:03/2013"
       ]
      },
      {
       "output_type": "stream",
       "stream": "stdout",
       "text": [
        "\n",
        "CN:03/2013\n",
        "CM:03/2013"
       ]
      },
      {
       "output_type": "stream",
       "stream": "stdout",
       "text": [
        "\n",
        "CL:03/2013"
       ]
      },
      {
       "output_type": "stream",
       "stream": "stdout",
       "text": [
        "\n",
        "CC:03/2013"
       ]
      },
      {
       "output_type": "stream",
       "stream": "stdout",
       "text": [
        "\n",
        "CV:03/2013\n",
        "12:03/2013"
       ]
      },
      {
       "output_type": "stream",
       "stream": "stdout",
       "text": [
        "\n",
        "16:03/2013"
       ]
      },
      {
       "output_type": "stream",
       "stream": "stdout",
       "text": [
        "\n",
        "SS:03/2013"
       ]
      },
      {
       "output_type": "stream",
       "stream": "stdout",
       "text": [
        "\n",
        "19:03/2013\n",
        "SH:03/2013"
       ]
      },
      {
       "output_type": "stream",
       "stream": "stdout",
       "text": [
        "\n",
        "SO:03/2013\n",
        "SL:03/2013"
       ]
      },
      {
       "output_type": "stream",
       "stream": "stdout",
       "text": [
        "\n",
        "OW:03/2013\n",
        "SB:03/2013"
       ]
      },
      {
       "output_type": "stream",
       "stream": "stdout",
       "text": [
        "\n",
        "OR:03/2013"
       ]
      },
      {
       "output_type": "stream",
       "stream": "stdout",
       "text": [
        "\n",
        "HY:03/2013"
       ]
      },
      {
       "output_type": "stream",
       "stream": "stdout",
       "text": [
        "\n",
        "DC:03/2013\n",
        "LF:03/2013"
       ]
      },
      {
       "output_type": "stream",
       "stream": "stdout",
       "text": [
        "\n",
        "GP:03/2013\n",
        "PH:03/2013"
       ]
      },
      {
       "output_type": "stream",
       "stream": "stdout",
       "text": [
        "\n",
        "PL:03/2013"
       ]
      },
      {
       "output_type": "stream",
       "stream": "stdout",
       "text": [
        "\n",
        "EM:03/2013"
       ]
      },
      {
       "output_type": "stream",
       "stream": "stdout",
       "text": [
        "\n",
        "EN:03/2013\n",
        "ED:03/2013"
       ]
      },
      {
       "output_type": "stream",
       "stream": "stdout",
       "text": [
        "\n",
        "AS:03/2013"
       ]
      },
      {
       "output_type": "stream",
       "stream": "stdout",
       "text": [
        "\n",
        "EP:03/2013"
       ]
      },
      {
       "output_type": "stream",
       "stream": "stdout",
       "text": [
        "\n",
        "MA:03/2013"
       ]
      },
      {
       "output_type": "stream",
       "stream": "stdout",
       "text": [
        "\n",
        "MB:03/2013"
       ]
      },
      {
       "output_type": "stream",
       "stream": "stdout",
       "text": [
        "\n",
        "MT:03/2013"
       ]
      },
      {
       "output_type": "stream",
       "stream": "stdout",
       "text": [
        "\n",
        "UC:03/2013\n",
        "BF:04/2013"
       ]
      },
      {
       "output_type": "stream",
       "stream": "stdout",
       "text": [
        "\n",
        "LM:04/2013\n",
        "WC:04/2013"
       ]
      },
      {
       "output_type": "stream",
       "stream": "stdout",
       "text": [
        "\n",
        "FV:04/2013\n",
        "BK:04/2013"
       ]
      },
      {
       "output_type": "stream",
       "stream": "stdout",
       "text": [
        "\n",
        "BP:04/2013\n",
        "WP:04/2013"
       ]
      },
      {
       "output_type": "stream",
       "stream": "stdout",
       "text": [
        "\n",
        "FM:04/2013\n",
        "24:04/2013"
       ]
      },
      {
       "output_type": "stream",
       "stream": "stdout",
       "text": [
        "\n",
        "RR:04/2013"
       ]
      },
      {
       "output_type": "stream",
       "stream": "stdout",
       "text": [
        "\n",
        "NB:04/2013"
       ]
      },
      {
       "output_type": "stream",
       "stream": "stdout",
       "text": [
        "\n",
        "NC:04/2013"
       ]
      },
      {
       "output_type": "stream",
       "stream": "stdout",
       "text": [
        "\n",
        "RM:04/2013"
       ]
      },
      {
       "output_type": "stream",
       "stream": "stdout",
       "text": [
        "\n",
        "CN:04/2013\n",
        "CM:04/2013"
       ]
      },
      {
       "output_type": "stream",
       "stream": "stdout",
       "text": [
        "\n",
        "CL:04/2013\n",
        "CC:04/2013"
       ]
      },
      {
       "output_type": "stream",
       "stream": "stdout",
       "text": [
        "\n",
        "CV:04/2013"
       ]
      },
      {
       "output_type": "stream",
       "stream": "stdout",
       "text": [
        "\n",
        "12:04/2013"
       ]
      },
      {
       "output_type": "stream",
       "stream": "stdout",
       "text": [
        "\n",
        "16:04/2013"
       ]
      },
      {
       "output_type": "stream",
       "stream": "stdout",
       "text": [
        "\n",
        "SS:04/2013"
       ]
      },
      {
       "output_type": "stream",
       "stream": "stdout",
       "text": [
        "\n",
        "19:04/2013\n",
        "SH:04/2013"
       ]
      },
      {
       "output_type": "stream",
       "stream": "stdout",
       "text": [
        "\n",
        "SO:04/2013\n",
        "SL:04/2013"
       ]
      },
      {
       "output_type": "stream",
       "stream": "stdout",
       "text": [
        "\n",
        "OW:04/2013\n",
        "SB:04/2013"
       ]
      },
      {
       "output_type": "stream",
       "stream": "stdout",
       "text": [
        "\n",
        "OR:04/2013\n",
        "HY:04/2013"
       ]
      },
      {
       "output_type": "stream",
       "stream": "stdout",
       "text": [
        "\n",
        "DC:04/2013"
       ]
      },
      {
       "output_type": "stream",
       "stream": "stdout",
       "text": [
        "\n",
        "LF:04/2013\n",
        "GP:04/2013"
       ]
      },
      {
       "output_type": "stream",
       "stream": "stdout",
       "text": [
        "\n",
        "PH:04/2013"
       ]
      },
      {
       "output_type": "stream",
       "stream": "stdout",
       "text": [
        "\n",
        "PL:04/2013\n",
        "EM:04/2013"
       ]
      },
      {
       "output_type": "stream",
       "stream": "stdout",
       "text": [
        "\n",
        "EN:04/2013\n",
        "ED:04/2013"
       ]
      },
      {
       "output_type": "stream",
       "stream": "stdout",
       "text": [
        "\n",
        "AS:04/2013\n",
        "EP:04/2013"
       ]
      },
      {
       "output_type": "stream",
       "stream": "stdout",
       "text": [
        "\n",
        "MA:04/2013\n",
        "MB:04/2013"
       ]
      },
      {
       "output_type": "stream",
       "stream": "stdout",
       "text": [
        "\n",
        "MT:04/2013\n",
        "UC:04/2013"
       ]
      },
      {
       "output_type": "stream",
       "stream": "stdout",
       "text": [
        "\n",
        "BF:05/2013"
       ]
      },
      {
       "output_type": "stream",
       "stream": "stdout",
       "text": [
        "\n",
        "LM:05/2013"
       ]
      },
      {
       "output_type": "stream",
       "stream": "stdout",
       "text": [
        "\n",
        "WC:05/2013"
       ]
      },
      {
       "output_type": "stream",
       "stream": "stdout",
       "text": [
        "\n",
        "FV:05/2013\n",
        "BK:05/2013"
       ]
      },
      {
       "output_type": "stream",
       "stream": "stdout",
       "text": [
        "\n",
        "BP:05/2013\n",
        "WP:05/2013"
       ]
      },
      {
       "output_type": "stream",
       "stream": "stdout",
       "text": [
        "\n",
        "FM:05/2013"
       ]
      },
      {
       "output_type": "stream",
       "stream": "stdout",
       "text": [
        "\n",
        "24:05/2013\n",
        "RR:05/2013"
       ]
      },
      {
       "output_type": "stream",
       "stream": "stdout",
       "text": [
        "\n",
        "NB:05/2013\n",
        "NC:05/2013"
       ]
      },
      {
       "output_type": "stream",
       "stream": "stdout",
       "text": [
        "\n",
        "RM:05/2013\n",
        "CN:05/2013"
       ]
      },
      {
       "output_type": "stream",
       "stream": "stdout",
       "text": [
        "\n",
        "CM:05/2013"
       ]
      },
      {
       "output_type": "stream",
       "stream": "stdout",
       "text": [
        "\n",
        "CL:05/2013"
       ]
      },
      {
       "output_type": "stream",
       "stream": "stdout",
       "text": [
        "\n",
        "CC:05/2013\n",
        "CV:05/2013"
       ]
      },
      {
       "output_type": "stream",
       "stream": "stdout",
       "text": [
        "\n",
        "12:05/2013\n",
        "16:05/2013"
       ]
      },
      {
       "output_type": "stream",
       "stream": "stdout",
       "text": [
        "\n",
        "SS:05/2013\n",
        "19:05/2013"
       ]
      },
      {
       "output_type": "stream",
       "stream": "stdout",
       "text": [
        "\n",
        "SH:05/2013"
       ]
      },
      {
       "output_type": "stream",
       "stream": "stdout",
       "text": [
        "\n",
        "SO:05/2013"
       ]
      },
      {
       "output_type": "stream",
       "stream": "stdout",
       "text": [
        "\n",
        "SL:05/2013\n",
        "OW:05/2013"
       ]
      },
      {
       "output_type": "stream",
       "stream": "stdout",
       "text": [
        "\n",
        "SB:05/2013"
       ]
      },
      {
       "output_type": "stream",
       "stream": "stdout",
       "text": [
        "\n",
        "OR:05/2013"
       ]
      },
      {
       "output_type": "stream",
       "stream": "stdout",
       "text": [
        "\n",
        "HY:05/2013"
       ]
      },
      {
       "output_type": "stream",
       "stream": "stdout",
       "text": [
        "\n",
        "DC:05/2013"
       ]
      },
      {
       "output_type": "stream",
       "stream": "stdout",
       "text": [
        "\n",
        "LF:05/2013\n",
        "GP:05/2013"
       ]
      },
      {
       "output_type": "stream",
       "stream": "stdout",
       "text": [
        "\n",
        "PH:05/2013\n",
        "PL:05/2013"
       ]
      },
      {
       "output_type": "stream",
       "stream": "stdout",
       "text": [
        "\n",
        "EM:05/2013\n",
        "EN:05/2013"
       ]
      },
      {
       "output_type": "stream",
       "stream": "stdout",
       "text": [
        "\n",
        "ED:05/2013\n",
        "AS:05/2013"
       ]
      },
      {
       "output_type": "stream",
       "stream": "stdout",
       "text": [
        "\n",
        "EP:05/2013\n",
        "MA:05/2013"
       ]
      },
      {
       "output_type": "stream",
       "stream": "stdout",
       "text": [
        "\n",
        "MB:05/2013\n",
        "MT:05/2013"
       ]
      },
      {
       "output_type": "stream",
       "stream": "stdout",
       "text": [
        "\n",
        "UC:05/2013"
       ]
      },
      {
       "output_type": "stream",
       "stream": "stdout",
       "text": [
        "\n",
        "BF:06/2013"
       ]
      },
      {
       "output_type": "stream",
       "stream": "stdout",
       "text": [
        "\n",
        "LM:06/2013\n",
        "WC:06/2013"
       ]
      },
      {
       "output_type": "stream",
       "stream": "stdout",
       "text": [
        "\n",
        "FV:06/2013"
       ]
      },
      {
       "output_type": "stream",
       "stream": "stdout",
       "text": [
        "\n",
        "BK:06/2013"
       ]
      },
      {
       "output_type": "stream",
       "stream": "stdout",
       "text": [
        "\n",
        "BP:06/2013\n",
        "WP:06/2013"
       ]
      },
      {
       "output_type": "stream",
       "stream": "stdout",
       "text": [
        "\n",
        "FM:06/2013"
       ]
      },
      {
       "output_type": "stream",
       "stream": "stdout",
       "text": [
        "\n",
        "24:06/2013"
       ]
      },
      {
       "output_type": "stream",
       "stream": "stdout",
       "text": [
        "\n",
        "RR:06/2013"
       ]
      },
      {
       "output_type": "stream",
       "stream": "stdout",
       "text": [
        "\n",
        "NB:06/2013"
       ]
      },
      {
       "output_type": "stream",
       "stream": "stdout",
       "text": [
        "\n",
        "NC:06/2013\n",
        "RM:06/2013"
       ]
      },
      {
       "output_type": "stream",
       "stream": "stdout",
       "text": [
        "\n",
        "CN:06/2013\n",
        "CM:06/2013"
       ]
      },
      {
       "output_type": "stream",
       "stream": "stdout",
       "text": [
        "\n",
        "CL:06/2013"
       ]
      },
      {
       "output_type": "stream",
       "stream": "stdout",
       "text": [
        "\n",
        "CC:06/2013\n",
        "CV:06/2013"
       ]
      },
      {
       "output_type": "stream",
       "stream": "stdout",
       "text": [
        "\n",
        "12:06/2013\n",
        "16:06/2013"
       ]
      },
      {
       "output_type": "stream",
       "stream": "stdout",
       "text": [
        "\n",
        "SS:06/2013"
       ]
      },
      {
       "output_type": "stream",
       "stream": "stdout",
       "text": [
        "\n",
        "19:06/2013"
       ]
      },
      {
       "output_type": "stream",
       "stream": "stdout",
       "text": [
        "\n",
        "SH:06/2013\n",
        "SO:06/2013"
       ]
      },
      {
       "output_type": "stream",
       "stream": "stdout",
       "text": [
        "\n",
        "SL:06/2013"
       ]
      },
      {
       "output_type": "stream",
       "stream": "stdout",
       "text": [
        "\n",
        "OW:06/2013"
       ]
      },
      {
       "output_type": "stream",
       "stream": "stdout",
       "text": [
        "\n",
        "SB:06/2013\n",
        "OR:06/2013"
       ]
      },
      {
       "output_type": "stream",
       "stream": "stdout",
       "text": [
        "\n",
        "HY:06/2013"
       ]
      },
      {
       "output_type": "stream",
       "stream": "stdout",
       "text": [
        "\n",
        "DC:06/2013"
       ]
      },
      {
       "output_type": "stream",
       "stream": "stdout",
       "text": [
        "\n",
        "LF:06/2013"
       ]
      },
      {
       "output_type": "stream",
       "stream": "stdout",
       "text": [
        "\n",
        "GP:06/2013"
       ]
      },
      {
       "output_type": "stream",
       "stream": "stdout",
       "text": [
        "\n",
        "PH:06/2013\n",
        "PL:06/2013"
       ]
      },
      {
       "output_type": "stream",
       "stream": "stdout",
       "text": [
        "\n",
        "EM:06/2013\n",
        "EN:06/2013"
       ]
      },
      {
       "output_type": "stream",
       "stream": "stdout",
       "text": [
        "\n",
        "ED:06/2013"
       ]
      },
      {
       "output_type": "stream",
       "stream": "stdout",
       "text": [
        "\n",
        "AS:06/2013"
       ]
      },
      {
       "output_type": "stream",
       "stream": "stdout",
       "text": [
        "\n",
        "EP:06/2013\n",
        "MA:06/2013"
       ]
      },
      {
       "output_type": "stream",
       "stream": "stdout",
       "text": [
        "\n",
        "MB:06/2013"
       ]
      },
      {
       "output_type": "stream",
       "stream": "stdout",
       "text": [
        "\n",
        "MT:06/2013"
       ]
      },
      {
       "output_type": "stream",
       "stream": "stdout",
       "text": [
        "\n",
        "UC:06/2013\n",
        "BF:07/2013"
       ]
      },
      {
       "output_type": "stream",
       "stream": "stdout",
       "text": [
        "\n",
        "LM:07/2013\n",
        "WC:07/2013"
       ]
      },
      {
       "output_type": "stream",
       "stream": "stdout",
       "text": [
        "\n",
        "FV:07/2013\n",
        "BK:07/2013"
       ]
      },
      {
       "output_type": "stream",
       "stream": "stdout",
       "text": [
        "\n",
        "BP:07/2013"
       ]
      },
      {
       "output_type": "stream",
       "stream": "stdout",
       "text": [
        "\n",
        "WP:07/2013"
       ]
      },
      {
       "output_type": "stream",
       "stream": "stdout",
       "text": [
        "\n",
        "FM:07/2013"
       ]
      },
      {
       "output_type": "stream",
       "stream": "stdout",
       "text": [
        "\n",
        "24:07/2013"
       ]
      },
      {
       "output_type": "stream",
       "stream": "stdout",
       "text": [
        "\n",
        "RR:07/2013\n",
        "NB:07/2013"
       ]
      },
      {
       "output_type": "stream",
       "stream": "stdout",
       "text": [
        "\n",
        "NC:07/2013\n",
        "RM:07/2013"
       ]
      },
      {
       "output_type": "stream",
       "stream": "stdout",
       "text": [
        "\n",
        "CN:07/2013\n",
        "CM:07/2013"
       ]
      },
      {
       "output_type": "stream",
       "stream": "stdout",
       "text": [
        "\n",
        "CL:07/2013"
       ]
      },
      {
       "output_type": "stream",
       "stream": "stdout",
       "text": [
        "\n",
        "CC:07/2013\n",
        "CV:07/2013"
       ]
      },
      {
       "output_type": "stream",
       "stream": "stdout",
       "text": [
        "\n",
        "12:07/2013"
       ]
      },
      {
       "output_type": "stream",
       "stream": "stdout",
       "text": [
        "\n",
        "16:07/2013"
       ]
      },
      {
       "output_type": "stream",
       "stream": "stdout",
       "text": [
        "\n",
        "SS:07/2013"
       ]
      },
      {
       "output_type": "stream",
       "stream": "stdout",
       "text": [
        "\n",
        "19:07/2013"
       ]
      },
      {
       "output_type": "stream",
       "stream": "stdout",
       "text": [
        "\n",
        "SH:07/2013\n",
        "SO:07/2013"
       ]
      },
      {
       "output_type": "stream",
       "stream": "stdout",
       "text": [
        "\n",
        "SL:07/2013\n",
        "OW:07/2013"
       ]
      },
      {
       "output_type": "stream",
       "stream": "stdout",
       "text": [
        "\n",
        "SB:07/2013\n",
        "OR:07/2013"
       ]
      },
      {
       "output_type": "stream",
       "stream": "stdout",
       "text": [
        "\n",
        "HY:07/2013\n",
        "DC:07/2013"
       ]
      },
      {
       "output_type": "stream",
       "stream": "stdout",
       "text": [
        "\n",
        "LF:07/2013\n",
        "GP:07/2013"
       ]
      },
      {
       "output_type": "stream",
       "stream": "stdout",
       "text": [
        "\n",
        "PH:07/2013"
       ]
      },
      {
       "output_type": "stream",
       "stream": "stdout",
       "text": [
        "\n",
        "PL:07/2013\n",
        "EM:07/2013"
       ]
      },
      {
       "output_type": "stream",
       "stream": "stdout",
       "text": [
        "\n",
        "EN:07/2013\n",
        "ED:07/2013"
       ]
      },
      {
       "output_type": "stream",
       "stream": "stdout",
       "text": [
        "\n",
        "AS:07/2013"
       ]
      },
      {
       "output_type": "stream",
       "stream": "stdout",
       "text": [
        "\n",
        "EP:07/2013\n",
        "MA:07/2013"
       ]
      },
      {
       "output_type": "stream",
       "stream": "stdout",
       "text": [
        "\n",
        "MB:07/2013\n",
        "MT:07/2013"
       ]
      },
      {
       "output_type": "stream",
       "stream": "stdout",
       "text": [
        "\n",
        "UC:07/2013\n",
        "BF:08/2013"
       ]
      },
      {
       "output_type": "stream",
       "stream": "stdout",
       "text": [
        "\n",
        "LM:08/2013\n",
        "WC:08/2013"
       ]
      },
      {
       "output_type": "stream",
       "stream": "stdout",
       "text": [
        "\n",
        "FV:08/2013"
       ]
      },
      {
       "output_type": "stream",
       "stream": "stdout",
       "text": [
        "\n",
        "BK:08/2013"
       ]
      },
      {
       "output_type": "stream",
       "stream": "stdout",
       "text": [
        "\n",
        "BP:08/2013"
       ]
      },
      {
       "output_type": "stream",
       "stream": "stdout",
       "text": [
        "\n",
        "WP:08/2013"
       ]
      },
      {
       "output_type": "stream",
       "stream": "stdout",
       "text": [
        "\n",
        "FM:08/2013\n",
        "24:08/2013"
       ]
      },
      {
       "output_type": "stream",
       "stream": "stdout",
       "text": [
        "\n",
        "RR:08/2013\n",
        "NB:08/2013"
       ]
      },
      {
       "output_type": "stream",
       "stream": "stdout",
       "text": [
        "\n",
        "NC:08/2013"
       ]
      },
      {
       "output_type": "stream",
       "stream": "stdout",
       "text": [
        "\n",
        "RM:08/2013"
       ]
      },
      {
       "output_type": "stream",
       "stream": "stdout",
       "text": [
        "\n",
        "CN:08/2013\n",
        "CM:08/2013"
       ]
      },
      {
       "output_type": "stream",
       "stream": "stdout",
       "text": [
        "\n",
        "CL:08/2013\n",
        "CC:08/2013"
       ]
      },
      {
       "output_type": "stream",
       "stream": "stdout",
       "text": [
        "\n",
        "CV:08/2013\n",
        "12:08/2013"
       ]
      },
      {
       "output_type": "stream",
       "stream": "stdout",
       "text": [
        "\n",
        "16:08/2013"
       ]
      },
      {
       "output_type": "stream",
       "stream": "stdout",
       "text": [
        "\n",
        "SS:08/2013\n",
        "19:08/2013"
       ]
      },
      {
       "output_type": "stream",
       "stream": "stdout",
       "text": [
        "\n",
        "SH:08/2013\n",
        "SO:08/2013"
       ]
      },
      {
       "output_type": "stream",
       "stream": "stdout",
       "text": [
        "\n",
        "SL:08/2013\n",
        "OW:08/2013"
       ]
      },
      {
       "output_type": "stream",
       "stream": "stdout",
       "text": [
        "\n",
        "SB:08/2013\n",
        "OR:08/2013"
       ]
      },
      {
       "output_type": "stream",
       "stream": "stdout",
       "text": [
        "\n",
        "HY:08/2013\n",
        "DC:08/2013"
       ]
      },
      {
       "output_type": "stream",
       "stream": "stdout",
       "text": [
        "\n",
        "LF:08/2013\n",
        "GP:08/2013"
       ]
      },
      {
       "output_type": "stream",
       "stream": "stdout",
       "text": [
        "\n",
        "PH:08/2013"
       ]
      },
      {
       "output_type": "stream",
       "stream": "stdout",
       "text": [
        "\n",
        "PL:08/2013"
       ]
      },
      {
       "output_type": "stream",
       "stream": "stdout",
       "text": [
        "\n",
        "EM:08/2013\n",
        "EN:08/2013"
       ]
      },
      {
       "output_type": "stream",
       "stream": "stdout",
       "text": [
        "\n",
        "ED:08/2013\n",
        "AS:08/2013"
       ]
      },
      {
       "output_type": "stream",
       "stream": "stdout",
       "text": [
        "\n",
        "EP:08/2013\n",
        "MA:08/2013"
       ]
      },
      {
       "output_type": "stream",
       "stream": "stdout",
       "text": [
        "\n",
        "MB:08/2013"
       ]
      },
      {
       "output_type": "stream",
       "stream": "stdout",
       "text": [
        "\n",
        "MT:08/2013"
       ]
      },
      {
       "output_type": "stream",
       "stream": "stdout",
       "text": [
        "\n",
        "UC:08/2013\n",
        "BF:09/2013"
       ]
      },
      {
       "output_type": "stream",
       "stream": "stdout",
       "text": [
        "\n",
        "LM:09/2013"
       ]
      },
      {
       "output_type": "stream",
       "stream": "stdout",
       "text": [
        "\n",
        "WC:09/2013\n",
        "FV:09/2013"
       ]
      },
      {
       "output_type": "stream",
       "stream": "stdout",
       "text": [
        "\n",
        "BK:09/2013\n",
        "BP:09/2013"
       ]
      },
      {
       "output_type": "stream",
       "stream": "stdout",
       "text": [
        "\n",
        "WP:09/2013"
       ]
      },
      {
       "output_type": "stream",
       "stream": "stdout",
       "text": [
        "\n",
        "FM:09/2013\n",
        "24:09/2013"
       ]
      },
      {
       "output_type": "stream",
       "stream": "stdout",
       "text": [
        "\n",
        "RR:09/2013\n",
        "NB:09/2013"
       ]
      },
      {
       "output_type": "stream",
       "stream": "stdout",
       "text": [
        "\n",
        "NC:09/2013"
       ]
      },
      {
       "output_type": "stream",
       "stream": "stdout",
       "text": [
        "\n",
        "RM:09/2013"
       ]
      },
      {
       "output_type": "stream",
       "stream": "stdout",
       "text": [
        "\n",
        "CN:09/2013"
       ]
      },
      {
       "output_type": "stream",
       "stream": "stdout",
       "text": [
        "\n",
        "CM:09/2013"
       ]
      },
      {
       "output_type": "stream",
       "stream": "stdout",
       "text": [
        "\n",
        "CL:09/2013\n",
        "CC:09/2013"
       ]
      },
      {
       "output_type": "stream",
       "stream": "stdout",
       "text": [
        "\n",
        "CV:09/2013\n",
        "12:09/2013"
       ]
      },
      {
       "output_type": "stream",
       "stream": "stdout",
       "text": [
        "\n",
        "16:09/2013\n",
        "SS:09/2013"
       ]
      },
      {
       "output_type": "stream",
       "stream": "stdout",
       "text": [
        "\n",
        "19:09/2013"
       ]
      },
      {
       "output_type": "stream",
       "stream": "stdout",
       "text": [
        "\n",
        "SH:09/2013\n",
        "SO:09/2013"
       ]
      },
      {
       "output_type": "stream",
       "stream": "stdout",
       "text": [
        "\n",
        "SL:09/2013"
       ]
      },
      {
       "output_type": "stream",
       "stream": "stdout",
       "text": [
        "\n",
        "OW:09/2013"
       ]
      },
      {
       "output_type": "stream",
       "stream": "stdout",
       "text": [
        "\n",
        "SB:09/2013"
       ]
      },
      {
       "output_type": "stream",
       "stream": "stdout",
       "text": [
        "\n",
        "OR:09/2013"
       ]
      },
      {
       "output_type": "stream",
       "stream": "stdout",
       "text": [
        "\n",
        "HY:09/2013\n",
        "DC:09/2013"
       ]
      },
      {
       "output_type": "stream",
       "stream": "stdout",
       "text": [
        "\n",
        "LF:09/2013\n",
        "GP:09/2013"
       ]
      },
      {
       "output_type": "stream",
       "stream": "stdout",
       "text": [
        "\n",
        "PH:09/2013\n",
        "PL:09/2013"
       ]
      },
      {
       "output_type": "stream",
       "stream": "stdout",
       "text": [
        "\n",
        "EM:09/2013\n",
        "EN:09/2013"
       ]
      },
      {
       "output_type": "stream",
       "stream": "stdout",
       "text": [
        "\n",
        "ED:09/2013"
       ]
      },
      {
       "output_type": "stream",
       "stream": "stdout",
       "text": [
        "\n",
        "AS:09/2013\n",
        "EP:09/2013"
       ]
      },
      {
       "output_type": "stream",
       "stream": "stdout",
       "text": [
        "\n",
        "MA:09/2013\n",
        "MB:09/2013"
       ]
      },
      {
       "output_type": "stream",
       "stream": "stdout",
       "text": [
        "\n",
        "MT:09/2013\n",
        "UC:09/2013"
       ]
      },
      {
       "output_type": "stream",
       "stream": "stdout",
       "text": [
        "\n",
        "BF:10/2013"
       ]
      },
      {
       "output_type": "stream",
       "stream": "stdout",
       "text": [
        "\n",
        "LM:10/2013\n",
        "WC:10/2013"
       ]
      },
      {
       "output_type": "stream",
       "stream": "stdout",
       "text": [
        "\n",
        "FV:10/2013\n",
        "BK:10/2013"
       ]
      },
      {
       "output_type": "stream",
       "stream": "stdout",
       "text": [
        "\n",
        "BP:10/2013\n",
        "WP:10/2013"
       ]
      },
      {
       "output_type": "stream",
       "stream": "stdout",
       "text": [
        "\n",
        "FM:10/2013\n",
        "24:10/2013"
       ]
      },
      {
       "output_type": "stream",
       "stream": "stdout",
       "text": [
        "\n",
        "RR:10/2013\n",
        "NB:10/2013"
       ]
      },
      {
       "output_type": "stream",
       "stream": "stdout",
       "text": [
        "\n",
        "NC:10/2013"
       ]
      },
      {
       "output_type": "stream",
       "stream": "stdout",
       "text": [
        "\n",
        "RM:10/2013"
       ]
      },
      {
       "output_type": "stream",
       "stream": "stdout",
       "text": [
        "\n",
        "CN:10/2013"
       ]
      },
      {
       "output_type": "stream",
       "stream": "stdout",
       "text": [
        "\n",
        "CM:10/2013\n",
        "CL:10/2013"
       ]
      },
      {
       "output_type": "stream",
       "stream": "stdout",
       "text": [
        "\n",
        "CC:10/2013\n",
        "CV:10/2013"
       ]
      },
      {
       "output_type": "stream",
       "stream": "stdout",
       "text": [
        "\n",
        "12:10/2013\n",
        "16:10/2013"
       ]
      },
      {
       "output_type": "stream",
       "stream": "stdout",
       "text": [
        "\n",
        "SS:10/2013\n",
        "19:10/2013"
       ]
      },
      {
       "output_type": "stream",
       "stream": "stdout",
       "text": [
        "\n",
        "SH:10/2013\n",
        "SO:10/2013"
       ]
      },
      {
       "output_type": "stream",
       "stream": "stdout",
       "text": [
        "\n",
        "SL:10/2013\n",
        "OW:10/2013"
       ]
      },
      {
       "output_type": "stream",
       "stream": "stdout",
       "text": [
        "\n",
        "SB:10/2013\n",
        "OR:10/2013"
       ]
      },
      {
       "output_type": "stream",
       "stream": "stdout",
       "text": [
        "\n",
        "HY:10/2013"
       ]
      },
      {
       "output_type": "stream",
       "stream": "stdout",
       "text": [
        "\n",
        "DC:10/2013"
       ]
      },
      {
       "output_type": "stream",
       "stream": "stdout",
       "text": [
        "\n",
        "LF:10/2013\n",
        "GP:10/2013"
       ]
      },
      {
       "output_type": "stream",
       "stream": "stdout",
       "text": [
        "\n",
        "PH:10/2013"
       ]
      },
      {
       "output_type": "stream",
       "stream": "stdout",
       "text": [
        "\n",
        "PL:10/2013"
       ]
      },
      {
       "output_type": "stream",
       "stream": "stdout",
       "text": [
        "\n",
        "EM:10/2013\n",
        "EN:10/2013"
       ]
      },
      {
       "output_type": "stream",
       "stream": "stdout",
       "text": [
        "\n",
        "ED:10/2013\n",
        "AS:10/2013"
       ]
      },
      {
       "output_type": "stream",
       "stream": "stdout",
       "text": [
        "\n",
        "EP:10/2013\n",
        "MA:10/2013"
       ]
      },
      {
       "output_type": "stream",
       "stream": "stdout",
       "text": [
        "\n",
        "MB:10/2013\n",
        "MT:10/2013"
       ]
      },
      {
       "output_type": "stream",
       "stream": "stdout",
       "text": [
        "\n",
        "UC:10/2013"
       ]
      },
      {
       "output_type": "stream",
       "stream": "stdout",
       "text": [
        "\n",
        "BF:11/2013"
       ]
      },
      {
       "output_type": "stream",
       "stream": "stdout",
       "text": [
        "\n",
        "LM:11/2013"
       ]
      },
      {
       "output_type": "stream",
       "stream": "stdout",
       "text": [
        "\n",
        "WC:11/2013\n",
        "FV:11/2013"
       ]
      },
      {
       "output_type": "stream",
       "stream": "stdout",
       "text": [
        "\n",
        "BK:11/2013"
       ]
      },
      {
       "output_type": "stream",
       "stream": "stdout",
       "text": [
        "\n",
        "BP:11/2013"
       ]
      },
      {
       "output_type": "stream",
       "stream": "stdout",
       "text": [
        "\n",
        "WP:11/2013\n",
        "FM:11/2013"
       ]
      },
      {
       "output_type": "stream",
       "stream": "stdout",
       "text": [
        "\n",
        "24:11/2013\n",
        "RR:11/2013"
       ]
      },
      {
       "output_type": "stream",
       "stream": "stdout",
       "text": [
        "\n",
        "NB:11/2013\n",
        "NC:11/2013"
       ]
      },
      {
       "output_type": "stream",
       "stream": "stdout",
       "text": [
        "\n",
        "RM:11/2013"
       ]
      },
      {
       "output_type": "stream",
       "stream": "stdout",
       "text": [
        "\n",
        "CN:11/2013"
       ]
      },
      {
       "output_type": "stream",
       "stream": "stdout",
       "text": [
        "\n",
        "CM:11/2013"
       ]
      },
      {
       "output_type": "stream",
       "stream": "stdout",
       "text": [
        "\n",
        "CL:11/2013\n",
        "CC:11/2013"
       ]
      },
      {
       "output_type": "stream",
       "stream": "stdout",
       "text": [
        "\n",
        "CV:11/2013\n",
        "12:11/2013"
       ]
      },
      {
       "output_type": "stream",
       "stream": "stdout",
       "text": [
        "\n",
        "16:11/2013\n",
        "SS:11/2013"
       ]
      },
      {
       "output_type": "stream",
       "stream": "stdout",
       "text": [
        "\n",
        "19:11/2013\n",
        "SH:11/2013"
       ]
      },
      {
       "output_type": "stream",
       "stream": "stdout",
       "text": [
        "\n",
        "SO:11/2013\n",
        "SL:11/2013"
       ]
      },
      {
       "output_type": "stream",
       "stream": "stdout",
       "text": [
        "\n",
        "OW:11/2013\n",
        "SB:11/2013"
       ]
      },
      {
       "output_type": "stream",
       "stream": "stdout",
       "text": [
        "\n",
        "OR:11/2013"
       ]
      },
      {
       "output_type": "stream",
       "stream": "stdout",
       "text": [
        "\n",
        "HY:11/2013"
       ]
      },
      {
       "output_type": "stream",
       "stream": "stdout",
       "text": [
        "\n",
        "DC:11/2013"
       ]
      },
      {
       "output_type": "stream",
       "stream": "stdout",
       "text": [
        "\n",
        "LF:11/2013\n",
        "GP:11/2013"
       ]
      },
      {
       "output_type": "stream",
       "stream": "stdout",
       "text": [
        "\n",
        "PH:11/2013\n",
        "PL:11/2013"
       ]
      },
      {
       "output_type": "stream",
       "stream": "stdout",
       "text": [
        "\n",
        "EM:11/2013\n",
        "EN:11/2013"
       ]
      },
      {
       "output_type": "stream",
       "stream": "stdout",
       "text": [
        "\n",
        "ED:11/2013"
       ]
      },
      {
       "output_type": "stream",
       "stream": "stdout",
       "text": [
        "\n",
        "AS:11/2013\n",
        "EP:11/2013"
       ]
      },
      {
       "output_type": "stream",
       "stream": "stdout",
       "text": [
        "\n",
        "MA:11/2013"
       ]
      },
      {
       "output_type": "stream",
       "stream": "stdout",
       "text": [
        "\n",
        "MB:11/2013"
       ]
      },
      {
       "output_type": "stream",
       "stream": "stdout",
       "text": [
        "\n",
        "MT:11/2013\n",
        "UC:11/2013"
       ]
      },
      {
       "output_type": "stream",
       "stream": "stdout",
       "text": [
        "\n",
        "BF:12/2013"
       ]
      },
      {
       "output_type": "stream",
       "stream": "stdout",
       "text": [
        "\n",
        "LM:12/2013\n",
        "WC:12/2013"
       ]
      },
      {
       "output_type": "stream",
       "stream": "stdout",
       "text": [
        "\n",
        "FV:12/2013\n",
        "BK:12/2013"
       ]
      },
      {
       "output_type": "stream",
       "stream": "stdout",
       "text": [
        "\n",
        "BP:12/2013\n",
        "WP:12/2013"
       ]
      },
      {
       "output_type": "stream",
       "stream": "stdout",
       "text": [
        "\n",
        "FM:12/2013"
       ]
      },
      {
       "output_type": "stream",
       "stream": "stdout",
       "text": [
        "\n",
        "24:12/2013\n",
        "RR:12/2013"
       ]
      },
      {
       "output_type": "stream",
       "stream": "stdout",
       "text": [
        "\n",
        "NB:12/2013\n",
        "NC:12/2013"
       ]
      },
      {
       "output_type": "stream",
       "stream": "stdout",
       "text": [
        "\n",
        "RM:12/2013\n",
        "CN:12/2013"
       ]
      },
      {
       "output_type": "stream",
       "stream": "stdout",
       "text": [
        "\n",
        "CM:12/2013"
       ]
      },
      {
       "output_type": "stream",
       "stream": "stdout",
       "text": [
        "\n",
        "CL:12/2013\n",
        "CC:12/2013"
       ]
      },
      {
       "output_type": "stream",
       "stream": "stdout",
       "text": [
        "\n",
        "CV:12/2013\n",
        "12:12/2013"
       ]
      },
      {
       "output_type": "stream",
       "stream": "stdout",
       "text": [
        "\n",
        "16:12/2013"
       ]
      },
      {
       "output_type": "stream",
       "stream": "stdout",
       "text": [
        "\n",
        "SS:12/2013\n",
        "19:12/2013"
       ]
      },
      {
       "output_type": "stream",
       "stream": "stdout",
       "text": [
        "\n",
        "SH:12/2013"
       ]
      },
      {
       "output_type": "stream",
       "stream": "stdout",
       "text": [
        "\n",
        "SO:12/2013"
       ]
      },
      {
       "output_type": "stream",
       "stream": "stdout",
       "text": [
        "\n",
        "SL:12/2013"
       ]
      },
      {
       "output_type": "stream",
       "stream": "stdout",
       "text": [
        "\n",
        "OW:12/2013"
       ]
      },
      {
       "output_type": "stream",
       "stream": "stdout",
       "text": [
        "\n",
        "SB:12/2013"
       ]
      },
      {
       "output_type": "stream",
       "stream": "stdout",
       "text": [
        "\n",
        "OR:12/2013"
       ]
      },
      {
       "output_type": "stream",
       "stream": "stdout",
       "text": [
        "\n",
        "HY:12/2013"
       ]
      },
      {
       "output_type": "stream",
       "stream": "stdout",
       "text": [
        "\n",
        "DC:12/2013"
       ]
      },
      {
       "output_type": "stream",
       "stream": "stdout",
       "text": [
        "\n",
        "LF:12/2013"
       ]
      },
      {
       "output_type": "stream",
       "stream": "stdout",
       "text": [
        "\n",
        "GP:12/2013"
       ]
      },
      {
       "output_type": "stream",
       "stream": "stdout",
       "text": [
        "\n",
        "PH:12/2013"
       ]
      },
      {
       "output_type": "stream",
       "stream": "stdout",
       "text": [
        "\n",
        "PL:12/2013\n",
        "EM:12/2013"
       ]
      },
      {
       "output_type": "stream",
       "stream": "stdout",
       "text": [
        "\n",
        "EN:12/2013"
       ]
      },
      {
       "output_type": "stream",
       "stream": "stdout",
       "text": [
        "\n",
        "ED:12/2013"
       ]
      },
      {
       "output_type": "stream",
       "stream": "stdout",
       "text": [
        "\n",
        "AS:12/2013"
       ]
      },
      {
       "output_type": "stream",
       "stream": "stdout",
       "text": [
        "\n",
        "EP:12/2013"
       ]
      },
      {
       "output_type": "stream",
       "stream": "stdout",
       "text": [
        "\n",
        "MA:12/2013"
       ]
      },
      {
       "output_type": "stream",
       "stream": "stdout",
       "text": [
        "\n",
        "MB:12/2013"
       ]
      },
      {
       "output_type": "stream",
       "stream": "stdout",
       "text": [
        "\n",
        "MT:12/2013"
       ]
      },
      {
       "output_type": "stream",
       "stream": "stdout",
       "text": [
        "\n",
        "UC:12/2013"
       ]
      },
      {
       "output_type": "stream",
       "stream": "stdout",
       "text": [
        "\n"
       ]
      }
     ],
     "prompt_number": 22
    },
    {
     "cell_type": "code",
     "collapsed": false,
     "input": [
      "all_data['RM']['12']"
     ],
     "language": "python",
     "metadata": {},
     "outputs": [
      {
       "metadata": {},
       "output_type": "pyout",
       "prompt_number": 17,
       "text": [
        "[{'ridership': 203.14285714285714, 'time': '01/2013'},\n",
        " {'ridership': 203.57894736842104, 'time': '02/2013'},\n",
        " {'ridership': 194.1904761904762, 'time': '03/2013'},\n",
        " {'ridership': 203.9090909090909, 'time': '04/2013'},\n",
        " {'ridership': 205.36363636363637, 'time': '05/2013'},\n",
        " {'ridership': 210.35, 'time': '06/2013'},\n",
        " {'ridership': 167.04545454545453, 'time': '07/2013'},\n",
        " {'ridership': 204.5909090909091, 'time': '08/2013'},\n",
        " {'ridership': 201.6, 'time': '09/2013'},\n",
        " {'ridership': 175.3181818181818, 'time': '10/2013'},\n",
        " {'ridership': 195.05555555555554, 'time': '11/2013'},\n",
        " {'ridership': 187, 'time': '12/2013'}]"
       ]
      }
     ],
     "prompt_number": 17
    },
    {
     "cell_type": "code",
     "collapsed": false,
     "input": [
      "for station in station_list:\n",
      "    file_name = 'time_series/'+station+'_ridership.json'\n",
      "    export_data = list()\n",
      "    for destination_st in station_list:\n",
      "        destination_dict = dict()\n",
      "        destination_dict['source'] = station\n",
      "        destination_dict['destination'] = destination_st\n",
      "        destination_dict['weekday'] = True\n",
      "        destination_dict['ridership'] = all_data[station][destination_st]\n",
      "        export_data.append(destination_dict)\n",
      "    with open(file_name, 'w') as outfile:\n",
      "        json.dump(export_data, outfile)\n"
     ],
     "language": "python",
     "metadata": {},
     "outputs": [],
     "prompt_number": 23
    },
    {
     "cell_type": "code",
     "collapsed": false,
     "input": [
      "\"\"\" Generate edge mapping \"\"\"\n",
      "station_legs_mapping_file = 'station-leg-mapping.csv'\n",
      "temp_station_index = list()\n",
      "\n",
      "with open(station_legs_mapping_file, \"rb\") as csv_file:\n",
      "    data_reader = csv.reader(csv_file)\n",
      "    i = 0\n",
      "    for row in data_reader:\n",
      "        if i == 0:\n",
      "            temp_station_index = row[1:]\n",
      "        else:\n",
      "            source_st_id = row[0]\n",
      "            keys = row[1:]\n",
      "            edges_mapping[source_st_id] = dict(zip(keys, temp_station_index))\n",
      "        i += 1\n"
     ],
     "language": "python",
     "metadata": {},
     "outputs": [],
     "prompt_number": 4
    },
    {
     "cell_type": "code",
     "collapsed": false,
     "input": [
      "edges_mapping"
     ],
     "language": "python",
     "metadata": {},
     "outputs": [
      {
       "metadata": {},
       "output_type": "pyout",
       "prompt_number": 5,
       "text": [
        "{'12': {'0': '12',\n",
        "  '12_19': '19',\n",
        "  '12_LM': 'LM',\n",
        "  '12_OW': 'OW',\n",
        "  '16_24': '24',\n",
        "  '16_CC': '16',\n",
        "  '19_MA': 'MA',\n",
        "  '24_GP': 'GP',\n",
        "  'AS_BK': 'BK',\n",
        "  'AS_MA': 'AS',\n",
        "  'BF_CV': 'CV',\n",
        "  'BF_HY': 'HY',\n",
        "  'BF_SL': 'BF',\n",
        "  'BK_NB': 'NB',\n",
        "  'BP_DC': 'DC',\n",
        "  'BP_GP': 'BP',\n",
        "  'CC_PL': 'CC',\n",
        "  'CL_FV': 'CL',\n",
        "  'CL_SL': 'SL',\n",
        "  'CM_DC': 'CM',\n",
        "  'CM_SS': 'SS',\n",
        "  'CN_NC': 'NC',\n",
        "  'CN_PH': 'CN',\n",
        "  'CV_ED': 'ED',\n",
        "  'EM_MT': 'MT',\n",
        "  'EM_OW': 'EM',\n",
        "  'EN_EP': 'EN',\n",
        "  'EN_RM': 'RM',\n",
        "  'EP_NB': 'EP',\n",
        "  'FM_UC': 'FM',\n",
        "  'FV_LM': 'FV',\n",
        "  'HY_SH': 'SH',\n",
        "  'LF_OR': 'LF',\n",
        "  'LF_WC': 'WC',\n",
        "  'MA_RR': 'RR',\n",
        "  'MB_SB': 'MB',\n",
        "  'MT_PL': 'PL',\n",
        "  'NC_WP': 'WP',\n",
        "  'OR_RR': 'OR',\n",
        "  'PH_WC': 'PH',\n",
        "  'SB_SO': 'SO',\n",
        "  'SB_SS': 'SB',\n",
        "  'SH_UC': 'UC'},\n",
        " '16': {'0': '16',\n",
        "  '12_19': '19',\n",
        "  '12_OW': '12',\n",
        "  '16_24': '24',\n",
        "  '16_CC': 'CC',\n",
        "  '19_MA': 'MA',\n",
        "  '24_GP': 'GP',\n",
        "  'AS_BK': 'BK',\n",
        "  'AS_MA': 'AS',\n",
        "  'BF_CV': 'CV',\n",
        "  'BF_HY': 'HY',\n",
        "  'BF_SL': 'BF',\n",
        "  'BK_NB': 'NB',\n",
        "  'BP_DC': 'DC',\n",
        "  'BP_GP': 'BP',\n",
        "  'CC_PL': 'PL',\n",
        "  'CL_FV': 'CL',\n",
        "  'CL_SL': 'SL',\n",
        "  'CM_DC': 'CM',\n",
        "  'CM_SS': 'SS',\n",
        "  'CN_NC': 'NC',\n",
        "  'CN_PH': 'CN',\n",
        "  'CV_ED': 'ED',\n",
        "  'EM_MT': 'EM',\n",
        "  'EM_OW': 'OW',\n",
        "  'EN_EP': 'EN',\n",
        "  'EN_RM': 'RM',\n",
        "  'EP_NB': 'EP',\n",
        "  'FM_UC': 'FM',\n",
        "  'FV_LM': 'FV',\n",
        "  'HY_SH': 'SH',\n",
        "  'LF_OR': 'LF',\n",
        "  'LF_WC': 'WC',\n",
        "  'LM_OW': 'LM',\n",
        "  'MA_RR': 'RR',\n",
        "  'MB_SB': 'MB',\n",
        "  'MT_PL': 'MT',\n",
        "  'NC_WP': 'WP',\n",
        "  'OR_RR': 'OR',\n",
        "  'PH_WC': 'PH',\n",
        "  'SB_SO': 'SO',\n",
        "  'SB_SS': 'SB',\n",
        "  'SH_UC': 'UC'},\n",
        " '19': {'0': '19',\n",
        "  '12_19': '12',\n",
        "  '12_LM': 'LM',\n",
        "  '12_OW': 'OW',\n",
        "  '16_24': '24',\n",
        "  '16_CC': '16',\n",
        "  '19_MA': 'MA',\n",
        "  '24_GP': 'GP',\n",
        "  'AS_BK': 'BK',\n",
        "  'AS_MA': 'AS',\n",
        "  'BF_CV': 'CV',\n",
        "  'BF_HY': 'HY',\n",
        "  'BF_SL': 'BF',\n",
        "  'BK_NB': 'NB',\n",
        "  'BP_DC': 'DC',\n",
        "  'BP_GP': 'BP',\n",
        "  'CC_PL': 'CC',\n",
        "  'CL_FV': 'CL',\n",
        "  'CL_SL': 'SL',\n",
        "  'CM_DC': 'CM',\n",
        "  'CM_SS': 'SS',\n",
        "  'CN_NC': 'NC',\n",
        "  'CN_PH': 'CN',\n",
        "  'CV_ED': 'ED',\n",
        "  'EM_MT': 'MT',\n",
        "  'EM_OW': 'EM',\n",
        "  'EN_EP': 'EN',\n",
        "  'EN_RM': 'RM',\n",
        "  'EP_NB': 'EP',\n",
        "  'FM_UC': 'FM',\n",
        "  'FV_LM': 'FV',\n",
        "  'HY_SH': 'SH',\n",
        "  'LF_OR': 'LF',\n",
        "  'LF_WC': 'WC',\n",
        "  'MA_RR': 'RR',\n",
        "  'MB_SB': 'MB',\n",
        "  'MT_PL': 'PL',\n",
        "  'NC_WP': 'WP',\n",
        "  'OR_RR': 'OR',\n",
        "  'PH_WC': 'PH',\n",
        "  'SB_SO': 'SO',\n",
        "  'SB_SS': 'SB',\n",
        "  'SH_UC': 'UC'},\n",
        " '24': {'0': '24',\n",
        "  '12_19': '19',\n",
        "  '12_OW': '12',\n",
        "  '16_24': '16',\n",
        "  '16_CC': 'CC',\n",
        "  '19_MA': 'MA',\n",
        "  '24_GP': 'GP',\n",
        "  'AS_BK': 'BK',\n",
        "  'AS_MA': 'AS',\n",
        "  'BF_CV': 'CV',\n",
        "  'BF_HY': 'HY',\n",
        "  'BF_SL': 'BF',\n",
        "  'BK_NB': 'NB',\n",
        "  'BP_DC': 'DC',\n",
        "  'BP_GP': 'BP',\n",
        "  'CC_PL': 'PL',\n",
        "  'CL_FV': 'CL',\n",
        "  'CL_SL': 'SL',\n",
        "  'CM_DC': 'CM',\n",
        "  'CM_SS': 'SS',\n",
        "  'CN_NC': 'NC',\n",
        "  'CN_PH': 'CN',\n",
        "  'CV_ED': 'ED',\n",
        "  'EM_MT': 'EM',\n",
        "  'EM_OW': 'OW',\n",
        "  'EN_EP': 'EN',\n",
        "  'EN_RM': 'RM',\n",
        "  'EP_NB': 'EP',\n",
        "  'FM_UC': 'FM',\n",
        "  'FV_LM': 'FV',\n",
        "  'HY_SH': 'SH',\n",
        "  'LF_OR': 'LF',\n",
        "  'LF_WC': 'WC',\n",
        "  'LM_OW': 'LM',\n",
        "  'MA_RR': 'RR',\n",
        "  'MB_SB': 'MB',\n",
        "  'MT_PL': 'MT',\n",
        "  'NC_WP': 'WP',\n",
        "  'OR_RR': 'OR',\n",
        "  'PH_WC': 'PH',\n",
        "  'SB_SO': 'SO',\n",
        "  'SB_SS': 'SB',\n",
        "  'SH_UC': 'UC'},\n",
        " 'AS': {'0': 'AS',\n",
        "  '12_19': '12',\n",
        "  '12_LM': 'LM',\n",
        "  '12_OW': 'OW',\n",
        "  '16_24': '24',\n",
        "  '16_CC': '16',\n",
        "  '19_MA': '19',\n",
        "  '24_GP': 'GP',\n",
        "  'AS_BK': 'BK',\n",
        "  'AS_MA': 'MA',\n",
        "  'BF_CV': 'CV',\n",
        "  'BF_HY': 'HY',\n",
        "  'BF_SL': 'BF',\n",
        "  'BK_NB': 'NB',\n",
        "  'BP_DC': 'DC',\n",
        "  'BP_GP': 'BP',\n",
        "  'CC_PL': 'CC',\n",
        "  'CL_FV': 'CL',\n",
        "  'CL_SL': 'SL',\n",
        "  'CM_DC': 'CM',\n",
        "  'CM_SS': 'SS',\n",
        "  'CN_NC': 'NC',\n",
        "  'CN_PH': 'CN',\n",
        "  'CV_ED': 'ED',\n",
        "  'EM_MT': 'MT',\n",
        "  'EM_OW': 'EM',\n",
        "  'EN_EP': 'EN',\n",
        "  'EN_RM': 'RM',\n",
        "  'EP_NB': 'EP',\n",
        "  'FM_UC': 'FM',\n",
        "  'FV_LM': 'FV',\n",
        "  'HY_SH': 'SH',\n",
        "  'LF_OR': 'LF',\n",
        "  'LF_WC': 'WC',\n",
        "  'MA_RR': 'RR',\n",
        "  'MB_SB': 'MB',\n",
        "  'MT_PL': 'PL',\n",
        "  'NC_WP': 'WP',\n",
        "  'OR_RR': 'OR',\n",
        "  'PH_WC': 'PH',\n",
        "  'SB_SO': 'SO',\n",
        "  'SB_SS': 'SB',\n",
        "  'SH_UC': 'UC'},\n",
        " 'BF': {'0': 'BF',\n",
        "  '12_19': '19',\n",
        "  '12_LM': '12',\n",
        "  '16_24': '24',\n",
        "  '16_CC': '16',\n",
        "  '19_MA': 'MA',\n",
        "  '24_GP': 'GP',\n",
        "  'AS_BK': 'BK',\n",
        "  'AS_MA': 'AS',\n",
        "  'BF_CV': 'CV',\n",
        "  'BF_HY': 'HY',\n",
        "  'BF_SL': 'SL',\n",
        "  'BK_NB': 'NB',\n",
        "  'BP_DC': 'DC',\n",
        "  'BP_GP': 'BP',\n",
        "  'CC_PL': 'CC',\n",
        "  'CL_FV': 'FV',\n",
        "  'CL_SL': 'CL',\n",
        "  'CM_DC': 'CM',\n",
        "  'CM_SS': 'SS',\n",
        "  'CN_NC': 'NC',\n",
        "  'CN_PH': 'CN',\n",
        "  'CV_ED': 'ED',\n",
        "  'EM_MT': 'MT',\n",
        "  'EM_OW': 'EM',\n",
        "  'EN_EP': 'EN',\n",
        "  'EN_RM': 'RM',\n",
        "  'EP_NB': 'EP',\n",
        "  'FM_UC': 'FM',\n",
        "  'FV_LM': 'LM',\n",
        "  'HY_SH': 'SH',\n",
        "  'LF_OR': 'LF',\n",
        "  'LF_WC': 'WC',\n",
        "  'LM_OW': 'OW',\n",
        "  'MA_RR': 'RR',\n",
        "  'MB_SB': 'MB',\n",
        "  'MT_PL': 'PL',\n",
        "  'NC_WP': 'WP',\n",
        "  'OR_RR': 'OR',\n",
        "  'PH_WC': 'PH',\n",
        "  'SB_SO': 'SO',\n",
        "  'SB_SS': 'SB',\n",
        "  'SH_UC': 'UC'},\n",
        " 'BK': {'0': 'BK',\n",
        "  '12_19': '12',\n",
        "  '12_LM': 'LM',\n",
        "  '12_OW': 'OW',\n",
        "  '16_24': '24',\n",
        "  '16_CC': '16',\n",
        "  '19_MA': '19',\n",
        "  '24_GP': 'GP',\n",
        "  'AS_BK': 'AS',\n",
        "  'AS_MA': 'MA',\n",
        "  'BF_CV': 'CV',\n",
        "  'BF_HY': 'HY',\n",
        "  'BF_SL': 'BF',\n",
        "  'BK_NB': 'NB',\n",
        "  'BP_DC': 'DC',\n",
        "  'BP_GP': 'BP',\n",
        "  'CC_PL': 'CC',\n",
        "  'CL_FV': 'CL',\n",
        "  'CL_SL': 'SL',\n",
        "  'CM_DC': 'CM',\n",
        "  'CM_SS': 'SS',\n",
        "  'CN_NC': 'NC',\n",
        "  'CN_PH': 'CN',\n",
        "  'CV_ED': 'ED',\n",
        "  'EM_MT': 'MT',\n",
        "  'EM_OW': 'EM',\n",
        "  'EN_EP': 'EN',\n",
        "  'EN_RM': 'RM',\n",
        "  'EP_NB': 'EP',\n",
        "  'FM_UC': 'FM',\n",
        "  'FV_LM': 'FV',\n",
        "  'HY_SH': 'SH',\n",
        "  'LF_OR': 'LF',\n",
        "  'LF_WC': 'WC',\n",
        "  'MA_RR': 'RR',\n",
        "  'MB_SB': 'MB',\n",
        "  'MT_PL': 'PL',\n",
        "  'NC_WP': 'WP',\n",
        "  'OR_RR': 'OR',\n",
        "  'PH_WC': 'PH',\n",
        "  'SB_SO': 'SO',\n",
        "  'SB_SS': 'SB',\n",
        "  'SH_UC': 'UC'},\n",
        " 'BP': {'0': 'BP',\n",
        "  '12_19': '19',\n",
        "  '12_OW': '12',\n",
        "  '16_24': '16',\n",
        "  '16_CC': 'CC',\n",
        "  '19_MA': 'MA',\n",
        "  '24_GP': '24',\n",
        "  'AS_BK': 'BK',\n",
        "  'AS_MA': 'AS',\n",
        "  'BF_CV': 'CV',\n",
        "  'BF_HY': 'HY',\n",
        "  'BF_SL': 'BF',\n",
        "  'BK_NB': 'NB',\n",
        "  'BP_DC': 'DC',\n",
        "  'BP_GP': 'GP',\n",
        "  'CC_PL': 'PL',\n",
        "  'CL_FV': 'CL',\n",
        "  'CL_SL': 'SL',\n",
        "  'CM_DC': 'CM',\n",
        "  'CM_SS': 'SS',\n",
        "  'CN_NC': 'NC',\n",
        "  'CN_PH': 'CN',\n",
        "  'CV_ED': 'ED',\n",
        "  'EM_MT': 'EM',\n",
        "  'EM_OW': 'OW',\n",
        "  'EN_EP': 'EN',\n",
        "  'EN_RM': 'RM',\n",
        "  'EP_NB': 'EP',\n",
        "  'FM_UC': 'FM',\n",
        "  'FV_LM': 'FV',\n",
        "  'HY_SH': 'SH',\n",
        "  'LF_OR': 'LF',\n",
        "  'LF_WC': 'WC',\n",
        "  'LM_OW': 'LM',\n",
        "  'MA_RR': 'RR',\n",
        "  'MB_SB': 'MB',\n",
        "  'MT_PL': 'MT',\n",
        "  'NC_WP': 'WP',\n",
        "  'OR_RR': 'OR',\n",
        "  'PH_WC': 'PH',\n",
        "  'SB_SO': 'SO',\n",
        "  'SB_SS': 'SB',\n",
        "  'SH_UC': 'UC'},\n",
        " 'CC': {'0': 'CC',\n",
        "  '12_19': '19',\n",
        "  '12_OW': '12',\n",
        "  '16_24': '24',\n",
        "  '16_CC': '16',\n",
        "  '19_MA': 'MA',\n",
        "  '24_GP': 'GP',\n",
        "  'AS_BK': 'BK',\n",
        "  'AS_MA': 'AS',\n",
        "  'BF_CV': 'CV',\n",
        "  'BF_HY': 'HY',\n",
        "  'BF_SL': 'BF',\n",
        "  'BK_NB': 'NB',\n",
        "  'BP_DC': 'DC',\n",
        "  'BP_GP': 'BP',\n",
        "  'CC_PL': 'PL',\n",
        "  'CL_FV': 'CL',\n",
        "  'CL_SL': 'SL',\n",
        "  'CM_DC': 'CM',\n",
        "  'CM_SS': 'SS',\n",
        "  'CN_NC': 'NC',\n",
        "  'CN_PH': 'CN',\n",
        "  'CV_ED': 'ED',\n",
        "  'EM_MT': 'EM',\n",
        "  'EM_OW': 'OW',\n",
        "  'EN_EP': 'EN',\n",
        "  'EN_RM': 'RM',\n",
        "  'EP_NB': 'EP',\n",
        "  'FM_UC': 'FM',\n",
        "  'FV_LM': 'FV',\n",
        "  'HY_SH': 'SH',\n",
        "  'LF_OR': 'LF',\n",
        "  'LF_WC': 'WC',\n",
        "  'LM_OW': 'LM',\n",
        "  'MA_RR': 'RR',\n",
        "  'MB_SB': 'MB',\n",
        "  'MT_PL': 'MT',\n",
        "  'NC_WP': 'WP',\n",
        "  'OR_RR': 'OR',\n",
        "  'PH_WC': 'PH',\n",
        "  'SB_SO': 'SO',\n",
        "  'SB_SS': 'SB',\n",
        "  'SH_UC': 'UC'},\n",
        " 'CL': {'0': 'CL',\n",
        "  '12_19': '19',\n",
        "  '12_LM': '12',\n",
        "  '16_24': '24',\n",
        "  '16_CC': '16',\n",
        "  '19_MA': 'MA',\n",
        "  '24_GP': 'GP',\n",
        "  'AS_BK': 'BK',\n",
        "  'AS_MA': 'AS',\n",
        "  'BF_CV': 'CV',\n",
        "  'BF_HY': 'HY',\n",
        "  'BF_SL': 'BF',\n",
        "  'BK_NB': 'NB',\n",
        "  'BP_DC': 'DC',\n",
        "  'BP_GP': 'BP',\n",
        "  'CC_PL': 'CC',\n",
        "  'CL_FV': 'FV',\n",
        "  'CL_SL': 'SL',\n",
        "  'CM_DC': 'CM',\n",
        "  'CM_SS': 'SS',\n",
        "  'CN_NC': 'NC',\n",
        "  'CN_PH': 'CN',\n",
        "  'CV_ED': 'ED',\n",
        "  'EM_MT': 'MT',\n",
        "  'EM_OW': 'EM',\n",
        "  'EN_EP': 'EN',\n",
        "  'EN_RM': 'RM',\n",
        "  'EP_NB': 'EP',\n",
        "  'FM_UC': 'FM',\n",
        "  'FV_LM': 'LM',\n",
        "  'HY_SH': 'SH',\n",
        "  'LF_OR': 'LF',\n",
        "  'LF_WC': 'WC',\n",
        "  'LM_OW': 'OW',\n",
        "  'MA_RR': 'RR',\n",
        "  'MB_SB': 'MB',\n",
        "  'MT_PL': 'PL',\n",
        "  'NC_WP': 'WP',\n",
        "  'OR_RR': 'OR',\n",
        "  'PH_WC': 'PH',\n",
        "  'SB_SO': 'SO',\n",
        "  'SB_SS': 'SB',\n",
        "  'SH_UC': 'UC'},\n",
        " 'CM': {'0': 'CM',\n",
        "  '12_19': '19',\n",
        "  '12_OW': '12',\n",
        "  '16_24': '16',\n",
        "  '16_CC': 'CC',\n",
        "  '19_MA': 'MA',\n",
        "  '24_GP': '24',\n",
        "  'AS_BK': 'BK',\n",
        "  'AS_MA': 'AS',\n",
        "  'BF_CV': 'CV',\n",
        "  'BF_HY': 'HY',\n",
        "  'BF_SL': 'BF',\n",
        "  'BK_NB': 'NB',\n",
        "  'BP_DC': 'BP',\n",
        "  'BP_GP': 'GP',\n",
        "  'CC_PL': 'PL',\n",
        "  'CL_FV': 'CL',\n",
        "  'CL_SL': 'SL',\n",
        "  'CM_DC': 'DC',\n",
        "  'CM_SS': 'SS',\n",
        "  'CN_NC': 'NC',\n",
        "  'CN_PH': 'CN',\n",
        "  'CV_ED': 'ED',\n",
        "  'EM_MT': 'EM',\n",
        "  'EM_OW': 'OW',\n",
        "  'EN_EP': 'EN',\n",
        "  'EN_RM': 'RM',\n",
        "  'EP_NB': 'EP',\n",
        "  'FM_UC': 'FM',\n",
        "  'FV_LM': 'FV',\n",
        "  'HY_SH': 'SH',\n",
        "  'LF_OR': 'LF',\n",
        "  'LF_WC': 'WC',\n",
        "  'LM_OW': 'LM',\n",
        "  'MA_RR': 'RR',\n",
        "  'MB_SB': 'MB',\n",
        "  'MT_PL': 'MT',\n",
        "  'NC_WP': 'WP',\n",
        "  'OR_RR': 'OR',\n",
        "  'PH_WC': 'PH',\n",
        "  'SB_SO': 'SO',\n",
        "  'SB_SS': 'SB',\n",
        "  'SH_UC': 'UC'},\n",
        " 'CN': {'0': 'CN',\n",
        "  '12_19': '12',\n",
        "  '12_LM': 'LM',\n",
        "  '12_OW': 'OW',\n",
        "  '16_24': '24',\n",
        "  '16_CC': '16',\n",
        "  '19_MA': '19',\n",
        "  '24_GP': 'GP',\n",
        "  'AS_BK': 'BK',\n",
        "  'AS_MA': 'AS',\n",
        "  'BF_CV': 'CV',\n",
        "  'BF_HY': 'HY',\n",
        "  'BF_SL': 'BF',\n",
        "  'BK_NB': 'NB',\n",
        "  'BP_DC': 'DC',\n",
        "  'BP_GP': 'BP',\n",
        "  'CC_PL': 'CC',\n",
        "  'CL_FV': 'CL',\n",
        "  'CL_SL': 'SL',\n",
        "  'CM_DC': 'CM',\n",
        "  'CM_SS': 'SS',\n",
        "  'CN_NC': 'NC',\n",
        "  'CN_PH': 'PH',\n",
        "  'CV_ED': 'ED',\n",
        "  'EM_MT': 'MT',\n",
        "  'EM_OW': 'EM',\n",
        "  'EN_EP': 'EN',\n",
        "  'EN_RM': 'RM',\n",
        "  'EP_NB': 'EP',\n",
        "  'FM_UC': 'FM',\n",
        "  'FV_LM': 'FV',\n",
        "  'HY_SH': 'SH',\n",
        "  'LF_OR': 'OR',\n",
        "  'LF_WC': 'LF',\n",
        "  'MA_RR': 'MA',\n",
        "  'MB_SB': 'MB',\n",
        "  'MT_PL': 'PL',\n",
        "  'NC_WP': 'WP',\n",
        "  'OR_RR': 'RR',\n",
        "  'PH_WC': 'WC',\n",
        "  'SB_SO': 'SO',\n",
        "  'SB_SS': 'SB',\n",
        "  'SH_UC': 'UC'},\n",
        " 'CV': {'0': 'CV',\n",
        "  '12_19': '19',\n",
        "  '12_LM': '12',\n",
        "  '16_24': '24',\n",
        "  '16_CC': '16',\n",
        "  '19_MA': 'MA',\n",
        "  '24_GP': 'GP',\n",
        "  'AS_BK': 'BK',\n",
        "  'AS_MA': 'AS',\n",
        "  'BF_CV': 'BF',\n",
        "  'BF_HY': 'HY',\n",
        "  'BF_SL': 'SL',\n",
        "  'BK_NB': 'NB',\n",
        "  'BP_DC': 'DC',\n",
        "  'BP_GP': 'BP',\n",
        "  'CC_PL': 'CC',\n",
        "  'CL_FV': 'FV',\n",
        "  'CL_SL': 'CL',\n",
        "  'CM_DC': 'CM',\n",
        "  'CM_SS': 'SS',\n",
        "  'CN_NC': 'NC',\n",
        "  'CN_PH': 'CN',\n",
        "  'CV_ED': 'ED',\n",
        "  'EM_MT': 'MT',\n",
        "  'EM_OW': 'EM',\n",
        "  'EN_EP': 'EN',\n",
        "  'EN_RM': 'RM',\n",
        "  'EP_NB': 'EP',\n",
        "  'FM_UC': 'FM',\n",
        "  'FV_LM': 'LM',\n",
        "  'HY_SH': 'SH',\n",
        "  'LF_OR': 'LF',\n",
        "  'LF_WC': 'WC',\n",
        "  'LM_OW': 'OW',\n",
        "  'MA_RR': 'RR',\n",
        "  'MB_SB': 'MB',\n",
        "  'MT_PL': 'PL',\n",
        "  'NC_WP': 'WP',\n",
        "  'OR_RR': 'OR',\n",
        "  'PH_WC': 'PH',\n",
        "  'SB_SO': 'SO',\n",
        "  'SB_SS': 'SB',\n",
        "  'SH_UC': 'UC'},\n",
        " 'DC': {'0': 'DC',\n",
        "  '12_19': '19',\n",
        "  '12_OW': '12',\n",
        "  '16_24': '16',\n",
        "  '16_CC': 'CC',\n",
        "  '19_MA': 'MA',\n",
        "  '24_GP': '24',\n",
        "  'AS_BK': 'BK',\n",
        "  'AS_MA': 'AS',\n",
        "  'BF_CV': 'CV',\n",
        "  'BF_HY': 'HY',\n",
        "  'BF_SL': 'BF',\n",
        "  'BK_NB': 'NB',\n",
        "  'BP_DC': 'BP',\n",
        "  'BP_GP': 'GP',\n",
        "  'CC_PL': 'PL',\n",
        "  'CL_FV': 'CL',\n",
        "  'CL_SL': 'SL',\n",
        "  'CM_DC': 'CM',\n",
        "  'CM_SS': 'SS',\n",
        "  'CN_NC': 'NC',\n",
        "  'CN_PH': 'CN',\n",
        "  'CV_ED': 'ED',\n",
        "  'EM_MT': 'EM',\n",
        "  'EM_OW': 'OW',\n",
        "  'EN_EP': 'EN',\n",
        "  'EN_RM': 'RM',\n",
        "  'EP_NB': 'EP',\n",
        "  'FM_UC': 'FM',\n",
        "  'FV_LM': 'FV',\n",
        "  'HY_SH': 'SH',\n",
        "  'LF_OR': 'LF',\n",
        "  'LF_WC': 'WC',\n",
        "  'LM_OW': 'LM',\n",
        "  'MA_RR': 'RR',\n",
        "  'MB_SB': 'MB',\n",
        "  'MT_PL': 'MT',\n",
        "  'NC_WP': 'WP',\n",
        "  'OR_RR': 'OR',\n",
        "  'PH_WC': 'PH',\n",
        "  'SB_SO': 'SO',\n",
        "  'SB_SS': 'SB',\n",
        "  'SH_UC': 'UC'},\n",
        " 'ED': {'0': 'ED',\n",
        "  '12_19': '19',\n",
        "  '12_LM': '12',\n",
        "  '16_24': '24',\n",
        "  '16_CC': '16',\n",
        "  '19_MA': 'MA',\n",
        "  '24_GP': 'GP',\n",
        "  'AS_BK': 'BK',\n",
        "  'AS_MA': 'AS',\n",
        "  'BF_CV': 'BF',\n",
        "  'BF_HY': 'HY',\n",
        "  'BF_SL': 'SL',\n",
        "  'BK_NB': 'NB',\n",
        "  'BP_DC': 'DC',\n",
        "  'BP_GP': 'BP',\n",
        "  'CC_PL': 'CC',\n",
        "  'CL_FV': 'FV',\n",
        "  'CL_SL': 'CL',\n",
        "  'CM_DC': 'CM',\n",
        "  'CM_SS': 'SS',\n",
        "  'CN_NC': 'NC',\n",
        "  'CN_PH': 'CN',\n",
        "  'CV_ED': 'CV',\n",
        "  'EM_MT': 'MT',\n",
        "  'EM_OW': 'EM',\n",
        "  'EN_EP': 'EN',\n",
        "  'EN_RM': 'RM',\n",
        "  'EP_NB': 'EP',\n",
        "  'FM_UC': 'FM',\n",
        "  'FV_LM': 'LM',\n",
        "  'HY_SH': 'SH',\n",
        "  'LF_OR': 'LF',\n",
        "  'LF_WC': 'WC',\n",
        "  'LM_OW': 'OW',\n",
        "  'MA_RR': 'RR',\n",
        "  'MB_SB': 'MB',\n",
        "  'MT_PL': 'PL',\n",
        "  'NC_WP': 'WP',\n",
        "  'OR_RR': 'OR',\n",
        "  'PH_WC': 'PH',\n",
        "  'SB_SO': 'SO',\n",
        "  'SB_SS': 'SB',\n",
        "  'SH_UC': 'UC'},\n",
        " 'EM': {'0': 'EM',\n",
        "  '12_19': '19',\n",
        "  '12_OW': '12',\n",
        "  '16_24': '24',\n",
        "  '16_CC': '16',\n",
        "  '19_MA': 'MA',\n",
        "  '24_GP': 'GP',\n",
        "  'AS_BK': 'BK',\n",
        "  'AS_MA': 'AS',\n",
        "  'BF_CV': 'CV',\n",
        "  'BF_HY': 'HY',\n",
        "  'BF_SL': 'BF',\n",
        "  'BK_NB': 'NB',\n",
        "  'BP_DC': 'DC',\n",
        "  'BP_GP': 'BP',\n",
        "  'CC_PL': 'CC',\n",
        "  'CL_FV': 'CL',\n",
        "  'CL_SL': 'SL',\n",
        "  'CM_DC': 'CM',\n",
        "  'CM_SS': 'SS',\n",
        "  'CN_NC': 'NC',\n",
        "  'CN_PH': 'CN',\n",
        "  'CV_ED': 'ED',\n",
        "  'EM_MT': 'MT',\n",
        "  'EM_OW': 'OW',\n",
        "  'EN_EP': 'EN',\n",
        "  'EN_RM': 'RM',\n",
        "  'EP_NB': 'EP',\n",
        "  'FM_UC': 'FM',\n",
        "  'FV_LM': 'FV',\n",
        "  'HY_SH': 'SH',\n",
        "  'LF_OR': 'LF',\n",
        "  'LF_WC': 'WC',\n",
        "  'LM_OW': 'LM',\n",
        "  'MA_RR': 'RR',\n",
        "  'MB_SB': 'MB',\n",
        "  'MT_PL': 'PL',\n",
        "  'NC_WP': 'WP',\n",
        "  'OR_RR': 'OR',\n",
        "  'PH_WC': 'PH',\n",
        "  'SB_SO': 'SO',\n",
        "  'SB_SS': 'SB',\n",
        "  'SH_UC': 'UC'},\n",
        " 'EN': {'0': 'EN',\n",
        "  '12_19': '12',\n",
        "  '12_LM': 'LM',\n",
        "  '12_OW': 'OW',\n",
        "  '16_24': '24',\n",
        "  '16_CC': '16',\n",
        "  '19_MA': '19',\n",
        "  '24_GP': 'GP',\n",
        "  'AS_BK': 'AS',\n",
        "  'AS_MA': 'MA',\n",
        "  'BF_CV': 'CV',\n",
        "  'BF_HY': 'HY',\n",
        "  'BF_SL': 'BF',\n",
        "  'BK_NB': 'BK',\n",
        "  'BP_DC': 'DC',\n",
        "  'BP_GP': 'BP',\n",
        "  'CC_PL': 'CC',\n",
        "  'CL_FV': 'CL',\n",
        "  'CL_SL': 'SL',\n",
        "  'CM_DC': 'CM',\n",
        "  'CM_SS': 'SS',\n",
        "  'CN_NC': 'NC',\n",
        "  'CN_PH': 'CN',\n",
        "  'CV_ED': 'ED',\n",
        "  'EM_MT': 'MT',\n",
        "  'EM_OW': 'EM',\n",
        "  'EN_EP': 'EP',\n",
        "  'EN_RM': 'RM',\n",
        "  'EP_NB': 'NB',\n",
        "  'FM_UC': 'FM',\n",
        "  'FV_LM': 'FV',\n",
        "  'HY_SH': 'SH',\n",
        "  'LF_OR': 'LF',\n",
        "  'LF_WC': 'WC',\n",
        "  'MA_RR': 'RR',\n",
        "  'MB_SB': 'MB',\n",
        "  'MT_PL': 'PL',\n",
        "  'NC_WP': 'WP',\n",
        "  'OR_RR': 'OR',\n",
        "  'PH_WC': 'PH',\n",
        "  'SB_SO': 'SO',\n",
        "  'SB_SS': 'SB',\n",
        "  'SH_UC': 'UC'},\n",
        " 'EP': {'0': 'EP',\n",
        "  '12_19': '12',\n",
        "  '12_LM': 'LM',\n",
        "  '12_OW': 'OW',\n",
        "  '16_24': '24',\n",
        "  '16_CC': '16',\n",
        "  '19_MA': '19',\n",
        "  '24_GP': 'GP',\n",
        "  'AS_BK': 'AS',\n",
        "  'AS_MA': 'MA',\n",
        "  'BF_CV': 'CV',\n",
        "  'BF_HY': 'HY',\n",
        "  'BF_SL': 'BF',\n",
        "  'BK_NB': 'BK',\n",
        "  'BP_DC': 'DC',\n",
        "  'BP_GP': 'BP',\n",
        "  'CC_PL': 'CC',\n",
        "  'CL_FV': 'CL',\n",
        "  'CL_SL': 'SL',\n",
        "  'CM_DC': 'CM',\n",
        "  'CM_SS': 'SS',\n",
        "  'CN_NC': 'NC',\n",
        "  'CN_PH': 'CN',\n",
        "  'CV_ED': 'ED',\n",
        "  'EM_MT': 'MT',\n",
        "  'EM_OW': 'EM',\n",
        "  'EN_EP': 'EN',\n",
        "  'EN_RM': 'RM',\n",
        "  'EP_NB': 'NB',\n",
        "  'FM_UC': 'FM',\n",
        "  'FV_LM': 'FV',\n",
        "  'HY_SH': 'SH',\n",
        "  'LF_OR': 'LF',\n",
        "  'LF_WC': 'WC',\n",
        "  'MA_RR': 'RR',\n",
        "  'MB_SB': 'MB',\n",
        "  'MT_PL': 'PL',\n",
        "  'NC_WP': 'WP',\n",
        "  'OR_RR': 'OR',\n",
        "  'PH_WC': 'PH',\n",
        "  'SB_SO': 'SO',\n",
        "  'SB_SS': 'SB',\n",
        "  'SH_UC': 'UC'},\n",
        " 'FM': {'0': 'FM',\n",
        "  '12_19': '19',\n",
        "  '12_LM': '12',\n",
        "  '16_24': '24',\n",
        "  '16_CC': '16',\n",
        "  '19_MA': 'MA',\n",
        "  '24_GP': 'GP',\n",
        "  'AS_BK': 'BK',\n",
        "  'AS_MA': 'AS',\n",
        "  'BF_CV': 'CV',\n",
        "  'BF_HY': 'BF',\n",
        "  'BF_SL': 'SL',\n",
        "  'BK_NB': 'NB',\n",
        "  'BP_DC': 'DC',\n",
        "  'BP_GP': 'BP',\n",
        "  'CC_PL': 'CC',\n",
        "  'CL_FV': 'FV',\n",
        "  'CL_SL': 'CL',\n",
        "  'CM_DC': 'CM',\n",
        "  'CM_SS': 'SS',\n",
        "  'CN_NC': 'NC',\n",
        "  'CN_PH': 'CN',\n",
        "  'CV_ED': 'ED',\n",
        "  'EM_MT': 'MT',\n",
        "  'EM_OW': 'EM',\n",
        "  'EN_EP': 'EN',\n",
        "  'EN_RM': 'RM',\n",
        "  'EP_NB': 'EP',\n",
        "  'FM_UC': 'UC',\n",
        "  'FV_LM': 'LM',\n",
        "  'HY_SH': 'HY',\n",
        "  'LF_OR': 'LF',\n",
        "  'LF_WC': 'WC',\n",
        "  'LM_OW': 'OW',\n",
        "  'MA_RR': 'RR',\n",
        "  'MB_SB': 'MB',\n",
        "  'MT_PL': 'PL',\n",
        "  'NC_WP': 'WP',\n",
        "  'OR_RR': 'OR',\n",
        "  'PH_WC': 'PH',\n",
        "  'SB_SO': 'SO',\n",
        "  'SB_SS': 'SB',\n",
        "  'SH_UC': 'SH'},\n",
        " 'FV': {'0': 'FV',\n",
        "  '12_19': '19',\n",
        "  '12_LM': '12',\n",
        "  '16_24': '24',\n",
        "  '16_CC': '16',\n",
        "  '19_MA': 'MA',\n",
        "  '24_GP': 'GP',\n",
        "  'AS_BK': 'BK',\n",
        "  'AS_MA': 'AS',\n",
        "  'BF_CV': 'CV',\n",
        "  'BF_HY': 'HY',\n",
        "  'BF_SL': 'BF',\n",
        "  'BK_NB': 'NB',\n",
        "  'BP_DC': 'DC',\n",
        "  'BP_GP': 'BP',\n",
        "  'CC_PL': 'CC',\n",
        "  'CL_FV': 'CL',\n",
        "  'CL_SL': 'SL',\n",
        "  'CM_DC': 'CM',\n",
        "  'CM_SS': 'SS',\n",
        "  'CN_NC': 'NC',\n",
        "  'CN_PH': 'CN',\n",
        "  'CV_ED': 'ED',\n",
        "  'EM_MT': 'MT',\n",
        "  'EM_OW': 'EM',\n",
        "  'EN_EP': 'EN',\n",
        "  'EN_RM': 'RM',\n",
        "  'EP_NB': 'EP',\n",
        "  'FM_UC': 'FM',\n",
        "  'FV_LM': 'LM',\n",
        "  'HY_SH': 'SH',\n",
        "  'LF_OR': 'LF',\n",
        "  'LF_WC': 'WC',\n",
        "  'LM_OW': 'OW',\n",
        "  'MA_RR': 'RR',\n",
        "  'MB_SB': 'MB',\n",
        "  'MT_PL': 'PL',\n",
        "  'NC_WP': 'WP',\n",
        "  'OR_RR': 'OR',\n",
        "  'PH_WC': 'PH',\n",
        "  'SB_SO': 'SO',\n",
        "  'SB_SS': 'SB',\n",
        "  'SH_UC': 'UC'},\n",
        " 'GP': {'0': 'GP',\n",
        "  '12_19': '19',\n",
        "  '12_OW': '12',\n",
        "  '16_24': '16',\n",
        "  '16_CC': 'CC',\n",
        "  '19_MA': 'MA',\n",
        "  '24_GP': '24',\n",
        "  'AS_BK': 'BK',\n",
        "  'AS_MA': 'AS',\n",
        "  'BF_CV': 'CV',\n",
        "  'BF_HY': 'HY',\n",
        "  'BF_SL': 'BF',\n",
        "  'BK_NB': 'NB',\n",
        "  'BP_DC': 'DC',\n",
        "  'BP_GP': 'BP',\n",
        "  'CC_PL': 'PL',\n",
        "  'CL_FV': 'CL',\n",
        "  'CL_SL': 'SL',\n",
        "  'CM_DC': 'CM',\n",
        "  'CM_SS': 'SS',\n",
        "  'CN_NC': 'NC',\n",
        "  'CN_PH': 'CN',\n",
        "  'CV_ED': 'ED',\n",
        "  'EM_MT': 'EM',\n",
        "  'EM_OW': 'OW',\n",
        "  'EN_EP': 'EN',\n",
        "  'EN_RM': 'RM',\n",
        "  'EP_NB': 'EP',\n",
        "  'FM_UC': 'FM',\n",
        "  'FV_LM': 'FV',\n",
        "  'HY_SH': 'SH',\n",
        "  'LF_OR': 'LF',\n",
        "  'LF_WC': 'WC',\n",
        "  'LM_OW': 'LM',\n",
        "  'MA_RR': 'RR',\n",
        "  'MB_SB': 'MB',\n",
        "  'MT_PL': 'MT',\n",
        "  'NC_WP': 'WP',\n",
        "  'OR_RR': 'OR',\n",
        "  'PH_WC': 'PH',\n",
        "  'SB_SO': 'SO',\n",
        "  'SB_SS': 'SB',\n",
        "  'SH_UC': 'UC'},\n",
        " 'HY': {'0': 'HY',\n",
        "  '12_19': '19',\n",
        "  '12_LM': '12',\n",
        "  '16_24': '24',\n",
        "  '16_CC': '16',\n",
        "  '19_MA': 'MA',\n",
        "  '24_GP': 'GP',\n",
        "  'AS_BK': 'BK',\n",
        "  'AS_MA': 'AS',\n",
        "  'BF_CV': 'CV',\n",
        "  'BF_HY': 'BF',\n",
        "  'BF_SL': 'SL',\n",
        "  'BK_NB': 'NB',\n",
        "  'BP_DC': 'DC',\n",
        "  'BP_GP': 'BP',\n",
        "  'CC_PL': 'CC',\n",
        "  'CL_FV': 'FV',\n",
        "  'CL_SL': 'CL',\n",
        "  'CM_DC': 'CM',\n",
        "  'CM_SS': 'SS',\n",
        "  'CN_NC': 'NC',\n",
        "  'CN_PH': 'CN',\n",
        "  'CV_ED': 'ED',\n",
        "  'EM_MT': 'MT',\n",
        "  'EM_OW': 'EM',\n",
        "  'EN_EP': 'EN',\n",
        "  'EN_RM': 'RM',\n",
        "  'EP_NB': 'EP',\n",
        "  'FM_UC': 'FM',\n",
        "  'FV_LM': 'LM',\n",
        "  'HY_SH': 'SH',\n",
        "  'LF_OR': 'LF',\n",
        "  'LF_WC': 'WC',\n",
        "  'LM_OW': 'OW',\n",
        "  'MA_RR': 'RR',\n",
        "  'MB_SB': 'MB',\n",
        "  'MT_PL': 'PL',\n",
        "  'NC_WP': 'WP',\n",
        "  'OR_RR': 'OR',\n",
        "  'PH_WC': 'PH',\n",
        "  'SB_SO': 'SO',\n",
        "  'SB_SS': 'SB',\n",
        "  'SH_UC': 'UC'},\n",
        " 'LF': {'0': 'LF',\n",
        "  '12_19': '12',\n",
        "  '12_LM': 'LM',\n",
        "  '12_OW': 'OW',\n",
        "  '16_24': '24',\n",
        "  '16_CC': '16',\n",
        "  '19_MA': '19',\n",
        "  '24_GP': 'GP',\n",
        "  'AS_BK': 'BK',\n",
        "  'AS_MA': 'AS',\n",
        "  'BF_CV': 'CV',\n",
        "  'BF_HY': 'HY',\n",
        "  'BF_SL': 'BF',\n",
        "  'BK_NB': 'NB',\n",
        "  'BP_DC': 'DC',\n",
        "  'BP_GP': 'BP',\n",
        "  'CC_PL': 'CC',\n",
        "  'CL_FV': 'CL',\n",
        "  'CL_SL': 'SL',\n",
        "  'CM_DC': 'CM',\n",
        "  'CM_SS': 'SS',\n",
        "  'CN_NC': 'NC',\n",
        "  'CN_PH': 'CN',\n",
        "  'CV_ED': 'ED',\n",
        "  'EM_MT': 'MT',\n",
        "  'EM_OW': 'EM',\n",
        "  'EN_EP': 'EN',\n",
        "  'EN_RM': 'RM',\n",
        "  'EP_NB': 'EP',\n",
        "  'FM_UC': 'FM',\n",
        "  'FV_LM': 'FV',\n",
        "  'HY_SH': 'SH',\n",
        "  'LF_OR': 'OR',\n",
        "  'LF_WC': 'WC',\n",
        "  'MA_RR': 'MA',\n",
        "  'MB_SB': 'MB',\n",
        "  'MT_PL': 'PL',\n",
        "  'NC_WP': 'WP',\n",
        "  'OR_RR': 'RR',\n",
        "  'PH_WC': 'PH',\n",
        "  'SB_SO': 'SO',\n",
        "  'SB_SS': 'SB',\n",
        "  'SH_UC': 'UC'},\n",
        " 'LM': {'0': 'LM',\n",
        "  '12_19': '19',\n",
        "  '12_LM': '12',\n",
        "  '16_24': '24',\n",
        "  '16_CC': '16',\n",
        "  '19_MA': 'MA',\n",
        "  '24_GP': 'GP',\n",
        "  'AS_BK': 'BK',\n",
        "  'AS_MA': 'AS',\n",
        "  'BF_CV': 'CV',\n",
        "  'BF_HY': 'HY',\n",
        "  'BF_SL': 'BF',\n",
        "  'BK_NB': 'NB',\n",
        "  'BP_DC': 'DC',\n",
        "  'BP_GP': 'BP',\n",
        "  'CC_PL': 'CC',\n",
        "  'CL_FV': 'CL',\n",
        "  'CL_SL': 'SL',\n",
        "  'CM_DC': 'CM',\n",
        "  'CM_SS': 'SS',\n",
        "  'CN_NC': 'NC',\n",
        "  'CN_PH': 'CN',\n",
        "  'CV_ED': 'ED',\n",
        "  'EM_MT': 'MT',\n",
        "  'EM_OW': 'EM',\n",
        "  'EN_EP': 'EN',\n",
        "  'EN_RM': 'RM',\n",
        "  'EP_NB': 'EP',\n",
        "  'FM_UC': 'FM',\n",
        "  'FV_LM': 'FV',\n",
        "  'HY_SH': 'SH',\n",
        "  'LF_OR': 'LF',\n",
        "  'LF_WC': 'WC',\n",
        "  'LM_OW': 'OW',\n",
        "  'MA_RR': 'RR',\n",
        "  'MB_SB': 'MB',\n",
        "  'MT_PL': 'PL',\n",
        "  'NC_WP': 'WP',\n",
        "  'OR_RR': 'OR',\n",
        "  'PH_WC': 'PH',\n",
        "  'SB_SO': 'SO',\n",
        "  'SB_SS': 'SB',\n",
        "  'SH_UC': 'UC'},\n",
        " 'MA': {'0': 'MA',\n",
        "  '12_19': '12',\n",
        "  '12_LM': 'LM',\n",
        "  '12_OW': 'OW',\n",
        "  '16_24': '24',\n",
        "  '16_CC': '16',\n",
        "  '19_MA': '19',\n",
        "  '24_GP': 'GP',\n",
        "  'AS_BK': 'BK',\n",
        "  'AS_MA': 'AS',\n",
        "  'BF_CV': 'CV',\n",
        "  'BF_HY': 'HY',\n",
        "  'BF_SL': 'BF',\n",
        "  'BK_NB': 'NB',\n",
        "  'BP_DC': 'DC',\n",
        "  'BP_GP': 'BP',\n",
        "  'CC_PL': 'CC',\n",
        "  'CL_FV': 'CL',\n",
        "  'CL_SL': 'SL',\n",
        "  'CM_DC': 'CM',\n",
        "  'CM_SS': 'SS',\n",
        "  'CN_NC': 'NC',\n",
        "  'CN_PH': 'CN',\n",
        "  'CV_ED': 'ED',\n",
        "  'EM_MT': 'MT',\n",
        "  'EM_OW': 'EM',\n",
        "  'EN_EP': 'EN',\n",
        "  'EN_RM': 'RM',\n",
        "  'EP_NB': 'EP',\n",
        "  'FM_UC': 'FM',\n",
        "  'FV_LM': 'FV',\n",
        "  'HY_SH': 'SH',\n",
        "  'LF_OR': 'LF',\n",
        "  'LF_WC': 'WC',\n",
        "  'MA_RR': 'RR',\n",
        "  'MB_SB': 'MB',\n",
        "  'MT_PL': 'PL',\n",
        "  'NC_WP': 'WP',\n",
        "  'OR_RR': 'OR',\n",
        "  'PH_WC': 'PH',\n",
        "  'SB_SO': 'SO',\n",
        "  'SB_SS': 'SB',\n",
        "  'SH_UC': 'UC'},\n",
        " 'MB': {'0': 'MB',\n",
        "  '12_19': '19',\n",
        "  '12_OW': '12',\n",
        "  '16_24': '16',\n",
        "  '16_CC': 'CC',\n",
        "  '19_MA': 'MA',\n",
        "  '24_GP': '24',\n",
        "  'AS_BK': 'BK',\n",
        "  'AS_MA': 'AS',\n",
        "  'BF_CV': 'CV',\n",
        "  'BF_HY': 'HY',\n",
        "  'BF_SL': 'BF',\n",
        "  'BK_NB': 'NB',\n",
        "  'BP_DC': 'BP',\n",
        "  'BP_GP': 'GP',\n",
        "  'CC_PL': 'PL',\n",
        "  'CL_FV': 'CL',\n",
        "  'CL_SL': 'SL',\n",
        "  'CM_DC': 'DC',\n",
        "  'CM_SS': 'CM',\n",
        "  'CN_NC': 'NC',\n",
        "  'CN_PH': 'CN',\n",
        "  'CV_ED': 'ED',\n",
        "  'EM_MT': 'EM',\n",
        "  'EM_OW': 'OW',\n",
        "  'EN_EP': 'EN',\n",
        "  'EN_RM': 'RM',\n",
        "  'EP_NB': 'EP',\n",
        "  'FM_UC': 'FM',\n",
        "  'FV_LM': 'FV',\n",
        "  'HY_SH': 'SH',\n",
        "  'LF_OR': 'LF',\n",
        "  'LF_WC': 'WC',\n",
        "  'LM_OW': 'LM',\n",
        "  'MA_RR': 'RR',\n",
        "  'MB_SB': 'SB',\n",
        "  'MB_SO': 'SO',\n",
        "  'MT_PL': 'MT',\n",
        "  'NC_WP': 'WP',\n",
        "  'OR_RR': 'OR',\n",
        "  'PH_WC': 'PH',\n",
        "  'SB_SS': 'SS',\n",
        "  'SH_UC': 'UC'},\n",
        " 'MT': {'0': 'MT',\n",
        "  '12_19': '19',\n",
        "  '12_OW': '12',\n",
        "  '16_24': '24',\n",
        "  '16_CC': '16',\n",
        "  '19_MA': 'MA',\n",
        "  '24_GP': 'GP',\n",
        "  'AS_BK': 'BK',\n",
        "  'AS_MA': 'AS',\n",
        "  'BF_CV': 'CV',\n",
        "  'BF_HY': 'HY',\n",
        "  'BF_SL': 'BF',\n",
        "  'BK_NB': 'NB',\n",
        "  'BP_DC': 'DC',\n",
        "  'BP_GP': 'BP',\n",
        "  'CC_PL': 'CC',\n",
        "  'CL_FV': 'CL',\n",
        "  'CL_SL': 'SL',\n",
        "  'CM_DC': 'CM',\n",
        "  'CM_SS': 'SS',\n",
        "  'CN_NC': 'NC',\n",
        "  'CN_PH': 'CN',\n",
        "  'CV_ED': 'ED',\n",
        "  'EM_MT': 'EM',\n",
        "  'EM_OW': 'OW',\n",
        "  'EN_EP': 'EN',\n",
        "  'EN_RM': 'RM',\n",
        "  'EP_NB': 'EP',\n",
        "  'FM_UC': 'FM',\n",
        "  'FV_LM': 'FV',\n",
        "  'HY_SH': 'SH',\n",
        "  'LF_OR': 'LF',\n",
        "  'LF_WC': 'WC',\n",
        "  'LM_OW': 'LM',\n",
        "  'MA_RR': 'RR',\n",
        "  'MB_SB': 'MB',\n",
        "  'MT_PL': 'PL',\n",
        "  'NC_WP': 'WP',\n",
        "  'OR_RR': 'OR',\n",
        "  'PH_WC': 'PH',\n",
        "  'SB_SO': 'SO',\n",
        "  'SB_SS': 'SB',\n",
        "  'SH_UC': 'UC'},\n",
        " 'NB': {'0': 'NB',\n",
        "  '12_19': '12',\n",
        "  '12_LM': 'LM',\n",
        "  '12_OW': 'OW',\n",
        "  '16_24': '24',\n",
        "  '16_CC': '16',\n",
        "  '19_MA': '19',\n",
        "  '24_GP': 'GP',\n",
        "  'AS_BK': 'AS',\n",
        "  'AS_MA': 'MA',\n",
        "  'BF_CV': 'CV',\n",
        "  'BF_HY': 'HY',\n",
        "  'BF_SL': 'BF',\n",
        "  'BK_NB': 'BK',\n",
        "  'BP_DC': 'DC',\n",
        "  'BP_GP': 'BP',\n",
        "  'CC_PL': 'CC',\n",
        "  'CL_FV': 'CL',\n",
        "  'CL_SL': 'SL',\n",
        "  'CM_DC': 'CM',\n",
        "  'CM_SS': 'SS',\n",
        "  'CN_NC': 'NC',\n",
        "  'CN_PH': 'CN',\n",
        "  'CV_ED': 'ED',\n",
        "  'EM_MT': 'MT',\n",
        "  'EM_OW': 'EM',\n",
        "  'EN_EP': 'EN',\n",
        "  'EN_RM': 'RM',\n",
        "  'EP_NB': 'EP',\n",
        "  'FM_UC': 'FM',\n",
        "  'FV_LM': 'FV',\n",
        "  'HY_SH': 'SH',\n",
        "  'LF_OR': 'LF',\n",
        "  'LF_WC': 'WC',\n",
        "  'MA_RR': 'RR',\n",
        "  'MB_SB': 'MB',\n",
        "  'MT_PL': 'PL',\n",
        "  'NC_WP': 'WP',\n",
        "  'OR_RR': 'OR',\n",
        "  'PH_WC': 'PH',\n",
        "  'SB_SO': 'SO',\n",
        "  'SB_SS': 'SB',\n",
        "  'SH_UC': 'UC'},\n",
        " 'NC': {'0': 'NC',\n",
        "  '12_19': '12',\n",
        "  '12_LM': 'LM',\n",
        "  '12_OW': 'OW',\n",
        "  '16_24': '24',\n",
        "  '16_CC': '16',\n",
        "  '19_MA': '19',\n",
        "  '24_GP': 'GP',\n",
        "  'AS_BK': 'BK',\n",
        "  'AS_MA': 'AS',\n",
        "  'BF_CV': 'CV',\n",
        "  'BF_HY': 'HY',\n",
        "  'BF_SL': 'BF',\n",
        "  'BK_NB': 'NB',\n",
        "  'BP_DC': 'DC',\n",
        "  'BP_GP': 'BP',\n",
        "  'CC_PL': 'CC',\n",
        "  'CL_FV': 'CL',\n",
        "  'CL_SL': 'SL',\n",
        "  'CM_DC': 'CM',\n",
        "  'CM_SS': 'SS',\n",
        "  'CN_NC': 'CN',\n",
        "  'CN_PH': 'PH',\n",
        "  'CV_ED': 'ED',\n",
        "  'EM_MT': 'MT',\n",
        "  'EM_OW': 'EM',\n",
        "  'EN_EP': 'EN',\n",
        "  'EN_RM': 'RM',\n",
        "  'EP_NB': 'EP',\n",
        "  'FM_UC': 'FM',\n",
        "  'FV_LM': 'FV',\n",
        "  'HY_SH': 'SH',\n",
        "  'LF_OR': 'OR',\n",
        "  'LF_WC': 'LF',\n",
        "  'MA_RR': 'MA',\n",
        "  'MB_SB': 'MB',\n",
        "  'MT_PL': 'PL',\n",
        "  'NC_WP': 'WP',\n",
        "  'OR_RR': 'RR',\n",
        "  'PH_WC': 'WC',\n",
        "  'SB_SO': 'SO',\n",
        "  'SB_SS': 'SB',\n",
        "  'SH_UC': 'UC'},\n",
        " 'OR': {'0': 'OR',\n",
        "  '12_19': '12',\n",
        "  '12_LM': 'LM',\n",
        "  '12_OW': 'OW',\n",
        "  '16_24': '24',\n",
        "  '16_CC': '16',\n",
        "  '19_MA': '19',\n",
        "  '24_GP': 'GP',\n",
        "  'AS_BK': 'BK',\n",
        "  'AS_MA': 'AS',\n",
        "  'BF_CV': 'CV',\n",
        "  'BF_HY': 'HY',\n",
        "  'BF_SL': 'BF',\n",
        "  'BK_NB': 'NB',\n",
        "  'BP_DC': 'DC',\n",
        "  'BP_GP': 'BP',\n",
        "  'CC_PL': 'CC',\n",
        "  'CL_FV': 'CL',\n",
        "  'CL_SL': 'SL',\n",
        "  'CM_DC': 'CM',\n",
        "  'CM_SS': 'SS',\n",
        "  'CN_NC': 'NC',\n",
        "  'CN_PH': 'CN',\n",
        "  'CV_ED': 'ED',\n",
        "  'EM_MT': 'MT',\n",
        "  'EM_OW': 'EM',\n",
        "  'EN_EP': 'EN',\n",
        "  'EN_RM': 'RM',\n",
        "  'EP_NB': 'EP',\n",
        "  'FM_UC': 'FM',\n",
        "  'FV_LM': 'FV',\n",
        "  'HY_SH': 'SH',\n",
        "  'LF_OR': 'LF',\n",
        "  'LF_WC': 'WC',\n",
        "  'MA_RR': 'MA',\n",
        "  'MB_SB': 'MB',\n",
        "  'MT_PL': 'PL',\n",
        "  'NC_WP': 'WP',\n",
        "  'OR_RR': 'RR',\n",
        "  'PH_WC': 'PH',\n",
        "  'SB_SO': 'SO',\n",
        "  'SB_SS': 'SB',\n",
        "  'SH_UC': 'UC'},\n",
        " 'OW': {'0': 'OW',\n",
        "  '12_19': '19',\n",
        "  '12_OW': '12',\n",
        "  '16_24': '24',\n",
        "  '16_CC': '16',\n",
        "  '19_MA': 'MA',\n",
        "  '24_GP': 'GP',\n",
        "  'AS_BK': 'BK',\n",
        "  'AS_MA': 'AS',\n",
        "  'BF_CV': 'CV',\n",
        "  'BF_HY': 'HY',\n",
        "  'BF_SL': 'BF',\n",
        "  'BK_NB': 'NB',\n",
        "  'BP_DC': 'DC',\n",
        "  'BP_GP': 'BP',\n",
        "  'CC_PL': 'CC',\n",
        "  'CL_FV': 'CL',\n",
        "  'CL_SL': 'SL',\n",
        "  'CM_DC': 'CM',\n",
        "  'CM_SS': 'SS',\n",
        "  'CN_NC': 'NC',\n",
        "  'CN_PH': 'CN',\n",
        "  'CV_ED': 'ED',\n",
        "  'EM_MT': 'MT',\n",
        "  'EM_OW': 'EM',\n",
        "  'EN_EP': 'EN',\n",
        "  'EN_RM': 'RM',\n",
        "  'EP_NB': 'EP',\n",
        "  'FM_UC': 'FM',\n",
        "  'FV_LM': 'FV',\n",
        "  'HY_SH': 'SH',\n",
        "  'LF_OR': 'LF',\n",
        "  'LF_WC': 'WC',\n",
        "  'LM_OW': 'LM',\n",
        "  'MA_RR': 'RR',\n",
        "  'MB_SB': 'MB',\n",
        "  'MT_PL': 'PL',\n",
        "  'NC_WP': 'WP',\n",
        "  'OR_RR': 'OR',\n",
        "  'PH_WC': 'PH',\n",
        "  'SB_SO': 'SO',\n",
        "  'SB_SS': 'SB',\n",
        "  'SH_UC': 'UC'},\n",
        " 'PH': {'0': 'PH',\n",
        "  '12_19': '12',\n",
        "  '12_LM': 'LM',\n",
        "  '12_OW': 'OW',\n",
        "  '16_24': '24',\n",
        "  '16_CC': '16',\n",
        "  '19_MA': '19',\n",
        "  '24_GP': 'GP',\n",
        "  'AS_BK': 'BK',\n",
        "  'AS_MA': 'AS',\n",
        "  'BF_CV': 'CV',\n",
        "  'BF_HY': 'HY',\n",
        "  'BF_SL': 'BF',\n",
        "  'BK_NB': 'NB',\n",
        "  'BP_DC': 'DC',\n",
        "  'BP_GP': 'BP',\n",
        "  'CC_PL': 'CC',\n",
        "  'CL_FV': 'CL',\n",
        "  'CL_SL': 'SL',\n",
        "  'CM_DC': 'CM',\n",
        "  'CM_SS': 'SS',\n",
        "  'CN_NC': 'NC',\n",
        "  'CN_PH': 'CN',\n",
        "  'CV_ED': 'ED',\n",
        "  'EM_MT': 'MT',\n",
        "  'EM_OW': 'EM',\n",
        "  'EN_EP': 'EN',\n",
        "  'EN_RM': 'RM',\n",
        "  'EP_NB': 'EP',\n",
        "  'FM_UC': 'FM',\n",
        "  'FV_LM': 'FV',\n",
        "  'HY_SH': 'SH',\n",
        "  'LF_OR': 'OR',\n",
        "  'LF_WC': 'LF',\n",
        "  'MA_RR': 'MA',\n",
        "  'MB_SB': 'MB',\n",
        "  'MT_PL': 'PL',\n",
        "  'NC_WP': 'WP',\n",
        "  'OR_RR': 'RR',\n",
        "  'PH_WC': 'WC',\n",
        "  'SB_SO': 'SO',\n",
        "  'SB_SS': 'SB',\n",
        "  'SH_UC': 'UC'},\n",
        " 'PL': {'0': 'PL',\n",
        "  '12_19': '19',\n",
        "  '12_OW': '12',\n",
        "  '16_24': '24',\n",
        "  '16_CC': '16',\n",
        "  '19_MA': 'MA',\n",
        "  '24_GP': 'GP',\n",
        "  'AS_BK': 'BK',\n",
        "  'AS_MA': 'AS',\n",
        "  'BF_CV': 'CV',\n",
        "  'BF_HY': 'HY',\n",
        "  'BF_SL': 'BF',\n",
        "  'BK_NB': 'NB',\n",
        "  'BP_DC': 'DC',\n",
        "  'BP_GP': 'BP',\n",
        "  'CC_PL': 'CC',\n",
        "  'CL_FV': 'CL',\n",
        "  'CL_SL': 'SL',\n",
        "  'CM_DC': 'CM',\n",
        "  'CM_SS': 'SS',\n",
        "  'CN_NC': 'NC',\n",
        "  'CN_PH': 'CN',\n",
        "  'CV_ED': 'ED',\n",
        "  'EM_MT': 'EM',\n",
        "  'EM_OW': 'OW',\n",
        "  'EN_EP': 'EN',\n",
        "  'EN_RM': 'RM',\n",
        "  'EP_NB': 'EP',\n",
        "  'FM_UC': 'FM',\n",
        "  'FV_LM': 'FV',\n",
        "  'HY_SH': 'SH',\n",
        "  'LF_OR': 'LF',\n",
        "  'LF_WC': 'WC',\n",
        "  'LM_OW': 'LM',\n",
        "  'MA_RR': 'RR',\n",
        "  'MB_SB': 'MB',\n",
        "  'MT_PL': 'MT',\n",
        "  'NC_WP': 'WP',\n",
        "  'OR_RR': 'OR',\n",
        "  'PH_WC': 'PH',\n",
        "  'SB_SO': 'SO',\n",
        "  'SB_SS': 'SB',\n",
        "  'SH_UC': 'UC'},\n",
        " 'RM': {'0': 'RM',\n",
        "  '12_19': '12',\n",
        "  '12_LM': 'LM',\n",
        "  '12_OW': 'OW',\n",
        "  '16_24': '24',\n",
        "  '16_CC': '16',\n",
        "  '19_MA': '19',\n",
        "  '24_GP': 'GP',\n",
        "  'AS_BK': 'AS',\n",
        "  'AS_MA': 'MA',\n",
        "  'BF_CV': 'CV',\n",
        "  'BF_HY': 'HY',\n",
        "  'BF_SL': 'BF',\n",
        "  'BK_NB': 'BK',\n",
        "  'BP_DC': 'DC',\n",
        "  'BP_GP': 'BP',\n",
        "  'CC_PL': 'CC',\n",
        "  'CL_FV': 'CL',\n",
        "  'CL_SL': 'SL',\n",
        "  'CM_DC': 'CM',\n",
        "  'CM_SS': 'SS',\n",
        "  'CN_NC': 'NC',\n",
        "  'CN_PH': 'CN',\n",
        "  'CV_ED': 'ED',\n",
        "  'EM_MT': 'MT',\n",
        "  'EM_OW': 'EM',\n",
        "  'EN_EP': 'EP',\n",
        "  'EN_RM': 'EN',\n",
        "  'EP_NB': 'NB',\n",
        "  'FM_UC': 'FM',\n",
        "  'FV_LM': 'FV',\n",
        "  'HY_SH': 'SH',\n",
        "  'LF_OR': 'LF',\n",
        "  'LF_WC': 'WC',\n",
        "  'MA_RR': 'RR',\n",
        "  'MB_SB': 'MB',\n",
        "  'MT_PL': 'PL',\n",
        "  'NC_WP': 'WP',\n",
        "  'OR_RR': 'OR',\n",
        "  'PH_WC': 'PH',\n",
        "  'SB_SO': 'SO',\n",
        "  'SB_SS': 'SB',\n",
        "  'SH_UC': 'UC'},\n",
        " 'RR': {'0': 'RR',\n",
        "  '12_19': '12',\n",
        "  '12_LM': 'LM',\n",
        "  '12_OW': 'OW',\n",
        "  '16_24': '24',\n",
        "  '16_CC': '16',\n",
        "  '19_MA': '19',\n",
        "  '24_GP': 'GP',\n",
        "  'AS_BK': 'BK',\n",
        "  'AS_MA': 'AS',\n",
        "  'BF_CV': 'CV',\n",
        "  'BF_HY': 'HY',\n",
        "  'BF_SL': 'BF',\n",
        "  'BK_NB': 'NB',\n",
        "  'BP_DC': 'DC',\n",
        "  'BP_GP': 'BP',\n",
        "  'CC_PL': 'CC',\n",
        "  'CL_FV': 'CL',\n",
        "  'CL_SL': 'SL',\n",
        "  'CM_DC': 'CM',\n",
        "  'CM_SS': 'SS',\n",
        "  'CN_NC': 'NC',\n",
        "  'CN_PH': 'CN',\n",
        "  'CV_ED': 'ED',\n",
        "  'EM_MT': 'MT',\n",
        "  'EM_OW': 'EM',\n",
        "  'EN_EP': 'EN',\n",
        "  'EN_RM': 'RM',\n",
        "  'EP_NB': 'EP',\n",
        "  'FM_UC': 'FM',\n",
        "  'FV_LM': 'FV',\n",
        "  'HY_SH': 'SH',\n",
        "  'LF_OR': 'LF',\n",
        "  'LF_WC': 'WC',\n",
        "  'MA_RR': 'MA',\n",
        "  'MB_SB': 'MB',\n",
        "  'MT_PL': 'PL',\n",
        "  'NC_WP': 'WP',\n",
        "  'OR_RR': 'OR',\n",
        "  'PH_WC': 'PH',\n",
        "  'SB_SO': 'SO',\n",
        "  'SB_SS': 'SB',\n",
        "  'SH_UC': 'UC'},\n",
        " 'SB': {'0': 'SB',\n",
        "  '12_19': '19',\n",
        "  '12_OW': '12',\n",
        "  '16_24': '16',\n",
        "  '16_CC': 'CC',\n",
        "  '19_MA': 'MA',\n",
        "  '24_GP': '24',\n",
        "  'AS_BK': 'BK',\n",
        "  'AS_MA': 'AS',\n",
        "  'BF_CV': 'CV',\n",
        "  'BF_HY': 'HY',\n",
        "  'BF_SL': 'BF',\n",
        "  'BK_NB': 'NB',\n",
        "  'BP_DC': 'BP',\n",
        "  'BP_GP': 'GP',\n",
        "  'CC_PL': 'PL',\n",
        "  'CL_FV': 'CL',\n",
        "  'CL_SL': 'SL',\n",
        "  'CM_DC': 'DC',\n",
        "  'CM_SS': 'CM',\n",
        "  'CN_NC': 'NC',\n",
        "  'CN_PH': 'CN',\n",
        "  'CV_ED': 'ED',\n",
        "  'EM_MT': 'EM',\n",
        "  'EM_OW': 'OW',\n",
        "  'EN_EP': 'EN',\n",
        "  'EN_RM': 'RM',\n",
        "  'EP_NB': 'EP',\n",
        "  'FM_UC': 'FM',\n",
        "  'FV_LM': 'FV',\n",
        "  'HY_SH': 'SH',\n",
        "  'LF_OR': 'LF',\n",
        "  'LF_WC': 'WC',\n",
        "  'LM_OW': 'LM',\n",
        "  'MA_RR': 'RR',\n",
        "  'MB_SB': 'MB',\n",
        "  'MT_PL': 'MT',\n",
        "  'NC_WP': 'WP',\n",
        "  'OR_RR': 'OR',\n",
        "  'PH_WC': 'PH',\n",
        "  'SB_SO': 'SO',\n",
        "  'SB_SS': 'SS',\n",
        "  'SH_UC': 'UC'},\n",
        " 'SH': {'0': 'SH',\n",
        "  '12_19': '19',\n",
        "  '12_LM': '12',\n",
        "  '16_24': '24',\n",
        "  '16_CC': '16',\n",
        "  '19_MA': 'MA',\n",
        "  '24_GP': 'GP',\n",
        "  'AS_BK': 'BK',\n",
        "  'AS_MA': 'AS',\n",
        "  'BF_CV': 'CV',\n",
        "  'BF_HY': 'BF',\n",
        "  'BF_SL': 'SL',\n",
        "  'BK_NB': 'NB',\n",
        "  'BP_DC': 'DC',\n",
        "  'BP_GP': 'BP',\n",
        "  'CC_PL': 'CC',\n",
        "  'CL_FV': 'FV',\n",
        "  'CL_SL': 'CL',\n",
        "  'CM_DC': 'CM',\n",
        "  'CM_SS': 'SS',\n",
        "  'CN_NC': 'NC',\n",
        "  'CN_PH': 'CN',\n",
        "  'CV_ED': 'ED',\n",
        "  'EM_MT': 'MT',\n",
        "  'EM_OW': 'EM',\n",
        "  'EN_EP': 'EN',\n",
        "  'EN_RM': 'RM',\n",
        "  'EP_NB': 'EP',\n",
        "  'FM_UC': 'FM',\n",
        "  'FV_LM': 'LM',\n",
        "  'HY_SH': 'HY',\n",
        "  'LF_OR': 'LF',\n",
        "  'LF_WC': 'WC',\n",
        "  'LM_OW': 'OW',\n",
        "  'MA_RR': 'RR',\n",
        "  'MB_SB': 'MB',\n",
        "  'MT_PL': 'PL',\n",
        "  'NC_WP': 'WP',\n",
        "  'OR_RR': 'OR',\n",
        "  'PH_WC': 'PH',\n",
        "  'SB_SO': 'SO',\n",
        "  'SB_SS': 'SB',\n",
        "  'SH_UC': 'UC'},\n",
        " 'SL': {'0': 'SL',\n",
        "  '12_19': '19',\n",
        "  '12_LM': '12',\n",
        "  '16_24': '24',\n",
        "  '16_CC': '16',\n",
        "  '19_MA': 'MA',\n",
        "  '24_GP': 'GP',\n",
        "  'AS_BK': 'BK',\n",
        "  'AS_MA': 'AS',\n",
        "  'BF_CV': 'CV',\n",
        "  'BF_HY': 'HY',\n",
        "  'BF_SL': 'BF',\n",
        "  'BK_NB': 'NB',\n",
        "  'BP_DC': 'DC',\n",
        "  'BP_GP': 'BP',\n",
        "  'CC_PL': 'CC',\n",
        "  'CL_FV': 'FV',\n",
        "  'CL_SL': 'CL',\n",
        "  'CM_DC': 'CM',\n",
        "  'CM_SS': 'SS',\n",
        "  'CN_NC': 'NC',\n",
        "  'CN_PH': 'CN',\n",
        "  'CV_ED': 'ED',\n",
        "  'EM_MT': 'MT',\n",
        "  'EM_OW': 'EM',\n",
        "  'EN_EP': 'EN',\n",
        "  'EN_RM': 'RM',\n",
        "  'EP_NB': 'EP',\n",
        "  'FM_UC': 'FM',\n",
        "  'FV_LM': 'LM',\n",
        "  'HY_SH': 'SH',\n",
        "  'LF_OR': 'LF',\n",
        "  'LF_WC': 'WC',\n",
        "  'LM_OW': 'OW',\n",
        "  'MA_RR': 'RR',\n",
        "  'MB_SB': 'MB',\n",
        "  'MT_PL': 'PL',\n",
        "  'NC_WP': 'WP',\n",
        "  'OR_RR': 'OR',\n",
        "  'PH_WC': 'PH',\n",
        "  'SB_SO': 'SO',\n",
        "  'SB_SS': 'SB',\n",
        "  'SH_UC': 'UC'},\n",
        " 'SO': {'0': 'SO',\n",
        "  '12_19': '19',\n",
        "  '12_OW': '12',\n",
        "  '16_24': '16',\n",
        "  '16_CC': 'CC',\n",
        "  '19_MA': 'MA',\n",
        "  '24_GP': '24',\n",
        "  'AS_BK': 'BK',\n",
        "  'AS_MA': 'AS',\n",
        "  'BF_CV': 'CV',\n",
        "  'BF_HY': 'HY',\n",
        "  'BF_SL': 'BF',\n",
        "  'BK_NB': 'NB',\n",
        "  'BP_DC': 'BP',\n",
        "  'BP_GP': 'GP',\n",
        "  'CC_PL': 'PL',\n",
        "  'CL_FV': 'CL',\n",
        "  'CL_SL': 'SL',\n",
        "  'CM_DC': 'DC',\n",
        "  'CM_SS': 'CM',\n",
        "  'CN_NC': 'NC',\n",
        "  'CN_PH': 'CN',\n",
        "  'CV_ED': 'ED',\n",
        "  'EM_MT': 'EM',\n",
        "  'EM_OW': 'OW',\n",
        "  'EN_EP': 'EN',\n",
        "  'EN_RM': 'RM',\n",
        "  'EP_NB': 'EP',\n",
        "  'FM_UC': 'FM',\n",
        "  'FV_LM': 'FV',\n",
        "  'HY_SH': 'SH',\n",
        "  'LF_OR': 'LF',\n",
        "  'LF_WC': 'WC',\n",
        "  'LM_OW': 'LM',\n",
        "  'MA_RR': 'RR',\n",
        "  'MB_SB': 'MB',\n",
        "  'MT_PL': 'MT',\n",
        "  'NC_WP': 'WP',\n",
        "  'OR_RR': 'OR',\n",
        "  'PH_WC': 'PH',\n",
        "  'SB_SO': 'SB',\n",
        "  'SB_SS': 'SS',\n",
        "  'SH_UC': 'UC'},\n",
        " 'SS': {'0': 'SS',\n",
        "  '12_19': '19',\n",
        "  '12_OW': '12',\n",
        "  '16_24': '16',\n",
        "  '16_CC': 'CC',\n",
        "  '19_MA': 'MA',\n",
        "  '24_GP': '24',\n",
        "  'AS_BK': 'BK',\n",
        "  'AS_MA': 'AS',\n",
        "  'BF_CV': 'CV',\n",
        "  'BF_HY': 'HY',\n",
        "  'BF_SL': 'BF',\n",
        "  'BK_NB': 'NB',\n",
        "  'BP_DC': 'BP',\n",
        "  'BP_GP': 'GP',\n",
        "  'CC_PL': 'PL',\n",
        "  'CL_FV': 'CL',\n",
        "  'CL_SL': 'SL',\n",
        "  'CM_DC': 'DC',\n",
        "  'CM_SS': 'CM',\n",
        "  'CN_NC': 'NC',\n",
        "  'CN_PH': 'CN',\n",
        "  'CV_ED': 'ED',\n",
        "  'EM_MT': 'EM',\n",
        "  'EM_OW': 'OW',\n",
        "  'EN_EP': 'EN',\n",
        "  'EN_RM': 'RM',\n",
        "  'EP_NB': 'EP',\n",
        "  'FM_UC': 'FM',\n",
        "  'FV_LM': 'FV',\n",
        "  'HY_SH': 'SH',\n",
        "  'LF_OR': 'LF',\n",
        "  'LF_WC': 'WC',\n",
        "  'LM_OW': 'LM',\n",
        "  'MA_RR': 'RR',\n",
        "  'MB_SB': 'MB',\n",
        "  'MT_PL': 'MT',\n",
        "  'NC_WP': 'WP',\n",
        "  'OR_RR': 'OR',\n",
        "  'PH_WC': 'PH',\n",
        "  'SB_SO': 'SO',\n",
        "  'SB_SS': 'SB',\n",
        "  'SH_UC': 'UC'},\n",
        " 'UC': {'0': 'UC',\n",
        "  '12_19': '19',\n",
        "  '12_LM': '12',\n",
        "  '16_24': '24',\n",
        "  '16_CC': '16',\n",
        "  '19_MA': 'MA',\n",
        "  '24_GP': 'GP',\n",
        "  'AS_BK': 'BK',\n",
        "  'AS_MA': 'AS',\n",
        "  'BF_CV': 'CV',\n",
        "  'BF_HY': 'BF',\n",
        "  'BF_SL': 'SL',\n",
        "  'BK_NB': 'NB',\n",
        "  'BP_DC': 'DC',\n",
        "  'BP_GP': 'BP',\n",
        "  'CC_PL': 'CC',\n",
        "  'CL_FV': 'FV',\n",
        "  'CL_SL': 'CL',\n",
        "  'CM_DC': 'CM',\n",
        "  'CM_SS': 'SS',\n",
        "  'CN_NC': 'NC',\n",
        "  'CN_PH': 'CN',\n",
        "  'CV_ED': 'ED',\n",
        "  'EM_MT': 'MT',\n",
        "  'EM_OW': 'EM',\n",
        "  'EN_EP': 'EN',\n",
        "  'EN_RM': 'RM',\n",
        "  'EP_NB': 'EP',\n",
        "  'FM_UC': 'FM',\n",
        "  'FV_LM': 'LM',\n",
        "  'HY_SH': 'HY',\n",
        "  'LF_OR': 'LF',\n",
        "  'LF_WC': 'WC',\n",
        "  'LM_OW': 'OW',\n",
        "  'MA_RR': 'RR',\n",
        "  'MB_SB': 'MB',\n",
        "  'MT_PL': 'PL',\n",
        "  'NC_WP': 'WP',\n",
        "  'OR_RR': 'OR',\n",
        "  'PH_WC': 'PH',\n",
        "  'SB_SO': 'SO',\n",
        "  'SB_SS': 'SB',\n",
        "  'SH_UC': 'SH'},\n",
        " 'WC': {'0': 'WC',\n",
        "  '12_19': '12',\n",
        "  '12_LM': 'LM',\n",
        "  '12_OW': 'OW',\n",
        "  '16_24': '24',\n",
        "  '16_CC': '16',\n",
        "  '19_MA': '19',\n",
        "  '24_GP': 'GP',\n",
        "  'AS_BK': 'BK',\n",
        "  'AS_MA': 'AS',\n",
        "  'BF_CV': 'CV',\n",
        "  'BF_HY': 'HY',\n",
        "  'BF_SL': 'BF',\n",
        "  'BK_NB': 'NB',\n",
        "  'BP_DC': 'DC',\n",
        "  'BP_GP': 'BP',\n",
        "  'CC_PL': 'CC',\n",
        "  'CL_FV': 'CL',\n",
        "  'CL_SL': 'SL',\n",
        "  'CM_DC': 'CM',\n",
        "  'CM_SS': 'SS',\n",
        "  'CN_NC': 'NC',\n",
        "  'CN_PH': 'CN',\n",
        "  'CV_ED': 'ED',\n",
        "  'EM_MT': 'MT',\n",
        "  'EM_OW': 'EM',\n",
        "  'EN_EP': 'EN',\n",
        "  'EN_RM': 'RM',\n",
        "  'EP_NB': 'EP',\n",
        "  'FM_UC': 'FM',\n",
        "  'FV_LM': 'FV',\n",
        "  'HY_SH': 'SH',\n",
        "  'LF_OR': 'OR',\n",
        "  'LF_WC': 'LF',\n",
        "  'MA_RR': 'MA',\n",
        "  'MB_SB': 'MB',\n",
        "  'MT_PL': 'PL',\n",
        "  'NC_WP': 'WP',\n",
        "  'OR_RR': 'RR',\n",
        "  'PH_WC': 'PH',\n",
        "  'SB_SO': 'SO',\n",
        "  'SB_SS': 'SB',\n",
        "  'SH_UC': 'UC'},\n",
        " 'WP': {'0': 'WP',\n",
        "  '12_19': '12',\n",
        "  '12_LM': 'LM',\n",
        "  '12_OW': 'OW',\n",
        "  '16_24': '24',\n",
        "  '16_CC': '16',\n",
        "  '19_MA': '19',\n",
        "  '24_GP': 'GP',\n",
        "  'AS_BK': 'BK',\n",
        "  'AS_MA': 'AS',\n",
        "  'BF_CV': 'CV',\n",
        "  'BF_HY': 'HY',\n",
        "  'BF_SL': 'BF',\n",
        "  'BK_NB': 'NB',\n",
        "  'BP_DC': 'DC',\n",
        "  'BP_GP': 'BP',\n",
        "  'CC_PL': 'CC',\n",
        "  'CL_FV': 'CL',\n",
        "  'CL_SL': 'SL',\n",
        "  'CM_DC': 'CM',\n",
        "  'CM_SS': 'SS',\n",
        "  'CN_NC': 'CN',\n",
        "  'CN_PH': 'PH',\n",
        "  'CV_ED': 'ED',\n",
        "  'EM_MT': 'MT',\n",
        "  'EM_OW': 'EM',\n",
        "  'EN_EP': 'EN',\n",
        "  'EN_RM': 'RM',\n",
        "  'EP_NB': 'EP',\n",
        "  'FM_UC': 'FM',\n",
        "  'FV_LM': 'FV',\n",
        "  'HY_SH': 'SH',\n",
        "  'LF_OR': 'OR',\n",
        "  'LF_WC': 'LF',\n",
        "  'MA_RR': 'MA',\n",
        "  'MB_SB': 'MB',\n",
        "  'MT_PL': 'PL',\n",
        "  'NC_WP': 'NC',\n",
        "  'OR_RR': 'RR',\n",
        "  'PH_WC': 'WC',\n",
        "  'SB_SO': 'SO',\n",
        "  'SB_SS': 'SB',\n",
        "  'SH_UC': 'UC'}}"
       ]
      }
     ],
     "prompt_number": 5
    },
    {
     "cell_type": "code",
     "collapsed": false,
     "input": [],
     "language": "python",
     "metadata": {},
     "outputs": []
    },
    {
     "cell_type": "code",
     "collapsed": false,
     "input": [
      "# source_st = 'RM'\n",
      "week_day = True\n",
      "time_period = 0\n",
      "# RM data: B3:B45\n",
      "# Destination stations: A3:A45\n",
      "# for row in ws.range('A1:C2'):\n",
      "# ...        for cell in row:\n",
      "# ...            print cell\n",
      "\n",
      "# structure for every station:\n",
      "# {<month year>:{ed_id:<edge id>, weight:<int> }}\n",
      "\n",
      "#i = 0\n",
      "\n",
      "\n",
      "\n",
      "# header = ['Source']\n",
      "# header.extend(edge_ids)\n",
      "\n",
      "# print header\n",
      "# print header\n",
      "station_index = list()\n",
      "all_data = dict()\n",
      "for source_st in station_list:\n",
      "    source_dict = dict()\n",
      "    child_nodes = dfs(source_st)\n",
      "    for year in years:\n",
      "        for month in months:\n",
      "            # print i\n",
      "            month_year = month+'_'+year\n",
      "            extension = '.xlsx'\n",
      "            file_name = 'ridership/'+month+' '+year+extension\n",
      "            print source_st+':'+file_name\n",
      "            work_book = load_workbook(filename = file_name)\n",
      "            sheet_name = 'Weekday OD'\n",
      "            cursed_months = [\"July\",\"August\",\"September\",\"October\",\"November\",\"December\"]\n",
      "            if int(year) < 2009:\n",
      "                sheet_name = 'Wkdy Adj OD'\n",
      "                if int(year) == 2008 and month in cursed_months:\n",
      "                    sheet_name = 'Weekday OD'\n",
      "            work_sheet = work_book[sheet_name]\n",
      "            station_index = [str(row[0].value) for row in work_sheet['A3':'A45']]\n",
      "            # TODO: remove hardcoding for source station\n",
      "            start_column_id = station_column_in_excel_file[source_st]+'3'\n",
      "            end_column_id = station_column_in_excel_file[source_st]+'45'\n",
      "            ridership_data = [row[0].value for row in work_sheet[start_column_id:end_column_id]]\n",
      "            aggregated_dist = dict()\n",
      "            # for every station find the aggregate and store it as a new row in a new csv\n",
      "            for st in station_index:\n",
      "                children_list = [st]\n",
      "                children_list.extend(child_nodes[st])\n",
      "                agg_dist = 0.00\n",
      "                for child in children_list:\n",
      "                    child_index = station_index.index(child)\n",
      "                    agg_dist += float(ridership_data[child_index])\n",
      "                aggregated_dist[st] = int(agg_dist)\n",
      "            # aggregated_distance_row = [source_st]\n",
      "            edge_list = list()\n",
      "            for edge in edge_ids:\n",
      "                station_name = edges_mapping[source_st].get(edge,'not-present')\n",
      "                edge_list.append({'ed_id':edge, 'weight':aggregated_dist.get(station_name,0)})\n",
      "                # edge_dict[edge] = aggregated_dist.get(station_name,0)\n",
      "                # aggregated_distance_row.append(aggregated_dist.get(station_name,0))\n",
      "            source_dict[month_year] = edge_list\n",
      "            #print aggregated_distance_row\n",
      "            #i += 1\n",
      "    all_data[source_st] = source_dict\n"
     ],
     "language": "python",
     "metadata": {},
     "outputs": []
    }
   ],
   "metadata": {}
  }
 ]
}