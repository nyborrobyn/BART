{
 "metadata": {
  "name": ""
 },
 "nbformat": 3,
 "nbformat_minor": 0,
 "worksheets": [
  {
   "cells": [
    {
     "cell_type": "code",
     "collapsed": false,
     "input": [
      "import csv"
     ],
     "language": "python",
     "metadata": {},
     "outputs": [],
     "prompt_number": 49
    },
    {
     "cell_type": "code",
     "collapsed": false,
     "input": [
      "station_graph = {\"WP\": [\"NC\"],\n",
      "  \"NC\": [\"WP\",\"CN\"],\n",
      "  \"CN\": [\"NC\",\"PH\"],\n",
      "  \"PH\":[\"CN\",\"WC\"],\n",
      "  \"WC\":[\"LF\",\"PH\"],\n",
      "  \"LF\":[\"WC\",\"OR\"],\n",
      "  \"OR\":[\"LF\",\"RR\"],\n",
      "  \"RR\":[\"OR\",\"MA\"],\n",
      "  \"MA\":[\"RR\",\"AS\",\"19\"],\n",
      "  \"AS\":[\"MA\",\"BK\"],\n",
      "  \"BK\":[\"NB\",\"AS\"],\n",
      "  \"NB\":[\"BK\",\"EP\"],\n",
      "  \"EP\":[\"NB\",\"EN\"],\n",
      "  \"EN\":[\"EP\",\"RM\"],\n",
      "  \"RM\":[\"EN\"],\n",
      "  \"19\":[\"MA\",\"12\"],\n",
      "  \"12\":[\"19\",\"OW\",\"LM\"],\n",
      "  \"OW\":[\"12\",\"LM\",\"EM\"],\n",
      "  \"EM\":[\"OW\",\"MT\"],\n",
      "  \"MT\":[\"EM\",\"PL\"],\n",
      "  \"PL\":[\"MT\",\"CC\"],\n",
      "  \"CC\":[\"PL\",\"16\"],\n",
      "  \"16\":[\"CC\",\"24\"],\n",
      "  \"24\":[\"16\",\"GP\"],\n",
      "  \"GP\":[\"BP\",\"24\"],\n",
      "  \"BP\":[\"GP\",\"DC\"],\n",
      "  \"DC\":[\"BP\",\"CM\"],\n",
      "  \"CM\":[\"DC\",\"SS\"],\n",
      "  \"SS\":[\"CM\",\"SB\"],\n",
      "  \"SB\":[\"MB\",\"SS\",\"SO\"],\n",
      "  \"MB\":[\"SB\"],\n",
      "  \"SO\":[\"SB\"],\n",
      "  \"LM\":[\"12\",\"OW\",\"FV\"],\n",
      "  \"FV\":[\"LM\",\"CL\"],\n",
      "  \"CL\":[\"FV\",\"SL\"],\n",
      "  \"SL\":[\"CL\",\"BF\"],\n",
      "  \"BF\":[\"SL\",\"HY\",\"CV\"],\n",
      "  \"CV\":[\"BF\",\"ED\"],\n",
      "  \"ED\":[\"CV\"],\n",
      "  \"HY\":[\"BF\",\"SH\"],\n",
      "  \"SH\":[\"HY\",\"UC\"],\n",
      "  \"UC\":[\"SH\",\"FM\"],\n",
      "  \"FM\":[\"UC\"]\n",
      "}\n",
      "\n",
      "edge_ids = ['12_19', '12_LM', '12_OW', '16_24', '16_CC', '19_MA', '24_GP', 'AS_BK', 'AS_MA', 'BF_CV', 'BF_HY', 'BF_SL', 'BK_NB', 'BP_DC', 'BP_GP', 'CC_PL', 'CL_FV', 'CL_SL', 'CM_DC', 'CM_SS', 'CN_NC', 'CN_PH', 'CV_ED', 'EM_MT', 'EM_OW', 'EN_EP', 'EN_RM', 'EP_NB', 'FM_UC', 'FV_LM', 'HY_SH', 'LF_OR', 'LF_WC', 'LM_OW', 'MA_RR', 'MB_SB', 'MB_SO', 'MT_PL', 'NC_WP', 'OR_RR', 'PH_WC', 'SB_SO', 'SB_SS', 'SH_UC']\n",
      "\n",
      "\n",
      "#  = ['EN_RM','EN_EP','EP_NB','BK_NB','AS_BK','AS_MA','19_MA','12_19','12_LM','FV_LM','CL_FV','CL_SL','BF_SL','BF_HY','HY_SH','SH_UC','FM_UC','CN_PH','PH_WC','LF_WC','LF_OR','OR_RR','MA_RR','12_OW','EM_OW','EM_MT','MT_PL','CC_PL','16_CC','16_24','24_GP','BP_GP','BP_DC','CM_DC','BF_CV','CV_ED','CN_NC','NC_WP','CM_SS','SB_SS','SB_SO','MB_SB']"
     ],
     "language": "python",
     "metadata": {},
     "outputs": [],
     "prompt_number": 50
    },
    {
     "cell_type": "code",
     "collapsed": false,
     "input": [
      "station_legs_mapping_file = 'station-leg-mapping.csv'\n",
      "\n",
      "edges_mapping = dict()\n",
      "\n",
      "temp_station_index = list()\n",
      "\n",
      "with open(station_legs_mapping_file, \"rb\") as csv_file:\n",
      "    data_reader = csv.reader(csv_file)\n",
      "    i = 0\n",
      "    for row in data_reader:\n",
      "        if i == 0:\n",
      "            temp_station_index = row[1:]\n",
      "        else:\n",
      "            source_st_id = row[0]\n",
      "            keys = row[1:]\n",
      "            edges_mapping[source_st_id] = dict(zip(keys, temp_station_index))\n",
      "        i += 1\n"
     ],
     "language": "python",
     "metadata": {},
     "outputs": [],
     "prompt_number": 51
    },
    {
     "cell_type": "code",
     "collapsed": false,
     "input": [
      "edges_mapping['RM']['12_19']\n",
      "# edge_ids[0]\n",
      "# station_graph['RM']"
     ],
     "language": "python",
     "metadata": {},
     "outputs": [
      {
       "metadata": {},
       "output_type": "pyout",
       "prompt_number": 52,
       "text": [
        "'12'"
       ]
      }
     ],
     "prompt_number": 52
    },
    {
     "cell_type": "code",
     "collapsed": false,
     "input": [
      "len(station_graph)"
     ],
     "language": "python",
     "metadata": {},
     "outputs": [
      {
       "metadata": {},
       "output_type": "pyout",
       "prompt_number": 53,
       "text": [
        "43"
       ]
      }
     ],
     "prompt_number": 53
    },
    {
     "cell_type": "code",
     "collapsed": false,
     "input": [
      "def dfs(source_st):\n",
      "    visited = dict()\n",
      "    all_children = dict()\n",
      "    def explore(v):\n",
      "        visited[v] = True\n",
      "        all_children[v] = list()\n",
      "        for u in station_graph[v]:\n",
      "            if visited.get(u, False) is False:\n",
      "                all_children[v].append(u)\n",
      "                children_of_u = explore(u)\n",
      "                all_children[v].extend(children_of_u)\n",
      "        return all_children[v]\n",
      "    explore(source_st)\n",
      "    return all_children"
     ],
     "language": "python",
     "metadata": {},
     "outputs": [],
     "prompt_number": 54
    },
    {
     "cell_type": "code",
     "collapsed": false,
     "input": [
      "st = dfs('RM')"
     ],
     "language": "python",
     "metadata": {},
     "outputs": [],
     "prompt_number": 55
    },
    {
     "cell_type": "code",
     "collapsed": false,
     "input": [
      "len(st['RM'])"
     ],
     "language": "python",
     "metadata": {},
     "outputs": [
      {
       "metadata": {},
       "output_type": "pyout",
       "prompt_number": 56,
       "text": [
        "42"
       ]
      }
     ],
     "prompt_number": 56
    },
    {
     "cell_type": "code",
     "collapsed": false,
     "input": [
      "# Once a source has been selected we can process the aggregated weight for each station!\n",
      "\n",
      "station_index = list()\n",
      "\n",
      "input_file = 'ridership_aug_2013.csv'\n",
      "output_file = 'aggregated_ridership_aug_2013.csv'\n",
      "\n",
      "with open(input_file, \"rb\") as csv_file:\n",
      "    data_reader = csv.reader(csv_file)\n",
      "    i = 0\n",
      "    \n",
      "    # output file\n",
      "    with open(output_file, 'wb') as csv_output_file:\n",
      "        aggregate_writer = csv.writer(csv_output_file)\n",
      "        for row in data_reader:\n",
      "            if i == 0:\n",
      "                # 1 store index for all stations in a array\n",
      "                station_index = row[1:]\n",
      "                header = ['Source']\n",
      "                header.extend(edge_ids)\n",
      "                aggregate_writer.writerow(header)\n",
      "            else:\n",
      "                # read source station and generate all_children dict\n",
      "                source_st = row[0]\n",
      "                child_nodes = dfs(source_st)\n",
      "                \n",
      "                aggregated_dist = dict()\n",
      "                # for every station find the aggregate and store it as a new row in a new csv\n",
      "                for st in station_index:\n",
      "                    children_list = [st]\n",
      "                    children_list.extend(child_nodes[st])\n",
      "                    agg_dist = 0.00\n",
      "                    for child in children_list:\n",
      "                        child_index = station_index.index(child)\n",
      "                        agg_dist += float(row[child_index + 1])\n",
      "                    aggregated_dist[st] = int(agg_dist)\n",
      "                aggregated_distance_row = [source_st]\n",
      "                for edge in edge_ids:\n",
      "                    station_name = edges_mapping[source_st].get(edge,'not-present')\n",
      "                    aggregated_distance_row.append(aggregated_dist.get(station_name,0))\n",
      "                aggregate_writer.writerow(aggregated_distance_row)\n",
      "            i += 1\n",
      "\n",
      "# create and use the edge names instead"
     ],
     "language": "python",
     "metadata": {},
     "outputs": [],
     "prompt_number": 57
    },
    {
     "cell_type": "code",
     "collapsed": false,
     "input": [
      "len(edges_mapping['LM'])\n",
      "\n",
      "# round(14.34,0)\n",
      "# int(14.653452345)"
     ],
     "language": "python",
     "metadata": {},
     "outputs": [
      {
       "metadata": {},
       "output_type": "pyout",
       "prompt_number": 58,
       "text": [
        "43"
       ]
      }
     ],
     "prompt_number": 58
    },
    {
     "cell_type": "markdown",
     "metadata": {},
     "source": [
      "# edge coordinates from station coordinates"
     ]
    },
    {
     "cell_type": "code",
     "collapsed": false,
     "input": [
      "st_coord_fl = \"station_coordinates.csv\"\n",
      "\n",
      "station_coordiantes = dict()\n",
      "with open(st_coord_fl, \"rb\") as csv_file:\n",
      "    data_reader = csv.reader(csv_file)\n",
      "    i = 0\n",
      "    for row in data_reader:\n",
      "        if i !=0:\n",
      "            station_coordiantes[row[0]] = [int(row[1]),int(row[2])]\n",
      "        i += 1"
     ],
     "language": "python",
     "metadata": {},
     "outputs": [],
     "prompt_number": 61
    },
    {
     "cell_type": "code",
     "collapsed": false,
     "input": [
      "edge_coord = dict()\n",
      "for edge in edge_ids:\n",
      "    st1 = edge[0:2]\n",
      "    st2 = edge[3:5]\n",
      "    coord = list()\n",
      "    coord.extend(station_coordiantes[st1])\n",
      "    coord.extend(station_coordiantes[st2])\n",
      "    edge_coord[edge] = coord"
     ],
     "language": "python",
     "metadata": {},
     "outputs": [],
     "prompt_number": 68
    },
    {
     "cell_type": "code",
     "collapsed": false,
     "input": [
      "k = 'ap_bp'\n",
      "k[0:2]"
     ],
     "language": "python",
     "metadata": {},
     "outputs": [
      {
       "metadata": {},
       "output_type": "pyout",
       "prompt_number": 64,
       "text": [
        "'ap'"
       ]
      }
     ],
     "prompt_number": 64
    },
    {
     "cell_type": "code",
     "collapsed": false,
     "input": [
      "k[3:5]"
     ],
     "language": "python",
     "metadata": {},
     "outputs": [
      {
       "metadata": {},
       "output_type": "pyout",
       "prompt_number": 67,
       "text": [
        "'bp'"
       ]
      }
     ],
     "prompt_number": 67
    },
    {
     "cell_type": "code",
     "collapsed": false,
     "input": [
      "edge_coord"
     ],
     "language": "python",
     "metadata": {},
     "outputs": [
      {
       "metadata": {},
       "output_type": "pyout",
       "prompt_number": 71,
       "text": [
        "{'12_19': [569, 376, 573, 352],\n",
        " '12_LM': [569, 376, 600, 467],\n",
        " '12_OW': [569, 376, 502, 400],\n",
        " '16_24': [366, 524, 352, 542],\n",
        " '16_CC': [366, 524, 379, 506],\n",
        " '19_MA': [573, 352, 574, 325],\n",
        " '24_GP': [352, 542, 340, 561],\n",
        " 'AS_BK': [560, 276, 543, 254],\n",
        " 'AS_MA': [560, 276, 574, 325],\n",
        " 'BF_CV': [728, 600, 832, 611],\n",
        " 'BF_HY': [728, 600, 793, 671],\n",
        " 'BF_SL': [728, 600, 694, 564],\n",
        " 'BK_NB': [543, 254, 525, 230],\n",
        " 'BP_DC': [320, 577, 306, 593],\n",
        " 'BP_GP': [320, 577, 340, 561],\n",
        " 'CC_PL': [379, 506, 388, 491],\n",
        " 'CL_FV': [665, 532, 631, 998],\n",
        " 'CL_SL': [665, 532, 694, 564],\n",
        " 'CM_DC': [301, 622, 306, 593],\n",
        " 'CM_SS': [301, 622, 323, 649],\n",
        " 'CN_NC': [895, 117, 954, 83],\n",
        " 'CN_PH': [895, 117, 842, 149],\n",
        " 'CV_ED': [832, 611, 936, 611],\n",
        " 'EM_MT': [410, 464, 400, 475],\n",
        " 'EM_OW': [410, 464, 502, 400],\n",
        " 'EN_EP': [481, 173, 503, 199],\n",
        " 'EN_RM': [481, 173, 468, 157],\n",
        " 'EP_NB': [503, 199, 525, 230],\n",
        " 'FM_UC': [954, 835, 895, 795],\n",
        " 'FV_LM': [631, 998, 600, 467],\n",
        " 'HY_SH': [793, 671, 837, 735],\n",
        " 'LF_OR': [730, 219, 675, 249],\n",
        " 'LF_WC': [730, 219, 786, 183],\n",
        " 'LM_OW': [600, 467, 502, 400],\n",
        " 'MA_RR': [574, 325, 623, 280],\n",
        " 'MB_SB': [414, 766, 347, 690],\n",
        " 'MB_SO': [414, 766, 405, 729],\n",
        " 'MT_PL': [400, 475, 388, 491],\n",
        " 'NC_WP': [954, 83, 1008, 50],\n",
        " 'OR_RR': [675, 249, 623, 280],\n",
        " 'PH_WC': [842, 149, 786, 183],\n",
        " 'SB_SO': [347, 690, 405, 729],\n",
        " 'SB_SS': [347, 690, 323, 649],\n",
        " 'SH_UC': [837, 735, 895, 795]}"
       ]
      }
     ],
     "prompt_number": 71
    },
    {
     "cell_type": "code",
     "collapsed": false,
     "input": [],
     "language": "python",
     "metadata": {},
     "outputs": []
    }
   ],
   "metadata": {}
  }
 ]
}