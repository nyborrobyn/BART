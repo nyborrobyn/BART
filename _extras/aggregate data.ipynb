{
 "metadata": {
  "name": ""
 },
 "nbformat": 3,
 "nbformat_minor": 0,
 "worksheets": [
  {
   "cells": [
    {
     "cell_type": "code",
     "collapsed": false,
     "input": [
      "import csv"
     ],
     "language": "python",
     "metadata": {},
     "outputs": [],
     "prompt_number": 49
    },
    {
     "cell_type": "code",
     "collapsed": false,
     "input": [
      "station_graph = {\"WP\": [\"NC\"],\n",
      "  \"NC\": [\"WP\",\"CN\"],\n",
      "  \"CN\": [\"NC\",\"PH\"],\n",
      "  \"PH\":[\"CN\",\"WC\"],\n",
      "  \"WC\":[\"LF\",\"PH\"],\n",
      "  \"LF\":[\"WC\",\"OR\"],\n",
      "  \"OR\":[\"LF\",\"RR\"],\n",
      "  \"RR\":[\"OR\",\"MA\"],\n",
      "  \"MA\":[\"RR\",\"AS\",\"19\"],\n",
      "  \"AS\":[\"MA\",\"BK\"],\n",
      "  \"BK\":[\"NB\",\"AS\"],\n",
      "  \"NB\":[\"BK\",\"EP\"],\n",
      "  \"EP\":[\"NB\",\"EN\"],\n",
      "  \"EN\":[\"EP\",\"RM\"],\n",
      "  \"RM\":[\"EN\"],\n",
      "  \"19\":[\"MA\",\"12\"],\n",
      "  \"12\":[\"19\",\"OW\",\"LM\"],\n",
      "  \"OW\":[\"12\",\"LM\",\"EM\"],\n",
      "  \"EM\":[\"OW\",\"MT\"],\n",
      "  \"MT\":[\"EM\",\"PL\"],\n",
      "  \"PL\":[\"MT\",\"CC\"],\n",
      "  \"CC\":[\"PL\",\"16\"],\n",
      "  \"16\":[\"CC\",\"24\"],\n",
      "  \"24\":[\"16\",\"GP\"],\n",
      "  \"GP\":[\"BP\",\"24\"],\n",
      "  \"BP\":[\"GP\",\"DC\"],\n",
      "  \"DC\":[\"BP\",\"CM\"],\n",
      "  \"CM\":[\"DC\",\"SS\"],\n",
      "  \"SS\":[\"CM\",\"SB\"],\n",
      "  \"SB\":[\"MB\",\"SS\",\"SO\"],\n",
      "  \"MB\":[\"SB\"],\n",
      "  \"SO\":[\"SB\"],\n",
      "  \"LM\":[\"12\",\"OW\",\"FV\"],\n",
      "  \"FV\":[\"LM\",\"CL\"],\n",
      "  \"CL\":[\"FV\",\"SL\"],\n",
      "  \"SL\":[\"CL\",\"BF\"],\n",
      "  \"BF\":[\"SL\",\"HY\",\"CV\"],\n",
      "  \"CV\":[\"BF\",\"ED\"],\n",
      "  \"ED\":[\"CV\"],\n",
      "  \"HY\":[\"BF\",\"SH\"],\n",
      "  \"SH\":[\"HY\",\"UC\"],\n",
      "  \"UC\":[\"SH\",\"FM\"],\n",
      "  \"FM\":[\"UC\"]\n",
      "}\n",
      "\n",
      "edge_ids = ['12_19', '12_LM', '12_OW', '16_24', '16_CC', '19_MA', '24_GP', 'AS_BK', 'AS_MA', 'BF_CV', 'BF_HY', 'BF_SL', 'BK_NB', 'BP_DC', 'BP_GP', 'CC_PL', 'CL_FV', 'CL_SL', 'CM_DC', 'CM_SS', 'CN_NC', 'CN_PH', 'CV_ED', 'EM_MT', 'EM_OW', 'EN_EP', 'EN_RM', 'EP_NB', 'FM_UC', 'FV_LM', 'HY_SH', 'LF_OR', 'LF_WC', 'LM_OW', 'MA_RR', 'MB_SB', 'MB_SO', 'MT_PL', 'NC_WP', 'OR_RR', 'PH_WC', 'SB_SO', 'SB_SS', 'SH_UC']\n",
      "\n",
      "\n",
      "#  = ['EN_RM','EN_EP','EP_NB','BK_NB','AS_BK','AS_MA','19_MA','12_19','12_LM','FV_LM','CL_FV','CL_SL','BF_SL','BF_HY','HY_SH','SH_UC','FM_UC','CN_PH','PH_WC','LF_WC','LF_OR','OR_RR','MA_RR','12_OW','EM_OW','EM_MT','MT_PL','CC_PL','16_CC','16_24','24_GP','BP_GP','BP_DC','CM_DC','BF_CV','CV_ED','CN_NC','NC_WP','CM_SS','SB_SS','SB_SO','MB_SB']"
     ],
     "language": "python",
     "metadata": {},
     "outputs": [],
     "prompt_number": 50
    },
    {
     "cell_type": "code",
     "collapsed": false,
     "input": [
      "station_legs_mapping_file = 'station-leg-mapping.csv'\n",
      "\n",
      "edges_mapping = dict()\n",
      "\n",
      "temp_station_index = list()\n",
      "\n",
      "with open(station_legs_mapping_file, \"rb\") as csv_file:\n",
      "    data_reader = csv.reader(csv_file)\n",
      "    i = 0\n",
      "    for row in data_reader:\n",
      "        if i == 0:\n",
      "            temp_station_index = row[1:]\n",
      "        else:\n",
      "            source_st_id = row[0]\n",
      "            keys = row[1:]\n",
      "            edges_mapping[source_st_id] = dict(zip(keys, temp_station_index))\n",
      "        i += 1\n"
     ],
     "language": "python",
     "metadata": {},
     "outputs": [],
     "prompt_number": 51
    },
    {
     "cell_type": "code",
     "collapsed": false,
     "input": [
      "edges_mapping['RM']['12_19']\n",
      "# edge_ids[0]\n",
      "# station_graph['RM']"
     ],
     "language": "python",
     "metadata": {},
     "outputs": [
      {
       "metadata": {},
       "output_type": "pyout",
       "prompt_number": 52,
       "text": [
        "'12'"
       ]
      }
     ],
     "prompt_number": 52
    },
    {
     "cell_type": "code",
     "collapsed": false,
     "input": [
      "len(station_graph)"
     ],
     "language": "python",
     "metadata": {},
     "outputs": [
      {
       "metadata": {},
       "output_type": "pyout",
       "prompt_number": 53,
       "text": [
        "43"
       ]
      }
     ],
     "prompt_number": 53
    },
    {
     "cell_type": "code",
     "collapsed": false,
     "input": [
      "def dfs(source_st):\n",
      "    visited = dict()\n",
      "    all_children = dict()\n",
      "    def explore(v):\n",
      "        visited[v] = True\n",
      "        all_children[v] = list()\n",
      "        for u in station_graph[v]:\n",
      "            if visited.get(u, False) is False:\n",
      "                all_children[v].append(u)\n",
      "                children_of_u = explore(u)\n",
      "                all_children[v].extend(children_of_u)\n",
      "        return all_children[v]\n",
      "    explore(source_st)\n",
      "    return all_children"
     ],
     "language": "python",
     "metadata": {},
     "outputs": [],
     "prompt_number": 54
    },
    {
     "cell_type": "code",
     "collapsed": false,
     "input": [
      "st = dfs('RM')"
     ],
     "language": "python",
     "metadata": {},
     "outputs": [],
     "prompt_number": 55
    },
    {
     "cell_type": "code",
     "collapsed": false,
     "input": [
      "len(st['RM'])"
     ],
     "language": "python",
     "metadata": {},
     "outputs": [
      {
       "metadata": {},
       "output_type": "pyout",
       "prompt_number": 56,
       "text": [
        "42"
       ]
      }
     ],
     "prompt_number": 56
    },
    {
     "cell_type": "code",
     "collapsed": false,
     "input": [
      "# Once a source has been selected we can process the aggregated weight for each station!\n",
      "\n",
      "station_index = list()\n",
      "\n",
      "input_file = 'ridership_aug_2013.csv'\n",
      "output_file = 'aggregated_ridership_aug_2013.csv'\n",
      "\n",
      "with open(input_file, \"rb\") as csv_file:\n",
      "    data_reader = csv.reader(csv_file)\n",
      "    i = 0\n",
      "    \n",
      "    # output file\n",
      "    with open(output_file, 'wb') as csv_output_file:\n",
      "        aggregate_writer = csv.writer(csv_output_file)\n",
      "        for row in data_reader:\n",
      "            if i == 0:\n",
      "                # 1 store index for all stations in a array\n",
      "                station_index = row[1:]\n",
      "                header = ['Source']\n",
      "                header.extend(edge_ids)\n",
      "                aggregate_writer.writerow(header)\n",
      "            else:\n",
      "                # read source station and generate all_children dict\n",
      "                source_st = row[0]\n",
      "                child_nodes = dfs(source_st)\n",
      "                \n",
      "                aggregated_dist = dict()\n",
      "                # for every station find the aggregate and store it as a new row in a new csv\n",
      "                for st in station_index:\n",
      "                    children_list = [st]\n",
      "                    children_list.extend(child_nodes[st])\n",
      "                    agg_dist = 0.00\n",
      "                    for child in children_list:\n",
      "                        child_index = station_index.index(child)\n",
      "                        agg_dist += float(row[child_index + 1])\n",
      "                    aggregated_dist[st] = int(agg_dist)\n",
      "                aggregated_distance_row = [source_st]\n",
      "                for edge in edge_ids:\n",
      "                    station_name = edges_mapping[source_st].get(edge,'not-present')\n",
      "                    aggregated_distance_row.append(aggregated_dist.get(station_name,0))\n",
      "                aggregate_writer.writerow(aggregated_distance_row)\n",
      "            i += 1\n",
      "\n",
      "# create and use the edge names instead"
     ],
     "language": "python",
     "metadata": {},
     "outputs": [],
     "prompt_number": 57
    },
    {
     "cell_type": "code",
     "collapsed": false,
     "input": [
      "len(edges_mapping['LM'])\n",
      "\n",
      "# round(14.34,0)\n",
      "# int(14.653452345)"
     ],
     "language": "python",
     "metadata": {},
     "outputs": [
      {
       "metadata": {},
       "output_type": "pyout",
       "prompt_number": 48,
       "text": [
        "43"
       ]
      }
     ],
     "prompt_number": 48
    },
    {
     "cell_type": "code",
     "collapsed": false,
     "input": [
      "all_children['WD']"
     ],
     "language": "python",
     "metadata": {},
     "outputs": [
      {
       "metadata": {},
       "output_type": "pyout",
       "prompt_number": 22,
       "text": [
        "[]"
       ]
      }
     ],
     "prompt_number": 22
    },
    {
     "cell_type": "code",
     "collapsed": false,
     "input": [
      "\n",
      "    tweet_writer = csv.writer(csv_output_file, delimiter='|', quotechar='\\\\')\n",
      "    column_titles = ['tweet_id', 'user_id', 'text', 'truncated', 'year', 'month', 'day', 'HH', 'MM', 'SS',\n",
      "                     'favorited', 'favorite count', 'retweet count',\n",
      "                     'geo', 'place', 'location', 'coordinates',\n",
      "                     'lang', 'source', 'in reply to screen name', 'in reply to user id', 'in reply to status id',\n",
      "                     'urls', 'user mentions', 'hash tags']\n",
      "    tweet_writer.writerow(column_titles)\n"
     ],
     "language": "python",
     "metadata": {},
     "outputs": []
    },
    {
     "cell_type": "code",
     "collapsed": false,
     "input": [],
     "language": "python",
     "metadata": {},
     "outputs": []
    },
    {
     "cell_type": "code",
     "collapsed": false,
     "input": [
      "li = ['b','a']\n",
      "li.index('a')"
     ],
     "language": "python",
     "metadata": {},
     "outputs": [
      {
       "metadata": {},
       "output_type": "pyout",
       "prompt_number": 11,
       "text": [
        "1"
       ]
      }
     ],
     "prompt_number": 11
    },
    {
     "cell_type": "code",
     "collapsed": false,
     "input": [
      "# all_children['WD']"
     ],
     "language": "python",
     "metadata": {},
     "outputs": [
      {
       "ename": "KeyError",
       "evalue": "'WD'",
       "output_type": "pyerr",
       "traceback": [
        "\u001b[0;31m---------------------------------------------------------------------------\u001b[0m\n\u001b[0;31mKeyError\u001b[0m                                  Traceback (most recent call last)",
        "\u001b[0;32m<ipython-input-19-3600d645a7da>\u001b[0m in \u001b[0;36m<module>\u001b[0;34m()\u001b[0m\n\u001b[0;32m----> 1\u001b[0;31m \u001b[0mall_children\u001b[0m\u001b[0;34m[\u001b[0m\u001b[0;34m'WD'\u001b[0m\u001b[0;34m]\u001b[0m\u001b[0;34m\u001b[0m\u001b[0m\n\u001b[0m",
        "\u001b[0;31mKeyError\u001b[0m: 'WD'"
       ]
      }
     ],
     "prompt_number": 19
    },
    {
     "cell_type": "code",
     "collapsed": false,
     "input": [
      "di = {0:10,'5':20}"
     ],
     "language": "python",
     "metadata": {},
     "outputs": [],
     "prompt_number": 8
    },
    {
     "cell_type": "code",
     "collapsed": false,
     "input": [
      "di['5']"
     ],
     "language": "python",
     "metadata": {},
     "outputs": [
      {
       "metadata": {},
       "output_type": "pyout",
       "prompt_number": 11,
       "text": [
        "20"
       ]
      }
     ],
     "prompt_number": 11
    },
    {
     "cell_type": "code",
     "collapsed": false,
     "input": [
      "di.keys()"
     ],
     "language": "python",
     "metadata": {},
     "outputs": [
      {
       "metadata": {},
       "output_type": "pyout",
       "prompt_number": 12,
       "text": [
        "[0, '5']"
       ]
      }
     ],
     "prompt_number": 12
    },
    {
     "cell_type": "code",
     "collapsed": false,
     "input": [],
     "language": "python",
     "metadata": {},
     "outputs": []
    }
   ],
   "metadata": {}
  }
 ]
}