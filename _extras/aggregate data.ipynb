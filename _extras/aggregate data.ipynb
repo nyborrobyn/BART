{
 "metadata": {
  "name": ""
 },
 "nbformat": 3,
 "nbformat_minor": 0,
 "worksheets": [
  {
   "cells": [
    {
     "cell_type": "code",
     "collapsed": false,
     "input": [
      "import csv"
     ],
     "language": "python",
     "metadata": {},
     "outputs": [],
     "prompt_number": 36
    },
    {
     "cell_type": "code",
     "collapsed": false,
     "input": [
      "station_graph = {\"WP\": [\"NC\"],\n",
      "  \"NC\": [\"WP\",\"CN\"],\n",
      "  \"CN\": [\"NC\",\"PH\"],\n",
      "  \"PH\":[\"CN\",\"WC\"],\n",
      "  \"WC\":[\"LF\",\"PH\"],\n",
      "  \"LF\":[\"WC\",\"OR\"],\n",
      "  \"OR\":[\"LF\",\"RR\"],\n",
      "  \"RR\":[\"OR\",\"MA\"],\n",
      "  \"MA\":[\"RR\",\"AS\",\"19\"],\n",
      "  \"AS\":[\"MA\",\"BK\"],\n",
      "  \"BK\":[\"NB\",\"AS\"],\n",
      "  \"NB\":[\"BK\",\"EP\"],\n",
      "  \"EP\":[\"NB\",\"EN\"],\n",
      "  \"EN\":[\"EP\",\"RM\"],\n",
      "  \"RM\":[\"EN\"],\n",
      "  \"19\":[\"MA\",\"12\"],\n",
      "  \"12\":[\"19\",\"OW\",\"LM\"],\n",
      "  \"OW\":[\"12\",\"LM\",\"EM\"],\n",
      "  \"EM\":[\"OW\",\"MT\"],\n",
      "  \"MT\":[\"EM\",\"PL\"],\n",
      "  \"PL\":[\"MT\",\"CC\"],\n",
      "  \"CC\":[\"PL\",\"16\"],\n",
      "  \"16\":[\"CC\",\"24\"],\n",
      "  \"24\":[\"16\",\"GP\"],\n",
      "  \"GP\":[\"BP\",\"24\"],\n",
      "  \"BP\":[\"GP\",\"DC\"],\n",
      "  \"DC\":[\"BP\",\"CM\"],\n",
      "  \"CM\":[\"DC\",\"SS\"],\n",
      "  \"SS\":[\"CM\",\"SB\"],\n",
      "  \"SB\":[\"MB\",\"SS\",\"SO\"],\n",
      "  \"MB\":[\"SB\"],\n",
      "  \"SO\":[\"SB\"],\n",
      "  \"LM\":[\"12\",\"OW\",\"FV\"],\n",
      "  \"FV\":[\"LM\",\"CL\"],\n",
      "  \"CL\":[\"FV\",\"SL\"],\n",
      "  \"SL\":[\"CL\",\"BF\"],\n",
      "  \"BF\":[\"SL\",\"HY\",\"CV\"],\n",
      "  \"CV\":[\"BF\",\"ED\"],\n",
      "  \"ED\":[\"CV\"],\n",
      "  \"HY\":[\"BF\",\"SH\"],\n",
      "  \"SH\":[\"HY\",\"UC\"],\n",
      "  \"UC\":[\"SH\",\"FM\"],\n",
      "  \"FM\":[\"UC\"]\n",
      "}\n"
     ],
     "language": "python",
     "metadata": {},
     "outputs": [],
     "prompt_number": 37
    },
    {
     "cell_type": "code",
     "collapsed": false,
     "input": [
      "station_graph['RM']"
     ],
     "language": "python",
     "metadata": {},
     "outputs": [
      {
       "metadata": {},
       "output_type": "pyout",
       "prompt_number": 38,
       "text": [
        "['EN']"
       ]
      }
     ],
     "prompt_number": 38
    },
    {
     "cell_type": "code",
     "collapsed": false,
     "input": [
      "len(station_graph)"
     ],
     "language": "python",
     "metadata": {},
     "outputs": [
      {
       "metadata": {},
       "output_type": "pyout",
       "prompt_number": 44,
       "text": [
        "43"
       ]
      }
     ],
     "prompt_number": 44
    },
    {
     "cell_type": "code",
     "collapsed": false,
     "input": [
      "def dfs(source_st):\n",
      "    visited = dict()\n",
      "    all_children = dict()\n",
      "    def explore(v):\n",
      "        visited[v] = True\n",
      "        all_children[v] = list()\n",
      "        for u in station_graph[v]:\n",
      "            if visited.get(u, False) is False:\n",
      "                all_children[v].append(u)\n",
      "                children_of_u = explore(u)\n",
      "                all_children[v].extend(children_of_u)\n",
      "        return all_children[v]\n",
      "    explore(source_st)\n",
      "    return all_children"
     ],
     "language": "python",
     "metadata": {},
     "outputs": [],
     "prompt_number": 45
    },
    {
     "cell_type": "code",
     "collapsed": false,
     "input": [
      "st = dfs('RM')"
     ],
     "language": "python",
     "metadata": {},
     "outputs": [],
     "prompt_number": 46
    },
    {
     "cell_type": "code",
     "collapsed": false,
     "input": [
      "len(st['RM'])"
     ],
     "language": "python",
     "metadata": {},
     "outputs": [
      {
       "metadata": {},
       "output_type": "pyout",
       "prompt_number": 47,
       "text": [
        "42"
       ]
      }
     ],
     "prompt_number": 47
    },
    {
     "cell_type": "code",
     "collapsed": false,
     "input": [
      "# Once a source has been selected we can process the aggregated weight for each station!\n",
      "\n",
      "station_index = list()\n",
      "\n",
      "input_file = 'ridership_aug_2013.csv'\n",
      "output_file = 'aggregated_ridership_aug_2013.csv'\n",
      "\n",
      "with open(input_file, \"rb\") as csv_file:\n",
      "    data_reader = csv.reader(csv_file)\n",
      "    i = 0\n",
      "    \n",
      "    # output file\n",
      "    with open(output_file, 'wb') as csv_output_file:\n",
      "        aggregate_writer = csv.writer(csv_output_file)\n",
      "        for row in data_reader:\n",
      "            if i == 0:\n",
      "                # 1 store index for all stations in a array\n",
      "                station_index = row[1:]\n",
      "                aggregate_writer.writerow(row)\n",
      "            else:\n",
      "                # read source station and generate all_children dict\n",
      "                source_st = row[0]\n",
      "                child_nodes = dfs(source_st)\n",
      "                aggregated_distances = [source_st]\n",
      "                # for every station find the aggregate and store it as a new row in a new csv\n",
      "                for st in station_index:\n",
      "                    children_list = [st]\n",
      "                    children_list.extend(child_nodes[st])\n",
      "                    agg_dist = 0.00\n",
      "                    for child in children_list:\n",
      "                        child_index = station_index.index(child)\n",
      "                        agg_dist += float(row[child_index + 1])\n",
      "                    aggregated_distances.append(agg_dist)\n",
      "                aggregate_writer.writerow(aggregated_distances)\n",
      "            i += 1"
     ],
     "language": "python",
     "metadata": {},
     "outputs": [],
     "prompt_number": 53
    },
    {
     "cell_type": "code",
     "collapsed": false,
     "input": [
      "# round(14.34,0)\n",
      "int(14.653452345)"
     ],
     "language": "python",
     "metadata": {},
     "outputs": [
      {
       "metadata": {},
       "output_type": "pyout",
       "prompt_number": 62,
       "text": [
        "14"
       ]
      }
     ],
     "prompt_number": 62
    },
    {
     "cell_type": "code",
     "collapsed": false,
     "input": [
      "all_children['WD']"
     ],
     "language": "python",
     "metadata": {},
     "outputs": [
      {
       "metadata": {},
       "output_type": "pyout",
       "prompt_number": 22,
       "text": [
        "[]"
       ]
      }
     ],
     "prompt_number": 22
    },
    {
     "cell_type": "code",
     "collapsed": false,
     "input": [
      "\n",
      "    tweet_writer = csv.writer(csv_output_file, delimiter='|', quotechar='\\\\')\n",
      "    column_titles = ['tweet_id', 'user_id', 'text', 'truncated', 'year', 'month', 'day', 'HH', 'MM', 'SS',\n",
      "                     'favorited', 'favorite count', 'retweet count',\n",
      "                     'geo', 'place', 'location', 'coordinates',\n",
      "                     'lang', 'source', 'in reply to screen name', 'in reply to user id', 'in reply to status id',\n",
      "                     'urls', 'user mentions', 'hash tags']\n",
      "    tweet_writer.writerow(column_titles)\n"
     ],
     "language": "python",
     "metadata": {},
     "outputs": []
    },
    {
     "cell_type": "code",
     "collapsed": false,
     "input": [],
     "language": "python",
     "metadata": {},
     "outputs": []
    },
    {
     "cell_type": "code",
     "collapsed": false,
     "input": [
      "li = ['b','a']\n",
      "li.index('a')"
     ],
     "language": "python",
     "metadata": {},
     "outputs": [
      {
       "metadata": {},
       "output_type": "pyout",
       "prompt_number": 11,
       "text": [
        "1"
       ]
      }
     ],
     "prompt_number": 11
    },
    {
     "cell_type": "code",
     "collapsed": false,
     "input": [
      "# all_children['WD']"
     ],
     "language": "python",
     "metadata": {},
     "outputs": [
      {
       "ename": "KeyError",
       "evalue": "'WD'",
       "output_type": "pyerr",
       "traceback": [
        "\u001b[0;31m---------------------------------------------------------------------------\u001b[0m\n\u001b[0;31mKeyError\u001b[0m                                  Traceback (most recent call last)",
        "\u001b[0;32m<ipython-input-19-3600d645a7da>\u001b[0m in \u001b[0;36m<module>\u001b[0;34m()\u001b[0m\n\u001b[0;32m----> 1\u001b[0;31m \u001b[0mall_children\u001b[0m\u001b[0;34m[\u001b[0m\u001b[0;34m'WD'\u001b[0m\u001b[0;34m]\u001b[0m\u001b[0;34m\u001b[0m\u001b[0m\n\u001b[0m",
        "\u001b[0;31mKeyError\u001b[0m: 'WD'"
       ]
      }
     ],
     "prompt_number": 19
    },
    {
     "cell_type": "code",
     "collapsed": false,
     "input": [],
     "language": "python",
     "metadata": {},
     "outputs": []
    }
   ],
   "metadata": {}
  }
 ]
}